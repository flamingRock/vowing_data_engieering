{
 "cells": [
  {
   "cell_type": "markdown",
   "id": "8c53fbc0",
   "metadata": {},
   "source": [
    "# Import 문"
   ]
  },
  {
   "cell_type": "code",
   "execution_count": 30,
   "id": "cebf26b2",
   "metadata": {
    "ExecuteTime": {
     "end_time": "2023-10-23T23:07:26.645286Z",
     "start_time": "2023-10-23T23:07:25.769089Z"
    },
    "execution": {
     "iopub.execute_input": "2023-11-08T07:31:01.424129Z",
     "iopub.status.busy": "2023-11-08T07:31:01.424129Z",
     "iopub.status.idle": "2023-11-08T07:31:01.430129Z",
     "shell.execute_reply": "2023-11-08T07:31:01.430129Z",
     "shell.execute_reply.started": "2023-11-08T07:31:01.424129Z"
    },
    "tags": []
   },
   "outputs": [],
   "source": [
    "import os\n",
    "import pandas as pd\n",
    "import re  # Python 정규 표현식 모듈 추가(Regular Expression)\n",
    "\n",
    "from pyspark import SparkConf, SparkContext\n",
    "from pyspark import StorageLevel  # 스토리지 레벨을 지정해 데이터의 저장 방식을 조정\n",
    "from pyspark.sql import SparkSession\n",
    "from pyspark.sql import functions as F\n",
    "from pyspark.sql import types as T\n",
    "from pyspark.sql import Window\n",
    "from pyspark.sql.functions import (\n",
    "    monotonically_increasing_id, broadcast, udf, col, isnull, count, when, substring, coalesce, \n",
    "    from_json, size, avg, expr, concat_ws, lpad\n",
    ")\n",
    "from pyspark.sql.types import ArrayType, StringType, DoubleType, IntegerType\n",
    "from functools import reduce\n",
    "from operator import or_\n",
    "from datetime import datetime"
   ]
  },
  {
   "cell_type": "code",
   "execution_count": 2,
   "id": "ddcd4fc7",
   "metadata": {
    "ExecuteTime": {
     "end_time": "2023-10-23T23:07:26.661290Z",
     "start_time": "2023-10-23T23:07:26.646288Z"
    },
    "execution": {
     "iopub.execute_input": "2023-11-08T06:08:37.701197Z",
     "iopub.status.busy": "2023-11-08T06:08:37.701197Z",
     "iopub.status.idle": "2023-11-08T06:08:37.708198Z",
     "shell.execute_reply": "2023-11-08T06:08:37.708198Z",
     "shell.execute_reply.started": "2023-11-08T06:08:37.701197Z"
    },
    "tags": []
   },
   "outputs": [],
   "source": [
    "# 재시도 로직 관련 전역 변수\n",
    "MAX_RETRIES = 3\n",
    "DELAY_BETWEEN_RETRIES = 3  # in seconds"
   ]
  },
  {
   "cell_type": "markdown",
   "id": "95030cf8",
   "metadata": {},
   "source": [
    "# 데이터 가져오기"
   ]
  },
  {
   "cell_type": "markdown",
   "id": "1d31f256",
   "metadata": {},
   "source": [
    "## Python 경로 지정 / Spark 세션 설정 및 생성"
   ]
  },
  {
   "cell_type": "code",
   "execution_count": 3,
   "id": "32522b19",
   "metadata": {
    "ExecuteTime": {
     "end_time": "2023-10-23T23:07:34.721523Z",
     "start_time": "2023-10-23T23:07:26.663291Z"
    },
    "execution": {
     "iopub.execute_input": "2023-11-08T06:08:41.955319Z",
     "iopub.status.busy": "2023-11-08T06:08:41.955319Z",
     "iopub.status.idle": "2023-11-08T06:08:49.036242Z",
     "shell.execute_reply": "2023-11-08T06:08:49.036192Z",
     "shell.execute_reply.started": "2023-11-08T06:08:41.955319Z"
    },
    "tags": []
   },
   "outputs": [],
   "source": [
    "# 가상 환경의 Python 경로를 지정\n",
    "python_path = \"C:/Users/admin/anaconda3/envs/my_conda_01/python.exe\"\n",
    "\n",
    "# # JVM 힙 메모리 재설정\n",
    "# conf = (SparkConf()\n",
    "#          .set(\"spark.driver.extraJavaOptions\", \"-Xmx9g -Xms2g\")\n",
    "#          .set(\"spark.executor.extraJavaOptions\", \"-Xmx9g -Xms2g\"))\n",
    "\n",
    "# Spark 세션 생성\n",
    "spark = SparkSession.builder \\\n",
    "    .appName(\"voice_metadata integrating operation\") \\\n",
    "    .config(\"spark.driver.memory\", \"12g\") \\\n",
    "    .config(\"spark.executor.memory\", \"12g\") \\\n",
    "    .config(\"spark.driver.maxResultSize\", \"10g\") \\\n",
    "    .config(\"spark.pyspark.python\", python_path) \\\n",
    "    .config(\"spark.local.dir\", \"D:/spark_tmp\") \\\n",
    "    .config(\"spark.executor.extraJavaOptions\", \"-XX:+UseG1GC\") \\\n",
    "    .config(\"spark.driver.extraJavaOptions\", \"-XX:+UseG1GC\") \\\n",
    "    .config(\"spark.dynamicAllocation.enabled\", \"true\") \\\n",
    "    .getOrCreate()\n",
    "\n",
    "# SparkContext 가져오기\n",
    "sc = spark.sparkContext"
   ]
  },
  {
   "cell_type": "code",
   "execution_count": 4,
   "id": "b8220f5c",
   "metadata": {
    "ExecuteTime": {
     "end_time": "2023-10-23T23:07:35.385121Z",
     "start_time": "2023-10-23T23:07:34.723523Z"
    },
    "execution": {
     "iopub.execute_input": "2023-11-08T06:08:53.145339Z",
     "iopub.status.busy": "2023-11-08T06:08:53.145339Z",
     "iopub.status.idle": "2023-11-08T06:08:53.692405Z",
     "shell.execute_reply": "2023-11-08T06:08:53.691404Z",
     "shell.execute_reply.started": "2023-11-08T06:08:53.145339Z"
    },
    "tags": []
   },
   "outputs": [
    {
     "name": "stdout",
     "output_type": "stream",
     "text": [
      "Spark local directory: D:/spark_tmp\n"
     ]
    }
   ],
   "source": [
    "# Spark 중간 파일이 저장되는 경로 확인\n",
    "current_spark_local_dir = spark.conf.get(\"spark.local.dir\", \"Not Set\")\n",
    "print(\"Spark local directory:\", current_spark_local_dir)"
   ]
  },
  {
   "cell_type": "code",
   "execution_count": 5,
   "id": "909620e1",
   "metadata": {
    "ExecuteTime": {
     "end_time": "2023-10-23T23:07:35.433131Z",
     "start_time": "2023-10-23T23:07:35.387121Z"
    },
    "execution": {
     "iopub.execute_input": "2023-11-08T06:09:02.329956Z",
     "iopub.status.busy": "2023-11-08T06:09:02.329956Z",
     "iopub.status.idle": "2023-11-08T06:09:02.360048Z",
     "shell.execute_reply": "2023-11-08T06:09:02.360048Z",
     "shell.execute_reply.started": "2023-11-08T06:09:02.329956Z"
    },
    "tags": []
   },
   "outputs": [
    {
     "data": {
      "text/plain": [
       "[('spark.app.name', 'voice_metadata integrating operation'),\n",
       " ('spark.local.dir', 'D:/spark_tmp'),\n",
       " ('spark.executor.extraJavaOptions',\n",
       "  '-Djava.net.preferIPv6Addresses=false -XX:+IgnoreUnrecognizedVMOptions --add-opens=java.base/java.lang=ALL-UNNAMED --add-opens=java.base/java.lang.invoke=ALL-UNNAMED --add-opens=java.base/java.lang.reflect=ALL-UNNAMED --add-opens=java.base/java.io=ALL-UNNAMED --add-opens=java.base/java.net=ALL-UNNAMED --add-opens=java.base/java.nio=ALL-UNNAMED --add-opens=java.base/java.util=ALL-UNNAMED --add-opens=java.base/java.util.concurrent=ALL-UNNAMED --add-opens=java.base/java.util.concurrent.atomic=ALL-UNNAMED --add-opens=java.base/sun.nio.ch=ALL-UNNAMED --add-opens=java.base/sun.nio.cs=ALL-UNNAMED --add-opens=java.base/sun.security.action=ALL-UNNAMED --add-opens=java.base/sun.util.calendar=ALL-UNNAMED --add-opens=java.security.jgss/sun.security.krb5=ALL-UNNAMED -Djdk.reflect.useDirectMethodHandle=false -XX:+UseG1GC'),\n",
       " ('spark.app.id', 'local-1699423728710'),\n",
       " ('spark.driver.memory', '12g'),\n",
       " ('spark.app.submitTime', '1699423727837'),\n",
       " ('spark.executor.id', 'driver'),\n",
       " ('spark.sql.warehouse.dir',\n",
       "  'file:/D:/vowing_data_engineering/spark-warehouse'),\n",
       " ('spark.executor.memory', '12g'),\n",
       " ('spark.driver.maxResultSize', '10g'),\n",
       " ('spark.app.startTime', '1699423727974'),\n",
       " ('spark.rdd.compress', 'True'),\n",
       " ('spark.serializer.objectStreamReset', '100'),\n",
       " ('spark.master', 'local[*]'),\n",
       " ('spark.driver.port', '65043'),\n",
       " ('spark.submit.pyFiles', ''),\n",
       " ('spark.submit.deployMode', 'client'),\n",
       " ('spark.pyspark.python',\n",
       "  'C:/Users/admin/anaconda3/envs/my_conda_01/python.exe'),\n",
       " ('spark.dynamicAllocation.enabled', 'true'),\n",
       " ('spark.driver.extraJavaOptions',\n",
       "  '-Djava.net.preferIPv6Addresses=false -XX:+IgnoreUnrecognizedVMOptions --add-opens=java.base/java.lang=ALL-UNNAMED --add-opens=java.base/java.lang.invoke=ALL-UNNAMED --add-opens=java.base/java.lang.reflect=ALL-UNNAMED --add-opens=java.base/java.io=ALL-UNNAMED --add-opens=java.base/java.net=ALL-UNNAMED --add-opens=java.base/java.nio=ALL-UNNAMED --add-opens=java.base/java.util=ALL-UNNAMED --add-opens=java.base/java.util.concurrent=ALL-UNNAMED --add-opens=java.base/java.util.concurrent.atomic=ALL-UNNAMED --add-opens=java.base/sun.nio.ch=ALL-UNNAMED --add-opens=java.base/sun.nio.cs=ALL-UNNAMED --add-opens=java.base/sun.security.action=ALL-UNNAMED --add-opens=java.base/sun.util.calendar=ALL-UNNAMED --add-opens=java.security.jgss/sun.security.krb5=ALL-UNNAMED -Djdk.reflect.useDirectMethodHandle=false -XX:+UseG1GC'),\n",
       " ('spark.driver.host', 'DESKTOP-DB9491J'),\n",
       " ('spark.ui.showConsoleProgress', 'true')]"
      ]
     },
     "execution_count": 5,
     "metadata": {},
     "output_type": "execute_result"
    }
   ],
   "source": [
    "spark.sparkContext.getConf().getAll()"
   ]
  },
  {
   "cell_type": "markdown",
   "id": "09433144",
   "metadata": {},
   "source": [
    "## 함수 선언: csv 파일 -> Spark df로 로드"
   ]
  },
  {
   "cell_type": "code",
   "execution_count": 6,
   "id": "086aa12d",
   "metadata": {
    "ExecuteTime": {
     "end_time": "2023-10-23T23:07:35.449135Z",
     "start_time": "2023-10-23T23:07:35.435132Z"
    },
    "execution": {
     "iopub.execute_input": "2023-11-08T06:09:09.210130Z",
     "iopub.status.busy": "2023-11-08T06:09:09.210130Z",
     "iopub.status.idle": "2023-11-08T06:09:09.219130Z",
     "shell.execute_reply": "2023-11-08T06:09:09.219130Z",
     "shell.execute_reply.started": "2023-11-08T06:09:09.210130Z"
    },
    "tags": []
   },
   "outputs": [],
   "source": [
    "def load_csv_to_df_spark(directory, file_names):\n",
    "    \"\"\"해당 디렉토리로부터 지정된 형식의 CSV 파일들을 DataFrame으로 로드\"\"\"\n",
    "    \n",
    "    all_dfs = []\n",
    "    for idx, file_name in enumerate(file_names):\n",
    "        file_path = os.path.join(directory, file_name)\n",
    "        current_df = spark.read.option(\"multiline\", \"true\").csv(file_path, header=True, inferSchema=True)\n",
    "        all_dfs.append(current_df)\n",
    "\n",
    "    # reduce는 순차적인 데이터에 누적 연산, union은 병합 함수, 여기선 모든 df에 대해 순차적으로 병합하는 연산\n",
    "    final_df = reduce(lambda x, y: x.union(y), all_dfs)\n",
    "    return final_df\n",
    "\n",
    "def load_csv_to_df_spark_skip_first_row(directory, file_names):\n",
    "    \"\"\"해당 디렉토리로부터 지정된 형식의 CSV 파일들을 DataFrame으로 로드하되 첫 번째 행을 제외함.\"\"\"\n",
    "    \n",
    "    all_dfs = []\n",
    "    for idx, file_name in enumerate(file_names):\n",
    "        file_path = os.path.join(directory, file_name)\n",
    "\n",
    "        # SparkContext를 사용하여 텍스트 파일 로드\n",
    "        data = sc.textFile(file_path)\n",
    "\n",
    "        # 첫 번째 행 제거\n",
    "        first_row = data.first()\n",
    "        data = data.filter(lambda row: row != first_row)\n",
    "\n",
    "        # RDD의 텍스트 데이터를 DataFrame으로 변환\n",
    "        temp_df = spark.read.csv(data, header=True, inferSchema=True)\n",
    "\n",
    "        all_dfs.append(temp_df)\n",
    "\n",
    "    # 모든 DataFrame을 병합\n",
    "    final_df = reduce(lambda x, y: x.union(y), all_dfs)\n",
    "    return final_df"
   ]
  },
  {
   "cell_type": "markdown",
   "id": "decbbb1a",
   "metadata": {},
   "source": [
    "## 함수 선언: parquet 파일 -> Spark df로 로드"
   ]
  },
  {
   "cell_type": "code",
   "execution_count": 7,
   "id": "bc2ed03c",
   "metadata": {
    "ExecuteTime": {
     "end_time": "2023-10-23T23:07:35.465139Z",
     "start_time": "2023-10-23T23:07:35.451136Z"
    },
    "execution": {
     "iopub.execute_input": "2023-11-08T06:09:14.506162Z",
     "iopub.status.busy": "2023-11-08T06:09:14.490833Z",
     "iopub.status.idle": "2023-11-08T06:09:14.522796Z",
     "shell.execute_reply": "2023-11-08T06:09:14.521795Z",
     "shell.execute_reply.started": "2023-11-08T06:09:14.506162Z"
    },
    "tags": []
   },
   "outputs": [],
   "source": [
    "def load_parquet_to_df_spark(directory, file_names):\n",
    "    \"\"\"해당 디렉토리로부터 지정된 형식의 Parquet 파일들을 DataFrame으로 로드\"\"\"\n",
    "\n",
    "    all_dfs = []\n",
    "    for idx, file_name in enumerate(file_names):\n",
    "        file_path = os.path.join(directory, file_name)\n",
    "        current_df = spark.read.parquet(file_path)\n",
    "        all_dfs.append(current_df)\n",
    "\n",
    "    final_df = reduce(lambda x, y: x.union(y), all_dfs)\n",
    "    return final_df"
   ]
  },
  {
   "cell_type": "markdown",
   "id": "6390c110",
   "metadata": {},
   "source": [
    "## df_attend 로드"
   ]
  },
  {
   "cell_type": "code",
   "execution_count": 10,
   "id": "3ec09dab",
   "metadata": {
    "ExecuteTime": {
     "end_time": "2023-10-23T23:09:45.590683Z",
     "start_time": "2023-10-23T23:07:35.467139Z"
    },
    "execution": {
     "iopub.execute_input": "2023-11-08T06:10:58.476839Z",
     "iopub.status.busy": "2023-11-08T06:10:58.476839Z",
     "iopub.status.idle": "2023-11-08T06:13:01.117428Z",
     "shell.execute_reply": "2023-11-08T06:13:01.116769Z",
     "shell.execute_reply.started": "2023-11-08T06:10:58.476839Z"
    },
    "tags": []
   },
   "outputs": [],
   "source": [
    "attend_directory = \"D:/DATA_PREPROCESS/FIRESTORE_DATAS/USERS\"\n",
    "# attend_file_names = [f for f in os.listdir(attend_directory) if f.startswith('output-') and f.endswith('.csv')]\n",
    "attend_file_names = [f for f in os.listdir(attend_directory) if f.startswith('output-') and f.endswith('.parquet')]\n",
    "\n",
    "# # JSON 버전\n",
    "# df_attend = load_csv_to_df_spark(attend_directory, attend_file_names)\n",
    "# parquet 버전\n",
    "df_attend = load_parquet_to_df_spark(attend_directory, attend_file_names)"
   ]
  },
  {
   "cell_type": "code",
   "execution_count": 11,
   "id": "95c3f887",
   "metadata": {
    "ExecuteTime": {
     "end_time": "2023-10-23T23:09:45.606687Z",
     "start_time": "2023-10-23T23:09:45.593685Z"
    },
    "execution": {
     "iopub.execute_input": "2023-11-08T06:13:07.634705Z",
     "iopub.status.busy": "2023-11-08T06:13:07.633704Z",
     "iopub.status.idle": "2023-11-08T06:13:07.652002Z",
     "shell.execute_reply": "2023-11-08T06:13:07.651002Z",
     "shell.execute_reply.started": "2023-11-08T06:13:07.634705Z"
    }
   },
   "outputs": [
    {
     "name": "stdout",
     "output_type": "stream",
     "text": [
      "root\n",
      " |-- user_id: string (nullable = true)\n",
      " |-- ArrayVoice: array (nullable = true)\n",
      " |    |-- element: string (containsNull = true)\n",
      " |-- attend: double (nullable = true)\n",
      " |-- resultPass: string (nullable = true)\n",
      " |-- imageUrl: string (nullable = true)\n",
      " |-- addText: string (nullable = true)\n",
      " |-- name: string (nullable = true)\n",
      " |-- ArrayPercent: array (nullable = true)\n",
      " |    |-- element: string (containsNull = true)\n",
      " |-- ArrayDate: array (nullable = true)\n",
      " |    |-- element: string (containsNull = true)\n",
      " |-- title: string (nullable = true)\n",
      " |-- type: boolean (nullable = true)\n",
      " |-- review_wish: string (nullable = true)\n",
      " |-- ArrayAddResult: array (nullable = true)\n",
      " |    |-- element: string (containsNull = true)\n",
      "\n"
     ]
    }
   ],
   "source": [
    "df_attend.printSchema()\n",
    "\n",
    "# df_attend.count()"
   ]
  },
  {
   "cell_type": "markdown",
   "id": "f6579d86",
   "metadata": {},
   "source": [
    "23-10-19-이전  \n",
    "root  \n",
    " |-- user_id: string (nullable = true)  \n",
    " |-- ArrayVoice: string (nullable = true)  \n",
    " |-- attend: string (nullable = true)  \n",
    " |-- resultPass: string (nullable = true)  \n",
    " |-- imageUrl: string (nullable = true)  \n",
    " |-- addText: string (nullable = true)  \n",
    " |-- name: string (nullable = true)  \n",
    " |-- ArrayPercent: string (nullable = true)  \n",
    " |-- ArrayDate: string (nullable = true)  \n",
    " |-- title: string (nullable = true)   \n",
    " |-- type: string (nullable = true)  \n",
    " |-- review_wish: string (nullable = true)  \n",
    " |-- ArrayAddResult: string (nullable = true)  \n",
    "   \n",
    "23-10-19-이후( 이 형식이 더 원본을 잘 보존 )  \n",
    "root  \n",
    "|-- user_id: string (nullable = true)  \n",
    "|-- ArrayVoice: array (nullable = true)  \n",
    "|    |-- element: string (containsNull = true)  \n",
    "|-- attend: double (nullable = true)  \n",
    "|-- resultPass: string (nullable = true)  \n",
    "|-- imageUrl: string (nullable = true)  \n",
    "|-- addText: string (nullable = true)  \n",
    "|-- name: string (nullable = true)  \n",
    "|-- ArrayPercent: array (nullable = true)  \n",
    "|    |-- element: string (containsNull = true)  \n",
    "|-- ArrayDate: array (nullable = true)  \n",
    "|    |-- element: string (containsNull = true)  \n",
    "|-- title: string (nullable = true)  \n",
    "|-- type: boolean (nullable = true)  \n",
    "|-- review_wish: string (nullable = true)  \n",
    "|-- ArrayAddResult: array (nullable = true)  \n",
    "|    |-- element: string (containsNull = true)  \n",
    "   \n",
    "차이점  \n",
    "- ArrayVoice: string -> ArrayVoice: array |-- element: string (containsNull = true)  \n",
    "- attend: string -> attend: double  \n",
    "- ArrayPercent: string -> ArrayPercent: array |-- element: string (containsNull = true)  \n",
    "- ArrayDate: string -> ArrayDate: array |-- element: string (containsNull = true)  \n",
    "- type: string -> type: boolean  \n",
    "- ArrayAddResult: string -> ArrayAddResult: array |-- element: string (containsNull = true)  "
   ]
  },
  {
   "cell_type": "markdown",
   "id": "4d660e77",
   "metadata": {},
   "source": [
    "### df_attend의 중복 user_id, name 행들을 삭제한다\n",
    "\n",
    "- 23-10-19 이전 기준 -\n",
    "+--------------------------------+-----+ | name|count| +--------------------------------+-----+ | 이럴 때 스마투스 튼튼캔디를 ...| 3| | 특수 기술로 영양소 파괴를 최...| 1824| |팩의 민 케이크 유 오케이 하이...| 19| | 내가 최근에 잘못한 것은 내가...| 850| | 이럴 때 스마투스 튼튼캔디를 ...| 83| | 이럴 때 스마투스 튼튼캔디를 ...| 2| | pass| 1| +--------------------------------+-----+\n",
    "  \n",
    "Total number of unique names in dup_df_attend: 7  \n",
    "\n",
    "총 671만개의 행 중에 2782개의 행이 문제가 발생하고 고치는 데 지나친 쿼리가 요구되기에,  \n",
    "오류의 확산을 막기 위해 상대적 소수의 행들을 삭제한다. "
   ]
  },
  {
   "cell_type": "code",
   "execution_count": 10,
   "id": "f8f0fa76",
   "metadata": {
    "ExecuteTime": {
     "end_time": "2023-10-23T23:09:45.622692Z",
     "start_time": "2023-10-23T23:09:45.607688Z"
    },
    "execution": {
     "iopub.execute_input": "2023-10-27T07:20:55.650327Z",
     "iopub.status.busy": "2023-10-27T07:20:55.650327Z",
     "iopub.status.idle": "2023-10-27T07:20:55.664330Z",
     "shell.execute_reply": "2023-10-27T07:20:55.663331Z",
     "shell.execute_reply.started": "2023-10-27T07:20:55.650327Z"
    }
   },
   "outputs": [],
   "source": [
    "# # 'user_id'와 'name'으로 그룹화하고, 각 그룹 내에서 행 번호를 부여합니다.\n",
    "# windowSpec = Window.partitionBy(\"user_id\", \"name\").orderBy(F.desc(\"ArrayDate\"))\n",
    "\n",
    "# # 행 번호를 부여합니다.\n",
    "# df_attend_with_rownum = df_attend.withColumn(\"row_num\", F.row_number().over(windowSpec))\n",
    "\n",
    "# # 행 번호가 1인 행만 선택합니다. 이렇게 하면 각 'user_id'와 'name' 그룹에서 최신 행만 선택됩니다.\n",
    "# df_attend = df_attend_with_rownum.filter(F.col(\"row_num\") == 1).drop(\"row_num\")\n",
    "\n",
    "# # 결과를 확인합니다.\n",
    "# print(f\"original count: 13687826, after deleting: {df_attend.count()}\")"
   ]
  },
  {
   "cell_type": "markdown",
   "id": "07eefff1",
   "metadata": {},
   "source": [
    "-23-10-19-이전-\n",
    "original count: 6709020, after deleting: 6706238\n",
    "- 이후 -\n",
    "original count: 13687826, after deleting: 13687781\n",
    "\n",
    "attend 데이터 중복 오류 획기적 감소(JSON -> CSV는 ','관련 문제 때문에 세심히 다루지 않으면 오류 발생) "
   ]
  },
  {
   "cell_type": "code",
   "execution_count": 11,
   "id": "79de8ee7",
   "metadata": {
    "ExecuteTime": {
     "end_time": "2023-10-23T23:09:45.637695Z",
     "start_time": "2023-10-23T23:09:45.624693Z"
    },
    "execution": {
     "iopub.execute_input": "2023-10-27T07:20:55.665331Z",
     "iopub.status.busy": "2023-10-27T07:20:55.665331Z",
     "iopub.status.idle": "2023-10-27T07:20:55.680334Z",
     "shell.execute_reply": "2023-10-27T07:20:55.679339Z",
     "shell.execute_reply.started": "2023-10-27T07:20:55.665331Z"
    }
   },
   "outputs": [],
   "source": [
    "# # 데이터프레임이 캐시에서 제거됨\n",
    "# df_attend_with_rownum.unpersist()"
   ]
  },
  {
   "cell_type": "code",
   "execution_count": 12,
   "id": "4b7ec3d2",
   "metadata": {
    "ExecuteTime": {
     "end_time": "2023-10-23T23:09:45.653205Z",
     "start_time": "2023-10-23T23:09:45.639696Z"
    },
    "execution": {
     "iopub.execute_input": "2023-10-27T07:20:55.681335Z",
     "iopub.status.busy": "2023-10-27T07:20:55.681335Z",
     "iopub.status.idle": "2023-10-27T07:20:55.696338Z",
     "shell.execute_reply": "2023-10-27T07:20:55.695338Z",
     "shell.execute_reply.started": "2023-10-27T07:20:55.681335Z"
    }
   },
   "outputs": [],
   "source": [
    "# # dup_df_attend를 'name' 기준으로 그룹화\n",
    "# grouped_by_name = dup_df_attend.groupBy('name').agg(F.count('*').alias('count'))\n",
    "\n",
    "# # 카운트 및 결과 출력\n",
    "# name_count = grouped_by_name.count()\n",
    "# grouped_by_name.show(truncate=False)\n",
    "\n",
    "# # name_count는 'name'별로 그룹화된 레코드 수를 나타냅니다.\n",
    "# print(f\"Total number of unique names in dup_df_attend: {name_count}\")"
   ]
  },
  {
   "cell_type": "markdown",
   "id": "e6640e45",
   "metadata": {},
   "source": [
    "+--------------------------------+-----+\n",
    "|                            name|count|\n",
    "+--------------------------------+-----+\n",
    "| 이럴 때 스마투스 튼튼캔디를 ...|    3|\n",
    "| 특수 기술로 영양소 파괴를 최...| 1824|\n",
    "|팩의 민 케이크 유 오케이 하이...|   19|\n",
    "| 내가 최근에 잘못한 것은 내가...|  850|\n",
    "| 이럴 때 스마투스 튼튼캔디를 ...|   83|\n",
    "| 이럴 때 스마투스 튼튼캔디를 ...|    2|\n",
    "|                            pass|    1|\n",
    "+--------------------------------+-----+\n",
    "\n",
    "Total number of unique names in dup_df_attend: 7"
   ]
  },
  {
   "cell_type": "markdown",
   "id": "efb4e409",
   "metadata": {},
   "source": [
    "### df_attend 확인 코드"
   ]
  },
  {
   "cell_type": "code",
   "execution_count": 13,
   "id": "d132bfb7",
   "metadata": {
    "ExecuteTime": {
     "end_time": "2023-10-23T23:09:45.669208Z",
     "start_time": "2023-10-23T23:09:45.655205Z"
    },
    "execution": {
     "iopub.execute_input": "2023-10-27T07:20:55.697339Z",
     "iopub.status.busy": "2023-10-27T07:20:55.697339Z",
     "iopub.status.idle": "2023-10-27T07:20:55.712342Z",
     "shell.execute_reply": "2023-10-27T07:20:55.711341Z",
     "shell.execute_reply.started": "2023-10-27T07:20:55.697339Z"
    }
   },
   "outputs": [],
   "source": [
    "# pd.set_option('display.max_columns', None)  # 모든 열을 표시\n",
    "# pd.set_option('display.width', None)        # 화면 너비에 맞게 출력\n",
    "# print(df_attend.limit(5).toPandas())\n",
    "# # df_attend.count()\n",
    "# df_attend.columns"
   ]
  },
  {
   "cell_type": "markdown",
   "id": "42dd7a56",
   "metadata": {},
   "source": [
    "## 포인트벌기, 암기플러스, +유저 백업 데이터를 추가\n",
    "- 백업 후 삭제된 데이터들을 뒤의 df_ad에 추가시키기 위함"
   ]
  },
  {
   "cell_type": "code",
   "execution_count": 12,
   "id": "311a9b7c",
   "metadata": {
    "ExecuteTime": {
     "end_time": "2023-10-23T23:09:45.685211Z",
     "start_time": "2023-10-23T23:09:45.671208Z"
    },
    "execution": {
     "iopub.execute_input": "2023-11-08T06:13:35.490250Z",
     "iopub.status.busy": "2023-11-08T06:13:35.490250Z",
     "iopub.status.idle": "2023-11-08T06:13:35.500973Z",
     "shell.execute_reply": "2023-11-08T06:13:35.499977Z",
     "shell.execute_reply.started": "2023-11-08T06:13:35.490250Z"
    },
    "tags": []
   },
   "outputs": [],
   "source": [
    "def add_dfs(df1, df2):\n",
    "    # 먼저, df1의 모든 행에 대해서 df2에서 같은 'name'을 가진 행이 있다면 그 값을 덮어씁니다.\n",
    "    df1 = df1.alias('a').join(df2.alias('b'), 'name', 'left_outer').select(\n",
    "        'a.name',\n",
    "        *[F.coalesce('b.' + c, 'a.' + c).alias(c) for c in df1.columns if c != 'name']\n",
    "    )\n",
    "    return df1"
   ]
  },
  {
   "cell_type": "code",
   "execution_count": 15,
   "id": "86783b2d",
   "metadata": {
    "ExecuteTime": {
     "end_time": "2023-10-23T23:09:45.701216Z",
     "start_time": "2023-10-23T23:09:45.687212Z"
    },
    "execution": {
     "iopub.execute_input": "2023-10-27T07:20:55.729345Z",
     "iopub.status.busy": "2023-10-27T07:20:55.729345Z",
     "iopub.status.idle": "2023-10-27T07:20:55.744349Z",
     "shell.execute_reply": "2023-10-27T07:20:55.743349Z",
     "shell.execute_reply.started": "2023-10-27T07:20:55.729345Z"
    }
   },
   "outputs": [],
   "source": [
    "# # 원래 DataFrame의 스키마를 가져옵니다.\n",
    "# point_folder_schema = df_point_folder.schema\n",
    "# memo_folder_schema = df_memo_folder.schema\n",
    "# memo_backup_schema = df_memo_backup.schema\n",
    "# point_backup_schema = df_point_backup.schema\n",
    "# ad_schema = df_ad.schema\n",
    "\n",
    "# # 빈 DataFrame을 생성합니다.\n",
    "# df_point_folder = spark.createDataFrame([], point_folder_schema)\n",
    "# df_memo_folder = spark.createDataFrame([], memo_folder_schema)\n",
    "# df_memo_backup = spark.createDataFrame([], memo_backup_schema)\n",
    "# df_point_backup = spark.createDataFrame([], point_backup_schema)\n",
    "# df_ad = spark.createDataFrame([], ad_schema)"
   ]
  },
  {
   "cell_type": "code",
   "execution_count": 14,
   "id": "0a576f4e",
   "metadata": {
    "ExecuteTime": {
     "end_time": "2023-10-23T23:10:06.959619Z",
     "start_time": "2023-10-23T23:09:56.430982Z"
    },
    "execution": {
     "iopub.execute_input": "2023-11-08T06:13:50.090375Z",
     "iopub.status.busy": "2023-11-08T06:13:50.090375Z",
     "iopub.status.idle": "2023-11-08T06:13:59.703546Z",
     "shell.execute_reply": "2023-11-08T06:13:59.703546Z",
     "shell.execute_reply.started": "2023-11-08T06:13:50.090375Z"
    },
    "tags": []
   },
   "outputs": [],
   "source": [
    "firebase_ads_point_directory = \"D:/DATA_PREPROCESS/FIRESTORE_DATAS/FIREBASE_ads/backup/VOWING_PointRecord\"\n",
    "\n",
    "# 파일 경로를 인수로 전달하고 첫 번째 행을 건너뛰도록 적용\n",
    "df_point_backup_f1 = load_csv_to_df_spark_skip_first_row(firebase_ads_point_directory, ['2023-06-15_12-45-19.csv'])\n",
    "df_point_backup_f2 = load_csv_to_df_spark_skip_first_row(firebase_ads_point_directory, ['2023-06-19_12-05-10.csv'])\n",
    "df_point_backup_f3 = load_csv_to_df_spark_skip_first_row(firebase_ads_point_directory, ['2023-07-21_00-05-31.csv'])\n",
    "\n",
    "# df_point_backup_f1에 df_point_backup_f2의 값을 덮어쓰기\n",
    "df_point_1_2 = add_dfs(df_point_backup_f1, df_point_backup_f2)\n",
    "\n",
    "# 위에서 덮어쓴 DataFrame에 df_point_backup_f3의 값을 덮어쓰기\n",
    "df_point_folder = add_dfs(df_point_1_2, df_point_backup_f3)\n",
    "\n",
    "# df_point_folder 데이터 타입 변경\n",
    "df_point_folder = df_point_folder.withColumn(\"player\", df_point_folder[\"player\"].cast(\"int\")) \\\n",
    "                                .withColumn(\"linkClick\", df_point_folder[\"linkClick\"].cast(\"int\")) \\\n",
    "                                .withColumn(\"linkWing\", df_point_folder[\"linkWing\"].cast(\"boolean\"))\n",
    "\n",
    "# df_point_folder에서 linkClickDesc, script 컬럼 제거\n",
    "df_point_folder = df_point_folder.drop('linkClickDesc', \"script\")\n",
    "# reward 컬럼명을 script로 바꿈\n",
    "df_point_folder = df_point_folder.withColumnRenamed(\"reward\", \"script\")"
   ]
  },
  {
   "cell_type": "markdown",
   "id": "35f7c576",
   "metadata": {},
   "source": [
    "위의 셀은 실행이 굉장히 불안정함,  \n",
    "첫 실행에선 오류가 지속적으로 발생   \n",
    "두번째 실행하면 오류가 사라지는 경우가 대다수,   \n",
    "원인 파악 필요  \n",
    "-> Spark 자체 혹은 운영체제, 하드웨어 문제이므로 Databricks에서는 발생하지 않을 확률이 높음, 일단 그냥 재실행하는 수 밖에.."
   ]
  },
  {
   "cell_type": "code",
   "execution_count": 15,
   "id": "428649de",
   "metadata": {
    "ExecuteTime": {
     "end_time": "2023-10-23T23:10:16.569000Z",
     "start_time": "2023-10-23T23:10:06.962323Z"
    },
    "execution": {
     "iopub.execute_input": "2023-11-08T06:14:19.235303Z",
     "iopub.status.busy": "2023-11-08T06:14:19.234303Z",
     "iopub.status.idle": "2023-11-08T06:14:28.211677Z",
     "shell.execute_reply": "2023-11-08T06:14:28.211677Z",
     "shell.execute_reply.started": "2023-11-08T06:14:19.235303Z"
    },
    "tags": []
   },
   "outputs": [],
   "source": [
    "firebase_ads_memo_directory = \"D:/DATA_PREPROCESS/FIRESTORE_DATAS/FIREBASE_ads/backup/VOWING_Memorization\"\n",
    "\n",
    "# 파일 경로를 인수로 전달하고 첫 번째 행을 건너뛰도록 적용\n",
    "df_memo_backup_f1 = load_csv_to_df_spark_skip_first_row(firebase_ads_memo_directory, ['2023-06-26_00-05-14.csv'])\n",
    "df_memo_backup_f2 = load_csv_to_df_spark_skip_first_row(firebase_ads_memo_directory, ['2023-07-10_12-05-15.csv'])\n",
    "df_memo_backup_f3 = load_csv_to_df_spark_skip_first_row(firebase_ads_memo_directory, ['2023-07-27_12-05-23.csv']).drop('linkClickDesc')\n",
    "\n",
    "# df_memo_backup의 데이터 타입 변경\n",
    "df_memo_backup_f1 = df_memo_backup_f1.withColumn(\"gender\", df_memo_backup_f1[\"gender\"].cast(\"string\"))\n",
    "df_memo_backup_f3 = df_memo_backup_f3.withColumn(\"cnt\", df_memo_backup_f3[\"cnt\"].cast(\"int\"))  \\\n",
    "                                .withColumn(\"point\", df_memo_backup_f3[\"point\"].cast(\"int\")) \\\n",
    "                                .withColumn(\"linkClick\", df_memo_backup_f3[\"linkClick\"].cast(\"int\")) \\\n",
    "                                .withColumn(\"percent\", df_memo_backup_f3[\"percent\"].cast(\"int\")) \\\n",
    "                                .withColumn(\"type\", df_memo_backup_f3[\"type\"].cast(\"boolean\"))\n",
    "\n",
    "# print(df_memo_backup_f1.dtypes)\n",
    "# print(df_memo_backup_f2.dtypes)\n",
    "# print(df_memo_backup_f3.dtypes)\n",
    "\n",
    "# df_memo_backup_f1에 df_memo_backup_f2의 값을 덮어쓰기\n",
    "df_memo_1_2 = add_dfs(df_memo_backup_f1, df_memo_backup_f2)\n",
    "\n",
    "# 위에서 덮어쓴 DataFrame에 df_memo_backup_f3의 값을 덮어쓰기\n",
    "df_memo_folder = add_dfs(df_memo_1_2, df_memo_backup_f3)\n",
    "\n",
    "df_memo_folder = df_memo_folder.drop('reward')"
   ]
  },
  {
   "cell_type": "code",
   "execution_count": 16,
   "id": "b7314e42",
   "metadata": {
    "ExecuteTime": {
     "end_time": "2023-10-23T23:10:17.444407Z",
     "start_time": "2023-10-23T23:10:16.571001Z"
    },
    "execution": {
     "iopub.execute_input": "2023-11-08T06:14:28.800424Z",
     "iopub.status.busy": "2023-11-08T06:14:28.800424Z",
     "iopub.status.idle": "2023-11-08T06:14:29.632832Z",
     "shell.execute_reply": "2023-11-08T06:14:29.631832Z",
     "shell.execute_reply.started": "2023-11-08T06:14:28.800424Z"
    },
    "scrolled": true,
    "tags": []
   },
   "outputs": [
    {
     "name": "stdout",
     "output_type": "stream",
     "text": [
      "[('imageUrl', 'string'), ('type', 'boolean'), ('collection', 'string'), ('videoUrl', 'string'), ('percent', 'int'), ('maintitle', 'string'), ('sell', 'int'), ('sold', 'int'), ('name', 'string'), ('ageArray', 'string'), ('imageArray', 'string'), ('player', 'int'), ('level', 'string'), ('descArray', 'string'), ('linkClick', 'int'), ('point', 'int'), ('cnt', 'int'), ('script', 'string'), ('dateEnd', 'string'), ('pay', 'int'), ('date', 'string'), ('engineArray', 'string'), ('linkWing', 'boolean'), ('link', 'string'), ('category', 'string'), ('title', 'string'), ('gender', 'string')]\n",
      "[('cnt', 'int'), ('collection', 'string'), ('type', 'boolean'), ('point', 'int'), ('videoUrl', 'string'), ('imageUrl', 'string'), ('maintitle', 'string'), ('percent', 'int'), ('pay', 'int'), ('dateEnd', 'string'), ('sold', 'int'), ('sell', 'int'), ('name', 'string'), ('script', 'string'), ('date', 'string'), ('imageArray', 'string'), ('engineArray', 'string'), ('player', 'int'), ('ageArray', 'string'), ('link', 'string'), ('category', 'string'), ('level', 'string'), ('descArray', 'string'), ('title', 'string'), ('linkClick', 'int'), ('linkWing', 'boolean'), ('gender', 'string')]\n"
     ]
    }
   ],
   "source": [
    "firebase_ads_directory = \"D:/DATA_PREPROCESS/FIRESTORE_DATAS/FIREBASE_ads/backup\"\n",
    "\n",
    "df_memo_backup = load_csv_to_df_spark(firebase_ads_directory, ['2023-10-19_12-05-12_Memorization.csv'])\n",
    "df_point_backup = load_csv_to_df_spark(firebase_ads_directory, ['2023-10-19_12-05-14_Point.csv'])\n",
    "df_user_backup = load_csv_to_df_spark(firebase_ads_directory, ['2023-10-19_12-05-42_Users.csv'])\n",
    "\n",
    "df_memo_backup = df_memo_backup.drop(\"doc_id\", \"linkClickDesc\")\n",
    "df_point_backup = df_point_backup.drop(\"doc_id\", \"linkClickDesc\", \"quiz\")\n",
    "\n",
    "df_memo_backup = df_memo_backup.withColumn(\"linkClick\", df_memo_backup[\"linkClick\"].cast(\"int\"))\n",
    "df_point_backup = df_point_backup.withColumn(\"linkClick\", df_point_backup[\"linkClick\"].cast(\"int\")) \\\n",
    "                                .withColumn(\"sell\", df_point_backup[\"sell\"].cast(\"int\")) \\\n",
    "                                .withColumn(\"player\", df_point_backup[\"player\"].cast(\"int\")) \\\n",
    "                                .withColumn(\"linkWing\", df_point_backup[\"linkWing\"].cast(\"boolean\"))\n",
    "\n",
    "# 기존의 script를 drop하고, reward 컬럼명을 script로 바꿈\n",
    "df_point_backup = df_point_backup.drop(\"script\")\n",
    "df_point_backup = df_point_backup.withColumnRenamed(\"reward\", \"script\")\n",
    "\n",
    "df_memo_backup = df_memo_backup.drop('reward')\n",
    "\n",
    "print(df_memo_backup.dtypes)\n",
    "print(df_point_backup.dtypes)"
   ]
  },
  {
   "cell_type": "markdown",
   "id": "5faf86fe",
   "metadata": {},
   "source": [
    "- 데이터 타입이 memo와 point가 다르고, 또 기간 별로 다른 걸 어떻게 고쳐야 할지 알아내서 앱 개발자에게 피드백"
   ]
  },
  {
   "cell_type": "code",
   "execution_count": null,
   "id": "017a0bdf",
   "metadata": {
    "ExecuteTime": {
     "end_time": "2023-10-23T23:10:17.460410Z",
     "start_time": "2023-10-23T23:10:17.446407Z"
    },
    "execution": {
     "iopub.status.busy": "2023-10-27T07:20:58.148350Z",
     "iopub.status.idle": "2023-10-27T07:20:58.148350Z",
     "shell.execute_reply": "2023-10-27T07:20:58.148350Z",
     "shell.execute_reply.started": "2023-10-27T07:20:58.148350Z"
    }
   },
   "outputs": [],
   "source": [
    "# # 데이터 중복, 개수 체크\n",
    "# print(df_point_folder.dtypes)\n",
    "# print(df_point_folder.count())\n",
    "# print(df_memo_folder.dtypes)\n",
    "# print(df_memo_folder.count())\n",
    "\n",
    "# # name 컬럼에 대해 그룹화하고 카운트\n",
    "# name_count_df = df_point_folder.groupBy(\"name\").agg(F.count(\"name\").alias(\"count\"))\n",
    "\n",
    "# # 카운트가 1보다 큰 행만 필터링하여 중복된 'name' 확인\n",
    "# duplicates = name_count_df.filter(F.col(\"count\") > 1)\n",
    "\n",
    "# # 중복된 'name'이 있는지 확인하고 출력\n",
    "# duplicates.show()"
   ]
  },
  {
   "cell_type": "markdown",
   "id": "6e5bc161",
   "metadata": {},
   "source": [
    "## df_ad 통합 및 로드"
   ]
  },
  {
   "cell_type": "code",
   "execution_count": 17,
   "id": "7e4c4016",
   "metadata": {
    "ExecuteTime": {
     "end_time": "2023-10-23T23:10:42.095026Z",
     "start_time": "2023-10-23T23:10:17.462411Z"
    },
    "execution": {
     "iopub.execute_input": "2023-11-08T06:14:34.787658Z",
     "iopub.status.busy": "2023-11-08T06:14:34.787658Z",
     "iopub.status.idle": "2023-11-08T06:14:58.560717Z",
     "shell.execute_reply": "2023-11-08T06:14:58.559717Z",
     "shell.execute_reply.started": "2023-11-08T06:14:34.787658Z"
    },
    "tags": []
   },
   "outputs": [
    {
     "name": "stdout",
     "output_type": "stream",
     "text": [
      "df_point_folder.dtypes: [('name', 'string'), ('cnt', 'int'), ('collection', 'string'), ('type', 'boolean'), ('point', 'int'), ('videoUrl', 'string'), ('imageUrl', 'string'), ('maintitle', 'string'), ('percent', 'int'), ('pay', 'int'), ('dateEnd', 'string'), ('sold', 'int'), ('sell', 'int'), ('script', 'string'), ('date', 'string'), ('imageArray', 'string'), ('engineArray', 'string'), ('player', 'int'), ('ageArray', 'string'), ('link', 'string'), ('category', 'string'), ('level', 'string'), ('descArray', 'string'), ('title', 'string'), ('linkClick', 'int'), ('gender', 'string'), ('linkWing', 'boolean')]\n",
      "df_memo_folder.dtypes: [('name', 'string'), ('imageUrl', 'string'), ('type', 'boolean'), ('collection', 'string'), ('videoUrl', 'string'), ('percent', 'int'), ('maintitle', 'string'), ('sell', 'int'), ('sold', 'int'), ('ageArray', 'string'), ('imageArray', 'string'), ('player', 'int'), ('level', 'string'), ('descArray', 'string'), ('linkClick', 'int'), ('point', 'int'), ('cnt', 'int'), ('script', 'string'), ('dateEnd', 'string'), ('pay', 'int'), ('date', 'string'), ('engineArray', 'string'), ('linkWing', 'boolean'), ('link', 'string'), ('category', 'string'), ('title', 'string'), ('gender', 'string')]\n",
      "df_memo_backup.dtypes: [('imageUrl', 'string'), ('type', 'boolean'), ('collection', 'string'), ('videoUrl', 'string'), ('percent', 'int'), ('maintitle', 'string'), ('sell', 'int'), ('sold', 'int'), ('name', 'string'), ('ageArray', 'string'), ('imageArray', 'string'), ('player', 'int'), ('level', 'string'), ('descArray', 'string'), ('linkClick', 'int'), ('point', 'int'), ('cnt', 'int'), ('script', 'string'), ('dateEnd', 'string'), ('pay', 'int'), ('date', 'string'), ('engineArray', 'string'), ('linkWing', 'boolean'), ('link', 'string'), ('category', 'string'), ('title', 'string'), ('gender', 'string')]\n",
      "df_point_backup.dtypes: [('cnt', 'int'), ('collection', 'string'), ('type', 'boolean'), ('point', 'int'), ('videoUrl', 'string'), ('imageUrl', 'string'), ('maintitle', 'string'), ('percent', 'int'), ('pay', 'int'), ('dateEnd', 'string'), ('sold', 'int'), ('sell', 'int'), ('name', 'string'), ('script', 'string'), ('date', 'string'), ('imageArray', 'string'), ('engineArray', 'string'), ('player', 'int'), ('ageArray', 'string'), ('link', 'string'), ('category', 'string'), ('level', 'string'), ('descArray', 'string'), ('title', 'string'), ('linkClick', 'int'), ('linkWing', 'boolean'), ('gender', 'string')]\n",
      "df_ad.dtypes: [('ageArray', 'string'), ('category', 'string'), ('cnt', 'int'), ('collection', 'string'), ('date', 'string'), ('dateEnd', 'string'), ('descArray', 'string'), ('engineArray', 'string'), ('gender', 'string'), ('imageArray', 'string'), ('imageUrl', 'string'), ('level', 'string'), ('link', 'string'), ('linkClick', 'int'), ('linkWing', 'boolean'), ('maintitle', 'string'), ('name', 'string'), ('pay', 'int'), ('percent', 'int'), ('player', 'int'), ('point', 'int'), ('script', 'string'), ('sell', 'int'), ('sold', 'int'), ('title', 'string'), ('type', 'boolean'), ('videoUrl', 'string')]\n",
      "34433\n",
      "27109\n"
     ]
    }
   ],
   "source": [
    "firestore_directory = \"D:/DATA_PREPROCESS/FIRESTORE_DATAS\"\n",
    "\n",
    "df_memo = load_csv_to_df_spark(firestore_directory, ['fs_memo_20230803.csv'])\n",
    "df_point = load_csv_to_df_spark(firestore_directory, ['fs_point_20230801.csv'])\n",
    "\n",
    "# df_memo의 데이터 타입 변경\n",
    "df_memo = df_memo.withColumn(\"sold\", df_memo[\"sold\"].cast(\"int\"))  \\\n",
    "                .withColumn(\"sell\", df_memo[\"sell\"].cast(\"int\"))\n",
    "\n",
    "# df_point의 데이터 타입 변경\n",
    "df_point = df_point.withColumn(\"linkClick\", df_point[\"linkClick\"].cast(\"int\")) \\\n",
    "                   .withColumn(\"linkClickDesc\", df_point[\"linkClickDesc\"].cast(\"int\")) \\\n",
    "                   .withColumn(\"linkWing\", df_point[\"linkWing\"].cast(\"boolean\")) \\\n",
    "                   .withColumn(\"pay\", df_point[\"pay\"].cast(\"int\")) \\\n",
    "                   .withColumn(\"percent\", df_point[\"percent\"].cast(\"int\")) \\\n",
    "                   .withColumn(\"player\", df_point[\"player\"].cast(\"int\")) \\\n",
    "                   .withColumn(\"sold\", df_point[\"sold\"].cast(\"int\")) \\\n",
    "                   .withColumn(\"sell\", df_point[\"sell\"].cast(\"int\")) \\\n",
    "                   .withColumn(\"point\", df_point[\"point\"].cast(\"int\")) \\\n",
    "                   .withColumn(\"type\", df_point[\"type\"].cast(\"boolean\"))\n",
    "\n",
    "# 기존의 script를 drop하고, reward 컬럼명을 script로 바꿈\n",
    "df_point = df_point.drop(\"script\")\n",
    "df_point = df_point.withColumnRenamed(\"reward\", \"script\")\n",
    "\n",
    "# point -> 'quiz' 컬럼 제거 // memo -> 'reward' 컬럼 제거\n",
    "df_point_dropped = df_point.drop('quiz')\n",
    "df_memo = df_memo.drop('reward')\n",
    "\n",
    "# df_memo, df_point의 데이터프레임 합치기\n",
    "df_ad = df_memo.union(df_point_dropped)\n",
    "\n",
    "# id, linkClickDesc, reward 컬럼 제거\n",
    "df_ad = df_ad.drop('id', 'linkClickDesc', 'reward')\n",
    "\n",
    "\n",
    "# 모든 DataFrame의 열 이름을 하나의 집합에 모음\n",
    "all_columns = set()\n",
    "for dtypes in [df_point_folder.dtypes, df_memo_folder.dtypes, df_memo_backup.dtypes, df_point_backup.dtypes, df_ad.dtypes]:\n",
    "    all_columns.update([col_name for col_name, _ in dtypes])\n",
    "print(f\"df_point_folder.dtypes: {df_point_folder.dtypes}\")\n",
    "print(f\"df_memo_folder.dtypes: {df_memo_folder.dtypes}\")\n",
    "print(f\"df_memo_backup.dtypes: {df_memo_backup.dtypes}\")\n",
    "print(f\"df_point_backup.dtypes: {df_point_backup.dtypes}\")\n",
    "print(f\"df_ad.dtypes: {df_ad.dtypes}\")\n",
    "\n",
    "# 각 DataFrame의 열을 동일한 순서로 정렬\n",
    "def reorder_columns(df, all_columns):\n",
    "    existing_columns = {col_name for col_name, _ in df.dtypes}\n",
    "    missing_columns = all_columns - existing_columns\n",
    "    reordered_columns = [col for col in all_columns if col in existing_columns] + list(missing_columns)\n",
    "    return df.select(*reordered_columns)\n",
    "\n",
    "df_memo_folder = reorder_columns(df_memo_folder, all_columns)\n",
    "df_point_folder = reorder_columns(df_point_folder, all_columns)\n",
    "df_memo_backup = reorder_columns(df_memo_backup, all_columns)\n",
    "df_point_backup = reorder_columns(df_point_backup, all_columns)\n",
    "df_ad = reorder_columns(df_ad, all_columns)\n",
    "\n",
    "# df_ad, df_point_folder, df_memo_folder, df_point_backup, df_memo_backup 합치기 & 중복 행 제거\n",
    "df_ad = df_ad.union(df_point_folder).union(df_memo_folder).union(df_point_backup).union(df_memo_backup)\n",
    "print(df_ad.count())\n",
    "df_ad = df_ad.distinct()\n",
    "print(df_ad.count())\n",
    "\n",
    "# \"name\" 컬럼에서 결측값을 가진 행을 제거\n",
    "df_ad = df_ad.na.drop(subset=[\"name\"])"
   ]
  },
  {
   "cell_type": "markdown",
   "id": "f16c5380",
   "metadata": {},
   "source": [
    "## df_ad 확인 코드"
   ]
  },
  {
   "cell_type": "code",
   "execution_count": null,
   "id": "5eae139c",
   "metadata": {
    "ExecuteTime": {
     "end_time": "2023-10-23T23:11:06.909604Z",
     "start_time": "2023-10-23T23:10:42.097028Z"
    },
    "execution": {
     "iopub.status.busy": "2023-10-27T07:20:58.150351Z",
     "iopub.status.idle": "2023-10-27T07:20:58.150351Z",
     "shell.execute_reply": "2023-10-27T07:20:58.150351Z",
     "shell.execute_reply.started": "2023-10-27T07:20:58.150351Z"
    }
   },
   "outputs": [],
   "source": [
    "# # 결과 확인\n",
    "\n",
    "# print(f\"df_memo 행 개수: {df_memo.count()} | df_point 행 개수: {df_point.count()}\")\n",
    "# print(f\"df_memo_folder 행 개수: {df_memo_folder.count()} | df_point_folder 행 개수: {df_point_folder.count()}\")\n",
    "# print(f\"df_memo_backup 행 개수: {df_memo_backup.count()} | df_point_backup 행 개수: {df_point_backup.count()}\")\n",
    "# print(f\"df_ad 행 개수: {df_ad.count()} | df_ad 열 개수: {len(df_ad.columns)}\")"
   ]
  },
  {
   "cell_type": "markdown",
   "id": "6f711173",
   "metadata": {},
   "source": [
    "### collection의 값이 잘못 입력된 암기플러스 행들을 수정"
   ]
  },
  {
   "cell_type": "code",
   "execution_count": null,
   "id": "b4880a29",
   "metadata": {
    "ExecuteTime": {
     "end_time": "2023-10-23T23:11:31.059827Z",
     "start_time": "2023-10-23T23:11:06.911604Z"
    },
    "execution": {
     "iopub.status.busy": "2023-10-27T07:20:58.151350Z",
     "iopub.status.idle": "2023-10-27T07:20:58.152350Z",
     "shell.execute_reply": "2023-10-27T07:20:58.152350Z",
     "shell.execute_reply.started": "2023-10-27T07:20:58.152350Z"
    },
    "tags": []
   },
   "outputs": [],
   "source": [
    "# df_ad에서 title이 \"암기플러스\"인 행의 개수를 출력합니다.\n",
    "count_before = df_ad.filter(F.col(\"collection\") == \"Memorization\").count()\n",
    "\n",
    "# title이 \"암기플러스\"인 행의 \"collection\" 값을 \"Memorization\"으로 변경합니다.\n",
    "df_ad = df_ad.withColumn(\"collection\", F.when(F.col(\"title\") == \"암기플러스\", \"Memorization\")\\\n",
    "             .otherwise(F.col(\"collection\")))\n",
    "# # 변경 후, title이 \"암기플러스\"인 행의 개수를 다시 계산합니다.\n",
    "# count_after = df_ad.filter(F.col(\"collection\") == \"Memorization\").count()\n",
    "\n",
    "# print(f\"Before change: {count_before}, After change: {count_after}\")"
   ]
  },
  {
   "cell_type": "code",
   "execution_count": null,
   "id": "bde7e249",
   "metadata": {
    "ExecuteTime": {
     "end_time": "2023-10-23T23:11:31.075830Z",
     "start_time": "2023-10-23T23:11:31.061828Z"
    },
    "execution": {
     "iopub.status.busy": "2023-10-27T07:20:58.152350Z",
     "iopub.status.idle": "2023-10-27T07:20:58.153352Z",
     "shell.execute_reply": "2023-10-27T07:20:58.153352Z",
     "shell.execute_reply.started": "2023-10-27T07:20:58.153352Z"
    }
   },
   "outputs": [],
   "source": [
    "# df_ad.select('script').show(30)"
   ]
  },
  {
   "cell_type": "markdown",
   "id": "922ab815",
   "metadata": {},
   "source": [
    "### df_ad의 기본적인 필드값이 포함되지 않은 행의 개수 파악과 수정"
   ]
  },
  {
   "cell_type": "code",
   "execution_count": null,
   "id": "ca1693e5",
   "metadata": {
    "ExecuteTime": {
     "end_time": "2023-10-23T23:11:55.495675Z",
     "start_time": "2023-10-23T23:11:31.076831Z"
    },
    "execution": {
     "iopub.status.busy": "2023-10-27T07:20:58.154352Z",
     "iopub.status.idle": "2023-10-27T07:20:58.154352Z",
     "shell.execute_reply": "2023-10-27T07:20:58.154352Z",
     "shell.execute_reply.started": "2023-10-27T07:20:58.154352Z"
    },
    "tags": []
   },
   "outputs": [],
   "source": [
    "# 기본적인 필드 선택\n",
    "essential_fields_of_ad = ['collection', 'date', 'dateEnd', 'level', 'name', 'percent']\n",
    "\n",
    "# 기본적인 필드에 값이 있는 행의 개수 파악\n",
    "non_null_count = df_ad.select(*essential_fields_of_ad).dropna().count()\n",
    "\n",
    "# 하나라도 없는 행의 개수 파악\n",
    "null_count = df_ad.count() - non_null_count\n",
    "\n",
    "# 하나라도 값이 없는 행 제거\n",
    "df_ad_cleaned = df_ad.dropna(subset=essential_fields_of_ad)\n",
    "\n",
    "# 결과 출력 (또는 다른 작업 수행)\n",
    "print(f\"Rows with all selected fields present: {non_null_count}\")\n",
    "print(f\"Rows with at least one missing field: {null_count}\")"
   ]
  },
  {
   "cell_type": "markdown",
   "id": "ae846ae6",
   "metadata": {},
   "source": [
    "df_ad의 필수 컬럼별 유무 행의 개수(231019 기준)\n",
    "\n",
    "collection - all  \n",
    "date - all  \n",
    "dateEnd - all  \n",
    "name - all  \n",
    "\n",
    "( gender(광고에서 gender는 현재 가비지값)    \n",
    "Rows with all selected fields present: 6512    \n",
    "Rows with at least one missing field: 20589 ) <- 필수 아님  \n",
    "\n",
    "level  \n",
    "Rows with all selected fields present: 27088  \n",
    "Rows with at least one missing field: 13  \n",
    "  \n",
    "percent  \n",
    "Rows with all selected fields present: 27099  \n",
    "Rows with at least one missing field: 2  "
   ]
  },
  {
   "cell_type": "markdown",
   "id": "f664ab1e",
   "metadata": {},
   "source": [
    "## Firebase > backup 안의 백업 파일들에 대한 확인 및 검증"
   ]
  },
  {
   "cell_type": "code",
   "execution_count": null,
   "id": "74afe5f4",
   "metadata": {
    "ExecuteTime": {
     "end_time": "2023-10-23T23:11:55.511679Z",
     "start_time": "2023-10-23T23:11:55.498676Z"
    },
    "execution": {
     "iopub.status.busy": "2023-10-27T07:20:58.155352Z",
     "iopub.status.idle": "2023-10-27T07:20:58.155352Z",
     "shell.execute_reply": "2023-10-27T07:20:58.155352Z",
     "shell.execute_reply.started": "2023-10-27T07:20:58.155352Z"
    }
   },
   "outputs": [],
   "source": [
    "# firebase_ads_directory = \"D:/DATA_PREPROCESS/FIREBASE_ads/backup/VOWING_PointRecord\"\n",
    "\n",
    "# # 파일 경로를 인수로 전달하고 첫 번째 행을 건너뛰도록 적용\n",
    "# df_memo_backup_f1 = load_csv_to_df_spark_skip_first_row(firebase_ads_directory, ['2023-06-20_00-05-20.csv'])\n",
    "# df_memo_backup_f2 = load_csv_to_df_spark_skip_first_row(firebase_ads_directory, ['2023-06-19_12-05-10.csv'])\n",
    "\n",
    "# # 모든 'name'이 포함되는지 확인\n",
    "# names_1 = df_memo_backup_f1.select(\"name\").distinct()\n",
    "# names_2 = df_memo_backup_f2.select(\"name\").distinct()\n",
    "\n",
    "# # 두 DataFrame의 'name' 컬럼을 비교\n",
    "# names_not_in = names_1.join(names_2, [\"name\"], \"left_anti\").count()"
   ]
  },
  {
   "cell_type": "code",
   "execution_count": null,
   "id": "600e5062",
   "metadata": {
    "ExecuteTime": {
     "end_time": "2023-10-23T23:11:55.527683Z",
     "start_time": "2023-10-23T23:11:55.512680Z"
    },
    "execution": {
     "iopub.status.busy": "2023-10-27T07:20:58.156352Z",
     "iopub.status.idle": "2023-10-27T07:20:58.156352Z",
     "shell.execute_reply": "2023-10-27T07:20:58.156352Z",
     "shell.execute_reply.started": "2023-10-27T07:20:58.156352Z"
    }
   },
   "outputs": [],
   "source": [
    "# # 사이에 일치하지 않는 'name'의 수 출력\n",
    "# print(f\"먼저 csv의 name 수: {names_1.count()}, 나중 csv의 name 수: {names_2.count()}\")\n",
    "# print(f\"사이에 일치하지 않는 'name'의 수: {names_not_in}\")"
   ]
  },
  {
   "cell_type": "code",
   "execution_count": null,
   "id": "18b38fbb",
   "metadata": {
    "ExecuteTime": {
     "end_time": "2023-10-23T23:11:55.543686Z",
     "start_time": "2023-10-23T23:11:55.529684Z"
    },
    "execution": {
     "iopub.status.busy": "2023-10-27T07:20:58.157352Z",
     "iopub.status.idle": "2023-10-27T07:20:58.157352Z",
     "shell.execute_reply": "2023-10-27T07:20:58.157352Z",
     "shell.execute_reply.started": "2023-10-27T07:20:58.157352Z"
    }
   },
   "outputs": [],
   "source": [
    "# # 사이에 일치하지 않는 'name' 출력\n",
    "# names_not_in_060912_df = names_1.join(names_2, [\"name\"], \"left_anti\")\n",
    "# names_not_in_060912_list = [row.name for row in names_not_in_060912_df.collect()]\n",
    "# print(f\"The unique 'name' values in df_memo_backup_060900 that are not in df_memo_backup_060912: {names_not_in_060912_list}\")"
   ]
  },
  {
   "cell_type": "markdown",
   "id": "c70eff82",
   "metadata": {},
   "source": [
    "## df_externals 로드"
   ]
  },
  {
   "cell_type": "code",
   "execution_count": 18,
   "id": "68a038da",
   "metadata": {
    "ExecuteTime": {
     "end_time": "2023-10-23T23:11:56.512692Z",
     "start_time": "2023-10-23T23:11:55.545688Z"
    },
    "execution": {
     "iopub.execute_input": "2023-11-08T06:16:01.219242Z",
     "iopub.status.busy": "2023-11-08T06:16:01.218554Z",
     "iopub.status.idle": "2023-11-08T06:16:02.242309Z",
     "shell.execute_reply": "2023-11-08T06:16:02.242230Z",
     "shell.execute_reply.started": "2023-11-08T06:16:01.219242Z"
    },
    "tags": []
   },
   "outputs": [],
   "source": [
    "# df_ssd = load_csv_to_df_spark(firestore_directory, ['230517_d_95_extracted_ssd_d95_data_1.csv'])\n",
    "df_hdd = load_csv_to_df_spark(firestore_directory, ['230517_d_80_gcs_extracted_hdd_d80_data_1.csv', '230517_d_80_gcs_extracted_hdd_d80_data_2.csv'])\n",
    "# df_externals = df_ssd.union(df_hdd)\n",
    "df_externals = df_hdd"
   ]
  },
  {
   "cell_type": "code",
   "execution_count": null,
   "id": "9aac8df7",
   "metadata": {
    "ExecuteTime": {
     "end_time": "2023-10-23T23:11:57.279866Z",
     "start_time": "2023-10-23T23:11:56.513697Z"
    },
    "execution": {
     "iopub.status.busy": "2023-10-27T07:20:58.159353Z",
     "iopub.status.idle": "2023-10-27T07:20:58.160354Z",
     "shell.execute_reply": "2023-10-27T07:20:58.159353Z",
     "shell.execute_reply.started": "2023-10-27T07:20:58.159353Z"
    },
    "tags": []
   },
   "outputs": [],
   "source": [
    "# df_externals.printSchema()\n",
    "# df_externals.count()"
   ]
  },
  {
   "cell_type": "markdown",
   "id": "cf97f162",
   "metadata": {},
   "source": [
    "E:\\\\0707\\\\voicedata\\\\230517\\\\d_80\\\\gcs\\\\여름이 오기 전 날씬락토페린 300mg!\\202304172018560BRBc3jsxpcGlVs98BpO1VSkp2b2_F90Se  \n",
    "E:\\\\0707\\\\voicedata\\\\230517\\\\d_80\\\\gcs\\\\여름이 오기 전 날씬락토페린 300mg!\\202304172025530BRBc3jsxpcGlVs98BpO1VSkp2b2_F90Se  \n",
    "  \n",
    "위와 같이 동일 user_id, ad_name인데 여러 개의 음성 파일이 저장된 경우가 있다. 이 경우 마지막 음성 파일의 메타데이터만 저장하도록 코드를 수정한다"
   ]
  },
  {
   "cell_type": "code",
   "execution_count": 19,
   "id": "719781ef",
   "metadata": {
    "ExecuteTime": {
     "end_time": "2023-10-23T23:12:00.346763Z",
     "start_time": "2023-10-23T23:11:57.280867Z"
    },
    "execution": {
     "iopub.execute_input": "2023-11-08T06:17:39.603372Z",
     "iopub.status.busy": "2023-11-08T06:17:39.602373Z",
     "iopub.status.idle": "2023-11-08T06:17:39.634815Z",
     "shell.execute_reply": "2023-11-08T06:17:39.634764Z",
     "shell.execute_reply.started": "2023-11-08T06:17:39.603372Z"
    },
    "tags": []
   },
   "outputs": [],
   "source": [
    "# Window 함수 설정\n",
    "windowSpec = Window.partitionBy(\"user_id\", \"ad_name\").orderBy(F.desc(\"record_time\"))\n",
    "\n",
    "# row_number 추가\n",
    "df_externals = df_externals.withColumn(\"row_number\", F.row_number().over(windowSpec))\n",
    "\n",
    "# row_number가 1인 행만 필터링\n",
    "df_externals = df_externals.filter(F.col(\"row_number\") == 1).drop(\"row_number\")\n",
    "# df_externals.count()"
   ]
  },
  {
   "cell_type": "markdown",
   "id": "3932ddef-1a89-4ab9-b29a-52fd37ad3947",
   "metadata": {},
   "source": [
    "### df_externals 데이터 변환"
   ]
  },
  {
   "cell_type": "code",
   "execution_count": 33,
   "id": "b2a49271-134a-4820-a9b4-6200276eea1a",
   "metadata": {
    "execution": {
     "iopub.execute_input": "2023-11-08T07:32:07.331363Z",
     "iopub.status.busy": "2023-11-08T07:32:07.331363Z",
     "iopub.status.idle": "2023-11-08T07:32:07.346359Z",
     "shell.execute_reply": "2023-11-08T07:32:07.346359Z",
     "shell.execute_reply.started": "2023-11-08T07:32:07.331363Z"
    }
   },
   "outputs": [],
   "source": [
    "# 'birth_year' 컬럼의 데이터타입을 문자열로 변환하고, lpad를 사용하여 한 자리 숫자 앞에 0을 붙입니다.\n",
    "df_externals = df_externals.withColumn(\"birth_year\", lpad(col(\"birth_year\").cast(\"string\"), 2, '0'))"
   ]
  },
  {
   "cell_type": "markdown",
   "id": "8ecfa3c5",
   "metadata": {},
   "source": [
    "### df_externals 확인 코드"
   ]
  },
  {
   "cell_type": "code",
   "execution_count": 34,
   "id": "06f51585",
   "metadata": {
    "ExecuteTime": {
     "end_time": "2023-10-23T23:12:00.362766Z",
     "start_time": "2023-10-23T23:12:00.348764Z"
    },
    "execution": {
     "iopub.execute_input": "2023-11-08T07:33:14.949281Z",
     "iopub.status.busy": "2023-11-08T07:33:14.949281Z",
     "iopub.status.idle": "2023-11-08T07:33:14.967781Z",
     "shell.execute_reply": "2023-11-08T07:33:14.966666Z",
     "shell.execute_reply.started": "2023-11-08T07:33:14.949281Z"
    }
   },
   "outputs": [
    {
     "name": "stdout",
     "output_type": "stream",
     "text": [
      "root\n",
      " |-- accuracy: integer (nullable = true)\n",
      " |-- ad_name: string (nullable = true)\n",
      " |-- record_time: long (nullable = true)\n",
      " |-- user_id: string (nullable = true)\n",
      " |-- gender: string (nullable = true)\n",
      " |-- birth_year: string (nullable = true)\n",
      " |-- local_code: string (nullable = true)\n",
      " |-- is_test: integer (nullable = true)\n",
      " |-- birth_year_string: string (nullable = true)\n",
      "\n"
     ]
    }
   ],
   "source": [
    "df_externals.printSchema()\n",
    "# print(df_externals.columns)\n",
    "# df_externals.show(5)\n",
    "# df_externals.count()"
   ]
  },
  {
   "cell_type": "code",
   "execution_count": 35,
   "id": "83cd5519-81f5-4c64-9be6-bca9fc467c00",
   "metadata": {
    "execution": {
     "iopub.execute_input": "2023-11-08T07:33:24.822150Z",
     "iopub.status.busy": "2023-11-08T07:33:24.822150Z",
     "iopub.status.idle": "2023-11-08T07:33:31.917454Z",
     "shell.execute_reply": "2023-11-08T07:33:31.916454Z",
     "shell.execute_reply.started": "2023-11-08T07:33:24.822150Z"
    }
   },
   "outputs": [
    {
     "name": "stdout",
     "output_type": "stream",
     "text": [
      "+----------+-----+\n",
      "|birth_year|count|\n",
      "+----------+-----+\n",
      "|82        |42686|\n",
      "|81        |40608|\n",
      "|83        |39939|\n",
      "|79        |38530|\n",
      "|80        |36181|\n",
      "|92        |36131|\n",
      "|88        |34991|\n",
      "|95        |34965|\n",
      "|86        |34081|\n",
      "|91        |34043|\n",
      "|90        |33938|\n",
      "|84        |33696|\n",
      "|93        |33292|\n",
      "|87        |32248|\n",
      "|89        |31032|\n",
      "|85        |30303|\n",
      "|94        |28962|\n",
      "|96        |25034|\n",
      "|78        |24243|\n",
      "|76        |23667|\n",
      "|00        |23197|\n",
      "|74        |21812|\n",
      "|98        |21680|\n",
      "|72        |21184|\n",
      "|97        |20635|\n",
      "|77        |20629|\n",
      "|71        |20133|\n",
      "|73        |20121|\n",
      "|70        |19181|\n",
      "|69        |18304|\n",
      "|75        |17529|\n",
      "|68        |17097|\n",
      "|99        |17095|\n",
      "|66        |15284|\n",
      "|01        |15278|\n",
      "|65        |13456|\n",
      "|02        |11850|\n",
      "|67        |11708|\n",
      "|64        |11289|\n",
      "|62        |11157|\n",
      "|63        |10574|\n",
      "|03        |9829 |\n",
      "|60        |9819 |\n",
      "|04        |8830 |\n",
      "|59        |8591 |\n",
      "|08        |7914 |\n",
      "|05        |7584 |\n",
      "|06        |7376 |\n",
      "|61        |6809 |\n",
      "|07        |6225 |\n",
      "|58        |3219 |\n",
      "|55        |2806 |\n",
      "|57        |2695 |\n",
      "|52        |2485 |\n",
      "|54        |1878 |\n",
      "|50        |1097 |\n",
      "|51        |1076 |\n",
      "|42        |997  |\n",
      "|43        |859  |\n",
      "|45        |753  |\n",
      "|53        |752  |\n",
      "|56        |709  |\n",
      "|49        |673  |\n",
      "|09        |501  |\n",
      "|47        |422  |\n",
      "|37        |410  |\n",
      "|44        |394  |\n",
      "|36        |193  |\n",
      "|48        |116  |\n",
      "|41        |57   |\n",
      "|10        |19   |\n",
      "|11        |4    |\n",
      "|40        |3    |\n",
      "|46        |1    |\n",
      "+----------+-----+\n",
      "\n"
     ]
    }
   ],
   "source": [
    "# # 'birth_year' 컬럼의 고유한 값과 그 빈도수를 계산\n",
    "# externals_birth_year_counts = df_externals.groupBy(\"birth_year\").count()\n",
    "\n",
    "# # 결과를 'count' 컬럼에 따라 내림차순으로 정렬\n",
    "# externals_birth_year_counts_ordered = externals_birth_year_counts.orderBy(F.desc(\"count\"))\n",
    "\n",
    "# # DataFrame의 전체 행 수를 얻습니다.\n",
    "# total_rows_of_externals_birth = externals_birth_year_counts_ordered.count()\n",
    "\n",
    "# # 결과를 출력\n",
    "# externals_birth_year_counts_ordered.show(total_rows_of_externals_birth, truncate=False)"
   ]
  },
  {
   "cell_type": "code",
   "execution_count": 28,
   "id": "f2da3d15-e10b-4c62-9427-2490be83f51c",
   "metadata": {
    "execution": {
     "iopub.execute_input": "2023-11-08T06:57:29.345615Z",
     "iopub.status.busy": "2023-11-08T06:57:29.344615Z",
     "iopub.status.idle": "2023-11-08T06:57:34.738127Z",
     "shell.execute_reply": "2023-11-08T06:57:34.737834Z",
     "shell.execute_reply.started": "2023-11-08T06:57:29.344615Z"
    }
   },
   "outputs": [],
   "source": [
    "# 'birth_year'가 0인 행들을 필터링합니다.\n",
    "externals_birth_year_zero = df_externals.filter(F.col(\"birth_year\") == 0)\n",
    "\n",
    "# 필터링된 데이터 프레임을 CSV 파일로 저장합니다.\n",
    "externals_birth_year_zero.write.csv(firestore_directory + \"/birth_year_zero.csv\", header=True)"
   ]
  },
  {
   "cell_type": "markdown",
   "id": "b1a778cb",
   "metadata": {},
   "source": [
    "## df_user 로드 및 통합"
   ]
  },
  {
   "cell_type": "code",
   "execution_count": 41,
   "id": "e5a058e0",
   "metadata": {
    "ExecuteTime": {
     "end_time": "2023-10-23T23:12:00.666836Z",
     "start_time": "2023-10-23T23:12:00.364768Z"
    },
    "execution": {
     "iopub.execute_input": "2023-11-08T07:39:18.316856Z",
     "iopub.status.busy": "2023-11-08T07:39:18.316856Z",
     "iopub.status.idle": "2023-11-08T07:39:18.662052Z",
     "shell.execute_reply": "2023-11-08T07:39:18.662052Z",
     "shell.execute_reply.started": "2023-11-08T07:39:18.316856Z"
    },
    "tags": []
   },
   "outputs": [],
   "source": [
    "df_users = load_csv_to_df_spark(firestore_directory, ['users_data.csv'])"
   ]
  },
  {
   "cell_type": "code",
   "execution_count": 42,
   "id": "c8a917d9",
   "metadata": {
    "ExecuteTime": {
     "end_time": "2023-10-23T23:12:00.714846Z",
     "start_time": "2023-10-23T23:12:00.667836Z"
    },
    "execution": {
     "iopub.execute_input": "2023-11-08T07:39:21.320222Z",
     "iopub.status.busy": "2023-11-08T07:39:21.320222Z",
     "iopub.status.idle": "2023-11-08T07:39:21.371071Z",
     "shell.execute_reply": "2023-11-08T07:39:21.370071Z",
     "shell.execute_reply.started": "2023-11-08T07:39:21.320222Z"
    },
    "tags": []
   },
   "outputs": [],
   "source": [
    "# 기존의 script를 drop하고, reward 컬럼명을 script로 바꿈\n",
    "df_user_backup = df_user_backup.drop(\"userID\")\n",
    "df_user_backup = df_user_backup.withColumnRenamed(\"doc_id\", \"user_id\")\n",
    "\n",
    "# 컬럼 순서를 동일하게 맞춤\n",
    "df_users = df_users.select(*df_user_backup.columns)\n",
    "\n",
    "# 두 DataFrame을 합침\n",
    "combined_df = df_users.union(df_user_backup)"
   ]
  },
  {
   "cell_type": "code",
   "execution_count": 44,
   "id": "2dc0e03d",
   "metadata": {
    "ExecuteTime": {
     "end_time": "2023-10-23T23:12:00.730850Z",
     "start_time": "2023-10-23T23:12:00.716847Z"
    },
    "execution": {
     "iopub.execute_input": "2023-11-08T07:45:44.707650Z",
     "iopub.status.busy": "2023-11-08T07:45:44.707650Z",
     "iopub.status.idle": "2023-11-08T07:45:44.719939Z",
     "shell.execute_reply": "2023-11-08T07:45:44.719939Z",
     "shell.execute_reply.started": "2023-11-08T07:45:44.707650Z"
    },
    "tags": []
   },
   "outputs": [
    {
     "name": "stdout",
     "output_type": "stream",
     "text": [
      "[('user_id', 'string'), ('REVIEW_TOPIC', 'boolean'), ('auth', 'int'), ('birthday', 'int'), ('wingTime', 'string'), ('wing', 'int'), ('realName', 'string'), ('PRIZES_TOPIC', 'boolean'), ('name', 'string'), ('phone', 'bigint'), ('isChallengeRequestAllowed', 'boolean'), ('monthlyPoint', 'int'), ('detailAddress', 'string'), ('engine', 'string'), ('perfect', 'double'), ('isSoundAllowed', 'boolean'), ('NOTICE_TOPIC', 'boolean'), ('point', 'int'), ('monthlyPerfects', 'double'), ('ANY_TOPIC', 'boolean'), ('MARKETING_TOPIC', 'boolean'), ('searchKeyWord', 'string'), ('language', 'string'), ('job', 'string'), ('date', 'date'), ('image', 'string'), ('win', 'int'), ('mail', 'string'), ('address', 'string'), ('gender', 'string'), ('phoneId', 'string'), ('recommendCode', 'string'), ('isOnline', 'boolean'), ('isProvider', 'string'), ('lastParticipation', 'string'), ('previousMonthPoint', 'double'), ('fcmToken', 'string'), ('monthlyPerfect', 'double'), ('challengeRequest', 'string'), ('gamePlayed', 'double'), ('city', 'string'), ('lost', 'double'), ('dailyPoint2', 'double'), ('previousWeekPoint', 'double'), ('weeklyPoint', 'double'), ('spentHeart', 'double'), ('dailyPoint', 'double'), ('spentHeart2', 'double'), ('right', 'double'), ('best', 'double')]\n",
      "[('user_id', 'string'), ('REVIEW_TOPIC', 'boolean'), ('auth', 'int'), ('birthday', 'int'), ('wingTime', 'string'), ('wing', 'int'), ('realName', 'string'), ('PRIZES_TOPIC', 'boolean'), ('name', 'string'), ('phone', 'bigint'), ('isChallengeRequestAllowed', 'boolean'), ('monthlyPoint', 'int'), ('detailAddress', 'string'), ('engine', 'string'), ('perfect', 'double'), ('isSoundAllowed', 'boolean'), ('NOTICE_TOPIC', 'boolean'), ('point', 'int'), ('monthlyPerfects', 'double'), ('ANY_TOPIC', 'boolean'), ('MARKETING_TOPIC', 'boolean'), ('searchKeyWord', 'string'), ('language', 'string'), ('job', 'string'), ('date', 'date'), ('image', 'string'), ('win', 'int'), ('mail', 'string'), ('address', 'string'), ('gender', 'string'), ('phoneId', 'string'), ('recommendCode', 'string'), ('isOnline', 'boolean'), ('isProvider', 'string'), ('lastParticipation', 'string'), ('previousMonthPoint', 'double'), ('fcmToken', 'string'), ('monthlyPerfect', 'double'), ('challengeRequest', 'string'), ('gamePlayed', 'double'), ('city', 'string'), ('lost', 'double'), ('dailyPoint2', 'double'), ('previousWeekPoint', 'double'), ('weeklyPoint', 'double'), ('spentHeart', 'double'), ('dailyPoint', 'double'), ('spentHeart2', 'double'), ('right', 'double'), ('best', 'double')]\n"
     ]
    }
   ],
   "source": [
    "print(df_users.dtypes)\n",
    "print(df_user_backup.dtypes)"
   ]
  },
  {
   "cell_type": "code",
   "execution_count": null,
   "id": "01f26c00",
   "metadata": {
    "ExecuteTime": {
     "end_time": "2023-10-23T23:12:01.206957Z",
     "start_time": "2023-10-23T23:12:00.732851Z"
    },
    "execution": {
     "iopub.status.busy": "2023-10-27T07:20:58.166355Z",
     "iopub.status.idle": "2023-10-27T07:20:58.167354Z",
     "shell.execute_reply": "2023-10-27T07:20:58.167354Z",
     "shell.execute_reply.started": "2023-10-27T07:20:58.166355Z"
    },
    "tags": []
   },
   "outputs": [],
   "source": [
    "# # df_users 불완전 데이터 체크\n",
    "\n",
    "# # user_id를 제외한 모든 컬럼 리스트 생성\n",
    "# columns_except_user_id = [c for c in df_users.columns if c != \"user_id\"]\n",
    "\n",
    "# # 모든 해당 컬럼들이 null인 조건 생성\n",
    "# condition = [isnull(column_name) for column_name in columns_except_user_id]\n",
    "# combined_condition = condition[0]\n",
    "# for c in condition[1:]:\n",
    "#     combined_condition &= c\n",
    "\n",
    "# # 조건에 맞는 행을 필터링하고 개수 확인\n",
    "# missing_rows_count = df_users.filter(combined_condition).count()\n",
    "# print(f\"Number of rows where all columns (except user_id) are missing: {missing_rows_count}\")"
   ]
  },
  {
   "cell_type": "markdown",
   "id": "596b09eb",
   "metadata": {},
   "source": [
    "# df_attend & df_externals 조인 쿼리 수행\n",
    "df_attend가 기준 스키마"
   ]
  },
  {
   "cell_type": "markdown",
   "id": "3a34eac9",
   "metadata": {},
   "source": [
    "## df_attend와 df_externals의 user_id+ad_name 중복 행에 대한 분석"
   ]
  },
  {
   "cell_type": "code",
   "execution_count": null,
   "id": "0db6f71b",
   "metadata": {
    "ExecuteTime": {
     "end_time": "2023-10-23T23:12:01.223259Z",
     "start_time": "2023-10-23T23:12:01.208958Z"
    },
    "execution": {
     "iopub.status.busy": "2023-10-27T07:20:58.168355Z",
     "iopub.status.idle": "2023-10-27T07:20:58.168355Z",
     "shell.execute_reply": "2023-10-27T07:20:58.168355Z",
     "shell.execute_reply.started": "2023-10-27T07:20:58.168355Z"
    }
   },
   "outputs": [],
   "source": [
    "# df_attend.count()"
   ]
  },
  {
   "cell_type": "markdown",
   "id": "df585874",
   "metadata": {},
   "source": [
    "6709019 (df_attend 변경 이전)"
   ]
  },
  {
   "cell_type": "code",
   "execution_count": null,
   "id": "d75a9a32",
   "metadata": {
    "ExecuteTime": {
     "end_time": "2023-10-23T23:12:01.238275Z",
     "start_time": "2023-10-23T23:12:01.225262Z"
    },
    "execution": {
     "iopub.status.busy": "2023-10-27T07:20:58.169355Z",
     "iopub.status.idle": "2023-10-27T07:20:58.169355Z",
     "shell.execute_reply": "2023-10-27T07:20:58.169355Z",
     "shell.execute_reply.started": "2023-10-27T07:20:58.169355Z"
    }
   },
   "outputs": [],
   "source": [
    "# # 각 DataFrame에서 user_id와 ad_name 조합이 유일한지 확인\n",
    "# dup_df_attend = df_attend.groupBy('user_id', 'name').agg(F.count('*').alias('num_rows')).filter('num_rows > 1')\n",
    "# print(dup_df_attend.count())\n",
    "# dup_df_externals = df_externals.groupBy('user_id', 'ad_name').agg(F.count('*').alias('num_rows')).filter('num_rows > 1')\n",
    "# print(dup_df_externals.count())"
   ]
  },
  {
   "cell_type": "markdown",
   "id": "e16aa11a",
   "metadata": {},
   "source": [
    "수정 전  \n",
    "2782, 5182  \n",
    "수정 후  \n",
    " , 0"
   ]
  },
  {
   "cell_type": "code",
   "execution_count": null,
   "id": "2727394a",
   "metadata": {
    "ExecuteTime": {
     "end_time": "2023-10-23T23:12:01.254310Z",
     "start_time": "2023-10-23T23:12:01.240276Z"
    },
    "execution": {
     "iopub.status.busy": "2023-10-27T07:20:58.170355Z",
     "iopub.status.idle": "2023-10-27T07:20:58.170355Z",
     "shell.execute_reply": "2023-10-27T07:20:58.170355Z",
     "shell.execute_reply.started": "2023-10-27T07:20:58.170355Z"
    }
   },
   "outputs": [],
   "source": [
    "# # 중복된 행을 생략 없이 출력 (처음 20행)\n",
    "# dup_df_attend.show(n=40, truncate=False)\n",
    "# dup_df_externals.show(n=40, truncate=False)"
   ]
  },
  {
   "cell_type": "code",
   "execution_count": 45,
   "id": "0598b6b8",
   "metadata": {
    "ExecuteTime": {
     "end_time": "2023-10-23T23:12:01.556343Z",
     "start_time": "2023-10-23T23:12:01.256310Z"
    },
    "execution": {
     "iopub.execute_input": "2023-11-08T07:46:18.991648Z",
     "iopub.status.busy": "2023-11-08T07:46:18.990647Z",
     "iopub.status.idle": "2023-11-08T07:46:19.315859Z",
     "shell.execute_reply": "2023-11-08T07:46:19.315782Z",
     "shell.execute_reply.started": "2023-11-08T07:46:18.991648Z"
    },
    "tags": []
   },
   "outputs": [],
   "source": [
    "# df_attend와 df_externals의 조인\n",
    "\n",
    "# df_attend에서 가져올 컬럼 선택\n",
    "selected_columns_attend = [col for col in df_attend.columns if col not in [\"ArrayAddResult\", \"type\", \"review_wish\"]]\n",
    "\n",
    "# df_externals에서 가져올 컬럼 선택\n",
    "selected_columns_externals = [\"birth_year\", \"local_code\", \"is_test\", \"gender\"]\n",
    "\n",
    "# 조인 조건 설정\n",
    "join_condition_attend_externals = (df_attend[\"user_id\"] == df_externals[\"user_id\"]) & (df_attend[\"name\"] == df_externals[\"ad_name\"])\n",
    "\n",
    "# 조인 수행\n",
    "result_df_attend_externals = df_attend.select(*selected_columns_attend).join(\n",
    "    df_externals.select(\"user_id\", \"ad_name\", *selected_columns_externals),\n",
    "    join_condition_attend_externals, \"left_outer\"\n",
    ")\n",
    "\n",
    "# 중복된 컬럼 제거\n",
    "result_df_attend_externals = result_df_attend_externals.drop(df_externals[\"user_id\"]).drop(df_externals[\"ad_name\"])"
   ]
  },
  {
   "cell_type": "code",
   "execution_count": null,
   "id": "2a6a143a",
   "metadata": {
    "ExecuteTime": {
     "end_time": "2023-10-23T23:12:01.572360Z",
     "start_time": "2023-10-23T23:12:01.557344Z"
    },
    "execution": {
     "iopub.status.busy": "2023-10-27T07:20:58.172356Z",
     "iopub.status.idle": "2023-10-27T07:20:58.173356Z",
     "shell.execute_reply": "2023-10-27T07:20:58.172356Z",
     "shell.execute_reply.started": "2023-10-27T07:20:58.172356Z"
    }
   },
   "outputs": [],
   "source": [
    "# # 결과 확인\n",
    "# first_row = result_df_attend_externals.head().asDict()\n",
    "# for key, value in first_row.items():\n",
    "#     print(f\"{key}: {value}\")\n",
    "# print(result_df_attend_externals.columns)"
   ]
  },
  {
   "cell_type": "code",
   "execution_count": null,
   "id": "439069ae",
   "metadata": {
    "ExecuteTime": {
     "end_time": "2023-10-23T23:12:01.588266Z",
     "start_time": "2023-10-23T23:12:01.573360Z"
    },
    "execution": {
     "iopub.status.busy": "2023-10-27T07:20:58.173356Z",
     "iopub.status.idle": "2023-10-27T07:20:58.174356Z",
     "shell.execute_reply": "2023-10-27T07:20:58.173356Z",
     "shell.execute_reply.started": "2023-10-27T07:20:58.173356Z"
    }
   },
   "outputs": [],
   "source": [
    "# result_df_attend_externals.count()"
   ]
  },
  {
   "cell_type": "code",
   "execution_count": null,
   "id": "ff22c0af",
   "metadata": {
    "ExecuteTime": {
     "end_time": "2023-10-23T23:12:01.604221Z",
     "start_time": "2023-10-23T23:12:01.590266Z"
    },
    "execution": {
     "iopub.status.busy": "2023-10-27T07:20:58.175357Z",
     "iopub.status.idle": "2023-10-27T07:20:58.175357Z",
     "shell.execute_reply": "2023-10-27T07:20:58.175357Z",
     "shell.execute_reply.started": "2023-10-27T07:20:58.175357Z"
    }
   },
   "outputs": [],
   "source": [
    "# def find_duplicate_columns(df):\n",
    "#     columns = df.columns\n",
    "#     duplicates = [col for col in columns if columns.count(col) > 1]\n",
    "#     return list(set(duplicates))\n",
    "\n",
    "# duplicate_columns = find_duplicate_columns(result_df_attend_externals)\n",
    "# print(duplicate_columns)"
   ]
  },
  {
   "cell_type": "code",
   "execution_count": null,
   "id": "c93eab19",
   "metadata": {
    "ExecuteTime": {
     "end_time": "2023-10-23T23:15:56.470090Z",
     "start_time": "2023-10-23T23:12:01.609222Z"
    },
    "execution": {
     "iopub.status.busy": "2023-10-27T07:20:58.176357Z",
     "iopub.status.idle": "2023-10-27T07:20:58.176357Z",
     "shell.execute_reply": "2023-10-27T07:20:58.176357Z",
     "shell.execute_reply.started": "2023-10-27T07:20:58.176357Z"
    },
    "tags": []
   },
   "outputs": [],
   "source": [
    "# non_null_externals_rows = df_externals.filter(\n",
    "#     (df_externals[\"birth_year\"].isNotNull()) |\n",
    "#     (df_externals[\"local_code\"].isNotNull()) |\n",
    "#     (df_externals[\"is_test\"].isNotNull())\n",
    "# ).count()\n",
    "# print(f\"df_externals에서 'birth_year', 'local_code', 'is_test' 중 하나라도 null이 아닌 행의 수: {non_null_externals_rows}\")\n",
    "\n",
    "# # 2단계: result_df_attend_externals에서 'birth_year', 'local_code', 'is_test' 중 하나라도 null인 행의 수 확인\n",
    "# non_null_result_rows = result_df_attend_externals.filter(\n",
    "#     (result_df_attend_externals[\"birth_year\"].isNotNull()) |\n",
    "#     (result_df_attend_externals[\"local_code\"].isNotNull()) |\n",
    "#     (result_df_attend_externals[\"is_test\"].isNotNull())\n",
    "# ).count()\n",
    "\n",
    "# print(f\"result_df_attend_externals에서 'birth_year', 'local_code', 'is_test' 중 하나라도 null이 아닌 행의 수: {non_null_result_rows}\")"
   ]
  },
  {
   "cell_type": "markdown",
   "id": "793b9e2a-1bef-40a7-82d7-4e0d4b34e112",
   "metadata": {},
   "source": [
    "231019 기준 출력  \n",
    "df_externals에서 'birth_year', 'local_code', 'is_test' 중 하나라도 null이 아닌 행의 수: 1122859  \n",
    "result_df_attend_externals에서 'birth_year', 'local_code', 'is_test' 중 하나라도 null이 아닌 행의 수: 1053656  "
   ]
  },
  {
   "cell_type": "code",
   "execution_count": null,
   "id": "a9e54fa6",
   "metadata": {
    "ExecuteTime": {
     "end_time": "2023-10-23T23:15:56.486094Z",
     "start_time": "2023-10-23T23:15:56.473090Z"
    },
    "execution": {
     "iopub.status.busy": "2023-10-27T07:20:58.177358Z",
     "iopub.status.idle": "2023-10-27T07:20:58.178357Z",
     "shell.execute_reply": "2023-10-27T07:20:58.178357Z",
     "shell.execute_reply.started": "2023-10-27T07:20:58.178357Z"
    }
   },
   "outputs": [],
   "source": [
    "# # df_attend와 df_externals에서 조인 조건에 맞는 키 값이 얼마나 많이 일치하는지 확인\n",
    "# matching_keys_count = df_attend.select(*selected_columns_attend).join(\n",
    "#     df_externals.select(\"user_id\", \"ad_name\", *selected_columns_externals),\n",
    "#     join_condition_attend_externals, \"left_outer\"\n",
    "# ).count()\n",
    "# print(f\"Matching keys between df_attend and df_externals: {matching_keys_count}\")"
   ]
  },
  {
   "cell_type": "code",
   "execution_count": null,
   "id": "0a52a783",
   "metadata": {
    "ExecuteTime": {
     "end_time": "2023-10-23T23:15:56.502097Z",
     "start_time": "2023-10-23T23:15:56.489094Z"
    },
    "execution": {
     "iopub.status.busy": "2023-10-27T07:20:58.178357Z",
     "iopub.status.idle": "2023-10-27T07:20:58.179357Z",
     "shell.execute_reply": "2023-10-27T07:20:58.179357Z",
     "shell.execute_reply.started": "2023-10-27T07:20:58.179357Z"
    }
   },
   "outputs": [],
   "source": [
    "# # df_externals 내에서 user_id와 ad_name의 조합이 중복으로 나타나는 경우의 수\n",
    "# duplicate_keys_count = df_externals.groupBy(\"user_id\", \"ad_name\").agg(count(\"*\").alias(\"num_rows\")).filter(\"num_rows > 1\").count()\n",
    "# print(f\"df_externals 내에서 user_id와 ad_name의 조합이 중복으로 나타나는 수: {duplicate_keys_count}\")\n",
    "\n",
    "# # df_externals 내에서 user_id와 ad_name, accuracy의 조합이 중복으로 나타나는 경우의 수\n",
    "# duplicate_keys_count = df_externals.groupBy(\"user_id\", \"ad_name\", \"accuracy\").agg(count(\"*\").alias(\"num_rows\")).filter(\"num_rows > 1\").count()\n",
    "# print(f\"df_externals 내에서 user_id와 ad_name, accuracy의 조합이 중복으로 나타나는 수: {duplicate_keys_count}\")\n",
    "\n",
    "# # df_externals 내에서 user_id와 ad_name, record_time의 조합이 중복으로 나타나는 경우의 수\n",
    "# duplicate_keys_count = df_externals.groupBy(\"user_id\", \"ad_name\", \"record_time\").agg(count(\"*\").alias(\"num_rows\")).filter(\"num_rows > 1\").count()\n",
    "# print(f\"df_externals 내에서 user_id, ad_name, 그리고 record_time의 조합이 중복으로 나타나는 수: {duplicate_keys_count}\")\n",
    "\n",
    "# # df_externals 내에서 user_id와 ad_name, gender의 조합이 중복으로 나타나는 경우의 수\n",
    "# duplicate_keys_count = df_externals.groupBy(\"user_id\", \"ad_name\", \"gender\").agg(count(\"*\").alias(\"num_rows\")).filter(\"num_rows > 1\").count()\n",
    "# print(f\"df_externals 내에서 user_id, ad_name, 그리고 gender의 조합이 중복으로 나타나는 수: {duplicate_keys_count}\")\n",
    "\n",
    "# # df_externals 내에서 user_id와 ad_name, birth_year의 조합이 중복으로 나타나는 경우의 수\n",
    "# duplicate_keys_count = df_externals.groupBy(\"user_id\", \"ad_name\", \"birth_year\").agg(count(\"*\").alias(\"num_rows\")).filter(\"num_rows > 1\").count()\n",
    "# print(f\"df_externals 내에서 user_id, ad_name, 그리고 birth_year의 조합이 중복으로 나타나는 수: {duplicate_keys_count}\")\n",
    "\n",
    "# # df_externals 내에서 record_time을 제외한 파일명이 중복으로 나타나는 경우의 수\n",
    "# duplicate_keys_count = df_externals.groupBy(\"user_id\", \"ad_name\", \"gender\", \"birth_year\", \"local_code\").agg(count(\"*\").alias(\"num_rows\")).filter(\"num_rows > 1\").count()\n",
    "# print(f\"df_externals 내에서 record_time을 제외한 파일명이 중복으로 나타나는 경우의 수: {duplicate_keys_count}\")"
   ]
  },
  {
   "cell_type": "markdown",
   "id": "4666f49e",
   "metadata": {},
   "source": [
    "일단 외부 저장소(SSD, HDD)에 데이터가 중복 저장되었다고 간주, 다음 작업으로 넘어간다\n",
    "\n",
    "df_externals 내에서 user_id와 ad_name의 조합이 중복으로 나타나는 수: 373451  \n",
    "df_externals 내에서 user_id, ad_name, 그리고 gender의 조합이 중복으로 나타나는 수: 373450  \n",
    "df_externals 내에서 user_id, ad_name, 그리고 birth_year의 조합이 중복으로 나타나는 수: 373446  \n",
    "\n",
    "이 결과를 통해 user_id, ad_name, gender, birth_year 즉 SSD에 저장된 record_time이 없는 거의 대부분의 데이터가 HDD 데이터와 중복이 발생한다는 걸 확인할 수 있다.  \n",
    "추가 작업을 통해 이 중복이 확실한 것인지 체크하고 관련해서 활동들이 필요하다  \n",
    "\n",
    "user 수 := ssd u95 파일 수 := df_externals의 중복수   \n",
    "이 세가지의 수가 서로 근사치임을 참고  \n",
    "\n",
    "! u80은 80퍼 이상을 모두 포함하니 u95도 모두 포함됨 -> df_externals에 ssd의 u95는 포함시키지 X  "
   ]
  },
  {
   "cell_type": "markdown",
   "id": "54259ad9",
   "metadata": {},
   "source": [
    "# result_df_attend_externals & df_users 조인 쿼리 수행\n",
    "### result_df_attend_externals가 기준 스키마"
   ]
  },
  {
   "cell_type": "code",
   "execution_count": 46,
   "id": "f86d5fd0",
   "metadata": {
    "ExecuteTime": {
     "end_time": "2023-10-23T23:16:48.069155Z",
     "start_time": "2023-10-23T23:15:56.505097Z"
    },
    "execution": {
     "iopub.execute_input": "2023-11-08T07:47:42.433072Z",
     "iopub.status.busy": "2023-11-08T07:47:42.433072Z",
     "iopub.status.idle": "2023-11-08T07:47:43.046625Z",
     "shell.execute_reply": "2023-11-08T07:47:43.046550Z",
     "shell.execute_reply.started": "2023-11-08T07:47:42.433072Z"
    },
    "tags": []
   },
   "outputs": [
    {
     "data": {
      "text/plain": [
       "DataFrame[user_id: string, ArrayVoice: array<string>, attend: double, resultPass: string, imageUrl: string, addText: string, name: string, ArrayPercent: array<string>, ArrayDate: array<string>, title: string, birth_year: string, local_code: string, is_test: int, gender: string]"
      ]
     },
     "execution_count": 46,
     "metadata": {},
     "output_type": "execute_result"
    }
   ],
   "source": [
    "# df_users 변환\n",
    "df_users_transformed = df_users.withColumn(\"gender\", when(col(\"gender\") == \"남자\", \"M\").otherwise(\"W\")) \\\n",
    "                               .withColumn(\"birthday\", substring(col(\"birthday\"), 3, 2)) \\\n",
    "                               .withColumnRenamed(\"user_id\", \"user_id_in_users\") \\\n",
    "                               .withColumn(\"engine\", when(col(\"engine\") == \"수도권\", \"Se\")\n",
    "                                           .when(col(\"engine\") == \"경상권\", \"Gy\")\n",
    "                                           .when(col(\"engine\") == \"강원권\", \"Ga\")\n",
    "                                           .when(col(\"engine\") == \"충청권\", \"Ch\")\n",
    "                                           .when(col(\"engine\") == \"전라권\", \"Jd\")\n",
    "                                           .when(col(\"engine\") == \"제주권\", \"Je\")\n",
    "                                           .otherwise(\"EE\"))  # Jd가 전라도인지 제주도인지 불확실\n",
    "\n",
    "# df_users_transformed에서 필요한 컬럼만 선택\n",
    "df_users_transformed = df_users_transformed.select(\"user_id_in_users\", \"gender\", \"birthday\", \"engine\", \"job\", \"language\", \"perfect\")\n",
    "\n",
    "# 조인 조건 설정\n",
    "join_condition_to_users = (result_df_attend_externals[\"user_id\"] == df_users_transformed[\"user_id_in_users\"])\n",
    "\n",
    "# 조인 수행\n",
    "result_df_users = result_df_attend_externals.join(df_users_transformed, join_condition_to_users, \"left_outer\")\n",
    "\n",
    "# 필요한 컬럼만 선택하여 중복을 제거\n",
    "result_df_users = result_df_users.select(result_df_attend_externals[\"*\"],\n",
    "                                         df_users_transformed[\"gender\"].alias(\"new_gender\"),\n",
    "                                         df_users_transformed[\"birthday\"].alias(\"new_birthday\"),\n",
    "                                         df_users_transformed[\"engine\"].alias(\"new_engine\"),\n",
    "                                         df_users_transformed[\"job\"],\n",
    "                                         df_users_transformed[\"language\"],\n",
    "                                         df_users_transformed[\"perfect\"])\n",
    "\n",
    "# coalesce 함수를 사용하여 컬럼 값을 갱신\n",
    "result_df_users = result_df_users.withColumn(\"gender\", coalesce(col(\"new_gender\"), col(\"gender\"))) \\\n",
    "                                 .withColumn(\"birth_year\", coalesce(col(\"new_birthday\"), col(\"birth_year\"))) \\\n",
    "                                 .withColumn(\"local_code\", coalesce(col(\"new_engine\"), col(\"local_code\")))\n",
    "\n",
    "# 중복된 컬럼 및 임시 컬럼 제거\n",
    "result_df_users = result_df_users.drop(\"new_gender\", \"new_birthday\", \"new_engine\", \"user_id_in_users\")\n",
    "\n",
    "\n",
    "# 중복된 컬럼 제거\n",
    "result_df_users = result_df_users.drop(df_users_transformed[\"user_id_in_users\"])\n",
    "\n",
    "# 중간 결과 메모리 해제\n",
    "df_users_transformed.unpersist()\n",
    "result_df_attend_externals.unpersist()\n",
    "\n",
    "# result_df_users.show(5)"
   ]
  },
  {
   "cell_type": "markdown",
   "id": "898957e9",
   "metadata": {},
   "source": [
    "- 아래 gender_count 출력을 통해 df_users는 대다수의 df_attend와 조인이 되었음을 확인할 수 있다\n",
    "+------+-------+  \n",
    "|gender|  count|  \n",
    "+------+-------+  \n",
    "|     F|  23445|  \n",
    "|  null|  83857|  \n",
    "|     M|1405604|  \n",
    "|     W|5201125|  \n",
    "+------+-------+  "
   ]
  },
  {
   "cell_type": "code",
   "execution_count": null,
   "id": "af1ceafc",
   "metadata": {
    "ExecuteTime": {
     "end_time": "2023-10-23T23:16:48.085159Z",
     "start_time": "2023-10-23T23:16:48.071156Z"
    },
    "execution": {
     "iopub.status.busy": "2023-10-27T07:20:58.181358Z",
     "iopub.status.idle": "2023-10-27T07:20:58.181358Z",
     "shell.execute_reply": "2023-10-27T07:20:58.181358Z",
     "shell.execute_reply.started": "2023-10-27T07:20:58.181358Z"
    }
   },
   "outputs": [],
   "source": [
    "# # 각 값에 따른 개수 출력\n",
    "# gender_counts = result_df_users.groupBy(\"gender\").count().show()"
   ]
  },
  {
   "cell_type": "markdown",
   "id": "56a06915",
   "metadata": {},
   "source": [
    "## 분석\n",
    "- before 23-10-19 -\n",
    "language 값이 있는 행의 개수: 6592870  \n",
    "language 값이 없는 행의 개수: 121161  \n",
    "birth_year 값이 있는 행의 개수: 6630174  \n",
    "birth_year 값이 없는 행의 개수: 83857  \n",
    "name 값이 있는 행의 개수: 6626670  \n",
    "name 값이 없는 행의 개수: 87361  \n",
    "을 통해 대다수의 df_attend의 행과 df_users의 행이 조인되었다는 것을 확인할 수 있다\n",
    "\n",
    "- 23-10-19 -\n",
    "language 값이 있는 행의 개수: 13053761\n",
    "language 값이 없는 행의 개수: 634020\n",
    "birth_year 값이 있는 행의 개수: 13094265\n",
    "birth_year 값이 없는 행의 개수: 593516\n",
    "name 값이 있는 행의 개수: 13090674\n",
    "name 값이 없는 행의 개수: 597107"
   ]
  },
  {
   "cell_type": "code",
   "execution_count": null,
   "id": "acf5703c-9391-45c9-bd0a-e49190a64aee",
   "metadata": {
    "execution": {
     "iopub.execute_input": "2023-11-08T07:50:32.987817Z",
     "iopub.status.busy": "2023-11-08T07:50:32.987817Z"
    }
   },
   "outputs": [],
   "source": [
    "# 'birth_year' 컬럼의 고유한 값과 그 빈도수를 계산\n",
    "birth_year_counts = result_df_users.groupBy(\"birth_year\").count()\n",
    "\n",
    "# 결과를 'count' 컬럼에 따라 내림차순으로 정렬\n",
    "birth_year_counts_ordered = birth_year_counts.orderBy(F.desc(\"count\"))\n",
    "\n",
    "# DataFrame의 전체 행 수를 얻습니다.\n",
    "total_rows_of_birth = birth_year_counts_ordered.count()\n",
    "\n",
    "# 결과를 출력\n",
    "birth_year_counts_ordered.show(total_rows_of_birth, truncate=False)"
   ]
  },
  {
   "cell_type": "code",
   "execution_count": null,
   "id": "63d0a3d0",
   "metadata": {
    "ExecuteTime": {
     "end_time": "2023-10-23T23:16:48.101163Z",
     "start_time": "2023-10-23T23:16:48.087160Z"
    },
    "execution": {
     "iopub.status.busy": "2023-10-27T07:20:58.182358Z",
     "iopub.status.idle": "2023-10-27T07:20:58.182358Z",
     "shell.execute_reply": "2023-10-27T07:20:58.182358Z",
     "shell.execute_reply.started": "2023-10-27T07:20:58.182358Z"
    }
   },
   "outputs": [],
   "source": [
    "# # language 값이 있는 행의 개수\n",
    "# language_present_count = result_df_users.filter(result_df_users.language.isNotNull()).count()\n",
    "# # language 값이 없는 행의 개수\n",
    "# language_absent_count = result_df_users.filter(result_df_users.language.isNull()).count()\n",
    "\n",
    "# # birth_year 값이 있는 행의 개수\n",
    "# birth_year_present_count = result_df_users.filter(result_df_users.birth_year.isNotNull()).count()\n",
    "# # birth_year 값이 없는 행의 개수\n",
    "# birth_year_absent_count = result_df_users.filter(result_df_users.birth_year.isNull()).count()\n",
    "\n",
    "# # local_code 값이 있는 행의 개수\n",
    "# local_code_present_count = result_df_users.filter(result_df_users.local_code.isNotNull()).count()\n",
    "# # local_code 값이 없는 행의 개수\n",
    "# local_code_absent_count = result_df_users.filter(result_df_users.local_code.isNull()).count()\n",
    "\n",
    "# # # ArrayDate 값이 없으면서 record_time에 값이 있는 행의 개수\n",
    "# # array_date_absent_record_time_present_count = result_df_users.filter(\n",
    "# #     (result_df_users.ArrayDate.isNull()) & \n",
    "# #     (result_df_users.record_time.isNotNull())\n",
    "# # ).count()\n",
    "\n",
    "# print(f\"language 값이 있는 행의 개수: {language_present_count}\")\n",
    "# print(f\"language 값이 없는 행의 개수: {language_absent_count}\")\n",
    "\n",
    "# print(f\"birth_year 값이 있는 행의 개수: {birth_year_present_count}\")\n",
    "# print(f\"birth_year 값이 없는 행의 개수: {birth_year_absent_count}\")\n",
    "\n",
    "# print(f\"name 값이 있는 행의 개수: {local_code_present_count}\")\n",
    "# print(f\"name 값이 없는 행의 개수: {local_code_absent_count}\")"
   ]
  },
  {
   "cell_type": "code",
   "execution_count": null,
   "id": "d4eb29f5",
   "metadata": {
    "ExecuteTime": {
     "end_time": "2023-10-23T23:16:48.117166Z",
     "start_time": "2023-10-23T23:16:48.103165Z"
    },
    "execution": {
     "iopub.status.busy": "2023-10-27T07:20:58.183358Z",
     "iopub.status.idle": "2023-10-27T07:20:58.183358Z",
     "shell.execute_reply": "2023-10-27T07:20:58.183358Z",
     "shell.execute_reply.started": "2023-10-27T07:20:58.183358Z"
    }
   },
   "outputs": [],
   "source": [
    "result_df_users.columns"
   ]
  },
  {
   "cell_type": "markdown",
   "id": "9633d0ae",
   "metadata": {},
   "source": [
    "# result_df_users & df_ad 조인 쿼리 수행\n",
    "\n",
    "### result_df_attend_externals가 기준 스키마¶"
   ]
  },
  {
   "cell_type": "code",
   "execution_count": null,
   "id": "b149321b",
   "metadata": {
    "ExecuteTime": {
     "end_time": "2023-10-23T23:17:41.759179Z",
     "start_time": "2023-10-23T23:16:48.119167Z"
    },
    "execution": {
     "iopub.status.busy": "2023-10-27T07:20:58.184359Z",
     "iopub.status.idle": "2023-10-27T07:20:58.185359Z",
     "shell.execute_reply": "2023-10-27T07:20:58.184359Z",
     "shell.execute_reply.started": "2023-10-27T07:20:58.184359Z"
    },
    "tags": []
   },
   "outputs": [],
   "source": [
    "# df_ad에서 컬럼 이름 변경\n",
    "df_ad_renamed = df_ad.withColumnRenamed(\"ageArray\", \"excepted_age_array\") \\\n",
    "                   .withColumnRenamed(\"date\", \"ad_duration\") \\\n",
    "                   .withColumnRenamed(\"dateEnd\", \"ad_duration_end\") \\\n",
    "                   .withColumnRenamed(\"descArray\", \"desc_images_array\") \\\n",
    "                   .withColumnRenamed(\"imageArray\", \"images_array\") \\\n",
    "                   .withColumnRenamed(\"imageUrl\", \"thumbnail_image\") \\\n",
    "                   .withColumnRenamed(\"link\", \"ad_link\") \\\n",
    "                   .withColumnRenamed(\"player\", \"participant_count\") \\\n",
    "                   .withColumnRenamed(\"name\", \"ad_name\")\n",
    "\n",
    "# df_ad에서 필요한 컬럼만 선택\n",
    "selected_df_ad = df_ad_renamed.select(\"excepted_age_array\", \"collection\", \"ad_duration\", \"ad_duration_end\",\n",
    "                                       \"desc_images_array\", \"images_array\", \"thumbnail_image\", \"level\",\n",
    "                                       \"ad_link\", \"participant_count\", \"videoUrl\", \"ad_name\", \"script\")\n",
    "\n",
    "# 조인 수행\n",
    "join_condition_ad = (result_df_users[\"name\"] == selected_df_ad[\"ad_name\"])\n",
    "result_df = result_df_users.join(selected_df_ad, join_condition_ad, \"left_outer\")\n",
    "\n",
    "# 중복 컬럼 제거\n",
    "result_df = result_df.drop(selected_df_ad[\"ad_name\"])\n",
    "\n",
    "# # 최종 결과 출력\n",
    "# print(result_df.columns)\n",
    "# print(result_df.select(\"ArrayVoice\").show(10))  # 확인하고 싶은 컬럼 넣고 확인"
   ]
  },
  {
   "cell_type": "markdown",
   "id": "1eb485dc",
   "metadata": {},
   "source": [
    "# result_df 데이터 정합성 및 검증 작업"
   ]
  },
  {
   "cell_type": "code",
   "execution_count": null,
   "id": "79b406d4",
   "metadata": {
    "ExecuteTime": {
     "end_time": "2023-10-23T23:17:41.775183Z",
     "start_time": "2023-10-23T23:17:41.761181Z"
    },
    "execution": {
     "iopub.status.busy": "2023-10-27T07:20:58.186359Z",
     "iopub.status.idle": "2023-10-27T07:20:58.186359Z",
     "shell.execute_reply": "2023-10-27T07:20:58.186359Z",
     "shell.execute_reply.started": "2023-10-27T07:20:58.186359Z"
    }
   },
   "outputs": [],
   "source": [
    "# # 특정 user_id, ad_name으로 필터링\n",
    "# filtered_result_df = result_df.filter(\n",
    "#     (F.col(\"user_id\") == \"EyDwTDHLROSqn1aM6AhgvAWEvTs2\") & \n",
    "#     (F.col(\"ad_name\") == \"5,000원 로봇청소기\")\n",
    "# )\n",
    "# filtered_result_df.show()\n",
    "# # 여기서도 중복이 발생 중"
   ]
  },
  {
   "cell_type": "markdown",
   "id": "6ee528c5",
   "metadata": {},
   "source": [
    "## df_ad와 result_df_users의 name값의 고유 개수 및 일치 비율 체크"
   ]
  },
  {
   "cell_type": "code",
   "execution_count": null,
   "id": "9ee4c47e",
   "metadata": {
    "ExecuteTime": {
     "end_time": "2023-10-23T23:24:56.047269Z",
     "start_time": "2023-10-23T23:17:41.777183Z"
    },
    "execution": {
     "iopub.status.busy": "2023-10-27T07:20:58.187360Z",
     "iopub.status.idle": "2023-10-27T07:20:58.187360Z",
     "shell.execute_reply": "2023-10-27T07:20:58.187360Z",
     "shell.execute_reply.started": "2023-10-27T07:20:58.187360Z"
    }
   },
   "outputs": [],
   "source": [
    "# # 'name' 컬럼의 unique한 값들을 추출\n",
    "# unique_names_df_ad = df_ad.select(\"name\").distinct()\n",
    "# unique_names_result_df_users = result_df_users.select(\"name\").distinct()\n",
    "\n",
    "# # 두 데이터프레임에서 'name' 컬럼을 기반으로 inner join을 수행\n",
    "# common_names = unique_names_df_ad.join(unique_names_result_df_users, \"name\")\n",
    "\n",
    "# # 일치하는 'name' 값의 수를 계산\n",
    "# count_common_names = common_names.count()\n",
    "\n",
    "# # 각 데이터프레임에서 unique한 'name' 값의 수를 계산\n",
    "# count_unique_names_df_ad = unique_names_df_ad.count()\n",
    "# count_unique_names_result_df_users = unique_names_result_df_users.count()\n",
    "\n",
    "# # 일치 비율 계산\n",
    "# match_ratio = (count_common_names / (count_unique_names_df_ad + count_unique_names_result_df_users - count_common_names)) * 100\n",
    "\n",
    "# print(f\"일치하는 이름의 수: {count_common_names}\")\n",
    "# print(f\"df_ad의 고유한 이름 수: {count_unique_names_df_ad}\")\n",
    "# print(f\"result_df_users의 고유한 이름 수: {count_unique_names_result_df_users}\")\n",
    "# print(f\"일치 비율: {match_ratio}%\")"
   ]
  },
  {
   "cell_type": "markdown",
   "id": "04d3c010",
   "metadata": {},
   "source": [
    "-backup 데이터 추가 이전-  \n",
    "일치하는 이름의 수: 5914  \n",
    "df_ad의 고유한 이름 수: 6471  \n",
    "result_df_users의 고유한 이름 수: 18607  \n",
    "일치 비율: 30.859945731580048%  \n",
    "\n",
    "-backup 데이터 추가 이후-  \n",
    "일치하는 이름의 수: 16494  \n",
    "df_ad의 고유한 이름 수: 20248  \n",
    "result_df_users의 고유한 이름 수: 18607  \n",
    "일치 비율: 73.7623540986539%\n",
    "\n",
    "-backup 231019 데이터 추가 이후-  \n",
    "일치하는 이름의 수: 25767\n",
    "df_ad의 고유한 이름 수: 26849\n",
    "result_df_users의 고유한 이름 수: 27117\n",
    "일치 비율: 91.37558069435087%"
   ]
  },
  {
   "cell_type": "markdown",
   "id": "5f3a9698",
   "metadata": {
    "ExecuteTime": {
     "end_time": "2023-09-06T02:34:37.359141Z",
     "start_time": "2023-09-06T02:34:37.352139Z"
    }
   },
   "source": [
    "## df_ad에서 find_name을 포함하는 이름을 가진 행들을 찾아서 출력"
   ]
  },
  {
   "cell_type": "code",
   "execution_count": null,
   "id": "24ce3f5e",
   "metadata": {
    "ExecuteTime": {
     "end_time": "2023-10-23T23:24:56.063272Z",
     "start_time": "2023-10-23T23:24:56.049269Z"
    },
    "execution": {
     "iopub.status.busy": "2023-10-27T07:20:58.188360Z",
     "iopub.status.idle": "2023-10-27T07:20:58.188360Z",
     "shell.execute_reply": "2023-10-27T07:20:58.188360Z",
     "shell.execute_reply.started": "2023-10-27T07:20:58.188360Z"
    }
   },
   "outputs": [],
   "source": [
    "# find_name = \"위크나인 벌룬독 성인 대형 물놀이 튜브 해수욕장 계곡 감성튜브\"\n",
    "\n",
    "# # find_name 문자열을 포함하는 행만 필터링 -> 필요한 데이터만 필터링해 메모리 부담을 줄임\n",
    "# filtered_df_ad = df_ad.filter(df_ad.name.contains(find_name))\n",
    "\n",
    "# # 필터링된 데이터만 collect() 호출\n",
    "# filtered_names = [row.name for row in filtered_df_ad.collect()]\n",
    "\n",
    "# if filtered_names:\n",
    "#     print(f'\"{find_name}\" 문자열을 포함한 이름을 가진 행이 {len(filtered_names)}개 있습니다.')\n",
    "#     print(\"포함된 name들:\")\n",
    "#     for name in filtered_names:\n",
    "#         print(name)\n",
    "# else:\n",
    "#     print(f'\"{find_name}\" 문자열을 포함한 이름을 가진 행이 없습니다.')"
   ]
  },
  {
   "cell_type": "markdown",
   "id": "11e314a8",
   "metadata": {},
   "source": [
    "## result_df_users에만 있는 'name'의 값이 df_ad에도 있는 지 체크"
   ]
  },
  {
   "cell_type": "code",
   "execution_count": null,
   "id": "5fc24aa3",
   "metadata": {
    "ExecuteTime": {
     "end_time": "2023-10-23T23:24:56.079276Z",
     "start_time": "2023-10-23T23:24:56.065273Z"
    },
    "execution": {
     "iopub.status.busy": "2023-10-27T07:20:58.189359Z",
     "iopub.status.idle": "2023-10-27T07:20:58.190359Z",
     "shell.execute_reply": "2023-10-27T07:20:58.190359Z",
     "shell.execute_reply.started": "2023-10-27T07:20:58.190359Z"
    }
   },
   "outputs": [],
   "source": [
    "# # result_df_users에만 있는 'name'을 찾습니다.\n",
    "# unique_names_only_in_result_df_users = unique_names_result_df_users.join(\n",
    "#     unique_names_df_ad, [\"name\"], \"left_anti\"\n",
    "# )\n",
    "\n",
    "# # 일치하지 않는 'name' 몇 개를 선택합니다. (예시에서는 최대 5개)\n",
    "# sample_unmatched_names = unique_names_only_in_result_df_users.limit(5).collect()\n",
    "\n",
    "# # 선택한 'name'이 df_ad에 있는지 확인합니다.\n",
    "# for row in sample_unmatched_names:\n",
    "#     name_to_check = row.name\n",
    "#     count_in_df_ad = df_ad.filter(df_ad.name == name_to_check).count()\n",
    "    \n",
    "#     if count_in_df_ad > 0:\n",
    "#         print(f\"'{name_to_check}' is in df_ad but was listed as unique to result_df_users.\")\n",
    "#     else:\n",
    "#         print(f\"'{name_to_check}' is truly unique to result_df_users.\")"
   ]
  },
  {
   "cell_type": "markdown",
   "id": "9795643f",
   "metadata": {},
   "source": [
    "## result_df의 특정 컬럼의 특정 값을 가진 행을 찾아 특정 컬럼의 값을 도출"
   ]
  },
  {
   "cell_type": "code",
   "execution_count": null,
   "id": "42c164bf",
   "metadata": {
    "ExecuteTime": {
     "end_time": "2023-10-23T23:24:56.095280Z",
     "start_time": "2023-10-23T23:24:56.081277Z"
    },
    "execution": {
     "iopub.status.busy": "2023-10-27T07:20:58.191360Z",
     "iopub.status.idle": "2023-10-27T07:20:58.191360Z",
     "shell.execute_reply": "2023-10-27T07:20:58.191360Z",
     "shell.execute_reply.started": "2023-10-27T07:20:58.191360Z"
    }
   },
   "outputs": [],
   "source": [
    "# # Find rows where 'name' matches the specified string\n",
    "# find_name = \"위크나인 벌룬독 성인 대형 물놀이 튜브 해수욕장 계곡 감성튜브 06845\"\n",
    "# filtered_df_result = result_df.filter(result_df.name == find_name)\n",
    "\n",
    "# # Collect the 'collection' value(s) for the matched row(s)\n",
    "# collection_values = [row.collection for row in filtered_df_result.collect()]\n",
    "\n",
    "# # Display the 'ad_duration' value(s)\n",
    "# print(collection_values)"
   ]
  },
  {
   "cell_type": "markdown",
   "id": "1f763617",
   "metadata": {},
   "source": [
    "## 'result_df_users'에만 존재하는 'name' 컬럼 값들\n",
    "### 에 대한 확인\n",
    "해당 name값들이 df_ad에 있는지 없는지 출력"
   ]
  },
  {
   "cell_type": "code",
   "execution_count": null,
   "id": "f901cb2f",
   "metadata": {
    "ExecuteTime": {
     "end_time": "2023-10-23T23:24:56.110283Z",
     "start_time": "2023-10-23T23:24:56.097280Z"
    },
    "execution": {
     "iopub.status.busy": "2023-10-27T07:20:58.192359Z",
     "iopub.status.idle": "2023-10-27T07:20:58.192359Z",
     "shell.execute_reply": "2023-10-27T07:20:58.192359Z",
     "shell.execute_reply.started": "2023-10-27T07:20:58.192359Z"
    }
   },
   "outputs": [],
   "source": [
    "# # 'result_df_users'에만 존재하는 'name' 컬럼 값 찾기\n",
    "# only_in_result_df_users = unique_names_result_df_users.join(unique_names_df_ad, \"name\", \"left_anti\")\n",
    "\n",
    "# # 'only_in_result_df_users' 데이터프레임에서 고유한 이름들을 추출합니다.\n",
    "# unique_names_to_check = [row.name for row in only_in_result_df_users.collect()]\n",
    "\n",
    "# # 이 이름들이 df_ad에 실제로 존재하는지 확인합니다.\n",
    "# found_names_in_df_ad = df_ad.filter(df_ad.name.isin(unique_names_to_check)).collect()\n",
    "\n",
    "# if found_names_in_df_ad:\n",
    "#     print(\"다음 이름들은 df_ad에 실제로 존재합니다:\")\n",
    "#     for row in found_names_in_df_ad:\n",
    "#         print(row.name)\n",
    "# else:\n",
    "#     print(\"어떤 이름도 df_ad에 존재하지 않습니다.\")\n",
    "    \n",
    "# # 두 DataFrame에 모두 존재하는 이름을 찾기 위해 inner join을 사용\n",
    "# common_names = only_in_result_df_users.join(df_ad, [\"name\"], \"inner\")\n",
    "\n",
    "# print(f\"result_df_users'에만 있는 name의 수: {only_in_result_df_users.count()}\")\n",
    "# print(f\"common_names의 수: {common_names.count()}\")"
   ]
  },
  {
   "cell_type": "markdown",
   "id": "4da3571b",
   "metadata": {},
   "source": [
    "## result_df에서 'result_df_users'에만 있고 'df_ad'에는 없는 이름을 가진 행의 개수"
   ]
  },
  {
   "cell_type": "code",
   "execution_count": null,
   "id": "9bcb91b8",
   "metadata": {
    "ExecuteTime": {
     "end_time": "2023-10-23T23:24:56.126286Z",
     "start_time": "2023-10-23T23:24:56.112283Z"
    },
    "execution": {
     "iopub.status.busy": "2023-10-27T07:20:58.193361Z",
     "iopub.status.idle": "2023-10-27T07:20:58.193361Z",
     "shell.execute_reply": "2023-10-27T07:20:58.193361Z",
     "shell.execute_reply.started": "2023-10-27T07:20:58.193361Z"
    }
   },
   "outputs": [],
   "source": [
    "# # unique_names_only_in_result_df_users DataFrame에서 'name' 컬럼을 추출합니다.\n",
    "# unique_names_list = [row.name for row in unique_names_only_in_result_df_users.collect()]\n",
    "\n",
    "# # result_df에서 이 이름들을 가진 행을 필터링합니다.\n",
    "# filtered_result_df = result_df.filter(result_df.name.isin(unique_names_list))\n",
    "\n",
    "# # 필터링된 DataFrame의 행 개수를 센다.\n",
    "# count_of_filtered_rows = filtered_result_df.count()\n",
    "\n",
    "# # 행의 개수를 출력한다.\n",
    "# print(f\"result_df에서 'result_df_users'에만 있고 'df_ad'에는 없는 이름을 가진 행의 개수: {count_of_filtered_rows}\")"
   ]
  },
  {
   "cell_type": "markdown",
   "id": "bcf7a83a",
   "metadata": {},
   "source": [
    "230906일/   \n",
    "result_df에서 'result_df_users'에만 있고 'df_ad'에는 없는 이름을 가진 행의 개수: 245088  \n",
    "245088이 전체 행에서 차지하는 비율이 3.6%이기에 일단 패싱하기로 했다"
   ]
  },
  {
   "cell_type": "markdown",
   "id": "69671df1",
   "metadata": {
    "ExecuteTime": {
     "end_time": "2023-09-06T03:12:18.257288Z",
     "start_time": "2023-09-06T03:12:18.239291Z"
    }
   },
   "source": [
    "## df_ad의 가장 이른 시기의 값 & 가장 늦은 시기의 값"
   ]
  },
  {
   "cell_type": "code",
   "execution_count": null,
   "id": "f4f8ffa1",
   "metadata": {
    "ExecuteTime": {
     "end_time": "2023-10-23T23:24:56.141289Z",
     "start_time": "2023-10-23T23:24:56.128287Z"
    },
    "execution": {
     "iopub.status.busy": "2023-10-27T07:20:58.194360Z",
     "iopub.status.idle": "2023-10-27T07:20:58.194360Z",
     "shell.execute_reply": "2023-10-27T07:20:58.194360Z",
     "shell.execute_reply.started": "2023-10-27T07:20:58.194360Z"
    }
   },
   "outputs": [],
   "source": [
    "# # 가장 이른 시기의 값\n",
    "# earliest_duration_end = df_ad_renamed.agg(F.min(\"ad_duration_end\")).collect()[0][0]\n",
    "\n",
    "# # 가장 늦은 시기의 값\n",
    "# latest_duration_end = df_ad_renamed.agg(F.max(\"ad_duration_end\")).collect()[0][0]\n",
    "\n",
    "# print(f\"The earliest ad_duration_end is: {earliest_duration_end}\")\n",
    "# print(f\"The latest ad_duration_end is: {latest_duration_end}\")\n"
   ]
  },
  {
   "cell_type": "code",
   "execution_count": null,
   "id": "05cf3fa4",
   "metadata": {
    "ExecuteTime": {
     "end_time": "2023-10-23T23:24:56.157293Z",
     "start_time": "2023-10-23T23:24:56.142290Z"
    },
    "execution": {
     "iopub.status.busy": "2023-10-27T07:20:58.195361Z",
     "iopub.status.idle": "2023-10-27T07:20:58.195361Z",
     "shell.execute_reply": "2023-10-27T07:20:58.195361Z",
     "shell.execute_reply.started": "2023-10-27T07:20:58.195361Z"
    }
   },
   "outputs": [],
   "source": [
    "# # collection 값이 'Memorization'이고 name의 뒤 5자리가 숫자가 아닌 행을 필터링\n",
    "# memorization_with_non_numeric_suffix = df_ad.filter(\n",
    "#     (df_ad['collection'] == 'Memorization') & \n",
    "#     (F.substring(df_ad['name'], -5, 5).cast(\"int\").isNull())\n",
    "# )\n",
    "\n",
    "# # 해당 행의 'name' 값만 선택\n",
    "# memorization_names = memorization_with_non_numeric_suffix.select('name').collect()\n",
    "\n",
    "# # 생략 없이 전체 'name' 값을 출력\n",
    "# for row in memorization_names:\n",
    "#     print(row['name'])"
   ]
  },
  {
   "cell_type": "markdown",
   "id": "6b653838",
   "metadata": {},
   "source": [
    "## 특정 날짜 이후에 행의 개수 출력"
   ]
  },
  {
   "cell_type": "code",
   "execution_count": null,
   "id": "f981b4ec",
   "metadata": {
    "ExecuteTime": {
     "end_time": "2023-10-23T23:24:56.173297Z",
     "start_time": "2023-10-23T23:24:56.159293Z"
    },
    "execution": {
     "iopub.status.busy": "2023-10-27T07:20:58.196361Z",
     "iopub.status.idle": "2023-10-27T07:20:58.196361Z",
     "shell.execute_reply": "2023-10-27T07:20:58.196361Z",
     "shell.execute_reply.started": "2023-10-27T07:20:58.196361Z"
    }
   },
   "outputs": [],
   "source": [
    "# count_rows = df_ad_renamed.filter(F.col(\"ad_duration_end\") >= \"25.09.13\").count()\n",
    "# print(count_rows)"
   ]
  },
  {
   "cell_type": "markdown",
   "id": "74806a98",
   "metadata": {},
   "source": [
    "## result_df 특정 컬럼에 값이 있는 행의 개수와 없는 행의 개수 출력"
   ]
  },
  {
   "cell_type": "code",
   "execution_count": null,
   "id": "c773562e",
   "metadata": {
    "ExecuteTime": {
     "end_time": "2023-10-23T23:24:56.189303Z",
     "start_time": "2023-10-23T23:24:56.175297Z"
    },
    "execution": {
     "iopub.status.busy": "2023-10-27T07:20:58.197361Z",
     "iopub.status.idle": "2023-10-27T07:20:58.197361Z",
     "shell.execute_reply": "2023-10-27T07:20:58.197361Z",
     "shell.execute_reply.started": "2023-10-27T07:20:58.197361Z"
    }
   },
   "outputs": [],
   "source": [
    "# # collection 값이 있는 행의 개수\n",
    "# collection_present_count = result_df.filter(result_df.collection.isNotNull()).count()\n",
    "\n",
    "# # collection 값이 없는 행의 개수\n",
    "# collection_absent_count = result_df.filter(result_df.collection.isNull()).count()\n",
    "\n",
    "# print(f\"collection 값이 있는 행의 개수: {collection_present_count}\")\n",
    "# print(f\"collection 값이 없는 행의 개수: {collection_absent_count}\")"
   ]
  },
  {
   "cell_type": "markdown",
   "id": "24f6511c",
   "metadata": {},
   "source": [
    "- 2023-09-18 -\n",
    "collection 값이 있는 행의 개수: 6746283  \n",
    "collection 값이 없는 행의 개수: 242210\n",
    "- 2023-10-19 -\n",
    "collection 값이 있는 행의 개수: 14045696\n",
    "collection 값이 없는 행의 개수: 166746"
   ]
  },
  {
   "cell_type": "code",
   "execution_count": null,
   "id": "9845ba41",
   "metadata": {
    "ExecuteTime": {
     "end_time": "2023-10-23T23:24:56.205304Z",
     "start_time": "2023-10-23T23:24:56.191301Z"
    },
    "execution": {
     "iopub.status.busy": "2023-10-27T07:20:58.198361Z",
     "iopub.status.idle": "2023-10-27T07:20:58.199362Z",
     "shell.execute_reply": "2023-10-27T07:20:58.199362Z",
     "shell.execute_reply.started": "2023-10-27T07:20:58.199362Z"
    }
   },
   "outputs": [],
   "source": [
    "# # collection 컬럼이 \"Memorization\"인 행의 개수를 계산합니다.\n",
    "# memorization_count = result_df.filter(result_df.collection == \"Memorization\").count()\n",
    "\n",
    "# # collection 컬럼이 \"Point\"인 행의 개수를 계산합니다.\n",
    "# point_count = result_df.filter(result_df.collection == \"Point\").count()\n",
    "\n",
    "# # collection 컬럼이 \"Memorization\" 또는 \"Point\"가 아닌 행들을 그룹화하고 개수를 계산합니다.\n",
    "# # 결과는 개수가 많은 순으로 정렬됩니다.\n",
    "# other_collections = result_df.filter((result_df.collection != \"Memorization\") & (result_df.collection != \"Point\")) \\\n",
    "#     .groupBy(\"collection\").count().orderBy(F.desc(\"count\"))\n",
    "\n",
    "# print(f\"'Memorization'의 개수: {memorization_count}\")\n",
    "# print(f\"'Point'의 개수: {point_count}\")\n",
    "\n",
    "# # 다른 collection 값들과 그 개수를 출력합니다.\n",
    "# other_collections.show()"
   ]
  },
  {
   "cell_type": "markdown",
   "id": "f999c31e",
   "metadata": {},
   "source": [
    "'Memorization'의 개수: 4876147  \n",
    "'Point'의 개수: 1878464  \n",
    "+----------+-----+  \n",
    "|collection|count|  \n",
    "+----------+-----+  \n",
    "+----------+-----+  "
   ]
  },
  {
   "cell_type": "code",
   "execution_count": null,
   "id": "f5a8affe",
   "metadata": {
    "ExecuteTime": {
     "end_time": "2023-10-23T23:24:56.221308Z",
     "start_time": "2023-10-23T23:24:56.207304Z"
    },
    "execution": {
     "iopub.status.busy": "2023-10-27T07:20:58.200362Z",
     "iopub.status.idle": "2023-10-27T07:20:58.201363Z",
     "shell.execute_reply": "2023-10-27T07:20:58.200362Z",
     "shell.execute_reply.started": "2023-10-27T07:20:58.200362Z"
    }
   },
   "outputs": [],
   "source": [
    "# # 콜렉션 값이 없는 행들이 어떤 특성을 가지고 있는지 대략적으로 파악\n",
    "# result_df.filter(result_df.collection.isNull()).describe().show()"
   ]
  },
  {
   "cell_type": "markdown",
   "id": "75ace9b5",
   "metadata": {},
   "source": [
    "+-------+------------------------------+--------------------+--------------------------+-------------------------+-------------------------+------------------+--------------------------+------------------+----------+------------------+------+----------+--------+------------------+------------------+----------+-----------+---------------+-----------------+------------+---------------+-----+-------+-----------------+--------+------+-----------------+-----------------+--------------------------------+----------------------+------------------------+------------------+------------------+-----------+-------------------+------------------+-------------------+\n",
    "|summary|                       ad_name|             user_id|                    attend|                is_passed|                 imageUrl|         ad_script|                  ad_title|        birth_year|local_code|           is_test|gender|       job|language|           perfect|excepted_age_array|collection|ad_duration|ad_duration_end|desc_images_array|images_array|thumbnail_image|level|ad_link|participant_count|videoUrl|script|   accuracy_array|   stt_text_array|         created_timestamp_array|average_accuracy_by_ad|average_accuracy_by_user| pass_rate_by_user|   pass_rate_by_ad|text_length|          try_count|    user_avg_tries|       ad_avg_tries|\n",
    "+-------+------------------------------+--------------------+--------------------------+-------------------------+-------------------------+------------------+--------------------------+------------------+----------+------------------+------+----------+--------+------------------+------------------+----------+-----------+---------------+-----------------+------------+---------------+-----+-------+-----------------+--------+------+-----------------+-----------------+--------------------------------+----------------------+------------------------+------------------+------------------+-----------+-------------------+------------------+-------------------+\n",
    "|  count|                        242209|              242210|                    242209|                   242209|                   242209|            241671|                    242209|            237045|    237032|              3664|237045|    233255|  236900|            215115|                 0|         0|          0|              0|                0|           0|              0|    0|      0|                0|       0|     0|           242210|           242210|                          242210|                160420|                  241978|            238215|            197426|          0|             242210|            242210|             242209|\n",
    "|   mean|             5.453968253968254|                null|         1.142196889286341|        2.717853839037928|       3.9800995024875623|206.48684210526315|        261.48979591836735|  73.3341897108144|      null|0.0679585152838428|  null|      null|    null| 1794.871650047649|              null|      null|       null|           null|             null|        null|           null| null|   null|             null|    null|  null|98.70958986529398|3714.222222222222|               91.69694017877607|     91.98540831320045|       88.39153672906248| 97.91226707777273| 96.89807826729773|       null| 1.0638990958259362|1.1423105014017387| 1.0639076169754156|\n",
    "| stddev|             2.848668556845405|                null|        1.3438310218056957|       1.3105502876253814|       2.4897668285433285| 2800.605587985752|        317.13683506561875|22.163760471198675|      null|0.2517090530036565|  null|      null|    null|1989.1856077822001|              null|      null|       null|           null|             null|        null|           null| null|   null|             null|    null|  null|8.089708582091447|11107.06110744172|               6.709011626670002|     7.007509856774907|       7.186478274386401|4.5908543636958195|12.099177539050835|       null|0.47101817509175314|0.1709641598865054|0.21101261436997873|\n",
    "|    min|   \"\"100개인 케이크 유 오케...|00fntnOCsqhJdmwJN...| \"\"10 a 미니 케이크 유 ...| \"\"10 min 케이크 유 오...| \"\"100 a 민 케이크 유 ...|                  | \"\"100 a 미니 케이크 유...|                 0|        Ch|                 0|     F|개인사업가|대한민국|               0.0|              null|      null|       null|           null|             null|        null|           null| null|   null|             null|    null|  null|                 |                 |                                |                   0.0|                     0.0|10.126582278481013|0.5263157894736842|       null|                 -1|               1.0|                1.0|\n",
    "|    max|힘가네 흑염소진액 1박스(100...|zzpUGZW1lwbYyP9jv...|                       9.0|                     pass|                     pass|    힌지보호케이스|                현대자동차|                99|        Se|                 1|     W|    회사원|대한민국|            6333.0|              null|      null|       null|           null|             null|        null|           null| null|   null|             null|    null|  null|            99,99|     힙합,입 호흡|회의 민 케이크 유 오케이 하이...|                 100.0|                   100.0| 99.96978851963746| 99.93084370677732|       null|                 69|19.705882352941178|               50.0|\n",
    "+-------+------------------------------+--------------------+--------------------------+-------------------------+-------------------------+------------------+--------------------------+------------------+----------+------------------+------+----------+--------+------------------+------------------+----------+-----------+---------------+-----------------+------------+---------------+-----+-------+-----------------+--------+------+-----------------+-----------------+--------------------------------+----------------------+------------------------+------------------+------------------+-----------+-------------------+------------------+-------------------+"
   ]
  },
  {
   "cell_type": "code",
   "execution_count": null,
   "id": "d118b587",
   "metadata": {
    "ExecuteTime": {
     "end_time": "2023-10-23T23:24:56.237312Z",
     "start_time": "2023-10-23T23:24:56.223308Z"
    },
    "execution": {
     "iopub.status.busy": "2023-10-27T07:20:58.202363Z",
     "iopub.status.idle": "2023-10-27T07:20:58.203366Z",
     "shell.execute_reply": "2023-10-27T07:20:58.202363Z",
     "shell.execute_reply.started": "2023-10-27T07:20:58.202363Z"
    }
   },
   "outputs": [],
   "source": [
    "# # thumbnail_image 값이 있는 행의 개수\n",
    "# collection_present_count = result_df.filter(result_df.thumbnail_image.isNotNull()).count()\n",
    "\n",
    "# # thumbnail_image 값이 없는 행의 개수\n",
    "# collection_absent_count = result_df.filter(result_df.thumbnail_image.isNull()).count()\n",
    "\n",
    "# print(f\"collection 값이 있는 행의 개수: {collection_present_count}\")\n",
    "# print(f\"collection 값이 없는 행의 개수: {collection_absent_count}\")"
   ]
  },
  {
   "cell_type": "code",
   "execution_count": null,
   "id": "540564d0",
   "metadata": {
    "ExecuteTime": {
     "end_time": "2023-10-23T23:24:56.252315Z",
     "start_time": "2023-10-23T23:24:56.239312Z"
    },
    "execution": {
     "iopub.status.busy": "2023-10-27T07:20:58.204363Z",
     "iopub.status.idle": "2023-10-27T07:20:58.204363Z",
     "shell.execute_reply": "2023-10-27T07:20:58.204363Z",
     "shell.execute_reply.started": "2023-10-27T07:20:58.204363Z"
    }
   },
   "outputs": [],
   "source": [
    "# # result_df_users 데이터프레임에서 \"name\" 컬럼에 결측값이 있는 행의 수를 센다\n",
    "# null_count_result_df_users = result_df_users.filter(result_df_users.name.isNull()).count()\n",
    "\n",
    "# # df_ad 데이터프레임에서 \"name\" 컬럼에 결측값이 있는 행의 수를 센다\n",
    "# null_count_df_ad = df_ad.filter(df_ad.name.isNull()).count()\n",
    "\n",
    "# print(f'\"result_df_users\"의 \"name\" 컬럼에서 결측값 개수: {null_count_result_df_users}')\n",
    "# print(f'\"df_ad\"의 \"name\" 컬럼에서 결측값 개수: {null_count_df_ad}')"
   ]
  },
  {
   "cell_type": "markdown",
   "id": "5714aff4",
   "metadata": {},
   "source": [
    "## result_df의 addText와 script값 비교"
   ]
  },
  {
   "cell_type": "code",
   "execution_count": null,
   "id": "c5bb3941",
   "metadata": {
    "ExecuteTime": {
     "end_time": "2023-10-23T23:24:56.268319Z",
     "start_time": "2023-10-23T23:24:56.254316Z"
    },
    "execution": {
     "iopub.status.busy": "2023-10-27T07:20:58.205363Z",
     "iopub.status.idle": "2023-10-27T07:20:58.205363Z",
     "shell.execute_reply": "2023-10-27T07:20:58.205363Z",
     "shell.execute_reply.started": "2023-10-27T07:20:58.205363Z"
    }
   },
   "outputs": [],
   "source": [
    "# 나중에 문자열 유사도나 통계적 방법론을 통해 비교"
   ]
  },
  {
   "cell_type": "markdown",
   "id": "d09637b7",
   "metadata": {},
   "source": [
    "# result_df 변경 작업"
   ]
  },
  {
   "cell_type": "markdown",
   "id": "20ca665d",
   "metadata": {},
   "source": [
    "## Column 명을 더 적절하게 변경하는 작업"
   ]
  },
  {
   "cell_type": "code",
   "execution_count": null,
   "id": "0b63e614",
   "metadata": {
    "ExecuteTime": {
     "end_time": "2023-10-23T23:24:56.635401Z",
     "start_time": "2023-10-23T23:24:56.270319Z"
    },
    "execution": {
     "iopub.status.busy": "2023-10-27T07:20:58.206363Z",
     "iopub.status.idle": "2023-10-27T07:20:58.206363Z",
     "shell.execute_reply": "2023-10-27T07:20:58.206363Z",
     "shell.execute_reply.started": "2023-10-27T07:20:58.206363Z"
    },
    "tags": []
   },
   "outputs": [],
   "source": [
    "# 칼럼명 변환\n",
    "result_df = result_df.withColumnRenamed(\"ArrayVoice\", \"stt_text_array\")\\\n",
    "                     .withColumnRenamed(\"ArrayPercent\", \"accuracy_array\")\\\n",
    "                     .withColumnRenamed(\"ArrayDate\", \"created_timestamp_array\")\\\n",
    "                     .withColumnRenamed(\"name\", \"ad_name\")\\\n",
    "                     .withColumnRenamed(\"title\", \"ad_title\")\\\n",
    "                     .withColumnRenamed(\"resultPass\", \"is_passed\")\\\n",
    "                     .withColumnRenamed(\"addText\", \"ad_script\")"
   ]
  },
  {
   "cell_type": "markdown",
   "id": "7f8baeba",
   "metadata": {},
   "source": [
    "## 데이터 타입들을 더 적절한 타입으로 변경하는 작업\n",
    "\n",
    "231019 이후로는 parquet으로 attend 데이터를 받기에 string -> array 작업이 필요없음,  \n",
    "기존에 해당 작업이 필요했던 건 JSON -> CSV 과정에서 array들이 \"\"로 감싸지면서 string이 됐기 때문  "
   ]
  },
  {
   "cell_type": "code",
   "execution_count": null,
   "id": "a9058417",
   "metadata": {
    "ExecuteTime": {
     "end_time": "2023-10-23T23:24:56.651405Z",
     "start_time": "2023-10-23T23:24:56.637401Z"
    },
    "execution": {
     "iopub.status.busy": "2023-10-27T07:20:58.207364Z",
     "iopub.status.idle": "2023-10-27T07:20:58.207364Z",
     "shell.execute_reply": "2023-10-27T07:20:58.207364Z",
     "shell.execute_reply.started": "2023-10-27T07:20:58.207364Z"
    }
   },
   "outputs": [],
   "source": [
    "# # substring 함수를 사용하여 앞뒤의 대괄호를 제거\n",
    "# # 예: \"['100', '80']\" -> \"'100', '80'\"\n",
    "# # 그 다음 split 함수를 사용하여 문자열을 배열로 변환\n",
    "# # Spark SQL에서는 문자열 인덱스가 1부터 시작, 그래서 substring의 2는 앞뒤의 대괄호를 제거하는 역할\n",
    "# # 배열의 각 원소 앞뒤에 붙어 있는 따옴표(')를 제거하고, 원소들을 DoubleType으로 형변환\n",
    "# # TRANSFORM 함수는 배열의 각 원소에 함수를 적용\n",
    "# def transform_string_to_array(df, column_name, cast_type):\n",
    "#     \"\"\"\n",
    "#     Array* 형태의 컬럼들의 데이터 타입을 string에서 array안 '특정한 데이터 타입'으로 변경하는 함수\n",
    "    \n",
    "#     Parameters:\n",
    "#         df: 변경할 dataframe\n",
    "#         column_name: 변경할 Array* 형태의 컬럼명(데이터 앞뒤가 \"'로 작성된)\n",
    "#         cast_type: 바꿀 특정한 데이터 타입\n",
    "        \n",
    "#     Returns:\n",
    "#         해당 컬럼들의 데이터 타입이 변경된 df\n",
    "#     \"\"\"\n",
    "#     new_column_name = f\"{column_name}_new\"\n",
    "#     df = df.withColumn(\n",
    "#         new_column_name, \n",
    "#         F.split(F.expr(f\"substring({column_name}, 2, length({column_name})-2)\"), \"', '\")\n",
    "#     ).withColumn(\n",
    "#         new_column_name,\n",
    "#         F.expr(f\"TRANSFORM({new_column_name}, x -> CAST(trim(BOTH '\\\\'' FROM x) AS {cast_type}))\")\n",
    "#     )\n",
    "#     return df.drop(column_name).withColumnRenamed(new_column_name, column_name)\n",
    "\n",
    "# # 변환할 컬럼과 데이터 타입을 지정\n",
    "# columns_to_transform = {\n",
    "#     'ArrayPercent': 'DOUBLE',\n",
    "#     'ArrayVoice': 'STRING',\n",
    "#     'ArrayDate': 'STRING'\n",
    "# }\n",
    "\n",
    "# # 각 컬럼을 순회하며 변환 수행\n",
    "# for col, cast_type in columns_to_transform.items():\n",
    "#     result_df = transform_string_to_array(result_df, col, cast_type)"
   ]
  },
  {
   "cell_type": "code",
   "execution_count": null,
   "id": "6c905070",
   "metadata": {
    "ExecuteTime": {
     "end_time": "2023-10-23T23:24:56.779434Z",
     "start_time": "2023-10-23T23:24:56.652405Z"
    },
    "execution": {
     "iopub.status.busy": "2023-10-27T07:20:58.208364Z",
     "iopub.status.idle": "2023-10-27T07:20:58.208364Z",
     "shell.execute_reply": "2023-10-27T07:20:58.208364Z",
     "shell.execute_reply.started": "2023-10-27T07:20:58.208364Z"
    },
    "tags": []
   },
   "outputs": [],
   "source": [
    "# UDF(User Defined Function) 정의: 문자열 배열을 정수 배열로 변환\n",
    "def string_array_to_int_array(str_arr):\n",
    "    return [int(float(x)) for x in str_arr]  # 문자열을 먼저 실수로 변환한 후 정수로 변환\n",
    "\n",
    "string_array_to_int_array_udf = udf(string_array_to_int_array, ArrayType(IntegerType()))\n",
    "\n",
    "# 'accuracy_array' 컬럼의 데이터 타입을 string에서 int로 변경\n",
    "result_df = result_df.withColumn(\"accuracy_array\", string_array_to_int_array_udf(\"accuracy_array\"))"
   ]
  },
  {
   "cell_type": "markdown",
   "id": "65621479",
   "metadata": {},
   "source": [
    "## 바뀐 result_df의 column, schema 출력"
   ]
  },
  {
   "cell_type": "code",
   "execution_count": null,
   "id": "e983430c",
   "metadata": {
    "ExecuteTime": {
     "end_time": "2023-10-23T23:24:56.795437Z",
     "start_time": "2023-10-23T23:24:56.781435Z"
    },
    "execution": {
     "iopub.status.busy": "2023-10-27T07:20:58.209364Z",
     "iopub.status.idle": "2023-10-27T07:20:58.210364Z",
     "shell.execute_reply": "2023-10-27T07:20:58.210364Z",
     "shell.execute_reply.started": "2023-10-27T07:20:58.210364Z"
    },
    "tags": []
   },
   "outputs": [],
   "source": [
    "print(result_df.columns)\n",
    "result_df.printSchema()\n",
    "# print(result_df.select(\"created_timestamp_array\").show(20))"
   ]
  },
  {
   "cell_type": "markdown",
   "id": "8e4b5fb8",
   "metadata": {},
   "source": [
    "- 231019 이전 -\n",
    "['user_id', 'attend', 'is_passed', 'imageUrl', 'ad_script', 'ad_name', 'ad_title', 'birth_year', 'local_code', 'is_test', 'gender', 'job', 'language', 'perfect', 'excepted_age_array', 'collection', 'ad_duration', 'ad_duration_end', 'desc_images_array', 'images_array', 'thumbnail_image', 'level', 'ad_link', 'participant_count', 'videoUrl', 'script', 'accuracy_array', 'stt_text_array', 'created_timestamp_array']\n",
    "root\n",
    " |-- user_id: string (nullable = true)\n",
    " |-- attend: string (nullable = true)\n",
    " |-- is_passed: string (nullable = true)\n",
    " |-- imageUrl: string (nullable = true)\n",
    " |-- ad_script: string (nullable = true)\n",
    " |-- ad_name: string (nullable = true)\n",
    " |-- ad_title: string (nullable = true)\n",
    " |-- birth_year: string (nullable = true)\n",
    " |-- local_code: string (nullable = true)\n",
    " |-- is_test: integer (nullable = true)\n",
    " |-- gender: string (nullable = true)\n",
    " |-- job: string (nullable = true)\n",
    " |-- language: string (nullable = true)\n",
    " |-- perfect: double (nullable = true)\n",
    " |-- excepted_age_array: string (nullable = true)\n",
    " |-- collection: string (nullable = true)\n",
    " |-- ad_duration: string (nullable = true)\n",
    " |-- ad_duration_end: string (nullable = true)\n",
    " |-- desc_images_array: string (nullable = true)\n",
    " |-- images_array: string (nullable = true)\n",
    " |-- thumbnail_image: string (nullable = true)\n",
    " |-- level: string (nullable = true)\n",
    " |-- ad_link: string (nullable = true)\n",
    " |-- participant_count: integer (nullable = true)\n",
    " |-- videoUrl: string (nullable = true)\n",
    " |-- script: string (nullable = true)\n",
    " |-- accuracy_array: array (nullable = true)\n",
    " |    |-- element: double (containsNull = true)\n",
    " |-- stt_text_array: array (nullable = true)\n",
    " |    |-- element: string (containsNull = false)\n",
    " |-- created_timestamp_array: array (nullable = true)\n",
    " |    |-- element: string (containsNull = false)\n",
    " \n",
    " - 23-10-19 - \n",
    " ['user_id', 'stt_text_array', 'attend', 'is_passed', 'imageUrl', 'ad_script', 'ad_name', 'accuracy_array', 'created_timestamp_array', 'ad_title', 'birth_year', 'local_code', 'is_test', 'gender', 'job', 'language', 'perfect', 'excepted_age_array', 'collection', 'ad_duration', 'ad_duration_end', 'desc_images_array', 'images_array', 'thumbnail_image', 'level', 'ad_link', 'participant_count', 'videoUrl', 'script']\n",
    "root\n",
    " |-- user_id: string (nullable = true)\n",
    " |-- stt_text_array: array (nullable = true)\n",
    " |    |-- element: string (containsNull = true)\n",
    " |-- attend: double (nullable = true)  <- string에서\n",
    " |-- is_passed: string (nullable = true)\n",
    " |-- imageUrl: string (nullable = true)\n",
    " |-- ad_script: string (nullable = true)\n",
    " |-- ad_name: string (nullable = true)\n",
    " |-- accuracy_array: array (nullable = true)\n",
    " |    |-- element: double (containsNull = true)\n",
    " |-- created_timestamp_array: array (nullable = true)\n",
    " |    |-- element: string (containsNull = true)\n",
    " |-- ad_title: string (nullable = true)\n",
    " |-- birth_year: string (nullable = true)\n",
    " |-- local_code: string (nullable = true)\n",
    " |-- is_test: integer (nullable = true)\n",
    " |-- gender: string (nullable = true)\n",
    " |-- job: string (nullable = true)\n",
    " |-- language: string (nullable = true)\n",
    " |-- perfect: double (nullable = true)\n",
    " |-- excepted_age_array: string (nullable = true)\n",
    " |-- collection: string (nullable = true)\n",
    " |-- ad_duration: string (nullable = true)\n",
    " |-- ad_duration_end: string (nullable = true)\n",
    " |-- desc_images_array: string (nullable = true)\n",
    " |-- images_array: string (nullable = true)\n",
    " |-- thumbnail_image: string (nullable = true)\n",
    " |-- level: string (nullable = true)\n",
    " |-- ad_link: string (nullable = true)\n",
    " |-- participant_count: integer (nullable = true)\n",
    " |-- videoUrl: string (nullable = true)\n",
    " |-- script: string (nullable = true)"
   ]
  },
  {
   "cell_type": "markdown",
   "id": "5301d2ef",
   "metadata": {},
   "source": [
    "## collection 컬럼에 값이 Point, Memorization이 아닌 행들 delete"
   ]
  },
  {
   "cell_type": "code",
   "execution_count": null,
   "id": "411d0146",
   "metadata": {
    "ExecuteTime": {
     "end_time": "2023-10-23T23:24:56.875456Z",
     "start_time": "2023-10-23T23:24:56.797438Z"
    },
    "execution": {
     "iopub.status.busy": "2023-10-27T07:20:58.211365Z",
     "iopub.status.idle": "2023-10-27T07:20:58.211365Z",
     "shell.execute_reply": "2023-10-27T07:20:58.211365Z",
     "shell.execute_reply.started": "2023-10-27T07:20:58.211365Z"
    },
    "tags": []
   },
   "outputs": [],
   "source": [
    "# \"Memorization\" 또는 \"Point\"가 아닌 행들을 필터링하여 제거합니다.\n",
    "result_df = result_df.filter((result_df.collection == \"Memorization\") | (result_df.collection == \"Point\"))"
   ]
  },
  {
   "cell_type": "code",
   "execution_count": null,
   "id": "96f54544",
   "metadata": {
    "ExecuteTime": {
     "end_time": "2023-10-23T23:24:56.891459Z",
     "start_time": "2023-10-23T23:24:56.877456Z"
    },
    "execution": {
     "iopub.status.busy": "2023-10-27T07:20:58.212364Z",
     "iopub.status.idle": "2023-10-27T07:20:58.212364Z",
     "shell.execute_reply": "2023-10-27T07:20:58.212364Z",
     "shell.execute_reply.started": "2023-10-27T07:20:58.212364Z"
    }
   },
   "outputs": [],
   "source": [
    "# # 필터링된 DataFrame의 행 개수를 확인합니다. (옵션)\n",
    "# filtered_count = result_df.count()\n",
    "\n",
    "# print(f\"필터링 후 행의 개수: {filtered_count}\")"
   ]
  },
  {
   "cell_type": "markdown",
   "id": "57980268",
   "metadata": {},
   "source": [
    "## 특성 엔지니어링 관련"
   ]
  },
  {
   "cell_type": "markdown",
   "id": "e7da2c29",
   "metadata": {},
   "source": [
    "### 광고/유저 별 평균 정확도"
   ]
  },
  {
   "cell_type": "markdown",
   "id": "45cf1eb5",
   "metadata": {},
   "source": [
    "#### 광고/유저 별 평균 정확도 계산 및 관련 컬럼 추가"
   ]
  },
  {
   "cell_type": "code",
   "execution_count": null,
   "id": "9dd4dfd1",
   "metadata": {
    "ExecuteTime": {
     "end_time": "2023-10-23T23:24:57.441393Z",
     "start_time": "2023-10-23T23:24:56.893460Z"
    },
    "execution": {
     "iopub.status.busy": "2023-10-27T07:20:58.213365Z",
     "iopub.status.idle": "2023-10-27T07:20:58.213365Z",
     "shell.execute_reply": "2023-10-27T07:20:58.213365Z",
     "shell.execute_reply.started": "2023-10-27T07:20:58.213365Z"
    },
    "tags": []
   },
   "outputs": [],
   "source": [
    "# 필요한 컬럼만 선택\n",
    "selected_df = result_df.select(\"ad_name\", \"accuracy_array\", \"user_id\")\n",
    "# print(f\"selected_df 수:{selected_df.count()}\")\n",
    "\n",
    "# accuracy_array Null 및 빈 배열 제거\n",
    "filtered_df = selected_df.filter(\n",
    "    (F.col(\"accuracy_array\").isNotNull()) & (F.size(F.col(\"accuracy_array\")) > 0)\n",
    ")\n",
    "# print(f\"filtered_df 수:{filtered_df.count()}\")\n",
    "\n",
    "# 중복 확인\n",
    "deduped_df = filtered_df.dropDuplicates([\"ad_name\", \"user_id\", \"accuracy_array\"])\n",
    "# print(f\"deduped_df 수:{deduped_df.count()}\")\n",
    "\n",
    "# accuracy_array를 explode하여 각 원소를 별도의 행으로 만듭니다.\n",
    "exploded_df = deduped_df.withColumn(\"accuracy\", F.explode(F.col(\"accuracy_array\")))\n",
    "\n",
    "# 이제 ad_name 별로 accuracy의 평균을 계산합니다.\n",
    "df_average_by_ad = exploded_df.groupBy(\"ad_name\").agg(F.avg(\"accuracy\").alias(\"average_accuracy_by_ad\"))\n",
    "\n",
    "# 이제 user_id 별로 accuracy의 평균을 계산합니다.\n",
    "df_average_by_user = exploded_df.groupBy(\"user_id\").agg(F.avg(\"accuracy\").alias(\"average_accuracy_by_user\"))\n",
    "\n",
    "# # 결과 확인\n",
    "# df_average_by_ad.show()\n",
    "# df_average_by_user.show()"
   ]
  },
  {
   "cell_type": "markdown",
   "id": "b8b7218a",
   "metadata": {},
   "source": [
    "#### 광고/유저 별 평균 정확도가 잘 계산되었는지 확인"
   ]
  },
  {
   "cell_type": "code",
   "execution_count": null,
   "id": "3c4957df",
   "metadata": {
    "ExecuteTime": {
     "end_time": "2023-10-23T23:24:57.457393Z",
     "start_time": "2023-10-23T23:24:57.442395Z"
    },
    "execution": {
     "iopub.status.busy": "2023-10-27T07:20:58.214365Z",
     "iopub.status.idle": "2023-10-27T07:20:58.214365Z",
     "shell.execute_reply": "2023-10-27T07:20:58.214365Z",
     "shell.execute_reply.started": "2023-10-27T07:20:58.214365Z"
    }
   },
   "outputs": [],
   "source": [
    "# df_ad.printSchema()\n",
    "# df_users.printSchema()"
   ]
  },
  {
   "cell_type": "code",
   "execution_count": null,
   "id": "50cf8250",
   "metadata": {
    "ExecuteTime": {
     "end_time": "2023-10-23T23:24:57.472393Z",
     "start_time": "2023-10-23T23:24:57.459394Z"
    },
    "execution": {
     "iopub.status.busy": "2023-10-27T07:20:58.215365Z",
     "iopub.status.idle": "2023-10-27T07:20:58.215365Z",
     "shell.execute_reply": "2023-10-27T07:20:58.215365Z",
     "shell.execute_reply.started": "2023-10-27T07:20:58.215365Z"
    }
   },
   "outputs": [],
   "source": [
    "# # df_ad에서 고유한 ad_name의 개수를 확인\n",
    "# unique_ad_names_count = df_ad.select(\"name\").distinct().count()\n",
    "\n",
    "# # df_average_by_ad 행 개수를 확인\n",
    "# average_by_ad_count = df_average_by_ad.count()\n",
    "\n",
    "# # df_users에서 고유한 user_id의 개수를 확인\n",
    "# unique_user_ids_count = df_users.select(\"user_id\").distinct().count()\n",
    "\n",
    "# # df_average_by_user의 행 개수를 확인\n",
    "# average_by_user_count = df_average_by_user.count()\n",
    "\n",
    "# print(f\"df_ad에서 고유한 ad_name의 개수: {unique_ad_names_count}\")\n",
    "# print(f\"df_average_by_ad 행 개수: {average_by_ad_count}\")\n",
    "# print(f\"df_users에서 고유한 user_id의 개수: {unique_user_ids_count}\")\n",
    "# print(f\"df_average_by_user의 행 개수: {average_by_user_count}\")"
   ]
  },
  {
   "cell_type": "markdown",
   "id": "b9252653",
   "metadata": {},
   "source": [
    "윗 셀 출력 230908:  \n",
    "df_ad에서 고유한 ad_name의 개수: 20248  \n",
    "df_average_by_ad 행 개수: 18606  \n",
    "df_users에서 고유한 user_id의 개수: 34539  \n",
    "df_average_by_user의 행 개수: 25587  "
   ]
  },
  {
   "cell_type": "markdown",
   "id": "9a5f198c",
   "metadata": {},
   "source": [
    "위 셀의 출력을 통해 230908에 추가한 유저백업데이터로 인한 정합성 강화 확인    \n",
    "-230908에 추가한 기준-    \n",
    "df_ad에서 고유한 ad_name의 개수: 20248  \n",
    "df_average_by_ad 행 개수: 18606  \n",
    "df_users에서 고유한 user_id의 개수: 34539  \n",
    "df_average_by_user의 행 개수: 25587  "
   ]
  },
  {
   "cell_type": "markdown",
   "id": "0774dd3a",
   "metadata": {},
   "source": [
    "#### 광고/유저 별 평균 정확도 컬럼을 result_df에 추가"
   ]
  },
  {
   "cell_type": "code",
   "execution_count": null,
   "id": "6b5c62b9",
   "metadata": {
    "ExecuteTime": {
     "end_time": "2023-10-23T23:24:59.515381Z",
     "start_time": "2023-10-23T23:24:57.474393Z"
    },
    "execution": {
     "iopub.status.busy": "2023-10-27T07:20:58.216367Z",
     "iopub.status.idle": "2023-10-27T07:20:58.216367Z",
     "shell.execute_reply": "2023-10-27T07:20:58.216367Z",
     "shell.execute_reply.started": "2023-10-27T07:20:58.216367Z"
    },
    "tags": []
   },
   "outputs": [],
   "source": [
    "# # JOIN 으로\n",
    "# # 광고 별 평균 정확도를 result_df에 추가\n",
    "# result_df = result_df.join(df_average_by_ad, result_df.ad_name == df_average_by_ad.ad_name, \"left\").drop(df_average_by_ad.ad_name)\n",
    "# # 유저 별 평균 정확도를 result_df에 추가\n",
    "# result_df = result_df.join(df_average_by_user, result_df.user_id == df_average_by_user.user_id, \"left\").drop(df_average_by_user.user_id)\n",
    "\n",
    "\n",
    "# broadcasting으로\n",
    "# 광고 별 평균 정확도를 result_df에 브로드캐스팅을 사용하여 추가\n",
    "result_df = result_df.join(broadcast(df_average_by_ad), [\"ad_name\"], \"left\")\n",
    "# 유저 별 평균 정확도를 result_df에 브로드캐스팅을 사용하여 추가\n",
    "result_df = result_df.join(broadcast(df_average_by_user), [\"user_id\"], \"left\")\n",
    "\n",
    "\n",
    "# 결과 데이터프레임 확인 (스키마 출력)\n",
    "result_df.printSchema()"
   ]
  },
  {
   "cell_type": "markdown",
   "id": "3b6565af",
   "metadata": {},
   "source": [
    "### 광고 별 / 유저 별 합격률 column 추가"
   ]
  },
  {
   "cell_type": "markdown",
   "id": "bdbc678e",
   "metadata": {},
   "source": [
    "#### is_passed 컬럼에 어떤 값들이 들어있는지, 각각의 비율은 얼만지 확인"
   ]
  },
  {
   "cell_type": "code",
   "execution_count": null,
   "id": "98d94be8",
   "metadata": {
    "ExecuteTime": {
     "end_time": "2023-10-23T23:24:59.530905Z",
     "start_time": "2023-10-23T23:24:59.517382Z"
    },
    "execution": {
     "iopub.status.busy": "2023-10-27T07:20:58.218366Z",
     "iopub.status.idle": "2023-10-27T07:20:58.218366Z",
     "shell.execute_reply": "2023-10-27T07:20:58.218366Z",
     "shell.execute_reply.started": "2023-10-27T07:20:58.218366Z"
    },
    "tags": []
   },
   "outputs": [],
   "source": [
    "# # is_passed 컬럼에 들어있는 고유한 값들을 확인\n",
    "# unique_is_passed_values = result_df.select(\"is_passed\").distinct()\n",
    "# unique_is_passed_values.show()"
   ]
  },
  {
   "cell_type": "code",
   "execution_count": null,
   "id": "d1b4f369",
   "metadata": {
    "ExecuteTime": {
     "end_time": "2023-10-23T23:31:33.053718Z",
     "start_time": "2023-10-23T23:24:59.531905Z"
    },
    "execution": {
     "iopub.status.busy": "2023-10-27T07:20:58.219367Z",
     "iopub.status.idle": "2023-10-27T07:20:58.219367Z",
     "shell.execute_reply": "2023-10-27T07:20:58.219367Z",
     "shell.execute_reply.started": "2023-10-27T07:20:58.219367Z"
    },
    "tags": []
   },
   "outputs": [],
   "source": [
    "# 'is_passed' 컬럼에서 'fail'과 'pass'에 해당하는 행만 필터링\n",
    "filtered_is_passed_df = result_df.filter(F.col(\"is_passed\").isin([\"fail\", \"pass\"]))\n",
    "\n",
    "# # 'fail'과 'pass'에 해당하는 행의 수를 각각 계산\n",
    "# fail_count = filtered_is_passed_df.filter(F.col(\"is_passed\") == \"fail\").count()\n",
    "# pass_count = filtered_is_passed_df.filter(F.col(\"is_passed\") == \"pass\").count()\n",
    "\n",
    "# # 전체 행의 수를 계산\n",
    "# total_count_is_passed = pass_count + fail_count\n",
    "\n",
    "# # 'fail'과 'pass'가 전체에서 차지하는 비율을 계산\n",
    "# fail_percentage = (fail_count / total_count_is_passed) * 100\n",
    "# pass_percentage = (pass_count / total_count_is_passed) * 100\n",
    "\n",
    "# print(f\"'fail' 비율: {fail_percentage}%\")\n",
    "# print(f\"'pass' 비율: {pass_percentage}%\")\n",
    "# 230908 출력\n",
    "# 'fail' 비율: 1.5755910504026127%\n",
    "# 'pass' 비율: 98.42440894959739%"
   ]
  },
  {
   "cell_type": "markdown",
   "id": "4c432b8a",
   "metadata": {},
   "source": [
    "#### 유저 별 / 광고 별 합격률 column 생성 및 추가"
   ]
  },
  {
   "cell_type": "code",
   "execution_count": null,
   "id": "bf7b65a4",
   "metadata": {
    "ExecuteTime": {
     "end_time": "2023-10-23T23:40:22.857272Z",
     "start_time": "2023-10-23T23:31:33.055718Z"
    },
    "execution": {
     "iopub.status.busy": "2023-10-27T07:20:58.220366Z",
     "iopub.status.idle": "2023-10-27T07:20:58.220366Z",
     "shell.execute_reply": "2023-10-27T07:20:58.220366Z",
     "shell.execute_reply.started": "2023-10-27T07:20:58.220366Z"
    },
    "tags": []
   },
   "outputs": [],
   "source": [
    "# # GroupBy 사용\n",
    "# # 유저별 합격률 계산\n",
    "# user_pass_rate = filtered_is_passed_df.groupBy(\"user_id\", \"is_passed\").count() \\\n",
    "#     .groupBy(\"user_id\").pivot(\"is_passed\").sum(\"count\") \\\n",
    "#     .withColumn(\"pass_rate_by_user\", (F.col(\"pass\") / (F.col(\"pass\") + F.col(\"fail\"))) * 100)\n",
    "# # 광고별 합격률 계산\n",
    "# ad_pass_rate = filtered_is_passed_df.groupBy(\"ad_name\", \"is_passed\").count() \\\n",
    "#     .groupBy(\"ad_name\").pivot(\"is_passed\").sum(\"count\") \\\n",
    "#     .withColumn(\"pass_rate_by_ad\", (F.col(\"pass\") / (F.col(\"pass\") + F.col(\"fail\"))) * 100)\n",
    "\n",
    "\n",
    "# Window 함수 사용\n",
    "# 유저별 합격률 계산\n",
    "window_by_user = Window.partitionBy(\"user_id\")\n",
    "user_pass_rate = filtered_is_passed_df.withColumn(\"total_by_user\", F.count(\"is_passed\").over(window_by_user)) \\\n",
    "    .withColumn(\"pass_count\", F.sum(F.when(F.col(\"is_passed\") == 'pass', 1).otherwise(0)).over(window_by_user)) \\\n",
    "    .withColumn(\"pass_rate_by_user\", (F.col(\"pass_count\") / F.col(\"total_by_user\")) * 100) \\\n",
    "    .dropDuplicates([\"user_id\"])\n",
    "# 광고별 합격률 계산\n",
    "window_by_ad = Window.partitionBy(\"ad_name\")\n",
    "ad_pass_rate = filtered_is_passed_df.withColumn(\"total_by_ad\", F.count(\"is_passed\").over(window_by_ad)) \\\n",
    "    .withColumn(\"pass_count\", F.sum(F.when(F.col(\"is_passed\") == 'pass', 1).otherwise(0)).over(window_by_ad)) \\\n",
    "    .withColumn(\"pass_rate_by_ad\", (F.col(\"pass_count\") / F.col(\"total_by_ad\")) * 100) \\\n",
    "    .dropDuplicates([\"ad_name\"])\n",
    "\n",
    "\n",
    "# broadcasting 사용\n",
    "# 유저별 합격률을 result_df에 브로드캐스팅으로 추가\n",
    "result_df = result_df.join(broadcast(user_pass_rate.select(\"user_id\", \"pass_rate_by_user\")), [\"user_id\"], \"left\")\n",
    "# 광고별 합격률을 result_df에 브로드캐스팅으로 추가\n",
    "result_df = result_df.join(broadcast(ad_pass_rate.select(\"ad_name\", \"pass_rate_by_ad\")), [\"ad_name\"], \"left\")\n",
    "\n",
    "# # Join 사용\n",
    "# # 유저별 합격률을 result_df에 추가\n",
    "# result_df = result_df.join(user_pass_rate, [\"user_id\"], \"left\")\n",
    "# # 광고별 합격률을 result_df에 추가\n",
    "# result_df = result_df.join(ad_pass_rate, [\"ad_name\"], \"left\")"
   ]
  },
  {
   "cell_type": "code",
   "execution_count": null,
   "id": "a4684ee0-97e1-4837-aa97-5da2a975ea40",
   "metadata": {
    "execution": {
     "iopub.status.busy": "2023-10-27T07:20:58.221367Z",
     "iopub.status.idle": "2023-10-27T07:20:58.221367Z",
     "shell.execute_reply": "2023-10-27T07:20:58.221367Z",
     "shell.execute_reply.started": "2023-10-27T07:20:58.221367Z"
    },
    "tags": []
   },
   "outputs": [],
   "source": [
    "user_pass_rate.unpersist()\n",
    "ad_pass_rate.unpersist()"
   ]
  },
  {
   "cell_type": "code",
   "execution_count": null,
   "id": "3e086655",
   "metadata": {
    "ExecuteTime": {
     "end_time": "2023-10-23T23:40:23.510057Z",
     "start_time": "2023-10-23T23:40:22.859273Z"
    },
    "execution": {
     "iopub.status.busy": "2023-10-27T07:20:58.222367Z",
     "iopub.status.idle": "2023-10-27T07:20:58.223367Z",
     "shell.execute_reply": "2023-10-27T07:20:58.223367Z",
     "shell.execute_reply.started": "2023-10-27T07:20:58.223367Z"
    },
    "tags": []
   },
   "outputs": [],
   "source": [
    "result_df = result_df.drop(\"fail\", \"pass\")"
   ]
  },
  {
   "cell_type": "code",
   "execution_count": null,
   "id": "a835430a",
   "metadata": {
    "ExecuteTime": {
     "end_time": "2023-10-23T23:40:23.525062Z",
     "start_time": "2023-10-23T23:40:23.512058Z"
    },
    "execution": {
     "iopub.status.busy": "2023-10-27T07:20:58.224368Z",
     "iopub.status.idle": "2023-10-27T07:20:58.224368Z",
     "shell.execute_reply": "2023-10-27T07:20:58.224368Z",
     "shell.execute_reply.started": "2023-10-27T07:20:58.224368Z"
    }
   },
   "outputs": [],
   "source": [
    "# # 결과 확인\n",
    "# user_pass_rate.show()\n",
    "# ad_pass_rate.show()"
   ]
  },
  {
   "cell_type": "code",
   "execution_count": null,
   "id": "ba4052b4",
   "metadata": {
    "ExecuteTime": {
     "end_time": "2023-10-23T23:40:23.541064Z",
     "start_time": "2023-10-23T23:40:23.527061Z"
    },
    "execution": {
     "iopub.status.busy": "2023-10-27T07:20:58.225368Z",
     "iopub.status.idle": "2023-10-27T07:20:58.225368Z",
     "shell.execute_reply": "2023-10-27T07:20:58.225368Z",
     "shell.execute_reply.started": "2023-10-27T07:20:58.225368Z"
    },
    "tags": []
   },
   "outputs": [],
   "source": [
    "# 결과 데이터프레임 확인 (스키마 출력)\n",
    "result_df.printSchema()\n",
    "# result_df.count()"
   ]
  },
  {
   "cell_type": "markdown",
   "id": "13ca7ee3",
   "metadata": {},
   "source": [
    "### 광고별 텍스트 길이 column 추가"
   ]
  },
  {
   "cell_type": "code",
   "execution_count": null,
   "id": "17b82eb0",
   "metadata": {
    "ExecuteTime": {
     "end_time": "2023-10-24T00:00:18.300636Z",
     "start_time": "2023-10-23T23:40:23.543066Z"
    },
    "execution": {
     "iopub.status.busy": "2023-10-27T07:20:58.226367Z",
     "iopub.status.idle": "2023-10-27T07:20:58.227368Z",
     "shell.execute_reply": "2023-10-27T07:20:58.227368Z",
     "shell.execute_reply.started": "2023-10-27T07:20:58.227368Z"
    },
    "tags": []
   },
   "outputs": [],
   "source": [
    "# # 이전 추가 코드, 메모리 사용량 및 코드 최적화 전\n",
    "\n",
    "\n",
    "# # UDF은 메모리 사용량이 클 수 있다고 해서 Spark 내장 함수로 바꾸었다\n",
    "# # PySpark에서 사용자 정의 함수(User Defined Function, UDF)를 정의할 때 사용하는 데코레이터\n",
    "# @F.udf(IntegerType())   # 파라미터는 반환되는 데이터 타입\n",
    "# def count_text_length(text):\n",
    "#     if text:\n",
    "#         # 특수 문자를 제거합니다. text에서 영문자, 숫자, 공백을 제외한 모든 문자를 제거\n",
    "#         return len(re.sub(r'[^\\w\\s]', '', text))\n",
    "#     else:\n",
    "#         return None\n",
    "\n",
    "# # 'ad_name'과 'ad_script'를 그룹화하고, 각 그룹의 개수를 카운트\n",
    "# grouped_ad_texts = result_df.groupBy('ad_name', 'ad_script').count()\n",
    "# # print(f\"grouped_ad_texts: {grouped_ad_texts.count()}\")\n",
    "\n",
    "# # 'ad_name' 별로 가장 빈번한 'ad_script'를 선택\n",
    "# windowSpec = Window.partitionBy('ad_name').orderBy(F.desc('count'))\n",
    "# most_frequent_ad_texts = grouped_ad_texts.withColumn(\"rank\", F.rank().over(windowSpec)).filter(\"rank = 1\").drop('count', 'rank')\n",
    "# # print(f\"most_frequent_ad_texts: {most_frequent_ad_texts.count()}\")\n",
    "\n",
    "# # count가 2 이상인 ad_name만 뽑아서 리스트에 넣기\n",
    "# ad_names_with_multiple_texts_list = [row['ad_name'] for row in most_frequent_ad_texts.filter(F.col('count') >= 2).select('ad_name').collect()]\n",
    "# # print(f\"script 개수가 2 이상인 ad_name 개수: {len(ad_names_with_multiple_texts_list)}\")\n",
    "\n",
    "# # 특수 문자를 제거하고, 그 결과의 길이를 계산\n",
    "# most_frequent_ad_texts = most_frequent_ad_texts.withColumn(\"text_length\", count_text_length(F.col(\"ad_script\")))\n",
    "# # # 특수 문자를 제거하고, 그 결과의 길이를 계산\n",
    "# # most_frequent_ad_texts = most_frequent_ad_texts.withColumn(\"cleaned_script\", F.regexp_replace(F.col(\"script\"), \"[^a-zA-Z0-9\\\\s]\", \"\"))\n",
    "# # most_frequent_ad_texts = most_frequent_ad_texts.withColumn(\"text_length\", F.length(F.col(\"cleaned_script\")))\n",
    "\n",
    "\n",
    "# # 원래 데이터프레임에 조인\n",
    "# result_df = result_df.join(most_frequent_ad_texts.select('ad_name', 'text_length'), ['ad_name'], 'left')"
   ]
  },
  {
   "cell_type": "code",
   "execution_count": null,
   "id": "6c7f549d-d1ba-49b1-b0bb-fcfc9854d7bb",
   "metadata": {
    "execution": {
     "iopub.status.busy": "2023-10-27T07:20:58.228368Z",
     "iopub.status.idle": "2023-10-27T07:20:58.228368Z",
     "shell.execute_reply": "2023-10-27T07:20:58.228368Z",
     "shell.execute_reply.started": "2023-10-27T07:20:58.228368Z"
    },
    "tags": []
   },
   "outputs": [],
   "source": [
    "# 'ad_name'과 'ad_script'를 그룹화하고, 각 그룹의 개수를 카운트\n",
    "grouped_ad_texts = spark_df.groupBy('ad_name', 'ad_script').count()\n",
    "\n",
    "# 'ad_name' 별로 가장 빈번한 'ad_script'를 선택\n",
    "windowSpec = Window.partitionBy('ad_name').orderBy(F.desc('count'))\n",
    "most_frequent_ad_texts = grouped_ad_texts.withColumn(\"rank\", F.rank().over(windowSpec)).filter(\"rank = 1\").drop('count', 'rank')\n",
    "\n",
    "# 특수문자 제거 및 길이 계산\n",
    "most_frequent_ad_texts = most_frequent_ad_texts.withColumn(\"cleaned_script\", F.regexp_replace(F.col(\"ad_script\"), \"[^\\\\s\\\\n.,\\uAC00-\\uD7A3a-zA-Z0-9]\", \"\"))\n",
    "most_frequent_ad_texts = most_frequent_ad_texts.withColumn(\"text_length\", F.length(F.col(\"cleaned_script\")))\n",
    "\n",
    "# 원래 데이터프레임에 조인\n",
    "# most_frequent_ad_texts가 상대적으로 작다고 했으므로 브로드캐스팅을 사용\n",
    "spark_df = spark_df.join(broadcast(most_frequent_ad_texts.select('ad_name', 'text_length')), ['ad_name'], 'left')"
   ]
  },
  {
   "cell_type": "code",
   "execution_count": null,
   "id": "4c52ca8a",
   "metadata": {
    "ExecuteTime": {
     "end_time": "2023-10-24T00:00:18.316284Z",
     "start_time": "2023-10-24T00:00:18.302281Z"
    },
    "execution": {
     "iopub.status.busy": "2023-10-27T07:20:58.229369Z",
     "iopub.status.idle": "2023-10-27T07:20:58.229369Z",
     "shell.execute_reply": "2023-10-27T07:20:58.229369Z",
     "shell.execute_reply.started": "2023-10-27T07:20:58.229369Z"
    }
   },
   "outputs": [],
   "source": [
    "# # ad_name 별로 그룹화하고, 각 그룹에서 addText의 유니크한 개수를 센다.\n",
    "# grouped_df = df_attend.groupBy(\"name\").agg(F.countDistinct(\"addText\").alias(\"unique_addText_count\"))\n",
    "\n",
    "# # unique_addText_count가 2 이상인 ad_name만 필터링한다.\n",
    "# filtered_df = grouped_df.filter(F.col(\"unique_addText_count\") >= 2)\n",
    "\n",
    "# # 필터링된 ad_name의 개수를 센다.\n",
    "# count_of_ad_names_with_multiple_texts = filtered_df.count()\n",
    "\n",
    "# print(f\"addText 개수가 2 이상인 ad_name의 개수는 {count_of_ad_names_with_multiple_texts}개입니다.\")\n",
    "\n",
    "# # addText 개수가 2 이상인 ad_name들을 리스트로 만듭니다.\n",
    "# ad_names_with_multiple_texts = [row.name for row in filtered_df.select(\"name\").collect()]\n",
    "\n",
    "# # addText 개수가 2 이상인 ad_name들에 대한 addText 샘플 10개를 출력합니다.\n",
    "# for name in ad_names_with_multiple_texts[:10]:  # 처음 10개의 ad_name만 사용\n",
    "#     sample_texts = df_attend.filter(F.col(\"name\") == name).select(\"addText\").distinct().limit(10).collect()\n",
    "#     print(f\"For ad_name = {name}, sample addTexts are:\")\n",
    "#     for row in sample_texts:\n",
    "#         print(\"  -\", row.addText)"
   ]
  },
  {
   "cell_type": "markdown",
   "id": "361d5591",
   "metadata": {},
   "source": [
    "#### 확인"
   ]
  },
  {
   "cell_type": "code",
   "execution_count": null,
   "id": "55b9a90c",
   "metadata": {
    "ExecuteTime": {
     "end_time": "2023-10-24T00:00:18.332289Z",
     "start_time": "2023-10-24T00:00:18.318286Z"
    },
    "execution": {
     "iopub.status.busy": "2023-10-27T07:20:58.230369Z",
     "iopub.status.idle": "2023-10-27T07:20:58.230369Z",
     "shell.execute_reply": "2023-10-27T07:20:58.230369Z",
     "shell.execute_reply.started": "2023-10-27T07:20:58.230369Z"
    },
    "tags": []
   },
   "outputs": [],
   "source": [
    "# # script에 값이 있는 행의 개수\n",
    "# count_script = result_df.filter(F.col(\"script\").isNotNull()).count()\n",
    "\n",
    "# # text_length에 값이 있는 행의 개수\n",
    "# count_text_length = result_df.filter(F.col(\"text_length\").isNotNull()).count()\n",
    "\n",
    "# print(f\"script에 값이 있는 행의 개수: {count_script}\")\n",
    "# print(f\"text_length에 값이 있는 행의 개수: {count_text_length}\")\n",
    "\n",
    "# 결과 데이터프레임 확인 (스키마 출력)\n",
    "result_df.printSchema()"
   ]
  },
  {
   "cell_type": "markdown",
   "id": "d6a763d2",
   "metadata": {},
   "source": [
    "### 광고 / 유저 별 평균 트라이 횟수"
   ]
  },
  {
   "cell_type": "code",
   "execution_count": null,
   "id": "edec0d63",
   "metadata": {
    "ExecuteTime": {
     "end_time": "2023-10-24T00:00:23.308601Z",
     "start_time": "2023-10-24T00:00:18.334288Z"
    },
    "execution": {
     "iopub.status.busy": "2023-10-27T07:20:58.231369Z",
     "iopub.status.idle": "2023-10-27T07:20:58.232369Z",
     "shell.execute_reply": "2023-10-27T07:20:58.231369Z",
     "shell.execute_reply.started": "2023-10-27T07:20:58.231369Z"
    },
    "tags": []
   },
   "outputs": [],
   "source": [
    "# # 최적화 이전 코드\n",
    "\n",
    "\n",
    "# # accuracy_array 컬럼의 배열 크기를 계산하여 try_count 컬럼을 생성\n",
    "# result_df = result_df.withColumn(\"try_count\", size(result_df.accuracy_array))\n",
    "\n",
    "# # 유저별 평균 트라이 횟수\n",
    "# user_avg_tries = result_df.groupBy(\"user_id\").agg(avg(\"try_count\").alias(\"user_avg_tries\"))\n",
    "\n",
    "# # 광고별 평균 트라이 횟수\n",
    "# ad_avg_tries = result_df.groupBy(\"ad_name\").agg(avg(\"try_count\").alias(\"ad_avg_tries\"))\n",
    "\n",
    "# # # 결과 출력 (옵션)\n",
    "# # user_avg_tries.show()\n",
    "# # ad_avg_tries.show()\n",
    "\n",
    "# # user_avg_tries를 result_df에 조인\n",
    "# result_df = result_df.join(user_avg_tries, on=\"user_id\", how=\"left\")\n",
    "\n",
    "# # ad_avg_tries를 result_df에 조인\n",
    "# result_df = result_df.join(ad_avg_tries, on=\"ad_name\", how=\"left\")"
   ]
  },
  {
   "cell_type": "code",
   "execution_count": null,
   "id": "f759c09a-26fe-43ef-8e08-191092426f32",
   "metadata": {
    "execution": {
     "iopub.status.busy": "2023-10-27T07:20:58.232369Z",
     "iopub.status.idle": "2023-10-27T07:20:58.233370Z",
     "shell.execute_reply": "2023-10-27T07:20:58.233370Z",
     "shell.execute_reply.started": "2023-10-27T07:20:58.233370Z"
    },
    "tags": []
   },
   "outputs": [],
   "source": [
    "# 최적화 이후 코드\n",
    "\n",
    "# accuracy_array 컬럼의 배열 크기를 계산하여 try_count 컬럼을 생성\n",
    "result_df = result_df.withColumn(\"try_count\", F.size(F.col(\"accuracy_array\")))\n",
    "\n",
    "# 유저별 평균 트라이 횟수를 계산하는 Window 함수\n",
    "window_by_user = Window.partitionBy(\"user_id\")\n",
    "result_df = result_df.withColumn(\"user_avg_tries\", F.avg(\"try_count\").over(window_by_user))\n",
    "\n",
    "# 광고별 평균 트라이 횟수를 계산하는 Window 함수\n",
    "window_by_ad = Window.partitionBy(\"ad_name\")\n",
    "result_df = result_df.withColumn(\"ad_avg_tries\", F.avg(\"try_count\").over(window_by_ad))"
   ]
  },
  {
   "cell_type": "markdown",
   "id": "3b09ea4b",
   "metadata": {},
   "source": [
    "#### 확인"
   ]
  },
  {
   "cell_type": "code",
   "execution_count": null,
   "id": "9dadc085",
   "metadata": {
    "ExecuteTime": {
     "end_time": "2023-10-24T00:00:58.313415Z",
     "start_time": "2023-10-24T00:00:58.299412Z"
    },
    "execution": {
     "iopub.status.busy": "2023-10-27T07:20:58.234370Z",
     "iopub.status.idle": "2023-10-27T07:20:58.234370Z",
     "shell.execute_reply": "2023-10-27T07:20:58.234370Z",
     "shell.execute_reply.started": "2023-10-27T07:20:58.234370Z"
    }
   },
   "outputs": [],
   "source": [
    "# # user_avg_tries 값이 있는 행의 개수\n",
    "# count_user_avg_tries = result_df.filter(F.col(\"user_avg_tries\").isNotNull()).count()\n",
    "\n",
    "# # ad_avg_tries 값이 있는 행의 개수\n",
    "# count_ad_avg_tries = result_df.filter(F.col(\"ad_avg_tries\").isNotNull()).count()\n",
    "\n",
    "# print(f\"user_avg_tries 값이 있는 행의 개수: {count_user_avg_tries}\")\n",
    "# print(f\"count_ad_avg_tries 값이 있는 행의 개수: {count_ad_avg_tries}\")\n",
    "\n",
    "# result_df.printSchema()"
   ]
  },
  {
   "cell_type": "code",
   "execution_count": null,
   "id": "e91dc630",
   "metadata": {
    "ExecuteTime": {
     "end_time": "2023-10-24T00:00:58.328372Z",
     "start_time": "2023-10-24T00:00:58.315416Z"
    },
    "execution": {
     "iopub.status.busy": "2023-10-27T07:20:58.235370Z",
     "iopub.status.idle": "2023-10-27T07:20:58.235370Z",
     "shell.execute_reply": "2023-10-27T07:20:58.235370Z",
     "shell.execute_reply.started": "2023-10-27T07:20:58.235370Z"
    },
    "tags": []
   },
   "outputs": [],
   "source": [
    "result_df.printSchema()"
   ]
  },
  {
   "cell_type": "markdown",
   "id": "9cb61615",
   "metadata": {},
   "source": [
    "# result_df를 로컬에 저장"
   ]
  },
  {
   "cell_type": "code",
   "execution_count": null,
   "id": "28426853",
   "metadata": {
    "ExecuteTime": {
     "end_time": "2023-10-24T00:00:58.344376Z",
     "start_time": "2023-10-24T00:00:58.330373Z"
    },
    "execution": {
     "iopub.status.busy": "2023-10-27T07:20:58.237370Z",
     "iopub.status.idle": "2023-10-27T07:20:58.237370Z",
     "shell.execute_reply": "2023-10-27T07:20:58.237370Z",
     "shell.execute_reply.started": "2023-10-27T07:20:58.237370Z"
    },
    "tags": []
   },
   "outputs": [],
   "source": [
    "# os.environ['HADOOP_HOME'] = \"C:\\\\Hadoop\\\\hadoop-3.3.6\"\n",
    "print(os.environ[\"HADOOP_HOME\"])"
   ]
  },
  {
   "cell_type": "code",
   "execution_count": null,
   "id": "4066cb88",
   "metadata": {
    "ExecuteTime": {
     "end_time": "2023-10-24T00:01:01.646490Z",
     "start_time": "2023-10-24T00:00:58.346377Z"
    },
    "execution": {
     "iopub.status.busy": "2023-10-27T07:20:58.238370Z",
     "iopub.status.idle": "2023-10-27T07:20:58.238370Z",
     "shell.execute_reply": "2023-10-27T07:20:58.238370Z",
     "shell.execute_reply.started": "2023-10-27T07:20:58.238370Z"
    },
    "tags": []
   },
   "outputs": [],
   "source": [
    "# 'script' 컬럼 삭제 <- 추후 필요하다고 느껴지면 반드시 수정\n",
    "result_df = result_df.drop('script')"
   ]
  },
  {
   "cell_type": "code",
   "execution_count": null,
   "id": "5b7e21c0",
   "metadata": {
    "ExecuteTime": {
     "end_time": "2023-10-24T00:01:01.662580Z",
     "start_time": "2023-10-24T00:01:01.648577Z"
    },
    "execution": {
     "iopub.status.busy": "2023-10-27T07:20:58.239371Z",
     "iopub.status.idle": "2023-10-27T07:20:58.240372Z",
     "shell.execute_reply": "2023-10-27T07:20:58.240372Z",
     "shell.execute_reply.started": "2023-10-27T07:20:58.240372Z"
    }
   },
   "outputs": [],
   "source": [
    "# num_partitions = result_df.rdd.getNumPartitions()\n",
    "# print(f\"Current number of partitions: {num_partitions}\")"
   ]
  },
  {
   "cell_type": "markdown",
   "id": "2825cada",
   "metadata": {},
   "source": [
    "Current number of partitions: 104"
   ]
  },
  {
   "cell_type": "markdown",
   "id": "676fd121",
   "metadata": {},
   "source": [
    "## Dataframe 데이터 타입 변환\n",
    "pyspark.df -> csv 변환을 하기 위해서,  \n",
    "CSV 파일은 string값만 허용하기 때문  \n",
    "그 전에 accuracy_array 컬럼 내의 double 요소들을 int 타입으로 변환"
   ]
  },
  {
   "cell_type": "code",
   "execution_count": null,
   "id": "93171850",
   "metadata": {
    "ExecuteTime": {
     "end_time": "2023-10-24T00:01:01.678390Z",
     "start_time": "2023-10-24T00:01:01.664580Z"
    },
    "execution": {
     "iopub.status.busy": "2023-10-27T07:20:58.240372Z",
     "iopub.status.idle": "2023-10-27T07:20:58.241371Z",
     "shell.execute_reply": "2023-10-27T07:20:58.241371Z",
     "shell.execute_reply.started": "2023-10-27T07:20:58.241371Z"
    }
   },
   "outputs": [],
   "source": [
    "# # ad_name과 user_id에 따라 특정 행을 필터링하고 출력하는 코드\n",
    "# specific_row_rd = result_df.filter(\n",
    "#     (F.col(\"ad_name\") == \"살어리랏다 살어리랏다 청산에 살어리랏다\") &\n",
    "#     (F.col(\"user_id\") == \"4a7gilnpClZ81pLlW1A5SdK5ymr2\")\n",
    "# )\n",
    "\n",
    "# # 해당 행의 ad_script 컬럼값을 출력\n",
    "# specific_row_rd.select(\"accuracy_array\").show(truncate=False)"
   ]
  },
  {
   "cell_type": "markdown",
   "id": "671069b9",
   "metadata": {},
   "source": [
    "위의 출력이 array인지 아닌지 확인 -> []에 둘러싸인 array값이면 옳게 된 데이터 \n",
    "ex) 잘못된 데이터  \n",
    "+-----------------------------------------------------+  \n",
    "|accuracy_array                                       |  \n",
    "+-----------------------------------------------------+  \n",
    "|63,66,69,63,67,69,74,69,77,66,66,65,68,75,73,56,76,72|  \n",
    "+-----------------------------------------------------+  "
   ]
  },
  {
   "cell_type": "code",
   "execution_count": null,
   "id": "38182ec0",
   "metadata": {
    "ExecuteTime": {
     "end_time": "2023-10-24T00:01:07.581668Z",
     "start_time": "2023-10-24T00:01:07.567669Z"
    },
    "execution": {
     "iopub.status.busy": "2023-10-27T07:20:58.242371Z",
     "iopub.status.idle": "2023-10-27T07:20:58.242371Z",
     "shell.execute_reply": "2023-10-27T07:20:58.242371Z",
     "shell.execute_reply.started": "2023-10-27T07:20:58.242371Z"
    }
   },
   "outputs": [],
   "source": [
    "# # parquet은 굳이 이런 변환 필요가 없으니 주석 처리함\n",
    "# # accuracy_array 컬럼의 배열을 대괄호와 쉼표로 구분된 문자열로 변환\n",
    "# result_df = result_df.withColumn(\"accuracy_array\", F.format_string(\"[%s]\", F.expr(\"array_join(accuracy_array, ',')\")))\n",
    "# # stt_text_array 컬럼을 문자열로 변환\n",
    "# result_df = result_df.withColumn(\"stt_text_array\", concat_ws(\",\", result_df.stt_text_array))\n",
    "# # created_timestamp_array 컬럼을 문자열로 변환\n",
    "# result_df = result_df.withColumn(\"created_timestamp_array\", concat_ws(\",\", result_df.created_timestamp_array))"
   ]
  },
  {
   "cell_type": "markdown",
   "id": "e566470c",
   "metadata": {},
   "source": [
    "## 로컬에 저장하는 작업: Parquet 포맷 or CSV 포맷"
   ]
  },
  {
   "cell_type": "code",
   "execution_count": null,
   "id": "b607c32b-d439-4f1e-a3aa-e24c4cddc2d1",
   "metadata": {
    "execution": {
     "iopub.status.busy": "2023-10-27T07:20:58.243372Z",
     "iopub.status.idle": "2023-10-27T07:20:58.243372Z",
     "shell.execute_reply": "2023-10-27T07:20:58.243372Z",
     "shell.execute_reply.started": "2023-10-27T07:20:58.243372Z"
    },
    "tags": []
   },
   "outputs": [],
   "source": [
    "# # 오늘의 날짜를 얻어 'yymmdd' 포맷으로 변환\n",
    "# today = datetime.today()\n",
    "# formatted_date = today.strftime('%y%m%d')\n",
    "\n",
    "# # 저장할 경로 설정\n",
    "# file_path = f\"D:/DATA_PREPROCESS/FIRESTORE_DATAS/voice_metadata_parquet_{formatted_date}\"\n",
    "\n",
    "# # 파티션 수를 결정합니다.\n",
    "# num_partitions = 300\n",
    "\n",
    "# #-------------------------------------------------------------------------------\n",
    "# # # Row 번호를 생성하여 데이터를 나눕니다.\n",
    "# # window_spec = Window().orderBy(F.monotonically_increasing_id())\n",
    "# # result_df = result_df.withColumn(\"row_num\", F.row_number().over(window_spec))\n",
    "\n",
    "# # # 각 파티션에 대해 데이터를 저장합니다.\n",
    "# # for i in range(num_partitions):\n",
    "# #     partition_df = result_df.filter((F.col(\"row_num\") % num_partitions) == i)\n",
    "# #     partition_file_path = f\"{file_path}_partition_{i}.parquet\"\n",
    "# #     partition_df.write.parquet(partition_file_path, mode='overwrite')\n",
    "# #-------------------------------------------------------------------------------\n",
    "\n",
    "\n",
    "# # 데이터를 균등하게 분할합니다.\n",
    "# repartitioned_df = result_df.repartition(num_partitions)\n",
    "\n",
    "# # 각 파티션에 대해 데이터를 저장합니다.\n",
    "# for i in range(num_partitions):\n",
    "#     partition_df = repartitioned_df.filter(F.spark_partition_id() == i)\n",
    "#     partition_file_path = f\"{file_path}_partition_{i}.parquet\"\n",
    "#     partition_df.write.parquet(partition_file_path, mode='overwrite')"
   ]
  },
  {
   "cell_type": "markdown",
   "id": "49276c0e",
   "metadata": {},
   "source": [
    "테스트할 땐 바로 아래 셀들을 주석 처리(로컬에 저장하는 코드)"
   ]
  },
  {
   "cell_type": "code",
   "execution_count": null,
   "id": "a654a8cc",
   "metadata": {
    "ExecuteTime": {
     "end_time": "2023-10-24T00:01:07.612672Z",
     "start_time": "2023-10-24T00:01:07.585666Z"
    },
    "execution": {
     "iopub.status.busy": "2023-10-27T07:20:58.244372Z",
     "iopub.status.idle": "2023-10-27T07:20:58.245372Z",
     "shell.execute_reply": "2023-10-27T07:20:58.244372Z",
     "shell.execute_reply.started": "2023-10-27T07:20:58.244372Z"
    },
    "tags": []
   },
   "outputs": [],
   "source": [
    "# # 로컬에 저장하는 작업 전 메모리에서 다른 df들을 해제\n",
    "# # 메모리에서 불필요한 DataFrame 해제\n",
    "# # 메모리에서 불필요한 DataFrame 해제\n",
    "# for df_name in [\n",
    "#     'df_ad', 'df_ad_renamed', 'df_attend', 'df_attend_with_rownum',\n",
    "#     'df_average_by_ad', 'df_average_by_user', 'df_externals', 'df_hdd',\n",
    "#     'df_memo', 'df_memo_1_2', 'df_memo_backup', 'df_memo_backup_060900',\n",
    "#     'df_memo_backup_060912', 'df_memo_backup_f1', 'df_memo_backup_f2',\n",
    "#     'df_memo_backup_f3', 'df_memo_folder', 'df_point', 'df_point_1_2',\n",
    "#     'df_point_backup', 'df_point_backup_f1', 'df_point_backup_f2',\n",
    "#     'df_point_backup_f3', 'df_point_dropped', 'df_point_folder', 'df_ssd',\n",
    "#     'df_user_backup', 'df_users', 'df_users_transformed'\n",
    "# ]:\n",
    "#     if df_name in locals():\n",
    "#         eval(df_name).unpersist(blocking=True)"
   ]
  },
  {
   "cell_type": "code",
   "execution_count": null,
   "id": "ced7f341-119b-4f2c-8019-decbcaa86fd1",
   "metadata": {
    "execution": {
     "iopub.status.busy": "2023-10-27T07:20:58.245372Z",
     "iopub.status.idle": "2023-10-27T07:20:58.245372Z",
     "shell.execute_reply": "2023-10-27T07:20:58.245372Z",
     "shell.execute_reply.started": "2023-10-27T07:20:58.245372Z"
    },
    "tags": []
   },
   "outputs": [],
   "source": [
    "# something is going on"
   ]
  },
  {
   "cell_type": "code",
   "execution_count": null,
   "id": "7c40fe95",
   "metadata": {
    "ExecuteTime": {
     "end_time": "2023-10-24T00:01:07.644682Z",
     "start_time": "2023-10-24T00:01:07.630676Z"
    },
    "execution": {
     "iopub.status.busy": "2023-10-27T07:20:58.246373Z",
     "iopub.status.idle": "2023-10-27T07:20:58.247373Z",
     "shell.execute_reply": "2023-10-27T07:20:58.247373Z",
     "shell.execute_reply.started": "2023-10-27T07:20:58.247373Z"
    }
   },
   "outputs": [],
   "source": [
    "# # 스파크에서는 persist() 또는 cache() 함수를 통해 데이터셋을 메모리에 보관할 수 있음\n",
    "# # 이 때 스토리지 레벨을 지정해 데이터의 저장 방식을 조정할 수 있음\n",
    "# # MEMORY_AND_DISK_SER 레벨은 메모리가 부족하면 디스크에 저장\n",
    "# # DataFrame을 RDD로 변환\n",
    "# result_rdd = result_df.rdd\n",
    "\n",
    "# # 스토리지 레벨 설정\n",
    "# result_rdd.persist(StorageLevel.MEMORY_AND_DISK_SER)\n",
    "\n",
    "# # RDD를 다시 DataFrame으로 변환\n",
    "# result_df = result_rdd.toDF()"
   ]
  },
  {
   "cell_type": "code",
   "execution_count": null,
   "id": "32ad5702",
   "metadata": {
    "ExecuteTime": {
     "start_time": "2023-10-24T03:28:48.857Z"
    },
    "execution": {
     "iopub.status.busy": "2023-10-27T07:20:58.247373Z",
     "iopub.status.idle": "2023-10-27T07:20:58.248373Z",
     "shell.execute_reply": "2023-10-27T07:20:58.248373Z",
     "shell.execute_reply.started": "2023-10-27T07:20:58.248373Z"
    },
    "tags": []
   },
   "outputs": [],
   "source": [
    "# # Window 함수 사용하여 row_id 생성\n",
    "# window_spec = Window.orderBy(F.lit('A'))  # 'A'는 임의의 상수. 순차적으로 ID를 부여하기 위한 방법\n",
    "# result_df = result_df.withColumn(\"row_id\", F.row_number().over(window_spec))\n",
    "\n",
    "# # 전체 데이터를 몇 개의 파 티션으로 나눌 것인지 지정\n",
    "# num_parts = 1038\n",
    "\n",
    "# # randomSplit() 함수를 사용하여 데이터프레임 나누기\n",
    "# weights = [1.0 / num_parts] * num_parts\n",
    "# dfs = result_df.randomSplit(weights)\n",
    "\n",
    "# # 오늘의 날짜를 얻어 'yymmdd' 포맷으로 변환\n",
    "# today = datetime.today()\n",
    "# formatted_date = today.strftime('%y%m%d')\n",
    "\n",
    "# # 저장할 경로 설정\n",
    "# base_path = f\"D:/DATA_PREPROCESS/FIRESTORE_DATAS/voice_metadata_parquet_{formatted_date}\"\n",
    "\n",
    "\n",
    "# # 각 파티션 저장 후 메모리에서 해당 데이터프레임 제거\n",
    "# for df_part in dfs:\n",
    "#     # 데이터를 Parquet 형식으로 저장\n",
    "#     df_part.write.mode('append').parquet(base_path)\n",
    "#     df_part.unpersist()  # 해당 데이터프레임 메모리에서 제거"
   ]
  },
  {
   "cell_type": "code",
   "execution_count": null,
   "id": "1a7ce7be",
   "metadata": {
    "ExecuteTime": {
     "end_time": "2023-10-24T00:51:38.383135Z",
     "start_time": "2023-10-24T00:26:23.589691Z"
    },
    "execution": {
     "iopub.status.busy": "2023-10-27T07:20:58.249373Z",
     "iopub.status.idle": "2023-10-27T07:20:58.249373Z",
     "shell.execute_reply": "2023-10-27T07:20:58.249373Z",
     "shell.execute_reply.started": "2023-10-27T07:20:58.249373Z"
    }
   },
   "outputs": [],
   "source": [
    "# dfs_count = len(dfs)\n",
    "# print(dfs_count)\n",
    "\n",
    "# # 첫 번째 dfs의 행 개수 확인\n",
    "# first_dfs_count = dfs[0].count()\n",
    "# print(first_dfs_count)"
   ]
  },
  {
   "cell_type": "code",
   "execution_count": null,
   "id": "83d32019",
   "metadata": {
    "ExecuteTime": {
     "end_time": "2023-10-24T02:31:32.307874Z",
     "start_time": "2023-10-24T02:31:32.307874Z"
    },
    "execution": {
     "iopub.status.busy": "2023-10-27T07:20:58.250373Z",
     "iopub.status.idle": "2023-10-27T07:20:58.251373Z",
     "shell.execute_reply": "2023-10-27T07:20:58.251373Z",
     "shell.execute_reply.started": "2023-10-27T07:20:58.251373Z"
    }
   },
   "outputs": [],
   "source": [
    "# print(rows_per_executor)\n",
    "# print(num_parts)"
   ]
  },
  {
   "cell_type": "code",
   "execution_count": null,
   "id": "0a53beb0",
   "metadata": {
    "ExecuteTime": {
     "end_time": "2023-10-24T00:51:38.819737Z",
     "start_time": "2023-10-24T00:51:38.819737Z"
    },
    "execution": {
     "iopub.status.busy": "2023-10-27T07:20:58.252375Z",
     "iopub.status.idle": "2023-10-27T07:20:58.252375Z",
     "shell.execute_reply": "2023-10-27T07:20:58.252375Z",
     "shell.execute_reply.started": "2023-10-27T07:20:58.252375Z"
    },
    "tags": []
   },
   "outputs": [],
   "source": [
    "# 오늘의 날짜를 얻어 'yymmdd' 포맷으로 변환\n",
    "today = datetime.today()\n",
    "formatted_date = today.strftime('%y%m%d')\n",
    "\n",
    "# 저장할 경로 설정\n",
    "file_path = f\"D:/DATA_PREPROCESS/FIRESTORE_DATAS/voice_metadata_parquet_{formatted_date}\"\n",
    "\n",
    "#------------------------------------------------------------------------------------------------\n",
    "\n",
    "# # 기존의 분할 안한 df의 저장 코드\n",
    "# # 데이터를 Parquet 형식으로 저장, parquet파일 형식은 스키마를 이미 포함하고 있기에 header필요 X\n",
    "# result_df.repartition(250).write.parquet(file_path, mode='overwrite')\n",
    "\n",
    "#------------------------------------------------------------------------------------------------\n",
    "\n",
    "# # dfs리스트로 result_df를 분할했을 때 저장 코드\n",
    "# for index, df_part in enumerate(dfs):\n",
    "#     # 데이터를 Parquet 형식으로 저장\n",
    "#     # 동일한 base_path에 저장되며, 각 파티션은 별도의 파일로 저장됩니다.\n",
    "#     df_part.write.mode('append').parquet(base_path)\n",
    "\n",
    "#------------------------------------------------------------------------------------------------\n",
    "\n",
    "# # 고유한 'ad_duration_end' 값 가져오기\n",
    "# unique_ad_durations = result_df.select('ad_duration_end').distinct().collect()\n",
    "# unique_ad_durations = [row.ad_duration_end for row in unique_ad_durations]\n",
    "\n",
    "# # ad_duration_end를 기준으로 데이터 분할\n",
    "# dfs = [result_df.filter(F.col('ad_duration_end') == duration) for duration in unique_ad_durations]\n",
    "\n",
    "# # 오늘의 날짜와 경로 설정\n",
    "# today = datetime.today()\n",
    "# formatted_date = today.strftime('%y%m%d')\n",
    "# base_path = f\"D:/DATA_PREPROCESS/FIRESTORE_DATAS/voice_metadata_parquet_{formatted_date}\"\n",
    "\n",
    "# # 각 파티션을 저장\n",
    "# for df_part in dfs:\n",
    "#     df_part.write.mode('append').parquet(base_path)\n",
    "#     df_part.unpersist(blocking=True)  # 메모리 즉시 해제"
   ]
  },
  {
   "cell_type": "code",
   "execution_count": null,
   "id": "71506f18",
   "metadata": {
    "ExecuteTime": {
     "end_time": "2023-10-24T00:51:38.820737Z",
     "start_time": "2023-10-24T00:51:38.820737Z"
    },
    "execution": {
     "iopub.status.busy": "2023-10-27T07:20:58.253375Z",
     "iopub.status.idle": "2023-10-27T07:20:58.254375Z",
     "shell.execute_reply": "2023-10-27T07:20:58.253375Z",
     "shell.execute_reply.started": "2023-10-27T07:20:58.253375Z"
    },
    "tags": []
   },
   "outputs": [],
   "source": [
    "# # 파티션 개수를 300개로 재조정하여 데이터를 나눕니다.\n",
    "# # 이렇게 하면 Spark는 데이터를 150개의 파티션으로 나누고, 각 파티션을 별도의 파일로 저장합니다.\n",
    "# result_df.repartition(300).write.parquet(file_path, mode='overwrite')"
   ]
  },
  {
   "cell_type": "markdown",
   "id": "1c953db5-b6de-4a63-8c5c-3ddca9919e43",
   "metadata": {},
   "source": [
    " 3일째 지긋지긋한 sparkcontext 에러........  \n",
    "\n",
    "---------------------------------------------------------------------------\n",
    "Py4JJavaError                             Traceback (most recent call last)\n",
    "Cell In[104], line 3\n",
    "      1 # 파티션 개수를 150개로 재조정하여 데이터를 나눕니다.\n",
    "      2 # 이렇게 하면 Spark는 데이터를 150개의 파티션으로 나누고, 각 파티션을 별도의 파일로 저장합니다.\n",
    "----> 3 result_df.repartition(150).write.parquet(file_path, mode='overwrite')\n",
    "\n",
    "File ~\\anaconda3\\envs\\my_conda_01\\lib\\site-packages\\pyspark\\sql\\readwriter.py:1656, in DataFrameWriter.parquet(self, path, mode, partitionBy, compression)\n",
    "   1654     self.partitionBy(partitionBy)\n",
    "   1655 self._set_opts(compression=compression)\n",
    "-> 1656 self._jwrite.parquet(path)\n",
    "\n",
    "File ~\\anaconda3\\envs\\my_conda_01\\lib\\site-packages\\py4j\\java_gateway.py:1322, in JavaMember.__call__(self, *args)\n",
    "   1316 command = proto.CALL_COMMAND_NAME +\\\n",
    "   1317     self.command_header +\\\n",
    "   1318     args_command +\\\n",
    "   1319     proto.END_COMMAND_PART\n",
    "   1321 answer = self.gateway_client.send_command(command)\n",
    "-> 1322 return_value = get_return_value(\n",
    "   1323     answer, self.gateway_client, self.target_id, self.name)\n",
    "   1325 for temp_arg in temp_args:\n",
    "   1326     if hasattr(temp_arg, \"_detach\"):\n",
    "\n",
    "File ~\\anaconda3\\envs\\my_conda_01\\lib\\site-packages\\pyspark\\errors\\exceptions\\captured.py:169, in capture_sql_exception.<locals>.deco(*a, **kw)\n",
    "    167 def deco(*a: Any, **kw: Any) -> Any:\n",
    "    168     try:\n",
    "--> 169         return f(*a, **kw)\n",
    "    170     except Py4JJavaError as e:\n",
    "    171         converted = convert_exception(e.java_exception)\n",
    "\n",
    "File ~\\anaconda3\\envs\\my_conda_01\\lib\\site-packages\\py4j\\protocol.py:326, in get_return_value(answer, gateway_client, target_id, name)\n",
    "    324 value = OUTPUT_CONVERTER[type](answer[2:], gateway_client)\n",
    "    325 if answer[1] == REFERENCE_TYPE:\n",
    "--> 326     raise Py4JJavaError(\n",
    "    327         \"An error occurred while calling {0}{1}{2}.\\n\".\n",
    "    328         format(target_id, \".\", name), value)\n",
    "    329 else:\n",
    "    330     raise Py4JError(\n",
    "    331         \"An error occurred while calling {0}{1}{2}. Trace:\\n{3}\\n\".\n",
    "    332         format(target_id, \".\", name, value))\n",
    "\n",
    "Py4JJavaError: An error occurred while calling o7163.parquet.\n",
    ": java.lang.IllegalStateException: Cannot call methods on a stopped SparkContext.\n",
    "This stopped SparkContext was created at:\n",
    "\n",
    "org.apache.spark.api.java.JavaSparkContext.<init>(JavaSparkContext.scala:58)\n",
    "java.base/jdk.internal.reflect.NativeConstructorAccessorImpl.newInstance0(Native Method)\n",
    "java.base/jdk.internal.reflect.NativeConstructorAccessorImpl.newInstance(NativeConstructorAccessorImpl.java:77)\n",
    "java.base/jdk.internal.reflect.DelegatingConstructorAccessorImpl.newInstance(DelegatingConstructorAccessorImpl.java:45)\n",
    "java.base/java.lang.reflect.Constructor.newInstanceWithCaller(Constructor.java:499)\n",
    "java.base/java.lang.reflect.Constructor.newInstance(Constructor.java:480)\n",
    "py4j.reflection.MethodInvoker.invoke(MethodInvoker.java:247)\n",
    "py4j.reflection.ReflectionEngine.invoke(ReflectionEngine.java:374)\n",
    "py4j.Gateway.invoke(Gateway.java:238)\n",
    "py4j.commands.ConstructorCommand.invokeConstructor(ConstructorCommand.java:80)\n",
    "py4j.commands.ConstructorCommand.execute(ConstructorCommand.java:69)\n",
    "py4j.ClientServerConnection.waitForCommands(ClientServerConnection.java:182)\n",
    "py4j.ClientServerConnection.run(ClientServerConnection.java:106)\n",
    "java.base/java.lang.Thread.run(Thread.java:833)\n",
    "\n",
    "The currently active SparkContext was created at:\n",
    "\n",
    "org.apache.spark.api.java.JavaSparkContext.<init>(JavaSparkContext.scala:58)\n",
    "java.base/jdk.internal.reflect.NativeConstructorAccessorImpl.newInstance0(Native Method)\n",
    "java.base/jdk.internal.reflect.NativeConstructorAccessorImpl.newInstance(NativeConstructorAccessorImpl.java:77)\n",
    "java.base/jdk.internal.reflect.DelegatingConstructorAccessorImpl.newInstance(DelegatingConstructorAccessorImpl.java:45)\n",
    "java.base/java.lang.reflect.Constructor.newInstanceWithCaller(Constructor.java:499)\n",
    "java.base/java.lang.reflect.Constructor.newInstance(Constructor.java:480)\n",
    "py4j.reflection.MethodInvoker.invoke(MethodInvoker.java:247)\n",
    "py4j.reflection.ReflectionEngine.invoke(ReflectionEngine.java:374)\n",
    "py4j.Gateway.invoke(Gateway.java:238)\n",
    "py4j.commands.ConstructorCommand.invokeConstructor(ConstructorCommand.java:80)\n",
    "py4j.commands.ConstructorCommand.execute(ConstructorCommand.java:69)\n",
    "py4j.ClientServerConnection.waitForCommands(ClientServerConnection.java:182)\n",
    "py4j.ClientServerConnection.run(ClientServerConnection.java:106)\n",
    "java.base/java.lang.Thread.run(Thread.java:833)\n",
    "         \n",
    "\tat org.apache.spark.SparkContext.assertNotStopped(SparkContext.scala:120)\n",
    "\tat org.apache.spark.SparkContext.submitMapStage(SparkContext.scala:2426)\n",
    "\tat org.apache.spark.sql.execution.exchange.ShuffleExchangeExec.mapOutputStatisticsFuture$lzycompute(ShuffleExchangeExec.scala:143)\n",
    "\tat org.apache.spark.sql.execution.exchange.ShuffleExchangeExec.mapOutputStatisticsFuture(ShuffleExchangeExec.scala:139)\n",
    "\tat org.apache.spark.sql.execution.exchange.ShuffleExchangeLike.$anonfun$submitShuffleJob$1(ShuffleExchangeExec.scala:68)\n",
    "\tat org.apache.spark.sql.execution.SparkPlan.$anonfun$executeQuery$1(SparkPlan.scala:246)\n",
    "\tat org.apache.spark.rdd.RDDOperationScope$.withScope(RDDOperationScope.scala:151)\n",
    "\tat org.apache.spark.sql.execution.SparkPlan.executeQuery(SparkPlan.scala:243)\n",
    "\tat org.apache.spark.sql.execution.exchange.ShuffleExchangeLike.submitShuffleJob(ShuffleExchangeExec.scala:68)\n",
    "\tat org.apache.spark.sql.execution.exchange.ShuffleExchangeLike.submitShuffleJob$(ShuffleExchangeExec.scala:67)\n",
    "\tat org.apache.spark.sql.execution.exchange.ShuffleExchangeExec.submitShuffleJob(ShuffleExchangeExec.scala:115)\n",
    "\tat org.apache.spark.sql.execution.adaptive.ShuffleQueryStageExec.shuffleFuture$lzycompute(QueryStageExec.scala:181)\n",
    "\tat org.apache.spark.sql.execution.adaptive.ShuffleQueryStageExec.shuffleFuture(QueryStageExec.scala:181)\n",
    "\tat org.apache.spark.sql.execution.adaptive.ShuffleQueryStageExec.doMaterialize(QueryStageExec.scala:183)\n",
    "\tat org.apache.spark.sql.execution.adaptive.QueryStageExec.materialize(QueryStageExec.scala:82)\n",
    "\tat org.apache.spark.sql.execution.adaptive.AdaptiveSparkPlanExec.$anonfun$getFinalPhysicalPlan$5(AdaptiveSparkPlanExec.scala:266)\n",
    "\tat org.apache.spark.sql.execution.adaptive.AdaptiveSparkPlanExec.$anonfun$getFinalPhysicalPlan$5$adapted(AdaptiveSparkPlanExec.scala:264)\n",
    "\tat scala.collection.Iterator.foreach(Iterator.scala:943)\n",
    "\tat scala.collection.Iterator.foreach$(Iterator.scala:943)\n",
    "\tat scala.collection.AbstractIterator.foreach(Iterator.scala:1431)\n",
    "\tat scala.collection.IterableLike.foreach(IterableLike.scala:74)\n",
    "\tat scala.collection.IterableLike.foreach$(IterableLike.scala:73)\n",
    "\tat scala.collection.AbstractIterable.foreach(Iterable.scala:56)\n",
    "\tat org.apache.spark.sql.execution.adaptive.AdaptiveSparkPlanExec.$anonfun$getFinalPhysicalPlan$1(AdaptiveSparkPlanExec.scala:264)\n",
    "\tat org.apache.spark.sql.SparkSession.withActive(SparkSession.scala:827)\n",
    "\tat org.apache.spark.sql.execution.adaptive.AdaptiveSparkPlanExec.getFinalPhysicalPlan(AdaptiveSparkPlanExec.scala:236)\n",
    "\tat org.apache.spark.sql.execution.adaptive.AdaptiveSparkPlanExec.withFinalPlanUpdate(AdaptiveSparkPlanExec.scala:381)\n",
    "\tat org.apache.spark.sql.execution.adaptive.AdaptiveSparkPlanExec.executeCollect(AdaptiveSparkPlanExec.scala:354)\n",
    "\tat org.apache.spark.sql.execution.QueryExecution$$anonfun$eagerlyExecuteCommands$1.$anonfun$applyOrElse$1(QueryExecution.scala:98)\n",
    "\tat org.apache.spark.sql.execution.SQLExecution$.$anonfun$withNewExecutionId$6(SQLExecution.scala:118)\n",
    "\tat org.apache.spark.sql.execution.SQLExecution$.withSQLConfPropagated(SQLExecution.scala:195)\n",
    "\tat org.apache.spark.sql.execution.SQLExecution$.$anonfun$withNewExecutionId$1(SQLExecution.scala:103)\n",
    "\tat org.apache.spark.sql.SparkSession.withActive(SparkSession.scala:827)\n",
    "\tat org.apache.spark.sql.execution.SQLExecution$.withNewExecutionId(SQLExecution.scala:65)\n",
    "\tat org.apache.spark.sql.execution.QueryExecution$$anonfun$eagerlyExecuteCommands$1.applyOrElse(QueryExecution.scala:98)\n",
    "\tat org.apache.spark.sql.execution.QueryExecution$$anonfun$eagerlyExecuteCommands$1.applyOrElse(QueryExecution.scala:94)\n",
    "\tat org.apache.spark.sql.catalyst.trees.TreeNode.$anonfun$transformDownWithPruning$1(TreeNode.scala:512)\n",
    "\tat org.apache.spark.sql.catalyst.trees.CurrentOrigin$.withOrigin(TreeNode.scala:104)\n",
    "\tat org.apache.spark.sql.catalyst.trees.TreeNode.transformDownWithPruning(TreeNode.scala:512)\n",
    "\tat org.apache.spark.sql.catalyst.plans.logical.LogicalPlan.org$apache$spark$sql$catalyst$plans$logical$AnalysisHelper$$super$transformDownWithPruning(LogicalPlan.scala:31)\n",
    "\tat org.apache.spark.sql.catalyst.plans.logical.AnalysisHelper.transformDownWithPruning(AnalysisHelper.scala:267)\n",
    "\tat org.apache.spark.sql.catalyst.plans.logical.AnalysisHelper.transformDownWithPruning$(AnalysisHelper.scala:263)\n",
    "\tat org.apache.spark.sql.catalyst.plans.logical.LogicalPlan.transformDownWithPruning(LogicalPlan.scala:31)\n",
    "\tat org.apache.spark.sql.catalyst.plans.logical.LogicalPlan.transformDownWithPruning(LogicalPlan.scala:31)\n",
    "\tat org.apache.spark.sql.catalyst.trees.TreeNode.transformDown(TreeNode.scala:488)\n",
    "\tat org.apache.spark.sql.execution.QueryExecution.eagerlyExecuteCommands(QueryExecution.scala:94)\n",
    "\tat org.apache.spark.sql.execution.QueryExecution.commandExecuted$lzycompute(QueryExecution.scala:81)\n",
    "\tat org.apache.spark.sql.execution.QueryExecution.commandExecuted(QueryExecution.scala:79)\n",
    "\tat org.apache.spark.sql.execution.QueryExecution.assertCommandExecuted(QueryExecution.scala:133)\n",
    "\tat org.apache.spark.sql.DataFrameWriter.runCommand(DataFrameWriter.scala:856)\n",
    "\tat org.apache.spark.sql.DataFrameWriter.saveToV1Source(DataFrameWriter.scala:387)\n",
    "\tat org.apache.spark.sql.DataFrameWriter.saveInternal(DataFrameWriter.scala:360)\n",
    "\tat org.apache.spark.sql.DataFrameWriter.save(DataFrameWriter.scala:239)\n",
    "\tat org.apache.spark.sql.DataFrameWriter.parquet(DataFrameWriter.scala:789)\n",
    "\tat java.base/jdk.internal.reflect.NativeMethodAccessorImpl.invoke0(Native Method)\n",
    "\tat java.base/jdk.internal.reflect.NativeMethodAccessorImpl.invoke(NativeMethodAccessorImpl.java:77)\n",
    "\tat java.base/jdk.internal.reflect.DelegatingMethodAccessorImpl.invoke(DelegatingMethodAccessorImpl.java:43)\n",
    "\tat java.base/java.lang.reflect.Method.invoke(Method.java:568)\n",
    "\tat py4j.reflection.MethodInvoker.invoke(MethodInvoker.java:244)\n",
    "\tat py4j.reflection.ReflectionEngine.invoke(ReflectionEngine.java:374)\n",
    "\tat py4j.Gateway.invoke(Gateway.java:282)\n",
    "\tat py4j.commands.AbstractCommand.invokeMethod(AbstractCommand.java:132)\n",
    "\tat py4j.commands.CallCommand.execute(CallCommand.java:79)\n",
    "\tat py4j.ClientServerConnection.waitForCommands(ClientServerConnection.java:182)\n",
    "\tat py4j.ClientServerConnection.run(ClientServerConnection.java:106)\n",
    "\tat java.base/java.lang.Thread.run(Thread.java:833)"
   ]
  },
  {
   "cell_type": "code",
   "execution_count": null,
   "id": "40c945ed",
   "metadata": {
    "ExecuteTime": {
     "end_time": "2023-10-24T00:51:38.821737Z",
     "start_time": "2023-10-24T00:51:38.821737Z"
    },
    "execution": {
     "iopub.status.busy": "2023-10-27T07:20:58.254375Z",
     "iopub.status.idle": "2023-10-27T07:20:58.255374Z",
     "shell.execute_reply": "2023-10-27T07:20:58.255374Z",
     "shell.execute_reply.started": "2023-10-27T07:20:58.255374Z"
    }
   },
   "outputs": [],
   "source": [
    "# # Spark가 사용하고 있는 Python 실행 파일 확인\n",
    "# print(spark.sparkContext._conf.get('spark.pyspark.python'))\n",
    "\n",
    "# # RDD 생성\n",
    "# rdd = spark.sparkContext.parallelize([1, 2, 3, 4, 5])\n",
    "# transformed_rdd = rdd.map(lambda x: x * 2)\n",
    "\n",
    "# # Action: 평균을 계산\n",
    "# mean_value = transformed_rdd.reduce(lambda a, b: a + b) / transformed_rdd.count()\n",
    "# print(f\"The mean value is: {mean_value}\")"
   ]
  },
  {
   "cell_type": "markdown",
   "id": "825fb574",
   "metadata": {},
   "source": [
    "# 샘플 추출"
   ]
  },
  {
   "cell_type": "markdown",
   "id": "005f584f",
   "metadata": {},
   "source": [
    "## 랜덤 샘플 1만개 추출\n",
    "- 암기 플러스와 포인트 벌기 5천개씩"
   ]
  },
  {
   "cell_type": "code",
   "execution_count": null,
   "id": "7193aab9",
   "metadata": {
    "ExecuteTime": {
     "end_time": "2023-10-24T00:51:38.823738Z",
     "start_time": "2023-10-24T00:51:38.823738Z"
    },
    "execution": {
     "iopub.status.busy": "2023-10-27T07:20:58.256375Z",
     "iopub.status.idle": "2023-10-27T07:20:58.256375Z",
     "shell.execute_reply": "2023-10-27T07:20:58.256375Z",
     "shell.execute_reply.started": "2023-10-27T07:20:58.256375Z"
    },
    "tags": []
   },
   "outputs": [],
   "source": [
    "# # DataFrame을 RDD로 변환\n",
    "# rdd_memorization = result_df.filter(F.col(\"collection\") == \"Memorization\").rdd\n",
    "# rdd_point = result_df.filter(F.col(\"collection\") == \"Point\").rdd\n",
    "\n",
    "# # None 값을 포함하지 않는 행만 필터링\n",
    "# filtered_rdd_memorization = rdd_memorization.filter(lambda row: all([x is not None for x in row]))\n",
    "# filtered_rdd_point = rdd_point.filter(lambda row: all([x is not None for x in row]))\n",
    "\n",
    "# # 정확한 개수의 샘플을 얻음\n",
    "# sample_memorization = filtered_rdd_memorization.takeSample(False, 5000, seed=42)\n",
    "# sample_point = filtered_rdd_point.takeSample(False, 5000, seed=42)\n",
    "\n",
    "# # 샘플을 DataFrame으로 변환\n",
    "# sample_df_memorization = spark.createDataFrame(sample_memorization)\n",
    "# sample_df_point = spark.createDataFrame(sample_point)\n",
    "\n",
    "# # 두 샘플을 합침\n",
    "# final_sample_df = sample_df_memorization.union(sample_df_point)"
   ]
  },
  {
   "cell_type": "markdown",
   "id": "1302c90d",
   "metadata": {},
   "source": [
    "위 코드 23분이나 실행시간이 걸림. 시간 단축 필요  \n",
    "그래서 아래 코드 작성"
   ]
  },
  {
   "cell_type": "code",
   "execution_count": null,
   "id": "c9f7e8ae-8f18-4ffe-adc6-4123e3989cc1",
   "metadata": {
    "execution": {
     "iopub.status.busy": "2023-10-27T07:20:58.257374Z",
     "iopub.status.idle": "2023-10-27T07:20:58.257374Z",
     "shell.execute_reply": "2023-10-27T07:20:58.257374Z",
     "shell.execute_reply.started": "2023-10-27T07:20:58.257374Z"
    }
   },
   "outputs": [],
   "source": [
    "Hey you! Stop it!"
   ]
  },
  {
   "cell_type": "code",
   "execution_count": null,
   "id": "233ac0ec-7f03-4a4a-975b-13990a54e8cb",
   "metadata": {
    "execution": {
     "iopub.status.busy": "2023-10-27T07:20:58.258376Z",
     "iopub.status.idle": "2023-10-27T07:20:58.258376Z",
     "shell.execute_reply": "2023-10-27T07:20:58.258376Z",
     "shell.execute_reply.started": "2023-10-27T07:20:58.258376Z"
    },
    "tags": []
   },
   "outputs": [],
   "source": [
    "# 'collection'에 따라 데이터를 필터링\n",
    "filtered_df_memorization = result_df.filter(F.col(\"collection\") == \"Memorization\").dropna()\n",
    "filtered_df_point = result_df.filter(F.col(\"collection\") == \"Point\").dropna()\n",
    "\n",
    "# 랜덤 샘플 추출 (샘플 크기는 대략적으로 지정)\n",
    "sample_memorization = filtered_df_memorization.sample(False, 0.001, seed=42).limit(5000)\n",
    "sample_point = filtered_df_point.sample(False, 0.01, seed=42).limit(5000)\n",
    "\n",
    "# 두 샘플 합치기\n",
    "final_sample_df = sample_memorization.union(sample_point)"
   ]
  },
  {
   "cell_type": "markdown",
   "id": "e28ad12f-c685-4cfe-b381-366c848c7486",
   "metadata": {},
   "source": [
    "1. None 값 필터링: DataFrame API를 사용하면 dropna() 메서드로 쉽게 None 값을 제거할 수 있다.  \n",
    "2. DataFrame API의 sample() 메서드를 사용하면 간단하게 샘플을 추출  "
   ]
  },
  {
   "cell_type": "markdown",
   "id": "ce9013c2",
   "metadata": {},
   "source": [
    "## parquet or CSV 파일로 샘플 df 저장"
   ]
  },
  {
   "cell_type": "code",
   "execution_count": null,
   "id": "6f42b97b",
   "metadata": {
    "ExecuteTime": {
     "end_time": "2023-10-24T00:51:38.825738Z",
     "start_time": "2023-10-24T00:51:38.825738Z"
    },
    "execution": {
     "iopub.status.busy": "2023-10-27T07:20:58.259375Z",
     "iopub.status.idle": "2023-10-27T07:20:58.259375Z",
     "shell.execute_reply": "2023-10-27T07:20:58.259375Z",
     "shell.execute_reply.started": "2023-10-27T07:20:58.259375Z"
    },
    "tags": []
   },
   "outputs": [],
   "source": [
    "sample_path = f\"D:/DATA_PREPROCESS/FIRESTORE_DATAS/sample_voice_metadata_{formatted_date}\"\n",
    "final_sample_df.coalesce(1).write.parquet(sample_path, mode='overwrite')  # 샘플의 크기가 작으므로 하나의 파티션에"
   ]
  },
  {
   "cell_type": "code",
   "execution_count": null,
   "id": "8ff38872",
   "metadata": {
    "ExecuteTime": {
     "end_time": "2023-10-24T00:51:38.826738Z",
     "start_time": "2023-10-24T00:51:38.826738Z"
    },
    "execution": {
     "iopub.status.busy": "2023-10-27T07:20:58.260376Z",
     "iopub.status.idle": "2023-10-27T07:20:58.261376Z",
     "shell.execute_reply": "2023-10-27T07:20:58.261376Z",
     "shell.execute_reply.started": "2023-10-27T07:20:58.261376Z"
    }
   },
   "outputs": [],
   "source": [
    "# sample_path = f\"D:/DATA_PREPROCESS/FIRESTORE_DATAS/sample_voice_metadata_{formatted_date}\"\n",
    "# final_sample_df.coalesce(1).write.csv(sample_path, mode='overwrite', header=True)  # 샘플의 크기가 작으므로 하나의 파티션에"
   ]
  },
  {
   "cell_type": "markdown",
   "id": "3e084030",
   "metadata": {},
   "source": [
    "# Test"
   ]
  },
  {
   "cell_type": "code",
   "execution_count": null,
   "id": "0bad2ac4",
   "metadata": {
    "ExecuteTime": {
     "end_time": "2023-10-24T00:51:38.827739Z",
     "start_time": "2023-10-24T00:51:38.827739Z"
    },
    "execution": {
     "iopub.status.busy": "2023-10-27T07:20:58.262377Z",
     "iopub.status.idle": "2023-10-27T07:20:58.262377Z",
     "shell.execute_reply": "2023-10-27T07:20:58.262377Z",
     "shell.execute_reply.started": "2023-10-27T07:20:58.262377Z"
    }
   },
   "outputs": [],
   "source": [
    "# # 특정 user_id, ad_name으로 필터링\n",
    "# filtered_result_df = result_df.filter(\n",
    "#     (F.col(\"user_id\") == \"EyDwTDHLROSqn1aM6AhgvAWEvTs2\") & \n",
    "#     (F.col(\"ad_name\") == \"5,000원 로봇청소기\")\n",
    "# )\n",
    "# filtered_result_df.show()"
   ]
  },
  {
   "cell_type": "markdown",
   "id": "64a25932",
   "metadata": {},
   "source": [
    "2개 중복됨을 확인  \n",
    "+------------------+--------------------+------+---------+--------------------+---------------------------------+--------+----------+----------+-------+------+----+--------+-------+------------------+----------+-------------------+---------------+--------------------+--------------------+--------------------+------+--------------------+-----------------+--------------------+---------------------------------+--------------+---------------------------------+-----------------------+----------------------+------------------------+-----------------+-----------------+-----------+---------+------------------+------------------+\n",
    "|           ad_name|             user_id|attend|is_passed|            imageUrl|                        ad_script|ad_title|birth_year|local_code|is_test|gender| job|language|perfect|excepted_age_array|collection|        ad_duration|ad_duration_end|   desc_images_array|        images_array|     thumbnail_image| level|             ad_link|participant_count|            videoUrl|                           script|accuracy_array|                   stt_text_array|created_timestamp_array|average_accuracy_by_ad|average_accuracy_by_user|pass_rate_by_user|  pass_rate_by_ad|text_length|try_count|    user_avg_tries|      ad_avg_tries|\n",
    "+------------------+--------------------+------+---------+--------------------+---------------------------------+--------+----------+----------+-------+------+----+--------+-------+------------------+----------+-------------------+---------------+--------------------+--------------------+--------------------+------+--------------------+-----------------+--------------------+---------------------------------+--------------+---------------------------------+-----------------------+----------------------+------------------------+-----------------+-----------------+-----------+---------+------------------+------------------+\n",
    "|5,000원 로봇청소기|EyDwTDHLROSqn1aM6...|     1|     pass|https://firebases...|품절 대란의 다이소 로봇 청소기...|  다이소|        57|        Gy|      0|     W|기타|대한민국|  160.0|                []|     Point|22.09.29 - 22.10.13|       22.10.14|['https://firebas...|['https://firebas...|https://firebases...|Normal|https://shop.dais...|              526|https://firebases...|품절 대란의 다이소 로봇 청소기...|            95|품절대란의 다이소 청소기 로봇 ...|22.09.29 오후 14시 35분|     91.78747628083491|                    79.8|97.78142974527528|99.01185770750988|        384|        1|1.3311421528348397|1.0553359683794465|\n",
    "|5,000원 로봇청소기|EyDwTDHLROSqn1aM6...|     1|     pass|https://firebases...|품절 대란의 다이소 로봇 청소기...|  다이소|        57|        Gy|      0|     W|기타|대한민국|  160.0|                []|     Point|22.09.29 - 22.10.13|       22.10.14|['https://firebas...|['https://firebas...|https://firebases...|Normal|https://shop.dais...|              526|https://firebases...|품절 대란의 다이소 로봇 청소기...|            95|품절대란의 다이소 청소기 로봇 ...|22.09.29 오후 14시 35분|     91.78747628083491|                    79.8|97.78142974527528|99.01185770750988|        384|        1|1.3311421528348397|1.0553359683794465|\n",
    "+------------------+--------------------+------+---------+--------------------+---------------------------------+--------+----------+----------+-------+------+----+--------+-------+------------------+----------+-------------------+---------------+--------------------+--------------------+--------------------+------+--------------------+-----------------+--------------------+---------------------------------+--------------+---------------------------------+-----------------------+----------------------+------------------------+-----------------+-----------------+-----------+---------+------------------+------------------+\n"
   ]
  },
  {
   "cell_type": "code",
   "execution_count": null,
   "id": "8c1418f4",
   "metadata": {
    "ExecuteTime": {
     "end_time": "2023-10-24T00:51:38.828739Z",
     "start_time": "2023-10-24T00:51:38.828739Z"
    },
    "execution": {
     "iopub.status.busy": "2023-10-27T07:20:58.263376Z",
     "iopub.status.idle": "2023-10-27T07:20:58.263376Z",
     "shell.execute_reply": "2023-10-27T07:20:58.263376Z",
     "shell.execute_reply.started": "2023-10-27T07:20:58.263376Z"
    }
   },
   "outputs": [],
   "source": [
    "# # user_id와 ad_name을 기준으로 그룹화하고, 각 그룹의 행 수를 카운트합니다.\n",
    "# grouped_df = result_df.groupBy(\"user_id\", \"ad_name\").agg(F.count(\"*\").alias(\"count\"))\n",
    "\n",
    "# # 카운트가 1보다 큰 그룹을 필터링하여 중복된 행을 찾습니다.\n",
    "# duplicated_df = grouped_df.filter(grouped_df[\"count\"] > 1)\n",
    "\n",
    "# # 중복된 행의 수를 계산합니다.\n",
    "# num_duplicated_rows = duplicated_df.count()\n",
    "\n",
    "# # 중복된 행이 있는 경우만 별도로 저장합니다.\n",
    "# if num_duplicated_rows > 0:\n",
    "#     duplicated_df.write.csv(\"path/to/save/duplicated_rows.csv\")\n",
    "\n",
    "# # 결과를 출력합니다.\n",
    "# num_duplicated_rows, duplicated_df.show()"
   ]
  },
  {
   "cell_type": "markdown",
   "id": "746eeb48",
   "metadata": {},
   "source": [
    "왜 Java heap error가 발생했는 지 파악"
   ]
  },
  {
   "cell_type": "markdown",
   "id": "02dd3d00",
   "metadata": {},
   "source": [
    "## 샘플 데이터 테스트 및 수정(ad-hoc작업)"
   ]
  },
  {
   "cell_type": "code",
   "execution_count": null,
   "id": "896b87bd",
   "metadata": {
    "ExecuteTime": {
     "end_time": "2023-10-24T00:51:38.830740Z",
     "start_time": "2023-10-24T00:51:38.830740Z"
    },
    "execution": {
     "iopub.status.busy": "2023-10-27T07:20:58.264377Z",
     "iopub.status.idle": "2023-10-27T07:20:58.264377Z",
     "shell.execute_reply": "2023-10-27T07:20:58.264377Z",
     "shell.execute_reply.started": "2023-10-27T07:20:58.264377Z"
    }
   },
   "outputs": [],
   "source": [
    "# # Group by 'user_id' and 'ad_name', and count the number of occurrences of each group\n",
    "# grouped_df = final_sample_df.groupBy('user_id', 'ad_name').agg(F.count('*').alias('count'))\n",
    "\n",
    "# # Filter out the groups that appear more than once, these are the duplicates\n",
    "# duplicated_rows_df = grouped_df.filter(F.col('count') > 1)\n",
    "\n",
    "# # Show the duplicated rows\n",
    "# duplicated_rows_df.show()\n",
    "# duplicated_rows_df.unpersist(blocking=True)"
   ]
  },
  {
   "cell_type": "code",
   "execution_count": null,
   "id": "79accd9c",
   "metadata": {
    "ExecuteTime": {
     "end_time": "2023-10-24T00:51:38.831740Z",
     "start_time": "2023-10-24T00:51:38.831740Z"
    },
    "execution": {
     "iopub.status.busy": "2023-10-27T07:20:58.265377Z",
     "iopub.status.idle": "2023-10-27T07:20:58.265377Z",
     "shell.execute_reply": "2023-10-27T07:20:58.265377Z",
     "shell.execute_reply.started": "2023-10-27T07:20:58.265377Z"
    }
   },
   "outputs": [],
   "source": [
    "# # 'user_id'와 'ad_name'이 중복되는 행의 'participant_count' 최솟값을 찾음\n",
    "# min_participant_count_df = duplicated_rows_df.join(\n",
    "#     final_sample_df, ['user_id', 'ad_name']\n",
    "# ).groupBy('user_id', 'ad_name').agg(\n",
    "#     F.min('participant_count').alias('min_participant_count')\n",
    "# )\n",
    "\n",
    "# # 최소 'participant_count' 값을 가진 행과 조인하여 필터링\n",
    "# final_sample_df_with_min_count = final_sample_df.join(\n",
    "#     min_participant_count_df, ['user_id', 'ad_name'], 'left_outer'\n",
    "# ).filter(\n",
    "#     (F.col('participant_count') == F.col('min_participant_count')) |\n",
    "#     F.col('min_participant_count').isNull()\n",
    "# )\n",
    "\n",
    "# # 'script' 컬럼 삭제\n",
    "# final_sample_df = final_sample_df_with_min_count.drop('script')"
   ]
  },
  {
   "cell_type": "code",
   "execution_count": null,
   "id": "8b659f03",
   "metadata": {
    "ExecuteTime": {
     "end_time": "2023-10-24T00:51:38.832740Z",
     "start_time": "2023-10-24T00:51:38.832740Z"
    },
    "execution": {
     "iopub.status.busy": "2023-10-27T07:20:58.266377Z",
     "iopub.status.idle": "2023-10-27T07:20:58.267377Z",
     "shell.execute_reply": "2023-10-27T07:20:58.266377Z",
     "shell.execute_reply.started": "2023-10-27T07:20:58.266377Z"
    }
   },
   "outputs": [],
   "source": [
    "# final_sample_df = final_sample_df.drop(\"script\")\n",
    "# final_sample_df.printSchema()"
   ]
  },
  {
   "cell_type": "markdown",
   "id": "a7d3bd06",
   "metadata": {},
   "source": [
    "# 추가 수정 및 DB에 제안 할 내용\n",
    "## 추가 수정할 내용\n",
    "## DB에 제안\n",
    "- collection의 문자열 비교에 필요 이상의 자원과 시간이 낭비된다\n",
    "    - Point는 1, Memorization은 2, 등으로 타입과 크기를 축소시켜 데이터 연산 부하를 줄여달라\n",
    "    - "
   ]
  }
 ],
 "metadata": {
  "kernelspec": {
   "display_name": "Python 3 (ipykernel)",
   "language": "python",
   "name": "python3"
  },
  "language_info": {
   "codemirror_mode": {
    "name": "ipython",
    "version": 3
   },
   "file_extension": ".py",
   "mimetype": "text/x-python",
   "name": "python",
   "nbconvert_exporter": "python",
   "pygments_lexer": "ipython3",
   "version": "3.10.12"
  },
  "toc": {
   "base_numbering": 1,
   "nav_menu": {},
   "number_sections": true,
   "sideBar": true,
   "skip_h1_title": false,
   "title_cell": "Table of Contents",
   "title_sidebar": "Contents",
   "toc_cell": false,
   "toc_position": {
    "height": "calc(100% - 180px)",
    "left": "10px",
    "top": "150px",
    "width": "384px"
   },
   "toc_section_display": true,
   "toc_window_display": true
  },
  "toc-autonumbering": true,
  "toc-showmarkdowntxt": false,
  "varInspector": {
   "cols": {
    "lenName": 16,
    "lenType": 16,
    "lenVar": 40
   },
   "kernels_config": {
    "python": {
     "delete_cmd_postfix": "",
     "delete_cmd_prefix": "del ",
     "library": "var_list.py",
     "varRefreshCmd": "print(var_dic_list())"
    },
    "r": {
     "delete_cmd_postfix": ") ",
     "delete_cmd_prefix": "rm(",
     "library": "var_list.r",
     "varRefreshCmd": "cat(var_dic_list()) "
    }
   },
   "types_to_exclude": [
    "module",
    "function",
    "builtin_function_or_method",
    "instance",
    "_Feature"
   ],
   "window_display": false
  }
 },
 "nbformat": 4,
 "nbformat_minor": 5
}
