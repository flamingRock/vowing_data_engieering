{
 "cells": [
  {
   "cell_type": "code",
   "execution_count": 1,
   "id": "ebbddbe1",
   "metadata": {
    "ExecuteTime": {
     "end_time": "2023-09-22T03:22:29.305051Z",
     "start_time": "2023-09-22T03:22:28.312424Z"
    }
   },
   "outputs": [],
   "source": [
    "import shutil\n",
    "import os\n",
    "\n",
    "import pandas as pd\n",
    "import numpy as np\n",
    "import matplotlib.pyplot as plt\n",
    "\n",
    "import pyarrow.parquet as pq\n",
    "\n",
    "from pyspark import SparkContext\n",
    "from pyspark.sql import SparkSession\n",
    "from pyspark.sql import functions as F\n",
    "from pyspark.sql import types as T\n",
    "from pyspark.sql import Window\n",
    "from pyspark.sql.functions import col, isnull, count, when, substring, coalesce, from_json, size, avg, expr, concat_ws\n",
    "from pyspark.sql.types import ArrayType, StringType, StructType, StructField, DoubleType, IntegerType\n",
    "from functools import reduce"
   ]
  },
  {
   "cell_type": "code",
   "execution_count": 2,
   "id": "bb5db2b5",
   "metadata": {
    "ExecuteTime": {
     "end_time": "2023-09-22T03:22:33.968821Z",
     "start_time": "2023-09-22T03:22:30.955569Z"
    }
   },
   "outputs": [],
   "source": [
    "# 가상 환경의 Python 경로를 지정\n",
    "python_path = \"C:/Users/admin/anaconda3/envs/my_conda_01/python.exe\"\n",
    "\n",
    "# Spark 세션 생성\n",
    "spark = SparkSession.builder \\\n",
    "    .appName(\"voice_metadata integrating operation\") \\\n",
    "    .config(\"spark.driver.memory\", \"5g\") \\\n",
    "    .config(\"spark.executor.memory\", \"5g\") \\\n",
    "    .config(\"spark.driver.maxResultSize\", \"3g\") \\\n",
    "    .config(\"spark.pyspark.python\", python_path) \\\n",
    "    .config(\"spark.local.dir\", \"D:/spark_tmp\") \\\n",
    "    .getOrCreate()\n",
    "\n",
    "# SparkContext 가져오기\n",
    "sc = spark.sparkContext"
   ]
  },
  {
   "cell_type": "code",
   "execution_count": 3,
   "id": "731d10d8",
   "metadata": {
    "ExecuteTime": {
     "end_time": "2023-09-22T03:22:36.712662Z",
     "start_time": "2023-09-22T03:22:36.182259Z"
    }
   },
   "outputs": [
    {
     "name": "stdout",
     "output_type": "stream",
     "text": [
      "Spark local directory: D:/spark_tmp\n"
     ]
    }
   ],
   "source": [
    "# Spark 중간 파일이 저장되는 경로 확인\n",
    "current_spark_local_dir = spark.conf.get(\"spark.local.dir\", \"Not Set\")\n",
    "print(\"Spark local directory:\", current_spark_local_dir)"
   ]
  },
  {
   "cell_type": "code",
   "execution_count": 4,
   "id": "393aa37e",
   "metadata": {
    "ExecuteTime": {
     "end_time": "2023-09-22T03:22:45.754545Z",
     "start_time": "2023-09-22T03:22:43.966649Z"
    }
   },
   "outputs": [],
   "source": [
    "# 업로드된 Parquet 파일을 읽어서 Spark DataFrame으로 변환\n",
    "file_path = 'D:/DATA_PREPROCESS/FIRESTORE_DATAS/sample_voice_metadata_230918/public_sample_voice_metadata_230920.parquet'\n",
    "spark_df = spark.read.parquet(file_path)"
   ]
  },
  {
   "cell_type": "code",
   "execution_count": 9,
   "id": "7f84e395",
   "metadata": {
    "ExecuteTime": {
     "end_time": "2023-09-22T03:24:06.753339Z",
     "start_time": "2023-09-22T03:24:06.737336Z"
    }
   },
   "outputs": [
    {
     "name": "stdout",
     "output_type": "stream",
     "text": [
      "root\n",
      " |-- ad_name: string (nullable = true)\n",
      " |-- attend: string (nullable = true)\n",
      " |-- is_passed: string (nullable = true)\n",
      " |-- ad_script: string (nullable = true)\n",
      " |-- ad_title: string (nullable = true)\n",
      " |-- birth_year: string (nullable = true)\n",
      " |-- local_code: string (nullable = true)\n",
      " |-- is_test: long (nullable = true)\n",
      " |-- gender: string (nullable = true)\n",
      " |-- job: string (nullable = true)\n",
      " |-- language: string (nullable = true)\n",
      " |-- perfect: double (nullable = true)\n",
      " |-- excepted_age_array: string (nullable = true)\n",
      " |-- collection: string (nullable = true)\n",
      " |-- ad_duration: string (nullable = true)\n",
      " |-- level: string (nullable = true)\n",
      " |-- participant_count: long (nullable = true)\n",
      " |-- accuracy_array: string (nullable = true)\n",
      " |-- stt_text_array: string (nullable = true)\n",
      " |-- created_timestamp_array: string (nullable = true)\n",
      " |-- average_accuracy_by_ad: double (nullable = true)\n",
      " |-- average_accuracy_by_user: double (nullable = true)\n",
      " |-- pass_rate_by_user: double (nullable = true)\n",
      " |-- pass_rate_by_ad: double (nullable = true)\n",
      " |-- text_length: long (nullable = true)\n",
      " |-- try_count: long (nullable = true)\n",
      " |-- user_avg_tries: double (nullable = true)\n",
      " |-- ad_avg_tries: double (nullable = true)\n",
      " |-- public_uid: string (nullable = true)\n",
      " |-- voice_id: string (nullable = true)\n",
      "\n"
     ]
    }
   ],
   "source": [
    "spark_df.printSchema()"
   ]
  },
  {
   "cell_type": "code",
   "execution_count": 5,
   "id": "8f41c311",
   "metadata": {
    "ExecuteTime": {
     "end_time": "2023-09-22T03:22:49.256468Z",
     "start_time": "2023-09-22T03:22:47.895369Z"
    }
   },
   "outputs": [
    {
     "name": "stdout",
     "output_type": "stream",
     "text": [
      "Total Rows: 10000\n",
      "Point Count: 5000\n",
      "Memorization Count: 5000\n"
     ]
    }
   ],
   "source": [
    "# DataFrame의 전체 row 수를 확인\n",
    "total_rows = spark_df.count()\n",
    "\n",
    "# 'Collection' 필드의 각 범주(Point, Memorization)에 대한 row 수를 확인\n",
    "point_count = spark_df.filter(col(\"Collection\") == \"Point\").count()\n",
    "memorization_count = spark_df.filter(col(\"Collection\") == \"Memorization\").count()\n",
    "\n",
    "# 결과 출력\n",
    "print(f\"Total Rows: {total_rows}\")\n",
    "print(f\"Point Count: {point_count}\")\n",
    "print(f\"Memorization Count: {memorization_count}\")"
   ]
  },
  {
   "cell_type": "code",
   "execution_count": 6,
   "id": "37044510",
   "metadata": {
    "ExecuteTime": {
     "end_time": "2023-09-22T03:22:57.546120Z",
     "start_time": "2023-09-22T03:22:52.832708Z"
    }
   },
   "outputs": [
    {
     "name": "stdout",
     "output_type": "stream",
     "text": [
      "Training set count: 7104\n",
      "Validation set count: 1475\n",
      "Test set count: 1421\n"
     ]
    }
   ],
   "source": [
    "# 데이터 분할 비율 설정\n",
    "train_ratio = 0.7\n",
    "val_ratio = 0.15\n",
    "test_ratio = 0.15\n",
    "\n",
    "fractions = {\n",
    "    \"Point\": train_ratio,\n",
    "    \"Memorization\": train_ratio\n",
    "}\n",
    "\n",
    "# 훈련 데이터셋 생성\n",
    "# seed는 난수 생성기 초기값으로 42는 해당 코드를 언제 실행하든 같은 방식으로 샘플링\n",
    "# 특별한 의미는 없으나 데이터 과학에서 몇몇 알려진 숫자를 임의로 사용할 뿐\n",
    "train_df = spark_df.sampleBy(\"Collection\", fractions, seed=42)\n",
    "\n",
    "# 남은 데이터로부터 검증 및 테스트 데이터셋 생성\n",
    "remaining_df = spark_df.subtract(train_df)\n",
    "fractions = {\n",
    "    \"Point\": val_ratio / (1 - train_ratio),\n",
    "    \"Memorization\": val_ratio / (1 - train_ratio)\n",
    "}\n",
    "val_df = remaining_df.sampleBy(\"Collection\", fractions, seed=42)\n",
    "\n",
    "test_df = remaining_df.subtract(val_df)\n",
    "\n",
    "# 각 데이터셋 분할의 수를 출력\n",
    "print(f\"Training set count: {train_df.count()}\")\n",
    "print(f\"Validation set count: {val_df.count()}\")\n",
    "print(f\"Test set count: {test_df.count()}\")"
   ]
  },
  {
   "cell_type": "code",
   "execution_count": 7,
   "id": "f70539cd",
   "metadata": {
    "ExecuteTime": {
     "end_time": "2023-09-22T03:23:03.573341Z",
     "start_time": "2023-09-22T03:22:59.768391Z"
    }
   },
   "outputs": [],
   "source": [
    "# 데이터셋을 저장할 디렉터리 경로 설정\n",
    "train_path = 'D:/DATA_PREPROCESS/FIRESTORE_DATAS/sample_voice_metadata_230918/ETRI_VOICE_DATASET/train.parquet'\n",
    "val_path = 'D:/DATA_PREPROCESS/FIRESTORE_DATAS/sample_voice_metadata_230918/ETRI_VOICE_DATASET/val.parquet'\n",
    "test_path = 'D:/DATA_PREPROCESS/FIRESTORE_DATAS/sample_voice_metadata_230918/ETRI_VOICE_DATASET/test.parquet'\n",
    "\n",
    "# 각 DataFrame을 해당 디렉터리에 Parquet 형태로 저장\n",
    "train_df.write.mode('overwrite').parquet(train_path)\n",
    "val_df.write.mode('overwrite').parquet(val_path)\n",
    "test_df.write.mode('overwrite').parquet(test_path)"
   ]
  },
  {
   "cell_type": "code",
   "execution_count": 8,
   "id": "078006cb",
   "metadata": {
    "ExecuteTime": {
     "end_time": "2023-09-22T03:23:23.072773Z",
     "start_time": "2023-09-22T03:23:08.776717Z"
    }
   },
   "outputs": [
    {
     "name": "stdout",
     "output_type": "stream",
     "text": [
      "훈련 데이터셋 비율: {'Memorization': 0.5030968468468469, 'Point': 0.49690315315315314}\n",
      "검증 데이터셋 비율: {'Memorization': 0.4928813559322034, 'Point': 0.5071186440677966}\n",
      "테스트 데이터셋 비율: {'Memorization': 0.4919071076706545, 'Point': 0.5080928923293455}\n"
     ]
    }
   ],
   "source": [
    "def calculate_category_ratio(df, column_name):\n",
    "    total_count = df.count()\n",
    "    categories = df.select(column_name).distinct().rdd.flatMap(lambda x: x).collect()\n",
    "    ratios = {}\n",
    "    \n",
    "    for category in categories:\n",
    "        category_count = df.filter(col(column_name) == category).count()\n",
    "        category_ratio = category_count / total_count\n",
    "        ratios[category] = category_ratio\n",
    "    \n",
    "    return ratios\n",
    "\n",
    "# 각 데이터셋에 함수 적용\n",
    "train_ratios = calculate_category_ratio(train_df, \"Collection\")\n",
    "val_ratios = calculate_category_ratio(val_df, \"Collection\")\n",
    "test_ratios = calculate_category_ratio(test_df, \"Collection\")\n",
    "\n",
    "# 결과 출력\n",
    "print(f\"훈련 데이터셋 비율: {train_ratios}\")\n",
    "print(f\"검증 데이터셋 비율: {val_ratios}\")\n",
    "print(f\"테스트 데이터셋 비율: {test_ratios}\")"
   ]
  },
  {
   "cell_type": "code",
   "execution_count": 10,
   "id": "3f3dd7a4",
   "metadata": {
    "ExecuteTime": {
     "end_time": "2023-09-22T03:25:25.046599Z",
     "start_time": "2023-09-22T03:24:26.367366Z"
    }
   },
   "outputs": [],
   "source": [
    "def copy_wav_files_to_dataset_folders(df, source_folder, target_folder, dataset_name):\n",
    "    # 데이터셋을 위한 목표 폴더, 존재하지 않으면 생성\n",
    "    target_dataset_folder = os.path.join(target_folder, dataset_name)\n",
    "    if not os.path.exists(target_dataset_folder):\n",
    "        os.makedirs(target_dataset_folder)\n",
    "    \n",
    "    # DataFrame에서 voice_id 가져오기\n",
    "    voice_ids = [row.voice_id for row in df.select('voice_id').collect()]\n",
    "    \n",
    "    # 각 WAV 파일을 해당 데이터셋 폴더로 복사\n",
    "    for voice_id in voice_ids:\n",
    "        source_file_path = os.path.join(source_folder, f\"{voice_id}.wav\")\n",
    "        target_file_path = os.path.join(target_dataset_folder, f\"{voice_id}.wav\")\n",
    "        \n",
    "        if os.path.exists(source_file_path):\n",
    "            shutil.copy2(source_file_path, target_file_path)\n",
    "\n",
    "# 폴더 경로 설정\n",
    "source_folder = \"D:\\\\DATA_PREPROCESS\\\\FIRESTORE_DATAS\\\\sample_voice_metadata_230918\\\\WAV_FILES\"\n",
    "target_folder = \"D:\\\\DATA_PREPROCESS\\\\FIRESTORE_DATAS\\\\sample_voice_metadata_230918\"\n",
    "\n",
    "# 각 데이터셋에 함수 적용\n",
    "copy_wav_files_to_dataset_folders(train_df, source_folder, target_folder, \"Training_Set\")\n",
    "copy_wav_files_to_dataset_folders(val_df, source_folder, target_folder, \"Validation_Set\")\n",
    "copy_wav_files_to_dataset_folders(test_df, source_folder, target_folder, \"Test_Set\")"
   ]
  },
  {
   "cell_type": "markdown",
   "id": "2e875a6b",
   "metadata": {},
   "source": [
    "# 데이터 통계 그래프 작업"
   ]
  },
  {
   "cell_type": "code",
   "execution_count": 11,
   "id": "92e31ba3",
   "metadata": {
    "ExecuteTime": {
     "end_time": "2023-09-22T03:28:35.814724Z",
     "start_time": "2023-09-22T03:28:35.796509Z"
    }
   },
   "outputs": [],
   "source": [
    "import matplotlib.font_manager as fm\n",
    "\n",
    "# 폰트 설정\n",
    "font_path = 'C:/Windows/Fonts/malgun.ttf'  # 폰트 파일의 위치를 지정합니다.\n",
    "font_name = fm.FontProperties(fname=font_path).get_name()\n",
    "plt.rc('font', family=font_name)"
   ]
  },
  {
   "cell_type": "code",
   "execution_count": 12,
   "id": "8d529568",
   "metadata": {
    "ExecuteTime": {
     "end_time": "2023-09-22T03:28:44.457795Z",
     "start_time": "2023-09-22T03:28:43.762554Z"
    }
   },
   "outputs": [
    {
     "data": {
      "image/png": "[encoded data removed]",
      "text/plain": [
       "<Figure size 1400x600 with 2 Axes>"
      ]
     },
     "metadata": {},
     "output_type": "display_data"
    }
   ],
   "source": [
    "# 더 쉬운 분석을 위해 Spark DataFrame을 Pandas DataFrame으로 변환\n",
    "pdf = spark_df.toPandas()\n",
    "\n",
    "# 'Point'와 'Memorization' 광고의 개수\n",
    "point_count = pdf[pdf['collection'] == 'Point'].shape[0]\n",
    "memorization_count = pdf[pdf['collection'] == 'Memorization'].shape[0]\n",
    "\n",
    "# Point, Memorization 각각의 텍스트 평균 길이\n",
    "avg_text_length_point = pdf[pdf['collection'] == 'Point']['text_length'].mean()\n",
    "avg_text_length_memorization = pdf[pdf['collection'] == 'Memorization']['text_length'].mean()\n",
    "\n",
    "# 고유한 사용자 수\n",
    "unique_users = pdf['public_uid'].nunique()\n",
    "\n",
    "# 수집된 샘플들의 기간\n",
    "pdf['created_date'] = pdf['created_timestamp_array'].str.extract(r\"(\\d{2}\\.\\d{2}\\.\\d{2})\")\n",
    "pdf['created_date'] = pd.to_datetime(pdf['created_date'], format='%y.%m.%d')\n",
    "time_min = pdf['created_date'].min()\n",
    "time_max = pdf['created_date'].max()\n",
    "\n",
    "# 그래프 그리기\n",
    "fig, axs = plt.subplots(1, 2, figsize=(14, 6))\n",
    "\n",
    "# Point와 Memorization 개수에 대한 막대 그래프를 그립니다.\n",
    "axs[0].bar(['Point', 'Memorization'], [point_count, memorization_count], color=['blue', 'orange'])\n",
    "axs[0].set_title('Point와 Memorization 광고 수')\n",
    "axs[0].set_xlabel('수집 유형')\n",
    "axs[0].set_ylabel('개수')\n",
    "\n",
    "# 기타 통계에 대한 텍스트\n",
    "stats_text = f\"평균 텍스트 길이 (Point): {avg_text_length_point:.2f}\\n\" \\\n",
    "            f\"평균 텍스트 길이 (Memorization): {avg_text_length_memorization:.2f}\\n\" \\\n",
    "            f\"고유한 사용자 수: {unique_users}\\n\" \\\n",
    "            f\"수집 기간: {time_min.strftime('%y.%m.%d')} 부터 {time_max.strftime('%y.%m.%d')}\"\n",
    "axs[1].text(0.1, 0.6, stats_text, fontsize=12)\n",
    "axs[1].axis('off')\n",
    "axs[1].set_title('기타 통계')\n",
    "\n",
    "plt.show()"
   ]
  },
  {
   "cell_type": "code",
   "execution_count": null,
   "id": "91cd6fc1",
   "metadata": {},
   "outputs": [],
   "source": []
  }
 ],
 "metadata": {
  "kernelspec": {
   "display_name": "Python 3 (ipykernel)",
   "language": "python",
   "name": "python3"
  },
  "language_info": {
   "codemirror_mode": {
    "name": "ipython",
    "version": 3
   },
   "file_extension": ".py",
   "mimetype": "text/x-python",
   "name": "python",
   "nbconvert_exporter": "python",
   "pygments_lexer": "ipython3",
   "version": "3.10.12"
  },
  "toc": {
   "base_numbering": 1,
   "nav_menu": {},
   "number_sections": true,
   "sideBar": true,
   "skip_h1_title": false,
   "title_cell": "Table of Contents",
   "title_sidebar": "Contents",
   "toc_cell": false,
   "toc_position": {},
   "toc_section_display": true,
   "toc_window_display": false
  },
  "varInspector": {
   "cols": {
    "lenName": 16,
    "lenType": 16,
    "lenVar": 40
   },
   "kernels_config": {
    "python": {
     "delete_cmd_postfix": "",
     "delete_cmd_prefix": "del ",
     "library": "var_list.py",
     "varRefreshCmd": "print(var_dic_list())"
    },
    "r": {
     "delete_cmd_postfix": ") ",
     "delete_cmd_prefix": "rm(",
     "library": "var_list.r",
     "varRefreshCmd": "cat(var_dic_list()) "
    }
   },
   "types_to_exclude": [
    "module",
    "function",
    "builtin_function_or_method",
    "instance",
    "_Feature"
   ],
   "window_display": false
  }
 },
 "nbformat": 4,
 "nbformat_minor": 5
}
