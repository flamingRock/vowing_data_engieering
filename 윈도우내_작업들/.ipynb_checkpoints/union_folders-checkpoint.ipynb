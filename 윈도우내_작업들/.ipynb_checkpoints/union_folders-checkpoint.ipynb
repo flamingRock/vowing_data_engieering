{
 "cells": [
  {
   "cell_type": "markdown",
   "id": "295a6b83-e060-4d3d-b265-bd8751d59f2d",
   "metadata": {},
   "source": [
    "윈도우 환경에서 두 개의 폴더를 합치려고 합니다.   \n",
    "이 두 폴더는 D:\\DATA_PREPROCESS\\FIRESTORE_DATAS\\voice_files_from_gcs_231130와 D:\\DATA_PREPROCESS\\FIRESTORE_DATAS\\voice_files_from_gcs_archive_231204입니다.   \n",
    "두 폴더 모두 내부에 '유저명의 폴더'가 수만 개 있고, 각 '유저명의 폴더' 안에는 파일이 수천 개씩 있습니다.  \n",
    "\n",
    "원하는 작업은 voice_files_from_gcs_archive_231204 폴더 안에 있는 동일한 '유저명의 폴더' 내의 파일들을   \n",
    "voice_files_from_gcs_231130 폴더 안의 해당하는 폴더로 이동시키는 것  "
   ]
  },
  {
   "cell_type": "code",
   "execution_count": 2,
   "id": "ece09d21-984a-4d52-af2b-1888b19cc3a6",
   "metadata": {
    "execution": {
     "iopub.execute_input": "2023-12-05T03:43:33.080947Z",
     "iopub.status.busy": "2023-12-05T03:43:33.080947Z",
     "iopub.status.idle": "2023-12-05T04:07:48.294951Z",
     "shell.execute_reply": "2023-12-05T04:07:48.294951Z",
     "shell.execute_reply.started": "2023-12-05T03:43:33.080947Z"
    }
   },
   "outputs": [],
   "source": [
    "import os\n",
    "import shutil\n",
    "\n",
    "def merge_folders(src_folder, dest_folder, add_suffix=False):\n",
    "    # src_folder에서 dest_folder로 파일을 이동시키는 함수\n",
    "    for user_folder in os.listdir(src_folder):\n",
    "        src_user_path = os.path.join(src_folder, user_folder)\n",
    "        dest_user_path = os.path.join(dest_folder, user_folder)\n",
    "\n",
    "        # 같은 이름의 '유저명의 폴더'가 존재하는지 확인\n",
    "        if os.path.exists(dest_user_path):\n",
    "            for file in os.listdir(src_user_path):\n",
    "                src_file_path = os.path.join(src_user_path, file)\n",
    "                dest_file_path = os.path.join(dest_user_path, file)\n",
    "\n",
    "                # # 파일 이름에 접미사 추가 옵션\n",
    "                # if add_suffix:\n",
    "                #     dest_file_path = os.path.splitext(dest_file_path)[0] + \"_from_archive\" + os.path.splitext(dest_file_path)[1]\n",
    "\n",
    "                # 파일 이동\n",
    "                shutil.move(src_file_path, dest_file_path)\n",
    "\n",
    "# 사용 예시\n",
    "src = \"D:/DATA_PREPROCESS/FIRESTORE_DATAS/voice_files_from_gcs_archive_231204\"\n",
    "dest = \"D:/DATA_PREPROCESS/FIRESTORE_DATAS/voice_files_from_gcs_231130\"\n",
    "merge_folders(src, dest)\n"
   ]
  },
  {
   "cell_type": "code",
   "execution_count": 4,
   "id": "2364152a-4a28-490a-9eb7-950c42479d05",
   "metadata": {
    "execution": {
     "iopub.execute_input": "2023-12-05T05:10:56.520294Z",
     "iopub.status.busy": "2023-12-05T05:10:56.520294Z",
     "iopub.status.idle": "2023-12-05T05:10:57.881630Z",
     "shell.execute_reply": "2023-12-05T05:10:57.881630Z",
     "shell.execute_reply.started": "2023-12-05T05:10:56.520294Z"
    }
   },
   "outputs": [
    {
     "name": "stdout",
     "output_type": "stream",
     "text": [
      "Total deleted empty folders: 4131\n"
     ]
    }
   ],
   "source": [
    "def delete_empty_folders(folder_path):\n",
    "    empty_folder_count = 0\n",
    "    for root, dirs, files in os.walk(folder_path, topdown=False):\n",
    "        # 현재 폴더 내의 파일과 하위 폴더가 없는 경우\n",
    "        if not files and not dirs:\n",
    "            os.rmdir(root)\n",
    "            empty_folder_count += 1\n",
    "            # print(f\"Deleted empty folder: {root}\")\n",
    "\n",
    "    return empty_folder_count\n",
    "\n",
    "folder_to_clean = \"D:/DATA_PREPROCESS/FIRESTORE_DATAS/voice_files_from_gcs_archive_231204\"\n",
    "deleted_folders = delete_empty_folders(folder_to_clean)\n",
    "print(f\"Total deleted empty folders: {deleted_folders}\")"
   ]
  },
  {
   "cell_type": "code",
   "execution_count": null,
   "id": "8b464de3-598e-45cf-a138-e16582f23be8",
   "metadata": {},
   "outputs": [],
   "source": []
  }
 ],
 "metadata": {
  "kernelspec": {
   "display_name": "Python 3 (ipykernel)",
   "language": "python",
   "name": "python3"
  },
  "language_info": {
   "codemirror_mode": {
    "name": "ipython",
    "version": 3
   },
   "file_extension": ".py",
   "mimetype": "text/x-python",
   "name": "python",
   "nbconvert_exporter": "python",
   "pygments_lexer": "ipython3",
   "version": "3.10.12"
  }
 },
 "nbformat": 4,
 "nbformat_minor": 5
}
