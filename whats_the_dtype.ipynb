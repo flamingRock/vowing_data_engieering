{
 "cells": [
  {
   "cell_type": "code",
   "execution_count": 4,
   "id": "8dfc5713-17fc-4e01-b2c1-370cf74cab27",
   "metadata": {
    "execution": {
     "iopub.execute_input": "2024-01-05T00:21:40.853216Z",
     "iopub.status.busy": "2024-01-05T00:21:40.852215Z",
     "iopub.status.idle": "2024-01-05T00:21:40.866732Z",
     "shell.execute_reply": "2024-01-05T00:21:40.866732Z",
     "shell.execute_reply.started": "2024-01-05T00:21:40.853216Z"
    }
   },
   "outputs": [
    {
     "name": "stdout",
     "output_type": "stream",
     "text": [
      "{'voice_id': 'str', 'user_id': 'str', 'ad_name': 'str', 'stt_text_array': 'list', 'is_passed': 'bool', 'ad_script': 'str', 'accuracy_array': 'list', 'created_time_array': 'list', 'ad_title': 'str', 'job': 'str', 'language': 'str', 'perfect': 'float', 'gender': 'str', 'birth_year': 'str', 'local_code': 'str', 'excepted_age_array': 'str', 'collection': 'str', 'ad_duration': 'str', 'level': 'str', 'ad_link': 'str', 'participant_count': 'float', 'average_accuracy_by_ad': 'float', 'average_accuracy_by_user': 'float', 'pass_rate_by_user': 'float', 'pass_rate_by_ad': 'float', 'text_length': 'int', 'try_count': 'int', 'user_avg_tries': 'float', 'ad_avg_tries': 'float'}\n"
     ]
    }
   ],
   "source": [
    "import json\n",
    "\n",
    "# # 데이터타입 변경 전 암기플러스 JSON 파일을 읽기\n",
    "# with open('D:\\\\DATA_PREPROCESS\\\\INTEGRATED_DATASETS\\\\new_WORD_SCRIPT\\\\JULY\\\\Validation\\\\AAC\\\\라벨링데이터\\\\전자담배액상 사이트 전담액상 입호흡액상 워터밤30ml 14524.json', 'r', encoding='utf-8') as file:\n",
    "#     data = json.load(file)\n",
    "# 데이터타입 변경 후 포인트벌기 JSON 파일을 읽기\n",
    "with open('D:\\\\DATA_PREPROCESS\\\\INTEGRATED_DATASETS\\\\new_화자별\\\\JULY\\\\Validation\\\\AMR\\\\라벨링데이터\\\\0AX895zuLnfiJRbjrnpxYtmzxsk1.json', 'r', encoding='utf-8') as file:\n",
    "    data = json.load(file)\n",
    "\n",
    "\n",
    "# 첫 번째 항목에서 각 키의 데이터 타입 조사\n",
    "data_types = {key: type(value).__name__ for key, value in data[0].items()}\n",
    "\n",
    "print(data_types)\n"
   ]
  },
  {
   "cell_type": "code",
   "execution_count": 2,
   "id": "b415669d-8f5d-4432-bd5d-4a7aaf8b278d",
   "metadata": {
    "execution": {
     "iopub.execute_input": "2023-12-21T23:58:44.403616Z",
     "iopub.status.busy": "2023-12-21T23:58:44.403616Z",
     "iopub.status.idle": "2023-12-21T23:58:44.422491Z",
     "shell.execute_reply": "2023-12-21T23:58:44.422491Z",
     "shell.execute_reply.started": "2023-12-21T23:58:44.403616Z"
    }
   },
   "outputs": [
    {
     "name": "stdout",
     "output_type": "stream",
     "text": [
      "{'accuracy_array': 'list', 'ad_avg_tries': 'float', 'ad_duration': 'str', 'ad_link': 'str', 'ad_name': 'str', 'ad_script': 'str', 'ad_title': 'str', 'average_accuracy_by_ad': 'float', 'average_accuracy_by_user': 'float', 'birth_year': 'str', 'collection': 'str', 'created_timestamp_array': 'list', 'excepted_age_array': 'str', 'first_created_date': 'int', 'first_timestamp': 'str', 'gender': 'str', 'is_passed': 'str', 'job': 'str', 'language': 'str', 'level': 'str', 'local_code': 'str', 'participant_count': 'float', 'pass_rate_by_ad': 'float', 'pass_rate_by_user': 'float', 'perfect': 'float', 'stt_text_array': 'list', 'text_length': 'int', 'try_count': 'int', 'user_avg_tries': 'float', 'user_id': 'str', 'voice_id': 'str'}\n"
     ]
    }
   ],
   "source": [
    "# JSON 파일을 읽기\n",
    "with open('D:\\\\DATA_PREPROCESS\\\\INTEGRATED_DATASETS\\\\new_WORD_SCRIPT\\\\JULY\\\\Validation\\\\AMR\\\\라벨링데이터\\\\[1+1 증정] 톡투허 흡수엔 활성엽산 1박스 비타민D3 1000IU 12660.json', 'r', encoding='utf-8') as file:\n",
    "    data = json.load(file)\n",
    "\n",
    "# 첫 번째 항목에서 각 키의 데이터 타입 조사\n",
    "data_types = {key: type(value).__name__ for key, value in data[0].items()}\n",
    "\n",
    "print(data_types)\n"
   ]
  },
  {
   "cell_type": "code",
   "execution_count": null,
   "id": "859fcbf7-bd08-448a-9c62-993644ecad2e",
   "metadata": {},
   "outputs": [],
   "source": []
  }
 ],
 "metadata": {
  "kernelspec": {
   "display_name": "Python 3 (ipykernel)",
   "language": "python",
   "name": "python3"
  },
  "language_info": {
   "codemirror_mode": {
    "name": "ipython",
    "version": 3
   },
   "file_extension": ".py",
   "mimetype": "text/x-python",
   "name": "python",
   "nbconvert_exporter": "python",
   "pygments_lexer": "ipython3",
   "version": "3.10.12"
  }
 },
 "nbformat": 4,
 "nbformat_minor": 5
}
