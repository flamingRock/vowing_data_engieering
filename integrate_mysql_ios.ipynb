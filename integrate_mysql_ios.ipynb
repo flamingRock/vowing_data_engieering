{
 "cells": [
  {
   "cell_type": "code",
   "execution_count": 1,
   "id": "f3bad429-3236-41dc-a629-d0450048ebe8",
   "metadata": {
    "execution": {
     "iopub.execute_input": "2023-11-23T09:50:34.161535Z",
     "iopub.status.busy": "2023-11-23T09:50:34.161535Z",
     "iopub.status.idle": "2023-11-23T09:50:35.093556Z",
     "shell.execute_reply": "2023-11-23T09:50:35.093556Z",
     "shell.execute_reply.started": "2023-11-23T09:50:34.161535Z"
    }
   },
   "outputs": [],
   "source": [
    "import os\n",
    "import pandas as pd\n",
    "import numpy as np\n",
    "import matplotlib.pyplot as plt\n",
    "import re # 정규식 사용을 위한 모듈\n",
    "# from scipy.stats import gaussian_kde\n",
    "\n",
    "import pyarrow.parquet as pq\n",
    "\n",
    "from pyspark import SparkContext\n",
    "from pyspark.sql import SparkSession\n",
    "from pyspark.sql import functions as F\n",
    "from pyspark.sql import types as T\n",
    "from pyspark.sql import Window\n",
    "from pyspark.sql.functions import lit, row_number, rand, broadcast, element_at, regexp_extract, udf, col, isnull, count, when, substring, coalesce, from_json, size, avg, expr, concat_ws\n",
    "from pyspark.sql.types import ArrayType, StringType, StructType, StructField, DoubleType, IntegerType, FloatType\n",
    "\n",
    "from functools import reduce\n",
    "from matplotlib.ticker import FuncFormatter\n",
    "from collections import Counter\n",
    "from datetime import datetime"
   ]
  },
  {
   "cell_type": "code",
   "execution_count": 2,
   "id": "7d239de8-6874-4872-92b7-388ec87bdb6f",
   "metadata": {
    "execution": {
     "iopub.execute_input": "2023-11-23T09:50:36.036594Z",
     "iopub.status.busy": "2023-11-23T09:50:36.036594Z",
     "iopub.status.idle": "2023-11-23T09:50:39.265630Z",
     "shell.execute_reply": "2023-11-23T09:50:39.264630Z",
     "shell.execute_reply.started": "2023-11-23T09:50:36.036594Z"
    }
   },
   "outputs": [
    {
     "name": "stdout",
     "output_type": "stream",
     "text": [
      "Spark local directory: D:/spark_tmp\n"
     ]
    }
   ],
   "source": [
    "# 가상 환경의 Python 경로를 지정\n",
    "python_path = \"C:/Users/admin/anaconda3/envs/my_conda_01/python.exe\"\n",
    "\n",
    "# Spark 세션 생성\n",
    "spark = SparkSession.builder \\\n",
    "    .appName(\"voice_metadata integrating operation\") \\\n",
    "    .config(\"spark.driver.memory\", \"9g\") \\\n",
    "    .config(\"spark.executor.memory\", \"9g\") \\\n",
    "    .config(\"spark.driver.maxResultSize\", \"5g\") \\\n",
    "    .config(\"spark.pyspark.python\", python_path) \\\n",
    "    .config(\"spark.local.dir\", \"D:/spark_tmp\") \\\n",
    "    .getOrCreate()\n",
    "\n",
    "# SparkContext 가져오기\n",
    "sc = spark.sparkContext\n",
    "\n",
    "# Spark 중간 파일이 저장되는 경로 확인\n",
    "current_spark_local_dir = spark.conf.get(\"spark.local.dir\", \"Not Set\")\n",
    "print(\"Spark local directory:\", current_spark_local_dir)"
   ]
  },
  {
   "cell_type": "code",
   "execution_count": 3,
   "id": "007a31a2-a83b-4cd6-88fc-4366ecc95b17",
   "metadata": {
    "execution": {
     "iopub.execute_input": "2023-11-23T09:50:40.412913Z",
     "iopub.status.busy": "2023-11-23T09:50:40.411913Z",
     "iopub.status.idle": "2023-11-23T09:50:43.965319Z",
     "shell.execute_reply": "2023-11-23T09:50:43.964318Z",
     "shell.execute_reply.started": "2023-11-23T09:50:40.412913Z"
    }
   },
   "outputs": [],
   "source": [
    "## JSON 파일 로드\n",
    "json_file_path = 'D:/DATA_PREPROCESS/iOS_DATAS/sql_tables_231123/vowing_ad.json'\n",
    "ad_df = spark.read.json(json_file_path)\n",
    "json_file_path = 'D:/DATA_PREPROCESS/iOS_DATAS/sql_tables_231123/vowing_ad_participation.json'\n",
    "ad_participation_df = spark.read.json(json_file_path)\n",
    "\n",
    "json_file_path = 'D:/DATA_PREPROCESS/iOS_DATAS/sql_tables_231123/vowing_m10n.json'\n",
    "m10n_df = spark.read.json(json_file_path)\n",
    "json_file_path = 'D:/DATA_PREPROCESS/iOS_DATAS/sql_tables_231123/vowing_m10n_participation.json'\n",
    "m10n_participation_df = spark.read.json(json_file_path)\n",
    "\n",
    "json_file_path = 'D:/DATA_PREPROCESS/iOS_DATAS/sql_tables_231123/vowing_user.json'\n",
    "user_df = spark.read.json(json_file_path)"
   ]
  },
  {
   "cell_type": "code",
   "execution_count": 8,
   "id": "40f2e2e2-6b1a-44e7-a563-1ed2bf7f61fe",
   "metadata": {
    "execution": {
     "iopub.execute_input": "2023-11-23T09:54:44.232053Z",
     "iopub.status.busy": "2023-11-23T09:54:44.232053Z",
     "iopub.status.idle": "2023-11-23T09:54:44.296974Z",
     "shell.execute_reply": "2023-11-23T09:54:44.295974Z",
     "shell.execute_reply.started": "2023-11-23T09:54:44.232053Z"
    }
   },
   "outputs": [],
   "source": [
    "ad_df = ad_df.filter(col('_corrupt_record').isNull()).drop('_corrupt_record')\n",
    "ad_participation_df = ad_participation_df.filter(col('_corrupt_record').isNull()).drop('_corrupt_record')\n",
    "m10n_df = m10n_df.filter(col('_corrupt_record').isNull()).drop('_corrupt_record')\n",
    "m10n_participation_df = m10n_participation_df.filter(col('_corrupt_record').isNull()).drop('_corrupt_record')\n",
    "user_df = user_df.filter(col('_corrupt_record').isNull()).drop('_corrupt_record')"
   ]
  },
  {
   "cell_type": "code",
   "execution_count": 9,
   "id": "330e0abc-3740-4433-b04f-dc34d491c419",
   "metadata": {
    "execution": {
     "iopub.execute_input": "2023-11-23T09:54:46.887433Z",
     "iopub.status.busy": "2023-11-23T09:54:46.887433Z",
     "iopub.status.idle": "2023-11-23T09:54:46.992031Z",
     "shell.execute_reply": "2023-11-23T09:54:46.991031Z",
     "shell.execute_reply.started": "2023-11-23T09:54:46.887433Z"
    }
   },
   "outputs": [
    {
     "name": "stdout",
     "output_type": "stream",
     "text": [
      "+---+-----------------------------------+----------+--------------------+----------------+----------------------------------+--------------------+-------------------------+\n",
      "|_id|                        description|difficulty|              end_at|minimum_accuracy|                            script|            start_at|                    title|\n",
      "+---+-----------------------------------+----------+--------------------+----------------+----------------------------------+--------------------+-------------------------+\n",
      "|  2|  닭갈비의 본고장 춘천생산 진짜 ...|         1|2022-09-22 00:00:...|              75| 춘천 홍익 닭갈비는 춘천에서 직...|2022-09-19 00:00:...|               태범프레시|\n",
      "|  3|  닭갈비의 본고장 춘천생산 진짜 ...|         1|2022-09-22 00:00:...|              75| 춘천 홍익 닭갈비는 춘천에서 직...|2022-09-19 00:00:...|               태범프레시|\n",
      "|  4|  닭갈비의 본고장 춘천생산 진짜 ...|         1|2022-09-22 00:00:...|              75| 춘천 홍익 닭갈비는 춘천에서 직...|2022-09-19 00:00:...|               태범프레시|\n",
      "|  5|  닭갈비의 본고장 춘천생산 진짜 ...|         1|2022-09-22 00:00:...|              75| 춘천 홍익 닭갈비는 춘천에서 직...|2022-09-19 00:00:...|               태범프레시|\n",
      "|  6|  닭갈비의 본고장 춘천생산 진짜 ...|         1|2022-09-22 00:00:...|              75| 춘천 홍익 닭갈비는 춘천에서 직...|2022-09-19 00:00:...|               태범프레시|\n",
      "|  7|                슈퍼비전 멀티비타민|         2|2022-09-23 00:01:...|              50|슈퍼비전 멀티비타민 미네랄 로얄...|2022-09-19 00:01:...|              미네랄 로얄|\n",
      "|  8|                 8,000P 지급 이벤트|         1|2022-09-22 00:01:...|              60|     msg. 인공 조미료라 불리는 ...|2022-09-18 12:00:...|                   아묻따|\n",
      "|  9|      노트북 파우치로 있어보이는 법|         0|2022-09-30 00:00:...|              75|유저님들 노트북으로 일하거나 과...|2022-09-19 00:00:...|3 in 1 닐킨 노트북 파우치|\n",
      "| 10|                      테세우스의 배|         2|2022-09-19 00:00:...|              70| 테세우스의 배는 유명한 철학적 ...|2022-09-19 00:00:...|                 교양충전|\n",
      "| 11|                    FLY TO THE MOON|         1|2022-09-30 00:00:...|              50|       지난 8월 5일 8시 8분. 대...|2022-09-19 00:00:...|                   다누리|\n",
      "| 12|             왜, 어떻게 더 저렴한가|         2|2022-09-30 00:00:...|              80|수입 멸균우유는 국내산 멸균우유...|2022-09-19 00:00:...|             수입멸균우유|\n",
      "| 13|            왜, 어떻게 더 저렴한가2|         1|2022-09-19 00:00:...|              80|수입 멸균우유는 국내산 멸균우유...|2022-09-19 00:00:...|            수입멸균우유2|\n",
      "| 15|   상품광고 타이핑으로 업로드, 2...|         0|2022-09-22 00:00:...|              60|     msg. 인공 조미료라 불리는 ...|2022-09-21 17:00:...|         MSG, 인공 조미료|\n",
      "| 16|포인트광고 읽기타이핑으로 업로드...|         1|2022-09-30 00:00:...|              75| 자연 식재료로 맛을 내는 과정은...|2022-09-21 00:00:...|       MSG, 인공 조미료 2|\n",
      "| 17|포인트광고 읽기타이핑으로 업로드...|         1|2022-09-21 00:00:...|              75| 자연 식재료로 맛을 내는 과정은...|2022-09-21 00:00:...|       MSG, 인공 조미료 2|\n",
      "| 18|포인트광고 읽기타이핑으로 업로드...|         1|2022-09-30 00:00:...|              90|   유산균, 비타민, 루테인, 오메...|2022-09-21 16:00:...|                 필라이즈|\n",
      "| 21| 상품광고 읽기타이핑으로 업로드,...|         2|2022-09-21 00:00:...|              90| 앱에서 건강검진도 받을 수 있습...|2022-09-21 00:00:...|                필라이즈2|\n",
      "| 23| 상품광고 읽기타이핑으로 업로드,...|         0|2022-09-22 00:00:...|              85|       지난 8월 5일 8시 8분. 대...|2022-09-21 00:00:...|                   다누리|\n",
      "| 24|포인트광고 읽기타이핑으로 업로드...|         1|2022-09-22 00:00:...|              70| 연료를 저감하기 위해 주변 천체...|2022-09-21 07:00:...|                  다누리2|\n",
      "| 25|포인트광고 읽기타이핑으로 업로드...|         0|2022-09-21 09:00:...|              28| 세계 최초로 달 표면의 편광지도...|2022-09-20 00:00:...|                  다누리3|\n",
      "+---+-----------------------------------+----------+--------------------+----------------+----------------------------------+--------------------+-------------------------+\n",
      "only showing top 20 rows\n",
      "\n"
     ]
    }
   ],
   "source": [
    "ad_df.show()"
   ]
  },
  {
   "cell_type": "markdown",
   "id": "23bc64fc-ddb0-4683-909f-8006c6a50379",
   "metadata": {},
   "source": [
    "# 테이블 조인"
   ]
  },
  {
   "cell_type": "code",
   "execution_count": 10,
   "id": "20f84b66-1d22-4d52-bb09-d006c83b98c7",
   "metadata": {
    "execution": {
     "iopub.execute_input": "2023-11-23T09:55:00.821500Z",
     "iopub.status.busy": "2023-11-23T09:55:00.821500Z",
     "iopub.status.idle": "2023-11-23T09:55:00.852711Z",
     "shell.execute_reply": "2023-11-23T09:55:00.852711Z",
     "shell.execute_reply.started": "2023-11-23T09:55:00.821500Z"
    }
   },
   "outputs": [],
   "source": [
    "# 포인트 벌기: ad, ad_participation 테이블을 조인\n",
    "\n",
    "# 조인 수행\n",
    "point_df = ad_df.join(ad_participation_df, ad_df._id == ad_participation_df.ad_id, \"left\")\n",
    "# '_id' 컬럼 제거\n",
    "point_df = point_df.drop(ad_df._id)\n",
    "# '_id' 컬럼을 'participation_id'로 이름 변경\n",
    "point_df = point_df.withColumnRenamed(\"_id\", \"participation_id\")"
   ]
  },
  {
   "cell_type": "code",
   "execution_count": 11,
   "id": "1b7f1cdd-6564-435e-a9c9-1f7cc9cfffa6",
   "metadata": {
    "execution": {
     "iopub.execute_input": "2023-11-23T09:55:03.053173Z",
     "iopub.status.busy": "2023-11-23T09:55:03.053173Z",
     "iopub.status.idle": "2023-11-23T09:55:05.203008Z",
     "shell.execute_reply": "2023-11-23T09:55:05.202201Z",
     "shell.execute_reply.started": "2023-11-23T09:55:03.053173Z"
    }
   },
   "outputs": [
    {
     "name": "stdout",
     "output_type": "stream",
     "text": [
      "+-----------------------------------+----------+--------------------+----------------+----------------------------------+--------------------+-------------------------+-------------------+--------+-----+--------+---------+--------------------+---------------------------------+-------------------+\n",
      "|                        description|difficulty|              end_at|minimum_accuracy|                            script|            start_at|                    title|   participation_id|accuracy|ad_id|audio_id|is_passed|     participated_at|                    recorded_text|            user_id|\n",
      "+-----------------------------------+----------+--------------------+----------------+----------------------------------+--------------------+-------------------------+-------------------+--------+-----+--------+---------+--------------------+---------------------------------+-------------------+\n",
      "|                슈퍼비전 멀티비타민|         2|2022-09-23 00:01:...|              50|슈퍼비전 멀티비타민 미네랄 로얄...|2022-09-19 00:01:...|              미네랄 로얄|2022092014352389100|      42|    7|       0|        0|2022-09-20 05:35:...|슈퍼비젼 멀티 비타민 미네랄 로...|                  0|\n",
      "|                슈퍼비전 멀티비타민|         2|2022-09-23 00:01:...|              50|슈퍼비전 멀티비타민 미네랄 로얄...|2022-09-19 00:01:...|              미네랄 로얄|2022092114540688100|       0|    7|       0|        0|2022-09-21 05:54:...| 시간 초과 시 날개 차감 여부와...|                  0|\n",
      "|                슈퍼비전 멀티비타민|         2|2022-09-23 00:01:...|              50|슈퍼비전 멀티비타민 미네랄 로얄...|2022-09-19 00:01:...|              미네랄 로얄|2022092114594178700|      19|    7|       0|        0|2022-09-21 05:59:...|      슈퍼비젼 멀티 비타민 미네랄|                  0|\n",
      "|                슈퍼비전 멀티비타민|         2|2022-09-23 00:01:...|              50|슈퍼비전 멀티비타민 미네랄 로얄...|2022-09-19 00:01:...|              미네랄 로얄|2022092115005668600|       0|    7|       0|        0|2022-09-21 06:00:...|대사를 따라 읽으면 포인트를 얻...|                  0|\n",
      "|                덕수궁의 별 헤는 밤|         1|2022-09-30 00:00:...|              95| 반복되는 일상에 휴식이 필요한 ...|2022-09-27 11:10:...|                 정동야행|2022092715391107400|     100|   26|       0|        1|2022-09-27 15:39:...|반복되는 일상에 휴식이 필요한 ...|2022092714424487000|\n",
      "|포인트광고 읽기타이핑으로 업로드...|         0|2022-09-21 09:00:...|              28| 세계 최초로 달 표면의 편광지도...|2022-09-20 00:00:...|                  다누리3|               null|    null| null|    null|     null|                null|                             null|               null|\n",
      "|  닭갈비의 본고장 춘천생산 진짜 ...|         1|2022-09-22 00:00:...|              75| 춘천 홍익 닭갈비는 춘천에서 직...|2022-09-19 00:00:...|               태범프레시|               null|    null| null|    null|     null|                null|                             null|               null|\n",
      "|      노트북 파우치로 있어보이는 법|         0|2022-09-30 00:00:...|              75|유저님들 노트북으로 일하거나 과...|2022-09-19 00:00:...|3 in 1 닐킨 노트북 파우치|               null|    null| null|    null|     null|                null|                             null|               null|\n",
      "|  닭갈비의 본고장 춘천생산 진짜 ...|         1|2022-09-22 00:00:...|              75| 춘천 홍익 닭갈비는 춘천에서 직...|2022-09-19 00:00:...|               태범프레시|               null|    null| null|    null|     null|                null|                             null|               null|\n",
      "|포인트광고 읽기타이핑으로 업로드...|         1|2022-09-21 00:00:...|              75| 자연 식재료로 맛을 내는 과정은...|2022-09-21 00:00:...|       MSG, 인공 조미료 2|2022092117373597200|      96|   17|       0|        1|2022-09-21 08:37:...|자연 식재료로 맛을 내는 과정은...|                  0|\n",
      "|                      테세우스의 배|         2|2022-09-19 00:00:...|              70| 테세우스의 배는 유명한 철학적 ...|2022-09-19 00:00:...|                 교양충전|               null|    null| null|    null|     null|                null|                             null|               null|\n",
      "|  닭갈비의 본고장 춘천생산 진짜 ...|         1|2022-09-22 00:00:...|              75| 춘천 홍익 닭갈비는 춘천에서 직...|2022-09-19 00:00:...|               태범프레시|               null|    null| null|    null|     null|                null|                             null|               null|\n",
      "|                 8,000P 지급 이벤트|         1|2022-09-22 00:01:...|              60|     msg. 인공 조미료라 불리는 ...|2022-09-18 12:00:...|                   아묻따|               null|    null| null|    null|     null|                null|                             null|               null|\n",
      "|             왜, 어떻게 더 저렴한가|         2|2022-09-30 00:00:...|              80|수입 멸균우유는 국내산 멸균우유...|2022-09-19 00:00:...|             수입멸균우유|               null|    null| null|    null|     null|                null|                             null|               null|\n",
      "|  닭갈비의 본고장 춘천생산 진짜 ...|         1|2022-09-22 00:00:...|              75| 춘천 홍익 닭갈비는 춘천에서 직...|2022-09-19 00:00:...|               태범프레시|               null|    null| null|    null|     null|                null|                             null|               null|\n",
      "|                    FLY TO THE MOON|         1|2022-09-30 00:00:...|              50|       지난 8월 5일 8시 8분. 대...|2022-09-19 00:00:...|                   다누리|               null|    null| null|    null|     null|                null|                             null|               null|\n",
      "|  닭갈비의 본고장 춘천생산 진짜 ...|         1|2022-09-22 00:00:...|              75| 춘천 홍익 닭갈비는 춘천에서 직...|2022-09-19 00:00:...|               태범프레시|               null|    null| null|    null|     null|                null|                             null|               null|\n",
      "|            왜, 어떻게 더 저렴한가2|         1|2022-09-19 00:00:...|              80|수입 멸균우유는 국내산 멸균우유...|2022-09-19 00:00:...|            수입멸균우유2|2022092112182241300|      97|   13|       0|        1|2022-09-21 03:18:...|수입 멸균우유는 국내산 멸균 우...|                  0|\n",
      "|   상품광고 타이핑으로 업로드, 2...|         0|2022-09-22 00:00:...|              60|     msg. 인공 조미료라 불리는 ...|2022-09-21 17:00:...|         MSG, 인공 조미료|               null|    null| null|    null|     null|                null|                             null|               null|\n",
      "|포인트광고 읽기타이핑으로 업로드...|         1|2022-09-30 00:00:...|              90|   유산균, 비타민, 루테인, 오메...|2022-09-21 16:00:...|                 필라이즈|2022092610562057800|      88|   18|       0|        0|2022-09-26 10:56:...| 유산균 비타민 루테인 오메가3 ...|                  0|\n",
      "+-----------------------------------+----------+--------------------+----------------+----------------------------------+--------------------+-------------------------+-------------------+--------+-----+--------+---------+--------------------+---------------------------------+-------------------+\n",
      "only showing top 20 rows\n",
      "\n"
     ]
    }
   ],
   "source": [
    "point_df.show()"
   ]
  },
  {
   "cell_type": "code",
   "execution_count": 12,
   "id": "d61ce7b0-6db6-4a74-994d-0463bad790e7",
   "metadata": {
    "execution": {
     "iopub.execute_input": "2023-11-23T09:56:43.045628Z",
     "iopub.status.busy": "2023-11-23T09:56:43.045628Z",
     "iopub.status.idle": "2023-11-23T09:56:43.085851Z",
     "shell.execute_reply": "2023-11-23T09:56:43.084851Z",
     "shell.execute_reply.started": "2023-11-23T09:56:43.045628Z"
    }
   },
   "outputs": [],
   "source": [
    "# 암기플러스: m10n, m10n_participation 테이블을 조인\n",
    "\n",
    "m10n_df = m10n_df.withColumnRenamed(\"_id\", \"memor_id\")\n",
    "\n",
    "# 조인 수행\n",
    "m10n_df = m10n_df.join(m10n_participation_df, m10n_df.memor_id == m10n_participation_df.m10n_id, \"left\")\n",
    "# '_id' 컬럼 제거\n",
    "m10n_df = m10n_df.drop(m10n_df.memor_id)\n",
    "# '_id' 컬럼을 'participation_id'로 이름 변경\n",
    "m10n_df = m10n_df.withColumnRenamed(\"_id\", \"participation_id\")"
   ]
  },
  {
   "cell_type": "code",
   "execution_count": 13,
   "id": "6d0ac429-20a4-4663-98f5-16f005d2e845",
   "metadata": {
    "execution": {
     "iopub.execute_input": "2023-11-23T09:56:45.349448Z",
     "iopub.status.busy": "2023-11-23T09:56:45.349448Z",
     "iopub.status.idle": "2023-11-23T09:56:48.605958Z",
     "shell.execute_reply": "2023-11-23T09:56:48.604957Z",
     "shell.execute_reply.started": "2023-11-23T09:56:45.349448Z"
    }
   },
   "outputs": [
    {
     "data": {
      "text/plain": [
       "1057799"
      ]
     },
     "execution_count": 13,
     "metadata": {},
     "output_type": "execute_result"
    }
   ],
   "source": [
    "m10n_df.count()"
   ]
  },
  {
   "cell_type": "code",
   "execution_count": 15,
   "id": "f124ec3c-a0fd-4786-a7ed-0cf0bf1a6f1f",
   "metadata": {
    "execution": {
     "iopub.execute_input": "2023-11-23T09:57:20.021955Z",
     "iopub.status.busy": "2023-11-23T09:57:20.020954Z",
     "iopub.status.idle": "2023-11-23T09:57:20.027049Z",
     "shell.execute_reply": "2023-11-23T09:57:20.027049Z",
     "shell.execute_reply.started": "2023-11-23T09:57:20.021955Z"
    }
   },
   "outputs": [
    {
     "name": "stdout",
     "output_type": "stream",
     "text": [
      "root\n",
      " |-- description: string (nullable = true)\n",
      " |-- difficulty: long (nullable = true)\n",
      " |-- end_at: string (nullable = true)\n",
      " |-- minimum_accuracy: long (nullable = true)\n",
      " |-- script: string (nullable = true)\n",
      " |-- start_at: string (nullable = true)\n",
      " |-- title: string (nullable = true)\n",
      " |-- participation_id: long (nullable = true)\n",
      " |-- accuracy: long (nullable = true)\n",
      " |-- audio_id: long (nullable = true)\n",
      " |-- is_passed: long (nullable = true)\n",
      " |-- m10n_id: long (nullable = true)\n",
      " |-- participated_at: string (nullable = true)\n",
      " |-- recorded_text: string (nullable = true)\n",
      " |-- user_id: long (nullable = true)\n",
      "\n",
      "root\n",
      " |-- description: string (nullable = true)\n",
      " |-- difficulty: long (nullable = true)\n",
      " |-- end_at: string (nullable = true)\n",
      " |-- minimum_accuracy: long (nullable = true)\n",
      " |-- script: string (nullable = true)\n",
      " |-- start_at: string (nullable = true)\n",
      " |-- title: string (nullable = true)\n",
      " |-- participation_id: long (nullable = true)\n",
      " |-- accuracy: long (nullable = true)\n",
      " |-- ad_id: long (nullable = true)\n",
      " |-- audio_id: long (nullable = true)\n",
      " |-- is_passed: long (nullable = true)\n",
      " |-- participated_at: string (nullable = true)\n",
      " |-- recorded_text: string (nullable = true)\n",
      " |-- user_id: long (nullable = true)\n",
      "\n"
     ]
    }
   ],
   "source": [
    "m10n_df.printSchema()\n",
    "point_df.printSchema()"
   ]
  },
  {
   "cell_type": "code",
   "execution_count": 20,
   "id": "0e300ba4-1cb2-407f-bc36-23ebc1774e29",
   "metadata": {
    "execution": {
     "iopub.execute_input": "2023-11-23T10:01:21.902470Z",
     "iopub.status.busy": "2023-11-23T10:01:21.901470Z",
     "iopub.status.idle": "2023-11-23T10:01:22.189993Z",
     "shell.execute_reply": "2023-11-23T10:01:22.188995Z",
     "shell.execute_reply.started": "2023-11-23T10:01:21.902470Z"
    }
   },
   "outputs": [
    {
     "name": "stdout",
     "output_type": "stream",
     "text": [
      "8708\n"
     ]
    }
   ],
   "source": [
    "user_df.cache()\n",
    "print(user_df.count())"
   ]
  },
  {
   "cell_type": "code",
   "execution_count": 18,
   "id": "0b6a6919-cbfd-4baa-8251-54bc5a9bd1e7",
   "metadata": {
    "execution": {
     "iopub.execute_input": "2023-11-23T09:59:10.828856Z",
     "iopub.status.busy": "2023-11-23T09:59:10.828856Z",
     "iopub.status.idle": "2023-11-23T09:59:10.842032Z",
     "shell.execute_reply": "2023-11-23T09:59:10.841208Z",
     "shell.execute_reply.started": "2023-11-23T09:59:10.828856Z"
    }
   },
   "outputs": [
    {
     "name": "stdout",
     "output_type": "stream",
     "text": [
      "root\n",
      " |-- _id: long (nullable = true)\n",
      " |-- birth: string (nullable = true)\n",
      " |-- dormant_at: string (nullable = true)\n",
      " |-- gender: long (nullable = true)\n",
      " |-- signed_up_at: string (nullable = true)\n",
      " |-- type: long (nullable = true)\n",
      " |-- withdrawn_at: string (nullable = true)\n",
      "\n"
     ]
    }
   ],
   "source": [
    "user_df.printSchema()"
   ]
  },
  {
   "cell_type": "code",
   "execution_count": 21,
   "id": "858b05f2-c441-476c-b2b9-5a4b9b18bafc",
   "metadata": {
    "execution": {
     "iopub.execute_input": "2023-11-23T10:01:27.579744Z",
     "iopub.status.busy": "2023-11-23T10:01:27.579744Z",
     "iopub.status.idle": "2023-11-23T10:01:27.623893Z",
     "shell.execute_reply": "2023-11-23T10:01:27.623893Z",
     "shell.execute_reply.started": "2023-11-23T10:01:27.579744Z"
    }
   },
   "outputs": [],
   "source": [
    "# 포인트 벌기 통합 데이터와 암기플러스 통합 데이터를 완전 외부 조인\n",
    "\n",
    "# point_df에 'category' 컬럼 추가 (값은 0) 및 'ad_id'를 'ads_id'로 이름 변경\n",
    "point_df = point_df.withColumn(\"category\", lit(0)).withColumnRenamed(\"ad_id\", \"ads_id\")\n",
    "# m10n_df에 'category' 컬럼 추가 (값은 1) 및 'm10n_id'를 'ads_id'로 이름 변경\n",
    "m10n_df = m10n_df.withColumn(\"category\", lit(1)).withColumnRenamed(\"m10n_id\", \"ads_id\")\n",
    "\n",
    "ads_df = point_df.union(m10n_df)"
   ]
  },
  {
   "cell_type": "code",
   "execution_count": 22,
   "id": "4672a50c-ff87-4481-9d2b-b479ffd21c16",
   "metadata": {
    "execution": {
     "iopub.execute_input": "2023-11-23T10:01:29.733290Z",
     "iopub.status.busy": "2023-11-23T10:01:29.733290Z",
     "iopub.status.idle": "2023-11-23T10:01:29.740039Z",
     "shell.execute_reply": "2023-11-23T10:01:29.739974Z",
     "shell.execute_reply.started": "2023-11-23T10:01:29.733290Z"
    }
   },
   "outputs": [
    {
     "name": "stdout",
     "output_type": "stream",
     "text": [
      "root\n",
      " |-- description: string (nullable = true)\n",
      " |-- difficulty: long (nullable = true)\n",
      " |-- end_at: string (nullable = true)\n",
      " |-- minimum_accuracy: long (nullable = true)\n",
      " |-- script: string (nullable = true)\n",
      " |-- start_at: string (nullable = true)\n",
      " |-- title: string (nullable = true)\n",
      " |-- participation_id: long (nullable = true)\n",
      " |-- accuracy: long (nullable = true)\n",
      " |-- ads_id: long (nullable = true)\n",
      " |-- audio_id: long (nullable = true)\n",
      " |-- is_passed: long (nullable = true)\n",
      " |-- participated_at: string (nullable = true)\n",
      " |-- recorded_text: string (nullable = true)\n",
      " |-- user_id: long (nullable = true)\n",
      " |-- category: integer (nullable = false)\n",
      "\n"
     ]
    }
   ],
   "source": [
    "ads_df.printSchema()"
   ]
  },
  {
   "cell_type": "code",
   "execution_count": 23,
   "id": "4962c4ed-0772-448a-a520-6d6c8a2b3202",
   "metadata": {
    "execution": {
     "iopub.execute_input": "2023-11-23T10:01:32.629138Z",
     "iopub.status.busy": "2023-11-23T10:01:32.628138Z",
     "iopub.status.idle": "2023-11-23T10:01:32.646851Z",
     "shell.execute_reply": "2023-11-23T10:01:32.646585Z",
     "shell.execute_reply.started": "2023-11-23T10:01:32.629138Z"
    }
   },
   "outputs": [],
   "source": [
    "# 음성데이터와 유저데이터를 조인: ads_df와 user_df를 조인\n",
    "\n",
    "joined_df = ads_df.join(user_df, ads_df.user_id == user_df._id, \"left\")\n",
    "joined_df = joined_df.drop(user_df._id)"
   ]
  },
  {
   "cell_type": "markdown",
   "id": "af4d2e00-d184-4f59-aa30-93c0c8970e46",
   "metadata": {},
   "source": [
    "# 저장"
   ]
  },
  {
   "cell_type": "code",
   "execution_count": 24,
   "id": "d9acb8fe-3ab2-4703-b581-9e5522ecedaf",
   "metadata": {
    "execution": {
     "iopub.execute_input": "2023-11-23T10:01:38.082379Z",
     "iopub.status.busy": "2023-11-23T10:01:38.082379Z",
     "iopub.status.idle": "2023-11-23T10:01:45.975310Z",
     "shell.execute_reply": "2023-11-23T10:01:45.975310Z",
     "shell.execute_reply.started": "2023-11-23T10:01:38.082379Z"
    }
   },
   "outputs": [],
   "source": [
    "# 오늘의 날짜를 얻어 'yymmdd' 포맷으로 변환\n",
    "today = datetime.today()\n",
    "formatted_date = today.strftime('%y%m%d')\n",
    "\n",
    "# 저장 경로 설정\n",
    "file_path = f\"D:/DATA_PREPROCESS/iOS_DATAS/ios-integrated-voice-db-{formatted_date}\"\n",
    "\n",
    "# DataFrame을 로컬에 Parquet 형식으로 저장\n",
    "joined_df.write.parquet(file_path)"
   ]
  },
  {
   "cell_type": "code",
   "execution_count": null,
   "id": "a9f78fa0-c01d-4ae4-9b46-e3f9d2053806",
   "metadata": {},
   "outputs": [],
   "source": []
  }
 ],
 "metadata": {
  "kernelspec": {
   "display_name": "Python 3 (ipykernel)",
   "language": "python",
   "name": "python3"
  },
  "language_info": {
   "codemirror_mode": {
    "name": "ipython",
    "version": 3
   },
   "file_extension": ".py",
   "mimetype": "text/x-python",
   "name": "python",
   "nbconvert_exporter": "python",
   "pygments_lexer": "ipython3",
   "version": "3.10.12"
  }
 },
 "nbformat": 4,
 "nbformat_minor": 5
}
