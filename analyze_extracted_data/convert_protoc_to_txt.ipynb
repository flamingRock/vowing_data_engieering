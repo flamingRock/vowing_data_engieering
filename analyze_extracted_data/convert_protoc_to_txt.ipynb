{
 "cells": [
  {
   "cell_type": "code",
   "execution_count": 4,
   "id": "84d1d1c3",
   "metadata": {},
   "outputs": [],
   "source": [
    "import subprocess"
   ]
  },
  {
   "cell_type": "code",
   "execution_count": 3,
   "id": "a56b6be9",
   "metadata": {},
   "outputs": [],
   "source": [
    "metadata_file_path = \"D:/DATA_PREPROCESS/firestore_datas/2023-08-10T09_07_44_34692/all_namespaces/kind_Attend/all_namespaces_kind_Attend.export_metadata\"\n",
    "decoded_metadata_file_path = \"decoded_metadata.txt\"\n",
    "\n",
    "# subprocess.run([\"protoc\", \"--decode_raw\", \"<\", metadata_file_path, \">\", decoded_metadata_file_path])\n",
    "with open(decoded_metadata_file_path, 'w') as output_file:\n",
    "    with open(metadata_file_path, 'r') as input_file:\n",
    "        subprocess.run([\"protoc\", \"--decode_raw\"], stdin=input_file, stdout=output_file)"
   ]
  },
  {
   "cell_type": "code",
   "execution_count": null,
   "id": "4390d078",
   "metadata": {},
   "outputs": [],
   "source": []
  }
 ],
 "metadata": {
  "kernelspec": {
   "display_name": "Python 3 (ipykernel)",
   "language": "python",
   "name": "python3"
  },
  "language_info": {
   "codemirror_mode": {
    "name": "ipython",
    "version": 3
   },
   "file_extension": ".py",
   "mimetype": "text/x-python",
   "name": "python",
   "nbconvert_exporter": "python",
   "pygments_lexer": "ipython3",
   "version": "3.10.12"
  }
 },
 "nbformat": 4,
 "nbformat_minor": 5
}
