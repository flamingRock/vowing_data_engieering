{
 "cells": [
  {
   "cell_type": "code",
   "execution_count": 1,
   "id": "54d1bea0",
   "metadata": {
    "ExecuteTime": {
     "end_time": "2023-10-18T02:42:21.967764Z",
     "start_time": "2023-10-18T02:42:21.935046Z"
    },
    "execution": {
     "iopub.execute_input": "2023-12-22T05:23:42.475357Z",
     "iopub.status.busy": "2023-12-22T05:23:42.475357Z",
     "iopub.status.idle": "2023-12-22T05:23:44.914505Z",
     "shell.execute_reply": "2023-12-22T05:23:44.914505Z",
     "shell.execute_reply.started": "2023-12-22T05:23:42.475357Z"
    },
    "tags": []
   },
   "outputs": [],
   "source": [
    "import os\n",
    "import pandas as pd\n",
    "import numpy as np\n",
    "import matplotlib.pyplot as plt\n",
    "import re # 정규식 사용을 위한 모듈\n",
    "# from scipy.stats import gaussian_kde\n",
    "\n",
    "import pyarrow.parquet as pq\n",
    "\n",
    "from pyspark import SparkContext\n",
    "from pyspark.sql import SparkSession\n",
    "from pyspark.sql import functions as F\n",
    "from pyspark.sql import types as T\n",
    "from pyspark.sql import Window\n",
    "from pyspark.sql.functions import format_string, row_number, collect_list, to_date, month, year, broadcast, element_at, regexp_extract, udf, col, isnull, count, when, substring, coalesce, from_json, size, avg, expr, concat_ws\n",
    "from pyspark.sql.types import BooleanType, TimestampType, ArrayType, StringType, StructType, StructField, DoubleType, IntegerType, FloatType\n",
    "\n",
    "from functools import reduce\n",
    "from matplotlib.ticker import FuncFormatter\n",
    "from collections import Counter\n",
    "from datetime import datetime\n",
    "\n",
    "import shutil\n",
    "\n",
    "from concurrent.futures import ThreadPoolExecutor\n",
    "\n",
    "from sklearn.model_selection import train_test_split\n",
    "\n",
    "import math"
   ]
  },
  {
   "cell_type": "code",
   "execution_count": 2,
   "id": "1c3853b4",
   "metadata": {
    "ExecuteTime": {
     "end_time": "2023-10-18T01:32:14.559686Z",
     "start_time": "2023-10-18T01:32:05.552042Z"
    },
    "execution": {
     "iopub.execute_input": "2023-12-22T05:23:44.916506Z",
     "iopub.status.busy": "2023-12-22T05:23:44.915506Z",
     "iopub.status.idle": "2023-12-22T05:23:54.332489Z",
     "shell.execute_reply": "2023-12-22T05:23:54.332489Z",
     "shell.execute_reply.started": "2023-12-22T05:23:44.916506Z"
    },
    "tags": []
   },
   "outputs": [
    {
     "name": "stdout",
     "output_type": "stream",
     "text": [
      "Spark local directory: D:/spark_tmp\n"
     ]
    }
   ],
   "source": [
    "# 가상 환경의 Python 경로를 지정\n",
    "python_path = \"C:/Users/admin/anaconda3/envs/my_conda_01/python.exe\"\n",
    "\n",
    "# Spark 세션 생성\n",
    "spark = SparkSession.builder \\\n",
    "    .appName(\"voice_metadata integrating operation\") \\\n",
    "    .config(\"spark.driver.memory\", \"9g\") \\\n",
    "    .config(\"spark.executor.memory\", \"9g\") \\\n",
    "    .config(\"spark.driver.maxResultSize\", \"5g\") \\\n",
    "    .config(\"spark.pyspark.python\", python_path) \\\n",
    "    .config(\"spark.local.dir\", \"D:/spark_tmp\") \\\n",
    "    .getOrCreate()\n",
    "\n",
    "# SparkContext 가져오기\n",
    "sc = spark.sparkContext\n",
    "\n",
    "# Spark 중간 파일이 저장되는 경로 확인\n",
    "current_spark_local_dir = spark.conf.get(\"spark.local.dir\", \"Not Set\")\n",
    "print(\"Spark local directory:\", current_spark_local_dir)"
   ]
  },
  {
   "cell_type": "code",
   "execution_count": 3,
   "id": "1dd622a3",
   "metadata": {
    "ExecuteTime": {
     "end_time": "2023-10-18T01:32:19.926405Z",
     "start_time": "2023-10-18T01:32:17.343939Z"
    },
    "execution": {
     "iopub.execute_input": "2023-12-22T05:23:54.334490Z",
     "iopub.status.busy": "2023-12-22T05:23:54.333489Z",
     "iopub.status.idle": "2023-12-22T05:23:57.609413Z",
     "shell.execute_reply": "2023-12-22T05:23:57.609413Z",
     "shell.execute_reply.started": "2023-12-22T05:23:54.334490Z"
    },
    "tags": []
   },
   "outputs": [],
   "source": [
    "# Parquet 파일의 경로\n",
    "# file_path = 'D:\\\\DATA_PREPROCESS\\\\FIRESTORE_DATAS\\\\voice_metadata_parquet_231030_특성엔지니어링_수정후\\\\*.parquet'\n",
    "file_path = 'D:\\\\DATA_PREPROCESS\\\\FIRESTORE_DATAS\\\\voice_metadata_parquet_231205\\\\*.parquet'\n",
    "\n",
    "# Parquet 파일을 읽어서 DataFrame에 저장\n",
    "spark_df = spark.read.parquet(file_path)\n",
    "# df = pd.read_parquet(file_path, engine='pyarrow')"
   ]
  },
  {
   "cell_type": "code",
   "execution_count": 4,
   "id": "53dcaf4a",
   "metadata": {
    "ExecuteTime": {
     "end_time": "2023-10-18T01:32:23.526892Z",
     "start_time": "2023-10-18T01:32:23.498886Z"
    },
    "execution": {
     "iopub.execute_input": "2023-12-22T01:40:07.675741Z",
     "iopub.status.busy": "2023-12-22T01:40:07.675001Z",
     "iopub.status.idle": "2023-12-22T01:40:07.692691Z",
     "shell.execute_reply": "2023-12-22T01:40:07.692691Z",
     "shell.execute_reply.started": "2023-12-22T01:40:07.675741Z"
    },
    "tags": []
   },
   "outputs": [
    {
     "name": "stdout",
     "output_type": "stream",
     "text": [
      "root\n",
      " |-- ad_name: string (nullable = true)\n",
      " |-- user_id: string (nullable = true)\n",
      " |-- stt_text_array: array (nullable = true)\n",
      " |    |-- element: string (containsNull = true)\n",
      " |-- is_passed: string (nullable = true)\n",
      " |-- ad_script: string (nullable = true)\n",
      " |-- accuracy_array: array (nullable = true)\n",
      " |    |-- element: integer (containsNull = true)\n",
      " |-- created_timestamp_array: array (nullable = true)\n",
      " |    |-- element: string (containsNull = true)\n",
      " |-- ad_title: string (nullable = true)\n",
      " |-- job: string (nullable = true)\n",
      " |-- language: string (nullable = true)\n",
      " |-- perfect: double (nullable = true)\n",
      " |-- gender: string (nullable = true)\n",
      " |-- birth_year: string (nullable = true)\n",
      " |-- local_code: string (nullable = true)\n",
      " |-- excepted_age_array: string (nullable = true)\n",
      " |-- collection: string (nullable = true)\n",
      " |-- ad_duration: string (nullable = true)\n",
      " |-- level: string (nullable = true)\n",
      " |-- ad_link: string (nullable = true)\n",
      " |-- participant_count: integer (nullable = true)\n",
      " |-- average_accuracy_by_ad: double (nullable = true)\n",
      " |-- average_accuracy_by_user: double (nullable = true)\n",
      " |-- pass_rate_by_user: double (nullable = true)\n",
      " |-- pass_rate_by_ad: double (nullable = true)\n",
      " |-- text_length: integer (nullable = true)\n",
      " |-- try_count: integer (nullable = true)\n",
      " |-- user_avg_tries: double (nullable = true)\n",
      " |-- ad_avg_tries: double (nullable = true)\n",
      "\n"
     ]
    }
   ],
   "source": [
    "spark_df.printSchema()"
   ]
  },
  {
   "cell_type": "markdown",
   "id": "b1b96611-7640-4785-9252-838f2c9bafc2",
   "metadata": {},
   "source": [
    "11월 28일 이전\n",
    "root\n",
    " |-- ad_name: string (nullable = true)\n",
    " |-- attend: string (nullable = true)\n",
    " |-- is_passed: string (nullable = true)\n",
    " |-- ad_script: string (nullable = true)\n",
    " |-- ad_title: string (nullable = true)\n",
    " |-- birth_year: string (nullable = true)\n",
    " |-- local_code: string (nullable = true)\n",
    " |-- is_test: long (nullable = true)\n",
    " |-- gender: string (nullable = true)\n",
    " |-- job: string (nullable = true)\n",
    " |-- language: string (nullable = true)\n",
    " |-- perfect: double (nullable = true)\n",
    " |-- excepted_age_array: string (nullable = true)\n",
    " |-- collection: string (nullable = true)\n",
    " |-- ad_duration: string (nullable = true)\n",
    " |-- level: string (nullable = true)\n",
    " |-- participant_count: long (nullable = true)\n",
    " |-- accuracy_array: string (nullable = true)\n",
    " |-- stt_text_array: string (nullable = true)\n",
    " |-- created_timestamp_array: string (nullable = true)\n",
    " |-- average_accuracy_by_ad: double (nullable = true)\n",
    " |-- average_accuracy_by_user: double (nullable = true)\n",
    " |-- pass_rate_by_user: double (nullable = true)\n",
    " |-- pass_rate_by_ad: double (nullable = true)\n",
    " |-- text_length: long (nullable = true)\n",
    " |-- try_count: long (nullable = true)\n",
    " |-- user_avg_tries: double (nullable = true)\n",
    " |-- ad_avg_tries: double (nullable = true)\n",
    " |-- public_uid: string (nullable = true)\n",
    " |-- video_id: string (nullable = true)"
   ]
  },
  {
   "cell_type": "code",
   "execution_count": 4,
   "id": "eee9b0c8",
   "metadata": {
    "ExecuteTime": {
     "end_time": "2023-10-18T01:32:30.990862Z",
     "start_time": "2023-10-18T01:32:29.528832Z"
    },
    "execution": {
     "iopub.execute_input": "2023-12-22T05:24:07.872982Z",
     "iopub.status.busy": "2023-12-22T05:24:07.872982Z",
     "iopub.status.idle": "2023-12-22T05:24:10.018551Z",
     "shell.execute_reply": "2023-12-22T05:24:10.018551Z",
     "shell.execute_reply.started": "2023-12-22T05:24:07.872982Z"
    },
    "tags": []
   },
   "outputs": [
    {
     "name": "stdout",
     "output_type": "stream",
     "text": [
      "15803281\n"
     ]
    }
   ],
   "source": [
    "# 전체 행의 수 계산\n",
    "total_count = spark_df.count()\n",
    "print(total_count)"
   ]
  },
  {
   "cell_type": "markdown",
   "id": "45c0909a-02dc-42f0-bc8f-fd5853afc488",
   "metadata": {},
   "source": [
    "2023-11-28 기준  \n",
    "15406850행  \n",
    "  \n",
    "2023-12-05 기준  \n",
    "15803281행"
   ]
  },
  {
   "cell_type": "markdown",
   "id": "823633fd-411b-416a-afbe-58a4b115b0a2",
   "metadata": {},
   "source": [
    "# voice_id 생성"
   ]
  },
  {
   "cell_type": "code",
   "execution_count": 11,
   "id": "986290d9-7060-45f0-ab20-c2c792e498a4",
   "metadata": {
    "execution": {
     "iopub.execute_input": "2023-12-07T00:25:08.063254Z",
     "iopub.status.busy": "2023-12-07T00:25:08.063254Z",
     "iopub.status.idle": "2023-12-07T00:25:10.641028Z",
     "shell.execute_reply": "2023-12-07T00:25:10.640962Z",
     "shell.execute_reply.started": "2023-12-07T00:25:08.063254Z"
    }
   },
   "outputs": [
    {
     "name": "stdout",
     "output_type": "stream",
     "text": [
      "+----------------------------+---------------------------------------------+----------------+\n",
      "|user_id                     |ad_name                                      |voice_id        |\n",
      "+----------------------------+---------------------------------------------+----------------+\n",
      "|001OgxnNYgN2w7S7h39SI7h35G13|zhuyami- 슈크림 도어가 열립니다              |voice_0000000001|\n",
      "|001OgxnNYgN2w7S7h39SI7h35G13|녹음 할 때 꿀팁!                             |voice_0000000002|\n",
      "|001OgxnNYgN2w7S7h39SI7h35G13|보윙을 소개합니다                            |voice_0000000003|\n",
      "|001OgxnNYgN2w7S7h39SI7h35G13|보윙을 소개합니다                            |voice_0000000004|\n",
      "|001OgxnNYgN2w7S7h39SI7h35G13|보윙을 소개합니다                            |voice_0000000005|\n",
      "|002i5h6YScUhmsOXDDB57qZhJEE2|매출연동형 임대료 계약기반 공간서비스 플랫폼 |voice_0000000006|\n",
      "|003MZepVQAdiNf4F850AIOjEcay1|10분 안에 다시 타면 무료!                    |voice_0000000007|\n",
      "|003MZepVQAdiNf4F850AIOjEcay1|10분 안에 다시 타면 무료!                    |voice_0000000008|\n",
      "|003MZepVQAdiNf4F850AIOjEcay1|경기도미술관 이건희컬렉션 '사계'             |voice_0000000009|\n",
      "|003MZepVQAdiNf4F850AIOjEcay1|경기도미술관 이건희컬렉션 '사계'             |voice_0000000010|\n",
      "|003MZepVQAdiNf4F850AIOjEcay1|여섯 단어 소설                               |voice_0000000011|\n",
      "|003MZepVQAdiNf4F850AIOjEcay1|여섯 단어 소설                               |voice_0000000012|\n",
      "|003MZepVQAdiNf4F850AIOjEcay1|우리아이 황금응가를 위한 깐깐한 유산균 IPICKY|voice_0000000013|\n",
      "|003prDgR8vXLxEQ2urCvaUMrNCt2|'심근경색증' 미리 알고 예방하세요            |voice_0000000014|\n",
      "|003prDgR8vXLxEQ2urCvaUMrNCt2|2023 한강조각프로젝트 '한강을 걷다'          |voice_0000000015|\n",
      "|003prDgR8vXLxEQ2urCvaUMrNCt2|2023년 '을지 자유의 방패' 훈련 성공적 마무리 |voice_0000000016|\n",
      "|003prDgR8vXLxEQ2urCvaUMrNCt2|500만원 아끼는 프랑스여행 꿀팁               |voice_0000000017|\n",
      "|003prDgR8vXLxEQ2urCvaUMrNCt2|9월에 갈만한 국내 여행지 추천 ! -철원 고석정 |voice_0000000018|\n",
      "|003prDgR8vXLxEQ2urCvaUMrNCt2|9호선 출근시간 때 4회 증회로 혼잡 개선!      |voice_0000000019|\n",
      "|003prDgR8vXLxEQ2urCvaUMrNCt2|zhuyami- 슈크림 도어가 열립니다              |voice_0000000020|\n",
      "+----------------------------+---------------------------------------------+----------------+\n",
      "only showing top 20 rows\n",
      "\n"
     ]
    }
   ],
   "source": [
    "# 윈도우 정의: user_id와 ad_name 기준으로 데이터 정렬\n",
    "windowSpec = Window.orderBy(\"user_id\", \"ad_name\")\n",
    "\n",
    "# 순차적 ID 생성\n",
    "spark_df = spark_df.withColumn(\"row_id\", row_number().over(windowSpec))\n",
    "\n",
    "# voice_id 형식 지정 (예: voice_0000000001)\n",
    "spark_df = spark_df.withColumn(\"voice_id\", format_string(\"voice_%010d\", \"row_id\"))\n",
    "\n",
    "# 변경된 DataFrame 확인\n",
    "spark_df.select(\"user_id\", \"ad_name\", \"voice_id\").show(truncate=False)"
   ]
  },
  {
   "cell_type": "markdown",
   "id": "e6f0fead-d7aa-4b1c-a03c-ed8149edcbaa",
   "metadata": {},
   "source": [
    "voice_id가 반복적으로 같은 값들이 할당되는지 확인  \n",
    "-231207 기준  \n",
    "+----------------------------+---------------------------------------------+----------------+\r\n",
    "|user_id                     |ad_name                                      |voice_id        |\r\n",
    "+----------------------------+---------------------------------------------+----------------+\r\n",
    "|001OgxnNYgN2w7S7h39SI7h35G13|zhuyami- 슈크림 도어가 열립니다              |voice_0000000001|\r\n",
    "|001OgxnNYgN2w7S7h39SI7h35G13|녹음 할 때 꿀팁!                             |voice_0000000002|\r\n",
    "|001OgxnNYgN2w7S7h39SI7h35G13|보윙을 소개합니다                            |voice_0000000003|\r\n",
    "|001OgxnNYgN2w7S7h39SI7h35G13|보윙을 소개합니다                            |voice_0000000004|\r\n",
    "|001OgxnNYgN2w7S7h39SI7h35G13|보윙을 소개합니다                            |voice_0000000005|\r\n",
    "|002i5h6YScUhmsOXDDB57qZhJEE2|매출연동형 임대료 계약기반 공간서비스 플랫폼 |voice_0000000006|\r\n",
    "|003MZepVQAdiNf4F850AIOjEcay1|10분 안에 다시 타면 무료!                    |voice_0000000007|\r\n",
    "|003MZepVQAdiNf4F850AIOjEcay1|10분 안에 다시 타면 무료!                    |voice_0000000008|\r\n",
    "|003MZepVQAdiNf4F850AIOjEcay1|경기도미술관 이건희컬렉션 '사계'             |voice_0000000009|\r\n",
    "|003MZepVQAdiNf4F850AIOjEcay1|경기도미술관 이건희컬렉션 '사계'             |voice_0000000010|\r\n",
    "|003MZepVQAdiNf4F850AIOjEcay1|여섯 단어 소설                               |voice_0000000011|\r\n",
    "|003MZepVQAdiNf4F850AIOjEcay1|여섯 단어 소설                               |voice_0000000012|\r\n",
    "|003MZepVQAdiNf4F850AIOjEcay1|우리아이 황금응가를 위한 깐깐한 유산균 IPICKY|voice_0000000013|\r\n",
    "|003prDgR8vXLxEQ2urCvaUMrNCt2|'심근경색증' 미리 알고 예방하세요            |voice_0000000014|\r\n",
    "|003prDgR8vXLxEQ2urCvaUMrNCt2|2023 한강조각프로젝트 '한강을 걷다'          |voice_0000000015|\r\n",
    "|003prDgR8vXLxEQ2urCvaUMrNCt2|2023년 '을지 자유의 방패' 훈련 성공적 마무리 |voice_0000000016|\r\n",
    "|003prDgR8vXLxEQ2urCvaUMrNCt2|500만원 아끼는 프랑스여행 꿀팁               |voice_0000000017|\r\n",
    "|003prDgR8vXLxEQ2urCvaUMrNCt2|9월에 갈만한 국내 여행지 추천 ! -철원 고석정 |voice_0000000018|\r\n",
    "|003prDgR8vXLxEQ2urCvaUMrNCt2|9호선 출근시간 때 4회 증회로 혼잡 개선!      |voice_0000000019|\r\n",
    "|003prDgR8vXLxEQ2urCvaUMrNCt2|zhuyami- 슈크림 도어가 열립니다              |voice_0000000020|\r\n",
    "+----------------------------+---------------------------------------------+----------------+                                 "
   ]
  },
  {
   "cell_type": "markdown",
   "id": "546374d5-6792-4c0a-9766-54b132ac3b42",
   "metadata": {},
   "source": [
    "# 분할했던 df들 모두 가져와서 voice_id 컬럼 부여"
   ]
  },
  {
   "cell_type": "code",
   "execution_count": 12,
   "id": "461fddcb-e8b1-40ed-b32e-da066fe2e119",
   "metadata": {
    "execution": {
     "iopub.execute_input": "2023-12-07T00:31:12.617905Z",
     "iopub.status.busy": "2023-12-07T00:31:12.617905Z",
     "iopub.status.idle": "2023-12-07T00:31:30.834738Z",
     "shell.execute_reply": "2023-12-07T00:31:30.834738Z",
     "shell.execute_reply.started": "2023-12-07T00:31:12.617905Z"
    }
   },
   "outputs": [],
   "source": [
    "# july_train_min_file_path = \"D:/DATA_PREPROCESS/FIRESTORE_DATAS/android_VOICE_LABELING_FROM_7_TO_10/july_training_minutescript_labeling/*.json\"\n",
    "# july_train_word_file_path = \"D:/DATA_PREPROCESS/FIRESTORE_DATAS/android_VOICE_LABELING_FROM_7_TO_10/july_training_wordscript_labeling/*.json\"\n",
    "# july_val_min_file_path = \"D:/DATA_PREPROCESS/FIRESTORE_DATAS/android_VOICE_LABELING_FROM_7_TO_10/july_val_minutescript_labeling/*.json\"\n",
    "# july_val_word_file_path = \"D:/DATA_PREPROCESS/FIRESTORE_DATAS/android_VOICE_LABELING_FROM_7_TO_10/july_val_wordscript_labeling/*.json\"\n",
    "\n",
    "# july_train_min_df = spark.read.json(july_train_min_file_path)\n",
    "# july_train_word_df = spark.read.json(july_train_word_file_path)\n",
    "# july_val_min_df = spark.read.json(july_val_min_file_path)\n",
    "# july_val_word_df = spark.read.json(july_val_word_file_path)\n",
    "\n",
    "# august_train_min_file_path = \"D:/DATA_PREPROCESS/FIRESTORE_DATAS/android_VOICE_LABELING_FROM_7_TO_10/august_training_minutescript_labeling/*.json\"\n",
    "# august_train_word_file_path = \"D:/DATA_PREPROCESS/FIRESTORE_DATAS/android_VOICE_LABELING_FROM_7_TO_10/august_training_wordscript_labeling/*.json\"\n",
    "# august_val_min_file_path = \"D:/DATA_PREPROCESS/FIRESTORE_DATAS/android_VOICE_LABELING_FROM_7_TO_10/august_val_minutescript_labeling/*.json\"\n",
    "# august_val_word_file_path = \"D:/DATA_PREPROCESS/FIRESTORE_DATAS/android_VOICE_LABELING_FROM_7_TO_10/august_val_wordscript_labeling/*.json\"\n",
    "\n",
    "# august_train_min_df = spark.read.json(august_train_min_file_path)\n",
    "# august_train_word_df = spark.read.json(august_train_word_file_path)\n",
    "# august_val_min_df = spark.read.json(august_val_min_file_path)\n",
    "# august_val_word_df = spark.read.json(august_val_word_file_path)\n",
    "\n",
    "# september_train_min_file_path = \"D:/DATA_PREPROCESS/FIRESTORE_DATAS/android_VOICE_LABELING_FROM_7_TO_10/september_training_minutescript_labeling/*.json\"\n",
    "# september_train_word_file_path = \"D:/DATA_PREPROCESS/FIRESTORE_DATAS/android_VOICE_LABELING_FROM_7_TO_10/september_training_wordscript_labeling/*.json\"\n",
    "# september_val_min_file_path = \"D:/DATA_PREPROCESS/FIRESTORE_DATAS/android_VOICE_LABELING_FROM_7_TO_10/september_val_minutescript_labeling/*.json\"\n",
    "# september_val_word_file_path = \"D:/DATA_PREPROCESS/FIRESTORE_DATAS/android_VOICE_LABELING_FROM_7_TO_10/september_val_wordscript_labeling/*.json\"\n",
    "\n",
    "# september_train_min_df = spark.read.json(september_train_min_file_path)\n",
    "# september_train_word_df = spark.read.json(september_train_word_file_path)\n",
    "# september_val_min_df = spark.read.json(september_val_min_file_path)\n",
    "# september_val_word_df = spark.read.json(september_val_word_file_path)\n",
    "\n",
    "# october_train_min_file_path = \"D:/DATA_PREPROCESS/FIRESTORE_DATAS/android_VOICE_LABELING_FROM_7_TO_10/october_training_minutescript_labeling/*.json\"\n",
    "# october_train_word_file_path = \"D:/DATA_PREPROCESS/FIRESTORE_DATAS/android_VOICE_LABELING_FROM_7_TO_10/october_training_wordscript_labeling/*.json\"\n",
    "# october_val_min_file_path = \"D:/DATA_PREPROCESS/FIRESTORE_DATAS/android_VOICE_LABELING_FROM_7_TO_10/october_val_minutescript_labeling/*.json\"\n",
    "# october_val_word_file_path = \"D:/DATA_PREPROCESS/FIRESTORE_DATAS/android_VOICE_LABELING_FROM_7_TO_10/october_val_wordscript_labeling/*.json\"\n",
    "\n",
    "# october_train_min_df = spark.read.json(october_train_min_file_path)\n",
    "# october_train_word_df = spark.read.json(october_train_word_file_path)\n",
    "# october_val_min_df = spark.read.json(october_val_min_file_path)\n",
    "# october_val_word_df = spark.read.json(october_val_word_file_path)"
   ]
  },
  {
   "cell_type": "code",
   "execution_count": 13,
   "id": "e64c06c8-4bd1-4960-91bb-9afceafaf134",
   "metadata": {
    "execution": {
     "iopub.execute_input": "2023-12-07T00:35:27.163854Z",
     "iopub.status.busy": "2023-12-07T00:35:27.163854Z",
     "iopub.status.idle": "2023-12-07T00:35:27.216312Z",
     "shell.execute_reply": "2023-12-07T00:35:27.215313Z",
     "shell.execute_reply.started": "2023-12-07T00:35:27.163854Z"
    }
   },
   "outputs": [
    {
     "name": "stdout",
     "output_type": "stream",
     "text": [
      "root\n",
      " |-- user_id: string (nullable = true)\n",
      " |-- ad_name: string (nullable = true)\n",
      " |-- accuracy_array: array (nullable = true)\n",
      " |    |-- element: long (containsNull = true)\n",
      " |-- ad_avg_tries: double (nullable = true)\n",
      " |-- ad_duration: string (nullable = true)\n",
      " |-- ad_link: string (nullable = true)\n",
      " |-- ad_script: string (nullable = true)\n",
      " |-- ad_title: string (nullable = true)\n",
      " |-- average_accuracy_by_ad: double (nullable = true)\n",
      " |-- average_accuracy_by_user: double (nullable = true)\n",
      " |-- birth_year: string (nullable = true)\n",
      " |-- collection: string (nullable = true)\n",
      " |-- created_timestamp_array: array (nullable = true)\n",
      " |    |-- element: string (containsNull = true)\n",
      " |-- excepted_age_array: string (nullable = true)\n",
      " |-- first_created_date: long (nullable = true)\n",
      " |-- first_timestamp: string (nullable = true)\n",
      " |-- gender: string (nullable = true)\n",
      " |-- is_passed: string (nullable = true)\n",
      " |-- job: string (nullable = true)\n",
      " |-- language: string (nullable = true)\n",
      " |-- level: string (nullable = true)\n",
      " |-- local_code: string (nullable = true)\n",
      " |-- participant_count: double (nullable = true)\n",
      " |-- pass_rate_by_ad: double (nullable = true)\n",
      " |-- pass_rate_by_user: double (nullable = true)\n",
      " |-- perfect: double (nullable = true)\n",
      " |-- stt_text_array: array (nullable = true)\n",
      " |    |-- element: string (containsNull = true)\n",
      " |-- text_length: long (nullable = true)\n",
      " |-- try_count: long (nullable = true)\n",
      " |-- user_avg_tries: double (nullable = true)\n",
      " |-- voice_id: string (nullable = true)\n",
      "\n"
     ]
    }
   ],
   "source": [
    "# july_train_min_df와 spark_df를 조인하여 voice_id 추가\n",
    "july_train_min_df = july_train_min_df.join(spark_df.select(\"user_id\", \"ad_name\", \"voice_id\"), \n",
    "                                           on=[\"user_id\", \"ad_name\"], \n",
    "                                           how=\"left\")\n",
    "\n",
    "# 조인된 결과 확인\n",
    "july_train_min_df.printSchema()"
   ]
  },
  {
   "cell_type": "code",
   "execution_count": 17,
   "id": "95d7de28-6b1d-47bc-9ab0-22ced90744ec",
   "metadata": {
    "execution": {
     "iopub.execute_input": "2023-12-07T00:47:56.047571Z",
     "iopub.status.busy": "2023-12-07T00:47:56.047571Z",
     "iopub.status.idle": "2023-12-07T00:47:56.062703Z",
     "shell.execute_reply": "2023-12-07T00:47:56.062703Z",
     "shell.execute_reply.started": "2023-12-07T00:47:56.047571Z"
    },
    "scrolled": true
   },
   "outputs": [],
   "source": [
    "# july_train_min_df.show(truncate=False)"
   ]
  },
  {
   "cell_type": "code",
   "execution_count": 14,
   "id": "c23b323e-0905-487d-8519-4e6148037d2d",
   "metadata": {
    "execution": {
     "iopub.execute_input": "2023-12-07T00:37:54.885505Z",
     "iopub.status.busy": "2023-12-07T00:37:54.885505Z",
     "iopub.status.idle": "2023-12-07T00:37:55.143127Z",
     "shell.execute_reply": "2023-12-07T00:37:55.143127Z",
     "shell.execute_reply.started": "2023-12-07T00:37:54.885505Z"
    }
   },
   "outputs": [],
   "source": [
    "# july_train_word_df에 voice_id 추가\n",
    "july_train_word_df = july_train_word_df.join(spark_df.select(\"user_id\", \"ad_name\", \"voice_id\"), \n",
    "                                             on=[\"user_id\", \"ad_name\"], \n",
    "                                             how=\"left\")\n",
    "\n",
    "# july_val_min_df에 voice_id 추가\n",
    "july_val_min_df = july_val_min_df.join(spark_df.select(\"user_id\", \"ad_name\", \"voice_id\"), \n",
    "                                       on=[\"user_id\", \"ad_name\"], \n",
    "                                       how=\"left\")\n",
    "\n",
    "# july_val_word_df에 voice_id 추가\n",
    "july_val_word_df = july_val_word_df.join(spark_df.select(\"user_id\", \"ad_name\", \"voice_id\"), \n",
    "                                         on=[\"user_id\", \"ad_name\"], \n",
    "                                         how=\"left\")\n",
    "\n",
    "# august_train_min_df에 voice_id 추가\n",
    "august_train_min_df = august_train_min_df.join(spark_df.select(\"user_id\", \"ad_name\", \"voice_id\"), \n",
    "                                               on=[\"user_id\", \"ad_name\"], \n",
    "                                               how=\"left\")\n",
    "\n",
    "# august_train_word_df에 voice_id 추가\n",
    "august_train_word_df = august_train_word_df.join(spark_df.select(\"user_id\", \"ad_name\", \"voice_id\"), \n",
    "                                                 on=[\"user_id\", \"ad_name\"], \n",
    "                                                 how=\"left\")\n",
    "\n",
    "# august_val_min_df에 voice_id 추가\n",
    "august_val_min_df = august_val_min_df.join(spark_df.select(\"user_id\", \"ad_name\", \"voice_id\"), \n",
    "                                           on=[\"user_id\", \"ad_name\"], \n",
    "                                           how=\"left\")\n",
    "\n",
    "# august_val_word_df에 voice_id 추가\n",
    "august_val_word_df = august_val_word_df.join(spark_df.select(\"user_id\", \"ad_name\", \"voice_id\"), \n",
    "                                             on=[\"user_id\", \"ad_name\"], \n",
    "                                             how=\"left\")\n",
    "\n",
    "# september_train_min_df에 voice_id 추가\n",
    "september_train_min_df = september_train_min_df.join(spark_df.select(\"user_id\", \"ad_name\", \"voice_id\"), \n",
    "                                                     on=[\"user_id\", \"ad_name\"], \n",
    "                                                     how=\"left\")\n",
    "\n",
    "# september_train_word_df에 voice_id 추가\n",
    "september_train_word_df = september_train_word_df.join(spark_df.select(\"user_id\", \"ad_name\", \"voice_id\"), \n",
    "                                                       on=[\"user_id\", \"ad_name\"], \n",
    "                                                       how=\"left\")\n",
    "\n",
    "# september_val_min_df에 voice_id 추가\n",
    "september_val_min_df = september_val_min_df.join(spark_df.select(\"user_id\", \"ad_name\", \"voice_id\"), \n",
    "                                                 on=[\"user_id\", \"ad_name\"], \n",
    "                                                 how=\"left\")\n",
    "\n",
    "# september_val_word_df에 voice_id 추가\n",
    "september_val_word_df = september_val_word_df.join(spark_df.select(\"user_id\", \"ad_name\", \"voice_id\"), \n",
    "                                                   on=[\"user_id\", \"ad_name\"], \n",
    "                                                   how=\"left\")\n",
    "\n",
    "# october_train_min_df에 voice_id 추가\n",
    "october_train_min_df = october_train_min_df.join(spark_df.select(\"user_id\", \"ad_name\", \"voice_id\"), \n",
    "                                                 on=[\"user_id\", \"ad_name\"], \n",
    "                                                 how=\"left\")\n",
    "\n",
    "# october_train_word_df에 voice_id 추가\n",
    "october_train_word_df = october_train_word_df.join(spark_df.select(\"user_id\", \"ad_name\", \"voice_id\"), \n",
    "                                                   on=[\"user_id\", \"ad_name\"], \n",
    "                                                   how=\"left\")\n",
    "\n",
    "# october_val_min_df에 voice_id 추가\n",
    "october_val_min_df = october_val_min_df.join(spark_df.select(\"user_id\", \"ad_name\", \"voice_id\"), \n",
    "                                             on=[\"user_id\", \"ad_name\"], \n",
    "                                             how=\"left\")\n",
    "\n",
    "# october_val_word_df에 voice_id 추가\n",
    "october_val_word_df = october_val_word_df.join(spark_df.select(\"user_id\", \"ad_name\", \"voice_id\"), \n",
    "                                               on=[\"user_id\", \"ad_name\"], \n",
    "                                               how=\"left\")\n"
   ]
  },
  {
   "cell_type": "markdown",
   "id": "5625c475-395c-4348-bb2e-644a3777b0d1",
   "metadata": {
    "jp-MarkdownHeadingCollapsed": true
   },
   "source": [
    "# 분할했던 df들 다시 본래 위치에 저장"
   ]
  },
  {
   "cell_type": "code",
   "execution_count": 16,
   "id": "9d740dab-bc2f-4bd8-b844-64d45639b562",
   "metadata": {
    "execution": {
     "iopub.execute_input": "2023-12-07T00:46:51.181026Z",
     "iopub.status.busy": "2023-12-07T00:46:51.181026Z",
     "iopub.status.idle": "2023-12-07T00:47:55.880030Z",
     "shell.execute_reply": "2023-12-07T00:47:55.880030Z",
     "shell.execute_reply.started": "2023-12-07T00:46:51.181026Z"
    }
   },
   "outputs": [],
   "source": [
    "# july_train_min_df를 JSON 형식으로 저장\n",
    "july_train_min_df.write.mode(\"overwrite\").json(\"D:/DATA_PREPROCESS/FIRESTORE_DATAS/android_VOICE_LABELING_FROM_7_TO_10/july_training_minutescript_labeling/\")"
   ]
  },
  {
   "cell_type": "code",
   "execution_count": 19,
   "id": "2731b363-8dc2-4a6a-8731-47e6bc7e9437",
   "metadata": {
    "execution": {
     "iopub.execute_input": "2023-12-07T00:51:00.321608Z",
     "iopub.status.busy": "2023-12-07T00:51:00.321608Z",
     "iopub.status.idle": "2023-12-07T01:07:06.212382Z",
     "shell.execute_reply": "2023-12-07T01:07:06.212382Z",
     "shell.execute_reply.started": "2023-12-07T00:51:00.321608Z"
    }
   },
   "outputs": [],
   "source": [
    "# july_train_word_df 저장\n",
    "july_train_word_df.write.mode(\"overwrite\").json(\"D:/DATA_PREPROCESS/FIRESTORE_DATAS/android_VOICE_LABELING_FROM_7_TO_10/july_training_wordscript_labeling/\")\n",
    "# july_val_min_df 저장\n",
    "july_val_min_df.write.mode(\"overwrite\").json(\"D:/DATA_PREPROCESS/FIRESTORE_DATAS/android_VOICE_LABELING_FROM_7_TO_10/july_val_minutescript_labeling/\")\n",
    "# july_val_word_df 저장\n",
    "july_val_word_df.write.mode(\"overwrite\").json(\"D:/DATA_PREPROCESS/FIRESTORE_DATAS/android_VOICE_LABELING_FROM_7_TO_10/july_val_wordscript_labeling/\")\n",
    "\n",
    "\n",
    "# august_train_min_df 저장\n",
    "august_train_min_df.write.mode(\"overwrite\").json(\"D:/DATA_PREPROCESS/FIRESTORE_DATAS/android_VOICE_LABELING_FROM_7_TO_10/august_training_minutescript_labeling/\")\n",
    "# august_train_word_df 저장\n",
    "august_train_word_df.write.mode(\"overwrite\").json(\"D:/DATA_PREPROCESS/FIRESTORE_DATAS/android_VOICE_LABELING_FROM_7_TO_10/august_training_wordscript_labeling/\")\n",
    "# august_val_min_df 저장\n",
    "august_val_min_df.write.mode(\"overwrite\").json(\"D:/DATA_PREPROCESS/FIRESTORE_DATAS/android_VOICE_LABELING_FROM_7_TO_10/august_val_minutescript_labeling/\")\n",
    "# august_val_word_df 저장\n",
    "august_val_word_df.write.mode(\"overwrite\").json(\"D:/DATA_PREPROCESS/FIRESTORE_DATAS/android_VOICE_LABELING_FROM_7_TO_10/august_val_wordscript_labeling/\")\n",
    "\n",
    "\n",
    "# september_train_min_df 저장\n",
    "september_train_min_df.write.mode(\"overwrite\").json(\"D:/DATA_PREPROCESS/FIRESTORE_DATAS/android_VOICE_LABELING_FROM_7_TO_10/september_training_minutescript_labeling/\")\n",
    "# september_train_word_df 저장\n",
    "september_train_word_df.write.mode(\"overwrite\").json(\"D:/DATA_PREPROCESS/FIRESTORE_DATAS/android_VOICE_LABELING_FROM_7_TO_10/september_training_wordscript_labeling/\")\n",
    "# september_val_min_df 저장\n",
    "september_val_min_df.write.mode(\"overwrite\").json(\"D:/DATA_PREPROCESS/FIRESTORE_DATAS/android_VOICE_LABELING_FROM_7_TO_10/september_val_minutescript_labeling/\")\n",
    "# september_val_word_df 저장\n",
    "september_val_word_df.write.mode(\"overwrite\").json(\"D:/DATA_PREPROCESS/FIRESTORE_DATAS/android_VOICE_LABELING_FROM_7_TO_10/september_val_wordscript_labeling/\")\n",
    "\n",
    "\n",
    "# october_train_min_df 저장\n",
    "october_train_min_df.write.mode(\"overwrite\").json(\"D:/DATA_PREPROCESS/FIRESTORE_DATAS/android_VOICE_LABELING_FROM_7_TO_10/october_training_minutescript_labeling/\")\n",
    "# october_train_word_df 저장\n",
    "october_train_word_df.write.mode(\"overwrite\").json(\"D:/DATA_PREPROCESS/FIRESTORE_DATAS/android_VOICE_LABELING_FROM_7_TO_10/october_training_wordscript_labeling/\")\n",
    "# october_val_min_df 저장\n",
    "october_val_min_df.write.mode(\"overwrite\").json(\"D:/DATA_PREPROCESS/FIRESTORE_DATAS/android_VOICE_LABELING_FROM_7_TO_10/october_val_minutescript_labeling/\")\n",
    "# october_val_word_df 저장\n",
    "october_val_word_df.write.mode(\"overwrite\").json(\"D:/DATA_PREPROCESS/FIRESTORE_DATAS/android_VOICE_LABELING_FROM_7_TO_10/october_val_wordscript_labeling/\")"
   ]
  },
  {
   "cell_type": "code",
   "execution_count": null,
   "id": "0bc0e5f5-b577-4a57-82fc-5ce57b3cda38",
   "metadata": {},
   "outputs": [],
   "source": []
  },
  {
   "cell_type": "code",
   "execution_count": null,
   "id": "fd278e6f-14c7-47b7-997c-47c8e8e88296",
   "metadata": {},
   "outputs": [],
   "source": []
  },
  {
   "cell_type": "markdown",
   "id": "d0aaa2d3-5365-431c-8883-78ddcb35b5e7",
   "metadata": {
    "jp-MarkdownHeadingCollapsed": true
   },
   "source": [
    "# Dataframe 정합성 체크"
   ]
  },
  {
   "cell_type": "code",
   "execution_count": 6,
   "id": "bdef010d-6949-4fe2-a241-fcaf7206b772",
   "metadata": {
    "execution": {
     "iopub.execute_input": "2023-12-05T02:11:41.268896Z",
     "iopub.status.busy": "2023-12-05T02:11:41.266176Z",
     "iopub.status.idle": "2023-12-05T02:11:42.509894Z",
     "shell.execute_reply": "2023-12-05T02:11:42.508892Z",
     "shell.execute_reply.started": "2023-12-05T02:11:41.268896Z"
    }
   },
   "outputs": [
    {
     "data": {
      "text/plain": [
       "98.30237151386476"
      ]
     },
     "execution_count": 6,
     "metadata": {},
     "output_type": "execute_result"
    }
   ],
   "source": [
    "# 'birth_year' 값이 있는 행의 수 계산\n",
    "birth_year_present_count = spark_df.filter(col(\"birth_year\").isNotNull()).count()\n",
    "\n",
    "# 비율 계산\n",
    "percentage_with_birth_year = (birth_year_present_count / total_count) * 100\n",
    "\n",
    "percentage_with_birth_year"
   ]
  },
  {
   "cell_type": "markdown",
   "id": "156d57eb-a02f-40c7-a92b-4f5f0c71c182",
   "metadata": {
    "jp-MarkdownHeadingCollapsed": true
   },
   "source": [
    "# 달별로 데이터 분리"
   ]
  },
  {
   "cell_type": "code",
   "execution_count": 18,
   "id": "5239348c-4f90-4d6f-b06d-4ab2e731b97a",
   "metadata": {
    "execution": {
     "iopub.execute_input": "2023-11-28T09:02:43.912220Z",
     "iopub.status.busy": "2023-11-28T09:02:43.912220Z",
     "iopub.status.idle": "2023-11-28T09:02:43.927846Z",
     "shell.execute_reply": "2023-11-28T09:02:43.927846Z",
     "shell.execute_reply.started": "2023-11-28T09:02:43.912220Z"
    }
   },
   "outputs": [],
   "source": [
    "# # 오전/오후 및 24시간제를 처리하는 함수\n",
    "# def convert_time_format(ts):\n",
    "#     # '오후'가 있고 시간이 12보다 큰 경우 12를 빼준다\n",
    "#     if \"오후\" in ts and int(ts.split()[2].split('시')[0]) > 12:\n",
    "#         hour = int(ts.split()[2].split('시')[0]) - 12\n",
    "#         ts = ts.replace(ts.split()[2], f\"{hour}시\")\n",
    "#     return ts.replace(\"오전\", \"AM\").replace(\"오후\", \"PM\")\n",
    "\n",
    "# # UDF 정의: 문자열 배열을 타임스탬프 배열로 변환\n",
    "# def to_timestamp_array(timestamps):\n",
    "#     converted_timestamps = [convert_time_format(ts) for ts in timestamps if ts]\n",
    "#     return [datetime.datetime.strptime(ts, \"%y.%m.%d %p %I시 %M분\") for ts in converted_timestamps]\n",
    "\n",
    "# # UDF 등록\n",
    "# to_timestamp_array_udf = udf(to_timestamp_array, ArrayType(TimestampType()))\n",
    "\n",
    "# # 새로운 컬럼을 추가하여 변환 적용\n",
    "# spark_df = spark_df.withColumn(\"created_timestamp_array\", to_timestamp_array_udf(col(\"created_timestamp_array\")))\n",
    "\n",
    "# # 변경된 컬럼의 내용 확인\n",
    "# spark_df.select(\"created_timestamp_array\").show(truncate=False)"
   ]
  },
  {
   "cell_type": "code",
   "execution_count": 5,
   "id": "da359091-9bfb-48fe-9c94-e1f7ca9ebb49",
   "metadata": {
    "execution": {
     "iopub.execute_input": "2023-12-22T05:24:52.759981Z",
     "iopub.status.busy": "2023-12-22T05:24:52.759981Z",
     "iopub.status.idle": "2023-12-22T05:24:52.968288Z",
     "shell.execute_reply": "2023-12-22T05:24:52.968288Z",
     "shell.execute_reply.started": "2023-12-22T05:24:52.759981Z"
    }
   },
   "outputs": [],
   "source": [
    "# 'created_timestamp_array'에서 첫 번째 요소를 가져옵니다.\n",
    "spark_df = spark_df.withColumn('first_timestamp', element_at(spark_df['created_timestamp_array'], 1))\n",
    "\n",
    "# 첫 번째 요소에서 날짜를 추출합니다.\n",
    "spark_df = spark_df.withColumn(\n",
    "    'first_created_date', \n",
    "    regexp_extract(col('first_timestamp'), r\"(\\d{2}\\.\\d{2}\\.\\d{2})\", 1)\n",
    ")\n",
    "\n",
    "# 날짜 형식으로 변환합니다 (예: '23.06.06' -> '2023-06-06').\n",
    "spark_df = spark_df.withColumn(\n",
    "    'first_created_date', \n",
    "    F.expr(\"concat('20', substring(first_created_date, 1, 2), '-', substring(first_created_date, 4, 2), '-', substring(first_created_date, 7, 2))\")\n",
    ")\n",
    "\n",
    "# 날짜를 기준으로 DataFrame 정렬합니다.\n",
    "spark_df = spark_df.sort('first_created_date')"
   ]
  },
  {
   "cell_type": "code",
   "execution_count": 6,
   "id": "676ec89c-b97a-4f8f-bd34-3ceec569edc7",
   "metadata": {
    "execution": {
     "iopub.execute_input": "2023-12-22T05:24:56.439467Z",
     "iopub.status.busy": "2023-12-22T05:24:56.439467Z",
     "iopub.status.idle": "2023-12-22T05:24:56.509217Z",
     "shell.execute_reply": "2023-12-22T05:24:56.509217Z",
     "shell.execute_reply.started": "2023-12-22T05:24:56.439467Z"
    }
   },
   "outputs": [],
   "source": [
    "# 'first_created_date' 컬럼을 날짜 형식으로 변환\n",
    "spark_df = spark_df.withColumn(\"first_created_date\", to_date(col(\"first_created_date\"), \"yyyy-MM-dd\"))\n",
    "\n",
    "# 각 월에 해당하는 데이터를 필터링하여 별도의 DataFrame에 저장\n",
    "df_july = spark_df.filter((year(col(\"first_created_date\")) == 2023) & (month(col(\"first_created_date\")) == 7))\n",
    "df_august = spark_df.filter((year(col(\"first_created_date\")) == 2023) & (month(col(\"first_created_date\")) == 8))\n",
    "df_september = spark_df.filter((year(col(\"first_created_date\")) == 2023) & (month(col(\"first_created_date\")) == 9))\n",
    "df_october = spark_df.filter((year(col(\"first_created_date\")) == 2023) & (month(col(\"first_created_date\")) == 10))\n",
    "df_november = spark_df.filter((year(col(\"first_created_date\")) == 2023) & (month(col(\"first_created_date\")) == 11))"
   ]
  },
  {
   "cell_type": "code",
   "execution_count": 8,
   "id": "98c886ec-286a-4b92-929d-b7cfb59d8660",
   "metadata": {
    "execution": {
     "iopub.execute_input": "2023-12-22T01:41:29.392108Z",
     "iopub.status.busy": "2023-12-22T01:41:29.392108Z",
     "iopub.status.idle": "2023-12-22T01:42:24.340030Z",
     "shell.execute_reply": "2023-12-22T01:42:24.340030Z",
     "shell.execute_reply.started": "2023-12-22T01:41:29.392108Z"
    }
   },
   "outputs": [
    {
     "name": "stdout",
     "output_type": "stream",
     "text": [
      "7월 데이터 개수: 2193472\n",
      "8월 데이터 개수: 2676335\n",
      "9월 데이터 개수: 3200875\n",
      "10월 데이터 개수: 3176340\n",
      "11월 데이터 개수: 609188\n"
     ]
    }
   ],
   "source": [
    "print(f\"7월 데이터 개수: {df_july.count()}\")\n",
    "print(f\"8월 데이터 개수: {df_august.count()}\")\n",
    "print(f\"9월 데이터 개수: {df_september.count()}\")\n",
    "print(f\"10월 데이터 개수: {df_october.count()}\")\n",
    "print(f\"11월 데이터 개수: {df_november.count()}\")"
   ]
  },
  {
   "cell_type": "markdown",
   "id": "10f4b385-89bf-440d-bc65-45debe12ba22",
   "metadata": {
    "jp-MarkdownHeadingCollapsed": true
   },
   "source": [
    "## 검증코드: 포인트벌기, 암기플러스 분리"
   ]
  },
  {
   "cell_type": "code",
   "execution_count": 9,
   "id": "3fd66daa-6640-467b-bd8f-a83225ece6d7",
   "metadata": {
    "execution": {
     "iopub.execute_input": "2023-12-22T03:15:36.065243Z",
     "iopub.status.busy": "2023-12-22T03:15:36.065243Z",
     "iopub.status.idle": "2023-12-22T03:15:36.080523Z",
     "shell.execute_reply": "2023-12-22T03:15:36.080523Z",
     "shell.execute_reply.started": "2023-12-22T03:15:36.065243Z"
    }
   },
   "outputs": [
    {
     "name": "stdout",
     "output_type": "stream",
     "text": [
      "root\n",
      " |-- ad_name: string (nullable = true)\n",
      " |-- user_id: string (nullable = true)\n",
      " |-- stt_text_array: array (nullable = true)\n",
      " |    |-- element: string (containsNull = true)\n",
      " |-- is_passed: string (nullable = true)\n",
      " |-- ad_script: string (nullable = true)\n",
      " |-- accuracy_array: array (nullable = true)\n",
      " |    |-- element: integer (containsNull = true)\n",
      " |-- created_timestamp_array: array (nullable = true)\n",
      " |    |-- element: string (containsNull = true)\n",
      " |-- ad_title: string (nullable = true)\n",
      " |-- job: string (nullable = true)\n",
      " |-- language: string (nullable = true)\n",
      " |-- perfect: double (nullable = true)\n",
      " |-- gender: string (nullable = true)\n",
      " |-- birth_year: string (nullable = true)\n",
      " |-- local_code: string (nullable = true)\n",
      " |-- excepted_age_array: string (nullable = true)\n",
      " |-- collection: string (nullable = true)\n",
      " |-- ad_duration: string (nullable = true)\n",
      " |-- level: string (nullable = true)\n",
      " |-- ad_link: string (nullable = true)\n",
      " |-- participant_count: integer (nullable = true)\n",
      " |-- average_accuracy_by_ad: double (nullable = true)\n",
      " |-- average_accuracy_by_user: double (nullable = true)\n",
      " |-- pass_rate_by_user: double (nullable = true)\n",
      " |-- pass_rate_by_ad: double (nullable = true)\n",
      " |-- text_length: integer (nullable = true)\n",
      " |-- try_count: integer (nullable = true)\n",
      " |-- user_avg_tries: double (nullable = true)\n",
      " |-- ad_avg_tries: double (nullable = true)\n",
      " |-- first_timestamp: string (nullable = true)\n",
      " |-- first_created_date: date (nullable = true)\n",
      "\n"
     ]
    }
   ],
   "source": [
    "df_july.printSchema()"
   ]
  },
  {
   "cell_type": "code",
   "execution_count": 10,
   "id": "6b9a5c81-079b-4bc2-b0e7-618af43f906c",
   "metadata": {
    "execution": {
     "iopub.execute_input": "2023-12-22T03:17:53.876447Z",
     "iopub.status.busy": "2023-12-22T03:17:53.876447Z",
     "iopub.status.idle": "2023-12-22T03:17:53.899374Z",
     "shell.execute_reply": "2023-12-22T03:17:53.899374Z",
     "shell.execute_reply.started": "2023-12-22T03:17:53.876447Z"
    }
   },
   "outputs": [],
   "source": [
    "df_july_point = df_july.filter(col(\"collection\") == \"Point\")\n",
    "df_july_memor = df_july.filter(col(\"collection\") != \"Point\")"
   ]
  },
  {
   "cell_type": "code",
   "execution_count": 11,
   "id": "3c5281b9-32b1-4259-913d-b60333bdd836",
   "metadata": {
    "execution": {
     "iopub.execute_input": "2023-12-22T03:18:04.223098Z",
     "iopub.status.busy": "2023-12-22T03:18:04.223098Z",
     "iopub.status.idle": "2023-12-22T03:18:15.569343Z",
     "shell.execute_reply": "2023-12-22T03:18:15.569343Z",
     "shell.execute_reply.started": "2023-12-22T03:18:04.223098Z"
    }
   },
   "outputs": [
    {
     "data": {
      "text/plain": [
       "328307"
      ]
     },
     "execution_count": 11,
     "metadata": {},
     "output_type": "execute_result"
    }
   ],
   "source": [
    "df_july_point.count()"
   ]
  },
  {
   "cell_type": "code",
   "execution_count": 12,
   "id": "110414eb-0d0c-41cd-9c99-1a0ab1e51310",
   "metadata": {
    "execution": {
     "iopub.execute_input": "2023-12-22T03:18:34.583640Z",
     "iopub.status.busy": "2023-12-22T03:18:34.583640Z",
     "iopub.status.idle": "2023-12-22T03:18:45.311903Z",
     "shell.execute_reply": "2023-12-22T03:18:45.311903Z",
     "shell.execute_reply.started": "2023-12-22T03:18:34.583640Z"
    }
   },
   "outputs": [
    {
     "data": {
      "text/plain": [
       "1865165"
      ]
     },
     "execution_count": 12,
     "metadata": {},
     "output_type": "execute_result"
    }
   ],
   "source": [
    "df_july_memor.count()"
   ]
  },
  {
   "cell_type": "markdown",
   "id": "6dd74851-4745-4a54-829a-22a03a53c9c8",
   "metadata": {},
   "source": [
    "integrated_join_operation.ipynb에서 작업한 result_df의 저장 parquet에는 오류가 없다 (23-12-22-12:23)  \n"
   ]
  },
  {
   "cell_type": "code",
   "execution_count": null,
   "id": "d312ed93-5f93-4d82-9966-f22c196c69c6",
   "metadata": {},
   "outputs": [],
   "source": []
  },
  {
   "cell_type": "code",
   "execution_count": null,
   "id": "947b6552-4d65-4f0b-8449-45cb19f031a8",
   "metadata": {},
   "outputs": [],
   "source": []
  },
  {
   "cell_type": "code",
   "execution_count": null,
   "id": "6c0718bf-d7e0-47ff-92eb-f12ed5a10ba6",
   "metadata": {},
   "outputs": [],
   "source": []
  },
  {
   "cell_type": "code",
   "execution_count": null,
   "id": "0f0aa049-785c-4329-893b-8dab19447384",
   "metadata": {},
   "outputs": [],
   "source": []
  },
  {
   "cell_type": "markdown",
   "id": "4127ba70-de96-4ce9-b47d-fb9e4bf673bb",
   "metadata": {},
   "source": [
    "# DataFrame을 트레이닝 세트와 검증 세트로 분할 then DataFrame을 포인트벌기와 암기플러스 각각으로 분할 -> 각각을 로컬에 저장\n",
    "\n",
    "현재는 작업기한이 타이트하여 단순분할을 했지만(231206)  \n",
    "작업시간이 생기면 sklearn의 '입력 특성', '타깃 변수' 등을 정의하여 좀 더 모델에 맞춘 세트 분할을 시도  "
   ]
  },
  {
   "cell_type": "markdown",
   "id": "abd3c46d-6924-4812-9b10-0490b0a28951",
   "metadata": {},
   "source": [
    "## DataFrame을 트레이닝 세트와 검증 세트로 분할"
   ]
  },
  {
   "cell_type": "code",
   "execution_count": 7,
   "id": "76d741f1-f7c9-417e-99eb-801d333280c9",
   "metadata": {
    "execution": {
     "iopub.execute_input": "2023-12-22T05:25:30.663922Z",
     "iopub.status.busy": "2023-12-22T05:25:30.663922Z",
     "iopub.status.idle": "2023-12-22T05:25:30.670690Z",
     "shell.execute_reply": "2023-12-22T05:25:30.670690Z",
     "shell.execute_reply.started": "2023-12-22T05:25:30.663922Z"
    }
   },
   "outputs": [],
   "source": [
    "# PySpark DataFrame을 Pandas DataFrame으로 변환하는 함수\n",
    "def split_dataframe(spark_df, test_size=0.25):\n",
    "    # PySpark DataFrame을 Pandas DataFrame으로 변환\n",
    "    pandas_df = spark_df.toPandas()\n",
    "    \n",
    "    # train_test_split 함수를 사용해 데이터 분할\n",
    "    train_df, val_df = train_test_split(pandas_df, test_size=test_size, random_state=42)\n",
    "    \n",
    "    return train_df, val_df"
   ]
  },
  {
   "cell_type": "code",
   "execution_count": 8,
   "id": "a6f42d19-4d71-4dd8-a4c1-52ab0141fe73",
   "metadata": {
    "execution": {
     "iopub.execute_input": "2023-12-22T05:25:45.479167Z",
     "iopub.status.busy": "2023-12-22T05:25:45.479167Z",
     "iopub.status.idle": "2023-12-22T05:38:09.638565Z",
     "shell.execute_reply": "2023-12-22T05:38:09.632564Z",
     "shell.execute_reply.started": "2023-12-22T05:25:45.479167Z"
    }
   },
   "outputs": [],
   "source": [
    "# 각 월별 DataFrame을 분할\n",
    "df_july_train, df_july_val = split_dataframe(df_july)\n",
    "df_august_train, df_august_val = split_dataframe(df_august)\n",
    "df_september_train, df_september_val = split_dataframe(df_september)\n",
    "df_october_train, df_october_val = split_dataframe(df_october)\n",
    "df_november_train, df_november_val = split_dataframe(df_november)"
   ]
  },
  {
   "cell_type": "code",
   "execution_count": 15,
   "id": "6f7aa55f-f3f6-4594-9c62-0b678121082c",
   "metadata": {
    "execution": {
     "iopub.execute_input": "2023-12-22T03:42:42.510519Z",
     "iopub.status.busy": "2023-12-22T03:42:42.509519Z",
     "iopub.status.idle": "2023-12-22T03:42:42.538477Z",
     "shell.execute_reply": "2023-12-22T03:42:42.538477Z",
     "shell.execute_reply.started": "2023-12-22T03:42:42.510519Z"
    }
   },
   "outputs": [
    {
     "name": "stdout",
     "output_type": "stream",
     "text": [
      "df_july_train 개수: 1645104\n",
      "df_july_val 개수: 548368\n"
     ]
    }
   ],
   "source": [
    "print(\"df_july_train 개수:\", len(df_july_train))\n",
    "print(\"df_july_val 개수:\", len(df_july_val))"
   ]
  },
  {
   "cell_type": "markdown",
   "id": "f7cbcde5-1aa2-4a15-a704-2f0b94cc97b4",
   "metadata": {},
   "source": [
    "-231206기준-  \n",
    "df_july_train 개수: 1645104  \r\n",
    "df_july_val 개수: 54838  \n",
    " \n",
    "-231222기준-  \n",
    "위와 동8"
   ]
  },
  {
   "cell_type": "markdown",
   "id": "52519ad5-6e4b-4e02-8dd7-c549f77bbb76",
   "metadata": {},
   "source": [
    "## DataFrame을 포인트벌기와 암기플러스 각각으로 분할"
   ]
  },
  {
   "cell_type": "code",
   "execution_count": 9,
   "id": "700c7cac-9da5-4888-bab0-ddcdc6ac960d",
   "metadata": {
    "execution": {
     "iopub.execute_input": "2023-12-22T05:38:09.650635Z",
     "iopub.status.busy": "2023-12-22T05:38:09.649634Z",
     "iopub.status.idle": "2023-12-22T05:43:29.701300Z",
     "shell.execute_reply": "2023-12-22T05:43:29.694299Z",
     "shell.execute_reply.started": "2023-12-22T05:38:09.650635Z"
    }
   },
   "outputs": [],
   "source": [
    "# df_july_train DataFrame을 Point와 Memorization으로 필터링\n",
    "df_july_train_point = df_july_train[df_july_train['collection'] == 'Point']\n",
    "df_july_train_memo = df_july_train[df_july_train['collection'] == 'Memorization']\n",
    "\n",
    "# df_august_train DataFrame을 Point와 Memorization으로 필터링\n",
    "df_august_train_point = df_august_train[df_august_train['collection'] == 'Point']\n",
    "df_august_train_memo = df_august_train[df_august_train['collection'] == 'Memorization']\n",
    "\n",
    "# df_september_train DataFrame을 Point와 Memorization으로 필터링\n",
    "df_september_train_point = df_september_train[df_september_train['collection'] == 'Point']\n",
    "df_september_train_memo = df_september_train[df_september_train['collection'] == 'Memorization']\n",
    "\n",
    "# df_october_train DataFrame을 Point와 Memorization으로 필터링\n",
    "df_october_train_point = df_october_train[df_october_train['collection'] == 'Point']\n",
    "df_october_train_memo = df_october_train[df_october_train['collection'] == 'Memorization']\n",
    "\n",
    "# df_november_train DataFrame을 Point와 Memorization으로 필터링\n",
    "df_november_train_point = df_november_train[df_november_train['collection'] == 'Point']\n",
    "df_november_train_memo = df_november_train[df_november_train['collection'] == 'Memorization']"
   ]
  },
  {
   "cell_type": "code",
   "execution_count": 10,
   "id": "32170152-5789-4993-8959-876d310aee7e",
   "metadata": {
    "execution": {
     "iopub.execute_input": "2023-12-22T05:43:29.709686Z",
     "iopub.status.busy": "2023-12-22T05:43:29.708685Z",
     "iopub.status.idle": "2023-12-22T05:46:44.997693Z",
     "shell.execute_reply": "2023-12-22T05:46:44.987531Z",
     "shell.execute_reply.started": "2023-12-22T05:43:29.709686Z"
    }
   },
   "outputs": [],
   "source": [
    "# df_july_val DataFrame을 Point와 Memorization으로 필터링\n",
    "df_july_val_point = df_july_val[df_july_val['collection'] == 'Point']\n",
    "df_july_val_memo = df_july_val[df_july_val['collection'] == 'Memorization']\n",
    "\n",
    "# df_august_val DataFrame을 Point와 Memorization으로 필터링\n",
    "df_august_val_point = df_august_val[df_august_val['collection'] == 'Point']\n",
    "df_august_val_memo = df_august_val[df_august_val['collection'] == 'Memorization']\n",
    "\n",
    "# df_september_val DataFrame을 Point와 Memorization으로 필터링\n",
    "df_september_val_point = df_september_val[df_september_val['collection'] == 'Point']\n",
    "df_september_val_memo = df_september_val[df_september_val['collection'] == 'Memorization']\n",
    "\n",
    "# df_october_val DataFrame을 Point와 Memorization으로 필터링\n",
    "df_october_val_point = df_october_val[df_october_val['collection'] == 'Point']\n",
    "df_october_val_memo = df_october_val[df_october_val['collection'] == 'Memorization']\n",
    "\n",
    "# df_november_val DataFrame을 Point와 Memorization으로 필터링\n",
    "df_november_val_point = df_november_val[df_november_val['collection'] == 'Point']\n",
    "df_november_val_memo = df_november_val[df_november_val['collection'] == 'Memorization']"
   ]
  },
  {
   "cell_type": "markdown",
   "id": "23f3d860-5f07-46f0-90be-b5a49ef866dc",
   "metadata": {},
   "source": [
    "#### 16개 각각의 df 개수 파악"
   ]
  },
  {
   "cell_type": "code",
   "execution_count": 11,
   "id": "caad0272-aded-4116-86dd-a6b4ad362d05",
   "metadata": {
    "execution": {
     "iopub.execute_input": "2023-12-22T05:46:45.065616Z",
     "iopub.status.busy": "2023-12-22T05:46:45.059473Z",
     "iopub.status.idle": "2023-12-22T05:46:45.489674Z",
     "shell.execute_reply": "2023-12-22T05:46:45.485672Z",
     "shell.execute_reply.started": "2023-12-22T05:46:45.065616Z"
    }
   },
   "outputs": [
    {
     "name": "stdout",
     "output_type": "stream",
     "text": [
      "df_july_train_point: 246285\n",
      "df_july_train_memo: 1398819\n",
      "df_august_train_point: 273394\n",
      "df_august_train_memo: 1733857\n",
      "df_september_train_point: 168209\n",
      "df_september_train_memo: 2232447\n",
      "df_october_train_point: 160746\n",
      "df_october_train_memo: 2221509\n",
      "df_november_train_point: 152874\n",
      "df_november_train_memo: 304017\n",
      "df_july_val_point: 82022\n",
      "df_july_val_memo: 466346\n",
      "df_august_val_point: 91014\n",
      "df_august_val_memo: 578070\n",
      "df_september_val_point: 56045\n",
      "df_september_val_memo: 744174\n",
      "df_october_val_point: 53578\n",
      "df_october_val_memo: 740507\n",
      "df_november_val_point: 50956\n",
      "df_november_val_memo: 101341\n"
     ]
    }
   ],
   "source": [
    "# 각 DataFrame의 행 수를 출력하는 코드\n",
    "print(\"df_july_train_point:\", len(df_july_train_point))\n",
    "print(\"df_july_train_memo:\", len(df_july_train_memo))\n",
    "\n",
    "print(\"df_august_train_point:\", len(df_august_train_point))\n",
    "print(\"df_august_train_memo:\", len(df_august_train_memo))\n",
    "\n",
    "print(\"df_september_train_point:\", len(df_september_train_point))\n",
    "print(\"df_september_train_memo:\", len(df_september_train_memo))\n",
    "\n",
    "print(\"df_october_train_point:\", len(df_october_train_point))\n",
    "print(\"df_october_train_memo:\", len(df_october_train_memo))\n",
    "\n",
    "print(\"df_november_train_point:\", len(df_november_train_point))\n",
    "print(\"df_november_train_memo:\", len(df_november_train_memo))\n",
    "\n",
    "print(\"df_july_val_point:\", len(df_july_val_point))\n",
    "print(\"df_july_val_memo:\", len(df_july_val_memo))\n",
    "\n",
    "print(\"df_august_val_point:\", len(df_august_val_point))\n",
    "print(\"df_august_val_memo:\", len(df_august_val_memo))\n",
    "\n",
    "print(\"df_september_val_point:\", len(df_september_val_point))\n",
    "print(\"df_september_val_memo:\", len(df_september_val_memo))\n",
    "\n",
    "print(\"df_october_val_point:\", len(df_october_val_point))\n",
    "print(\"df_october_val_memo:\", len(df_october_val_memo))\n",
    "\n",
    "print(\"df_november_val_point:\", len(df_november_val_point))\n",
    "print(\"df_november_val_memo:\", len(df_november_val_memo))\n"
   ]
  },
  {
   "cell_type": "code",
   "execution_count": 12,
   "id": "d2463baa-886d-4e0f-9aff-107d758f1485",
   "metadata": {
    "execution": {
     "iopub.execute_input": "2023-12-22T05:57:00.794258Z",
     "iopub.status.busy": "2023-12-22T05:57:00.793258Z",
     "iopub.status.idle": "2023-12-22T05:57:00.819843Z",
     "shell.execute_reply": "2023-12-22T05:57:00.818842Z",
     "shell.execute_reply.started": "2023-12-22T05:57:00.794258Z"
    }
   },
   "outputs": [],
   "source": [
    "july_train_min_df = df_july_train_point\n",
    "july_train_word_df = df_july_train_memo\n",
    "july_val_min_df = df_july_val_point\n",
    "july_val_word_df = df_july_val_memo\n",
    "\n",
    "august_train_min_df = df_august_train_point\n",
    "august_train_word_df = df_august_train_memo\n",
    "august_val_min_df = df_august_val_point\n",
    "august_val_word_df = df_august_val_memo\n",
    "\n",
    "september_train_min_df = df_september_train_point\n",
    "september_train_word_df = df_september_train_memo\n",
    "september_val_min_df = df_september_val_point\n",
    "september_val_word_df = df_september_val_memo\n",
    "\n",
    "october_train_min_df = df_october_train_point\n",
    "october_train_word_df = df_october_train_memo\n",
    "october_val_min_df = df_october_val_point\n",
    "october_val_word_df = df_october_val_memo\n"
   ]
  },
  {
   "cell_type": "code",
   "execution_count": null,
   "id": "d72e3abc-e745-4188-a1b5-023d1ce5d511",
   "metadata": {},
   "outputs": [],
   "source": []
  },
  {
   "cell_type": "code",
   "execution_count": null,
   "id": "6ad3da51-e9a2-49f2-8ef1-a108c586bf6f",
   "metadata": {},
   "outputs": [],
   "source": []
  },
  {
   "cell_type": "code",
   "execution_count": null,
   "id": "bbda09f7-5874-4c4f-b6f3-94dc77db97ba",
   "metadata": {},
   "outputs": [],
   "source": []
  },
  {
   "cell_type": "code",
   "execution_count": 22,
   "id": "f8dce0ba-7b31-420a-a6a5-246097c50def",
   "metadata": {
    "execution": {
     "iopub.execute_input": "2023-12-22T04:02:04.887057Z",
     "iopub.status.busy": "2023-12-22T04:02:04.887057Z",
     "iopub.status.idle": "2023-12-22T04:02:39.772445Z",
     "shell.execute_reply": "2023-12-22T04:02:39.772445Z",
     "shell.execute_reply.started": "2023-12-22T04:02:04.887057Z"
    }
   },
   "outputs": [
    {
     "name": "stdout",
     "output_type": "stream",
     "text": [
      "<class 'pandas.core.frame.DataFrame'>\n",
      "Int64Index: 246285 entries, 806589 to 1136074\n",
      "Data columns (total 30 columns):\n",
      " #   Column                    Non-Null Count   Dtype  \n",
      "---  ------                    --------------   -----  \n",
      " 0   ad_name                   246285 non-null  object \n",
      " 1   user_id                   246285 non-null  object \n",
      " 2   stt_text_array            246285 non-null  object \n",
      " 3   is_passed                 246285 non-null  object \n",
      " 4   ad_script                 246285 non-null  object \n",
      " 5   accuracy_array            246285 non-null  object \n",
      " 6   created_timestamp_array   246285 non-null  object \n",
      " 7   ad_title                  246285 non-null  object \n",
      " 8   job                       237669 non-null  object \n",
      " 9   language                  241791 non-null  object \n",
      " 10  perfect                   240234 non-null  float64\n",
      " 11  gender                    243193 non-null  object \n",
      " 12  birth_year                241791 non-null  object \n",
      " 13  local_code                243193 non-null  object \n",
      " 14  excepted_age_array        246285 non-null  object \n",
      " 15  collection                246285 non-null  object \n",
      " 16  ad_duration               246285 non-null  object \n",
      " 17  level                     246285 non-null  object \n",
      " 18  ad_link                   246285 non-null  object \n",
      " 19  participant_count         243856 non-null  float64\n",
      " 20  average_accuracy_by_ad    246285 non-null  float64\n",
      " 21  average_accuracy_by_user  246285 non-null  float64\n",
      " 22  pass_rate_by_user         246285 non-null  float64\n",
      " 23  pass_rate_by_ad           246285 non-null  float64\n",
      " 24  text_length               246285 non-null  int32  \n",
      " 25  try_count                 246285 non-null  int32  \n",
      " 26  user_avg_tries            246285 non-null  float64\n",
      " 27  ad_avg_tries              246285 non-null  float64\n",
      " 28  first_timestamp           246285 non-null  object \n",
      " 29  first_created_date        246285 non-null  object \n",
      "dtypes: float64(8), int32(2), object(20)\n",
      "memory usage: 56.4+ MB\n"
     ]
    }
   ],
   "source": [
    "df_july_train_point.info()"
   ]
  },
  {
   "cell_type": "code",
   "execution_count": 18,
   "id": "3c538857-f87f-447a-b535-56037aff65b5",
   "metadata": {
    "execution": {
     "iopub.execute_input": "2023-12-22T03:53:08.096472Z",
     "iopub.status.busy": "2023-12-22T03:53:08.095471Z",
     "iopub.status.idle": "2023-12-22T03:53:08.143583Z",
     "shell.execute_reply": "2023-12-22T03:53:08.137148Z",
     "shell.execute_reply.started": "2023-12-22T03:53:08.096472Z"
    }
   },
   "outputs": [
    {
     "name": "stdout",
     "output_type": "stream",
     "text": [
      "df_july_train_point 개수: 246285\n",
      "df_july_train_memo 개수: 1398819\n",
      "df_july_val_point 개수: 82022\n",
      "df_july_val_memo 개수: 466346\n",
      "df_september_train_point 개수: 168209\n",
      "df_september_train_memo 개수: 2232447\n",
      "df_september_val_point 개수: 56045\n",
      "df_september_val_memo 개수: 744174\n"
     ]
    }
   ],
   "source": [
    "# 검증\n",
    "\n",
    "# 각 DataFrame의 행 개수 확인\n",
    "print(\"df_july_train_point 개수:\", len(df_july_train_point))\n",
    "print(\"df_july_train_memo 개수:\", len(df_july_train_memo))\n",
    "print(\"df_july_val_point 개수:\", len(df_july_val_point))\n",
    "print(\"df_july_val_memo 개수:\", len(df_july_val_memo))\n",
    "\n",
    "print(\"df_september_train_point 개수:\", len(df_september_train_point))\n",
    "print(\"df_september_train_memo 개수:\", len(df_september_train_memo))\n",
    "print(\"df_september_val_point 개수:\", len(df_september_val_point))\n",
    "print(\"df_september_val_memo 개수:\", len(df_september_val_memo))"
   ]
  },
  {
   "cell_type": "markdown",
   "id": "b362c278-f033-4478-a4d1-fb4f565ade8e",
   "metadata": {},
   "source": [
    "-231206 출력 값-  \n",
    "df_july_train_point 개수: 246285  \r\n",
    "df_july_train_memo 개수: 13988   9\r\n",
    "df_july_val_point 개수: 8    22\r\n",
    "df_july_val_memo 개수: 6    346\r\n",
    "df_september_train_point 개수16    8209\r\n",
    "df_september_train_memo 개 22    32447\r\n",
    "df_september_val_poin개수:     56045\r\n",
    "df_september_val_m 744174    o 개수:  \n",
    "-231222 출력 값-   744174"
   ]
  },
  {
   "cell_type": "markdown",
   "id": "a8088d55-50e5-4c99-86a5-8dee94c7ce90",
   "metadata": {},
   "source": [
    "## 로컬에 저장 (pandas df -> spark df -> 로컬)"
   ]
  },
  {
   "cell_type": "code",
   "execution_count": null,
   "id": "ef113efb-dff9-417e-98cc-3318d0daed1b",
   "metadata": {},
   "outputs": [],
   "source": [
    "# # Pandas DataFrame을 Spark DataFrame으로 변환하는 함수\n",
    "# def convert_to_spark_df(pandas_df):\n",
    "#     return spark.createDataFrame(pandas_df)\n",
    "\n",
    "# # training datasets: 각 Pandas DataFrame을 Spark DataFrame으로 변환\n",
    "# spark_df_july_train_point = convert_to_spark_df(df_july_train_point)\n",
    "# spark_df_july_train_memo = convert_to_spark_df(df_july_train_memo)\n",
    "\n",
    "# spark_df_august_train_point = convert_to_spark_df(df_august_train_point)\n",
    "# spark_df_august_train_memo = convert_to_spark_df(df_august_train_memo)\n",
    "\n",
    "# spark_df_september_train_point = convert_to_spark_df(df_september_train_point)\n",
    "# spark_df_september_train_memo = convert_to_spark_df(df_september_train_memo)\n",
    "\n",
    "# spark_df_october_train_point = convert_to_spark_df(df_october_train_point)\n",
    "# spark_df_october_train_memo = convert_to_spark_df(df_october_train_memo)\n",
    "\n",
    "# spark_df_november_train_point = convert_to_spark_df(df_november_train_point)\n",
    "# spark_df_november_train_memo = convert_to_spark_df(df_november_train_memo)\n",
    "\n",
    "\n",
    "# # validation datasets: 각 Pandas DataFrame을 Spark DataFrame으로 변환\n",
    "# spark_df_july_val_point = convert_to_spark_df(df_july_val_point)\n",
    "# spark_df_july_val_memo = convert_to_spark_df(df_july_val_memo)\n",
    "\n",
    "# spark_df_august_val_point = convert_to_spark_df(df_august_val_point)\n",
    "# spark_df_august_val_memo = convert_to_spark_df(df_august_val_memo)\n",
    "\n",
    "# spark_df_september_val_point = convert_to_spark_df(df_september_val_point)\n",
    "# spark_df_september_val_memo = convert_to_spark_df(df_september_val_memo)\n",
    "\n",
    "# spark_df_october_val_point = convert_to_spark_df(df_october_val_point)\n",
    "# spark_df_october_val_memo = convert_to_spark_df(df_october_val_memo)\n",
    "\n",
    "# spark_df_november_val_point = convert_to_spark_df(df_november_val_point)\n",
    "# spark_df_november_val_memo = convert_to_spark_df(df_november_val_memo)"
   ]
  },
  {
   "cell_type": "code",
   "execution_count": 16,
   "id": "0d7dff1d-8753-4081-935f-83ed03e2ff2b",
   "metadata": {
    "execution": {
     "iopub.execute_input": "2023-12-06T03:31:42.617398Z",
     "iopub.status.busy": "2023-12-06T03:31:42.617398Z",
     "iopub.status.idle": "2023-12-06T03:31:42.634046Z",
     "shell.execute_reply": "2023-12-06T03:31:42.634046Z",
     "shell.execute_reply.started": "2023-12-06T03:31:42.617398Z"
    }
   },
   "outputs": [],
   "source": [
    "def create_directory(path):\n",
    "    if not os.path.exists(path):\n",
    "        os.makedirs(path)\n",
    "\n",
    "# # DataFrame을 JSON으로 저장하는 함수\n",
    "# def save_df_as_json(df, path):\n",
    "#     create_directory(os.path.dirname(path))  \n",
    "#     df.to_json(path, orient='records', lines=True)\n",
    "\n",
    "def save_df_as_json_chunks(df, base_path, chunk_size):\n",
    "    create_directory(os.path.dirname(base_path))  \n",
    "    \n",
    "    # 청크 개수 계산\n",
    "    num_chunks = math.ceil(len(df) / chunk_size)\n",
    "    \n",
    "    # 각 청크를 별도의 파일로 저장\n",
    "    for i in range(num_chunks):\n",
    "        chunk_df = df[i * chunk_size:(i + 1) * chunk_size]\n",
    "        chunk_path = f\"{base_path}_part{i}.json\"\n",
    "        chunk_df.to_json(chunk_path, orient='records', lines=True)"
   ]
  },
  {
   "cell_type": "code",
   "execution_count": 17,
   "id": "303f3a27-7332-42cf-85a9-96c15ebce8fb",
   "metadata": {
    "execution": {
     "iopub.execute_input": "2023-12-06T03:31:42.634046Z",
     "iopub.status.busy": "2023-12-06T03:31:42.634046Z",
     "iopub.status.idle": "2023-12-06T03:33:00.019378Z",
     "shell.execute_reply": "2023-12-06T03:33:00.019378Z",
     "shell.execute_reply.started": "2023-12-06T03:31:42.634046Z"
    }
   },
   "outputs": [],
   "source": [
    "# 각 DataFrame을 여러 JSON 파일로 분할하여 저장\n",
    "chunk_size = 500000  # 청크 크기를 50만으로 설정\n",
    "\n",
    "save_df_as_json_chunks(df_july_train_point, 'D:/DATA_PREPROCESS/FIRESTORE_DATAS/android_VOICE_LABELING_FROM_7_TO_10/july_training_minutescript_labeling/df_july_train_point', chunk_size)\n",
    "save_df_as_json_chunks(df_july_train_memo, 'D:/DATA_PREPROCESS/FIRESTORE_DATAS/android_VOICE_LABELING_FROM_7_TO_10/july_training_wordscript_labeling/df_july_train_memo', chunk_size)\n",
    "save_df_as_json_chunks(df_july_val_point, 'D:/DATA_PREPROCESS/FIRESTORE_DATAS/android_VOICE_LABELING_FROM_7_TO_10/july_val_minutescript_labeling/df_july_val_point', chunk_size)\n",
    "save_df_as_json_chunks(df_july_val_memo, 'D:/DATA_PREPROCESS/FIRESTORE_DATAS/android_VOICE_LABELING_FROM_7_TO_10/july_val_wordscript_labeling/df_july_val_memo', chunk_size)"
   ]
  },
  {
   "cell_type": "code",
   "execution_count": 19,
   "id": "c1563a43-fe56-42ca-9843-d2ab36d383db",
   "metadata": {
    "execution": {
     "iopub.execute_input": "2023-12-06T03:36:47.096975Z",
     "iopub.status.busy": "2023-12-06T03:36:47.096975Z",
     "iopub.status.idle": "2023-12-06T03:37:59.836265Z",
     "shell.execute_reply": "2023-12-06T03:37:59.836265Z",
     "shell.execute_reply.started": "2023-12-06T03:36:47.096975Z"
    }
   },
   "outputs": [],
   "source": [
    "# 각 DataFrame을 여러 JSON 파일로 분할하여 저장\n",
    "save_df_as_json_chunks(df_august_train_point, 'D:/DATA_PREPROCESS/FIRESTORE_DATAS/android_VOICE_LABELING_FROM_7_TO_10/august_training_minutescript_labeling/df_august_train_point', chunk_size)\n",
    "save_df_as_json_chunks(df_august_train_memo, 'D:/DATA_PREPROCESS/FIRESTORE_DATAS/android_VOICE_LABELING_FROM_7_TO_10/august_training_wordscript_labeling/df_august_train_memo', chunk_size)\n",
    "save_df_as_json_chunks(df_august_val_point, 'D:/DATA_PREPROCESS/FIRESTORE_DATAS/android_VOICE_LABELING_FROM_7_TO_10/august_val_minutescript_labeling/df_august_val_point', chunk_size)\n",
    "save_df_as_json_chunks(df_august_val_memo, 'D:/DATA_PREPROCESS/FIRESTORE_DATAS/android_VOICE_LABELING_FROM_7_TO_10/august_val_wordscript_labeling/df_august_val_memo', chunk_size)"
   ]
  },
  {
   "cell_type": "code",
   "execution_count": 20,
   "id": "7c0fedee-b450-4123-8213-3399b439d433",
   "metadata": {
    "execution": {
     "iopub.execute_input": "2023-12-06T03:38:12.639910Z",
     "iopub.status.busy": "2023-12-06T03:38:12.639910Z",
     "iopub.status.idle": "2023-12-06T03:39:32.711785Z",
     "shell.execute_reply": "2023-12-06T03:39:32.709782Z",
     "shell.execute_reply.started": "2023-12-06T03:38:12.639910Z"
    }
   },
   "outputs": [],
   "source": [
    "# 각 DataFrame을 여러 JSON 파일로 분할하여 저장\n",
    "save_df_as_json_chunks(df_september_train_point, 'D:/DATA_PREPROCESS/FIRESTORE_DATAS/android_VOICE_LABELING_FROM_7_TO_10/september_training_minutescript_labeling/df_september_train_point', chunk_size)\n",
    "save_df_as_json_chunks(df_september_train_memo, 'D:/DATA_PREPROCESS/FIRESTORE_DATAS/android_VOICE_LABELING_FROM_7_TO_10/september_training_wordscript_labeling/df_september_train_memo', chunk_size)\n",
    "save_df_as_json_chunks(df_september_val_point, 'D:/DATA_PREPROCESS/FIRESTORE_DATAS/android_VOICE_LABELING_FROM_7_TO_10/september_val_minutescript_labeling/df_september_val_point', chunk_size)\n",
    "save_df_as_json_chunks(df_september_val_memo, 'D:/DATA_PREPROCESS/FIRESTORE_DATAS/android_VOICE_LABELING_FROM_7_TO_10/september_val_wordscript_labeling/df_september_val_memo', chunk_size)"
   ]
  },
  {
   "cell_type": "code",
   "execution_count": 21,
   "id": "c615ee48-ffd9-4439-80bf-5c81535faa4b",
   "metadata": {
    "execution": {
     "iopub.execute_input": "2023-12-06T03:39:40.454587Z",
     "iopub.status.busy": "2023-12-06T03:39:40.453587Z",
     "iopub.status.idle": "2023-12-06T03:41:39.665730Z",
     "shell.execute_reply": "2023-12-06T03:41:39.665730Z",
     "shell.execute_reply.started": "2023-12-06T03:39:40.454587Z"
    }
   },
   "outputs": [],
   "source": [
    "# 각 DataFrame을 여러 JSON 파일로 분할하여 저장\n",
    "save_df_as_json_chunks(df_october_train_point, 'D:/DATA_PREPROCESS/FIRESTORE_DATAS/android_VOICE_LABELING_FROM_7_TO_10/october_training_minutescript_labeling/df_october_train_point', chunk_size)\n",
    "save_df_as_json_chunks(df_october_train_memo, 'D:/DATA_PREPROCESS/FIRESTORE_DATAS/android_VOICE_LABELING_FROM_7_TO_10/october_training_wordscript_labeling/df_october_train_memo', chunk_size)\n",
    "save_df_as_json_chunks(df_october_val_point, 'D:/DATA_PREPROCESS/FIRESTORE_DATAS/android_VOICE_LABELING_FROM_7_TO_10/october_val_minutescript_labeling/df_october_val_point', chunk_size)\n",
    "save_df_as_json_chunks(df_october_val_memo, 'D:/DATA_PREPROCESS/FIRESTORE_DATAS/android_VOICE_LABELING_FROM_7_TO_10/october_val_wordscript_labeling/df_october_val_memo', chunk_size)"
   ]
  },
  {
   "cell_type": "code",
   "execution_count": 22,
   "id": "1a14819a-eec9-49db-a385-46865a754850",
   "metadata": {
    "execution": {
     "iopub.execute_input": "2023-12-06T03:41:39.678918Z",
     "iopub.status.busy": "2023-12-06T03:41:39.678918Z",
     "iopub.status.idle": "2023-12-06T03:42:01.343157Z",
     "shell.execute_reply": "2023-12-06T03:42:01.343157Z",
     "shell.execute_reply.started": "2023-12-06T03:41:39.678918Z"
    }
   },
   "outputs": [],
   "source": [
    "# 각 DataFrame을 여러 JSON 파일로 분할하여 저장\n",
    "save_df_as_json_chunks(df_november_train_point, 'D:/DATA_PREPROCESS/FIRESTORE_DATAS/android_VOICE_LABELING_FROM_7_TO_10/november_training_minutescript_labeling/df_november_train_point', chunk_size)\n",
    "save_df_as_json_chunks(df_november_train_memo, 'D:/DATA_PREPROCESS/FIRESTORE_DATAS/android_VOICE_LABELING_FROM_7_TO_10/november_training_wordscript_labeling/df_november_train_memo', chunk_size)\n",
    "save_df_as_json_chunks(df_november_val_point, 'D:/DATA_PREPROCESS/FIRESTORE_DATAS/android_VOICE_LABELING_FROM_7_TO_10/november_val_minutescript_labeling/df_november_val_point', chunk_size)\n",
    "save_df_as_json_chunks(df_november_val_memo, 'D:/DATA_PREPROCESS/FIRESTORE_DATAS/android_VOICE_LABELING_FROM_7_TO_10/november_val_wordscript_labeling/df_november_val_memo', chunk_size)"
   ]
  },
  {
   "cell_type": "markdown",
   "id": "c1e69428-880b-4335-a998-c9fbb96786e6",
   "metadata": {},
   "source": [
    "# 월별 데이터 추출"
   ]
  },
  {
   "cell_type": "code",
   "execution_count": 21,
   "id": "0ed54933-4e6d-42e1-8fa4-82b13e38d7f5",
   "metadata": {
    "execution": {
     "iopub.execute_input": "2023-12-04T02:14:09.985667Z",
     "iopub.status.busy": "2023-12-04T02:14:09.985667Z",
     "iopub.status.idle": "2023-12-04T02:14:09.999845Z",
     "shell.execute_reply": "2023-12-04T02:14:09.998845Z",
     "shell.execute_reply.started": "2023-12-04T02:14:09.985667Z"
    }
   },
   "outputs": [],
   "source": [
    "# # groupBy를 통한 유저-광고파일찾기 코드\n",
    "\n",
    "# def find_and_copy_files_grouped(df, month):\n",
    "#     source_path = \"D:\\\\DATA_PREPROCESS\\\\FIRESTORE_DATAS\\\\voice_files_from_gcs_231130\"\n",
    "#     target_path = f\"D:\\\\DATA_PREPROCESS\\\\FIRESTORE_DATAS\\\\android_VOICE_DATA_FROM_7_TO_10\\\\voice_files_from_{month}\"\n",
    "\n",
    "#     # 찾은 행의 개수와 찾지 못한 행의 개수를 추적하는 변수\n",
    "#     found_and_copied_count = 0\n",
    "#     not_found_or_not_copied_count = 0\n",
    "\n",
    "#     # user_id별로 그룹화하고 ad_name 목록을 수집\n",
    "#     grouped_df = df.groupby(\"user_id\").agg(collect_list(\"ad_name\").alias(\"ad_names\"))\n",
    "\n",
    "#     for row in grouped_df.collect():\n",
    "#         user_id = row['user_id']\n",
    "#         ad_names = set(row['ad_names'])  # 중복 제거\n",
    "\n",
    "#         # 유저 폴더 찾기\n",
    "#         user_folder = next((f for f in os.listdir(source_path) if f.startswith(user_id) and '_' in f and f.split('_')[0] == user_id[:28]), None)\n",
    "#         if user_folder:\n",
    "#             user_folder_path = os.path.join(source_path, user_folder)\n",
    "#             for ad_name in ad_names:\n",
    "#                 # 광고 파일 찾기\n",
    "#                 ad_files = [f for f in os.listdir(user_folder_path) if os.path.splitext(f)[0] == ad_name and os.path.splitext(f)[1] == '']\n",
    "                \n",
    "#                 for ad_file in ad_files:\n",
    "#                     # 파일 복사\n",
    "#                     src_file = os.path.join(user_folder_path, ad_file)\n",
    "#                     target_dir = os.path.join(target_path, user_id)\n",
    "#                     if not os.path.exists(target_dir):\n",
    "#                         os.makedirs(target_dir)\n",
    "#                     try:\n",
    "#                         shutil.copy(src_file, target_dir)\n",
    "#                         found_and_copied_count += 1\n",
    "#                     except Exception as e:\n",
    "#                         not_found_or_not_copied_count += 1\n",
    "#         else:\n",
    "#             not_found_or_not_copied_count += len(ad_names)\n",
    "\n",
    "#     return found_and_copied_count, not_found_or_not_copied_count\n",
    "\n",
    "# # # 각 DataFrame에 대해 파일 처리 수행\n",
    "# # find_and_copy_files(df_july, \"july\")\n",
    "# # find_and_copy_files(df_august, \"august\")\n",
    "# # find_and_copy_files(df_september, \"september\")\n",
    "# # find_and_copy_files(df_october, \"october\")"
   ]
  },
  {
   "cell_type": "code",
   "execution_count": null,
   "id": "9040d8c1-7699-4bd5-bb65-e8446007277c",
   "metadata": {},
   "outputs": [],
   "source": [
    "# def find_and_copy_files(df, month):\n",
    "#     source_path = \"D:\\\\DATA_PREPROCESS\\\\FIRESTORE_DATAS\\\\voice_files_from_gcs_231130\"\n",
    "#     target_path = f\"D:\\\\DATA_PREPROCESS\\\\FIRESTORE_DATAS\\\\android_VOICE_DATA_FROM_7_TO_10\\\\voice_files_from_{month}\"\n",
    "\n",
    "#     found_and_copied_count = 0\n",
    "#     not_found_or_not_copied_count = 0\n",
    "\n",
    "#     # 각 행에 대해 반복\n",
    "#     for row in df.collect():\n",
    "#         user_id = row['user_id']\n",
    "#         ad_name = row['ad_name']\n",
    "\n",
    "#         # 유저 폴더 찾기\n",
    "#         user_folder_path = os.path.join(source_path, user_id)\n",
    "#         if os.path.isdir(user_folder_path):\n",
    "#             # 광고 파일 찾기\n",
    "#             ad_file_path = os.path.join(user_folder_path, ad_name)\n",
    "#             if os.path.isfile(ad_file_path):\n",
    "#                 # 파일 복사\n",
    "#                 target_dir = os.path.join(target_path, user_id)\n",
    "#                 if not os.path.exists(target_dir):\n",
    "#                     os.makedirs(target_dir)\n",
    "#                 try:\n",
    "#                     shutil.copy(ad_file_path, target_dir)\n",
    "#                     found_and_copied_count += 1\n",
    "#                 except Exception as e:\n",
    "#                     not_found_or_not_copied_count += 1\n",
    "#             else:\n",
    "#                 not_found_or_not_copied_count += 1\n",
    "#         else:\n",
    "#             not_found_or_not_copied_count += 1\n",
    "\n",
    "#     return found_and_copied_count, not_found_or_not_copied_count\n"
   ]
  },
  {
   "cell_type": "code",
   "execution_count": null,
   "id": "f2284ceb-d0df-4b2c-9a44-ccf5dfd5d1db",
   "metadata": {},
   "outputs": [],
   "source": [
    "# # 후보 1\n",
    "# def copy_file(src, dst):\n",
    "#     try:\n",
    "#         shutil.copy(src, dst)\n",
    "#         return 1\n",
    "#     except Exception as e:\n",
    "#         return 0\n",
    "\n",
    "# def find_and_copy_files_concurrent(df, month):\n",
    "#     source_path = \"D:\\\\DATA_PREPROCESS\\\\FIRESTORE_DATAS\\\\voice_files_from_gcs_231130\"\n",
    "#     target_path = f\"D:\\\\DATA_PREPROCESS\\\\FIRESTORE_DATAS\\\\android_VOICE_DATA_FROM_7_TO_10\\\\voice_files_from_{month}\"\n",
    "\n",
    "#     tasks = []\n",
    "#     with concurrent.futures.ThreadPoolExecutor() as executor:\n",
    "#         for row in df.collect():\n",
    "#             user_id = row['user_id']\n",
    "#             ad_name = row['ad_name']\n",
    "#             user_folder_path = os.path.join(source_path, user_id)\n",
    "#             ad_file_path = os.path.join(user_folder_path, ad_name)\n",
    "#             target_dir = os.path.join(target_path, user_id)\n",
    "#             if not os.path.exists(target_dir):\n",
    "#                 os.makedirs(target_dir)\n",
    "#             if os.path.isfile(ad_file_path):\n",
    "#                 tasks.append(executor.submit(copy_file, ad_file_path, target_dir))\n",
    "\n",
    "#     results = [task.result() for task in concurrent.futures.as_completed(tasks)]\n",
    "#     found_and_copied_count = sum(results)\n",
    "#     not_found_or_not_copied_count = len(tasks) - found_and_copied_count\n",
    "\n",
    "#     return found_and_copied_count, not_found_or_not_copied_count"
   ]
  },
  {
   "cell_type": "code",
   "execution_count": 16,
   "id": "ec13663b-9c41-4f2e-8c7d-81dd656a493b",
   "metadata": {
    "execution": {
     "iopub.execute_input": "2023-12-05T06:15:32.016775Z",
     "iopub.status.busy": "2023-12-05T06:15:32.016775Z",
     "iopub.status.idle": "2023-12-05T06:18:29.220549Z",
     "shell.execute_reply": "2023-12-05T06:18:29.220549Z",
     "shell.execute_reply.started": "2023-12-05T06:15:32.016775Z"
    },
    "scrolled": true
   },
   "outputs": [
    {
     "name": "stdout",
     "output_type": "stream",
     "text": [
      "File already exists in destination: D:/DATA_PREPROCESS/FIRESTORE_DATAS/voice_files_from_gcs_231130/2kSCYUNrSHfVYdfnAIWKqbvd3Hr1\\아기햄뿌- 아 마 존조로존조로존\n",
      "File already exists in destination: D:/DATA_PREPROCESS/FIRESTORE_DATAS/voice_files_from_gcs_231130/2kSCYUNrSHfVYdfnAIWKqbvd3Hr1\\아기햄뿌- 아 마 존조로존조로존.txt\n",
      "File already exists in destination: D:/DATA_PREPROCESS/FIRESTORE_DATAS/voice_files_from_gcs_231130/2kSCYUNrSHfVYdfnAIWKqbvd3Hr1\\조슈아- 대한민국 헌법 전문\n",
      "File already exists in destination: D:/DATA_PREPROCESS/FIRESTORE_DATAS/voice_files_from_gcs_231130/2kSCYUNrSHfVYdfnAIWKqbvd3Hr1\\조슈아- 대한민국 헌법 전문.txt\n",
      "Source file does not exist: D:/DATA_PREPROCESS/FIRESTORE_DATAS/voice_files_from_gcs_231130/2kSCYUNrSHfVYdfnAIWKqbvd3Hr1_F88Se\\티블레스 퍼퓸 바디워시 릴리머스크 화이트티향 500ml 1+1 \n",
      "Source file does not exist: D:/DATA_PREPROCESS/FIRESTORE_DATAS/voice_files_from_gcs_231130/3hcHK4XxiTXM8KHygJtd4lDhN122_F82Se\\디지털스토리 \n",
      "Source file does not exist: D:/DATA_PREPROCESS/FIRESTORE_DATAS/voice_files_from_gcs_231130/3IgXVX5n6DQi5xorbYs6yKx2yzO2_F93Se\\티블레스 퍼퓸 바디워시 릴리머스크 화이트티향 500ml 1+1 \n",
      "File already exists in destination: D:/DATA_PREPROCESS/FIRESTORE_DATAS/voice_files_from_gcs_231130/3IgXVX5n6DQi5xorbYs6yKx2yzO2\\아기햄뿌- 아 마 존조로존조로존\n",
      "File already exists in destination: D:/DATA_PREPROCESS/FIRESTORE_DATAS/voice_files_from_gcs_231130/3IgXVX5n6DQi5xorbYs6yKx2yzO2\\아기햄뿌- 아 마 존조로존조로존.txt\n",
      "Source file does not exist: D:/DATA_PREPROCESS/FIRESTORE_DATAS/voice_files_from_gcs_231130/4oDG7cS1jXQnOVKVsB0Z4owcEt23_F62Se\\티블레스 퍼퓸 바디워시 릴리머스크 화이트티향 500ml 1+1 \n",
      "Source file does not exist: D:/DATA_PREPROCESS/FIRESTORE_DATAS/voice_files_from_gcs_231130/6B32MwrFXigMhxZ7AAonSalM2Zj2_F70Se\\디지털스토리 \n",
      "File already exists in destination: D:/DATA_PREPROCESS/FIRESTORE_DATAS/voice_files_from_gcs_231130/7slOti6jASUKqJj2UxswAI92Vah1\\종이쓰레기 제대로 버리기!\n",
      "File already exists in destination: D:/DATA_PREPROCESS/FIRESTORE_DATAS/voice_files_from_gcs_231130/7slOti6jASUKqJj2UxswAI92Vah1\\종이쓰레기 제대로 버리기!.txt\n",
      "File already exists in destination: D:/DATA_PREPROCESS/FIRESTORE_DATAS/voice_files_from_gcs_231130/Gk1uD9hYPiMgIak9KUipsFhKSrI2\\미백 화장품 이만큼 써야 효과 있다!\n",
      "File already exists in destination: D:/DATA_PREPROCESS/FIRESTORE_DATAS/voice_files_from_gcs_231130/Gk1uD9hYPiMgIak9KUipsFhKSrI2\\미백 화장품 이만큼 써야 효과 있다!.txt\n",
      "File already exists in destination: D:/DATA_PREPROCESS/FIRESTORE_DATAS/voice_files_from_gcs_231130/Hyihci58dZgbC5NoxYSLpLxY3bE3\\에라이- 베티 보터가 버터를 조금 산 이야기\n",
      "File already exists in destination: D:/DATA_PREPROCESS/FIRESTORE_DATAS/voice_files_from_gcs_231130/Hyihci58dZgbC5NoxYSLpLxY3bE3\\에라이- 베티 보터가 버터를 조금 산 이야기.txt\n",
      "Source file does not exist: D:/DATA_PREPROCESS/FIRESTORE_DATAS/voice_files_from_gcs_231130/jGd1w4UmLfPyWCQx6zYX4Y6YIeX2_F76Se\\디지털스토리 \n",
      "Source file does not exist: D:/DATA_PREPROCESS/FIRESTORE_DATAS/voice_files_from_gcs_231130/Jk5flIuSKDSUyv3bTHdVVUxsJO02_F74Se\\디지털스토리 \n",
      "File already exists in destination: D:/DATA_PREPROCESS/FIRESTORE_DATAS/voice_files_from_gcs_231130/Jk5flIuSKDSUyv3bTHdVVUxsJO02\\타부- 윙윙 윙자로 끝나는 말은\n",
      "File already exists in destination: D:/DATA_PREPROCESS/FIRESTORE_DATAS/voice_files_from_gcs_231130/Jk5flIuSKDSUyv3bTHdVVUxsJO02\\타부- 윙윙 윙자로 끝나는 말은.txt\n",
      "Source file does not exist: D:/DATA_PREPROCESS/FIRESTORE_DATAS/voice_files_from_gcs_231130/Jk5flIuSKDSUyv3bTHdVVUxsJO02_F74Se\\티블레스 퍼퓸 바디워시 릴리머스크 화이트티향 500ml 1+1 \n",
      "Source file does not exist: D:/DATA_PREPROCESS/FIRESTORE_DATAS/voice_files_from_gcs_231130/K60XL51b4VXv4ZcCN0Jxp2l57r12_M76Se\\디지털스토리 \n",
      "File already exists in destination: D:/DATA_PREPROCESS/FIRESTORE_DATAS/voice_files_from_gcs_231130/mtwDhSuFQyVfUrsRQDE26kBDO8B3\\타부- 윙윙 윙자로 끝나는 말은\n",
      "File already exists in destination: D:/DATA_PREPROCESS/FIRESTORE_DATAS/voice_files_from_gcs_231130/mtwDhSuFQyVfUrsRQDE26kBDO8B3\\타부- 윙윙 윙자로 끝나는 말은.txt\n",
      "Source file does not exist: D:/DATA_PREPROCESS/FIRESTORE_DATAS/voice_files_from_gcs_231130/mtwDhSuFQyVfUrsRQDE26kBDO8B3_F06Gy\\티블레스 퍼퓸 바디워시 릴리머스크 화이트티향 500ml 1+1 \n",
      "Source file does not exist: D:/DATA_PREPROCESS/FIRESTORE_DATAS/voice_files_from_gcs_231130/OFI3qXInhtTIcukpZmI1R32Ig0t1_F87Se\\디지털스토리 \n",
      "Source file does not exist: D:/DATA_PREPROCESS/FIRESTORE_DATAS/voice_files_from_gcs_231130/OFI3qXInhtTIcukpZmI1R32Ig0t1_F87Se\\티블레스 퍼퓸 바디워시 릴리머스크 화이트티향 500ml 1+1 \n",
      "File already exists in destination: D:/DATA_PREPROCESS/FIRESTORE_DATAS/voice_files_from_gcs_231130/Ppw7pFI3fQOUl4rFYSOzqng9SRG3\\미국을 뒤집어 놓은 K-푸드\n",
      "File already exists in destination: D:/DATA_PREPROCESS/FIRESTORE_DATAS/voice_files_from_gcs_231130/Ppw7pFI3fQOUl4rFYSOzqng9SRG3\\미국을 뒤집어 놓은 K-푸드.txt\n",
      "File already exists in destination: D:/DATA_PREPROCESS/FIRESTORE_DATAS/voice_files_from_gcs_231130/Ppw7pFI3fQOUl4rFYSOzqng9SRG3\\사회초년생의 든든한 보금자리, 빈집 활용한 주택정비사업\n",
      "File already exists in destination: D:/DATA_PREPROCESS/FIRESTORE_DATAS/voice_files_from_gcs_231130/Ppw7pFI3fQOUl4rFYSOzqng9SRG3\\사회초년생의 든든한 보금자리, 빈집 활용한 주택정비사업.txt\n",
      "File already exists in destination: D:/DATA_PREPROCESS/FIRESTORE_DATAS/voice_files_from_gcs_231130/Ppw7pFI3fQOUl4rFYSOzqng9SRG3\\세계유산의 가치를 전합니다\n",
      "File already exists in destination: D:/DATA_PREPROCESS/FIRESTORE_DATAS/voice_files_from_gcs_231130/Ppw7pFI3fQOUl4rFYSOzqng9SRG3\\세계유산의 가치를 전합니다.txt\n",
      "Source file does not exist: D:/DATA_PREPROCESS/FIRESTORE_DATAS/voice_files_from_gcs_231130/q2lQPz3eyXbfYynLUG0I329zcVM2_F08Se\\디지털스토리 \n",
      "Source file does not exist: D:/DATA_PREPROCESS/FIRESTORE_DATAS/voice_files_from_gcs_231130/r3GJyndhTROrcFETeA69b0czT9P2_F79Se\\디지털스토리 \n",
      "File already exists in destination: D:/DATA_PREPROCESS/FIRESTORE_DATAS/voice_files_from_gcs_231130/t2qPoYSVlkZ8V8FqR6dlib7xa5F2\\단순 편두통 등으로 찍은 MRI, 10월부터 건강보험 적용 제외\n",
      "File already exists in destination: D:/DATA_PREPROCESS/FIRESTORE_DATAS/voice_files_from_gcs_231130/t2qPoYSVlkZ8V8FqR6dlib7xa5F2\\단순 편두통 등으로 찍은 MRI, 10월부터 건강보험 적용 제외.txt\n",
      "File already exists in destination: D:/DATA_PREPROCESS/FIRESTORE_DATAS/voice_files_from_gcs_231130/t2qPoYSVlkZ8V8FqR6dlib7xa5F2\\문화가 있는 날 청춘마이크평화를 만드는 길굿\n",
      "File already exists in destination: D:/DATA_PREPROCESS/FIRESTORE_DATAS/voice_files_from_gcs_231130/t2qPoYSVlkZ8V8FqR6dlib7xa5F2\\문화가 있는 날 청춘마이크평화를 만드는 길굿.txt\n",
      "File already exists in destination: D:/DATA_PREPROCESS/FIRESTORE_DATAS/voice_files_from_gcs_231130/t2qPoYSVlkZ8V8FqR6dlib7xa5F2\\미스터 트롯 결승전, 대본 세 줄을 보고 한 말 - Normal\n",
      "File already exists in destination: D:/DATA_PREPROCESS/FIRESTORE_DATAS/voice_files_from_gcs_231130/t2qPoYSVlkZ8V8FqR6dlib7xa5F2\\미스터 트롯 결승전, 대본 세 줄을 보고 한 말 - Normal.txt\n",
      "File already exists in destination: D:/DATA_PREPROCESS/FIRESTORE_DATAS/voice_files_from_gcs_231130/t2qPoYSVlkZ8V8FqR6dlib7xa5F2\\안산 별빛 마을 애니멀과 하트빌리지 빛 축제\n",
      "File already exists in destination: D:/DATA_PREPROCESS/FIRESTORE_DATAS/voice_files_from_gcs_231130/t2qPoYSVlkZ8V8FqR6dlib7xa5F2\\안산 별빛 마을 애니멀과 하트빌리지 빛 축제.txt\n",
      "File already exists in destination: D:/DATA_PREPROCESS/FIRESTORE_DATAS/voice_files_from_gcs_231130/t2qPoYSVlkZ8V8FqR6dlib7xa5F2\\안쓰는 여름용품 정리 꿀팁!\n",
      "File already exists in destination: D:/DATA_PREPROCESS/FIRESTORE_DATAS/voice_files_from_gcs_231130/t2qPoYSVlkZ8V8FqR6dlib7xa5F2\\안쓰는 여름용품 정리 꿀팁!.txt\n",
      "File already exists in destination: D:/DATA_PREPROCESS/FIRESTORE_DATAS/voice_files_from_gcs_231130/t2qPoYSVlkZ8V8FqR6dlib7xa5F2\\유니별- 조선의 궁궐에 당도한것을 환영하오 낯선이여\n",
      "File already exists in destination: D:/DATA_PREPROCESS/FIRESTORE_DATAS/voice_files_from_gcs_231130/t2qPoYSVlkZ8V8FqR6dlib7xa5F2\\유니별- 조선의 궁궐에 당도한것을 환영하오 낯선이여.txt\n",
      "File already exists in destination: D:/DATA_PREPROCESS/FIRESTORE_DATAS/voice_files_from_gcs_231130/t2qPoYSVlkZ8V8FqR6dlib7xa5F2\\인쇄에 관한 모든 것, 서울인쇄센터에서 무료로 배운다!\n",
      "File already exists in destination: D:/DATA_PREPROCESS/FIRESTORE_DATAS/voice_files_from_gcs_231130/t2qPoYSVlkZ8V8FqR6dlib7xa5F2\\인쇄에 관한 모든 것, 서울인쇄센터에서 무료로 배운다!.txt\n",
      "File already exists in destination: D:/DATA_PREPROCESS/FIRESTORE_DATAS/voice_files_from_gcs_231130/TaoEugDtHXZVkQhdJFVrc2v5wjy2\\조슈아- 대한민국 헌법 전문\n",
      "File already exists in destination: D:/DATA_PREPROCESS/FIRESTORE_DATAS/voice_files_from_gcs_231130/TaoEugDtHXZVkQhdJFVrc2v5wjy2\\조슈아- 대한민국 헌법 전문.txt\n",
      "Source file does not exist: D:/DATA_PREPROCESS/FIRESTORE_DATAS/voice_files_from_gcs_231130/TaoEugDtHXZVkQhdJFVrc2v5wjy2_M76Se\\티블레스 퍼퓸 바디워시 릴리머스크 화이트티향 500ml 1+1 \n",
      "File already exists in destination: D:/DATA_PREPROCESS/FIRESTORE_DATAS/voice_files_from_gcs_231130/wELYwxP3R3M6CiZN8KLEEfQkMCL2\\꼬미- 맞춤법 절대 안틀리는 노래\n",
      "File already exists in destination: D:/DATA_PREPROCESS/FIRESTORE_DATAS/voice_files_from_gcs_231130/wELYwxP3R3M6CiZN8KLEEfQkMCL2\\꼬미- 맞춤법 절대 안틀리는 노래.txt\n",
      "File already exists in destination: D:/DATA_PREPROCESS/FIRESTORE_DATAS/voice_files_from_gcs_231130/WN23YdQROQVg5XJWx2bF3rgaIC62\\사회초년생의 든든한 보금자리, 빈집 활용한 주택정비사업\n",
      "File already exists in destination: D:/DATA_PREPROCESS/FIRESTORE_DATAS/voice_files_from_gcs_231130/WN23YdQROQVg5XJWx2bF3rgaIC62\\사회초년생의 든든한 보금자리, 빈집 활용한 주택정비사업.txt\n",
      "File already exists in destination: D:/DATA_PREPROCESS/FIRESTORE_DATAS/voice_files_from_gcs_231130/WN23YdQROQVg5XJWx2bF3rgaIC62\\손주 돌보는 조부모에 월 30만원, 최대 13개월간 지원\n",
      "File already exists in destination: D:/DATA_PREPROCESS/FIRESTORE_DATAS/voice_files_from_gcs_231130/WN23YdQROQVg5XJWx2bF3rgaIC62\\손주 돌보는 조부모에 월 30만원, 최대 13개월간 지원.txt\n",
      "File already exists in destination: D:/DATA_PREPROCESS/FIRESTORE_DATAS/voice_files_from_gcs_231130/WN23YdQROQVg5XJWx2bF3rgaIC62\\아이들은 똥 이야기를 왜 그렇게 좋아할까\n",
      "File already exists in destination: D:/DATA_PREPROCESS/FIRESTORE_DATAS/voice_files_from_gcs_231130/WN23YdQROQVg5XJWx2bF3rgaIC62\\아이들은 똥 이야기를 왜 그렇게 좋아할까.txt\n",
      "File already exists in destination: D:/DATA_PREPROCESS/FIRESTORE_DATAS/voice_files_from_gcs_231130/WN23YdQROQVg5XJWx2bF3rgaIC62\\어지럼증 클리닉\n",
      "File already exists in destination: D:/DATA_PREPROCESS/FIRESTORE_DATAS/voice_files_from_gcs_231130/WN23YdQROQVg5XJWx2bF3rgaIC62\\어지럼증 클리닉.txt\n",
      "File already exists in destination: D:/DATA_PREPROCESS/FIRESTORE_DATAS/voice_files_from_gcs_231130/WN23YdQROQVg5XJWx2bF3rgaIC62\\최저가부터 일정까지 한번에 비교! '트립스토어'\n",
      "File already exists in destination: D:/DATA_PREPROCESS/FIRESTORE_DATAS/voice_files_from_gcs_231130/WN23YdQROQVg5XJWx2bF3rgaIC62\\최저가부터 일정까지 한번에 비교! '트립스토어'.txt\n",
      "File already exists in destination: D:/DATA_PREPROCESS/FIRESTORE_DATAS/voice_files_from_gcs_231130/WN23YdQROQVg5XJWx2bF3rgaIC62\\‘한국 명산의 사계’ 기념주화 발행\n",
      "File already exists in destination: D:/DATA_PREPROCESS/FIRESTORE_DATAS/voice_files_from_gcs_231130/WN23YdQROQVg5XJWx2bF3rgaIC62\\‘한국 명산의 사계’ 기념주화 발행.txt\n",
      "File already exists in destination: D:/DATA_PREPROCESS/FIRESTORE_DATAS/voice_files_from_gcs_231130/WN23YdQROQVg5XJWx2bF3rgaIC62\\뀨밍- 올망졸망 똘망똘망\n",
      "File already exists in destination: D:/DATA_PREPROCESS/FIRESTORE_DATAS/voice_files_from_gcs_231130/WN23YdQROQVg5XJWx2bF3rgaIC62\\뀨밍- 올망졸망 똘망똘망.txt\n",
      "File already exists in destination: D:/DATA_PREPROCESS/FIRESTORE_DATAS/voice_files_from_gcs_231130/WN23YdQROQVg5XJWx2bF3rgaIC62\\에라이- 베티 보터가 버터를 조금 산 이야기\n",
      "File already exists in destination: D:/DATA_PREPROCESS/FIRESTORE_DATAS/voice_files_from_gcs_231130/WN23YdQROQVg5XJWx2bF3rgaIC62\\에라이- 베티 보터가 버터를 조금 산 이야기.txt\n",
      "Source file does not exist: D:/DATA_PREPROCESS/FIRESTORE_DATAS/voice_files_from_gcs_231130/XAPTubKl0LbfxJKIYLni2Fh4mMw1_F64Je\\디지털스토리 \n",
      "Source file does not exist: D:/DATA_PREPROCESS/FIRESTORE_DATAS/voice_files_from_gcs_231130/XAPTubKl0LbfxJKIYLni2Fh4mMw1_F64Je\\티블레스 퍼퓸 바디워시 릴리머스크 화이트티향 500ml 1+1 \n",
      "Source file does not exist: D:/DATA_PREPROCESS/FIRESTORE_DATAS/voice_files_from_gcs_231130/YxH6XZS156VytL6KJvsvQT0tv8p1_M87Se\\티블레스 퍼퓸 바디워시 릴리머스크 화이트티향 500ml 1+1 \n"
     ]
    }
   ],
   "source": [
    "# # 폴더 이름의 첫 28글자가 \"user_id\"로 간주됩니다.\n",
    "# # 폴더 이름의 29번째 글자가 '_'인 경우에만 이름 변경이 수행됩니다.\n",
    "# # 폴더 이름을 첫 28글자로 변경하여, 나머지 부분은 제거합니다.\n",
    "# # 변경한 폴더명의 폴더가 이미 있다면 두 폴더의 파일을 병합합니다.\n",
    "\n",
    "# def move_and_merge_folders(src, dst):\n",
    "#     if not os.path.exists(src):\n",
    "#         print(f\"Source folder does not exist: {src}\")\n",
    "#         return\n",
    "\n",
    "#     for filename in os.listdir(src):\n",
    "#         src_file = os.path.join(src, filename)\n",
    "#         dst_file = os.path.join(dst, filename)\n",
    "\n",
    "#         if not os.path.exists(src_file):\n",
    "#             print(f\"Source file does not exist: {src_file}\")\n",
    "#             continue\n",
    "\n",
    "#         if not os.path.exists(dst_file):\n",
    "#             shutil.move(src_file, dst)\n",
    "#         else:\n",
    "#             print(f\"File already exists in destination: {dst_file}\")\n",
    "\n",
    "#     if not os.listdir(src):  # Check if the folder is empty\n",
    "#         os.rmdir(src)\n",
    "\n",
    "# def rename_folders(directory):\n",
    "#     for folder in os.listdir(directory):\n",
    "#         folder_path = os.path.join(directory, folder)\n",
    "#         if os.path.isdir(folder_path) and len(folder) >= 29 and folder[28] == '_':\n",
    "#             new_folder_name = folder[:28]\n",
    "#             new_folder_path = os.path.join(directory, new_folder_name)\n",
    "\n",
    "#             if os.path.exists(new_folder_path):\n",
    "#                 # 같은 이름의 폴더가 존재하면, 파일을 이동시키고 폴더를 삭제\n",
    "#                 move_and_merge_folders(folder_path, new_folder_path)\n",
    "#             else:\n",
    "#                 # 같은 이름의 폴더가 없으면, 이름 변경\n",
    "#                 os.rename(folder_path, new_folder_path)\n",
    "\n",
    "# # 디렉토리 경로\n",
    "# directory_path = \"D:/DATA_PREPROCESS/FIRESTORE_DATAS/voice_files_from_gcs_231130/\"\n",
    "# rename_folders(directory_path)"
   ]
  },
  {
   "cell_type": "code",
   "execution_count": 9,
   "id": "e4c1daef-6747-432c-b9a2-a4c10be802cd",
   "metadata": {
    "execution": {
     "iopub.execute_input": "2023-12-05T07:11:04.042173Z",
     "iopub.status.busy": "2023-12-05T07:11:04.042173Z",
     "iopub.status.idle": "2023-12-05T07:54:21.376216Z",
     "shell.execute_reply": "2023-12-05T07:54:21.376216Z",
     "shell.execute_reply.started": "2023-12-05T07:11:04.042173Z"
    }
   },
   "outputs": [],
   "source": [
    "# 지정된 디렉토리와 그 하위의 모든 디렉토리를 순회\n",
    "# 각 디렉토리에서 .txt 확장자를 가진 파일을 찾아 삭제\n",
    "\n",
    "directory_path = \"D:/DATA_PREPROCESS/FIRESTORE_DATAS/voice_files_from_gcs_231130\"\n",
    "\n",
    "# 지정된 디렉토리와 모든 하위 디렉토리를 순회\n",
    "for root, dirs, files in os.walk(directory_path):\n",
    "    for file in files:\n",
    "        if file.endswith(\".txt\"):\n",
    "            file_path = os.path.join(root, file)\n",
    "            os.remove(file_path)  # 파일 삭제\n",
    "            "
   ]
  },
  {
   "cell_type": "code",
   "execution_count": 11,
   "id": "ffeddf58-3a22-40a1-97e7-1876e2e38721",
   "metadata": {
    "execution": {
     "iopub.execute_input": "2023-12-05T07:55:15.656866Z",
     "iopub.status.busy": "2023-12-05T07:55:15.656866Z",
     "iopub.status.idle": "2023-12-05T07:55:15.672492Z",
     "shell.execute_reply": "2023-12-05T07:55:15.672492Z",
     "shell.execute_reply.started": "2023-12-05T07:55:15.656866Z"
    }
   },
   "outputs": [],
   "source": [
    "# 후보 2\n",
    "def copy_file(source, target):\n",
    "    try:\n",
    "        shutil.copy(source, target)\n",
    "        return 1  # 성공한 경우\n",
    "    except Exception as e:\n",
    "        return 0  # 실패한 경우\n",
    "\n",
    "def find_and_copy_files(df, month):\n",
    "    source_path = \"D:\\\\DATA_PREPROCESS\\\\FIRESTORE_DATAS\\\\voice_files_from_gcs_231130\"\n",
    "    target_path = f\"D:\\\\DATA_PREPROCESS\\\\FIRESTORE_DATAS\\\\android_VOICE_DATA_FROM_7_TO_10\\\\voice_files_from_{month}\"\n",
    "\n",
    "    # # 결과 저장을 위한 카운터\n",
    "    # results = []\n",
    "\n",
    "    with ThreadPoolExecutor(max_workers=10) as executor:\n",
    "        futures = []\n",
    "\n",
    "        for row in df.collect():\n",
    "            user_id = row['user_id']\n",
    "            ad_name = row['ad_name']\n",
    "            user_folder_path = os.path.join(source_path, user_id)\n",
    "            ad_file_path = os.path.join(user_folder_path, ad_name)\n",
    "            target_dir = os.path.join(target_path, user_id)\n",
    "\n",
    "            if not os.path.exists(target_dir):\n",
    "                os.makedirs(target_dir)\n",
    "\n",
    "            # 병렬 처리를 위한 작업 추가\n",
    "            if os.path.isfile(ad_file_path):\n",
    "                futures.append(executor.submit(copy_file, ad_file_path, target_dir))\n",
    "\n",
    "        # # 모든 작업이 완료될 때까지 대기\n",
    "        # for future in futures:\n",
    "        #     results.append(future.result())\n",
    "        for future in futures:\n",
    "            future.result()\n",
    "\n",
    "    # found_and_copied_count = sum(results)\n",
    "    # not_found_or_not_copied_count = len(df.collect()) - found_and_copied_count\n",
    "\n",
    "    # return found_and_copied_count, not_found_or_not_copied_count"
   ]
  },
  {
   "cell_type": "code",
   "execution_count": 13,
   "id": "f7250634-1576-4c80-ae5d-47ef7806ca53",
   "metadata": {
    "execution": {
     "iopub.execute_input": "2023-12-05T08:00:07.975563Z",
     "iopub.status.busy": "2023-12-05T08:00:07.975563Z",
     "iopub.status.idle": "2023-12-05T08:00:07.991199Z",
     "shell.execute_reply": "2023-12-05T08:00:07.991199Z",
     "shell.execute_reply.started": "2023-12-05T08:00:07.975563Z"
    }
   },
   "outputs": [],
   "source": [
    "# # 테스트 코드\n",
    "\n",
    "# # df_july의 첫 1000개 행을 가져옵니다.\n",
    "# df_july_sample = df_july.limit(100000)\n",
    "# found, not_found = find_and_copy_files(df_july_sample, \"july\")\n",
    "\n",
    "# # # 함수 호출 및 결과 출력\n",
    "# # print(f\"Found and copied: {found}, Not found or not copied: {not_found}\")"
   ]
  },
  {
   "cell_type": "code",
   "execution_count": 14,
   "id": "c34d9fda-4f7e-4fe4-88f9-019c1e12a617",
   "metadata": {
    "execution": {
     "iopub.execute_input": "2023-12-05T08:03:01.268449Z",
     "iopub.status.busy": "2023-12-05T08:03:01.268449Z",
     "iopub.status.idle": "2023-12-05T08:36:06.309891Z",
     "shell.execute_reply": "2023-12-05T08:36:06.308373Z",
     "shell.execute_reply.started": "2023-12-05T08:03:01.268449Z"
    }
   },
   "outputs": [],
   "source": [
    "find_and_copy_files(df_july, \"july\")"
   ]
  },
  {
   "cell_type": "code",
   "execution_count": 15,
   "id": "747c9bd8-e6e8-4bb4-bde8-f11b5d766678",
   "metadata": {
    "execution": {
     "iopub.execute_input": "2023-12-05T08:36:06.311891Z",
     "iopub.status.busy": "2023-12-05T08:36:06.311891Z",
     "iopub.status.idle": "2023-12-05T09:15:07.914718Z",
     "shell.execute_reply": "2023-12-05T09:15:07.914718Z",
     "shell.execute_reply.started": "2023-12-05T08:36:06.311891Z"
    }
   },
   "outputs": [],
   "source": [
    "find_and_copy_files(df_august, \"august\")"
   ]
  },
  {
   "cell_type": "code",
   "execution_count": 16,
   "id": "6d3c2523-edc9-4b21-a830-7021587e6972",
   "metadata": {
    "execution": {
     "iopub.execute_input": "2023-12-05T09:15:07.914718Z",
     "iopub.status.busy": "2023-12-05T09:15:07.914718Z",
     "iopub.status.idle": "2023-12-05T10:02:41.994162Z",
     "shell.execute_reply": "2023-12-05T10:02:41.994162Z",
     "shell.execute_reply.started": "2023-12-05T09:15:07.914718Z"
    }
   },
   "outputs": [],
   "source": [
    "find_and_copy_files(df_september, \"september\")"
   ]
  },
  {
   "cell_type": "code",
   "execution_count": 17,
   "id": "ccd75ab1-697b-421d-8410-b8b2fe89890d",
   "metadata": {
    "execution": {
     "iopub.execute_input": "2023-12-05T10:02:41.994162Z",
     "iopub.status.busy": "2023-12-05T10:02:41.994162Z",
     "iopub.status.idle": "2023-12-05T10:51:58.582813Z",
     "shell.execute_reply": "2023-12-05T10:51:58.582813Z",
     "shell.execute_reply.started": "2023-12-05T10:02:41.994162Z"
    }
   },
   "outputs": [],
   "source": [
    "find_and_copy_files(df_october, \"october\")"
   ]
  },
  {
   "cell_type": "code",
   "execution_count": 23,
   "id": "67c9940f-561f-436f-a832-2fb5763b2346",
   "metadata": {
    "execution": {
     "iopub.execute_input": "2023-12-05T05:31:23.839764Z",
     "iopub.status.busy": "2023-12-05T05:31:23.839764Z",
     "iopub.status.idle": "2023-12-05T05:31:45.609481Z",
     "shell.execute_reply": "2023-12-05T05:31:45.608481Z",
     "shell.execute_reply.started": "2023-12-05T05:31:23.839764Z"
    }
   },
   "outputs": [
    {
     "name": "stdout",
     "output_type": "stream",
     "text": [
      "2489\n"
     ]
    }
   ],
   "source": [
    "print(df_july_sample.select(\"user_id\").distinct().count())"
   ]
  },
  {
   "cell_type": "code",
   "execution_count": 19,
   "id": "2a5252cf-e6a9-423c-8093-6032d1fd1d18",
   "metadata": {
    "execution": {
     "iopub.execute_input": "2023-12-04T01:47:42.575072Z",
     "iopub.status.busy": "2023-12-04T01:47:42.574073Z",
     "iopub.status.idle": "2023-12-04T01:47:56.594809Z",
     "shell.execute_reply": "2023-12-04T01:47:56.594809Z",
     "shell.execute_reply.started": "2023-12-04T01:47:42.575072Z"
    }
   },
   "outputs": [
    {
     "name": "stdout",
     "output_type": "stream",
     "text": [
      "+----------------------------+---------------------------------------------------------------------------------+\n",
      "|user_id                     |ad_name                                                                          |\n",
      "+----------------------------+---------------------------------------------------------------------------------+\n",
      "|LrKE2k3t4vf7JB6RSPKVtzalSxA3|원피스잠옷 임산부잠옷 여름잠옷 10193                                             |\n",
      "|ABqeZUnu0kMGpUEgVjqug3J3Xee2|전자담배액상 전담액상 입호흡 발라리안 샤인머스켓 딥베이프 30ml 10212             |\n",
      "|sI5iQ2xW5Zbliiac6oA48fGgjY33|시저스펫 강아지 수제 간식 동결건조 초록입 홍합 슬개골 관절 예방 50g 10201        |\n",
      "|WLtyuEYCG0MxY07Kh2lDclVLM2x1|(3+1)씬앤헬스 날씬 락토페린 1정 300mg,16주분 총33600 장용성 식약처 효능 10195    |\n",
      "|l2fKHI4fYDcl1iLEC4zMMnGdKTz2|원피스잠옷 임산부잠옷 여름잠옷 10193                                             |\n",
      "|NCBm4a7hwFQ1NCtepUAQmcKwYxy2|씬앤헬스 날씬 락토페린 300mg 초유 단백질 효능 4주분 10194                        |\n",
      "|rYIFbEOjBTWgCmUEBNEDKGpkC323|시저스펫 강아지 수제 간식 동결건조 초록입 홍합 슬개골 관절 예방 50g 10201        |\n",
      "|atYb3GWajwaHIFqiXhulZVMZZCQ2|전자담배액상 전담액상 입호흡 발라리안 샤인머스켓 딥베이프 30ml 10212             |\n",
      "|WN23YdQROQVg5XJWx2bF3rgaIC62|비타 스틱 국산 비타민 담배 금연 보조제 니코틴없는 전자 금연초 파이프 10199       |\n",
      "|SGiVcqCb9MdqTkovfW7uKhRJASE3|씬앤헬스 날씬 락토페린 300mg 초유 단백질 효능 4주분 10194                        |\n",
      "|BZC6lGB5ViUK8Hn5wf82SjHwNhS2|(3+1)씬앤헬스 날씬 락토페린 1정 300mg,16주분 총33600 장용성 식약처 효능 10195    |\n",
      "|4D5SpYF49aeVJz5IzdR7GqNZcWC2|시저스펫 강아지 수제 간식 동결건조 초록입 홍합 슬개골 관절 예방 50g 10201        |\n",
      "|DVQHaB1KlUPkwwPzHqvBniXPPba2|산업용 철제선반 조립식앵글 메탈선반 고릴라랙 베란다 가정형 340x750x1450 5단 10209|\n",
      "|HkK3QyAkQEcx6JaoTerl3ycx4ic2|(3+1)씬앤헬스 날씬 락토페린 1정 300mg,16주분 총33600 장용성 식약처 효능 10195    |\n",
      "|zdQi59aTNIdoOhjaJvHhz8YH8q83|시저스펫 강아지 수제 간식 동결건조 초록입 홍합 슬개골 관절 예방 50g 10201        |\n",
      "|zYr1IRp22qgeQffA7WzfOPYDv2R2|시저스펫 강아지 수제 간식 동결건조 초록입 홍합 슬개골 관절 예방 50g 10201        |\n",
      "|XGLYOne4tLgKX6N31Q5VZcelG9J2|원피스잠옷 임산부잠옷 여름잠옷 10193                                             |\n",
      "|6m2h6b60nRfSZya9hg0iHod91nI2|전자담배액상 전담액상 입호흡 발라리안 샤인머스켓 딥베이프 30ml 10212             |\n",
      "|t9XMa9vSavd8la1zKziTIr4peIb2|(3+1)씬앤헬스 날씬 락토페린 1정 300mg,16주분 총33600 장용성 식약처 효능 10195    |\n",
      "|jTDfM8qwjMYikRXtKc1Jkm9qGAE2|시저스펫 강아지 수제 간식 동결건조 초록입 홍합 슬개골 관절 예방 50g 10201        |\n",
      "+----------------------------+---------------------------------------------------------------------------------+\n",
      "only showing top 20 rows\n",
      "\n"
     ]
    }
   ],
   "source": [
    "df_july_sample.select('user_id', 'ad_name').show(truncate=False)"
   ]
  },
  {
   "cell_type": "markdown",
   "id": "b5e77b55-cbcf-4c55-a84c-8f04fe727f2a",
   "metadata": {
    "jp-MarkdownHeadingCollapsed": true
   },
   "source": [
    "# birth_year 컬럼 체크"
   ]
  },
  {
   "cell_type": "code",
   "execution_count": 5,
   "id": "32cc0f9a-baae-411f-8fff-3b7142e04ce4",
   "metadata": {
    "execution": {
     "iopub.execute_input": "2023-11-23T07:48:44.090745Z",
     "iopub.status.busy": "2023-11-23T07:48:44.090745Z",
     "iopub.status.idle": "2023-11-23T07:48:46.251698Z",
     "shell.execute_reply": "2023-11-23T07:48:46.250699Z",
     "shell.execute_reply.started": "2023-11-23T07:48:44.090745Z"
    },
    "scrolled": true
   },
   "outputs": [
    {
     "name": "stdout",
     "output_type": "stream",
     "text": [
      "+----------+-----+\n",
      "|birth_year|count|\n",
      "+----------+-----+\n",
      "|82        |372  |\n",
      "|80        |356  |\n",
      "|83        |349  |\n",
      "|81        |345  |\n",
      "|79        |327  |\n",
      "|88        |302  |\n",
      "|76        |287  |\n",
      "|70        |286  |\n",
      "|95        |283  |\n",
      "|92        |282  |\n",
      "|85        |269  |\n",
      "|90        |263  |\n",
      "|84        |263  |\n",
      "|87        |262  |\n",
      "|89        |261  |\n",
      "|91        |254  |\n",
      "|73        |244  |\n",
      "|77        |233  |\n",
      "|68        |220  |\n",
      "|74        |218  |\n",
      "|96        |216  |\n",
      "|93        |216  |\n",
      "|72        |211  |\n",
      "|78        |210  |\n",
      "|00        |203  |\n",
      "|69        |201  |\n",
      "|71        |188  |\n",
      "|86        |186  |\n",
      "|94        |180  |\n",
      "|97        |179  |\n",
      "|98        |171  |\n",
      "|65        |166  |\n",
      "|99        |161  |\n",
      "|60        |153  |\n",
      "|66        |146  |\n",
      "|75        |145  |\n",
      "|67        |139  |\n",
      "|63        |119  |\n",
      "|64        |98   |\n",
      "|59        |96   |\n",
      "|61        |92   |\n",
      "|62        |90   |\n",
      "|01        |81   |\n",
      "|05        |80   |\n",
      "|02        |79   |\n",
      "|03        |65   |\n",
      "|08        |61   |\n",
      "|04        |58   |\n",
      "|07        |47   |\n",
      "|55        |45   |\n",
      "|58        |42   |\n",
      "|06        |33   |\n",
      "|52        |29   |\n",
      "|54        |26   |\n",
      "|53        |18   |\n",
      "|50        |18   |\n",
      "|42        |14   |\n",
      "|49        |14   |\n",
      "|57        |13   |\n",
      "|51        |9    |\n",
      "|43        |7    |\n",
      "|37        |7    |\n",
      "|09        |5    |\n",
      "|45        |4    |\n",
      "|56        |3    |\n",
      "+----------+-----+\n",
      "\n"
     ]
    }
   ],
   "source": [
    "# 'birth_year' 컬럼의 고유한 값과 그 빈도수를 계산\n",
    "birth_year_counts = spark_df.groupBy(\"birth_year\").count()\n",
    "\n",
    "# 결과를 'count' 컬럼에 따라 내림차순으로 정렬\n",
    "birth_year_counts_ordered = birth_year_counts.orderBy(F.desc(\"count\"))\n",
    "\n",
    "# DataFrame의 전체 행 수를 얻습니다.\n",
    "total_rows = birth_year_counts_ordered.count()\n",
    "\n",
    "# 결과를 출력\n",
    "birth_year_counts_ordered.show(total_rows, truncate=False)"
   ]
  },
  {
   "cell_type": "markdown",
   "id": "0734664f-5464-4725-a07b-c9df5ecac8fd",
   "metadata": {
    "jp-MarkdownHeadingCollapsed": true
   },
   "source": [
    "# text_length 컬럼 체크\n",
    "## text_length 확인"
   ]
  },
  {
   "cell_type": "code",
   "execution_count": 7,
   "id": "cc2b4f25-08f3-4220-bb0f-89f80cf6f9b8",
   "metadata": {
    "execution": {
     "iopub.execute_input": "2023-10-30T05:33:07.928383Z",
     "iopub.status.busy": "2023-10-30T05:33:07.927384Z",
     "iopub.status.idle": "2023-10-30T05:33:18.655248Z",
     "shell.execute_reply": "2023-10-30T05:33:18.654247Z",
     "shell.execute_reply.started": "2023-10-30T05:33:07.928383Z"
    },
    "tags": []
   },
   "outputs": [],
   "source": [
    "# text_length가 0인 row를 필터링\n",
    "filtered_df = spark_df.filter(F.col('text_length') == 0)\n",
    "\n",
    "# text_length가 0인 row를 필터링하고, 10개의 row만 수집\n",
    "filtered_df_10 = filtered_df.limit(10).collect()\n",
    "\n",
    "# 수집된 모든 컬럼값을 출력\n",
    "for i, row in enumerate(filtered_df_10):\n",
    "    print(f\"{i+1}. {row}\")"
   ]
  },
  {
   "cell_type": "code",
   "execution_count": 6,
   "id": "e60913b2-7b9c-4b62-87ed-17ee8205e95d",
   "metadata": {
    "execution": {
     "iopub.execute_input": "2023-10-30T05:32:41.475516Z",
     "iopub.status.busy": "2023-10-30T05:32:41.475516Z",
     "iopub.status.idle": "2023-10-30T05:32:49.703737Z",
     "shell.execute_reply": "2023-10-30T05:32:49.702736Z",
     "shell.execute_reply.started": "2023-10-30T05:32:41.475516Z"
    },
    "tags": []
   },
   "outputs": [
    {
     "name": "stdout",
     "output_type": "stream",
     "text": [
      "+-----------+--------------+-----------+\n",
      "|  ad_script|cleaned_script|text_length|\n",
      "+-----------+--------------+-----------+\n",
      "|대용량액상 |   대용량액상 |          6|\n",
      "|    티맵, .|       티맵, .|          5|\n",
      "|    탄탄한a|       탄탄한a|          4|\n",
      "|      abcd |         abcd |          5|\n",
      "|   HSAET DQ|      HSAET DQ|          8|\n",
      "|       4947|          4947|          4|\n",
      "+-----------+--------------+-----------+\n",
      "\n"
     ]
    }
   ],
   "source": [
    "# # 테스트 데이터 생성\n",
    "# text_data = [(\"대용량액상 \",), (\"티맵, .\",), (\"탄탄한a\",), (\"abcd \",), (\"HSAET DQ\",), (\"4947\",)]\n",
    "# ad_script_column = [\"ad_script\"]\n",
    "\n",
    "# # 데이터프레임 생성\n",
    "# test_df = spark.createDataFrame(text_data, ad_script_column)\n",
    "\n",
    "# # 특수문자 제거 및 길이 계산\n",
    "# test_df = test_df.withColumn(\"cleaned_script\", F.regexp_replace(F.col(\"ad_script\"), \"[^\\\\s\\\\n.,\\uAC00-\\uD7A3a-zA-Z0-9]\", \"\"))\n",
    "# test_df = test_df.withColumn(\"text_length\", F.length(F.col(\"cleaned_script\")))\n",
    "\n",
    "# # 결과 출력\n",
    "# test_df.show()"
   ]
  },
  {
   "cell_type": "markdown",
   "id": "2e1eceea-94aa-44b7-9a67-5565b727fbfb",
   "metadata": {},
   "source": [
    "## text_length 교정"
   ]
  },
  {
   "cell_type": "code",
   "execution_count": 5,
   "id": "15282746-640e-462b-a823-2ae97a8be3f5",
   "metadata": {
    "execution": {
     "iopub.execute_input": "2023-10-30T05:46:17.432562Z",
     "iopub.status.busy": "2023-10-30T05:46:17.432562Z",
     "iopub.status.idle": "2023-10-30T05:46:17.685620Z",
     "shell.execute_reply": "2023-10-30T05:46:17.684620Z",
     "shell.execute_reply.started": "2023-10-30T05:46:17.432562Z"
    },
    "tags": []
   },
   "outputs": [],
   "source": [
    "spark_df = spark_df.drop('text_length')\n",
    "\n",
    "# 'ad_name'과 'ad_script'를 그룹화하고, 각 그룹의 개수를 카운트\n",
    "grouped_ad_texts = spark_df.groupBy('ad_name', 'ad_script').count()\n",
    "\n",
    "# 'ad_name' 별로 가장 빈번한 'ad_script'를 선택\n",
    "windowSpec = Window.partitionBy('ad_name').orderBy(F.desc('count'))\n",
    "most_frequent_ad_texts = grouped_ad_texts.withColumn(\"rank\", F.rank().over(windowSpec)).filter(\"rank = 1\").drop('count', 'rank')\n",
    "\n",
    "# 특수문자 제거 및 길이 계산\n",
    "most_frequent_ad_texts = most_frequent_ad_texts.withColumn(\"cleaned_script\", F.regexp_replace(F.col(\"ad_script\"), \"[^\\\\s\\\\n.,\\uAC00-\\uD7A3a-zA-Z0-9]\", \"\"))\n",
    "most_frequent_ad_texts = most_frequent_ad_texts.withColumn(\"text_length\", F.length(F.col(\"cleaned_script\")))\n",
    "\n",
    "# 원래 데이터프레임에 조인\n",
    "# most_frequent_ad_texts가 상대적으로 작다고 했으므로 브로드캐스팅을 사용\n",
    "spark_df = spark_df.join(broadcast(most_frequent_ad_texts.select('ad_name', 'text_length')), ['ad_name'], 'left')"
   ]
  },
  {
   "cell_type": "markdown",
   "id": "3e597205-1e41-4642-92b0-9527ad165ff9",
   "metadata": {
    "jp-MarkdownHeadingCollapsed": true
   },
   "source": [
    "# accuracy 관련 컬럼 체크  \n",
    "## average_accuracy_by_user 컬럼 체크"
   ]
  },
  {
   "cell_type": "code",
   "execution_count": 8,
   "id": "f2262b84-92a8-44b5-82cd-a5ca33580b1a",
   "metadata": {
    "execution": {
     "iopub.execute_input": "2023-10-30T05:39:07.843066Z",
     "iopub.status.busy": "2023-10-30T05:39:07.843066Z",
     "iopub.status.idle": "2023-10-30T05:39:18.182977Z",
     "shell.execute_reply": "2023-10-30T05:39:18.181977Z",
     "shell.execute_reply.started": "2023-10-30T05:39:07.843066Z"
    },
    "tags": []
   },
   "outputs": [
    {
     "name": "stdout",
     "output_type": "stream",
     "text": [
      "The average of the first values in accuracy_array is 83.3108759553204\n"
     ]
    }
   ],
   "source": [
    "# user_id가 'Z77mAlLcRRbxQcW82ldEnAlOVUE2'인 행만 필터링\n",
    "filtered_df = spark_df.filter(F.col(\"user_id\") == 'Z77mAlLcRRbxQcW82ldEnAlOVUE2')\n",
    "\n",
    "# accuracy_array 컬럼만 선택하고 수집\n",
    "accuracy_array_values = filtered_df.select(\"accuracy_array\").collect()\n",
    "\n",
    "# 첫 번째 값들을 담을 리스트 초기화\n",
    "first_values = []\n",
    "\n",
    "# 수집된 값을 순회하면서 첫 번째 값들을 리스트에 추가\n",
    "for row in accuracy_array_values:\n",
    "    array_value = row[\"accuracy_array\"]\n",
    "    if array_value:\n",
    "        first_values.append(array_value[0])\n",
    "\n",
    "# 평균을 계산\n",
    "if first_values:\n",
    "    average_value = reduce(lambda x, y: x + y, first_values) / len(first_values)\n",
    "    print(f\"The average of the first values in accuracy_array is {average_value}\")\n",
    "else:\n",
    "    print(\"No data available for the calculation.\")"
   ]
  },
  {
   "cell_type": "markdown",
   "id": "1350230a",
   "metadata": {},
   "source": [
    "# 수집된 음성데이터들의 광고 종료일의 처음과 끝"
   ]
  },
  {
   "cell_type": "markdown",
   "id": "0c0585c8",
   "metadata": {},
   "source": [
    "1단계: created_timestamp_array에서 첫 번째 날짜 정보를 정규 표현식으로 추출  \n",
    "    (예: \"['23.06.06 오후 07시...]\" -> \"23.06.06\")    \n",
    "2단계: 날짜 형식으로 변환 (예: '23.06.06' -> '2023-06-06')  \n",
    "3단계: 날짜를 기준으로 DataFrame 정렬  \n",
    "4단계: 첫 번째와 마지막 행의 날짜 출력    "
   ]
  },
  {
   "cell_type": "code",
   "execution_count": 21,
   "id": "edc795b5",
   "metadata": {
    "ExecuteTime": {
     "end_time": "2023-10-18T01:45:52.920281Z",
     "start_time": "2023-10-18T01:45:49.744262Z"
    },
    "execution": {
     "iopub.execute_input": "2023-12-07T05:08:15.172611Z",
     "iopub.status.busy": "2023-12-07T05:08:15.171610Z",
     "iopub.status.idle": "2023-12-07T05:08:21.478196Z",
     "shell.execute_reply": "2023-12-07T05:08:21.478196Z",
     "shell.execute_reply.started": "2023-12-07T05:08:15.172611Z"
    },
    "tags": []
   },
   "outputs": [
    {
     "name": "stdout",
     "output_type": "stream",
     "text": [
      "가장 먼저 생성된 음성파일의 날짜: 2022-04-20\n",
      "가장 나중에 생성된 음성파일의 날짜: 2023-12-04\n"
     ]
    }
   ],
   "source": [
    "# 'created_timestamp_array'에서 첫 번째 요소를 가져옵니다.\n",
    "spark_df = spark_df.withColumn('first_timestamp', element_at(spark_df['created_timestamp_array'], 1))\n",
    "\n",
    "# 첫 번째 요소에서 날짜를 추출합니다.\n",
    "spark_df = spark_df.withColumn(\n",
    "    'first_created_date', \n",
    "    regexp_extract(col('first_timestamp'), r\"(\\d{2}\\.\\d{2}\\.\\d{2})\", 1)\n",
    ")\n",
    "\n",
    "# 날짜 형식으로 변환합니다 (예: '23.06.06' -> '2023-06-06').\n",
    "spark_df = spark_df.withColumn(\n",
    "    'first_created_date', \n",
    "    F.expr(\"concat('20', substring(first_created_date, 1, 2), '-', substring(first_created_date, 4, 2), '-', substring(first_created_date, 7, 2))\")\n",
    ")\n",
    "\n",
    "# 날짜를 기준으로 DataFrame 정렬합니다.\n",
    "spark_df = spark_df.sort('first_created_date')\n",
    "\n",
    "# 첫 번째와 마지막 행의 날짜를 출력합니다.\n",
    "earliest_date = spark_df.select('first_created_date').limit(1).collect()[0][0]\n",
    "latest_date = spark_df.select('first_created_date').orderBy(F.desc('first_created_date')).limit(1).collect()[0][0]\n",
    "\n",
    "print(f\"가장 먼저 생성된 음성파일의 날짜: {earliest_date}\")\n",
    "print(f\"가장 나중에 생성된 음성파일의 날짜: {latest_date}\")"
   ]
  },
  {
   "cell_type": "markdown",
   "id": "87bf1cde",
   "metadata": {},
   "source": [
    "# 월별로 Point와 Memorization의 평균을 계산 -> 막대 그래프 "
   ]
  },
  {
   "cell_type": "code",
   "execution_count": null,
   "id": "04551276",
   "metadata": {
    "ExecuteTime": {
     "end_time": "2023-09-27T05:43:01.851263Z",
     "start_time": "2023-09-27T05:43:01.837259Z"
    },
    "execution": {
     "iopub.status.busy": "2023-10-30T02:37:32.196399Z",
     "iopub.status.idle": "2023-10-30T02:37:32.197399Z",
     "shell.execute_reply": "2023-10-30T02:37:32.196399Z",
     "shell.execute_reply.started": "2023-10-30T02:37:32.196399Z"
    }
   },
   "outputs": [],
   "source": [
    "# plt.rc('font', family='NanumBarunGothic')  # 한글 폰트 설정, 예: 'NanumBarunGothic', 'Malgun Gothic' 등"
   ]
  },
  {
   "cell_type": "code",
   "execution_count": 7,
   "id": "58547bf4",
   "metadata": {
    "ExecuteTime": {
     "end_time": "2023-10-18T01:46:01.128480Z",
     "start_time": "2023-10-18T01:45:57.982205Z"
    },
    "editable": true,
    "execution": {
     "iopub.execute_input": "2023-12-18T10:51:38.339060Z",
     "iopub.status.busy": "2023-12-18T10:51:38.338060Z",
     "iopub.status.idle": "2023-12-18T10:51:49.885579Z",
     "shell.execute_reply": "2023-12-18T10:51:49.867749Z",
     "shell.execute_reply.started": "2023-12-18T10:51:38.339060Z"
    },
    "scrolled": true,
    "slideshow": {
     "slide_type": ""
    },
    "tags": []
   },
   "outputs": [
    {
     "name": "stderr",
     "output_type": "stream",
     "text": [
      "ERROR:root:Exception while sending command.\n",
      "Traceback (most recent call last):\n",
      "  File \"C:\\Users\\admin\\anaconda3\\envs\\my_conda_01\\lib\\site-packages\\py4j\\clientserver.py\", line 511, in send_command\n",
      "    answer = smart_decode(self.stream.readline()[:-1])\n",
      "  File \"C:\\Users\\admin\\anaconda3\\envs\\my_conda_01\\lib\\socket.py\", line 705, in readinto\n",
      "    return self._sock.recv_into(b)\n",
      "ConnectionResetError: [WinError 10054] 현재 연결은 원격 호스트에 의해 강제로 끊겼습니다\n",
      "\n",
      "During handling of the above exception, another exception occurred:\n",
      "\n",
      "Traceback (most recent call last):\n",
      "  File \"C:\\Users\\admin\\anaconda3\\envs\\my_conda_01\\lib\\site-packages\\py4j\\java_gateway.py\", line 1038, in send_command\n",
      "    response = connection.send_command(command)\n",
      "  File \"C:\\Users\\admin\\anaconda3\\envs\\my_conda_01\\lib\\site-packages\\py4j\\clientserver.py\", line 539, in send_command\n",
      "    raise Py4JNetworkError(\n",
      "py4j.protocol.Py4JNetworkError: Error while sending or receiving\n"
     ]
    },
    {
     "ename": "ConnectionRefusedError",
     "evalue": "[WinError 10061] 대상 컴퓨터에서 연결을 거부했으므로 연결하지 못했습니다",
     "output_type": "error",
     "traceback": [
      "\u001b[1;31m---------------------------------------------------------------------------\u001b[0m",
      "\u001b[1;31mPy4JError\u001b[0m                                 Traceback (most recent call last)",
      "File \u001b[1;32m~\\anaconda3\\envs\\my_conda_01\\lib\\site-packages\\pyspark\\sql\\dataframe.py:1216\u001b[0m, in \u001b[0;36mDataFrame.collect\u001b[1;34m(self)\u001b[0m\n\u001b[0;32m   1215\u001b[0m \u001b[38;5;28;01mwith\u001b[39;00m SCCallSiteSync(\u001b[38;5;28mself\u001b[39m\u001b[38;5;241m.\u001b[39m_sc):\n\u001b[1;32m-> 1216\u001b[0m     sock_info \u001b[38;5;241m=\u001b[39m \u001b[38;5;28;43mself\u001b[39;49m\u001b[38;5;241;43m.\u001b[39;49m\u001b[43m_jdf\u001b[49m\u001b[38;5;241;43m.\u001b[39;49m\u001b[43mcollectToPython\u001b[49m\u001b[43m(\u001b[49m\u001b[43m)\u001b[49m\n\u001b[0;32m   1217\u001b[0m \u001b[38;5;28;01mreturn\u001b[39;00m \u001b[38;5;28mlist\u001b[39m(_load_from_socket(sock_info, BatchedSerializer(CPickleSerializer())))\n",
      "File \u001b[1;32m~\\anaconda3\\envs\\my_conda_01\\lib\\site-packages\\py4j\\java_gateway.py:1322\u001b[0m, in \u001b[0;36mJavaMember.__call__\u001b[1;34m(self, *args)\u001b[0m\n\u001b[0;32m   1321\u001b[0m answer \u001b[38;5;241m=\u001b[39m \u001b[38;5;28mself\u001b[39m\u001b[38;5;241m.\u001b[39mgateway_client\u001b[38;5;241m.\u001b[39msend_command(command)\n\u001b[1;32m-> 1322\u001b[0m return_value \u001b[38;5;241m=\u001b[39m \u001b[43mget_return_value\u001b[49m\u001b[43m(\u001b[49m\n\u001b[0;32m   1323\u001b[0m \u001b[43m    \u001b[49m\u001b[43manswer\u001b[49m\u001b[43m,\u001b[49m\u001b[43m \u001b[49m\u001b[38;5;28;43mself\u001b[39;49m\u001b[38;5;241;43m.\u001b[39;49m\u001b[43mgateway_client\u001b[49m\u001b[43m,\u001b[49m\u001b[43m \u001b[49m\u001b[38;5;28;43mself\u001b[39;49m\u001b[38;5;241;43m.\u001b[39;49m\u001b[43mtarget_id\u001b[49m\u001b[43m,\u001b[49m\u001b[43m \u001b[49m\u001b[38;5;28;43mself\u001b[39;49m\u001b[38;5;241;43m.\u001b[39;49m\u001b[43mname\u001b[49m\u001b[43m)\u001b[49m\n\u001b[0;32m   1325\u001b[0m \u001b[38;5;28;01mfor\u001b[39;00m temp_arg \u001b[38;5;129;01min\u001b[39;00m temp_args:\n",
      "File \u001b[1;32m~\\anaconda3\\envs\\my_conda_01\\lib\\site-packages\\pyspark\\errors\\exceptions\\captured.py:169\u001b[0m, in \u001b[0;36mcapture_sql_exception.<locals>.deco\u001b[1;34m(*a, **kw)\u001b[0m\n\u001b[0;32m    168\u001b[0m \u001b[38;5;28;01mtry\u001b[39;00m:\n\u001b[1;32m--> 169\u001b[0m     \u001b[38;5;28;01mreturn\u001b[39;00m f(\u001b[38;5;241m*\u001b[39ma, \u001b[38;5;241m*\u001b[39m\u001b[38;5;241m*\u001b[39mkw)\n\u001b[0;32m    170\u001b[0m \u001b[38;5;28;01mexcept\u001b[39;00m Py4JJavaError \u001b[38;5;28;01mas\u001b[39;00m e:\n",
      "File \u001b[1;32m~\\anaconda3\\envs\\my_conda_01\\lib\\site-packages\\py4j\\protocol.py:334\u001b[0m, in \u001b[0;36mget_return_value\u001b[1;34m(answer, gateway_client, target_id, name)\u001b[0m\n\u001b[0;32m    333\u001b[0m     \u001b[38;5;28;01melse\u001b[39;00m:\n\u001b[1;32m--> 334\u001b[0m         \u001b[38;5;28;01mraise\u001b[39;00m Py4JError(\n\u001b[0;32m    335\u001b[0m             \u001b[38;5;124m\"\u001b[39m\u001b[38;5;124mAn error occurred while calling \u001b[39m\u001b[38;5;132;01m{0}\u001b[39;00m\u001b[38;5;132;01m{1}\u001b[39;00m\u001b[38;5;132;01m{2}\u001b[39;00m\u001b[38;5;124m\"\u001b[39m\u001b[38;5;241m.\u001b[39m\n\u001b[0;32m    336\u001b[0m             \u001b[38;5;28mformat\u001b[39m(target_id, \u001b[38;5;124m\"\u001b[39m\u001b[38;5;124m.\u001b[39m\u001b[38;5;124m\"\u001b[39m, name))\n\u001b[0;32m    337\u001b[0m \u001b[38;5;28;01melse\u001b[39;00m:\n",
      "\u001b[1;31mPy4JError\u001b[0m: An error occurred while calling o80.collectToPython",
      "\nDuring handling of the above exception, another exception occurred:\n",
      "\u001b[1;31mConnectionRefusedError\u001b[0m                    Traceback (most recent call last)",
      "Cell \u001b[1;32mIn[7], line 8\u001b[0m\n\u001b[0;32m      5\u001b[0m grouped_data \u001b[38;5;241m=\u001b[39m spark_df\u001b[38;5;241m.\u001b[39mfilter(F\u001b[38;5;241m.\u001b[39mcol(\u001b[38;5;124m\"\u001b[39m\u001b[38;5;124mcollection\u001b[39m\u001b[38;5;124m\"\u001b[39m)\u001b[38;5;241m.\u001b[39misin([\u001b[38;5;124m\"\u001b[39m\u001b[38;5;124mPoint\u001b[39m\u001b[38;5;124m\"\u001b[39m, \u001b[38;5;124m\"\u001b[39m\u001b[38;5;124mMemorization\u001b[39m\u001b[38;5;124m\"\u001b[39m]))\u001b[38;5;241m.\u001b[39mgroupBy(\u001b[38;5;124m\"\u001b[39m\u001b[38;5;124mmonth\u001b[39m\u001b[38;5;124m\"\u001b[39m, \u001b[38;5;124m\"\u001b[39m\u001b[38;5;124mcollection\u001b[39m\u001b[38;5;124m\"\u001b[39m)\u001b[38;5;241m.\u001b[39mcount()\u001b[38;5;241m.\u001b[39msort(\u001b[38;5;124m\"\u001b[39m\u001b[38;5;124mmonth\u001b[39m\u001b[38;5;124m\"\u001b[39m, \u001b[38;5;124m\"\u001b[39m\u001b[38;5;124mcollection\u001b[39m\u001b[38;5;124m\"\u001b[39m)\n\u001b[0;32m      7\u001b[0m \u001b[38;5;66;03m# Spark DataFrame을 Pandas DataFrame으로 변환\u001b[39;00m\n\u001b[1;32m----> 8\u001b[0m pdf \u001b[38;5;241m=\u001b[39m \u001b[43mgrouped_data\u001b[49m\u001b[38;5;241;43m.\u001b[39;49m\u001b[43mtoPandas\u001b[49m\u001b[43m(\u001b[49m\u001b[43m)\u001b[49m\n\u001b[0;32m     10\u001b[0m \u001b[38;5;66;03m# 월 정보에서 연도 부분을 축소 (예: '2023-04' -> '23-04')\u001b[39;00m\n\u001b[0;32m     11\u001b[0m pdf[\u001b[38;5;124m'\u001b[39m\u001b[38;5;124mshort_month\u001b[39m\u001b[38;5;124m'\u001b[39m] \u001b[38;5;241m=\u001b[39m pdf[\u001b[38;5;124m'\u001b[39m\u001b[38;5;124mmonth\u001b[39m\u001b[38;5;124m'\u001b[39m]\u001b[38;5;241m.\u001b[39mstr[\u001b[38;5;241m2\u001b[39m:]\n",
      "File \u001b[1;32m~\\anaconda3\\envs\\my_conda_01\\lib\\site-packages\\pyspark\\sql\\pandas\\conversion.py:208\u001b[0m, in \u001b[0;36mPandasConversionMixin.toPandas\u001b[1;34m(self)\u001b[0m\n\u001b[0;32m    205\u001b[0m             \u001b[38;5;28;01mraise\u001b[39;00m\n\u001b[0;32m    207\u001b[0m \u001b[38;5;66;03m# Below is toPandas without Arrow optimization.\u001b[39;00m\n\u001b[1;32m--> 208\u001b[0m pdf \u001b[38;5;241m=\u001b[39m pd\u001b[38;5;241m.\u001b[39mDataFrame\u001b[38;5;241m.\u001b[39mfrom_records(\u001b[38;5;28;43mself\u001b[39;49m\u001b[38;5;241;43m.\u001b[39;49m\u001b[43mcollect\u001b[49m\u001b[43m(\u001b[49m\u001b[43m)\u001b[49m, columns\u001b[38;5;241m=\u001b[39m\u001b[38;5;28mself\u001b[39m\u001b[38;5;241m.\u001b[39mcolumns)\n\u001b[0;32m    209\u001b[0m column_counter \u001b[38;5;241m=\u001b[39m Counter(\u001b[38;5;28mself\u001b[39m\u001b[38;5;241m.\u001b[39mcolumns)\n\u001b[0;32m    211\u001b[0m corrected_dtypes: List[Optional[Type]] \u001b[38;5;241m=\u001b[39m [\u001b[38;5;28;01mNone\u001b[39;00m] \u001b[38;5;241m*\u001b[39m \u001b[38;5;28mlen\u001b[39m(\u001b[38;5;28mself\u001b[39m\u001b[38;5;241m.\u001b[39mschema)\n",
      "File \u001b[1;32m~\\anaconda3\\envs\\my_conda_01\\lib\\site-packages\\pyspark\\sql\\dataframe.py:1215\u001b[0m, in \u001b[0;36mDataFrame.collect\u001b[1;34m(self)\u001b[0m\n\u001b[0;32m   1195\u001b[0m \u001b[38;5;28;01mdef\u001b[39;00m \u001b[38;5;21mcollect\u001b[39m(\u001b[38;5;28mself\u001b[39m) \u001b[38;5;241m-\u001b[39m\u001b[38;5;241m>\u001b[39m List[Row]:\n\u001b[0;32m   1196\u001b[0m \u001b[38;5;250m    \u001b[39m\u001b[38;5;124;03m\"\"\"Returns all the records as a list of :class:`Row`.\u001b[39;00m\n\u001b[0;32m   1197\u001b[0m \n\u001b[0;32m   1198\u001b[0m \u001b[38;5;124;03m    .. versionadded:: 1.3.0\u001b[39;00m\n\u001b[1;32m   (...)\u001b[0m\n\u001b[0;32m   1213\u001b[0m \u001b[38;5;124;03m    [Row(age=14, name='Tom'), Row(age=23, name='Alice'), Row(age=16, name='Bob')]\u001b[39;00m\n\u001b[0;32m   1214\u001b[0m \u001b[38;5;124;03m    \"\"\"\u001b[39;00m\n\u001b[1;32m-> 1215\u001b[0m     \u001b[38;5;28;01mwith\u001b[39;00m SCCallSiteSync(\u001b[38;5;28mself\u001b[39m\u001b[38;5;241m.\u001b[39m_sc):\n\u001b[0;32m   1216\u001b[0m         sock_info \u001b[38;5;241m=\u001b[39m \u001b[38;5;28mself\u001b[39m\u001b[38;5;241m.\u001b[39m_jdf\u001b[38;5;241m.\u001b[39mcollectToPython()\n\u001b[0;32m   1217\u001b[0m     \u001b[38;5;28;01mreturn\u001b[39;00m \u001b[38;5;28mlist\u001b[39m(_load_from_socket(sock_info, BatchedSerializer(CPickleSerializer())))\n",
      "File \u001b[1;32m~\\anaconda3\\envs\\my_conda_01\\lib\\site-packages\\pyspark\\traceback_utils.py:81\u001b[0m, in \u001b[0;36mSCCallSiteSync.__exit__\u001b[1;34m(self, type, value, tb)\u001b[0m\n\u001b[0;32m     79\u001b[0m SCCallSiteSync\u001b[38;5;241m.\u001b[39m_spark_stack_depth \u001b[38;5;241m-\u001b[39m\u001b[38;5;241m=\u001b[39m \u001b[38;5;241m1\u001b[39m\n\u001b[0;32m     80\u001b[0m \u001b[38;5;28;01mif\u001b[39;00m SCCallSiteSync\u001b[38;5;241m.\u001b[39m_spark_stack_depth \u001b[38;5;241m==\u001b[39m \u001b[38;5;241m0\u001b[39m:\n\u001b[1;32m---> 81\u001b[0m     \u001b[38;5;28;43mself\u001b[39;49m\u001b[38;5;241;43m.\u001b[39;49m\u001b[43m_context\u001b[49m\u001b[38;5;241;43m.\u001b[39;49m\u001b[43m_jsc\u001b[49m\u001b[38;5;241;43m.\u001b[39;49m\u001b[43msetCallSite\u001b[49m\u001b[43m(\u001b[49m\u001b[38;5;28;43;01mNone\u001b[39;49;00m\u001b[43m)\u001b[49m\n",
      "File \u001b[1;32m~\\anaconda3\\envs\\my_conda_01\\lib\\site-packages\\py4j\\java_gateway.py:1321\u001b[0m, in \u001b[0;36mJavaMember.__call__\u001b[1;34m(self, *args)\u001b[0m\n\u001b[0;32m   1314\u001b[0m args_command, temp_args \u001b[38;5;241m=\u001b[39m \u001b[38;5;28mself\u001b[39m\u001b[38;5;241m.\u001b[39m_build_args(\u001b[38;5;241m*\u001b[39margs)\n\u001b[0;32m   1316\u001b[0m command \u001b[38;5;241m=\u001b[39m proto\u001b[38;5;241m.\u001b[39mCALL_COMMAND_NAME \u001b[38;5;241m+\u001b[39m\\\n\u001b[0;32m   1317\u001b[0m     \u001b[38;5;28mself\u001b[39m\u001b[38;5;241m.\u001b[39mcommand_header \u001b[38;5;241m+\u001b[39m\\\n\u001b[0;32m   1318\u001b[0m     args_command \u001b[38;5;241m+\u001b[39m\\\n\u001b[0;32m   1319\u001b[0m     proto\u001b[38;5;241m.\u001b[39mEND_COMMAND_PART\n\u001b[1;32m-> 1321\u001b[0m answer \u001b[38;5;241m=\u001b[39m \u001b[38;5;28;43mself\u001b[39;49m\u001b[38;5;241;43m.\u001b[39;49m\u001b[43mgateway_client\u001b[49m\u001b[38;5;241;43m.\u001b[39;49m\u001b[43msend_command\u001b[49m\u001b[43m(\u001b[49m\u001b[43mcommand\u001b[49m\u001b[43m)\u001b[49m\n\u001b[0;32m   1322\u001b[0m return_value \u001b[38;5;241m=\u001b[39m get_return_value(\n\u001b[0;32m   1323\u001b[0m     answer, \u001b[38;5;28mself\u001b[39m\u001b[38;5;241m.\u001b[39mgateway_client, \u001b[38;5;28mself\u001b[39m\u001b[38;5;241m.\u001b[39mtarget_id, \u001b[38;5;28mself\u001b[39m\u001b[38;5;241m.\u001b[39mname)\n\u001b[0;32m   1325\u001b[0m \u001b[38;5;28;01mfor\u001b[39;00m temp_arg \u001b[38;5;129;01min\u001b[39;00m temp_args:\n",
      "File \u001b[1;32m~\\anaconda3\\envs\\my_conda_01\\lib\\site-packages\\py4j\\java_gateway.py:1036\u001b[0m, in \u001b[0;36mGatewayClient.send_command\u001b[1;34m(self, command, retry, binary)\u001b[0m\n\u001b[0;32m   1015\u001b[0m \u001b[38;5;28;01mdef\u001b[39;00m \u001b[38;5;21msend_command\u001b[39m(\u001b[38;5;28mself\u001b[39m, command, retry\u001b[38;5;241m=\u001b[39m\u001b[38;5;28;01mTrue\u001b[39;00m, binary\u001b[38;5;241m=\u001b[39m\u001b[38;5;28;01mFalse\u001b[39;00m):\n\u001b[0;32m   1016\u001b[0m \u001b[38;5;250m    \u001b[39m\u001b[38;5;124;03m\"\"\"Sends a command to the JVM. This method is not intended to be\u001b[39;00m\n\u001b[0;32m   1017\u001b[0m \u001b[38;5;124;03m       called directly by Py4J users. It is usually called by\u001b[39;00m\n\u001b[0;32m   1018\u001b[0m \u001b[38;5;124;03m       :class:`JavaMember` instances.\u001b[39;00m\n\u001b[1;32m   (...)\u001b[0m\n\u001b[0;32m   1034\u001b[0m \u001b[38;5;124;03m     if `binary` is `True`.\u001b[39;00m\n\u001b[0;32m   1035\u001b[0m \u001b[38;5;124;03m    \"\"\"\u001b[39;00m\n\u001b[1;32m-> 1036\u001b[0m     connection \u001b[38;5;241m=\u001b[39m \u001b[38;5;28;43mself\u001b[39;49m\u001b[38;5;241;43m.\u001b[39;49m\u001b[43m_get_connection\u001b[49m\u001b[43m(\u001b[49m\u001b[43m)\u001b[49m\n\u001b[0;32m   1037\u001b[0m     \u001b[38;5;28;01mtry\u001b[39;00m:\n\u001b[0;32m   1038\u001b[0m         response \u001b[38;5;241m=\u001b[39m connection\u001b[38;5;241m.\u001b[39msend_command(command)\n",
      "File \u001b[1;32m~\\anaconda3\\envs\\my_conda_01\\lib\\site-packages\\py4j\\clientserver.py:284\u001b[0m, in \u001b[0;36mJavaClient._get_connection\u001b[1;34m(self)\u001b[0m\n\u001b[0;32m    281\u001b[0m     \u001b[38;5;28;01mpass\u001b[39;00m\n\u001b[0;32m    283\u001b[0m \u001b[38;5;28;01mif\u001b[39;00m connection \u001b[38;5;129;01mis\u001b[39;00m \u001b[38;5;28;01mNone\u001b[39;00m \u001b[38;5;129;01mor\u001b[39;00m connection\u001b[38;5;241m.\u001b[39msocket \u001b[38;5;129;01mis\u001b[39;00m \u001b[38;5;28;01mNone\u001b[39;00m:\n\u001b[1;32m--> 284\u001b[0m     connection \u001b[38;5;241m=\u001b[39m \u001b[38;5;28;43mself\u001b[39;49m\u001b[38;5;241;43m.\u001b[39;49m\u001b[43m_create_new_connection\u001b[49m\u001b[43m(\u001b[49m\u001b[43m)\u001b[49m\n\u001b[0;32m    285\u001b[0m \u001b[38;5;28;01mreturn\u001b[39;00m connection\n",
      "File \u001b[1;32m~\\anaconda3\\envs\\my_conda_01\\lib\\site-packages\\py4j\\clientserver.py:291\u001b[0m, in \u001b[0;36mJavaClient._create_new_connection\u001b[1;34m(self)\u001b[0m\n\u001b[0;32m    287\u001b[0m \u001b[38;5;28;01mdef\u001b[39;00m \u001b[38;5;21m_create_new_connection\u001b[39m(\u001b[38;5;28mself\u001b[39m):\n\u001b[0;32m    288\u001b[0m     connection \u001b[38;5;241m=\u001b[39m ClientServerConnection(\n\u001b[0;32m    289\u001b[0m         \u001b[38;5;28mself\u001b[39m\u001b[38;5;241m.\u001b[39mjava_parameters, \u001b[38;5;28mself\u001b[39m\u001b[38;5;241m.\u001b[39mpython_parameters,\n\u001b[0;32m    290\u001b[0m         \u001b[38;5;28mself\u001b[39m\u001b[38;5;241m.\u001b[39mgateway_property, \u001b[38;5;28mself\u001b[39m)\n\u001b[1;32m--> 291\u001b[0m     \u001b[43mconnection\u001b[49m\u001b[38;5;241;43m.\u001b[39;49m\u001b[43mconnect_to_java_server\u001b[49m\u001b[43m(\u001b[49m\u001b[43m)\u001b[49m\n\u001b[0;32m    292\u001b[0m     \u001b[38;5;28mself\u001b[39m\u001b[38;5;241m.\u001b[39mset_thread_connection(connection)\n\u001b[0;32m    293\u001b[0m     \u001b[38;5;28;01mreturn\u001b[39;00m connection\n",
      "File \u001b[1;32m~\\anaconda3\\envs\\my_conda_01\\lib\\site-packages\\py4j\\clientserver.py:438\u001b[0m, in \u001b[0;36mClientServerConnection.connect_to_java_server\u001b[1;34m(self)\u001b[0m\n\u001b[0;32m    435\u001b[0m \u001b[38;5;28;01mif\u001b[39;00m \u001b[38;5;28mself\u001b[39m\u001b[38;5;241m.\u001b[39mssl_context:\n\u001b[0;32m    436\u001b[0m     \u001b[38;5;28mself\u001b[39m\u001b[38;5;241m.\u001b[39msocket \u001b[38;5;241m=\u001b[39m \u001b[38;5;28mself\u001b[39m\u001b[38;5;241m.\u001b[39mssl_context\u001b[38;5;241m.\u001b[39mwrap_socket(\n\u001b[0;32m    437\u001b[0m         \u001b[38;5;28mself\u001b[39m\u001b[38;5;241m.\u001b[39msocket, server_hostname\u001b[38;5;241m=\u001b[39m\u001b[38;5;28mself\u001b[39m\u001b[38;5;241m.\u001b[39mjava_address)\n\u001b[1;32m--> 438\u001b[0m \u001b[38;5;28;43mself\u001b[39;49m\u001b[38;5;241;43m.\u001b[39;49m\u001b[43msocket\u001b[49m\u001b[38;5;241;43m.\u001b[39;49m\u001b[43mconnect\u001b[49m\u001b[43m(\u001b[49m\u001b[43m(\u001b[49m\u001b[38;5;28;43mself\u001b[39;49m\u001b[38;5;241;43m.\u001b[39;49m\u001b[43mjava_address\u001b[49m\u001b[43m,\u001b[49m\u001b[43m \u001b[49m\u001b[38;5;28;43mself\u001b[39;49m\u001b[38;5;241;43m.\u001b[39;49m\u001b[43mjava_port\u001b[49m\u001b[43m)\u001b[49m\u001b[43m)\u001b[49m\n\u001b[0;32m    439\u001b[0m \u001b[38;5;28mself\u001b[39m\u001b[38;5;241m.\u001b[39mstream \u001b[38;5;241m=\u001b[39m \u001b[38;5;28mself\u001b[39m\u001b[38;5;241m.\u001b[39msocket\u001b[38;5;241m.\u001b[39mmakefile(\u001b[38;5;124m\"\u001b[39m\u001b[38;5;124mrb\u001b[39m\u001b[38;5;124m\"\u001b[39m)\n\u001b[0;32m    440\u001b[0m \u001b[38;5;28mself\u001b[39m\u001b[38;5;241m.\u001b[39mis_connected \u001b[38;5;241m=\u001b[39m \u001b[38;5;28;01mTrue\u001b[39;00m\n",
      "\u001b[1;31mConnectionRefusedError\u001b[0m: [WinError 10061] 대상 컴퓨터에서 연결을 거부했으므로 연결하지 못했습니다"
     ]
    }
   ],
   "source": [
    "# 월 정보를 추출\n",
    "spark_df = spark_df.withColumn(\"month\", F.date_format(\"first_created_date\", \"yyyy-MM\"))\n",
    "\n",
    "# 월별로 Point와 Memorization의 카운트 계산\n",
    "grouped_data = spark_df.filter(F.col(\"collection\").isin([\"Point\", \"Memorization\"])).groupBy(\"month\", \"collection\").count().sort(\"month\", \"collection\")\n",
    "\n",
    "# Spark DataFrame을 Pandas DataFrame으로 변환\n",
    "pdf = grouped_data.toPandas()\n",
    "\n",
    "# 월 정보에서 연도 부분을 축소 (예: '2023-04' -> '23-04')\n",
    "pdf['short_month'] = pdf['month'].str[2:]\n",
    "\n",
    "# Point와 Memorization에 대한 별도의 데이터 프레임 추출\n",
    "point_df = pdf[pdf['collection'] == 'Point'].sort_values(by='month')\n",
    "memorization_df = pdf[pdf['collection'] == 'Memorization'].sort_values(by='month')\n",
    "\n",
    "# 막대 그래프 그리기\n",
    "plt.figure(figsize=(12, 6))\n",
    "\n",
    "# y축 레이블을 정수로 표시하고 세 자리마다 쉼표 추가\n",
    "formatter = FuncFormatter(lambda x, _: '{:,.0f}'.format(x))\n",
    "plt.gca().yaxis.set_major_formatter(formatter)\n",
    "\n",
    "# x축 라벨을 명시적으로 지정\n",
    "xticks = sorted(set(point_df['short_month'].tolist() + memorization_df['short_month'].tolist()))\n",
    "x = np.arange(len(xticks))\n",
    "\n",
    "# 막대 너비 지정\n",
    "width = 0.4\n",
    "\n",
    "# 각 데이터 프레임에 대해 막대 그래프 그리기\n",
    "plt.bar(x - width/2, point_df.set_index('short_month').reindex(xticks)['count'].fillna(0), width, label='Point')\n",
    "plt.bar(x + width/2, memorization_df.set_index('short_month').reindex(xticks)['count'].fillna(0), width, label='Memorization')\n",
    "\n",
    "plt.xticks(ticks=x, labels=xticks, rotation=45)\n",
    "\n",
    "plt.xlabel('Month')\n",
    "plt.ylabel('count')\n",
    "plt.title('Monthly Count of Point and Memorization')\n",
    "plt.legend()\n",
    "plt.show()\n",
    "\n",
    "# # 'dummy' 값들을 제외하고 카운트\n",
    "# dummy_count = spark_df.filter(~F.col(\"collection\").isin([\"Point\", \"Memorization\"])).count()\n",
    "# print(f\"Number of 'dummy' values in 'collection': {dummy_count}\")"
   ]
  },
  {
   "cell_type": "markdown",
   "id": "6bbb7048",
   "metadata": {},
   "source": [
    "## 8월 일별 데이터 추가량 출력"
   ]
  },
  {
   "cell_type": "code",
   "execution_count": null,
   "id": "7a77e43a",
   "metadata": {
    "ExecuteTime": {
     "end_time": "2023-10-18T01:46:11.714882Z",
     "start_time": "2023-10-18T01:46:08.636197Z"
    },
    "execution": {
     "iopub.status.busy": "2023-10-30T02:37:32.199398Z",
     "iopub.status.idle": "2023-10-30T02:37:32.199398Z",
     "shell.execute_reply": "2023-10-30T02:37:32.199398Z",
     "shell.execute_reply.started": "2023-10-30T02:37:32.199398Z"
    }
   },
   "outputs": [],
   "source": [
    "# 8월 데이터만 필터링\n",
    "aug_data = spark_df.filter((F.col(\"month\") == \"2023-08\") & (F.col(\"collection\").isin([\"Point\", \"Memorization\"])))\n",
    "\n",
    "# 8월에 하루 평균 몇 개씩 추가되었는지 계산\n",
    "aug_daily_avg = aug_data.groupBy(\"collection\").agg((F.count(\"collection\") / F.countDistinct(F.date_format(\"first_created_date\", \"yyyy-MM-dd\"))).alias(\"daily_avg\"))\n",
    "\n",
    "# 결과를 Pandas DataFrame으로 변환\n",
    "aug_daily_avg_pdf = aug_daily_avg.toPandas()\n",
    "\n",
    "# 결과 출력\n",
    "print(aug_daily_avg_pdf)"
   ]
  },
  {
   "cell_type": "markdown",
   "id": "4d20540d",
   "metadata": {},
   "source": [
    "# Point와 Memorization에 해당하는 행의 개수를 출력"
   ]
  },
  {
   "cell_type": "code",
   "execution_count": 20,
   "id": "fde1bcd9",
   "metadata": {
    "ExecuteTime": {
     "end_time": "2023-09-27T05:10:24.633661Z",
     "start_time": "2023-09-27T05:10:24.144652Z"
    },
    "execution": {
     "iopub.execute_input": "2023-12-07T04:52:09.914098Z",
     "iopub.status.busy": "2023-12-07T04:52:09.911786Z",
     "iopub.status.idle": "2023-12-07T04:52:11.373404Z",
     "shell.execute_reply": "2023-12-07T04:52:11.370404Z",
     "shell.execute_reply.started": "2023-12-07T04:52:09.914098Z"
    },
    "tags": []
   },
   "outputs": [
    {
     "name": "stdout",
     "output_type": "stream",
     "text": [
      "Number of rows for 'Point': 3015798\n",
      "Number of rows for 'Memorization': 12787483\n"
     ]
    }
   ],
   "source": [
    "point_count = spark_df.filter(F.col(\"collection\") == \"Point\").count()\n",
    "memorization_count = spark_df.filter(F.col(\"collection\") == \"Memorization\").count()\n",
    "\n",
    "print(f\"Number of rows for 'Point': {point_count}\")\n",
    "print(f\"Number of rows for 'Memorization': {memorization_count}\")"
   ]
  },
  {
   "cell_type": "markdown",
   "id": "4b770caa",
   "metadata": {},
   "source": [
    "음성데이터 1만개의 평균치를 통한 전체 음성파일 크기 예상 수치\n",
    "\n",
    "음성파일 raw data 크기(amr로 수집한 형태)\n",
    "Point 용량 예측치: 1878464 * 150 KB = 281769600 KB = 약 281.8 GB(SI 표기법 기준)\n",
    "Memorization 용량 예측치: 4876147 * 15 KB = 73142205 KB = 약 73.1 GB(SI 표기법 기준)(IEC가 아닌)\n",
    "\n",
    "음성파일 wav data 크기\n",
    "Point 용량 예측치: 268.7 GB * 10 = 2687 GB = 약 2 TB 287 GB\n",
    "Memorization 용량 예측치: 73.1 GB * 10 = 약 731 GB"
   ]
  },
  {
   "cell_type": "markdown",
   "id": "b1f62378",
   "metadata": {
    "jp-MarkdownHeadingCollapsed": true
   },
   "source": [
    "# Point와 Memorization 정확도 분포"
   ]
  },
  {
   "cell_type": "code",
   "execution_count": 11,
   "id": "81213e6f",
   "metadata": {
    "ExecuteTime": {
     "end_time": "2023-10-18T02:37:30.981362Z",
     "start_time": "2023-10-18T02:36:56.770547Z"
    },
    "execution": {
     "iopub.execute_input": "2023-12-05T05:03:35.115593Z",
     "iopub.status.busy": "2023-12-05T05:03:35.114593Z",
     "iopub.status.idle": "2023-12-05T05:03:50.572035Z",
     "shell.execute_reply": "2023-12-05T05:03:50.571992Z",
     "shell.execute_reply.started": "2023-12-05T05:03:35.115593Z"
    },
    "tags": []
   },
   "outputs": [
    {
     "data": {
      "image/png": "[encoded data removed]",
      "text/plain": [
       "<Figure size 640x480 with 1 Axes>"
      ]
     },
     "metadata": {},
     "output_type": "display_data"
    }
   ],
   "source": [
    "# 'Point' 데이터만 필터링\n",
    "filtered_df = spark_df.filter((F.col('collection') == 'Point'))\n",
    "\n",
    "# 'accuracy_array'를 개별 행으로 분리 (이미 array 타입이므로 UDF 변환 생략)\n",
    "exploded_df = filtered_df.withColumn('single_accuracy', F.explode('accuracy_array'))\n",
    "\n",
    "# 정확도 값이 80과 100 사이인 데이터만 필터링\n",
    "final_df = exploded_df.filter((F.col('single_accuracy') >= 80) & (F.col('single_accuracy') <= 100))\n",
    "\n",
    "# 그래프를 그리기 위해 Pandas DataFrame으로 변환\n",
    "final_pdf = exploded_df.select('single_accuracy').toPandas()\n",
    "\n",
    "# 히스토그램 그리기\n",
    "plt.hist(final_pdf['single_accuracy'], bins=20)\n",
    "plt.title('Accuracy distribution of Point')\n",
    "plt.xlabel('Accuracy')\n",
    "plt.ylabel('Frequency')\n",
    "plt.show()"
   ]
  },
  {
   "cell_type": "code",
   "execution_count": 12,
   "id": "18b73069",
   "metadata": {
    "ExecuteTime": {
     "end_time": "2023-10-18T02:52:43.225755Z",
     "start_time": "2023-10-18T02:52:05.499619Z"
    },
    "execution": {
     "iopub.execute_input": "2023-10-30T06:14:32.986130Z",
     "iopub.status.busy": "2023-10-30T06:14:32.986130Z",
     "iopub.status.idle": "2023-10-30T06:15:09.772355Z",
     "shell.execute_reply": "2023-10-30T06:15:09.772355Z",
     "shell.execute_reply.started": "2023-10-30T06:14:32.986130Z"
    },
    "tags": []
   },
   "outputs": [
    {
     "data": {
      "image/png": "[encoded data removed]",
      "text/plain": [
       "<Figure size 640x480 with 1 Axes>"
      ]
     },
     "metadata": {},
     "output_type": "display_data"
    }
   ],
   "source": [
    "# 'Memorization' 데이터만 필터링\n",
    "filtered_df_mem = spark_df.filter((F.col('collection') == 'Memorization'))\n",
    "\n",
    "# 'accuracy_array'를 개별 행으로 분리\n",
    "exploded_df_mem = filtered_df_mem.withColumn('single_accuracy', F.explode('accuracy_array'))\n",
    "\n",
    "# 그래프를 그리기 위해 Pandas DataFrame으로 변환\n",
    "final_pdf_mem = exploded_df_mem.select('single_accuracy').toPandas()\n",
    "\n",
    "# 히스토그램 그리기\n",
    "plt.hist(final_pdf_mem['single_accuracy'], bins=20)\n",
    "plt.yticks([1e6, 2e6, 3e6, 4e6, 5e6])\n",
    "plt.title('Accuracy distribution of Memorization')\n",
    "plt.xlabel('Accuracy')\n",
    "plt.ylabel('Frequency')\n",
    "plt.show()"
   ]
  },
  {
   "cell_type": "markdown",
   "id": "5909432b-3e0a-44eb-870a-c9a74f2a20a1",
   "metadata": {
    "execution": {
     "iopub.execute_input": "2023-12-05T23:14:31.560564Z",
     "iopub.status.busy": "2023-12-05T23:14:31.560564Z",
     "iopub.status.idle": "2023-12-05T23:14:31.569312Z",
     "shell.execute_reply": "2023-12-05T23:14:31.568312Z",
     "shell.execute_reply.started": "2023-12-05T23:14:31.560564Z"
    },
    "jp-MarkdownHeadingCollapsed": true
   },
   "source": [
    "# 광고별 합격률 분포"
   ]
  },
  {
   "cell_type": "code",
   "execution_count": 15,
   "id": "2c225a14-ffae-4a21-9888-621ca34fd782",
   "metadata": {
    "execution": {
     "iopub.execute_input": "2023-12-06T00:30:06.503904Z",
     "iopub.status.busy": "2023-12-06T00:30:06.503904Z",
     "iopub.status.idle": "2023-12-06T00:30:07.576640Z",
     "shell.execute_reply": "2023-12-06T00:30:07.575641Z",
     "shell.execute_reply.started": "2023-12-06T00:30:06.503904Z"
    }
   },
   "outputs": [
    {
     "name": "stdout",
     "output_type": "stream",
     "text": [
      "'fail' 비율: 1.4766680412757325%\n",
      "'pass' 비율: 98.52333195872427%\n"
     ]
    }
   ],
   "source": [
    "# # 합격률 검증 코드\n",
    "\n",
    "# # 'is_passed' 컬럼에서 'fail'과 'pass'에 해당하는 행만 필터링\n",
    "# filtered_is_passed_df = spark_df.filter(F.col(\"is_passed\").isin([\"fail\", \"pass\"]))\n",
    "\n",
    "# # 'fail'과 'pass'에 해당하는 행의 수를 각각 계산\n",
    "# fail_count = filtered_is_passed_df.filter(F.col(\"is_passed\") == \"fail\").count()\n",
    "# pass_count = filtered_is_passed_df.filter(F.col(\"is_passed\") == \"pass\").count()\n",
    "\n",
    "# # 전체 행의 수를 계산\n",
    "# total_count = pass_count + fail_count\n",
    "\n",
    "# # 'fail'과 'pass'가 전체에서 차지하는 비율을 계산\n",
    "# fail_percentage = (fail_count / total_count) * 100\n",
    "# pass_percentage = (pass_count / total_count) * 100\n",
    "\n",
    "# print(f\"'fail' 비율: {fail_percentage}%\")\n",
    "# print(f\"'pass' 비율: {pass_percentage}%\")\n",
    "# # 230908 출력\n",
    "# # 'fail' 비율: 1.5755910504026127%\n",
    "# # 'pass' 비율: 98.42440894959739%"
   ]
  },
  {
   "cell_type": "code",
   "execution_count": 12,
   "id": "c3354674-59db-4828-a512-ca72d580417c",
   "metadata": {
    "execution": {
     "iopub.execute_input": "2023-12-06T00:23:59.868625Z",
     "iopub.status.busy": "2023-12-06T00:23:59.868625Z",
     "iopub.status.idle": "2023-12-06T00:24:00.323760Z",
     "shell.execute_reply": "2023-12-06T00:24:00.323760Z",
     "shell.execute_reply.started": "2023-12-06T00:23:59.868625Z"
    }
   },
   "outputs": [
    {
     "name": "stdout",
     "output_type": "stream",
     "text": [
      "'pass_rate_by_ad'가 0%인 비율: 0.0945120193711673%\n"
     ]
    }
   ],
   "source": [
    "# # 'pass_rate_by_ad'가 0인 행의 수를 계산\n",
    "# zero_pass_rate_count = spark_df.filter(F.col(\"pass_rate_by_ad\") <= 0.1).count()\n",
    "\n",
    "# # 0% 비율을 계산\n",
    "# zero_pass_rate_percentage = (zero_pass_rate_count / total_count) * 100\n",
    "\n",
    "# print(f\"'pass_rate_by_ad'가 0%인 비율: {zero_pass_rate_percentage}%\")"
   ]
  },
  {
   "cell_type": "markdown",
   "id": "ec4b0d96-cd69-4bb0-b596-b93b8cd21082",
   "metadata": {},
   "source": [
    "## pass_rate_by_ad를 다시 계산"
   ]
  },
  {
   "cell_type": "code",
   "execution_count": 19,
   "id": "038d4bdf-383d-40dd-bd49-c8c28025c287",
   "metadata": {
    "execution": {
     "iopub.execute_input": "2023-12-06T00:39:00.936989Z",
     "iopub.status.busy": "2023-12-06T00:39:00.936989Z",
     "iopub.status.idle": "2023-12-06T00:39:00.952625Z",
     "shell.execute_reply": "2023-12-06T00:39:00.952625Z",
     "shell.execute_reply.started": "2023-12-06T00:39:00.936989Z"
    }
   },
   "outputs": [],
   "source": [
    "# # Window 함수를 설정하여 광고별로 집계\n",
    "# window_by_ad = Window.partitionBy(\"ad_name\")\n",
    "\n",
    "# # 광고별로 'pass' 상태의 행 수를 계산\n",
    "# pass_count_by_ad = F.sum(F.when(F.col(\"is_passed\") == 'pass', 1).otherwise(0)).over(window_by_ad)\n",
    "\n",
    "# # 광고별 전체 행 수를 계산\n",
    "# total_count_by_ad = F.count(F.col(\"is_passed\")).over(window_by_ad)\n",
    "\n",
    "# # 광고별 합격률을 계산\n",
    "# pass_rate_by_ad = (pass_count_by_ad / total_count_by_ad) * 100\n",
    "\n",
    "# # 새로운 컬럼으로 합격률을 추가\n",
    "# spark_df = spark_df.withColumn(\"new_pass_rate_by_ad\", pass_rate_by_ad)\n",
    "\n",
    "# # 결과 확인\n",
    "# spark_df.select(\"ad_name\", \"new_pass_rate_by_ad\").show()"
   ]
  },
  {
   "cell_type": "markdown",
   "id": "0d270be8-23ac-42b9-b8cc-265ab34af973",
   "metadata": {},
   "source": [
    "## 분포도"
   ]
  },
  {
   "cell_type": "code",
   "execution_count": 6,
   "id": "0388feb3-6112-4247-86c0-734e7054ed13",
   "metadata": {
    "execution": {
     "iopub.execute_input": "2023-12-06T03:04:02.119820Z",
     "iopub.status.busy": "2023-12-06T03:04:02.119820Z",
     "iopub.status.idle": "2023-12-06T03:04:10.192270Z",
     "shell.execute_reply": "2023-12-06T03:04:10.192270Z",
     "shell.execute_reply.started": "2023-12-06T03:04:02.119820Z"
    }
   },
   "outputs": [
    {
     "data": {
      "image/png": "[encoded data removed]",
      "text/plain": [
       "<Figure size 640x480 with 1 Axes>"
      ]
     },
     "metadata": {},
     "output_type": "display_data"
    }
   ],
   "source": [
    "# PySpark DataFrame에서 'Point' 데이터 필터링\n",
    "pass_rate_point_df = spark_df.filter(F.col('collection') == 'Point')\n",
    "\n",
    "# 'pass_rate_by_ad'만 선택하고 Pandas DataFrame으로 변환\n",
    "pass_rate_point_pdf = pass_rate_point_df.select('pass_rate_by_ad').toPandas()\n",
    "\n",
    "# 히스토그램 그리기\n",
    "plt.hist(pass_rate_point_pdf['pass_rate_by_ad'], bins=20, range=(0, 100)) \n",
    "plt.title('Pass Rate Distribution for \"Point\" Collection')\n",
    "plt.xlabel('Pass Rate by Ad')\n",
    "plt.ylabel('Frequency')\n",
    "plt.show()"
   ]
  },
  {
   "cell_type": "code",
   "execution_count": 7,
   "id": "3cba7e9d-e763-4ef3-8a89-390d672355f0",
   "metadata": {
    "execution": {
     "iopub.execute_input": "2023-12-06T03:04:13.512075Z",
     "iopub.status.busy": "2023-12-06T03:04:13.512075Z",
     "iopub.status.idle": "2023-12-06T03:04:13.617589Z",
     "shell.execute_reply": "2023-12-06T03:04:13.617589Z",
     "shell.execute_reply.started": "2023-12-06T03:04:13.512075Z"
    }
   },
   "outputs": [
    {
     "name": "stdout",
     "output_type": "stream",
     "text": [
      "(-0.001, 10.0]: 49521개\n",
      "(10.0, 20.0]: 27623개\n",
      "(20.0, 30.0]: 20589개\n",
      "(30.0, 40.0]: 10561개\n",
      "(40.0, 50.0]: 8620개\n",
      "(50.0, 60.0]: 27531개\n",
      "(60.0, 70.0]: 22569개\n",
      "(70.0, 80.0]: 4074개\n",
      "(80.0, 90.0]: 38956개\n",
      "(90.0, 100.0]: 2805754개\n"
     ]
    }
   ],
   "source": [
    "# 구간 설정 (0에서 100까지 10 단위)\n",
    "bins = [i for i in range(0, 101, 10)]\n",
    "\n",
    "# 구간별 데이터 개수 계산\n",
    "interval_counts = pd.cut(pass_rate_point_pdf['pass_rate_by_ad'], bins=bins, include_lowest=True).value_counts().sort_index()\n",
    "\n",
    "# 결과 출력\n",
    "for interval, count in interval_counts.items():\n",
    "    print(f\"{interval}: {count}개\")"
   ]
  },
  {
   "cell_type": "code",
   "execution_count": 8,
   "id": "2046f928-2556-43a9-bade-156be016f159",
   "metadata": {
    "execution": {
     "iopub.execute_input": "2023-12-06T03:05:50.319404Z",
     "iopub.status.busy": "2023-12-06T03:05:50.319404Z",
     "iopub.status.idle": "2023-12-06T03:06:17.374850Z",
     "shell.execute_reply": "2023-12-06T03:06:17.374850Z",
     "shell.execute_reply.started": "2023-12-06T03:05:50.319404Z"
    }
   },
   "outputs": [
    {
     "data": {
      "image/png": "[encoded data removed]",
      "text/plain": [
       "<Figure size 640x480 with 1 Axes>"
      ]
     },
     "metadata": {},
     "output_type": "display_data"
    }
   ],
   "source": [
    "# PySpark DataFrame에서 'Point' 데이터 필터링\n",
    "pass_rate_memo_df = spark_df.filter(F.col('collection') == 'Memorization')\n",
    "\n",
    "# 'pass_rate_by_ad'만 선택하고 Pandas DataFrame으로 변환\n",
    "pass_rate_memo_pdf = pass_rate_memo_df.select('pass_rate_by_ad').toPandas()\n",
    "\n",
    "# 히스토그램 그리기\n",
    "plt.hist(pass_rate_memo_pdf['pass_rate_by_ad'], bins=20, range=(0, 100))\n",
    "plt.title('Pass Rate Distribution for \"Point\" Collection')\n",
    "plt.xlabel('Pass Rate by Ad')\n",
    "plt.ylabel('Frequency')\n",
    "plt.show()"
   ]
  },
  {
   "cell_type": "code",
   "execution_count": 9,
   "id": "70e6c02f-c821-4f09-acc7-e58e40d879a7",
   "metadata": {
    "execution": {
     "iopub.execute_input": "2023-12-06T03:06:27.225690Z",
     "iopub.status.busy": "2023-12-06T03:06:27.225690Z",
     "iopub.status.idle": "2023-12-06T03:06:27.514459Z",
     "shell.execute_reply": "2023-12-06T03:06:27.514414Z",
     "shell.execute_reply.started": "2023-12-06T03:06:27.225690Z"
    }
   },
   "outputs": [
    {
     "name": "stdout",
     "output_type": "stream",
     "text": [
      "(-0.001, 10.0]: 3375개\n",
      "(10.0, 20.0]: 1367개\n",
      "(20.0, 30.0]: 1476개\n",
      "(30.0, 40.0]: 1567개\n",
      "(40.0, 50.0]: 1455개\n",
      "(50.0, 60.0]: 2284개\n",
      "(60.0, 70.0]: 11649개\n",
      "(70.0, 80.0]: 16458개\n",
      "(80.0, 90.0]: 61216개\n",
      "(90.0, 100.0]: 12686636개\n"
     ]
    }
   ],
   "source": [
    "# 구간별 데이터 개수 계산\n",
    "interval_counts = pd.cut(pass_rate_memo_pdf['pass_rate_by_ad'], bins=bins, include_lowest=True).value_counts().sort_index()\n",
    "\n",
    "# 결과 출력\n",
    "for interval, count in interval_counts.items():\n",
    "    print(f\"{interval}: {count}개\")"
   ]
  },
  {
   "cell_type": "markdown",
   "id": "06430300",
   "metadata": {},
   "source": [
    "# 스크립트 길이 분포도"
   ]
  },
  {
   "cell_type": "code",
   "execution_count": 8,
   "id": "4aedc453",
   "metadata": {
    "ExecuteTime": {
     "end_time": "2023-10-18T03:11:38.591386Z",
     "start_time": "2023-10-18T03:11:15.902461Z"
    },
    "execution": {
     "iopub.execute_input": "2023-10-30T05:52:37.912343Z",
     "iopub.status.busy": "2023-10-30T05:52:37.912343Z",
     "iopub.status.idle": "2023-10-30T05:53:25.615321Z",
     "shell.execute_reply": "2023-10-30T05:53:25.614320Z",
     "shell.execute_reply.started": "2023-10-30T05:52:37.912343Z"
    },
    "tags": []
   },
   "outputs": [
    {
     "data": {
      "image/png": "[encoded data removed]",
      "text/plain": [
       "<Figure size 640x480 with 2 Axes>"
      ]
     },
     "metadata": {},
     "output_type": "display_data"
    }
   ],
   "source": [
    "# 'Point'와 'Memorization' 데이터 필터링\n",
    "filtered_df_point = spark_df.filter(F.col('collection') == 'Point')\n",
    "filtered_df_mem = spark_df.filter(F.col('collection') == 'Memorization')\n",
    "\n",
    "# 데이터를 Pandas DataFrame으로 변환\n",
    "pdf_point = filtered_df_point.select('text_length').toPandas()\n",
    "pdf_mem = filtered_df_mem.select('text_length').toPandas()\n",
    "\n",
    "plt.subplot(1, 2, 1)\n",
    "plt.hist(pdf_point['text_length'].dropna(), bins=20, color='blue', alpha=0.7, label='Point')\n",
    "plt.title('Text Length Distribution of Points')\n",
    "plt.xlabel('text_length')\n",
    "plt.ylabel('frequency')\n",
    "\n",
    "plt.subplot(1, 2, 2)\n",
    "plt.hist(pdf_mem['text_length'].dropna(), bins=20, color='green', alpha=0.7, label='Memorization')\n",
    "plt.title('Text Length Distribution of Memorization')\n",
    "plt.xlabel('text_length')\n",
    "plt.ylabel('frequency')\n",
    "plt.xlim(0, 20)  # x축 최대값을 20으로 설정\n",
    "\n",
    "plt.subplots_adjust(wspace=0.8)\n",
    "plt.show()"
   ]
  },
  {
   "cell_type": "markdown",
   "id": "2c62fae9",
   "metadata": {
    "jp-MarkdownHeadingCollapsed": true
   },
   "source": [
    "# 성별 원형 차트"
   ]
  },
  {
   "cell_type": "code",
   "execution_count": 22,
   "id": "19808a08",
   "metadata": {
    "ExecuteTime": {
     "end_time": "2023-10-18T03:18:54.308191Z",
     "start_time": "2023-10-18T03:18:54.008192Z"
    },
    "execution": {
     "iopub.execute_input": "2023-10-30T06:30:34.289652Z",
     "iopub.status.busy": "2023-10-30T06:30:34.289652Z",
     "iopub.status.idle": "2023-10-30T06:30:34.306655Z",
     "shell.execute_reply": "2023-10-30T06:30:34.305655Z",
     "shell.execute_reply.started": "2023-10-30T06:30:34.289652Z"
    },
    "tags": []
   },
   "outputs": [],
   "source": [
    "# # 'M'과 'W'만 포함하는 gender 데이터를 필터링\n",
    "# filtered_gender_data = spark_df.filter(F.col('gender').isin(['M', 'W'])).groupBy('gender').count().toPandas()\n",
    "\n",
    "# # 원형 차트 그리기\n",
    "# plt.figure(figsize=(6, 6))\n",
    "# plt.pie(filtered_gender_data['count'], labels=filtered_gender_data['gender'], autopct='%1.1f%%', startangle=90)\n",
    "# plt.title('Gender Ratio')\n",
    "# plt.show()"
   ]
  },
  {
   "cell_type": "markdown",
   "id": "40490cf7-2a63-4a13-b59c-11c7e60f4277",
   "metadata": {
    "execution": {
     "iopub.execute_input": "2023-11-06T06:34:43.289256Z",
     "iopub.status.busy": "2023-11-06T06:34:43.289256Z",
     "iopub.status.idle": "2023-11-06T06:34:43.296552Z",
     "shell.execute_reply": "2023-11-06T06:34:43.296552Z",
     "shell.execute_reply.started": "2023-11-06T06:34:43.289256Z"
    },
    "jp-MarkdownHeadingCollapsed": true
   },
   "source": [
    "# 9월 이용량 분석 - CSR 이용요금 확인"
   ]
  },
  {
   "cell_type": "code",
   "execution_count": 6,
   "id": "fd240b3d-1d61-4820-8bfa-fd1bb70e4735",
   "metadata": {
    "execution": {
     "iopub.execute_input": "2023-11-08T03:48:20.377798Z",
     "iopub.status.busy": "2023-11-08T03:48:20.376800Z",
     "iopub.status.idle": "2023-11-08T03:48:31.122665Z",
     "shell.execute_reply": "2023-11-08T03:48:31.122665Z",
     "shell.execute_reply.started": "2023-11-08T03:48:20.377798Z"
    }
   },
   "outputs": [],
   "source": [
    "# 'created_timestamp_array'의 모든 요소에서 날짜 부분을 추출하여 새로운 컬럼에 저장\n",
    "spark_df = spark_df.withColumn(\n",
    "    \"extracted_dates\", \n",
    "    F.expr(\"transform(created_timestamp_array, x -> regexp_extract(x, '(\\\\\\\\d{2}\\\\\\\\.\\\\\\\\d{2}\\\\\\\\.\\\\\\\\d{2})', 0))\")\n",
    ")\n",
    "\n",
    "# 날짜 형식을 변환하여 새로운 컬럼에 저장\n",
    "spark_df = spark_df.withColumn(\n",
    "    \"formatted_dates\", \n",
    "    expr(\"transform(extracted_dates, x -> concat('20', substring(x, 1, 2), '-', substring(x, 4, 2), '-', substring(x, 7, 2)))\")\n",
    ")\n",
    "\n",
    "# 날짜 범위에 따라 필터링\n",
    "spark_df = spark_df.withColumn(\n",
    "    \"is_in_range\",\n",
    "    expr(\"array_contains(formatted_dates, '2023-09-01') OR (formatted_dates[0] >= '2023-09-01' AND formatted_dates[0] <= '2023-09-30')\")\n",
    ")\n",
    "\n",
    "# 'collection' 값이 'Memorization' 또는 'Point' 인 행을 필터링하고 개수를 세어 집계\n",
    "memorization_count = spark_df.filter((col(\"collection\") == \"Memorization\") & col(\"is_in_range\")).count()\n",
    "point_count = spark_df.filter((col(\"collection\") == \"Point\") & col(\"is_in_range\")).count()\n",
    "\n",
    "# 'collection' 값이 'Memorization' 또는 'Point'가 아닌 행을 필터링하고 개수를 세어 저장\n",
    "ignored_count = spark_df.filter(~col(\"collection\").isin([\"Memorization\", \"Point\"]) & col(\"is_in_range\")).count()\n"
   ]
  },
  {
   "cell_type": "code",
   "execution_count": 7,
   "id": "30b18162-1310-4225-a4f9-a0149e42cae3",
   "metadata": {
    "execution": {
     "iopub.execute_input": "2023-11-08T03:48:32.497708Z",
     "iopub.status.busy": "2023-11-08T03:48:32.497708Z",
     "iopub.status.idle": "2023-11-08T03:48:32.509930Z",
     "shell.execute_reply": "2023-11-08T03:48:32.509283Z",
     "shell.execute_reply.started": "2023-11-08T03:48:32.497708Z"
    }
   },
   "outputs": [
    {
     "name": "stdout",
     "output_type": "stream",
     "text": [
      "9월 달 'Memorization' 컬렉션의 수: 2976621\n",
      "9월 달 'Point' 컬렉션의 수: 224834\n",
      "9월 달 무시된 행의 수: 0\n"
     ]
    }
   ],
   "source": [
    "# 'Memorization' 컬렉션의 수를 출력\n",
    "print(f\"9월 달 'Memorization' 컬렉션의 수: {memorization_count}\")\n",
    "\n",
    "# 'Point' 컬렉션의 수를 출력\n",
    "print(f\"9월 달 'Point' 컬렉션의 수: {point_count}\")\n",
    "\n",
    "# 무시된 행의 수를 출력\n",
    "print(f\"9월 달 무시된 행의 수: {ignored_count}\")\n"
   ]
  },
  {
   "cell_type": "code",
   "execution_count": 8,
   "id": "1241f3bb-f8ea-42b3-bd67-32df9ce3673c",
   "metadata": {
    "execution": {
     "iopub.execute_input": "2023-11-06T07:54:53.493899Z",
     "iopub.status.busy": "2023-11-06T07:54:53.493899Z",
     "iopub.status.idle": "2023-11-06T07:54:53.509224Z",
     "shell.execute_reply": "2023-11-06T07:54:53.509224Z",
     "shell.execute_reply.started": "2023-11-06T07:54:53.493899Z"
    }
   },
   "outputs": [],
   "source": [
    "# # 날짜 형식을 변환하여 새로운 컬럼에 저장하고, 날짜 범위에 맞는 데이터만 필터링합니다.\n",
    "# spark_df = spark_df.withColumn(\n",
    "#     \"formatted_date\", \n",
    "#     F.expr(\"concat('20', substring(extracted_dates[0], 1, 2), '-', substring(extracted_dates[0], 4, 2), '-', substring(extracted_dates[0], 7, 2))\")\n",
    "# ).filter(F.col(\"formatted_date\") >= '2023-09-01').filter(F.col(\"formatted_date\") <= '2023-09-30')\n",
    "\n",
    "# # 날짜별로 'Memorization'과 'Point'의 개수를 계산합니다.\n",
    "# daily_collection_count = spark_df.groupBy(\"formatted_date\").pivot(\"collection\", [\"Memorization\", \"Point\"]).count()\n",
    "\n",
    "# # 날짜별로 'recorded'와 'unrecorded'의 개수를 계산합니다.\n",
    "# spark_df = spark_df.withColumn(\"is_recorded\", F.expr(\"element_at(created_timestamp_array, -1) = 'recorded'\"))\n",
    "# daily_record_status_count = spark_df.groupBy(\"formatted_date\").pivot(\"is_recorded\").count()\n",
    "\n",
    "# # 두 집계 결과를 조인합니다.\n",
    "# daily_stats = daily_collection_count.join(daily_record_status_count, \"formatted_date\")"
   ]
  },
  {
   "cell_type": "code",
   "execution_count": 8,
   "id": "a14756c1-e75e-4999-9dd5-8a5ab396fe79",
   "metadata": {
    "execution": {
     "iopub.execute_input": "2023-11-08T03:48:41.438459Z",
     "iopub.status.busy": "2023-11-08T03:48:41.437459Z",
     "iopub.status.idle": "2023-11-08T03:48:44.551780Z",
     "shell.execute_reply": "2023-11-08T03:48:44.550781Z",
     "shell.execute_reply.started": "2023-11-08T03:48:41.438459Z"
    }
   },
   "outputs": [],
   "source": [
    "# 날짜 형식을 변환하고, 2023년 9월 1일부터 9월 30일까지의 데이터만 필터링합니다.\n",
    "spark_df = spark_df.withColumn(\n",
    "    \"formatted_date\", \n",
    "    F.expr(\"concat('20', substring(extracted_dates[0], 1, 2), '-', substring(extracted_dates[0], 4, 2), '-', substring(extracted_dates[0], 7, 2))\")\n",
    ").filter(\n",
    "    (F.col(\"formatted_date\") >= '2023-09-01') & (F.col(\"formatted_date\") <= '2023-09-30')\n",
    ")\n",
    "\n",
    "# 날짜별로 'Memorization'과 'Point'의 개수를 계산합니다.\n",
    "daily_collection_count = spark_df.groupBy(\"formatted_date\").pivot(\"collection\", [\"Memorization\", \"Point\"]).count()\n",
    "\n",
    "# 'accuracy_array'를 기반으로 'recorded', 'unrecorded', 'failed'를 계산하는 코드\n",
    "spark_df = spark_df.withColumn(\"total_tries\", F.size(F.col(\"accuracy_array\")))\n",
    "\n",
    "# 배열의 길이를 사용하여 마지막 요소에 접근합니다.\n",
    "spark_df = spark_df.withColumn(\"array_length\", F.size(F.col(\"accuracy_array\")))\n",
    "spark_df = spark_df.withColumn(\"last_accuracy\", expr(\"accuracy_array[array_length - 1]\"))\n",
    "\n",
    "spark_df = spark_df.withColumn(\"recorded\", F.when(F.col(\"accuracy_array\")[-1] >= 80, 1).otherwise(0))\n",
    "spark_df = spark_df.withColumn(\"unrecorded\", F.size(F.expr(\"filter(accuracy_array, x -> x >= 80)\")) - F.col(\"recorded\"))\n",
    "spark_df = spark_df.withColumn(\"failed\", F.size(F.expr(\"filter(accuracy_array, x -> x < 80)\")))\n",
    "\n",
    "# 날짜별로 'recorded', 'unrecorded', 'failed'의 개수를 계산합니다.\n",
    "daily_record_status_count = spark_df.groupBy(\"formatted_date\").agg(\n",
    "    F.sum(\"recorded\").alias(\"recorded\"),\n",
    "    F.sum(\"unrecorded\").alias(\"unrecorded\"),\n",
    "    F.sum(\"failed\").alias(\"failed\")\n",
    ")\n",
    "\n",
    "# 'total_tries'를 각 'collection' 값에 대해 계산합니다.\n",
    "daily_collection_tries = spark_df.groupBy(\"formatted_date\", \"collection\").agg(\n",
    "    F.sum(\"total_tries\").alias(\"total_tries\")\n",
    ").groupBy(\"formatted_date\").pivot(\"collection\").sum(\"total_tries\")\n",
    "\n",
    "# 컬럼 이름을 변경하여 중복을 피합니다.\n",
    "daily_collection_tries = daily_collection_tries.withColumnRenamed(\"Memorization\", \"Memorization_total_tries\") \\\n",
    "                                               .withColumnRenamed(\"Point\", \"Point_total_tries\")\n",
    "\n",
    "# 총합을 구하는 코드는 아래와 같습니다.\n",
    "total_tries_summary = daily_collection_tries.groupBy().sum()\n",
    "\n",
    "# 집계 결과를 조인합니다.\n",
    "daily_stats = daily_collection_count.join(daily_record_status_count, \"formatted_date\", \"left_outer\")\n",
    "daily_stats = daily_stats.join(daily_collection_tries, \"formatted_date\", \"left_outer\")\n"
   ]
  },
  {
   "cell_type": "code",
   "execution_count": 9,
   "id": "b6521b66-eda0-450f-bdd5-1a917d5fe504",
   "metadata": {
    "execution": {
     "iopub.execute_input": "2023-11-08T03:53:08.342364Z",
     "iopub.status.busy": "2023-11-08T03:53:08.341364Z",
     "iopub.status.idle": "2023-11-08T03:53:08.382373Z",
     "shell.execute_reply": "2023-11-08T03:53:08.381373Z",
     "shell.execute_reply.started": "2023-11-08T03:53:08.342364Z"
    }
   },
   "outputs": [],
   "source": [
    "daily_stats = daily_stats.withColumn(\n",
    "    \"Memorization_failed\", \n",
    "    F.col(\"Memorization_total_tries\") - F.col(\"Memorization\")\n",
    ").withColumn(\n",
    "    \"Point_failed\", \n",
    "    F.col(\"Point_total_tries\") - F.col(\"Point\")\n",
    ")"
   ]
  },
  {
   "cell_type": "code",
   "execution_count": 10,
   "id": "9c7c6076-8c08-4118-bae4-42ba9ba6f661",
   "metadata": {
    "execution": {
     "iopub.execute_input": "2023-11-08T03:53:11.558630Z",
     "iopub.status.busy": "2023-11-08T03:53:11.558630Z",
     "iopub.status.idle": "2023-11-08T03:53:27.138913Z",
     "shell.execute_reply": "2023-11-08T03:53:27.137913Z",
     "shell.execute_reply.started": "2023-11-08T03:53:11.558630Z"
    }
   },
   "outputs": [
    {
     "name": "stdout",
     "output_type": "stream",
     "text": [
      "+--------------+------------+-----+--------+----------+------+------------------------+-----------------+-------------------+------------+\n",
      "|formatted_date|Memorization|Point|recorded|unrecorded|failed|Memorization_total_tries|Point_total_tries|Memorization_failed|Point_failed|\n",
      "+--------------+------------+-----+--------+----------+------+------------------------+-----------------+-------------------+------------+\n",
      "|2023-09-01    |79378       |9120 |0       |87200     |26974 |97048                   |17126            |17670              |8006        |\n",
      "|2023-09-02    |88585       |6706 |0       |94321     |18413 |102533                  |10201            |13948              |3495        |\n",
      "|2023-09-03    |83437       |6346 |0       |89012     |16390 |96945                   |8457             |13508              |2111        |\n",
      "|2023-09-04    |76194       |8266 |0       |82986     |22673 |89024                   |16635            |12830              |8369        |\n",
      "|2023-09-05    |93376       |8552 |0       |100932    |18707 |107815                  |11824            |14439              |3272        |\n",
      "|2023-09-06    |86623       |7887 |0       |93101     |35255 |101694                  |26662            |15071              |18775       |\n",
      "|2023-09-07    |87611       |7423 |0       |93900     |23136 |103908                  |13128            |16297              |5705        |\n",
      "|2023-09-08    |85811       |7323 |0       |92263     |19329 |98297                   |13295            |12486              |5972        |\n",
      "|2023-09-09    |96072       |5226 |0       |100350    |23883 |115803                  |8430             |19731              |3204        |\n",
      "|2023-09-10    |107808      |4369 |0       |111530    |17979 |123600                  |5909             |15792              |1540        |\n",
      "|2023-09-11    |104330      |6768 |0       |110265    |21045 |120203                  |11107            |15873              |4339        |\n",
      "|2023-09-12    |103107      |8008 |0       |110215    |20490 |119255                  |11450            |16148              |3442        |\n",
      "|2023-09-13    |113755      |7019 |0       |119691    |24907 |130534                  |14064            |16779              |7045        |\n",
      "|2023-09-14    |111686      |6506 |0       |117160    |22025 |128518                  |10667            |16832              |4161        |\n",
      "|2023-09-15    |81582       |9565 |0       |90181     |18096 |93305                   |14972            |11723              |5407        |\n",
      "|2023-09-16    |93572       |6272 |0       |98694     |19997 |108886                  |9805             |15314              |3533        |\n",
      "|2023-09-17    |91799       |5362 |0       |96154     |19428 |108002                  |7580             |16203              |2218        |\n",
      "|2023-09-18    |80590       |7115 |0       |86555     |17575 |92138                   |11992            |11548              |4877        |\n",
      "|2023-09-19    |85062       |9210 |0       |93250     |16353 |97840                   |11763            |12778              |2553        |\n",
      "|2023-09-20    |96277       |8229 |0       |103150    |61241 |110752                  |53639            |14475              |45410       |\n",
      "|2023-09-21    |108123      |9066 |0       |116136    |31086 |124757                  |22465            |16634              |13399       |\n",
      "|2023-09-22    |112015      |7594 |0       |118329    |30581 |133403                  |15507            |21388              |7913        |\n",
      "|2023-09-23    |112232      |5437 |0       |116795    |22123 |128973                  |9945             |16741              |4508        |\n",
      "|2023-09-24    |107985      |4916 |0       |112113    |19940 |124296                  |7757             |16311              |2841        |\n",
      "|2023-09-25    |108659      |6891 |0       |113474    |35781 |126202                  |23053            |17543              |16162       |\n",
      "|2023-09-26    |127041      |7254 |0       |132180    |30662 |146757                  |16085            |19716              |8831        |\n",
      "|2023-09-27    |132151      |7893 |0       |138105    |30214 |156213                  |12106            |24062              |4213        |\n",
      "|2023-09-28    |119021      |13683|0       |131286    |25217 |140073                  |16430            |21052              |2747        |\n",
      "|2023-09-29    |111289      |9190 |0       |119481    |24125 |131945                  |11661            |20656              |2471        |\n",
      "|2023-09-30    |91450       |7058 |0       |97697     |17784 |105390                  |10091            |13940              |3033        |\n",
      "+--------------+------------+-----+--------+----------+------+------------------------+-----------------+-------------------+------------+\n",
      "\n"
     ]
    }
   ],
   "source": [
    "# 결과를 오름차순으로 정렬하고, 모든 행을 출력합니다.\n",
    "daily_stats.orderBy(\"formatted_date\").show(n=daily_stats.count(), truncate=False)"
   ]
  },
  {
   "cell_type": "code",
   "execution_count": 11,
   "id": "f6d1e415-b997-4b0f-aca4-c3a5a12875ad",
   "metadata": {
    "execution": {
     "iopub.execute_input": "2023-11-08T03:58:26.864085Z",
     "iopub.status.busy": "2023-11-08T03:58:26.864085Z",
     "iopub.status.idle": "2023-11-08T03:58:38.730837Z",
     "shell.execute_reply": "2023-11-08T03:58:38.730837Z",
     "shell.execute_reply.started": "2023-11-08T03:58:26.864085Z"
    }
   },
   "outputs": [
    {
     "name": "stdout",
     "output_type": "stream",
     "text": [
      "   formatted_date  Memorization  Point  recorded  unrecorded  failed  \\\n",
      "0      2023-09-01         79378   9120         0       87200   26974   \n",
      "1      2023-09-02         88585   6706         0       94321   18413   \n",
      "2      2023-09-03         83437   6346         0       89012   16390   \n",
      "3      2023-09-04         76194   8266         0       82986   22673   \n",
      "4      2023-09-05         93376   8552         0      100932   18707   \n",
      "5      2023-09-06         86623   7887         0       93101   35255   \n",
      "6      2023-09-07         87611   7423         0       93900   23136   \n",
      "7      2023-09-08         85811   7323         0       92263   19329   \n",
      "8      2023-09-09         96072   5226         0      100350   23883   \n",
      "9      2023-09-10        107808   4369         0      111530   17979   \n",
      "10     2023-09-11        104330   6768         0      110265   21045   \n",
      "11     2023-09-12        103107   8008         0      110215   20490   \n",
      "12     2023-09-13        113755   7019         0      119691   24907   \n",
      "13     2023-09-14        111686   6506         0      117160   22025   \n",
      "14     2023-09-15         81582   9565         0       90181   18096   \n",
      "15     2023-09-16         93572   6272         0       98694   19997   \n",
      "16     2023-09-17         91799   5362         0       96154   19428   \n",
      "17     2023-09-18         80590   7115         0       86555   17575   \n",
      "18     2023-09-19         85062   9210         0       93250   16353   \n",
      "19     2023-09-20         96277   8229         0      103150   61241   \n",
      "20     2023-09-21        108123   9066         0      116136   31086   \n",
      "21     2023-09-22        112015   7594         0      118329   30581   \n",
      "22     2023-09-23        112232   5437         0      116795   22123   \n",
      "23     2023-09-24        107985   4916         0      112113   19940   \n",
      "24     2023-09-25        108659   6891         0      113474   35781   \n",
      "25     2023-09-26        127041   7254         0      132180   30662   \n",
      "26     2023-09-27        132151   7893         0      138105   30214   \n",
      "27     2023-09-28        119021  13683         0      131286   25217   \n",
      "28     2023-09-29        111289   9190         0      119481   24125   \n",
      "29     2023-09-30         91450   7058         0       97697   17784   \n",
      "\n",
      "    Memorization_total_tries  Point_total_tries  Memorization_failed  \\\n",
      "0                      97048              17126                17670   \n",
      "1                     102533              10201                13948   \n",
      "2                      96945               8457                13508   \n",
      "3                      89024              16635                12830   \n",
      "4                     107815              11824                14439   \n",
      "5                     101694              26662                15071   \n",
      "6                     103908              13128                16297   \n",
      "7                      98297              13295                12486   \n",
      "8                     115803               8430                19731   \n",
      "9                     123600               5909                15792   \n",
      "10                    120203              11107                15873   \n",
      "11                    119255              11450                16148   \n",
      "12                    130534              14064                16779   \n",
      "13                    128518              10667                16832   \n",
      "14                     93305              14972                11723   \n",
      "15                    108886               9805                15314   \n",
      "16                    108002               7580                16203   \n",
      "17                     92138              11992                11548   \n",
      "18                     97840              11763                12778   \n",
      "19                    110752              53639                14475   \n",
      "20                    124757              22465                16634   \n",
      "21                    133403              15507                21388   \n",
      "22                    128973               9945                16741   \n",
      "23                    124296               7757                16311   \n",
      "24                    126202              23053                17543   \n",
      "25                    146757              16085                19716   \n",
      "26                    156213              12106                24062   \n",
      "27                    140073              16430                21052   \n",
      "28                    131945              11661                20656   \n",
      "29                    105390              10091                13940   \n",
      "\n",
      "    Point_failed  \n",
      "0           8006  \n",
      "1           3495  \n",
      "2           2111  \n",
      "3           8369  \n",
      "4           3272  \n",
      "5          18775  \n",
      "6           5705  \n",
      "7           5972  \n",
      "8           3204  \n",
      "9           1540  \n",
      "10          4339  \n",
      "11          3442  \n",
      "12          7045  \n",
      "13          4161  \n",
      "14          5407  \n",
      "15          3533  \n",
      "16          2218  \n",
      "17          4877  \n",
      "18          2553  \n",
      "19         45410  \n",
      "20         13399  \n",
      "21          7913  \n",
      "22          4508  \n",
      "23          2841  \n",
      "24         16162  \n",
      "25          8831  \n",
      "26          4213  \n",
      "27          2747  \n",
      "28          2471  \n",
      "29          3033  \n"
     ]
    }
   ],
   "source": [
    "# Spark DataFrame을 Pandas DataFrame으로 변환\n",
    "pandas_df = daily_stats.orderBy(\"formatted_date\").toPandas()\n",
    "\n",
    "# Pandas DataFrame을 HTML로 변환하고 Jupyter Notebook에 표시\n",
    "display(pandas_df)"
   ]
  },
  {
   "cell_type": "code",
   "execution_count": 12,
   "id": "5923f251-640b-4b3d-9f3e-ffd9560e8549",
   "metadata": {
    "execution": {
     "iopub.execute_input": "2023-11-08T03:59:55.622509Z",
     "iopub.status.busy": "2023-11-08T03:59:55.622509Z",
     "iopub.status.idle": "2023-11-08T03:59:55.637042Z",
     "shell.execute_reply": "2023-11-08T03:59:55.637042Z",
     "shell.execute_reply.started": "2023-11-08T03:59:55.622509Z"
    }
   },
   "outputs": [
    {
     "data": {
      "text/html": [
       "<div>\n",
       "<style scoped>\n",
       "    .dataframe tbody tr th:only-of-type {\n",
       "        vertical-align: middle;\n",
       "    }\n",
       "\n",
       "    .dataframe tbody tr th {\n",
       "        vertical-align: top;\n",
       "    }\n",
       "\n",
       "    .dataframe thead th {\n",
       "        text-align: right;\n",
       "    }\n",
       "</style>\n",
       "<table border=\"1\" class=\"dataframe\">\n",
       "  <thead>\n",
       "    <tr style=\"text-align: right;\">\n",
       "      <th></th>\n",
       "      <th>formatted_date</th>\n",
       "      <th>Memorization</th>\n",
       "      <th>Point</th>\n",
       "      <th>recorded</th>\n",
       "      <th>unrecorded</th>\n",
       "      <th>failed</th>\n",
       "      <th>Memorization_total_tries</th>\n",
       "      <th>Point_total_tries</th>\n",
       "      <th>Memorization_failed</th>\n",
       "      <th>Point_failed</th>\n",
       "    </tr>\n",
       "  </thead>\n",
       "  <tbody>\n",
       "    <tr>\n",
       "      <th>0</th>\n",
       "      <td>2023-09-01</td>\n",
       "      <td>79378</td>\n",
       "      <td>9120</td>\n",
       "      <td>0</td>\n",
       "      <td>87200</td>\n",
       "      <td>26974</td>\n",
       "      <td>97048</td>\n",
       "      <td>17126</td>\n",
       "      <td>17670</td>\n",
       "      <td>8006</td>\n",
       "    </tr>\n",
       "    <tr>\n",
       "      <th>1</th>\n",
       "      <td>2023-09-02</td>\n",
       "      <td>88585</td>\n",
       "      <td>6706</td>\n",
       "      <td>0</td>\n",
       "      <td>94321</td>\n",
       "      <td>18413</td>\n",
       "      <td>102533</td>\n",
       "      <td>10201</td>\n",
       "      <td>13948</td>\n",
       "      <td>3495</td>\n",
       "    </tr>\n",
       "    <tr>\n",
       "      <th>2</th>\n",
       "      <td>2023-09-03</td>\n",
       "      <td>83437</td>\n",
       "      <td>6346</td>\n",
       "      <td>0</td>\n",
       "      <td>89012</td>\n",
       "      <td>16390</td>\n",
       "      <td>96945</td>\n",
       "      <td>8457</td>\n",
       "      <td>13508</td>\n",
       "      <td>2111</td>\n",
       "    </tr>\n",
       "    <tr>\n",
       "      <th>3</th>\n",
       "      <td>2023-09-04</td>\n",
       "      <td>76194</td>\n",
       "      <td>8266</td>\n",
       "      <td>0</td>\n",
       "      <td>82986</td>\n",
       "      <td>22673</td>\n",
       "      <td>89024</td>\n",
       "      <td>16635</td>\n",
       "      <td>12830</td>\n",
       "      <td>8369</td>\n",
       "    </tr>\n",
       "    <tr>\n",
       "      <th>4</th>\n",
       "      <td>2023-09-05</td>\n",
       "      <td>93376</td>\n",
       "      <td>8552</td>\n",
       "      <td>0</td>\n",
       "      <td>100932</td>\n",
       "      <td>18707</td>\n",
       "      <td>107815</td>\n",
       "      <td>11824</td>\n",
       "      <td>14439</td>\n",
       "      <td>3272</td>\n",
       "    </tr>\n",
       "    <tr>\n",
       "      <th>5</th>\n",
       "      <td>2023-09-06</td>\n",
       "      <td>86623</td>\n",
       "      <td>7887</td>\n",
       "      <td>0</td>\n",
       "      <td>93101</td>\n",
       "      <td>35255</td>\n",
       "      <td>101694</td>\n",
       "      <td>26662</td>\n",
       "      <td>15071</td>\n",
       "      <td>18775</td>\n",
       "    </tr>\n",
       "    <tr>\n",
       "      <th>6</th>\n",
       "      <td>2023-09-07</td>\n",
       "      <td>87611</td>\n",
       "      <td>7423</td>\n",
       "      <td>0</td>\n",
       "      <td>93900</td>\n",
       "      <td>23136</td>\n",
       "      <td>103908</td>\n",
       "      <td>13128</td>\n",
       "      <td>16297</td>\n",
       "      <td>5705</td>\n",
       "    </tr>\n",
       "    <tr>\n",
       "      <th>7</th>\n",
       "      <td>2023-09-08</td>\n",
       "      <td>85811</td>\n",
       "      <td>7323</td>\n",
       "      <td>0</td>\n",
       "      <td>92263</td>\n",
       "      <td>19329</td>\n",
       "      <td>98297</td>\n",
       "      <td>13295</td>\n",
       "      <td>12486</td>\n",
       "      <td>5972</td>\n",
       "    </tr>\n",
       "    <tr>\n",
       "      <th>8</th>\n",
       "      <td>2023-09-09</td>\n",
       "      <td>96072</td>\n",
       "      <td>5226</td>\n",
       "      <td>0</td>\n",
       "      <td>100350</td>\n",
       "      <td>23883</td>\n",
       "      <td>115803</td>\n",
       "      <td>8430</td>\n",
       "      <td>19731</td>\n",
       "      <td>3204</td>\n",
       "    </tr>\n",
       "    <tr>\n",
       "      <th>9</th>\n",
       "      <td>2023-09-10</td>\n",
       "      <td>107808</td>\n",
       "      <td>4369</td>\n",
       "      <td>0</td>\n",
       "      <td>111530</td>\n",
       "      <td>17979</td>\n",
       "      <td>123600</td>\n",
       "      <td>5909</td>\n",
       "      <td>15792</td>\n",
       "      <td>1540</td>\n",
       "    </tr>\n",
       "    <tr>\n",
       "      <th>10</th>\n",
       "      <td>2023-09-11</td>\n",
       "      <td>104330</td>\n",
       "      <td>6768</td>\n",
       "      <td>0</td>\n",
       "      <td>110265</td>\n",
       "      <td>21045</td>\n",
       "      <td>120203</td>\n",
       "      <td>11107</td>\n",
       "      <td>15873</td>\n",
       "      <td>4339</td>\n",
       "    </tr>\n",
       "    <tr>\n",
       "      <th>11</th>\n",
       "      <td>2023-09-12</td>\n",
       "      <td>103107</td>\n",
       "      <td>8008</td>\n",
       "      <td>0</td>\n",
       "      <td>110215</td>\n",
       "      <td>20490</td>\n",
       "      <td>119255</td>\n",
       "      <td>11450</td>\n",
       "      <td>16148</td>\n",
       "      <td>3442</td>\n",
       "    </tr>\n",
       "    <tr>\n",
       "      <th>12</th>\n",
       "      <td>2023-09-13</td>\n",
       "      <td>113755</td>\n",
       "      <td>7019</td>\n",
       "      <td>0</td>\n",
       "      <td>119691</td>\n",
       "      <td>24907</td>\n",
       "      <td>130534</td>\n",
       "      <td>14064</td>\n",
       "      <td>16779</td>\n",
       "      <td>7045</td>\n",
       "    </tr>\n",
       "    <tr>\n",
       "      <th>13</th>\n",
       "      <td>2023-09-14</td>\n",
       "      <td>111686</td>\n",
       "      <td>6506</td>\n",
       "      <td>0</td>\n",
       "      <td>117160</td>\n",
       "      <td>22025</td>\n",
       "      <td>128518</td>\n",
       "      <td>10667</td>\n",
       "      <td>16832</td>\n",
       "      <td>4161</td>\n",
       "    </tr>\n",
       "    <tr>\n",
       "      <th>14</th>\n",
       "      <td>2023-09-15</td>\n",
       "      <td>81582</td>\n",
       "      <td>9565</td>\n",
       "      <td>0</td>\n",
       "      <td>90181</td>\n",
       "      <td>18096</td>\n",
       "      <td>93305</td>\n",
       "      <td>14972</td>\n",
       "      <td>11723</td>\n",
       "      <td>5407</td>\n",
       "    </tr>\n",
       "    <tr>\n",
       "      <th>15</th>\n",
       "      <td>2023-09-16</td>\n",
       "      <td>93572</td>\n",
       "      <td>6272</td>\n",
       "      <td>0</td>\n",
       "      <td>98694</td>\n",
       "      <td>19997</td>\n",
       "      <td>108886</td>\n",
       "      <td>9805</td>\n",
       "      <td>15314</td>\n",
       "      <td>3533</td>\n",
       "    </tr>\n",
       "    <tr>\n",
       "      <th>16</th>\n",
       "      <td>2023-09-17</td>\n",
       "      <td>91799</td>\n",
       "      <td>5362</td>\n",
       "      <td>0</td>\n",
       "      <td>96154</td>\n",
       "      <td>19428</td>\n",
       "      <td>108002</td>\n",
       "      <td>7580</td>\n",
       "      <td>16203</td>\n",
       "      <td>2218</td>\n",
       "    </tr>\n",
       "    <tr>\n",
       "      <th>17</th>\n",
       "      <td>2023-09-18</td>\n",
       "      <td>80590</td>\n",
       "      <td>7115</td>\n",
       "      <td>0</td>\n",
       "      <td>86555</td>\n",
       "      <td>17575</td>\n",
       "      <td>92138</td>\n",
       "      <td>11992</td>\n",
       "      <td>11548</td>\n",
       "      <td>4877</td>\n",
       "    </tr>\n",
       "    <tr>\n",
       "      <th>18</th>\n",
       "      <td>2023-09-19</td>\n",
       "      <td>85062</td>\n",
       "      <td>9210</td>\n",
       "      <td>0</td>\n",
       "      <td>93250</td>\n",
       "      <td>16353</td>\n",
       "      <td>97840</td>\n",
       "      <td>11763</td>\n",
       "      <td>12778</td>\n",
       "      <td>2553</td>\n",
       "    </tr>\n",
       "    <tr>\n",
       "      <th>19</th>\n",
       "      <td>2023-09-20</td>\n",
       "      <td>96277</td>\n",
       "      <td>8229</td>\n",
       "      <td>0</td>\n",
       "      <td>103150</td>\n",
       "      <td>61241</td>\n",
       "      <td>110752</td>\n",
       "      <td>53639</td>\n",
       "      <td>14475</td>\n",
       "      <td>45410</td>\n",
       "    </tr>\n",
       "    <tr>\n",
       "      <th>20</th>\n",
       "      <td>2023-09-21</td>\n",
       "      <td>108123</td>\n",
       "      <td>9066</td>\n",
       "      <td>0</td>\n",
       "      <td>116136</td>\n",
       "      <td>31086</td>\n",
       "      <td>124757</td>\n",
       "      <td>22465</td>\n",
       "      <td>16634</td>\n",
       "      <td>13399</td>\n",
       "    </tr>\n",
       "    <tr>\n",
       "      <th>21</th>\n",
       "      <td>2023-09-22</td>\n",
       "      <td>112015</td>\n",
       "      <td>7594</td>\n",
       "      <td>0</td>\n",
       "      <td>118329</td>\n",
       "      <td>30581</td>\n",
       "      <td>133403</td>\n",
       "      <td>15507</td>\n",
       "      <td>21388</td>\n",
       "      <td>7913</td>\n",
       "    </tr>\n",
       "    <tr>\n",
       "      <th>22</th>\n",
       "      <td>2023-09-23</td>\n",
       "      <td>112232</td>\n",
       "      <td>5437</td>\n",
       "      <td>0</td>\n",
       "      <td>116795</td>\n",
       "      <td>22123</td>\n",
       "      <td>128973</td>\n",
       "      <td>9945</td>\n",
       "      <td>16741</td>\n",
       "      <td>4508</td>\n",
       "    </tr>\n",
       "    <tr>\n",
       "      <th>23</th>\n",
       "      <td>2023-09-24</td>\n",
       "      <td>107985</td>\n",
       "      <td>4916</td>\n",
       "      <td>0</td>\n",
       "      <td>112113</td>\n",
       "      <td>19940</td>\n",
       "      <td>124296</td>\n",
       "      <td>7757</td>\n",
       "      <td>16311</td>\n",
       "      <td>2841</td>\n",
       "    </tr>\n",
       "    <tr>\n",
       "      <th>24</th>\n",
       "      <td>2023-09-25</td>\n",
       "      <td>108659</td>\n",
       "      <td>6891</td>\n",
       "      <td>0</td>\n",
       "      <td>113474</td>\n",
       "      <td>35781</td>\n",
       "      <td>126202</td>\n",
       "      <td>23053</td>\n",
       "      <td>17543</td>\n",
       "      <td>16162</td>\n",
       "    </tr>\n",
       "    <tr>\n",
       "      <th>25</th>\n",
       "      <td>2023-09-26</td>\n",
       "      <td>127041</td>\n",
       "      <td>7254</td>\n",
       "      <td>0</td>\n",
       "      <td>132180</td>\n",
       "      <td>30662</td>\n",
       "      <td>146757</td>\n",
       "      <td>16085</td>\n",
       "      <td>19716</td>\n",
       "      <td>8831</td>\n",
       "    </tr>\n",
       "    <tr>\n",
       "      <th>26</th>\n",
       "      <td>2023-09-27</td>\n",
       "      <td>132151</td>\n",
       "      <td>7893</td>\n",
       "      <td>0</td>\n",
       "      <td>138105</td>\n",
       "      <td>30214</td>\n",
       "      <td>156213</td>\n",
       "      <td>12106</td>\n",
       "      <td>24062</td>\n",
       "      <td>4213</td>\n",
       "    </tr>\n",
       "    <tr>\n",
       "      <th>27</th>\n",
       "      <td>2023-09-28</td>\n",
       "      <td>119021</td>\n",
       "      <td>13683</td>\n",
       "      <td>0</td>\n",
       "      <td>131286</td>\n",
       "      <td>25217</td>\n",
       "      <td>140073</td>\n",
       "      <td>16430</td>\n",
       "      <td>21052</td>\n",
       "      <td>2747</td>\n",
       "    </tr>\n",
       "    <tr>\n",
       "      <th>28</th>\n",
       "      <td>2023-09-29</td>\n",
       "      <td>111289</td>\n",
       "      <td>9190</td>\n",
       "      <td>0</td>\n",
       "      <td>119481</td>\n",
       "      <td>24125</td>\n",
       "      <td>131945</td>\n",
       "      <td>11661</td>\n",
       "      <td>20656</td>\n",
       "      <td>2471</td>\n",
       "    </tr>\n",
       "    <tr>\n",
       "      <th>29</th>\n",
       "      <td>2023-09-30</td>\n",
       "      <td>91450</td>\n",
       "      <td>7058</td>\n",
       "      <td>0</td>\n",
       "      <td>97697</td>\n",
       "      <td>17784</td>\n",
       "      <td>105390</td>\n",
       "      <td>10091</td>\n",
       "      <td>13940</td>\n",
       "      <td>3033</td>\n",
       "    </tr>\n",
       "  </tbody>\n",
       "</table>\n",
       "</div>"
      ],
      "text/plain": [
       "   formatted_date  Memorization  Point  recorded  unrecorded  failed  \\\n",
       "0      2023-09-01         79378   9120         0       87200   26974   \n",
       "1      2023-09-02         88585   6706         0       94321   18413   \n",
       "2      2023-09-03         83437   6346         0       89012   16390   \n",
       "3      2023-09-04         76194   8266         0       82986   22673   \n",
       "4      2023-09-05         93376   8552         0      100932   18707   \n",
       "5      2023-09-06         86623   7887         0       93101   35255   \n",
       "6      2023-09-07         87611   7423         0       93900   23136   \n",
       "7      2023-09-08         85811   7323         0       92263   19329   \n",
       "8      2023-09-09         96072   5226         0      100350   23883   \n",
       "9      2023-09-10        107808   4369         0      111530   17979   \n",
       "10     2023-09-11        104330   6768         0      110265   21045   \n",
       "11     2023-09-12        103107   8008         0      110215   20490   \n",
       "12     2023-09-13        113755   7019         0      119691   24907   \n",
       "13     2023-09-14        111686   6506         0      117160   22025   \n",
       "14     2023-09-15         81582   9565         0       90181   18096   \n",
       "15     2023-09-16         93572   6272         0       98694   19997   \n",
       "16     2023-09-17         91799   5362         0       96154   19428   \n",
       "17     2023-09-18         80590   7115         0       86555   17575   \n",
       "18     2023-09-19         85062   9210         0       93250   16353   \n",
       "19     2023-09-20         96277   8229         0      103150   61241   \n",
       "20     2023-09-21        108123   9066         0      116136   31086   \n",
       "21     2023-09-22        112015   7594         0      118329   30581   \n",
       "22     2023-09-23        112232   5437         0      116795   22123   \n",
       "23     2023-09-24        107985   4916         0      112113   19940   \n",
       "24     2023-09-25        108659   6891         0      113474   35781   \n",
       "25     2023-09-26        127041   7254         0      132180   30662   \n",
       "26     2023-09-27        132151   7893         0      138105   30214   \n",
       "27     2023-09-28        119021  13683         0      131286   25217   \n",
       "28     2023-09-29        111289   9190         0      119481   24125   \n",
       "29     2023-09-30         91450   7058         0       97697   17784   \n",
       "\n",
       "    Memorization_total_tries  Point_total_tries  Memorization_failed  \\\n",
       "0                      97048              17126                17670   \n",
       "1                     102533              10201                13948   \n",
       "2                      96945               8457                13508   \n",
       "3                      89024              16635                12830   \n",
       "4                     107815              11824                14439   \n",
       "5                     101694              26662                15071   \n",
       "6                     103908              13128                16297   \n",
       "7                      98297              13295                12486   \n",
       "8                     115803               8430                19731   \n",
       "9                     123600               5909                15792   \n",
       "10                    120203              11107                15873   \n",
       "11                    119255              11450                16148   \n",
       "12                    130534              14064                16779   \n",
       "13                    128518              10667                16832   \n",
       "14                     93305              14972                11723   \n",
       "15                    108886               9805                15314   \n",
       "16                    108002               7580                16203   \n",
       "17                     92138              11992                11548   \n",
       "18                     97840              11763                12778   \n",
       "19                    110752              53639                14475   \n",
       "20                    124757              22465                16634   \n",
       "21                    133403              15507                21388   \n",
       "22                    128973               9945                16741   \n",
       "23                    124296               7757                16311   \n",
       "24                    126202              23053                17543   \n",
       "25                    146757              16085                19716   \n",
       "26                    156213              12106                24062   \n",
       "27                    140073              16430                21052   \n",
       "28                    131945              11661                20656   \n",
       "29                    105390              10091                13940   \n",
       "\n",
       "    Point_failed  \n",
       "0           8006  \n",
       "1           3495  \n",
       "2           2111  \n",
       "3           8369  \n",
       "4           3272  \n",
       "5          18775  \n",
       "6           5705  \n",
       "7           5972  \n",
       "8           3204  \n",
       "9           1540  \n",
       "10          4339  \n",
       "11          3442  \n",
       "12          7045  \n",
       "13          4161  \n",
       "14          5407  \n",
       "15          3533  \n",
       "16          2218  \n",
       "17          4877  \n",
       "18          2553  \n",
       "19         45410  \n",
       "20         13399  \n",
       "21          7913  \n",
       "22          4508  \n",
       "23          2841  \n",
       "24         16162  \n",
       "25          8831  \n",
       "26          4213  \n",
       "27          2747  \n",
       "28          2471  \n",
       "29          3033  "
      ]
     },
     "metadata": {},
     "output_type": "display_data"
    }
   ],
   "source": [
    "# Pandas DataFrame을 HTML로 변환하고 Jupyter Notebook에 표시\n",
    "display(pandas_df)"
   ]
  },
  {
   "cell_type": "code",
   "execution_count": 18,
   "id": "092a6815-7322-456f-8d15-937d46cf26e1",
   "metadata": {
    "execution": {
     "iopub.execute_input": "2023-11-06T08:07:19.183142Z",
     "iopub.status.busy": "2023-11-06T08:07:19.182142Z",
     "iopub.status.idle": "2023-11-06T08:07:19.264629Z",
     "shell.execute_reply": "2023-11-06T08:07:19.264629Z",
     "shell.execute_reply.started": "2023-11-06T08:07:19.183142Z"
    }
   },
   "outputs": [
    {
     "name": "stdout",
     "output_type": "stream",
     "text": [
      "+-------------+\n",
      "|last_accuracy|\n",
      "+-------------+\n",
      "|         null|\n",
      "|         null|\n",
      "|         null|\n",
      "|         null|\n",
      "|         null|\n",
      "|         null|\n",
      "|         null|\n",
      "|         null|\n",
      "|         null|\n",
      "|         null|\n",
      "|         null|\n",
      "|         null|\n",
      "|         null|\n",
      "|         null|\n",
      "|         null|\n",
      "|         null|\n",
      "|         null|\n",
      "|         null|\n",
      "|         null|\n",
      "|         null|\n",
      "+-------------+\n",
      "only showing top 20 rows\n",
      "\n"
     ]
    }
   ],
   "source": [
    "# 'accuracy_array'의 마지막 값이 80 이상인지 확인하는 코드\n",
    "check_recorded_df = spark_df.withColumn(\"last_accuracy\", F.col(\"accuracy_array\")[-1])\n",
    "check_recorded_df.select(\"last_accuracy\").show()"
   ]
  },
  {
   "cell_type": "markdown",
   "id": "4e33c3df-393d-4114-ad09-360edd001aa6",
   "metadata": {
    "jp-MarkdownHeadingCollapsed": true
   },
   "source": [
    "# 로컬에 저장"
   ]
  },
  {
   "cell_type": "code",
   "execution_count": 12,
   "id": "8f28c316-ade2-465c-b6e1-2ebb42a0ca4a",
   "metadata": {
    "execution": {
     "iopub.execute_input": "2023-12-05T05:16:07.612314Z",
     "iopub.status.busy": "2023-12-05T05:16:07.610314Z",
     "iopub.status.idle": "2023-12-05T05:16:07.627150Z",
     "shell.execute_reply": "2023-12-05T05:16:07.626650Z",
     "shell.execute_reply.started": "2023-12-05T05:16:07.611315Z"
    },
    "tags": []
   },
   "outputs": [
    {
     "name": "stdout",
     "output_type": "stream",
     "text": [
      "C:\\Hadoop\\hadoop-3.3.6\n"
     ]
    }
   ],
   "source": [
    "print(os.environ[\"HADOOP_HOME\"])"
   ]
  },
  {
   "cell_type": "code",
   "execution_count": 13,
   "id": "1101732f-ef8b-4cb2-98bd-b0a200cb3ce6",
   "metadata": {
    "execution": {
     "iopub.execute_input": "2023-12-05T05:16:44.559916Z",
     "iopub.status.busy": "2023-12-05T05:16:44.559916Z",
     "iopub.status.idle": "2023-12-05T05:16:44.575000Z",
     "shell.execute_reply": "2023-12-05T05:16:44.575000Z",
     "shell.execute_reply.started": "2023-12-05T05:16:44.559916Z"
    },
    "tags": []
   },
   "outputs": [],
   "source": [
    "# 오늘의 날짜를 얻어 'yymmdd' 포맷으로 변환\n",
    "today = datetime.today()\n",
    "formatted_date = today.strftime('%y%m%d')\n",
    "\n",
    "# 저장할 경로 설정\n",
    "# file_path = f\"D:/DATA_PREPROCESS/FIRESTORE_DATAS/voice_metadata_parquet_{formatted_date}\"\n",
    "file_path = f\"D:/DATA_PREPROCESS/FIRESTORE_DATAS/monthly_json_data_{formatted_date}\""
   ]
  },
  {
   "cell_type": "code",
   "execution_count": 16,
   "id": "208f9b46-74be-4d2a-8e57-c1153a2e262d",
   "metadata": {
    "execution": {
     "iopub.execute_input": "2023-12-05T05:19:34.446359Z",
     "iopub.status.busy": "2023-12-05T05:19:34.446359Z",
     "iopub.status.idle": "2023-12-05T05:22:55.451125Z",
     "shell.execute_reply": "2023-12-05T05:22:55.450126Z",
     "shell.execute_reply.started": "2023-12-05T05:19:34.446359Z"
    },
    "scrolled": true,
    "tags": []
   },
   "outputs": [],
   "source": [
    "# spark_df.repartition(300).write.parquet(file_path, mode='overwrite')\n",
    "\n",
    "# 월별 데이터 저장\n",
    "df_july.write.json(f\"{file_path}/2023-07\")\n",
    "df_august.write.json(f\"{file_path}/2023-08\")\n",
    "df_september.write.json(f\"{file_path}/2023-09\")\n",
    "df_october.write.json(f\"{file_path}/2023-10\")\n",
    "df_november.write.json(f\"{file_path}/2023-11\")"
   ]
  },
  {
   "cell_type": "code",
   "execution_count": null,
   "id": "e27adbbd-6f88-4b24-9e26-ea69ceb51e27",
   "metadata": {
    "editable": true,
    "slideshow": {
     "slide_type": ""
    },
    "tags": []
   },
   "outputs": [],
   "source": []
  }
 ],
 "metadata": {
  "kernelspec": {
   "display_name": "Python 3 (ipykernel)",
   "language": "python",
   "name": "python3"
  },
  "language_info": {
   "codemirror_mode": {
    "name": "ipython",
    "version": 3
   },
   "file_extension": ".py",
   "mimetype": "text/x-python",
   "name": "python",
   "nbconvert_exporter": "python",
   "pygments_lexer": "ipython3",
   "version": "3.10.12"
  },
  "toc": {
   "base_numbering": 1,
   "nav_menu": {},
   "number_sections": true,
   "sideBar": true,
   "skip_h1_title": false,
   "title_cell": "Table of Contents",
   "title_sidebar": "Contents",
   "toc_cell": false,
   "toc_position": {},
   "toc_section_display": true,
   "toc_window_display": false
  },
  "varInspector": {
   "cols": {
    "lenName": 16,
    "lenType": 16,
    "lenVar": 40
   },
   "kernels_config": {
    "python": {
     "delete_cmd_postfix": "",
     "delete_cmd_prefix": "del ",
     "library": "var_list.py",
     "varRefreshCmd": "print(var_dic_list())"
    },
    "r": {
     "delete_cmd_postfix": ") ",
     "delete_cmd_prefix": "rm(",
     "library": "var_list.r",
     "varRefreshCmd": "cat(var_dic_list()) "
    }
   },
   "types_to_exclude": [
    "module",
    "function",
    "builtin_function_or_method",
    "instance",
    "_Feature"
   ],
   "window_display": false
  }
 },
 "nbformat": 4,
 "nbformat_minor": 5
}
