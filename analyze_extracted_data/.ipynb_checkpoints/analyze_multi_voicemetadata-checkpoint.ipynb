{
 "cells": [
  {
   "cell_type": "code",
   "execution_count": 1,
   "id": "6ba4c872-5f8f-40a2-bab5-1ac0fa5f014b",
   "metadata": {
    "execution": {
     "iopub.execute_input": "2023-12-14T06:43:42.109949Z",
     "iopub.status.busy": "2023-12-14T06:43:42.109949Z",
     "iopub.status.idle": "2023-12-14T06:43:43.622849Z",
     "shell.execute_reply": "2023-12-14T06:43:43.622849Z",
     "shell.execute_reply.started": "2023-12-14T06:43:42.109949Z"
    }
   },
   "outputs": [],
   "source": [
    "import os\n",
    "import pandas as pd\n",
    "import numpy as np\n",
    "import matplotlib.pyplot as plt\n",
    "import re # 정규식 사용을 위한 모듈\n",
    "# from scipy.stats import gaussian_kde\n",
    "\n",
    "import pyarrow.parquet as pq\n",
    "\n",
    "from pyspark import SparkContext\n",
    "from pyspark.sql import SparkSession\n",
    "from pyspark.sql import functions as F\n",
    "from pyspark.sql import types as T\n",
    "from pyspark.sql import Window\n",
    "from pyspark.sql.functions import collect_list, to_date, month, year, broadcast, element_at, regexp_extract, udf, col, isnull, count, when, substring, coalesce, from_json, size, avg, expr, concat_ws\n",
    "from pyspark.sql.types import BooleanType, TimestampType, ArrayType, StringType, StructType, StructField, DoubleType, IntegerType, FloatType\n",
    "\n",
    "from functools import reduce\n",
    "from matplotlib.ticker import FuncFormatter\n",
    "from collections import Counter\n",
    "from datetime import datetime\n",
    "\n",
    "import shutil\n",
    "\n",
    "from concurrent.futures import ThreadPoolExecutor\n",
    "\n",
    "from sklearn.model_selection import train_test_split\n",
    "\n",
    "import math"
   ]
  },
  {
   "cell_type": "code",
   "execution_count": 2,
   "id": "dfdfeb4c-f437-4857-8e5b-8c8e48f0f631",
   "metadata": {
    "execution": {
     "iopub.execute_input": "2023-12-14T06:43:47.101632Z",
     "iopub.status.busy": "2023-12-14T06:43:47.100633Z",
     "iopub.status.idle": "2023-12-14T06:43:50.385566Z",
     "shell.execute_reply": "2023-12-14T06:43:50.385566Z",
     "shell.execute_reply.started": "2023-12-14T06:43:47.101632Z"
    }
   },
   "outputs": [
    {
     "name": "stdout",
     "output_type": "stream",
     "text": [
      "Spark local directory: D:/spark_tmp\n"
     ]
    }
   ],
   "source": [
    "# 가상 환경의 Python 경로를 지정\n",
    "python_path = \"C:/Users/admin/anaconda3/envs/my_conda_01/python.exe\"\n",
    "\n",
    "# Spark 세션 생성\n",
    "spark = SparkSession.builder \\\n",
    "    .appName(\"analyze multi voicemetadata\") \\\n",
    "    .config(\"spark.driver.memory\", \"9g\") \\\n",
    "    .config(\"spark.executor.memory\", \"9g\") \\\n",
    "    .config(\"spark.driver.maxResultSize\", \"5g\") \\\n",
    "    .config(\"spark.pyspark.python\", python_path) \\\n",
    "    .config(\"spark.local.dir\", \"D:/spark_tmp\") \\\n",
    "    .getOrCreate()\n",
    "\n",
    "# SparkContext 가져오기\n",
    "sc = spark.sparkContext\n",
    "\n",
    "# Spark 중간 파일이 저장되는 경로 확인\n",
    "current_spark_local_dir = spark.conf.get(\"spark.local.dir\", \"Not Set\")\n",
    "print(\"Spark local directory:\", current_spark_local_dir)"
   ]
  },
  {
   "cell_type": "markdown",
   "id": "b762f97f-bae3-43d4-9eb7-1aba69cf8c41",
   "metadata": {},
   "source": [
    "# 불러오기"
   ]
  },
  {
   "cell_type": "code",
   "execution_count": 5,
   "id": "01628968-5a84-4f4f-8e63-6d4cccdd6614",
   "metadata": {
    "execution": {
     "iopub.execute_input": "2023-12-14T06:47:55.498798Z",
     "iopub.status.busy": "2023-12-14T06:47:55.498798Z",
     "iopub.status.idle": "2023-12-14T06:47:58.818009Z",
     "shell.execute_reply": "2023-12-14T06:47:58.818009Z",
     "shell.execute_reply.started": "2023-12-14T06:47:55.498798Z"
    }
   },
   "outputs": [],
   "source": [
    "july_train_min_file_path = \"D:/DATA_PREPROCESS/FIRESTORE_DATAS/12-08-etri-제출버전/android_VOICE_LABELING_FROM_7_TO_10/july_training_minutescript_labeling/*.json\"\n",
    "july_train_word_file_path = \"D:/DATA_PREPROCESS/FIRESTORE_DATAS/12-08-etri-제출버전/android_VOICE_LABELING_FROM_7_TO_10/july_training_wordscript_labeling/*.json\"\n",
    "july_val_min_file_path = \"D:/DATA_PREPROCESS/FIRESTORE_DATAS/12-08-etri-제출버전/android_VOICE_LABELING_FROM_7_TO_10/july_val_minutescript_labeling/*.json\"\n",
    "july_val_word_file_path = \"D:/DATA_PREPROCESS/FIRESTORE_DATAS/12-08-etri-제출버전/android_VOICE_LABELING_FROM_7_TO_10/july_val_wordscript_labeling/*.json\"\n",
    "\n",
    "july_train_min_df = spark.read.json(july_train_min_file_path)\n",
    "july_train_word_df = spark.read.json(july_train_word_file_path)\n",
    "july_val_min_df = spark.read.json(july_val_min_file_path)\n",
    "july_val_word_df = spark.read.json(july_val_word_file_path)"
   ]
  },
  {
   "cell_type": "code",
   "execution_count": 6,
   "id": "6c365cda-dc2d-4c93-b341-12df69595e2c",
   "metadata": {
    "execution": {
     "iopub.execute_input": "2023-12-14T06:48:22.735028Z",
     "iopub.status.busy": "2023-12-14T06:48:22.735028Z",
     "iopub.status.idle": "2023-12-14T06:48:26.803124Z",
     "shell.execute_reply": "2023-12-14T06:48:26.803009Z",
     "shell.execute_reply.started": "2023-12-14T06:48:22.735028Z"
    }
   },
   "outputs": [],
   "source": [
    "august_train_min_file_path = \"D:/DATA_PREPROCESS/FIRESTORE_DATAS/12-08-etri-제출버전/android_VOICE_LABELING_FROM_7_TO_10/august_training_minutescript_labeling/*.json\"\n",
    "august_train_word_file_path = \"D:/DATA_PREPROCESS/FIRESTORE_DATAS/12-08-etri-제출버전/android_VOICE_LABELING_FROM_7_TO_10/august_training_wordscript_labeling/*.json\"\n",
    "august_val_min_file_path = \"D:/DATA_PREPROCESS/FIRESTORE_DATAS/12-08-etri-제출버전/android_VOICE_LABELING_FROM_7_TO_10/august_val_minutescript_labeling/*.json\"\n",
    "august_val_word_file_path = \"D:/DATA_PREPROCESS/FIRESTORE_DATAS/12-08-etri-제출버전/android_VOICE_LABELING_FROM_7_TO_10/august_val_wordscript_labeling/*.json\"\n",
    "\n",
    "august_train_min_df = spark.read.json(august_train_min_file_path)\n",
    "august_train_word_df = spark.read.json(august_train_word_file_path)\n",
    "august_val_min_df = spark.read.json(august_val_min_file_path)\n",
    "august_val_word_df = spark.read.json(august_val_word_file_path)"
   ]
  },
  {
   "cell_type": "code",
   "execution_count": 7,
   "id": "a850f9ef-a81c-4623-a6a7-8afe7da88fbd",
   "metadata": {
    "execution": {
     "iopub.execute_input": "2023-12-14T06:48:41.062296Z",
     "iopub.status.busy": "2023-12-14T06:48:41.062296Z",
     "iopub.status.idle": "2023-12-14T06:48:44.980476Z",
     "shell.execute_reply": "2023-12-14T06:48:44.980476Z",
     "shell.execute_reply.started": "2023-12-14T06:48:41.062296Z"
    }
   },
   "outputs": [],
   "source": [
    "september_train_min_file_path = \"D:/DATA_PREPROCESS/FIRESTORE_DATAS/12-08-etri-제출버전/android_VOICE_LABELING_FROM_7_TO_10/september_training_minutescript_labeling/*.json\"\n",
    "september_train_word_file_path = \"D:/DATA_PREPROCESS/FIRESTORE_DATAS/12-08-etri-제출버전/android_VOICE_LABELING_FROM_7_TO_10/september_training_wordscript_labeling/*.json\"\n",
    "september_val_min_file_path = \"D:/DATA_PREPROCESS/FIRESTORE_DATAS/12-08-etri-제출버전/android_VOICE_LABELING_FROM_7_TO_10/september_val_minutescript_labeling/*.json\"\n",
    "september_val_word_file_path = \"D:/DATA_PREPROCESS/FIRESTORE_DATAS/12-08-etri-제출버전/android_VOICE_LABELING_FROM_7_TO_10/september_val_wordscript_labeling/*.json\"\n",
    "\n",
    "september_train_min_df = spark.read.json(september_train_min_file_path)\n",
    "september_train_word_df = spark.read.json(september_train_word_file_path)\n",
    "september_val_min_df = spark.read.json(september_val_min_file_path)\n",
    "september_val_word_df = spark.read.json(september_val_word_file_path)"
   ]
  },
  {
   "cell_type": "code",
   "execution_count": 8,
   "id": "674c5c7a-3b61-4600-a38f-6e0fc3a170c6",
   "metadata": {
    "execution": {
     "iopub.execute_input": "2023-12-14T06:48:58.403681Z",
     "iopub.status.busy": "2023-12-14T06:48:58.403681Z",
     "iopub.status.idle": "2023-12-14T06:49:02.362842Z",
     "shell.execute_reply": "2023-12-14T06:49:02.362842Z",
     "shell.execute_reply.started": "2023-12-14T06:48:58.403681Z"
    }
   },
   "outputs": [],
   "source": [
    "october_train_min_file_path = \"D:/DATA_PREPROCESS/FIRESTORE_DATAS/12-08-etri-제출버전/android_VOICE_LABELING_FROM_7_TO_10/october_training_minutescript_labeling/*.json\"\n",
    "october_train_word_file_path = \"D:/DATA_PREPROCESS/FIRESTORE_DATAS/12-08-etri-제출버전/android_VOICE_LABELING_FROM_7_TO_10/october_training_wordscript_labeling/*.json\"\n",
    "october_val_min_file_path = \"D:/DATA_PREPROCESS/FIRESTORE_DATAS/12-08-etri-제출버전/android_VOICE_LABELING_FROM_7_TO_10/october_val_minutescript_labeling/*.json\"\n",
    "october_val_word_file_path = \"D:/DATA_PREPROCESS/FIRESTORE_DATAS/12-08-etri-제출버전/android_VOICE_LABELING_FROM_7_TO_10/october_val_wordscript_labeling/*.json\"\n",
    "\n",
    "october_train_min_df = spark.read.json(october_train_min_file_path)\n",
    "october_train_word_df = spark.read.json(october_train_word_file_path)\n",
    "october_val_min_df = spark.read.json(october_val_min_file_path)\n",
    "october_val_word_df = spark.read.json(october_val_word_file_path)"
   ]
  },
  {
   "cell_type": "code",
   "execution_count": 7,
   "id": "51de637b-d399-4c52-84a0-9dfe2842559c",
   "metadata": {
    "execution": {
     "iopub.execute_input": "2023-12-06T03:58:20.253397Z",
     "iopub.status.busy": "2023-12-06T03:58:20.253397Z",
     "iopub.status.idle": "2023-12-06T03:58:21.481986Z",
     "shell.execute_reply": "2023-12-06T03:58:21.481986Z",
     "shell.execute_reply.started": "2023-12-06T03:58:20.253397Z"
    }
   },
   "outputs": [],
   "source": [
    "# november_train_min_file_path = \"D:/DATA_PREPROCESS/FIRESTORE_DATAS/android_VOICE_LABELING_FROM_7_TO_10/november_training_minutescript_labeling/*.json\"\n",
    "# november_train_word_file_path = \"D:/DATA_PREPROCESS/FIRESTORE_DATAS/android_VOICE_LABELING_FROM_7_TO_10/november_training_wordscript_labeling/*.json\"\n",
    "# november_val_min_file_path = \"D:/DATA_PREPROCESS/FIRESTORE_DATAS/android_VOICE_LABELING_FROM_7_TO_10/november_val_minutescript_labeling/*.json\"\n",
    "# november_val_word_file_path = \"D:/DATA_PREPROCESS/FIRESTORE_DATAS/android_VOICE_LABELING_FROM_7_TO_10/november_val_wordscript_labeling/*.json\"\n",
    "\n",
    "# november_train_min_df = spark.read.json(november_train_min_file_path)\n",
    "# november_train_word_df = spark.read.json(november_train_word_file_path)\n",
    "# november_val_min_df = spark.read.json(november_val_min_file_path)\n",
    "# november_val_word_df = spark.read.json(november_val_word_file_path)"
   ]
  },
  {
   "cell_type": "markdown",
   "id": "4f548227-f220-4745-82ae-dba6e7a5293a",
   "metadata": {},
   "source": [
    "## 월별 음성의 개수가 5개 이하인 유저의 퍼센트 파악 -> 삭제"
   ]
  },
  {
   "cell_type": "code",
   "execution_count": 10,
   "id": "57eaf29c-0f30-4efd-bf36-969977ca66b5",
   "metadata": {
    "execution": {
     "iopub.execute_input": "2023-12-14T06:57:31.342211Z",
     "iopub.status.busy": "2023-12-14T06:57:31.342211Z",
     "iopub.status.idle": "2023-12-14T06:57:31.357086Z",
     "shell.execute_reply": "2023-12-14T06:57:31.357086Z",
     "shell.execute_reply.started": "2023-12-14T06:57:31.342211Z"
    }
   },
   "outputs": [
    {
     "name": "stdout",
     "output_type": "stream",
     "text": [
      "root\n",
      " |-- accuracy_array: array (nullable = true)\n",
      " |    |-- element: long (containsNull = true)\n",
      " |-- ad_avg_tries: double (nullable = true)\n",
      " |-- ad_duration: string (nullable = true)\n",
      " |-- ad_link: string (nullable = true)\n",
      " |-- ad_name: string (nullable = true)\n",
      " |-- ad_script: string (nullable = true)\n",
      " |-- ad_title: string (nullable = true)\n",
      " |-- average_accuracy_by_ad: double (nullable = true)\n",
      " |-- average_accuracy_by_user: double (nullable = true)\n",
      " |-- birth_year: string (nullable = true)\n",
      " |-- collection: string (nullable = true)\n",
      " |-- created_timestamp_array: array (nullable = true)\n",
      " |    |-- element: string (containsNull = true)\n",
      " |-- excepted_age_array: string (nullable = true)\n",
      " |-- first_created_date: long (nullable = true)\n",
      " |-- first_timestamp: string (nullable = true)\n",
      " |-- gender: string (nullable = true)\n",
      " |-- is_passed: string (nullable = true)\n",
      " |-- job: string (nullable = true)\n",
      " |-- language: string (nullable = true)\n",
      " |-- level: string (nullable = true)\n",
      " |-- local_code: string (nullable = true)\n",
      " |-- participant_count: double (nullable = true)\n",
      " |-- pass_rate_by_ad: double (nullable = true)\n",
      " |-- pass_rate_by_user: double (nullable = true)\n",
      " |-- perfect: double (nullable = true)\n",
      " |-- stt_text_array: array (nullable = true)\n",
      " |    |-- element: string (containsNull = true)\n",
      " |-- text_length: long (nullable = true)\n",
      " |-- try_count: long (nullable = true)\n",
      " |-- user_avg_tries: double (nullable = true)\n",
      " |-- user_id: string (nullable = true)\n",
      " |-- voice_id: string (nullable = true)\n",
      "\n"
     ]
    }
   ],
   "source": [
    "july_train_min_df.printSchema()"
   ]
  },
  {
   "cell_type": "code",
   "execution_count": 11,
   "id": "de6686f9-a934-460b-b881-ee6f41a897a7",
   "metadata": {
    "execution": {
     "iopub.execute_input": "2023-12-14T06:58:05.534731Z",
     "iopub.status.busy": "2023-12-14T06:58:05.534731Z",
     "iopub.status.idle": "2023-12-14T06:59:13.747901Z",
     "shell.execute_reply": "2023-12-14T06:59:13.747901Z",
     "shell.execute_reply.started": "2023-12-14T06:58:05.534731Z"
    }
   },
   "outputs": [
    {
     "name": "stdout",
     "output_type": "stream",
     "text": [
      "5개 이하인 행의 개수: 927, 전체 대비 비율: 0.20%\n",
      "5개 이하인 행의 개수: 1727, 전체 대비 비율: 0.12%\n",
      "5개 이하인 행의 개수: 2136, 전체 대비 비율: 1.41%\n",
      "5개 이하인 행의 개수: 1310, 전체 대비 비율: 0.28%\n",
      "5개 이하인 행의 개수: 1066, 전체 대비 비율: 0.23%\n",
      "5개 이하인 행의 개수: 2043, 전체 대비 비율: 0.11%\n",
      "5개 이하인 행의 개수: 2423, 전체 대비 비율: 1.55%\n",
      "5개 이하인 행의 개수: 1944, 전체 대비 비율: 0.32%\n",
      "5개 이하인 행의 개수: 2364, 전체 대비 비율: 1.27%\n",
      "5개 이하인 행의 개수: 1666, 전체 대비 비율: 0.07%\n",
      "5개 이하인 행의 개수: 3866, 전체 대비 비율: 6.24%\n",
      "5개 이하인 행의 개수: 1275, 전체 대비 비율: 0.17%\n",
      "5개 이하인 행의 개수: 2220, 전체 대비 비율: 1.22%\n",
      "5개 이하인 행의 개수: 1715, 전체 대비 비율: 0.08%\n",
      "5개 이하인 행의 개수: 4462, 전체 대비 비율: 7.37%\n",
      "5개 이하인 행의 개수: 1354, 전체 대비 비율: 0.18%\n"
     ]
    }
   ],
   "source": [
    "# DataFrame 리스트\n",
    "dfs = [\n",
    "    july_train_min_df, july_train_word_df, july_val_min_df, july_val_word_df,\n",
    "    august_train_min_df, august_train_word_df, august_val_min_df, august_val_word_df,\n",
    "    september_train_min_df, september_train_word_df, september_val_min_df, september_val_word_df,\n",
    "    october_train_min_df, october_train_word_df, october_val_min_df, october_val_word_df\n",
    "]\n",
    "\n",
    "# 각 DataFrame에 대해 반복\n",
    "for df in dfs:\n",
    "    # 유저별 음성 파일 개수 계산\n",
    "    count_df = df.groupBy(\"user_id\").agg(count(\"ad_name\").alias(\"audio_count\"))\n",
    "\n",
    "    # 5개 이하인 행 필터링\n",
    "    less_than_five = count_df.filter(col(\"audio_count\") <= 5)\n",
    "\n",
    "    # 필터링된 행의 개수\n",
    "    count_less_than_five = less_than_five.count()\n",
    "\n",
    "    # 전체 행 개수\n",
    "    total_count = df.count()\n",
    "\n",
    "    # 비율 계산\n",
    "    percentage = (count_less_than_five / total_count) * 100\n",
    "\n",
    "    # 결과 출력\n",
    "    print(f\"5개 이하인 행의 개수: {count_less_than_five}, 전체 대비 비율: {percentage:.2f}%\")"
   ]
  },
  {
   "cell_type": "code",
   "execution_count": 13,
   "id": "9b29373b-ff82-44a6-a222-c8533db98e40",
   "metadata": {
    "execution": {
     "iopub.execute_input": "2023-12-14T07:57:15.020062Z",
     "iopub.status.busy": "2023-12-14T07:57:15.020062Z",
     "iopub.status.idle": "2023-12-14T07:57:15.407323Z",
     "shell.execute_reply": "2023-12-14T07:57:15.407315Z",
     "shell.execute_reply.started": "2023-12-14T07:57:15.020062Z"
    }
   },
   "outputs": [],
   "source": [
    "# 각 DataFrame에 대해 반복하며 5개 이하인 음성 파일을 가진 유저들의 행을 삭제\n",
    "for df in dfs:\n",
    "    # 유저별 음성 파일 개수 계산\n",
    "    count_df = df.groupBy(\"user_id\").agg(F.count(\"ad_name\").alias(\"audio_count\"))\n",
    "\n",
    "    # 5개 이하인 유저 ID 필터링\n",
    "    users_less_than_five = count_df.filter(F.col(\"audio_count\") <= 5).select(\"user_id\")\n",
    "\n",
    "    # 해당 유저들의 행을 삭제\n",
    "    df = df.join(users_less_than_five, \"user_id\", \"left_anti\")"
   ]
  },
  {
   "cell_type": "markdown",
   "id": "e2abcc23-96c2-4c82-8cf9-8ee9f8aa66d7",
   "metadata": {},
   "source": [
    "### 유저별 JSON 파일로 저장"
   ]
  },
  {
   "cell_type": "code",
   "execution_count": null,
   "id": "f7b2f92e-2a1d-49c6-b3fa-0ece6a7895e0",
   "metadata": {
    "execution": {
     "iopub.execute_input": "2023-12-14T08:09:34.000343Z",
     "iopub.status.busy": "2023-12-14T08:09:34.000343Z"
    }
   },
   "outputs": [],
   "source": [
    "# 경로 설정을 위한 매핑\n",
    "path_mapping = {\n",
    "    'july_train_min_df': r'D:\\DATA_PREPROCESS\\INTEGRATED_DATASETS\\MINUTE_SCRIPT\\JULY\\Training\\AMR\\라벨링데이터',\n",
    "    'july_train_word_df': r'D:\\DATA_PREPROCESS\\INTEGRATED_DATASETS\\WORD_SCRIPT\\JULY\\Training\\AMR\\라벨링데이터',\n",
    "    'july_val_min_df': r'D:\\DATA_PREPROCESS\\INTEGRATED_DATASETS\\MINUTE_SCRIPT\\JULY\\Validation\\AMR\\라벨링데이터',\n",
    "    'july_val_word_df': r'D:\\DATA_PREPROCESS\\INTEGRATED_DATASETS\\WORD_SCRIPT\\JULY\\Validation\\AMR\\라벨링데이터',\n",
    "    'august_train_min_df': r'D:\\DATA_PREPROCESS\\INTEGRATED_DATASETS\\MINUTE_SCRIPT\\AUGUST\\Training\\AMR\\라벨링데이터',\n",
    "    'august_train_word_df': r'D:\\DATA_PREPROCESS\\INTEGRATED_DATASETS\\WORD_SCRIPT\\AUGUST\\Training\\AMR\\라벨링데이터',\n",
    "    'august_val_min_df': r'D:\\DATA_PREPROCESS\\INTEGRATED_DATASETS\\MINUTE_SCRIPT\\AUGUST\\Validation\\AMR\\라벨링데이터',\n",
    "    'august_val_word_df': r'D:\\DATA_PREPROCESS\\INTEGRATED_DATASETS\\WORD_SCRIPT\\AUGUST\\Validation\\AMR\\라벨링데이터',\n",
    "    'september_train_min_df': r'D:\\DATA_PREPROCESS\\INTEGRATED_DATASETS\\MINUTE_SCRIPT\\SEPTEMBER\\Training\\AMR\\라벨링데이터',\n",
    "    'september_train_word_df': r'D:\\DATA_PREPROCESS\\INTEGRATED_DATASETS\\WORD_SCRIPT\\SEPTEMBER\\Training\\AMR\\라벨링데이터',\n",
    "    'september_val_min_df': r'D:\\DATA_PREPROCESS\\INTEGRATED_DATASETS\\MINUTE_SCRIPT\\SEPTEMBER\\Validation\\AMR\\라벨링데이터',\n",
    "    'september_val_word_df': r'D:\\DATA_PREPROCESS\\INTEGRATED_DATASETS\\WORD_SCRIPT\\SEPTEMBER\\Validation\\AMR\\라벨링데이터',\n",
    "    'october_train_min_df': r'D:\\DATA_PREPROCESS\\INTEGRATED_DATASETS\\MINUTE_SCRIPT\\OCTOBER\\Training\\AMR\\라벨링데이터',\n",
    "    'october_train_word_df': r'D:\\DATA_PREPROCESS\\INTEGRATED_DATASETS\\WORD_SCRIPT\\OCTOBER\\Training\\AMR\\라벨링데이터',\n",
    "    'october_val_min_df': r'D:\\DATA_PREPROCESS\\INTEGRATED_DATASETS\\MINUTE_SCRIPT\\OCTOBER\\Validation\\AMR\\라벨링데이터',\n",
    "    'october_val_word_df': r'D:\\DATA_PREPROCESS\\INTEGRATED_DATASETS\\WORD_SCRIPT\\OCTOBER\\Validation\\AMR\\라벨링데이터'\n",
    "}\n",
    "\n",
    "# DataFrame 이름과 객체를 튜플로 매핑\n",
    "df_tuples = [\n",
    "    ('july_train_min_df', july_train_min_df),\n",
    "    ('july_train_word_df', july_train_word_df),\n",
    "    ('july_val_min_df', july_val_min_df),\n",
    "    ('july_val_word_df', july_val_word_df),\n",
    "    ('august_train_min_df', august_train_min_df),\n",
    "    ('august_train_word_df', august_train_word_df),\n",
    "    ('august_val_min_df', august_val_min_df),\n",
    "    ('august_val_word_df', august_val_word_df),\n",
    "    ('september_train_min_df', september_train_min_df),\n",
    "    ('september_train_word_df', september_train_word_df),\n",
    "    ('september_val_min_df', september_val_min_df),\n",
    "    ('september_val_word_df', september_val_word_df),\n",
    "    ('october_train_min_df', october_train_min_df),\n",
    "    ('october_train_word_df', october_train_word_df),\n",
    "    ('october_val_min_df', october_val_min_df),\n",
    "    ('october_val_word_df', october_val_word_df)\n",
    "]\n",
    "\n",
    "# 각 DataFrame에 대해 반복하며 유저별로 JSON 파일로 저장\n",
    "for df_name, df in df_tuples:\n",
    "    # 해당 DataFrame의 경로 가져오기\n",
    "    base_path = path_mapping[df_name]\n",
    "\n",
    "    # 데이터를 JSON 형태로 변환하여 파일에 저장\n",
    "    df.write.mode('overwrite').partitionBy(\"user_id\").json(base_path)"
   ]
  },
  {
   "cell_type": "code",
   "execution_count": null,
   "id": "e6999371-3967-4d0d-b995-5175c9902bcd",
   "metadata": {},
   "outputs": [],
   "source": []
  },
  {
   "cell_type": "code",
   "execution_count": null,
   "id": "fbc1ea51-01fe-443e-8251-87d10d278e37",
   "metadata": {},
   "outputs": [],
   "source": []
  },
  {
   "cell_type": "code",
   "execution_count": null,
   "id": "68fa2ef2-0a7b-4098-bf44-59fef421c4a2",
   "metadata": {},
   "outputs": [],
   "source": []
  },
  {
   "cell_type": "code",
   "execution_count": null,
   "id": "18ee2734-94cc-4f34-8a3a-98cd5b12224a",
   "metadata": {},
   "outputs": [],
   "source": []
  },
  {
   "cell_type": "code",
   "execution_count": null,
   "id": "d861a9c6-bcc1-487a-9c7e-3d537bc7d677",
   "metadata": {},
   "outputs": [],
   "source": []
  },
  {
   "cell_type": "code",
   "execution_count": null,
   "id": "2ca5b218-7264-4d8c-841a-1f66af3e4f8b",
   "metadata": {},
   "outputs": [],
   "source": []
  },
  {
   "cell_type": "code",
   "execution_count": null,
   "id": "497e67bb-2648-4e21-af1e-8e17dbdf997a",
   "metadata": {},
   "outputs": [],
   "source": []
  },
  {
   "cell_type": "markdown",
   "id": "e3be9a44-8aa3-4780-bc5a-7e80c55f0c2d",
   "metadata": {},
   "source": [
    "# '유저id 폴더'/'광고명 파일' 구조에서 'voice_id 파일'로 바꾸기"
   ]
  },
  {
   "cell_type": "code",
   "execution_count": 7,
   "id": "544ad28d-b6c9-4538-91b1-0539e53ec502",
   "metadata": {
    "execution": {
     "iopub.execute_input": "2023-12-07T02:06:43.350894Z",
     "iopub.status.busy": "2023-12-07T02:06:43.350894Z",
     "iopub.status.idle": "2023-12-07T02:06:43.362917Z",
     "shell.execute_reply": "2023-12-07T02:06:43.362917Z",
     "shell.execute_reply.started": "2023-12-07T02:06:43.350894Z"
    }
   },
   "outputs": [],
   "source": [
    "july_train_min_target_path = f\"D:\\\\DATA_PREPROCESS\\\\FIRESTORE_DATAS\\\\android_VOICE_DATA_FROM_7_TO_10\\\\JULY\\\\training_minutescript\"\n",
    "july_train_word_target_path = f\"D:\\\\DATA_PREPROCESS\\\\FIRESTORE_DATAS\\\\android_VOICE_DATA_FROM_7_TO_10\\\\JULY\\\\training_wordscript\"\n",
    "july_val_min_target_path = f\"D:\\\\DATA_PREPROCESS\\\\FIRESTORE_DATAS\\\\android_VOICE_DATA_FROM_7_TO_10\\\\JULY\\\\validation_minutescript\"\n",
    "july_val_word_target_path = f\"D:\\\\DATA_PREPROCESS\\\\FIRESTORE_DATAS\\\\android_VOICE_DATA_FROM_7_TO_10\\\\JULY\\\\validation_wordscript\"\n",
    "\n",
    "august_train_min_target_path = f\"D:\\\\DATA_PREPROCESS\\\\FIRESTORE_DATAS\\\\android_VOICE_DATA_FROM_7_TO_10\\\\AUGUST\\\\training_minutescript\"\n",
    "august_train_word_target_path = f\"D:\\\\DATA_PREPROCESS\\\\FIRESTORE_DATAS\\\\android_VOICE_DATA_FROM_7_TO_10\\\\AUGUST\\\\training_wordscript\"\n",
    "august_val_min_target_path = f\"D:\\\\DATA_PREPROCESS\\\\FIRESTORE_DATAS\\\\android_VOICE_DATA_FROM_7_TO_10\\\\AUGUST\\\\validation_minutescript\"\n",
    "august_val_word_target_path = f\"D:\\\\DATA_PREPROCESS\\\\FIRESTORE_DATAS\\\\android_VOICE_DATA_FROM_7_TO_10\\\\AUGUST\\\\validation_wordscript\"\n",
    "\n",
    "september_train_min_target_path = f\"D:\\\\DATA_PREPROCESS\\\\FIRESTORE_DATAS\\\\android_VOICE_DATA_FROM_7_TO_10\\\\SEPTEMBER\\\\training_minutescript\"\n",
    "september_train_word_target_path = f\"D:\\\\DATA_PREPROCESS\\\\FIRESTORE_DATAS\\\\android_VOICE_DATA_FROM_7_TO_10\\\\SEPTEMBER\\\\training_wordscript\"\n",
    "september_val_min_target_path = f\"D:\\\\DATA_PREPROCESS\\\\FIRESTORE_DATAS\\\\android_VOICE_DATA_FROM_7_TO_10\\\\SEPTEMBER\\\\validation_minutescript\"\n",
    "september_val_word_target_path = f\"D:\\\\DATA_PREPROCESS\\\\FIRESTORE_DATAS\\\\android_VOICE_DATA_FROM_7_TO_10\\\\SEPTEMBER\\\\validation_wordscript\"\n",
    "\n",
    "october_train_min_target_path = f\"D:\\\\DATA_PREPROCESS\\\\FIRESTORE_DATAS\\\\android_VOICE_DATA_FROM_7_TO_10\\\\OCTOBER\\\\training_minutescript\"\n",
    "october_train_word_target_path = f\"D:\\\\DATA_PREPROCESS\\\\FIRESTORE_DATAS\\\\android_VOICE_DATA_FROM_7_TO_10\\\\OCTOBER\\\\training_wordscript\"\n",
    "october_val_min_target_path = f\"D:\\\\DATA_PREPROCESS\\\\FIRESTORE_DATAS\\\\android_VOICE_DATA_FROM_7_TO_10\\\\OCTOBER\\\\validation_minutescript\"\n",
    "october_val_word_target_path = f\"D:\\\\DATA_PREPROCESS\\\\FIRESTORE_DATAS\\\\android_VOICE_DATA_FROM_7_TO_10\\\\OCTOBER\\\\validation_wordscript\"\n"
   ]
  },
  {
   "cell_type": "code",
   "execution_count": 8,
   "id": "8e8b3a74-bfb2-49b8-8bf0-301f088f7f1f",
   "metadata": {
    "execution": {
     "iopub.execute_input": "2023-12-07T02:06:46.283064Z",
     "iopub.status.busy": "2023-12-07T02:06:46.283064Z",
     "iopub.status.idle": "2023-12-07T02:06:46.297962Z",
     "shell.execute_reply": "2023-12-07T02:06:46.297962Z",
     "shell.execute_reply.started": "2023-12-07T02:06:46.283064Z"
    }
   },
   "outputs": [],
   "source": [
    "def rename_files(df, target_path):\n",
    "    # DataFrame에서 필요한 정보 추출\n",
    "    info = df.select(\"user_id\", \"ad_name\", \"voice_id\").collect()\n",
    "\n",
    "    # 각 레코드에 대한 파일명 변경\n",
    "    for row in info:\n",
    "        old_path = os.path.join(target_path, row.user_id, row.ad_name)\n",
    "        new_path = os.path.join(target_path, row.user_id, row.voice_id)\n",
    "\n",
    "        if os.path.exists(old_path):\n",
    "            os.rename(old_path, new_path)"
   ]
  },
  {
   "cell_type": "code",
   "execution_count": 6,
   "id": "23e913f2-eaf8-44a9-8965-4879c713c0e7",
   "metadata": {
    "execution": {
     "iopub.execute_input": "2023-12-07T01:10:34.081981Z",
     "iopub.status.busy": "2023-12-07T01:10:34.081981Z",
     "iopub.status.idle": "2023-12-07T01:11:55.084545Z",
     "shell.execute_reply": "2023-12-07T01:11:55.084545Z",
     "shell.execute_reply.started": "2023-12-07T01:10:34.081981Z"
    }
   },
   "outputs": [],
   "source": [
    "rename_files(july_train_min_df, july_train_min_target_path)"
   ]
  },
  {
   "cell_type": "code",
   "execution_count": 9,
   "id": "8ed13314-a0e9-4e2e-b9f7-21115f28e20b",
   "metadata": {
    "execution": {
     "iopub.execute_input": "2023-12-07T02:06:49.015950Z",
     "iopub.status.busy": "2023-12-07T02:06:49.014950Z",
     "iopub.status.idle": "2023-12-07T03:00:37.290561Z",
     "shell.execute_reply": "2023-12-07T03:00:37.290561Z",
     "shell.execute_reply.started": "2023-12-07T02:06:49.015950Z"
    }
   },
   "outputs": [],
   "source": [
    "# rename_files(july_train_word_df, july_train_word_target_path)\n",
    "# rename_files(july_val_min_df, july_val_min_target_path)\n",
    "# rename_files(july_val_word_df, july_val_word_target_path)\n",
    "\n",
    "rename_files(august_train_min_df, august_train_min_target_path)\n",
    "rename_files(august_train_word_df, august_train_word_target_path)\n",
    "rename_files(august_val_min_df, august_val_min_target_path)\n",
    "rename_files(august_val_word_df, august_val_word_target_path)\n",
    "\n",
    "rename_files(september_train_min_df, september_train_min_target_path)\n",
    "rename_files(september_train_word_df, september_train_word_target_path)\n",
    "rename_files(september_val_min_df, september_val_min_target_path)\n",
    "rename_files(september_val_word_df, september_val_word_target_path)\n",
    "\n",
    "rename_files(october_train_min_df, october_train_min_target_path)\n",
    "rename_files(october_train_word_df, october_train_word_target_path)\n",
    "rename_files(october_val_min_df, october_val_min_target_path)\n",
    "rename_files(october_val_word_df, october_val_word_target_path)"
   ]
  },
  {
   "cell_type": "markdown",
   "id": "02c460a3-4aae-4291-ac16-4da2ad11091b",
   "metadata": {},
   "source": [
    "## 유저명 폴더 없에고 그 안의 파일들을 상위폴더로 이동"
   ]
  },
  {
   "cell_type": "code",
   "execution_count": 10,
   "id": "938aa275-5249-414e-92cb-a5b4802af86b",
   "metadata": {
    "execution": {
     "iopub.execute_input": "2023-12-07T03:22:06.982759Z",
     "iopub.status.busy": "2023-12-07T03:22:06.981760Z",
     "iopub.status.idle": "2023-12-07T03:22:06.998540Z",
     "shell.execute_reply": "2023-12-07T03:22:06.997541Z",
     "shell.execute_reply.started": "2023-12-07T03:22:06.982759Z"
    }
   },
   "outputs": [],
   "source": [
    "def move_files_and_remove_folder(root_path):\n",
    "    # root_path 내의 모든 폴더를 순회\n",
    "    for user_folder in os.listdir(root_path):\n",
    "        user_folder_path = os.path.join(root_path, user_folder)\n",
    "\n",
    "        # 폴더인지 확인\n",
    "        if os.path.isdir(user_folder_path):\n",
    "            # 해당 폴더 내의 모든 파일에 대해\n",
    "            for file_name in os.listdir(user_folder_path):\n",
    "                file_path = os.path.join(user_folder_path, file_name)\n",
    "                new_path = os.path.join(root_path, file_name)\n",
    "\n",
    "                # 파일 이동\n",
    "                shutil.move(file_path, new_path)\n",
    "\n",
    "            # 빈 폴더 삭제\n",
    "            os.rmdir(user_folder_path)"
   ]
  },
  {
   "cell_type": "code",
   "execution_count": 11,
   "id": "1a180d26-c589-47d8-b21f-e08bf9ad7c9e",
   "metadata": {
    "execution": {
     "iopub.execute_input": "2023-12-07T03:22:34.337663Z",
     "iopub.status.busy": "2023-12-07T03:22:34.337663Z",
     "iopub.status.idle": "2023-12-07T03:23:36.745009Z",
     "shell.execute_reply": "2023-12-07T03:23:36.745009Z",
     "shell.execute_reply.started": "2023-12-07T03:22:34.337663Z"
    }
   },
   "outputs": [],
   "source": [
    "move_files_and_remove_folder(\"D:\\\\DATA_PREPROCESS\\\\FIRESTORE_DATAS\\\\android_VOICE_DATA_FROM_7_TO_10\\\\JULY\\\\training_minutescript\")"
   ]
  },
  {
   "cell_type": "code",
   "execution_count": 13,
   "id": "290e7663-c3a4-4e32-9c32-0ea14e0edc5b",
   "metadata": {
    "execution": {
     "iopub.execute_input": "2023-12-07T06:05:55.258836Z",
     "iopub.status.busy": "2023-12-07T06:05:55.256621Z",
     "iopub.status.idle": "2023-12-07T07:16:26.725923Z",
     "shell.execute_reply": "2023-12-07T07:16:26.725923Z",
     "shell.execute_reply.started": "2023-12-07T06:05:55.258836Z"
    }
   },
   "outputs": [],
   "source": [
    "# 7월 데이터에 대한 작업\n",
    "move_files_and_remove_folder(\"D:\\\\DATA_PREPROCESS\\\\FIRESTORE_DATAS\\\\android_VOICE_DATA_FROM_7_TO_10\\\\JULY\\\\training_wordscript\")\n",
    "move_files_and_remove_folder(\"D:\\\\DATA_PREPROCESS\\\\FIRESTORE_DATAS\\\\android_VOICE_DATA_FROM_7_TO_10\\\\JULY\\\\validation_minutescript\")\n",
    "move_files_and_remove_folder(\"D:\\\\DATA_PREPROCESS\\\\FIRESTORE_DATAS\\\\android_VOICE_DATA_FROM_7_TO_10\\\\JULY\\\\validation_wordscript\")\n",
    "\n",
    "# 8월 데이터에 대한 작업\n",
    "move_files_and_remove_folder(\"D:\\\\DATA_PREPROCESS\\\\FIRESTORE_DATAS\\\\android_VOICE_DATA_FROM_7_TO_10\\\\AUGUST\\\\training_minutescript\")\n",
    "move_files_and_remove_folder(\"D:\\\\DATA_PREPROCESS\\\\FIRESTORE_DATAS\\\\android_VOICE_DATA_FROM_7_TO_10\\\\AUGUST\\\\training_wordscript\")\n",
    "move_files_and_remove_folder(\"D:\\\\DATA_PREPROCESS\\\\FIRESTORE_DATAS\\\\android_VOICE_DATA_FROM_7_TO_10\\\\AUGUST\\\\validation_minutescript\")\n",
    "move_files_and_remove_folder(\"D:\\\\DATA_PREPROCESS\\\\FIRESTORE_DATAS\\\\android_VOICE_DATA_FROM_7_TO_10\\\\AUGUST\\\\validation_wordscript\")\n",
    "\n",
    "# 9월 데이터에 대한 작업\n",
    "move_files_and_remove_folder(\"D:\\\\DATA_PREPROCESS\\\\FIRESTORE_DATAS\\\\android_VOICE_DATA_FROM_7_TO_10\\\\SEPTEMBER\\\\training_minutescript\")\n",
    "move_files_and_remove_folder(\"D:\\\\DATA_PREPROCESS\\\\FIRESTORE_DATAS\\\\android_VOICE_DATA_FROM_7_TO_10\\\\SEPTEMBER\\\\training_wordscript\")\n",
    "move_files_and_remove_folder(\"D:\\\\DATA_PREPROCESS\\\\FIRESTORE_DATAS\\\\android_VOICE_DATA_FROM_7_TO_10\\\\SEPTEMBER\\\\validation_minutescript\")\n",
    "move_files_and_remove_folder(\"D:\\\\DATA_PREPROCESS\\\\FIRESTORE_DATAS\\\\android_VOICE_DATA_FROM_7_TO_10\\\\SEPTEMBER\\\\validation_wordscript\")\n",
    "\n",
    "# 10월 데이터에 대한 작업\n",
    "move_files_and_remove_folder(\"D:\\\\DATA_PREPROCESS\\\\FIRESTORE_DATAS\\\\android_VOICE_DATA_FROM_7_TO_10\\\\OCTOBER\\\\training_minutescript\")\n",
    "move_files_and_remove_folder(\"D:\\\\DATA_PREPROCESS\\\\FIRESTORE_DATAS\\\\android_VOICE_DATA_FROM_7_TO_10\\\\OCTOBER\\\\training_wordscript\")\n",
    "move_files_and_remove_folder(\"D:\\\\DATA_PREPROCESS\\\\FIRESTORE_DATAS\\\\android_VOICE_DATA_FROM_7_TO_10\\\\OCTOBER\\\\validation_minutescript\")\n",
    "move_files_and_remove_folder(\"D:\\\\DATA_PREPROCESS\\\\FIRESTORE_DATAS\\\\android_VOICE_DATA_FROM_7_TO_10\\\\OCTOBER\\\\validation_wordscript\")"
   ]
  },
  {
   "cell_type": "code",
   "execution_count": null,
   "id": "1fc0adf9-8872-4cdc-bc85-1e392a4856a6",
   "metadata": {},
   "outputs": [],
   "source": []
  },
  {
   "cell_type": "markdown",
   "id": "42329974-16ad-4838-822e-493993111f5a",
   "metadata": {
    "jp-MarkdownHeadingCollapsed": true
   },
   "source": [
    "# 각각의 데이터 뽑기"
   ]
  },
  {
   "cell_type": "code",
   "execution_count": 8,
   "id": "f261e267-bb41-4dba-a115-069974fa46b8",
   "metadata": {
    "execution": {
     "iopub.execute_input": "2023-12-06T05:10:05.097902Z",
     "iopub.status.busy": "2023-12-06T05:10:05.097902Z",
     "iopub.status.idle": "2023-12-06T05:10:05.108747Z",
     "shell.execute_reply": "2023-12-06T05:10:05.108747Z",
     "shell.execute_reply.started": "2023-12-06T05:10:05.097902Z"
    }
   },
   "outputs": [],
   "source": [
    "# 후보 2\n",
    "def copy_file(source, target):\n",
    "    try:\n",
    "        shutil.copy(source, target)\n",
    "        return 1  # 성공한 경우\n",
    "    except Exception as e:\n",
    "        return 0  # 실패한 경우\n",
    "\n",
    "def find_and_copy_files(source_path, target_path, df):\n",
    "    # # 결과 저장을 위한 카운터\n",
    "    # results = []\n",
    "\n",
    "    with ThreadPoolExecutor(max_workers=10) as executor:\n",
    "        futures = []\n",
    "\n",
    "        for row in df.collect():\n",
    "            user_id = row['user_id']\n",
    "            ad_name = row['ad_name']\n",
    "            user_folder_path = os.path.join(source_path, user_id)\n",
    "            ad_file_path = os.path.join(user_folder_path, ad_name)\n",
    "            target_dir = os.path.join(target_path, user_id)\n",
    "\n",
    "            if not os.path.exists(target_dir):\n",
    "                os.makedirs(target_dir)\n",
    "\n",
    "            # 병렬 처리를 위한 작업 추가\n",
    "            if os.path.isfile(ad_file_path):\n",
    "                futures.append(executor.submit(copy_file, ad_file_path, target_dir))\n",
    "\n",
    "        for future in futures:\n",
    "            future.result()\n"
   ]
  },
  {
   "cell_type": "code",
   "execution_count": 9,
   "id": "a921a8eb-e4c7-49dc-b9e8-6345aa53a85b",
   "metadata": {
    "execution": {
     "iopub.execute_input": "2023-12-06T05:10:30.562495Z",
     "iopub.status.busy": "2023-12-06T05:10:30.562495Z",
     "iopub.status.idle": "2023-12-06T05:45:46.324574Z",
     "shell.execute_reply": "2023-12-06T05:45:46.323384Z",
     "shell.execute_reply.started": "2023-12-06T05:10:30.562495Z"
    }
   },
   "outputs": [],
   "source": [
    "july_source_path = f\"D:\\\\DATA_PREPROCESS\\\\FIRESTORE_DATAS\\\\android_VOICE_DATA_FROM_7_TO_10\\\\voice_files_from_july\"\n",
    "\n",
    "july_train_min_target_path = f\"D:\\\\DATA_PREPROCESS\\\\FIRESTORE_DATAS\\\\android_VOICE_DATA_FROM_7_TO_10\\\\JULY\\\\training_minutescript\"\n",
    "july_train_word_target_path = f\"D:\\\\DATA_PREPROCESS\\\\FIRESTORE_DATAS\\\\android_VOICE_DATA_FROM_7_TO_10\\\\JULY\\\\training_wordscript\"\n",
    "july_val_min_target_path = f\"D:\\\\DATA_PREPROCESS\\\\FIRESTORE_DATAS\\\\android_VOICE_DATA_FROM_7_TO_10\\\\JULY\\\\validation_minutescript\"\n",
    "july_val_word_target_path = f\"D:\\\\DATA_PREPROCESS\\\\FIRESTORE_DATAS\\\\android_VOICE_DATA_FROM_7_TO_10\\\\JULY\\\\validation_wordscript\"\n",
    "\n",
    "find_and_copy_files(july_source_path, july_train_min_target_path, july_train_min_df)\n",
    "find_and_copy_files(july_source_path, july_train_word_target_path, july_train_word_df)\n",
    "find_and_copy_files(july_source_path, july_val_min_target_path, july_val_min_df)\n",
    "find_and_copy_files(july_source_path, july_val_word_target_path, july_val_word_df)"
   ]
  },
  {
   "cell_type": "code",
   "execution_count": 11,
   "id": "62928e9c-c86b-461d-8a45-6e346172442c",
   "metadata": {
    "execution": {
     "iopub.execute_input": "2023-12-06T06:50:38.147173Z",
     "iopub.status.busy": "2023-12-06T06:50:38.146175Z",
     "iopub.status.idle": "2023-12-06T07:30:48.766025Z",
     "shell.execute_reply": "2023-12-06T07:30:48.766025Z",
     "shell.execute_reply.started": "2023-12-06T06:50:38.147173Z"
    }
   },
   "outputs": [],
   "source": [
    "august_source_path = f\"D:\\\\DATA_PREPROCESS\\\\FIRESTORE_DATAS\\\\android_VOICE_DATA_FROM_7_TO_10\\\\voice_files_from_august\"\n",
    "\n",
    "august_train_min_target_path = f\"D:\\\\DATA_PREPROCESS\\\\FIRESTORE_DATAS\\\\android_VOICE_DATA_FROM_7_TO_10\\\\AUGUST\\\\training_minutescript\"\n",
    "august_train_word_target_path = f\"D:\\\\DATA_PREPROCESS\\\\FIRESTORE_DATAS\\\\android_VOICE_DATA_FROM_7_TO_10\\\\AUGUST\\\\training_wordscript\"\n",
    "august_val_min_target_path = f\"D:\\\\DATA_PREPROCESS\\\\FIRESTORE_DATAS\\\\android_VOICE_DATA_FROM_7_TO_10\\\\AUGUST\\\\validation_minutescript\"\n",
    "august_val_word_target_path = f\"D:\\\\DATA_PREPROCESS\\\\FIRESTORE_DATAS\\\\android_VOICE_DATA_FROM_7_TO_10\\\\AUGUST\\\\validation_wordscript\"\n",
    "\n",
    "find_and_copy_files(august_source_path, august_train_min_target_path, august_train_min_df)\n",
    "find_and_copy_files(august_source_path, august_train_word_target_path, august_train_word_df)\n",
    "find_and_copy_files(august_source_path, august_val_min_target_path, august_val_min_df)\n",
    "find_and_copy_files(august_source_path, august_val_word_target_path, august_val_word_df)"
   ]
  },
  {
   "cell_type": "code",
   "execution_count": 13,
   "id": "f291a627-7d7c-4191-aa7c-791123e86c91",
   "metadata": {
    "execution": {
     "iopub.execute_input": "2023-12-06T08:18:34.761392Z",
     "iopub.status.busy": "2023-12-06T08:18:34.761392Z",
     "iopub.status.idle": "2023-12-06T09:12:49.906978Z",
     "shell.execute_reply": "2023-12-06T09:12:49.906978Z",
     "shell.execute_reply.started": "2023-12-06T08:18:34.761392Z"
    }
   },
   "outputs": [],
   "source": [
    "september_source_path = f\"D:\\\\DATA_PREPROCESS\\\\FIRESTORE_DATAS\\\\android_VOICE_DATA_FROM_7_TO_10\\\\voice_files_from_september\"\n",
    "\n",
    "september_train_min_target_path = f\"D:\\\\DATA_PREPROCESS\\\\FIRESTORE_DATAS\\\\android_VOICE_DATA_FROM_7_TO_10\\\\SEPTEMBER\\\\training_minutescript\"\n",
    "september_train_word_target_path = f\"D:\\\\DATA_PREPROCESS\\\\FIRESTORE_DATAS\\\\android_VOICE_DATA_FROM_7_TO_10\\\\SEPTEMBER\\\\training_wordscript\"\n",
    "september_val_min_target_path = f\"D:\\\\DATA_PREPROCESS\\\\FIRESTORE_DATAS\\\\android_VOICE_DATA_FROM_7_TO_10\\\\SEPTEMBER\\\\validation_minutescript\"\n",
    "september_val_word_target_path = f\"D:\\\\DATA_PREPROCESS\\\\FIRESTORE_DATAS\\\\android_VOICE_DATA_FROM_7_TO_10\\\\SEPTEMBER\\\\validation_wordscript\"\n",
    "\n",
    "find_and_copy_files(september_source_path, september_train_min_target_path, september_train_min_df)\n",
    "find_and_copy_files(september_source_path, september_train_word_target_path, september_train_word_df)\n",
    "find_and_copy_files(september_source_path, september_val_min_target_path, september_val_min_df)\n",
    "find_and_copy_files(september_source_path, september_val_word_target_path, september_val_word_df)"
   ]
  },
  {
   "cell_type": "code",
   "execution_count": 12,
   "id": "0d4d2b58-c0da-4393-a573-b9e10bd06d31",
   "metadata": {
    "execution": {
     "iopub.execute_input": "2023-12-06T07:30:48.771263Z",
     "iopub.status.busy": "2023-12-06T07:30:48.771263Z",
     "iopub.status.idle": "2023-12-06T08:18:34.761392Z",
     "shell.execute_reply": "2023-12-06T08:18:34.761392Z",
     "shell.execute_reply.started": "2023-12-06T07:30:48.771263Z"
    }
   },
   "outputs": [],
   "source": [
    "october_source_path = f\"D:\\\\DATA_PREPROCESS\\\\FIRESTORE_DATAS\\\\android_VOICE_DATA_FROM_7_TO_10\\\\voice_files_from_october\"\n",
    "\n",
    "october_train_min_target_path = f\"D:\\\\DATA_PREPROCESS\\\\FIRESTORE_DATAS\\\\android_VOICE_DATA_FROM_7_TO_10\\\\OCTOBER\\\\training_minutescript\"\n",
    "october_train_word_target_path = f\"D:\\\\DATA_PREPROCESS\\\\FIRESTORE_DATAS\\\\android_VOICE_DATA_FROM_7_TO_10\\\\OCTOBER\\\\training_wordscript\"\n",
    "october_val_min_target_path = f\"D:\\\\DATA_PREPROCESS\\\\FIRESTORE_DATAS\\\\android_VOICE_DATA_FROM_7_TO_10\\\\OCTOBER\\\\validation_minutescript\"\n",
    "october_val_word_target_path = f\"D:\\\\DATA_PREPROCESS\\\\FIRESTORE_DATAS\\\\android_VOICE_DATA_FROM_7_TO_10\\\\OCTOBER\\\\validation_wordscript\"\n",
    "\n",
    "find_and_copy_files(october_source_path, october_train_min_target_path, october_train_min_df)\n",
    "find_and_copy_files(october_source_path, october_train_word_target_path, october_train_word_df)\n",
    "find_and_copy_files(october_source_path, october_val_min_target_path, october_val_min_df)\n",
    "find_and_copy_files(october_source_path, october_val_word_target_path, october_val_word_df)"
   ]
  },
  {
   "cell_type": "code",
   "execution_count": null,
   "id": "22b18989-5b0f-428a-af92-acd4c8ce6b05",
   "metadata": {},
   "outputs": [],
   "source": []
  }
 ],
 "metadata": {
  "kernelspec": {
   "display_name": "Python 3 (ipykernel)",
   "language": "python",
   "name": "python3"
  },
  "language_info": {
   "codemirror_mode": {
    "name": "ipython",
    "version": 3
   },
   "file_extension": ".py",
   "mimetype": "text/x-python",
   "name": "python",
   "nbconvert_exporter": "python",
   "pygments_lexer": "ipython3",
   "version": "3.10.12"
  }
 },
 "nbformat": 4,
 "nbformat_minor": 5
}
