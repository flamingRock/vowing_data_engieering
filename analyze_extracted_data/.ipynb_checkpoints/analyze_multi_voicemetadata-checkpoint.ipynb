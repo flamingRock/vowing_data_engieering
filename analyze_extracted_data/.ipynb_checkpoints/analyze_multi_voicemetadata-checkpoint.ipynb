{
 "cells": [
  {
   "cell_type": "code",
   "execution_count": 1,
   "id": "6ba4c872-5f8f-40a2-bab5-1ac0fa5f014b",
   "metadata": {
    "execution": {
     "iopub.execute_input": "2024-01-05T01:00:03.925261Z",
     "iopub.status.busy": "2024-01-05T01:00:03.924260Z",
     "iopub.status.idle": "2024-01-05T01:00:05.412085Z",
     "shell.execute_reply": "2024-01-05T01:00:05.412085Z",
     "shell.execute_reply.started": "2024-01-05T01:00:03.925261Z"
    }
   },
   "outputs": [],
   "source": [
    "import os\n",
    "import pandas as pd\n",
    "import numpy as np\n",
    "import matplotlib.pyplot as plt\n",
    "import re # 정규식 사용을 위한 모듈\n",
    "# from scipy.stats import gaussian_kde\n",
    "\n",
    "import pyarrow.parquet as pq\n",
    "\n",
    "from pyspark import SparkContext\n",
    "from pyspark.sql import SparkSession\n",
    "from pyspark.sql import functions as F\n",
    "from pyspark.sql import types as T\n",
    "from pyspark.sql import Window\n",
    "from pyspark.sql.functions import collect_list, to_date, month, year, broadcast, element_at, regexp_extract, udf, col, isnull, count, when, substring, coalesce, from_json, size, avg, expr, concat_ws\n",
    "from pyspark.sql.types import BooleanType, TimestampType, ArrayType, StringType, StructType, StructField, DoubleType, IntegerType, FloatType\n",
    "\n",
    "from functools import reduce\n",
    "from matplotlib.ticker import FuncFormatter\n",
    "from collections import Counter\n",
    "from datetime import datetime\n",
    "\n",
    "import shutil\n",
    "\n",
    "from concurrent.futures import ThreadPoolExecutor\n",
    "\n",
    "from sklearn.model_selection import train_test_split\n",
    "\n",
    "import math"
   ]
  },
  {
   "cell_type": "code",
   "execution_count": 2,
   "id": "dfdfeb4c-f437-4857-8e5b-8c8e48f0f631",
   "metadata": {
    "execution": {
     "iopub.execute_input": "2024-01-05T01:00:26.235577Z",
     "iopub.status.busy": "2024-01-05T01:00:26.235577Z",
     "iopub.status.idle": "2024-01-05T01:00:29.562789Z",
     "shell.execute_reply": "2024-01-05T01:00:29.562789Z",
     "shell.execute_reply.started": "2024-01-05T01:00:26.235577Z"
    }
   },
   "outputs": [
    {
     "name": "stdout",
     "output_type": "stream",
     "text": [
      "Spark local directory: D:/spark_tmp\n"
     ]
    }
   ],
   "source": [
    "# 가상 환경의 Python 경로를 지정\n",
    "python_path = \"C:/Users/admin/anaconda3/envs/my_conda_01/python.exe\"\n",
    "\n",
    "# Spark 세션 생성\n",
    "spark = SparkSession.builder \\\n",
    "    .appName(\"analyze multi voicemetadata\") \\\n",
    "    .config(\"spark.driver.memory\", \"9g\") \\\n",
    "    .config(\"spark.executor.memory\", \"9g\") \\\n",
    "    .config(\"spark.driver.maxResultSize\", \"5g\") \\\n",
    "    .config(\"spark.pyspark.python\", python_path) \\\n",
    "    .config(\"spark.local.dir\", \"D:/spark_tmp\") \\\n",
    "    .getOrCreate()\n",
    "\n",
    "# SparkContext 가져오기\n",
    "sc = spark.sparkContext\n",
    "\n",
    "# Spark 중간 파일이 저장되는 경로 확인\n",
    "current_spark_local_dir = spark.conf.get(\"spark.local.dir\", \"Not Set\")\n",
    "print(\"Spark local directory:\", current_spark_local_dir)"
   ]
  },
  {
   "cell_type": "markdown",
   "id": "b762f97f-bae3-43d4-9eb7-1aba69cf8c41",
   "metadata": {},
   "source": [
    "# 불러오기"
   ]
  },
  {
   "cell_type": "code",
   "execution_count": null,
   "id": "69072038-4d1f-444c-a642-5192ef717a8f",
   "metadata": {
    "execution": {
     "iopub.execute_input": "2024-01-05T01:06:30.694484Z",
     "iopub.status.busy": "2024-01-05T01:06:30.693490Z"
    }
   },
   "outputs": [],
   "source": [
    "july_train_min_file_path = \"D:/DATA_PREPROCESS/INTEGRATED_DATASETS/new_화자별/JULY/Training/AMR/라벨링데이터/*.json\"\n",
    "july_train_word_file_path = \"D:/DATA_PREPROCESS/FIRESTORE_DATAS/12-08-etri-제출버전/android_VOICE_LABELING_FROM_7_TO_10/july_training_wordscript_labeling/*.json\"\n",
    "july_val_min_file_path = \"D:/DATA_PREPROCESS/INTEGRATED_DATASETS/new_화자별/JULY/Validation/AMR/라벨링데이터/*.json\"\n",
    "july_val_word_file_path = \"D:/DATA_PREPROCESS/FIRESTORE_DATAS/12-08-etri-제출버전/android_VOICE_LABELING_FROM_7_TO_10/july_val_wordscript_labeling/*.json\"\n",
    "\n",
    "july_train_min_df = spark.read.json(july_train_min_file_path)\n",
    "july_train_word_df = spark.read.json(july_train_word_file_path)\n",
    "july_val_min_df = spark.read.json(july_val_min_file_path)\n",
    "july_val_word_df = spark.read.json(july_val_word_file_path)\n",
    "\n",
    "august_train_min_file_path = \"D:/DATA_PREPROCESS/INTEGRATED_DATASETS/new_화자별/AUGUST/Training/AMR/라벨링데이터/*.json\"\n",
    "august_train_word_file_path = \"D:/DATA_PREPROCESS/FIRESTORE_DATAS/12-08-etri-제출버전/android_VOICE_LABELING_FROM_7_TO_10/august_training_wordscript_labeling/*.json\"\n",
    "august_val_min_file_path = \"D:/DATA_PREPROCESS/INTEGRATED_DATASETS/new_화자별/AUGUST/Validation//AMR/라벨링데이터/*.json\"\n",
    "august_val_word_file_path = \"D:/DATA_PREPROCESS/FIRESTORE_DATAS/12-08-etri-제출버전/android_VOICE_LABELING_FROM_7_TO_10/august_val_wordscript_labeling/*.json\"\n",
    "\n",
    "august_train_min_df = spark.read.json(august_train_min_file_path)\n",
    "august_train_word_df = spark.read.json(august_train_word_file_path)\n",
    "august_val_min_df = spark.read.json(august_val_min_file_path)\n",
    "august_val_word_df = spark.read.json(august_val_word_file_path)\n",
    "\n",
    "september_train_min_file_path = \"D:/DATA_PREPROCESS/INTEGRATED_DATASETS/new_화자별/SEPTEMBER/Training/AMR/라벨링데이터/*.json\"\n",
    "september_train_word_file_path = \"D:/DATA_PREPROCESS/FIRESTORE_DATAS/12-08-etri-제출버전/android_VOICE_LABELING_FROM_7_TO_10/september_training_wordscript_labeling/*.json\"\n",
    "september_val_min_file_path = \"D:/DATA_PREPROCESS/INTEGRATED_DATASETS/new_화자별/SEPTEMBER/Validation//AMR/라벨링데이터/*.json\"\n",
    "september_val_word_file_path = \"D:/DATA_PREPROCESS/FIRESTORE_DATAS/12-08-etri-제출버전/android_VOICE_LABELING_FROM_7_TO_10/september_val_wordscript_labeling/*.json\"\n",
    "\n",
    "september_train_min_df = spark.read.json(september_train_min_file_path)\n",
    "september_train_word_df = spark.read.json(september_train_word_file_path)\n",
    "september_val_min_df = spark.read.json(september_val_min_file_path)\n",
    "september_val_word_df = spark.read.json(september_val_word_file_path)\n",
    "\n",
    "october_train_min_file_path = \"D:/DATA_PREPROCESS/INTEGRATED_DATASETS/new_화자별/SEPTEMBER/Training/AMR/라벨링데이터/*.json\"\n",
    "october_train_word_file_path = \"D:/DATA_PREPROCESS/FIRESTORE_DATAS/12-08-etri-제출버전/android_VOICE_LABELING_FROM_7_TO_10/october_training_wordscript_labeling/*.json\"\n",
    "october_val_min_file_path = \"D:/DATA_PREPROCESS/INTEGRATED_DATASETS/new_화자별/SEPTEMBER/Validation//AMR/라벨링데이터/*.json\"\n",
    "october_val_word_file_path = \"D:/DATA_PREPROCESS/FIRESTORE_DATAS/12-08-etri-제출버전/android_VOICE_LABELING_FROM_7_TO_10/october_val_wordscript_labeling/*.json\"\n",
    "\n",
    "october_train_min_df = spark.read.json(october_train_min_file_path)\n",
    "october_train_word_df = spark.read.json(october_train_word_file_path)\n",
    "october_val_min_df = spark.read.json(october_val_min_file_path)\n",
    "october_val_word_df = spark.read.json(october_val_word_file_path)"
   ]
  },
  {
   "cell_type": "code",
   "execution_count": 3,
   "id": "01628968-5a84-4f4f-8e63-6d4cccdd6614",
   "metadata": {
    "execution": {
     "iopub.execute_input": "2023-12-22T01:23:34.037591Z",
     "iopub.status.busy": "2023-12-22T01:23:34.036591Z",
     "iopub.status.idle": "2023-12-22T01:23:40.835605Z",
     "shell.execute_reply": "2023-12-22T01:23:40.835192Z",
     "shell.execute_reply.started": "2023-12-22T01:23:34.037591Z"
    }
   },
   "outputs": [],
   "source": [
    "july_train_min_file_path = \"D:/DATA_PREPROCESS/FIRESTORE_DATAS/12-08-etri-제출버전/android_VOICE_LABELING_FROM_7_TO_10/july_training_minutescript_labeling/*.json\"\n",
    "july_train_word_file_path = \"D:/DATA_PREPROCESS/FIRESTORE_DATAS/12-08-etri-제출버전/android_VOICE_LABELING_FROM_7_TO_10/july_training_wordscript_labeling/*.json\"\n",
    "july_val_min_file_path = \"D:/DATA_PREPROCESS/FIRESTORE_DATAS/12-08-etri-제출버전/android_VOICE_LABELING_FROM_7_TO_10/july_val_minutescript_labeling/*.json\"\n",
    "july_val_word_file_path = \"D:/DATA_PREPROCESS/FIRESTORE_DATAS/12-08-etri-제출버전/android_VOICE_LABELING_FROM_7_TO_10/july_val_wordscript_labeling/*.json\"\n",
    "\n",
    "july_train_min_df = spark.read.json(july_train_min_file_path)\n",
    "july_train_word_df = spark.read.json(july_train_word_file_path)\n",
    "july_val_min_df = spark.read.json(july_val_min_file_path)\n",
    "july_val_word_df = spark.read.json(july_val_word_file_path)"
   ]
  },
  {
   "cell_type": "code",
   "execution_count": 4,
   "id": "6c365cda-dc2d-4c93-b341-12df69595e2c",
   "metadata": {
    "execution": {
     "iopub.execute_input": "2023-12-22T01:23:40.836362Z",
     "iopub.status.busy": "2023-12-22T01:23:40.836362Z",
     "iopub.status.idle": "2023-12-22T01:23:44.982083Z",
     "shell.execute_reply": "2023-12-22T01:23:44.982083Z",
     "shell.execute_reply.started": "2023-12-22T01:23:40.836362Z"
    }
   },
   "outputs": [],
   "source": [
    "august_train_min_file_path = \"D:/DATA_PREPROCESS/FIRESTORE_DATAS/12-08-etri-제출버전/android_VOICE_LABELING_FROM_7_TO_10/august_training_minutescript_labeling/*.json\"\n",
    "august_train_word_file_path = \"D:/DATA_PREPROCESS/FIRESTORE_DATAS/12-08-etri-제출버전/android_VOICE_LABELING_FROM_7_TO_10/august_training_wordscript_labeling/*.json\"\n",
    "august_val_min_file_path = \"D:/DATA_PREPROCESS/FIRESTORE_DATAS/12-08-etri-제출버전/android_VOICE_LABELING_FROM_7_TO_10/august_val_minutescript_labeling/*.json\"\n",
    "august_val_word_file_path = \"D:/DATA_PREPROCESS/FIRESTORE_DATAS/12-08-etri-제출버전/android_VOICE_LABELING_FROM_7_TO_10/august_val_wordscript_labeling/*.json\"\n",
    "\n",
    "august_train_min_df = spark.read.json(august_train_min_file_path)\n",
    "august_train_word_df = spark.read.json(august_train_word_file_path)\n",
    "august_val_min_df = spark.read.json(august_val_min_file_path)\n",
    "august_val_word_df = spark.read.json(august_val_word_file_path)"
   ]
  },
  {
   "cell_type": "code",
   "execution_count": 5,
   "id": "a850f9ef-a81c-4623-a6a7-8afe7da88fbd",
   "metadata": {
    "execution": {
     "iopub.execute_input": "2023-12-22T01:23:44.983083Z",
     "iopub.status.busy": "2023-12-22T01:23:44.983083Z",
     "iopub.status.idle": "2023-12-22T01:23:49.155294Z",
     "shell.execute_reply": "2023-12-22T01:23:49.155294Z",
     "shell.execute_reply.started": "2023-12-22T01:23:44.983083Z"
    }
   },
   "outputs": [],
   "source": [
    "september_train_min_file_path = \"D:/DATA_PREPROCESS/FIRESTORE_DATAS/12-08-etri-제출버전/android_VOICE_LABELING_FROM_7_TO_10/september_training_minutescript_labeling/*.json\"\n",
    "september_train_word_file_path = \"D:/DATA_PREPROCESS/FIRESTORE_DATAS/12-08-etri-제출버전/android_VOICE_LABELING_FROM_7_TO_10/september_training_wordscript_labeling/*.json\"\n",
    "september_val_min_file_path = \"D:/DATA_PREPROCESS/FIRESTORE_DATAS/12-08-etri-제출버전/android_VOICE_LABELING_FROM_7_TO_10/september_val_minutescript_labeling/*.json\"\n",
    "september_val_word_file_path = \"D:/DATA_PREPROCESS/FIRESTORE_DATAS/12-08-etri-제출버전/android_VOICE_LABELING_FROM_7_TO_10/september_val_wordscript_labeling/*.json\"\n",
    "\n",
    "september_train_min_df = spark.read.json(september_train_min_file_path)\n",
    "september_train_word_df = spark.read.json(september_train_word_file_path)\n",
    "september_val_min_df = spark.read.json(september_val_min_file_path)\n",
    "september_val_word_df = spark.read.json(september_val_word_file_path)"
   ]
  },
  {
   "cell_type": "code",
   "execution_count": 6,
   "id": "674c5c7a-3b61-4600-a38f-6e0fc3a170c6",
   "metadata": {
    "execution": {
     "iopub.execute_input": "2023-12-22T01:23:49.155294Z",
     "iopub.status.busy": "2023-12-22T01:23:49.155294Z",
     "iopub.status.idle": "2023-12-22T01:23:53.341885Z",
     "shell.execute_reply": "2023-12-22T01:23:53.341885Z",
     "shell.execute_reply.started": "2023-12-22T01:23:49.155294Z"
    }
   },
   "outputs": [],
   "source": [
    "october_train_min_file_path = \"D:/DATA_PREPROCESS/FIRESTORE_DATAS/12-08-etri-제출버전/android_VOICE_LABELING_FROM_7_TO_10/october_training_minutescript_labeling/*.json\"\n",
    "october_train_word_file_path = \"D:/DATA_PREPROCESS/FIRESTORE_DATAS/12-08-etri-제출버전/android_VOICE_LABELING_FROM_7_TO_10/october_training_wordscript_labeling/*.json\"\n",
    "october_val_min_file_path = \"D:/DATA_PREPROCESS/FIRESTORE_DATAS/12-08-etri-제출버전/android_VOICE_LABELING_FROM_7_TO_10/october_val_minutescript_labeling/*.json\"\n",
    "october_val_word_file_path = \"D:/DATA_PREPROCESS/FIRESTORE_DATAS/12-08-etri-제출버전/android_VOICE_LABELING_FROM_7_TO_10/october_val_wordscript_labeling/*.json\"\n",
    "\n",
    "october_train_min_df = spark.read.json(october_train_min_file_path)\n",
    "october_train_word_df = spark.read.json(october_train_word_file_path)\n",
    "october_val_min_df = spark.read.json(october_val_min_file_path)\n",
    "october_val_word_df = spark.read.json(october_val_word_file_path)"
   ]
  },
  {
   "cell_type": "code",
   "execution_count": 7,
   "id": "51de637b-d399-4c52-84a0-9dfe2842559c",
   "metadata": {
    "execution": {
     "iopub.execute_input": "2023-12-06T03:58:20.253397Z",
     "iopub.status.busy": "2023-12-06T03:58:20.253397Z",
     "iopub.status.idle": "2023-12-06T03:58:21.481986Z",
     "shell.execute_reply": "2023-12-06T03:58:21.481986Z",
     "shell.execute_reply.started": "2023-12-06T03:58:20.253397Z"
    }
   },
   "outputs": [],
   "source": [
    "# november_train_min_file_path = \"D:/DATA_PREPROCESS/FIRESTORE_DATAS/android_VOICE_LABELING_FROM_7_TO_10/november_training_minutescript_labeling/*.json\"\n",
    "# november_train_word_file_path = \"D:/DATA_PREPROCESS/FIRESTORE_DATAS/android_VOICE_LABELING_FROM_7_TO_10/november_training_wordscript_labeling/*.json\"\n",
    "# november_val_min_file_path = \"D:/DATA_PREPROCESS/FIRESTORE_DATAS/android_VOICE_LABELING_FROM_7_TO_10/november_val_minutescript_labeling/*.json\"\n",
    "# november_val_word_file_path = \"D:/DATA_PREPROCESS/FIRESTORE_DATAS/android_VOICE_LABELING_FROM_7_TO_10/november_val_wordscript_labeling/*.json\"\n",
    "\n",
    "# november_train_min_df = spark.read.json(november_train_min_file_path)\n",
    "# november_train_word_df = spark.read.json(november_train_word_file_path)\n",
    "# november_val_min_df = spark.read.json(november_val_min_file_path)\n",
    "# november_val_word_df = spark.read.json(november_val_word_file_path)"
   ]
  },
  {
   "cell_type": "code",
   "execution_count": 7,
   "id": "a34856a4-43ab-449b-aaab-7f3147a02768",
   "metadata": {
    "execution": {
     "iopub.execute_input": "2023-12-21T06:18:11.947448Z",
     "iopub.status.busy": "2023-12-21T06:18:11.947448Z",
     "iopub.status.idle": "2023-12-21T06:25:55.662232Z",
     "shell.execute_reply": "2023-12-21T06:25:55.662232Z",
     "shell.execute_reply.started": "2023-12-21T06:18:11.947448Z"
    }
   },
   "outputs": [],
   "source": [
    "# 저장을 용이하게 하기 위해 spark df들을 pandas df들로 변환\n",
    "\n",
    "july_train_min_pd_df = july_train_min_df.toPandas()\n",
    "july_train_word_pd_df = july_train_word_df.toPandas()\n",
    "july_val_min_pd_df = july_val_min_df.toPandas()\n",
    "july_val_word_pd_df = july_val_word_df.toPandas()\n",
    "august_train_min_pd_df = august_train_min_df.toPandas()\n",
    "august_train_word_pd_df = august_train_word_df.toPandas()\n",
    "august_val_min_pd_df = august_val_min_df.toPandas()\n",
    "august_val_word_pd_df = august_val_word_df.toPandas()\n",
    "september_train_min_pd_df = september_train_min_df.toPandas()\n",
    "september_train_word_pd_df = september_train_word_df.toPandas()\n",
    "september_val_min_pd_df = september_val_min_df.toPandas()\n",
    "september_val_word_pd_df = september_val_word_df.toPandas()\n",
    "october_train_min_pd_df = october_train_min_df.toPandas()\n",
    "october_train_word_pd_df = october_train_word_df.toPandas()\n",
    "october_val_min_pd_df = october_val_min_df.toPandas()\n",
    "october_val_word_pd_df = october_val_word_df.toPandas()"
   ]
  },
  {
   "cell_type": "markdown",
   "id": "d6a07a99-ef5f-4d41-b38b-dfcdf0437bea",
   "metadata": {},
   "source": [
    "# 음성파일 개수와 attend 개수 차이 원인 파악 \n",
    "- pyspark df 기준"
   ]
  },
  {
   "cell_type": "code",
   "execution_count": 7,
   "id": "8d58d9dd-b3cf-4f5e-ac7c-1b7bbbf1087f",
   "metadata": {
    "execution": {
     "iopub.execute_input": "2023-12-22T01:28:58.710623Z",
     "iopub.status.busy": "2023-12-22T01:28:58.710623Z",
     "iopub.status.idle": "2023-12-22T01:28:58.739700Z",
     "shell.execute_reply": "2023-12-22T01:28:58.739700Z",
     "shell.execute_reply.started": "2023-12-22T01:28:58.710623Z"
    }
   },
   "outputs": [
    {
     "name": "stdout",
     "output_type": "stream",
     "text": [
      "root\n",
      " |-- accuracy_array: array (nullable = true)\n",
      " |    |-- element: long (containsNull = true)\n",
      " |-- ad_avg_tries: double (nullable = true)\n",
      " |-- ad_duration: string (nullable = true)\n",
      " |-- ad_link: string (nullable = true)\n",
      " |-- ad_name: string (nullable = true)\n",
      " |-- ad_script: string (nullable = true)\n",
      " |-- ad_title: string (nullable = true)\n",
      " |-- average_accuracy_by_ad: double (nullable = true)\n",
      " |-- average_accuracy_by_user: double (nullable = true)\n",
      " |-- birth_year: string (nullable = true)\n",
      " |-- collection: string (nullable = true)\n",
      " |-- created_timestamp_array: array (nullable = true)\n",
      " |    |-- element: string (containsNull = true)\n",
      " |-- excepted_age_array: string (nullable = true)\n",
      " |-- first_created_date: long (nullable = true)\n",
      " |-- first_timestamp: string (nullable = true)\n",
      " |-- gender: string (nullable = true)\n",
      " |-- is_passed: string (nullable = true)\n",
      " |-- job: string (nullable = true)\n",
      " |-- language: string (nullable = true)\n",
      " |-- level: string (nullable = true)\n",
      " |-- local_code: string (nullable = true)\n",
      " |-- participant_count: double (nullable = true)\n",
      " |-- pass_rate_by_ad: double (nullable = true)\n",
      " |-- pass_rate_by_user: double (nullable = true)\n",
      " |-- perfect: double (nullable = true)\n",
      " |-- stt_text_array: array (nullable = true)\n",
      " |    |-- element: string (containsNull = true)\n",
      " |-- text_length: long (nullable = true)\n",
      " |-- try_count: long (nullable = true)\n",
      " |-- user_avg_tries: double (nullable = true)\n",
      " |-- user_id: string (nullable = true)\n",
      " |-- voice_id: string (nullable = true)\n",
      "\n"
     ]
    }
   ],
   "source": [
    "july_train_min_df.printSchema()"
   ]
  },
  {
   "cell_type": "code",
   "execution_count": 10,
   "id": "6cc9f9e3-f67e-4c69-ae43-2cf1054e7a3f",
   "metadata": {
    "execution": {
     "iopub.execute_input": "2023-12-22T01:33:22.293307Z",
     "iopub.status.busy": "2023-12-22T01:33:22.293307Z",
     "iopub.status.idle": "2023-12-22T01:33:22.565767Z",
     "shell.execute_reply": "2023-12-22T01:33:22.565767Z",
     "shell.execute_reply.started": "2023-12-22T01:33:22.293307Z"
    }
   },
   "outputs": [
    {
     "data": {
      "text/plain": [
       "151945"
      ]
     },
     "execution_count": 10,
     "metadata": {},
     "output_type": "execute_result"
    }
   ],
   "source": [
    "july_val_min_df.count()"
   ]
  },
  {
   "cell_type": "code",
   "execution_count": 11,
   "id": "d37ff6e6-44a8-4a89-9715-a9b2c2edb121",
   "metadata": {
    "execution": {
     "iopub.execute_input": "2023-12-22T01:33:47.707626Z",
     "iopub.status.busy": "2023-12-22T01:33:47.706625Z",
     "iopub.status.idle": "2023-12-22T01:33:47.999251Z",
     "shell.execute_reply": "2023-12-22T01:33:47.998849Z",
     "shell.execute_reply.started": "2023-12-22T01:33:47.707626Z"
    }
   },
   "outputs": [
    {
     "name": "stdout",
     "output_type": "stream",
     "text": [
      "80% 이하의 정확도를 가진 마지막 원소를 갖는 행의 개수: 7714\n"
     ]
    }
   ],
   "source": [
    "# accuracy_array의 마지막 원소가 80 이하인 행을 필터링\n",
    "filtered_df = july_val_min_df.filter(\n",
    "    (F.col(\"accuracy_array\")[F.size(\"accuracy_array\") - 1] <= 80)\n",
    ")\n",
    "\n",
    "# 필터링된 데이터프레임의 행 개수를 계산\n",
    "count = filtered_df.count()\n",
    "\n",
    "print(\"80% 이하의 정확도를 가진 마지막 원소를 갖는 행의 개수:\", count)"
   ]
  },
  {
   "cell_type": "code",
   "execution_count": null,
   "id": "78844240-7897-4c19-8c1d-828fb4476e5b",
   "metadata": {},
   "outputs": [],
   "source": []
  },
  {
   "cell_type": "markdown",
   "id": "dc9ef5e7-c59a-4c78-8b32-c200bb5551eb",
   "metadata": {},
   "source": [
    "# 문서작업용"
   ]
  },
  {
   "cell_type": "code",
   "execution_count": 54,
   "id": "dd9212d4-d5f7-41b6-a7fc-f0048f3b1e1d",
   "metadata": {
    "execution": {
     "iopub.execute_input": "2023-12-21T03:07:39.773126Z",
     "iopub.status.busy": "2023-12-21T03:07:39.770931Z",
     "iopub.status.idle": "2023-12-21T03:09:55.840092Z",
     "shell.execute_reply": "2023-12-21T03:09:55.834345Z",
     "shell.execute_reply.started": "2023-12-21T03:07:39.773126Z"
    }
   },
   "outputs": [],
   "source": [
    "memor_df = pd.concat([july_train_word_pd_df, july_val_word_pd_df, august_train_word_pd_df, august_val_word_pd_df, september_train_word_pd_df, september_val_word_pd_df, october_train_word_pd_df, october_val_word_pd_df], axis=0)"
   ]
  },
  {
   "cell_type": "code",
   "execution_count": 8,
   "id": "1c1a6fda-c5e8-4cd6-8fe0-e49b27525fca",
   "metadata": {
    "execution": {
     "iopub.execute_input": "2023-12-21T06:25:55.662232Z",
     "iopub.status.busy": "2023-12-21T06:25:55.662232Z",
     "iopub.status.idle": "2023-12-21T06:26:15.351687Z",
     "shell.execute_reply": "2023-12-21T06:26:15.341874Z",
     "shell.execute_reply.started": "2023-12-21T06:25:55.662232Z"
    }
   },
   "outputs": [],
   "source": [
    "point_df = pd.concat([july_train_min_pd_df, july_val_min_pd_df, august_train_min_pd_df, august_val_min_pd_df, september_train_min_pd_df, september_val_min_pd_df, october_train_min_pd_df, october_val_min_pd_df], axis=0)"
   ]
  },
  {
   "cell_type": "code",
   "execution_count": 66,
   "id": "c4955b36-6314-4c45-972f-f7e3096ab974",
   "metadata": {
    "execution": {
     "iopub.execute_input": "2023-12-21T05:43:16.314322Z",
     "iopub.status.busy": "2023-12-21T05:43:16.314322Z",
     "iopub.status.idle": "2023-12-21T05:43:21.006686Z",
     "shell.execute_reply": "2023-12-21T05:43:21.006686Z",
     "shell.execute_reply.started": "2023-12-21T05:43:16.314322Z"
    }
   },
   "outputs": [
    {
     "name": "stdout",
     "output_type": "stream",
     "text": [
      "파일이 C:/Users/admin/Desktop/Vowing 앱 관련/VOWING_DATA_Info/new_amr_음성전사데이터_단어말하기_7월부터10월.xlsx에 저장되었습니다.\n"
     ]
    }
   ],
   "source": [
    "# 원본 데이터프레임에서 ad_name 별 행의 개수를 계산\n",
    "ad_name_counts = memor_df['ad_name'].value_counts()\n",
    "# 원본 데이터프레임에 'num' 컬럼으로 ad_name 별 행의 개수 추가\n",
    "memor_df['num'] = memor_df['ad_name'].map(ad_name_counts)\n",
    "\n",
    "# 'ad_name' 컬럼을 기준으로 중복 제거\n",
    "unique_memor_df = memor_df.drop_duplicates(subset=['ad_name'])\n",
    "# 선택된 컬럼만 포함하는 최종 데이터프레임 생성 (이미 'num' 컬럼이 추가된 상태)\n",
    "selected_columns = ['ad_name', 'ad_duration', 'ad_script', 'num']\n",
    "\n",
    "\n",
    "# 선택된 컬럼만 포함하는 최종 데이터프레임 생성\n",
    "unique_memor_df = unique_memor_df[selected_columns]\n",
    "\n",
    "# 파일 저장 경로 설정\n",
    "save_path = 'C:/Users/admin/Desktop/Vowing 앱 관련/VOWING_DATA_Info/new_amr_음성전사데이터_단어말하기_7월부터10월.xlsx'\n",
    "\n",
    "# 엑셀 파일로 저장\n",
    "unique_memor_df.to_excel(save_path, index=False)\n",
    "\n",
    "# 저장 완료 메시지 출력\n",
    "print(f\"파일이 {save_path}에 저장되었습니다.\")"
   ]
  },
  {
   "cell_type": "code",
   "execution_count": 9,
   "id": "59f23cf0-95c4-431a-aa05-4f9633e2ec65",
   "metadata": {
    "execution": {
     "iopub.execute_input": "2023-12-21T06:26:21.859335Z",
     "iopub.status.busy": "2023-12-21T06:26:21.858336Z",
     "iopub.status.idle": "2023-12-21T06:26:26.326382Z",
     "shell.execute_reply": "2023-12-21T06:26:26.325785Z",
     "shell.execute_reply.started": "2023-12-21T06:26:21.859335Z"
    }
   },
   "outputs": [
    {
     "name": "stdout",
     "output_type": "stream",
     "text": [
      "파일이 C:/Users/admin/Desktop/Vowing 앱 관련/VOWING_DATA_Info/new_amr_음성전사데이터_1분말하기_7월부터10월.xlsx에 저장되었습니다.\n"
     ]
    }
   ],
   "source": [
    "# 원본 데이터프레임에서 ad_name 별 행의 개수를 계산\n",
    "ad_name_counts = point_df['ad_name'].value_counts()\n",
    "# 원본 데이터프레임에 'num' 컬럼으로 ad_name 별 행의 개수 추가\n",
    "point_df['num'] = point_df['ad_name'].map(ad_name_counts)\n",
    "\n",
    "# 'ad_name' 컬럼을 기준으로 중복 제거\n",
    "unique_point_df = point_df.drop_duplicates(subset=['ad_name'])\n",
    "# 선택된 컬럼만 포함하는 최종 데이터프레임 생성 (이미 'num' 컬럼이 추가된 상태)\n",
    "selected_columns = ['ad_name', 'ad_duration', 'ad_script', 'num']\n",
    "\n",
    "\n",
    "# 선택된 컬럼만 포함하는 최종 데이터프레임 생성\n",
    "unique_point_df = unique_point_df[selected_columns]\n",
    "\n",
    "# 파일 저장 경로 설정\n",
    "save_path = 'C:/Users/admin/Desktop/Vowing 앱 관련/VOWING_DATA_Info/new_amr_음성전사데이터_1분말하기_7월부터10월.xlsx'\n",
    "\n",
    "# 엑셀 파일로 저장\n",
    "unique_point_df.to_excel(save_path, index=False)\n",
    "\n",
    "# 저장 완료 메시지 출력\n",
    "print(f\"파일이 {save_path}에 저장되었습니다.\")"
   ]
  },
  {
   "cell_type": "code",
   "execution_count": 61,
   "id": "94c39b6d-3db5-4818-843e-806ff8b06e1d",
   "metadata": {
    "execution": {
     "iopub.execute_input": "2023-12-21T05:02:17.644901Z",
     "iopub.status.busy": "2023-12-21T05:02:17.644901Z",
     "iopub.status.idle": "2023-12-21T05:02:17.671477Z",
     "shell.execute_reply": "2023-12-21T05:02:17.671477Z",
     "shell.execute_reply.started": "2023-12-21T05:02:17.644901Z"
    },
    "scrolled": true
   },
   "outputs": [
    {
     "data": {
      "text/html": [
       "<div>\n",
       "<style scoped>\n",
       "    .dataframe tbody tr th:only-of-type {\n",
       "        vertical-align: middle;\n",
       "    }\n",
       "\n",
       "    .dataframe tbody tr th {\n",
       "        vertical-align: top;\n",
       "    }\n",
       "\n",
       "    .dataframe thead th {\n",
       "        text-align: right;\n",
       "    }\n",
       "</style>\n",
       "<table border=\"1\" class=\"dataframe\">\n",
       "  <thead>\n",
       "    <tr style=\"text-align: right;\">\n",
       "      <th></th>\n",
       "      <th>accuracy_array</th>\n",
       "      <th>ad_avg_tries</th>\n",
       "      <th>ad_duration</th>\n",
       "      <th>ad_link</th>\n",
       "      <th>ad_name</th>\n",
       "      <th>ad_script</th>\n",
       "      <th>ad_title</th>\n",
       "      <th>average_accuracy_by_ad</th>\n",
       "      <th>average_accuracy_by_user</th>\n",
       "      <th>birth_year</th>\n",
       "      <th>...</th>\n",
       "      <th>participant_count</th>\n",
       "      <th>pass_rate_by_ad</th>\n",
       "      <th>pass_rate_by_user</th>\n",
       "      <th>perfect</th>\n",
       "      <th>stt_text_array</th>\n",
       "      <th>text_length</th>\n",
       "      <th>try_count</th>\n",
       "      <th>user_avg_tries</th>\n",
       "      <th>user_id</th>\n",
       "      <th>voice_id</th>\n",
       "    </tr>\n",
       "  </thead>\n",
       "  <tbody>\n",
       "    <tr>\n",
       "      <th>0</th>\n",
       "      <td>[100]</td>\n",
       "      <td>1.086379</td>\n",
       "      <td>23.07.11 - 23.07.11</td>\n",
       "      <td>https://msearch.shopping.naver.com/product/863...</td>\n",
       "      <td>1+1 티블레스 스위트티 퍼퓸 바디로션 480ml 플로럴 향기 향 좋은 여름 대용량...</td>\n",
       "      <td>촉촉한바디</td>\n",
       "      <td>암기플러스</td>\n",
       "      <td>90.957187</td>\n",
       "      <td>94.44272</td>\n",
       "      <td>81</td>\n",
       "      <td>...</td>\n",
       "      <td>655.0</td>\n",
       "      <td>99.667774</td>\n",
       "      <td>99.79643</td>\n",
       "      <td>1986.0</td>\n",
       "      <td>[촉촉한 바디]</td>\n",
       "      <td>5</td>\n",
       "      <td>1</td>\n",
       "      <td>1.062011</td>\n",
       "      <td>01YMZJPSJAWojkigVF0EKIlHdup2</td>\n",
       "      <td>voice_0000000709</td>\n",
       "    </tr>\n",
       "    <tr>\n",
       "      <th>1</th>\n",
       "      <td>[100]</td>\n",
       "      <td>1.127397</td>\n",
       "      <td>23.07.12 - 23.07.12</td>\n",
       "      <td>https://msearch.shopping.naver.com/product/858...</td>\n",
       "      <td>1+1 티블레스 퍼플티 퍼퓸 바디워시 500g우디 향 향기 좋은 향수 올리브영 바디...</td>\n",
       "      <td>향기나는</td>\n",
       "      <td>암기플러스</td>\n",
       "      <td>88.651276</td>\n",
       "      <td>94.44272</td>\n",
       "      <td>81</td>\n",
       "      <td>...</td>\n",
       "      <td>825.0</td>\n",
       "      <td>100.000000</td>\n",
       "      <td>99.79643</td>\n",
       "      <td>1986.0</td>\n",
       "      <td>[향기나는]</td>\n",
       "      <td>4</td>\n",
       "      <td>1</td>\n",
       "      <td>1.062011</td>\n",
       "      <td>01YMZJPSJAWojkigVF0EKIlHdup2</td>\n",
       "      <td>voice_0000000732</td>\n",
       "    </tr>\n",
       "    <tr>\n",
       "      <th>2</th>\n",
       "      <td>[100]</td>\n",
       "      <td>1.135870</td>\n",
       "      <td>23.07.12 - 23.07.12</td>\n",
       "      <td>https://msearch.shopping.naver.com/product/863...</td>\n",
       "      <td>1+1 티블레스 피그피치 우롱티 퍼퓸 바디로션 480ml 푸르츠 무화과 상큼한 향기...</td>\n",
       "      <td>탁월한보습</td>\n",
       "      <td>암기플러스</td>\n",
       "      <td>87.515550</td>\n",
       "      <td>94.44272</td>\n",
       "      <td>81</td>\n",
       "      <td>...</td>\n",
       "      <td>836.0</td>\n",
       "      <td>99.728261</td>\n",
       "      <td>99.79643</td>\n",
       "      <td>1986.0</td>\n",
       "      <td>[탁월한 보습]</td>\n",
       "      <td>5</td>\n",
       "      <td>1</td>\n",
       "      <td>1.062011</td>\n",
       "      <td>01YMZJPSJAWojkigVF0EKIlHdup2</td>\n",
       "      <td>voice_0000000742</td>\n",
       "    </tr>\n",
       "    <tr>\n",
       "      <th>3</th>\n",
       "      <td>[100]</td>\n",
       "      <td>1.034409</td>\n",
       "      <td>23.07.05 - 23.07.05</td>\n",
       "      <td>https://msearch.shopping.naver.com/product/863...</td>\n",
       "      <td>1+1 티블레스 피그피치 우롱티 퍼퓸 바디워시 500ml 푸르츠 무화과 상큼한 향기...</td>\n",
       "      <td>향좋은샴푸</td>\n",
       "      <td>암기플러스</td>\n",
       "      <td>95.178794</td>\n",
       "      <td>94.44272</td>\n",
       "      <td>81</td>\n",
       "      <td>...</td>\n",
       "      <td>481.0</td>\n",
       "      <td>99.784946</td>\n",
       "      <td>99.79643</td>\n",
       "      <td>1986.0</td>\n",
       "      <td>[향좋은 샴푸]</td>\n",
       "      <td>5</td>\n",
       "      <td>1</td>\n",
       "      <td>1.062011</td>\n",
       "      <td>01YMZJPSJAWojkigVF0EKIlHdup2</td>\n",
       "      <td>voice_0000000749</td>\n",
       "    </tr>\n",
       "    <tr>\n",
       "      <th>4</th>\n",
       "      <td>[100]</td>\n",
       "      <td>1.141956</td>\n",
       "      <td>23.07.14 - 23.07.14</td>\n",
       "      <td>https://msearch.shopping.naver.com/product/858...</td>\n",
       "      <td>1+1 티블레스 화이트티 퍼퓸 바디로션 480g머스크 향 향기 좋은 대용량 향수 올...</td>\n",
       "      <td>고급진향</td>\n",
       "      <td>암기플러스</td>\n",
       "      <td>87.292818</td>\n",
       "      <td>94.44272</td>\n",
       "      <td>81</td>\n",
       "      <td>...</td>\n",
       "      <td>724.0</td>\n",
       "      <td>99.526814</td>\n",
       "      <td>99.79643</td>\n",
       "      <td>1986.0</td>\n",
       "      <td>[고급진 향]</td>\n",
       "      <td>4</td>\n",
       "      <td>1</td>\n",
       "      <td>1.062011</td>\n",
       "      <td>01YMZJPSJAWojkigVF0EKIlHdup2</td>\n",
       "      <td>voice_0000000772</td>\n",
       "    </tr>\n",
       "    <tr>\n",
       "      <th>5</th>\n",
       "      <td>[100]</td>\n",
       "      <td>1.125850</td>\n",
       "      <td>23.07.10 - 23.07.10</td>\n",
       "      <td>https://msearch.shopping.naver.com/product/862...</td>\n",
       "      <td>1003. 여름 곰팡이 화장실 곰팡이 벽지 곰팡이 쁨이랑 10943</td>\n",
       "      <td>곰팡이</td>\n",
       "      <td>암기플러스</td>\n",
       "      <td>88.670695</td>\n",
       "      <td>94.44272</td>\n",
       "      <td>81</td>\n",
       "      <td>...</td>\n",
       "      <td>664.0</td>\n",
       "      <td>99.829932</td>\n",
       "      <td>99.79643</td>\n",
       "      <td>1986.0</td>\n",
       "      <td>[곰팡이]</td>\n",
       "      <td>3</td>\n",
       "      <td>1</td>\n",
       "      <td>1.062011</td>\n",
       "      <td>01YMZJPSJAWojkigVF0EKIlHdup2</td>\n",
       "      <td>voice_0000000798</td>\n",
       "    </tr>\n",
       "    <tr>\n",
       "      <th>6</th>\n",
       "      <td>[100]</td>\n",
       "      <td>2.042662</td>\n",
       "      <td>23.07.26 - 23.07.26</td>\n",
       "      <td>https://msearch.shopping.naver.com/product/869...</td>\n",
       "      <td>1kg 원두 커피 베트남 로부스타 블루드래곤 워시드 G1 홀빈 원두콩 맛있는 고소한...</td>\n",
       "      <td>원두콩</td>\n",
       "      <td>암기플러스</td>\n",
       "      <td>46.950710</td>\n",
       "      <td>94.44272</td>\n",
       "      <td>81</td>\n",
       "      <td>...</td>\n",
       "      <td>1202.0</td>\n",
       "      <td>95.904437</td>\n",
       "      <td>99.79643</td>\n",
       "      <td>1986.0</td>\n",
       "      <td>[원두콩]</td>\n",
       "      <td>3</td>\n",
       "      <td>1</td>\n",
       "      <td>1.062011</td>\n",
       "      <td>01YMZJPSJAWojkigVF0EKIlHdup2</td>\n",
       "      <td>voice_0000000844</td>\n",
       "    </tr>\n",
       "    <tr>\n",
       "      <th>7</th>\n",
       "      <td>[100]</td>\n",
       "      <td>1.477636</td>\n",
       "      <td>23.07.24 - 23.07.24</td>\n",
       "      <td>https://msearch.shopping.naver.com/product/842...</td>\n",
       "      <td>2023년형 휴대용 미니선풍기 핸디선풍기 손선풍기 13327</td>\n",
       "      <td>저소음</td>\n",
       "      <td>암기플러스</td>\n",
       "      <td>67.135135</td>\n",
       "      <td>94.44272</td>\n",
       "      <td>81</td>\n",
       "      <td>...</td>\n",
       "      <td>925.0</td>\n",
       "      <td>99.201278</td>\n",
       "      <td>99.79643</td>\n",
       "      <td>1986.0</td>\n",
       "      <td>[저소음]</td>\n",
       "      <td>3</td>\n",
       "      <td>1</td>\n",
       "      <td>1.062011</td>\n",
       "      <td>01YMZJPSJAWojkigVF0EKIlHdup2</td>\n",
       "      <td>voice_0000000874</td>\n",
       "    </tr>\n",
       "    <tr>\n",
       "      <th>8</th>\n",
       "      <td>[0, 0, 0, 0, 0, 0, 0, 0, 0, 0, 0, 0, 0, 0, 0, ...</td>\n",
       "      <td>3.589581</td>\n",
       "      <td>23.07.12 - 23.07.12</td>\n",
       "      <td>https://msearch.shopping.naver.com/product/862...</td>\n",
       "      <td>74. 볏짚 마시멜로우 곤포 사일리지 쁨이랑 11397</td>\n",
       "      <td>정답이 아닙니다</td>\n",
       "      <td>암기플러스</td>\n",
       "      <td>25.699115</td>\n",
       "      <td>94.44272</td>\n",
       "      <td>81</td>\n",
       "      <td>...</td>\n",
       "      <td>2827.0</td>\n",
       "      <td>92.121982</td>\n",
       "      <td>99.79643</td>\n",
       "      <td>1986.0</td>\n",
       "      <td>[권 보, 군포, 건 복, 곤, 군포, 고은 봉, 권 보, 공포, 고온 포, 권 보...</td>\n",
       "      <td>2</td>\n",
       "      <td>23</td>\n",
       "      <td>1.062011</td>\n",
       "      <td>01YMZJPSJAWojkigVF0EKIlHdup2</td>\n",
       "      <td>voice_0000000997</td>\n",
       "    </tr>\n",
       "    <tr>\n",
       "      <th>9</th>\n",
       "      <td>[100]</td>\n",
       "      <td>1.090343</td>\n",
       "      <td>23.07.23 - 23.07.23</td>\n",
       "      <td>https://msearch.shopping.naver.com/product/837...</td>\n",
       "      <td>[50년청주 육거리소문난만두]수제 손 미친 왕 갈비 만두 국내산고기 사용 맛집 캠핑...</td>\n",
       "      <td>왕만두</td>\n",
       "      <td>암기플러스</td>\n",
       "      <td>91.857143</td>\n",
       "      <td>94.44272</td>\n",
       "      <td>81</td>\n",
       "      <td>...</td>\n",
       "      <td>702.0</td>\n",
       "      <td>100.000000</td>\n",
       "      <td>99.79643</td>\n",
       "      <td>1986.0</td>\n",
       "      <td>[왕만두]</td>\n",
       "      <td>3</td>\n",
       "      <td>1</td>\n",
       "      <td>1.062011</td>\n",
       "      <td>01YMZJPSJAWojkigVF0EKIlHdup2</td>\n",
       "      <td>voice_0000001162</td>\n",
       "    </tr>\n",
       "  </tbody>\n",
       "</table>\n",
       "<p>10 rows × 31 columns</p>\n",
       "</div>"
      ],
      "text/plain": [
       "                                      accuracy_array  ad_avg_tries  \\\n",
       "0                                              [100]      1.086379   \n",
       "1                                              [100]      1.127397   \n",
       "2                                              [100]      1.135870   \n",
       "3                                              [100]      1.034409   \n",
       "4                                              [100]      1.141956   \n",
       "5                                              [100]      1.125850   \n",
       "6                                              [100]      2.042662   \n",
       "7                                              [100]      1.477636   \n",
       "8  [0, 0, 0, 0, 0, 0, 0, 0, 0, 0, 0, 0, 0, 0, 0, ...      3.589581   \n",
       "9                                              [100]      1.090343   \n",
       "\n",
       "           ad_duration                                            ad_link  \\\n",
       "0  23.07.11 - 23.07.11  https://msearch.shopping.naver.com/product/863...   \n",
       "1  23.07.12 - 23.07.12  https://msearch.shopping.naver.com/product/858...   \n",
       "2  23.07.12 - 23.07.12  https://msearch.shopping.naver.com/product/863...   \n",
       "3  23.07.05 - 23.07.05  https://msearch.shopping.naver.com/product/863...   \n",
       "4  23.07.14 - 23.07.14  https://msearch.shopping.naver.com/product/858...   \n",
       "5  23.07.10 - 23.07.10  https://msearch.shopping.naver.com/product/862...   \n",
       "6  23.07.26 - 23.07.26  https://msearch.shopping.naver.com/product/869...   \n",
       "7  23.07.24 - 23.07.24  https://msearch.shopping.naver.com/product/842...   \n",
       "8  23.07.12 - 23.07.12  https://msearch.shopping.naver.com/product/862...   \n",
       "9  23.07.23 - 23.07.23  https://msearch.shopping.naver.com/product/837...   \n",
       "\n",
       "                                             ad_name ad_script ad_title  \\\n",
       "0  1+1 티블레스 스위트티 퍼퓸 바디로션 480ml 플로럴 향기 향 좋은 여름 대용량...     촉촉한바디    암기플러스   \n",
       "1  1+1 티블레스 퍼플티 퍼퓸 바디워시 500g우디 향 향기 좋은 향수 올리브영 바디...      향기나는    암기플러스   \n",
       "2  1+1 티블레스 피그피치 우롱티 퍼퓸 바디로션 480ml 푸르츠 무화과 상큼한 향기...     탁월한보습    암기플러스   \n",
       "3  1+1 티블레스 피그피치 우롱티 퍼퓸 바디워시 500ml 푸르츠 무화과 상큼한 향기...     향좋은샴푸    암기플러스   \n",
       "4  1+1 티블레스 화이트티 퍼퓸 바디로션 480g머스크 향 향기 좋은 대용량 향수 올...      고급진향    암기플러스   \n",
       "5              1003. 여름 곰팡이 화장실 곰팡이 벽지 곰팡이 쁨이랑 10943       곰팡이    암기플러스   \n",
       "6  1kg 원두 커피 베트남 로부스타 블루드래곤 워시드 G1 홀빈 원두콩 맛있는 고소한...       원두콩    암기플러스   \n",
       "7                  2023년형 휴대용 미니선풍기 핸디선풍기 손선풍기 13327       저소음    암기플러스   \n",
       "8                     74. 볏짚 마시멜로우 곤포 사일리지 쁨이랑 11397  정답이 아닙니다    암기플러스   \n",
       "9  [50년청주 육거리소문난만두]수제 손 미친 왕 갈비 만두 국내산고기 사용 맛집 캠핑...       왕만두    암기플러스   \n",
       "\n",
       "   average_accuracy_by_ad  average_accuracy_by_user birth_year  ...  \\\n",
       "0               90.957187                  94.44272         81  ...   \n",
       "1               88.651276                  94.44272         81  ...   \n",
       "2               87.515550                  94.44272         81  ...   \n",
       "3               95.178794                  94.44272         81  ...   \n",
       "4               87.292818                  94.44272         81  ...   \n",
       "5               88.670695                  94.44272         81  ...   \n",
       "6               46.950710                  94.44272         81  ...   \n",
       "7               67.135135                  94.44272         81  ...   \n",
       "8               25.699115                  94.44272         81  ...   \n",
       "9               91.857143                  94.44272         81  ...   \n",
       "\n",
       "  participant_count pass_rate_by_ad pass_rate_by_user  perfect  \\\n",
       "0             655.0       99.667774          99.79643   1986.0   \n",
       "1             825.0      100.000000          99.79643   1986.0   \n",
       "2             836.0       99.728261          99.79643   1986.0   \n",
       "3             481.0       99.784946          99.79643   1986.0   \n",
       "4             724.0       99.526814          99.79643   1986.0   \n",
       "5             664.0       99.829932          99.79643   1986.0   \n",
       "6            1202.0       95.904437          99.79643   1986.0   \n",
       "7             925.0       99.201278          99.79643   1986.0   \n",
       "8            2827.0       92.121982          99.79643   1986.0   \n",
       "9             702.0      100.000000          99.79643   1986.0   \n",
       "\n",
       "                                      stt_text_array text_length try_count  \\\n",
       "0                                           [촉촉한 바디]           5         1   \n",
       "1                                             [향기나는]           4         1   \n",
       "2                                           [탁월한 보습]           5         1   \n",
       "3                                           [향좋은 샴푸]           5         1   \n",
       "4                                            [고급진 향]           4         1   \n",
       "5                                              [곰팡이]           3         1   \n",
       "6                                              [원두콩]           3         1   \n",
       "7                                              [저소음]           3         1   \n",
       "8  [권 보, 군포, 건 복, 곤, 군포, 고은 봉, 권 보, 공포, 고온 포, 권 보...           2        23   \n",
       "9                                              [왕만두]           3         1   \n",
       "\n",
       "  user_avg_tries                       user_id          voice_id  \n",
       "0       1.062011  01YMZJPSJAWojkigVF0EKIlHdup2  voice_0000000709  \n",
       "1       1.062011  01YMZJPSJAWojkigVF0EKIlHdup2  voice_0000000732  \n",
       "2       1.062011  01YMZJPSJAWojkigVF0EKIlHdup2  voice_0000000742  \n",
       "3       1.062011  01YMZJPSJAWojkigVF0EKIlHdup2  voice_0000000749  \n",
       "4       1.062011  01YMZJPSJAWojkigVF0EKIlHdup2  voice_0000000772  \n",
       "5       1.062011  01YMZJPSJAWojkigVF0EKIlHdup2  voice_0000000798  \n",
       "6       1.062011  01YMZJPSJAWojkigVF0EKIlHdup2  voice_0000000844  \n",
       "7       1.062011  01YMZJPSJAWojkigVF0EKIlHdup2  voice_0000000874  \n",
       "8       1.062011  01YMZJPSJAWojkigVF0EKIlHdup2  voice_0000000997  \n",
       "9       1.062011  01YMZJPSJAWojkigVF0EKIlHdup2  voice_0000001162  \n",
       "\n",
       "[10 rows x 31 columns]"
      ]
     },
     "execution_count": 61,
     "metadata": {},
     "output_type": "execute_result"
    }
   ],
   "source": [
    "july_train_word_pd_df.head(10)"
   ]
  },
  {
   "cell_type": "code",
   "execution_count": 64,
   "id": "a0a07bdb-3c2c-4fc1-b37d-d156d8c9a50b",
   "metadata": {
    "execution": {
     "iopub.execute_input": "2023-12-21T05:04:27.941284Z",
     "iopub.status.busy": "2023-12-21T05:04:27.941284Z",
     "iopub.status.idle": "2023-12-21T05:04:28.039936Z",
     "shell.execute_reply": "2023-12-21T05:04:28.039677Z",
     "shell.execute_reply.started": "2023-12-21T05:04:27.941284Z"
    }
   },
   "outputs": [
    {
     "name": "stdout",
     "output_type": "stream",
     "text": [
      "Gender Ratio:\n",
      "W    0.7984\n",
      "M    0.2016\n",
      "Name: gender, dtype: float64\n",
      "\n",
      "Local Code Ratio:\n",
      "Se    0.5519\n",
      "Gy    0.2240\n",
      "Ch    0.0896\n",
      "Jd    0.0835\n",
      "Ga    0.0305\n",
      "Je    0.0122\n",
      "EE    0.0081\n",
      "Name: local_code, dtype: float64\n",
      "\n",
      "Birth Year Ratio:\n",
      "Other    0.3016\n",
      "70-80    0.2976\n",
      "60-70    0.1943\n",
      "90-00    0.1093\n",
      "50-60    0.0526\n",
      "00-10    0.0445\n",
      "Name: birth_year_group, dtype: float64\n",
      "\n"
     ]
    },
    {
     "name": "stderr",
     "output_type": "stream",
     "text": [
      "C:\\Users\\admin\\AppData\\Local\\Temp\\ipykernel_11064\\911427713.py:26: SettingWithCopyWarning: \n",
      "A value is trying to be set on a copy of a slice from a DataFrame.\n",
      "Try using .loc[row_indexer,col_indexer] = value instead\n",
      "\n",
      "See the caveats in the documentation: https://pandas.pydata.org/pandas-docs/stable/user_guide/indexing.html#returning-a-view-versus-a-copy\n",
      "  ad_data['birth_year_group'] = ad_data['birth_year'].apply(lambda x: int(x) % 100 if pd.notnull(x) and x.isdigit() else x).apply(categorize_birth_year)\n"
     ]
    }
   ],
   "source": [
    "selected_ad_name = '2023년형 휴대용 미니선풍기 핸디선풍기 손선풍기 13327'  # 실제 사용하고자 하는 ad_name으로 변경 필요\n",
    "ad_data = july_train_word_pd_df[july_train_word_pd_df['ad_name'] == selected_ad_name]\n",
    "\n",
    "# gender 비율 계산\n",
    "gender_ratio = ad_data['gender'].value_counts(normalize=True).round(4)\n",
    "\n",
    "# local_code 비율 계산\n",
    "local_code_ratio = ad_data['local_code'].value_counts(normalize=True).round(4)\n",
    "\n",
    "# birth_year 비율 계산을 위한 범위 함수 정의\n",
    "def categorize_birth_year(year):\n",
    "    if 50 <= year < 60:\n",
    "        return '50-60'\n",
    "    elif 60 <= year < 70:\n",
    "        return '60-70'\n",
    "    elif 70 <= year < 80:\n",
    "        return '70-80'\n",
    "    elif 90 <= year < 100:\n",
    "        return '90-00'\n",
    "    elif 0 <= year < 10:\n",
    "        return '00-10'\n",
    "    else:\n",
    "        return 'Other'\n",
    "\n",
    "# birth_year를 두 자리 숫자로 변환하고 범위에 따라 그룹화\n",
    "ad_data['birth_year_group'] = ad_data['birth_year'].apply(lambda x: int(x) % 100 if pd.notnull(x) and x.isdigit() else x).apply(categorize_birth_year)\n",
    "\n",
    "# birth_year 그룹 비율 계산\n",
    "birth_year_ratio = ad_data['birth_year_group'].value_counts(normalize=True).round(4)\n",
    "\n",
    "# 결과 출력\n",
    "print(f\"Gender Ratio:\\n{gender_ratio}\\n\")\n",
    "print(f\"Local Code Ratio:\\n{local_code_ratio}\\n\")\n",
    "print(f\"Birth Year Ratio:\\n{birth_year_ratio}\\n\")"
   ]
  },
  {
   "cell_type": "code",
   "execution_count": 15,
   "id": "87e7afdc-d176-4f71-a74a-1f47d21c3cce",
   "metadata": {
    "execution": {
     "iopub.execute_input": "2023-12-20T05:52:59.065192Z",
     "iopub.status.busy": "2023-12-20T05:52:59.065192Z",
     "iopub.status.idle": "2023-12-20T05:53:02.821232Z",
     "shell.execute_reply": "2023-12-20T05:53:02.821232Z",
     "shell.execute_reply.started": "2023-12-20T05:52:59.065192Z"
    }
   },
   "outputs": [
    {
     "name": "stdout",
     "output_type": "stream",
     "text": [
      "<class 'pandas.core.frame.DataFrame'>\n",
      "RangeIndex: 455486 entries, 0 to 455485\n",
      "Data columns (total 31 columns):\n",
      " #   Column                    Non-Null Count   Dtype  \n",
      "---  ------                    --------------   -----  \n",
      " 0   accuracy_array            455486 non-null  object \n",
      " 1   ad_avg_tries              455486 non-null  float64\n",
      " 2   ad_duration               455486 non-null  object \n",
      " 3   ad_link                   455486 non-null  object \n",
      " 4   ad_name                   455486 non-null  object \n",
      " 5   ad_script                 455486 non-null  object \n",
      " 6   ad_title                  455486 non-null  object \n",
      " 7   average_accuracy_by_ad    455486 non-null  float64\n",
      " 8   average_accuracy_by_user  455486 non-null  float64\n",
      " 9   birth_year                447007 non-null  object \n",
      " 10  collection                455486 non-null  object \n",
      " 11  created_timestamp_array   455486 non-null  object \n",
      " 12  excepted_age_array        455486 non-null  object \n",
      " 13  first_created_date        455486 non-null  int64  \n",
      " 14  first_timestamp           455486 non-null  object \n",
      " 15  gender                    449603 non-null  object \n",
      " 16  is_passed                 455486 non-null  object \n",
      " 17  job                       439420 non-null  object \n",
      " 18  language                  447007 non-null  object \n",
      " 19  level                     455486 non-null  object \n",
      " 20  local_code                449603 non-null  object \n",
      " 21  participant_count         449631 non-null  float64\n",
      " 22  pass_rate_by_ad           455486 non-null  float64\n",
      " 23  pass_rate_by_user         455486 non-null  float64\n",
      " 24  perfect                   444270 non-null  float64\n",
      " 25  stt_text_array            455486 non-null  object \n",
      " 26  text_length               455486 non-null  int64  \n",
      " 27  try_count                 455486 non-null  int64  \n",
      " 28  user_avg_tries            455486 non-null  float64\n",
      " 29  user_id                   455486 non-null  object \n",
      " 30  voice_id                  455486 non-null  object \n",
      "dtypes: float64(8), int64(3), object(20)\n",
      "memory usage: 107.7+ MB\n"
     ]
    }
   ],
   "source": [
    "july_train_min_pd_df.info()"
   ]
  },
  {
   "cell_type": "code",
   "execution_count": 10,
   "id": "1247b5f5-8fdb-4503-8c1f-c8f5bf66fdbf",
   "metadata": {
    "execution": {
     "iopub.execute_input": "2023-12-21T08:52:21.923440Z",
     "iopub.status.busy": "2023-12-21T08:52:21.917982Z",
     "iopub.status.idle": "2023-12-21T08:52:24.204959Z",
     "shell.execute_reply": "2023-12-21T08:52:24.203958Z",
     "shell.execute_reply.started": "2023-12-21T08:52:21.923440Z"
    }
   },
   "outputs": [
    {
     "name": "stdout",
     "output_type": "stream",
     "text": [
      "0\n"
     ]
    }
   ],
   "source": [
    "count = len(july_train_min_pd_df[july_train_min_pd_df['text_length'] <= 15])\n",
    "print(count)"
   ]
  },
  {
   "cell_type": "code",
   "execution_count": 16,
   "id": "3bde88dd-84ad-41b9-ac8f-fd5074644f32",
   "metadata": {
    "execution": {
     "iopub.execute_input": "2023-12-20T05:53:02.824231Z",
     "iopub.status.busy": "2023-12-20T05:53:02.823231Z",
     "iopub.status.idle": "2023-12-20T05:53:11.200350Z",
     "shell.execute_reply": "2023-12-20T05:53:11.200350Z",
     "shell.execute_reply.started": "2023-12-20T05:53:02.824231Z"
    }
   },
   "outputs": [
    {
     "name": "stdout",
     "output_type": "stream",
     "text": [
      "<class 'pandas.core.frame.DataFrame'>\n",
      "RangeIndex: 1403970 entries, 0 to 1403969\n",
      "Data columns (total 31 columns):\n",
      " #   Column                    Non-Null Count    Dtype  \n",
      "---  ------                    --------------    -----  \n",
      " 0   accuracy_array            1403970 non-null  object \n",
      " 1   ad_avg_tries              1403970 non-null  float64\n",
      " 2   ad_duration               1403970 non-null  object \n",
      " 3   ad_link                   1403970 non-null  object \n",
      " 4   ad_name                   1403970 non-null  object \n",
      " 5   ad_script                 1403970 non-null  object \n",
      " 6   ad_title                  1403970 non-null  object \n",
      " 7   average_accuracy_by_ad    1403970 non-null  float64\n",
      " 8   average_accuracy_by_user  1403970 non-null  float64\n",
      " 9   birth_year                1382615 non-null  object \n",
      " 10  collection                1403970 non-null  object \n",
      " 11  created_timestamp_array   1403970 non-null  object \n",
      " 12  excepted_age_array        1403970 non-null  object \n",
      " 13  first_created_date        1403970 non-null  int64  \n",
      " 14  first_timestamp           1403970 non-null  object \n",
      " 15  gender                    1395701 non-null  object \n",
      " 16  is_passed                 1403970 non-null  object \n",
      " 17  job                       1344787 non-null  object \n",
      " 18  language                  1382615 non-null  object \n",
      " 19  level                     1403970 non-null  object \n",
      " 20  local_code                1395701 non-null  object \n",
      " 21  participant_count         1403970 non-null  float64\n",
      " 22  pass_rate_by_ad           1403970 non-null  float64\n",
      " 23  pass_rate_by_user         1403970 non-null  float64\n",
      " 24  perfect                   1382174 non-null  float64\n",
      " 25  stt_text_array            1403970 non-null  object \n",
      " 26  text_length               1403970 non-null  int64  \n",
      " 27  try_count                 1403970 non-null  int64  \n",
      " 28  user_avg_tries            1403970 non-null  float64\n",
      " 29  user_id                   1403970 non-null  object \n",
      " 30  voice_id                  1403970 non-null  object \n",
      "dtypes: float64(8), int64(3), object(20)\n",
      "memory usage: 332.1+ MB\n"
     ]
    }
   ],
   "source": [
    "july_train_word_pd_df.info()"
   ]
  },
  {
   "cell_type": "code",
   "execution_count": 11,
   "id": "8b3df7ed-4b22-4626-b15a-8752b8dee4e2",
   "metadata": {
    "execution": {
     "iopub.execute_input": "2023-12-21T08:53:32.949764Z",
     "iopub.status.busy": "2023-12-21T08:53:32.949764Z",
     "iopub.status.idle": "2023-12-21T08:53:44.770268Z",
     "shell.execute_reply": "2023-12-21T08:53:44.770209Z",
     "shell.execute_reply.started": "2023-12-21T08:53:32.949764Z"
    }
   },
   "outputs": [
    {
     "name": "stdout",
     "output_type": "stream",
     "text": [
      "1402403\n"
     ]
    }
   ],
   "source": [
    "count = len(july_train_word_pd_df[july_train_word_pd_df['text_length'] <= 15])\n",
    "print(count)"
   ]
  },
  {
   "cell_type": "code",
   "execution_count": 42,
   "id": "be2a825c-ed31-4997-b2cb-0d9e07364c02",
   "metadata": {
    "execution": {
     "iopub.execute_input": "2023-12-20T22:39:32.196762Z",
     "iopub.status.busy": "2023-12-20T22:39:32.195764Z",
     "iopub.status.idle": "2023-12-20T22:39:35.875783Z",
     "shell.execute_reply": "2023-12-20T22:39:35.875736Z",
     "shell.execute_reply.started": "2023-12-20T22:39:32.196762Z"
    }
   },
   "outputs": [
    {
     "name": "stdout",
     "output_type": "stream",
     "text": [
      "고유한 ads_id의 개수: 4311\n"
     ]
    }
   ],
   "source": [
    "unique_ads = july_train_word_pd_df['ad_name'].nunique()\n",
    "print(\"고유한 ads_id의 개수:\", unique_ads)"
   ]
  },
  {
   "cell_type": "code",
   "execution_count": 17,
   "id": "45b0b5b7-1888-41e9-b253-e3682baf29d5",
   "metadata": {
    "execution": {
     "iopub.execute_input": "2023-12-20T05:53:11.201351Z",
     "iopub.status.busy": "2023-12-20T05:53:11.201351Z",
     "iopub.status.idle": "2023-12-20T05:53:12.264498Z",
     "shell.execute_reply": "2023-12-20T05:53:12.264448Z",
     "shell.execute_reply.started": "2023-12-20T05:53:11.201351Z"
    }
   },
   "outputs": [
    {
     "name": "stdout",
     "output_type": "stream",
     "text": [
      "<class 'pandas.core.frame.DataFrame'>\n",
      "RangeIndex: 151945 entries, 0 to 151944\n",
      "Data columns (total 31 columns):\n",
      " #   Column                    Non-Null Count   Dtype  \n",
      "---  ------                    --------------   -----  \n",
      " 0   accuracy_array            151945 non-null  object \n",
      " 1   ad_avg_tries              151945 non-null  float64\n",
      " 2   ad_duration               151945 non-null  object \n",
      " 3   ad_link                   151945 non-null  object \n",
      " 4   ad_name                   151945 non-null  object \n",
      " 5   ad_script                 151945 non-null  object \n",
      " 6   ad_title                  151945 non-null  object \n",
      " 7   average_accuracy_by_ad    151945 non-null  float64\n",
      " 8   average_accuracy_by_user  151945 non-null  float64\n",
      " 9   birth_year                149112 non-null  object \n",
      " 10  collection                151945 non-null  object \n",
      " 11  created_timestamp_array   151945 non-null  object \n",
      " 12  excepted_age_array        151945 non-null  object \n",
      " 13  first_created_date        151945 non-null  int64  \n",
      " 14  first_timestamp           151945 non-null  object \n",
      " 15  gender                    150003 non-null  object \n",
      " 16  is_passed                 151945 non-null  object \n",
      " 17  job                       146650 non-null  object \n",
      " 18  language                  149112 non-null  object \n",
      " 19  level                     151945 non-null  object \n",
      " 20  local_code                150003 non-null  object \n",
      " 21  participant_count         150098 non-null  float64\n",
      " 22  pass_rate_by_ad           151945 non-null  float64\n",
      " 23  pass_rate_by_user         151945 non-null  float64\n",
      " 24  perfect                   148212 non-null  float64\n",
      " 25  stt_text_array            151945 non-null  object \n",
      " 26  text_length               151945 non-null  int64  \n",
      " 27  try_count                 151945 non-null  int64  \n",
      " 28  user_avg_tries            151945 non-null  float64\n",
      " 29  user_id                   151945 non-null  object \n",
      " 30  voice_id                  151945 non-null  object \n",
      "dtypes: float64(8), int64(3), object(20)\n",
      "memory usage: 35.9+ MB\n"
     ]
    }
   ],
   "source": [
    "july_val_min_pd_df.info()"
   ]
  },
  {
   "cell_type": "code",
   "execution_count": 12,
   "id": "f389f431-8ee5-407a-9aaf-94046d552af0",
   "metadata": {
    "execution": {
     "iopub.execute_input": "2023-12-21T08:54:03.235256Z",
     "iopub.status.busy": "2023-12-21T08:54:03.235256Z",
     "iopub.status.idle": "2023-12-21T08:54:03.858145Z",
     "shell.execute_reply": "2023-12-21T08:54:03.857065Z",
     "shell.execute_reply.started": "2023-12-21T08:54:03.235256Z"
    }
   },
   "outputs": [
    {
     "name": "stdout",
     "output_type": "stream",
     "text": [
      "0\n"
     ]
    }
   ],
   "source": [
    "count = len(july_val_min_pd_df[july_val_min_pd_df['text_length'] <= 15])\n",
    "print(count)"
   ]
  },
  {
   "cell_type": "code",
   "execution_count": 18,
   "id": "1cdef5cb-73d5-49d8-97d9-a65c03086302",
   "metadata": {
    "execution": {
     "iopub.execute_input": "2023-12-20T05:53:12.266497Z",
     "iopub.status.busy": "2023-12-20T05:53:12.266497Z",
     "iopub.status.idle": "2023-12-20T05:53:14.636689Z",
     "shell.execute_reply": "2023-12-20T05:53:14.636689Z",
     "shell.execute_reply.started": "2023-12-20T05:53:12.266497Z"
    }
   },
   "outputs": [
    {
     "name": "stdout",
     "output_type": "stream",
     "text": [
      "<class 'pandas.core.frame.DataFrame'>\n",
      "RangeIndex: 468081 entries, 0 to 468080\n",
      "Data columns (total 31 columns):\n",
      " #   Column                    Non-Null Count   Dtype  \n",
      "---  ------                    --------------   -----  \n",
      " 0   accuracy_array            468081 non-null  object \n",
      " 1   ad_avg_tries              468081 non-null  float64\n",
      " 2   ad_duration               468081 non-null  object \n",
      " 3   ad_link                   468081 non-null  object \n",
      " 4   ad_name                   468081 non-null  object \n",
      " 5   ad_script                 468081 non-null  object \n",
      " 6   ad_title                  468081 non-null  object \n",
      " 7   average_accuracy_by_ad    468081 non-null  float64\n",
      " 8   average_accuracy_by_user  468081 non-null  float64\n",
      " 9   birth_year                460829 non-null  object \n",
      " 10  collection                468081 non-null  object \n",
      " 11  created_timestamp_array   468081 non-null  object \n",
      " 12  excepted_age_array        468081 non-null  object \n",
      " 13  first_created_date        468081 non-null  int64  \n",
      " 14  first_timestamp           468081 non-null  object \n",
      " 15  gender                    465299 non-null  object \n",
      " 16  is_passed                 468081 non-null  object \n",
      " 17  job                       448282 non-null  object \n",
      " 18  language                  460829 non-null  object \n",
      " 19  level                     468081 non-null  object \n",
      " 20  local_code                465299 non-null  object \n",
      " 21  participant_count         468081 non-null  float64\n",
      " 22  pass_rate_by_ad           468081 non-null  float64\n",
      " 23  pass_rate_by_user         468081 non-null  float64\n",
      " 24  perfect                   460667 non-null  float64\n",
      " 25  stt_text_array            468081 non-null  object \n",
      " 26  text_length               468081 non-null  int64  \n",
      " 27  try_count                 468081 non-null  int64  \n",
      " 28  user_avg_tries            468081 non-null  float64\n",
      " 29  user_id                   468081 non-null  object \n",
      " 30  voice_id                  468081 non-null  object \n",
      "dtypes: float64(8), int64(3), object(20)\n",
      "memory usage: 110.7+ MB\n"
     ]
    }
   ],
   "source": [
    "july_val_word_pd_df.info()"
   ]
  },
  {
   "cell_type": "code",
   "execution_count": null,
   "id": "27723adc-8660-4833-80cb-e2ce5c200d49",
   "metadata": {},
   "outputs": [],
   "source": []
  },
  {
   "cell_type": "code",
   "execution_count": 39,
   "id": "c9739e89-3139-4e8c-91c5-49906e754c2d",
   "metadata": {
    "execution": {
     "iopub.execute_input": "2023-12-20T07:23:01.638374Z",
     "iopub.status.busy": "2023-12-20T07:23:01.638374Z",
     "iopub.status.idle": "2023-12-20T07:23:04.474575Z",
     "shell.execute_reply": "2023-12-20T07:23:04.474575Z",
     "shell.execute_reply.started": "2023-12-20T07:23:01.638374Z"
    }
   },
   "outputs": [
    {
     "name": "stdout",
     "output_type": "stream",
     "text": [
      "<class 'pandas.core.frame.DataFrame'>\n",
      "RangeIndex: 471221 entries, 0 to 471220\n",
      "Data columns (total 31 columns):\n",
      " #   Column                    Non-Null Count   Dtype  \n",
      "---  ------                    --------------   -----  \n",
      " 0   accuracy_array            471221 non-null  object \n",
      " 1   ad_avg_tries              471221 non-null  float64\n",
      " 2   ad_duration               471221 non-null  object \n",
      " 3   ad_link                   471221 non-null  object \n",
      " 4   ad_name                   471221 non-null  object \n",
      " 5   ad_script                 471221 non-null  object \n",
      " 6   ad_title                  471221 non-null  object \n",
      " 7   average_accuracy_by_ad    471221 non-null  float64\n",
      " 8   average_accuracy_by_user  471221 non-null  float64\n",
      " 9   birth_year                463668 non-null  object \n",
      " 10  collection                471221 non-null  object \n",
      " 11  created_timestamp_array   471221 non-null  object \n",
      " 12  excepted_age_array        471221 non-null  object \n",
      " 13  first_created_date        471221 non-null  int64  \n",
      " 14  first_timestamp           471221 non-null  object \n",
      " 15  gender                    466631 non-null  object \n",
      " 16  is_passed                 471221 non-null  object \n",
      " 17  job                       275990 non-null  object \n",
      " 18  language                  463668 non-null  object \n",
      " 19  level                     471221 non-null  object \n",
      " 20  local_code                466631 non-null  object \n",
      " 21  participant_count         471221 non-null  int64  \n",
      " 22  pass_rate_by_ad           471221 non-null  float64\n",
      " 23  pass_rate_by_user         471221 non-null  float64\n",
      " 24  perfect                   460677 non-null  float64\n",
      " 25  stt_text_array            471221 non-null  object \n",
      " 26  text_length               471221 non-null  int64  \n",
      " 27  try_count                 471221 non-null  int64  \n",
      " 28  user_avg_tries            471221 non-null  float64\n",
      " 29  user_id                   471221 non-null  object \n",
      " 30  voice_id                  471221 non-null  object \n",
      "dtypes: float64(7), int64(4), object(20)\n",
      "memory usage: 111.4+ MB\n"
     ]
    }
   ],
   "source": [
    "august_train_min_pd_df.info()"
   ]
  },
  {
   "cell_type": "code",
   "execution_count": 40,
   "id": "055a2e83-587a-45e2-8faf-f88ad42e4692",
   "metadata": {
    "execution": {
     "iopub.execute_input": "2023-12-20T07:23:05.822424Z",
     "iopub.status.busy": "2023-12-20T07:23:05.822424Z",
     "iopub.status.idle": "2023-12-20T07:23:05.837271Z",
     "shell.execute_reply": "2023-12-20T07:23:05.837271Z",
     "shell.execute_reply.started": "2023-12-20T07:23:05.822424Z"
    }
   },
   "outputs": [
    {
     "name": "stdout",
     "output_type": "stream",
     "text": [
      "<class 'pandas.core.frame.DataFrame'>\n",
      "RangeIndex: 1814321 entries, 0 to 1814320\n",
      "Data columns (total 31 columns):\n",
      " #   Column                    Dtype  \n",
      "---  ------                    -----  \n",
      " 0   accuracy_array            object \n",
      " 1   ad_avg_tries              float64\n",
      " 2   ad_duration               object \n",
      " 3   ad_link                   object \n",
      " 4   ad_name                   object \n",
      " 5   ad_script                 object \n",
      " 6   ad_title                  object \n",
      " 7   average_accuracy_by_ad    float64\n",
      " 8   average_accuracy_by_user  float64\n",
      " 9   birth_year                object \n",
      " 10  collection                object \n",
      " 11  created_timestamp_array   object \n",
      " 12  excepted_age_array        object \n",
      " 13  first_created_date        int64  \n",
      " 14  first_timestamp           object \n",
      " 15  gender                    object \n",
      " 16  is_passed                 object \n",
      " 17  job                       object \n",
      " 18  language                  object \n",
      " 19  level                     object \n",
      " 20  local_code                object \n",
      " 21  participant_count         int64  \n",
      " 22  pass_rate_by_ad           float64\n",
      " 23  pass_rate_by_user         float64\n",
      " 24  perfect                   float64\n",
      " 25  stt_text_array            object \n",
      " 26  text_length               int64  \n",
      " 27  try_count                 int64  \n",
      " 28  user_avg_tries            float64\n",
      " 29  user_id                   object \n",
      " 30  voice_id                  object \n",
      "dtypes: float64(7), int64(4), object(20)\n",
      "memory usage: 429.1+ MB\n"
     ]
    }
   ],
   "source": [
    "august_train_word_pd_df.info()"
   ]
  },
  {
   "cell_type": "code",
   "execution_count": 43,
   "id": "ae257952-7e30-459d-86a7-8f7b00823271",
   "metadata": {
    "execution": {
     "iopub.execute_input": "2023-12-20T22:40:04.424040Z",
     "iopub.status.busy": "2023-12-20T22:40:04.424040Z",
     "iopub.status.idle": "2023-12-20T22:40:09.119971Z",
     "shell.execute_reply": "2023-12-20T22:40:09.119107Z",
     "shell.execute_reply.started": "2023-12-20T22:40:04.424040Z"
    }
   },
   "outputs": [
    {
     "name": "stdout",
     "output_type": "stream",
     "text": [
      "고유한 ads_id의 개수: 4406\n"
     ]
    }
   ],
   "source": [
    "unique_ads = august_train_word_pd_df['ad_name'].nunique()\n",
    "print(\"고유한 ads_id의 개수:\", unique_ads)"
   ]
  },
  {
   "cell_type": "code",
   "execution_count": 21,
   "id": "ed4fb055-9eac-426b-baa6-210f27c8dbda",
   "metadata": {
    "execution": {
     "iopub.execute_input": "2023-12-20T05:53:17.904950Z",
     "iopub.status.busy": "2023-12-20T05:53:17.903950Z",
     "iopub.status.idle": "2023-12-20T05:53:20.226328Z",
     "shell.execute_reply": "2023-12-20T05:53:20.225906Z",
     "shell.execute_reply.started": "2023-12-20T05:53:17.904950Z"
    }
   },
   "outputs": [
    {
     "name": "stdout",
     "output_type": "stream",
     "text": [
      "<class 'pandas.core.frame.DataFrame'>\n",
      "RangeIndex: 156699 entries, 0 to 156698\n",
      "Data columns (total 31 columns):\n",
      " #   Column                    Non-Null Count   Dtype  \n",
      "---  ------                    --------------   -----  \n",
      " 0   accuracy_array            156699 non-null  object \n",
      " 1   ad_avg_tries              156699 non-null  float64\n",
      " 2   ad_duration               156699 non-null  object \n",
      " 3   ad_link                   156699 non-null  object \n",
      " 4   ad_name                   156699 non-null  object \n",
      " 5   ad_script                 156699 non-null  object \n",
      " 6   ad_title                  156699 non-null  object \n",
      " 7   average_accuracy_by_ad    156699 non-null  float64\n",
      " 8   average_accuracy_by_user  156699 non-null  float64\n",
      " 9   birth_year                154245 non-null  object \n",
      " 10  collection                156699 non-null  object \n",
      " 11  created_timestamp_array   156699 non-null  object \n",
      " 12  excepted_age_array        156699 non-null  object \n",
      " 13  first_created_date        156699 non-null  int64  \n",
      " 14  first_timestamp           156699 non-null  object \n",
      " 15  gender                    155228 non-null  object \n",
      " 16  is_passed                 156699 non-null  object \n",
      " 17  job                       92276 non-null   object \n",
      " 18  language                  154245 non-null  object \n",
      " 19  level                     156699 non-null  object \n",
      " 20  local_code                155228 non-null  object \n",
      " 21  participant_count         156699 non-null  int64  \n",
      " 22  pass_rate_by_ad           156699 non-null  float64\n",
      " 23  pass_rate_by_user         156699 non-null  float64\n",
      " 24  perfect                   153306 non-null  float64\n",
      " 25  stt_text_array            156699 non-null  object \n",
      " 26  text_length               156699 non-null  int64  \n",
      " 27  try_count                 156699 non-null  int64  \n",
      " 28  user_avg_tries            156699 non-null  float64\n",
      " 29  user_id                   156699 non-null  object \n",
      " 30  voice_id                  156699 non-null  object \n",
      "dtypes: float64(7), int64(4), object(20)\n",
      "memory usage: 37.1+ MB\n"
     ]
    }
   ],
   "source": [
    "august_val_min_pd_df.info()"
   ]
  },
  {
   "cell_type": "code",
   "execution_count": 22,
   "id": "b97c1808-68b4-4da2-981a-3b0aec2da978",
   "metadata": {
    "execution": {
     "iopub.execute_input": "2023-12-20T05:53:20.226328Z",
     "iopub.status.busy": "2023-12-20T05:53:20.226328Z",
     "iopub.status.idle": "2023-12-20T05:53:23.684535Z",
     "shell.execute_reply": "2023-12-20T05:53:23.684490Z",
     "shell.execute_reply.started": "2023-12-20T05:53:20.226328Z"
    }
   },
   "outputs": [
    {
     "name": "stdout",
     "output_type": "stream",
     "text": [
      "<class 'pandas.core.frame.DataFrame'>\n",
      "RangeIndex: 604722 entries, 0 to 604721\n",
      "Data columns (total 31 columns):\n",
      " #   Column                    Non-Null Count   Dtype  \n",
      "---  ------                    --------------   -----  \n",
      " 0   accuracy_array            604722 non-null  object \n",
      " 1   ad_avg_tries              604722 non-null  float64\n",
      " 2   ad_duration               604722 non-null  object \n",
      " 3   ad_link                   604722 non-null  object \n",
      " 4   ad_name                   604722 non-null  object \n",
      " 5   ad_script                 604722 non-null  object \n",
      " 6   ad_title                  604722 non-null  object \n",
      " 7   average_accuracy_by_ad    604722 non-null  float64\n",
      " 8   average_accuracy_by_user  604722 non-null  float64\n",
      " 9   birth_year                598838 non-null  object \n",
      " 10  collection                604722 non-null  object \n",
      " 11  created_timestamp_array   604722 non-null  object \n",
      " 12  excepted_age_array        604722 non-null  object \n",
      " 13  first_created_date        604722 non-null  int64  \n",
      " 14  first_timestamp           604722 non-null  object \n",
      " 15  gender                    603084 non-null  object \n",
      " 16  is_passed                 604722 non-null  object \n",
      " 17  job                       511646 non-null  object \n",
      " 18  language                  598838 non-null  object \n",
      " 19  level                     604722 non-null  object \n",
      " 20  local_code                603084 non-null  object \n",
      " 21  participant_count         604722 non-null  int64  \n",
      " 22  pass_rate_by_ad           604722 non-null  float64\n",
      " 23  pass_rate_by_user         604722 non-null  float64\n",
      " 24  perfect                   598544 non-null  float64\n",
      " 25  stt_text_array            604722 non-null  object \n",
      " 26  text_length               604722 non-null  int64  \n",
      " 27  try_count                 604722 non-null  int64  \n",
      " 28  user_avg_tries            604722 non-null  float64\n",
      " 29  user_id                   604722 non-null  object \n",
      " 30  voice_id                  604722 non-null  object \n",
      "dtypes: float64(7), int64(4), object(20)\n",
      "memory usage: 143.0+ MB\n"
     ]
    }
   ],
   "source": [
    "august_val_word_pd_df.info()"
   ]
  },
  {
   "cell_type": "code",
   "execution_count": null,
   "id": "2e065fcd-72c5-436e-ac7b-490a6cb13eda",
   "metadata": {},
   "outputs": [],
   "source": []
  },
  {
   "cell_type": "code",
   "execution_count": 23,
   "id": "7dcec83c-4983-420e-81f6-f287668caec2",
   "metadata": {
    "execution": {
     "iopub.execute_input": "2023-12-20T05:53:23.686534Z",
     "iopub.status.busy": "2023-12-20T05:53:23.685535Z",
     "iopub.status.idle": "2023-12-20T05:53:25.244670Z",
     "shell.execute_reply": "2023-12-20T05:53:25.244605Z",
     "shell.execute_reply.started": "2023-12-20T05:53:23.686534Z"
    }
   },
   "outputs": [
    {
     "name": "stdout",
     "output_type": "stream",
     "text": [
      "<class 'pandas.core.frame.DataFrame'>\n",
      "RangeIndex: 185742 entries, 0 to 185741\n",
      "Data columns (total 31 columns):\n",
      " #   Column                    Non-Null Count   Dtype  \n",
      "---  ------                    --------------   -----  \n",
      " 0   accuracy_array            185742 non-null  object \n",
      " 1   ad_avg_tries              185742 non-null  float64\n",
      " 2   ad_duration               185742 non-null  object \n",
      " 3   ad_link                   185742 non-null  object \n",
      " 4   ad_name                   185742 non-null  object \n",
      " 5   ad_script                 185742 non-null  object \n",
      " 6   ad_title                  185742 non-null  object \n",
      " 7   average_accuracy_by_ad    185742 non-null  float64\n",
      " 8   average_accuracy_by_user  185742 non-null  float64\n",
      " 9   birth_year                183436 non-null  object \n",
      " 10  collection                185742 non-null  object \n",
      " 11  created_timestamp_array   185742 non-null  object \n",
      " 12  excepted_age_array        185742 non-null  object \n",
      " 13  first_created_date        185742 non-null  int64  \n",
      " 14  first_timestamp           185742 non-null  object \n",
      " 15  gender                    184656 non-null  object \n",
      " 16  is_passed                 185742 non-null  object \n",
      " 17  job                       81652 non-null   object \n",
      " 18  language                  183436 non-null  object \n",
      " 19  level                     185742 non-null  object \n",
      " 20  local_code                184656 non-null  object \n",
      " 21  participant_count         173202 non-null  float64\n",
      " 22  pass_rate_by_ad           185742 non-null  float64\n",
      " 23  pass_rate_by_user         185742 non-null  float64\n",
      " 24  perfect                   182526 non-null  float64\n",
      " 25  stt_text_array            185742 non-null  object \n",
      " 26  text_length               185742 non-null  int64  \n",
      " 27  try_count                 185742 non-null  int64  \n",
      " 28  user_avg_tries            185742 non-null  float64\n",
      " 29  user_id                   185742 non-null  object \n",
      " 30  voice_id                  185742 non-null  object \n",
      "dtypes: float64(8), int64(3), object(20)\n",
      "memory usage: 43.9+ MB\n"
     ]
    }
   ],
   "source": [
    "september_train_min_pd_df.info()"
   ]
  },
  {
   "cell_type": "code",
   "execution_count": 24,
   "id": "faeabc9f-bbe5-4682-8ca3-9b9c7087a827",
   "metadata": {
    "execution": {
     "iopub.execute_input": "2023-12-20T05:53:25.248789Z",
     "iopub.status.busy": "2023-12-20T05:53:25.247586Z",
     "iopub.status.idle": "2023-12-20T05:53:25.268552Z",
     "shell.execute_reply": "2023-12-20T05:53:25.268552Z",
     "shell.execute_reply.started": "2023-12-20T05:53:25.248789Z"
    }
   },
   "outputs": [
    {
     "name": "stdout",
     "output_type": "stream",
     "text": [
      "<class 'pandas.core.frame.DataFrame'>\n",
      "RangeIndex: 2232447 entries, 0 to 2232446\n",
      "Data columns (total 31 columns):\n",
      " #   Column                    Dtype  \n",
      "---  ------                    -----  \n",
      " 0   accuracy_array            object \n",
      " 1   ad_avg_tries              float64\n",
      " 2   ad_duration               object \n",
      " 3   ad_link                   object \n",
      " 4   ad_name                   object \n",
      " 5   ad_script                 object \n",
      " 6   ad_title                  object \n",
      " 7   average_accuracy_by_ad    float64\n",
      " 8   average_accuracy_by_user  float64\n",
      " 9   birth_year                object \n",
      " 10  collection                object \n",
      " 11  created_timestamp_array   object \n",
      " 12  excepted_age_array        object \n",
      " 13  first_created_date        int64  \n",
      " 14  first_timestamp           object \n",
      " 15  gender                    object \n",
      " 16  is_passed                 object \n",
      " 17  job                       object \n",
      " 18  language                  object \n",
      " 19  level                     object \n",
      " 20  local_code                object \n",
      " 21  participant_count         float64\n",
      " 22  pass_rate_by_ad           float64\n",
      " 23  pass_rate_by_user         float64\n",
      " 24  perfect                   float64\n",
      " 25  stt_text_array            object \n",
      " 26  text_length               int64  \n",
      " 27  try_count                 int64  \n",
      " 28  user_avg_tries            float64\n",
      " 29  user_id                   object \n",
      " 30  voice_id                  object \n",
      "dtypes: float64(8), int64(3), object(20)\n",
      "memory usage: 528.0+ MB\n"
     ]
    }
   ],
   "source": [
    "september_train_word_pd_df.info()"
   ]
  },
  {
   "cell_type": "code",
   "execution_count": 44,
   "id": "293cbd4e-6160-4ef0-bd36-cf4521602566",
   "metadata": {
    "execution": {
     "iopub.execute_input": "2023-12-20T22:40:28.781532Z",
     "iopub.status.busy": "2023-12-20T22:40:28.781532Z",
     "iopub.status.idle": "2023-12-20T22:40:30.970323Z",
     "shell.execute_reply": "2023-12-20T22:40:30.970323Z",
     "shell.execute_reply.started": "2023-12-20T22:40:28.781532Z"
    }
   },
   "outputs": [
    {
     "name": "stdout",
     "output_type": "stream",
     "text": [
      "고유한 ads_id의 개수: 3771\n"
     ]
    }
   ],
   "source": [
    "unique_ads = september_train_word_pd_df['ad_name'].nunique()\n",
    "print(\"고유한 ads_id의 개수:\", unique_ads)"
   ]
  },
  {
   "cell_type": "code",
   "execution_count": 25,
   "id": "5eab3104-6d2d-493f-8345-15515e8a9011",
   "metadata": {
    "execution": {
     "iopub.execute_input": "2023-12-20T05:53:25.268552Z",
     "iopub.status.busy": "2023-12-20T05:53:25.268552Z",
     "iopub.status.idle": "2023-12-20T05:53:26.399117Z",
     "shell.execute_reply": "2023-12-20T05:53:26.398118Z",
     "shell.execute_reply.started": "2023-12-20T05:53:25.268552Z"
    }
   },
   "outputs": [
    {
     "name": "stdout",
     "output_type": "stream",
     "text": [
      "<class 'pandas.core.frame.DataFrame'>\n",
      "RangeIndex: 61906 entries, 0 to 61905\n",
      "Data columns (total 31 columns):\n",
      " #   Column                    Non-Null Count  Dtype  \n",
      "---  ------                    --------------  -----  \n",
      " 0   accuracy_array            61906 non-null  object \n",
      " 1   ad_avg_tries              61906 non-null  float64\n",
      " 2   ad_duration               61906 non-null  object \n",
      " 3   ad_link                   61906 non-null  object \n",
      " 4   ad_name                   61906 non-null  object \n",
      " 5   ad_script                 61906 non-null  object \n",
      " 6   ad_title                  61906 non-null  object \n",
      " 7   average_accuracy_by_ad    61906 non-null  float64\n",
      " 8   average_accuracy_by_user  61906 non-null  float64\n",
      " 9   birth_year                61107 non-null  object \n",
      " 10  collection                61906 non-null  object \n",
      " 11  created_timestamp_array   61906 non-null  object \n",
      " 12  excepted_age_array        61906 non-null  object \n",
      " 13  first_created_date        61906 non-null  int64  \n",
      " 14  first_timestamp           61906 non-null  object \n",
      " 15  gender                    61534 non-null  object \n",
      " 16  is_passed                 61906 non-null  object \n",
      " 17  job                       27274 non-null  object \n",
      " 18  language                  61107 non-null  object \n",
      " 19  level                     61906 non-null  object \n",
      " 20  local_code                61534 non-null  object \n",
      " 21  participant_count         57738 non-null  float64\n",
      " 22  pass_rate_by_ad           61906 non-null  float64\n",
      " 23  pass_rate_by_user         61906 non-null  float64\n",
      " 24  perfect                   60822 non-null  float64\n",
      " 25  stt_text_array            61906 non-null  object \n",
      " 26  text_length               61906 non-null  int64  \n",
      " 27  try_count                 61906 non-null  int64  \n",
      " 28  user_avg_tries            61906 non-null  float64\n",
      " 29  user_id                   61906 non-null  object \n",
      " 30  voice_id                  61906 non-null  object \n",
      "dtypes: float64(8), int64(3), object(20)\n",
      "memory usage: 14.6+ MB\n"
     ]
    }
   ],
   "source": [
    "september_val_min_pd_df.info()"
   ]
  },
  {
   "cell_type": "code",
   "execution_count": 26,
   "id": "5c9a06be-d7cb-4849-bb1c-1356c4242de8",
   "metadata": {
    "execution": {
     "iopub.execute_input": "2023-12-20T05:53:26.400119Z",
     "iopub.status.busy": "2023-12-20T05:53:26.400119Z",
     "iopub.status.idle": "2023-12-20T05:53:40.873282Z",
     "shell.execute_reply": "2023-12-20T05:53:40.872283Z",
     "shell.execute_reply.started": "2023-12-20T05:53:26.400119Z"
    }
   },
   "outputs": [
    {
     "name": "stdout",
     "output_type": "stream",
     "text": [
      "<class 'pandas.core.frame.DataFrame'>\n",
      "RangeIndex: 744174 entries, 0 to 744173\n",
      "Data columns (total 31 columns):\n",
      " #   Column                    Non-Null Count   Dtype  \n",
      "---  ------                    --------------   -----  \n",
      " 0   accuracy_array            744174 non-null  object \n",
      " 1   ad_avg_tries              744174 non-null  float64\n",
      " 2   ad_duration               744174 non-null  object \n",
      " 3   ad_link                   744174 non-null  object \n",
      " 4   ad_name                   744174 non-null  object \n",
      " 5   ad_script                 744174 non-null  object \n",
      " 6   ad_title                  744174 non-null  object \n",
      " 7   average_accuracy_by_ad    744174 non-null  float64\n",
      " 8   average_accuracy_by_user  744174 non-null  float64\n",
      " 9   birth_year                739144 non-null  object \n",
      " 10  collection                744174 non-null  object \n",
      " 11  created_timestamp_array   744174 non-null  object \n",
      " 12  excepted_age_array        744174 non-null  object \n",
      " 13  first_created_date        744174 non-null  int64  \n",
      " 14  first_timestamp           744174 non-null  object \n",
      " 15  gender                    743890 non-null  object \n",
      " 16  is_passed                 744174 non-null  object \n",
      " 17  job                       474433 non-null  object \n",
      " 18  language                  739144 non-null  object \n",
      " 19  level                     744174 non-null  object \n",
      " 20  local_code                743890 non-null  object \n",
      " 21  participant_count         744174 non-null  float64\n",
      " 22  pass_rate_by_ad           744174 non-null  float64\n",
      " 23  pass_rate_by_user         744174 non-null  float64\n",
      " 24  perfect                   739063 non-null  float64\n",
      " 25  stt_text_array            744174 non-null  object \n",
      " 26  text_length               744174 non-null  int64  \n",
      " 27  try_count                 744174 non-null  int64  \n",
      " 28  user_avg_tries            744174 non-null  float64\n",
      " 29  user_id                   744174 non-null  object \n",
      " 30  voice_id                  744174 non-null  object \n",
      "dtypes: float64(8), int64(3), object(20)\n",
      "memory usage: 176.0+ MB\n"
     ]
    }
   ],
   "source": [
    "september_val_word_pd_df.info()"
   ]
  },
  {
   "cell_type": "code",
   "execution_count": null,
   "id": "9e6fefae-a889-46e8-bf5f-d5c091d7f06c",
   "metadata": {},
   "outputs": [],
   "source": []
  },
  {
   "cell_type": "code",
   "execution_count": 27,
   "id": "856f4bde-d4d0-4079-80d3-0b4fddb7bbc5",
   "metadata": {
    "execution": {
     "iopub.execute_input": "2023-12-20T05:53:40.876056Z",
     "iopub.status.busy": "2023-12-20T05:53:40.875058Z",
     "iopub.status.idle": "2023-12-20T05:53:45.301589Z",
     "shell.execute_reply": "2023-12-20T05:53:45.299332Z",
     "shell.execute_reply.started": "2023-12-20T05:53:40.876056Z"
    }
   },
   "outputs": [
    {
     "name": "stdout",
     "output_type": "stream",
     "text": [
      "<class 'pandas.core.frame.DataFrame'>\n",
      "RangeIndex: 182537 entries, 0 to 182536\n",
      "Data columns (total 31 columns):\n",
      " #   Column                    Non-Null Count   Dtype  \n",
      "---  ------                    --------------   -----  \n",
      " 0   accuracy_array            182537 non-null  object \n",
      " 1   ad_avg_tries              182537 non-null  float64\n",
      " 2   ad_duration               182537 non-null  object \n",
      " 3   ad_link                   182537 non-null  object \n",
      " 4   ad_name                   182537 non-null  object \n",
      " 5   ad_script                 182537 non-null  object \n",
      " 6   ad_title                  182537 non-null  object \n",
      " 7   average_accuracy_by_ad    182537 non-null  float64\n",
      " 8   average_accuracy_by_user  182537 non-null  float64\n",
      " 9   birth_year                180000 non-null  object \n",
      " 10  collection                182537 non-null  object \n",
      " 11  created_timestamp_array   182537 non-null  object \n",
      " 12  excepted_age_array        182537 non-null  object \n",
      " 13  first_created_date        182537 non-null  int64  \n",
      " 14  first_timestamp           182537 non-null  object \n",
      " 15  gender                    180345 non-null  object \n",
      " 16  is_passed                 182537 non-null  object \n",
      " 17  job                       62336 non-null   object \n",
      " 18  language                  180000 non-null  object \n",
      " 19  level                     182537 non-null  object \n",
      " 20  local_code                180345 non-null  object \n",
      " 21  participant_count         167571 non-null  float64\n",
      " 22  pass_rate_by_ad           182537 non-null  float64\n",
      " 23  pass_rate_by_user         182537 non-null  float64\n",
      " 24  perfect                   178902 non-null  float64\n",
      " 25  stt_text_array            182537 non-null  object \n",
      " 26  text_length               182537 non-null  int64  \n",
      " 27  try_count                 182537 non-null  int64  \n",
      " 28  user_avg_tries            182537 non-null  float64\n",
      " 29  user_id                   182537 non-null  object \n",
      " 30  voice_id                  182537 non-null  object \n",
      "dtypes: float64(8), int64(3), object(20)\n",
      "memory usage: 43.2+ MB\n"
     ]
    }
   ],
   "source": [
    "october_train_min_pd_df.info()"
   ]
  },
  {
   "cell_type": "code",
   "execution_count": 38,
   "id": "a9b12ff5-60ed-4500-a408-d402223ee1a3",
   "metadata": {
    "execution": {
     "iopub.execute_input": "2023-12-20T07:07:10.556735Z",
     "iopub.status.busy": "2023-12-20T07:07:10.555734Z",
     "iopub.status.idle": "2023-12-20T07:07:10.592938Z",
     "shell.execute_reply": "2023-12-20T07:07:10.592266Z",
     "shell.execute_reply.started": "2023-12-20T07:07:10.555734Z"
    }
   },
   "outputs": [
    {
     "name": "stdout",
     "output_type": "stream",
     "text": [
      "<class 'pandas.core.frame.DataFrame'>\n",
      "RangeIndex: 2221608 entries, 0 to 2221607\n",
      "Data columns (total 31 columns):\n",
      " #   Column                    Dtype  \n",
      "---  ------                    -----  \n",
      " 0   accuracy_array            object \n",
      " 1   ad_avg_tries              float64\n",
      " 2   ad_duration               object \n",
      " 3   ad_link                   object \n",
      " 4   ad_name                   object \n",
      " 5   ad_script                 object \n",
      " 6   ad_title                  object \n",
      " 7   average_accuracy_by_ad    float64\n",
      " 8   average_accuracy_by_user  float64\n",
      " 9   birth_year                object \n",
      " 10  collection                object \n",
      " 11  created_timestamp_array   object \n",
      " 12  excepted_age_array        object \n",
      " 13  first_created_date        int64  \n",
      " 14  first_timestamp           object \n",
      " 15  gender                    object \n",
      " 16  is_passed                 object \n",
      " 17  job                       object \n",
      " 18  language                  object \n",
      " 19  level                     object \n",
      " 20  local_code                object \n",
      " 21  participant_count         float64\n",
      " 22  pass_rate_by_ad           float64\n",
      " 23  pass_rate_by_user         float64\n",
      " 24  perfect                   float64\n",
      " 25  stt_text_array            object \n",
      " 26  text_length               int64  \n",
      " 27  try_count                 int64  \n",
      " 28  user_avg_tries            float64\n",
      " 29  user_id                   object \n",
      " 30  voice_id                  object \n",
      "dtypes: float64(8), int64(3), object(20)\n",
      "memory usage: 525.4+ MB\n"
     ]
    }
   ],
   "source": [
    "october_train_word_pd_df.info()"
   ]
  },
  {
   "cell_type": "code",
   "execution_count": 45,
   "id": "edff6c2e-405a-400e-9a5e-d59397aba593",
   "metadata": {
    "execution": {
     "iopub.execute_input": "2023-12-20T22:40:52.919358Z",
     "iopub.status.busy": "2023-12-20T22:40:52.919358Z",
     "iopub.status.idle": "2023-12-20T22:40:55.116144Z",
     "shell.execute_reply": "2023-12-20T22:40:55.116144Z",
     "shell.execute_reply.started": "2023-12-20T22:40:52.919358Z"
    }
   },
   "outputs": [
    {
     "name": "stdout",
     "output_type": "stream",
     "text": [
      "고유한 ads_id의 개수: 4466\n"
     ]
    }
   ],
   "source": [
    "unique_ads = october_train_word_pd_df['ad_name'].nunique()\n",
    "print(\"고유한 ads_id의 개수:\", unique_ads)"
   ]
  },
  {
   "cell_type": "code",
   "execution_count": 29,
   "id": "a97e4c8b-d0c9-4f20-b4ba-a8e48efc01c4",
   "metadata": {
    "execution": {
     "iopub.execute_input": "2023-12-20T05:53:45.326993Z",
     "iopub.status.busy": "2023-12-20T05:53:45.326993Z",
     "iopub.status.idle": "2023-12-20T05:53:50.535730Z",
     "shell.execute_reply": "2023-12-20T05:53:50.535730Z",
     "shell.execute_reply.started": "2023-12-20T05:53:45.326993Z"
    }
   },
   "outputs": [
    {
     "name": "stdout",
     "output_type": "stream",
     "text": [
      "<class 'pandas.core.frame.DataFrame'>\n",
      "RangeIndex: 60577 entries, 0 to 60576\n",
      "Data columns (total 31 columns):\n",
      " #   Column                    Non-Null Count  Dtype  \n",
      "---  ------                    --------------  -----  \n",
      " 0   accuracy_array            60577 non-null  object \n",
      " 1   ad_avg_tries              60577 non-null  float64\n",
      " 2   ad_duration               60577 non-null  object \n",
      " 3   ad_link                   60577 non-null  object \n",
      " 4   ad_name                   60577 non-null  object \n",
      " 5   ad_script                 60577 non-null  object \n",
      " 6   ad_title                  60577 non-null  object \n",
      " 7   average_accuracy_by_ad    60577 non-null  float64\n",
      " 8   average_accuracy_by_user  60577 non-null  float64\n",
      " 9   birth_year                59696 non-null  object \n",
      " 10  collection                60577 non-null  object \n",
      " 11  created_timestamp_array   60577 non-null  object \n",
      " 12  excepted_age_array        60577 non-null  object \n",
      " 13  first_created_date        60577 non-null  int64  \n",
      " 14  first_timestamp           60577 non-null  object \n",
      " 15  gender                    59823 non-null  object \n",
      " 16  is_passed                 60577 non-null  object \n",
      " 17  job                       20638 non-null  object \n",
      " 18  language                  59696 non-null  object \n",
      " 19  level                     60577 non-null  object \n",
      " 20  local_code                59823 non-null  object \n",
      " 21  participant_count         55513 non-null  float64\n",
      " 22  pass_rate_by_ad           60577 non-null  float64\n",
      " 23  pass_rate_by_user         60577 non-null  float64\n",
      " 24  perfect                   59326 non-null  float64\n",
      " 25  stt_text_array            60577 non-null  object \n",
      " 26  text_length               60577 non-null  int64  \n",
      " 27  try_count                 60577 non-null  int64  \n",
      " 28  user_avg_tries            60577 non-null  float64\n",
      " 29  user_id                   60577 non-null  object \n",
      " 30  voice_id                  60577 non-null  object \n",
      "dtypes: float64(8), int64(3), object(20)\n",
      "memory usage: 14.3+ MB\n"
     ]
    }
   ],
   "source": [
    "october_val_min_pd_df.info()"
   ]
  },
  {
   "cell_type": "code",
   "execution_count": 30,
   "id": "1ea1c5b1-2464-4c5b-bd22-201da37c4a11",
   "metadata": {
    "execution": {
     "iopub.execute_input": "2023-12-20T05:53:50.537729Z",
     "iopub.status.busy": "2023-12-20T05:53:50.536729Z",
     "iopub.status.idle": "2023-12-20T05:54:00.887965Z",
     "shell.execute_reply": "2023-12-20T05:54:00.886208Z",
     "shell.execute_reply.started": "2023-12-20T05:53:50.537729Z"
    }
   },
   "outputs": [
    {
     "name": "stdout",
     "output_type": "stream",
     "text": [
      "<class 'pandas.core.frame.DataFrame'>\n",
      "RangeIndex: 740532 entries, 0 to 740531\n",
      "Data columns (total 31 columns):\n",
      " #   Column                    Non-Null Count   Dtype  \n",
      "---  ------                    --------------   -----  \n",
      " 0   accuracy_array            740532 non-null  object \n",
      " 1   ad_avg_tries              740532 non-null  float64\n",
      " 2   ad_duration               740532 non-null  object \n",
      " 3   ad_link                   740532 non-null  object \n",
      " 4   ad_name                   740532 non-null  object \n",
      " 5   ad_script                 740532 non-null  object \n",
      " 6   ad_title                  740532 non-null  object \n",
      " 7   average_accuracy_by_ad    740532 non-null  float64\n",
      " 8   average_accuracy_by_user  740532 non-null  float64\n",
      " 9   birth_year                737073 non-null  object \n",
      " 10  collection                740532 non-null  object \n",
      " 11  created_timestamp_array   740532 non-null  object \n",
      " 12  excepted_age_array        740532 non-null  object \n",
      " 13  first_created_date        740532 non-null  int64  \n",
      " 14  first_timestamp           740532 non-null  object \n",
      " 15  gender                    740049 non-null  object \n",
      " 16  is_passed                 740532 non-null  object \n",
      " 17  job                       386429 non-null  object \n",
      " 18  language                  737073 non-null  object \n",
      " 19  level                     740532 non-null  object \n",
      " 20  local_code                740049 non-null  object \n",
      " 21  participant_count         740532 non-null  float64\n",
      " 22  pass_rate_by_ad           740532 non-null  float64\n",
      " 23  pass_rate_by_user         740532 non-null  float64\n",
      " 24  perfect                   736952 non-null  float64\n",
      " 25  stt_text_array            740532 non-null  object \n",
      " 26  text_length               740532 non-null  int64  \n",
      " 27  try_count                 740532 non-null  int64  \n",
      " 28  user_avg_tries            740532 non-null  float64\n",
      " 29  user_id                   740532 non-null  object \n",
      " 30  voice_id                  740532 non-null  object \n",
      "dtypes: float64(8), int64(3), object(20)\n",
      "memory usage: 175.1+ MB\n"
     ]
    }
   ],
   "source": [
    "october_val_word_pd_df.info()"
   ]
  },
  {
   "cell_type": "code",
   "execution_count": null,
   "id": "de94c200-3b4f-404c-9bdf-a0fca16f2e3f",
   "metadata": {},
   "outputs": [],
   "source": []
  },
  {
   "cell_type": "code",
   "execution_count": null,
   "id": "5ed61b8f-07dc-411c-a681-d6d3f8ad4dfd",
   "metadata": {},
   "outputs": [],
   "source": []
  },
  {
   "cell_type": "markdown",
   "id": "4f548227-f220-4745-82ae-dba6e7a5293a",
   "metadata": {
    "jp-MarkdownHeadingCollapsed": true
   },
   "source": [
    "## 월별 음성의 개수가 5개 이하인 유저의 퍼센트 파악 -> 삭제"
   ]
  },
  {
   "cell_type": "code",
   "execution_count": 10,
   "id": "57eaf29c-0f30-4efd-bf36-969977ca66b5",
   "metadata": {
    "execution": {
     "iopub.execute_input": "2023-12-14T06:57:31.342211Z",
     "iopub.status.busy": "2023-12-14T06:57:31.342211Z",
     "iopub.status.idle": "2023-12-14T06:57:31.357086Z",
     "shell.execute_reply": "2023-12-14T06:57:31.357086Z",
     "shell.execute_reply.started": "2023-12-14T06:57:31.342211Z"
    }
   },
   "outputs": [
    {
     "name": "stdout",
     "output_type": "stream",
     "text": [
      "root\n",
      " |-- accuracy_array: array (nullable = true)\n",
      " |    |-- element: long (containsNull = true)\n",
      " |-- ad_avg_tries: double (nullable = true)\n",
      " |-- ad_duration: string (nullable = true)\n",
      " |-- ad_link: string (nullable = true)\n",
      " |-- ad_name: string (nullable = true)\n",
      " |-- ad_script: string (nullable = true)\n",
      " |-- ad_title: string (nullable = true)\n",
      " |-- average_accuracy_by_ad: double (nullable = true)\n",
      " |-- average_accuracy_by_user: double (nullable = true)\n",
      " |-- birth_year: string (nullable = true)\n",
      " |-- collection: string (nullable = true)\n",
      " |-- created_timestamp_array: array (nullable = true)\n",
      " |    |-- element: string (containsNull = true)\n",
      " |-- excepted_age_array: string (nullable = true)\n",
      " |-- first_created_date: long (nullable = true)\n",
      " |-- first_timestamp: string (nullable = true)\n",
      " |-- gender: string (nullable = true)\n",
      " |-- is_passed: string (nullable = true)\n",
      " |-- job: string (nullable = true)\n",
      " |-- language: string (nullable = true)\n",
      " |-- level: string (nullable = true)\n",
      " |-- local_code: string (nullable = true)\n",
      " |-- participant_count: double (nullable = true)\n",
      " |-- pass_rate_by_ad: double (nullable = true)\n",
      " |-- pass_rate_by_user: double (nullable = true)\n",
      " |-- perfect: double (nullable = true)\n",
      " |-- stt_text_array: array (nullable = true)\n",
      " |    |-- element: string (containsNull = true)\n",
      " |-- text_length: long (nullable = true)\n",
      " |-- try_count: long (nullable = true)\n",
      " |-- user_avg_tries: double (nullable = true)\n",
      " |-- user_id: string (nullable = true)\n",
      " |-- voice_id: string (nullable = true)\n",
      "\n"
     ]
    }
   ],
   "source": [
    "july_train_min_df.printSchema()"
   ]
  },
  {
   "cell_type": "code",
   "execution_count": 11,
   "id": "de6686f9-a934-460b-b881-ee6f41a897a7",
   "metadata": {
    "execution": {
     "iopub.execute_input": "2023-12-14T06:58:05.534731Z",
     "iopub.status.busy": "2023-12-14T06:58:05.534731Z",
     "iopub.status.idle": "2023-12-14T06:59:13.747901Z",
     "shell.execute_reply": "2023-12-14T06:59:13.747901Z",
     "shell.execute_reply.started": "2023-12-14T06:58:05.534731Z"
    }
   },
   "outputs": [
    {
     "name": "stdout",
     "output_type": "stream",
     "text": [
      "5개 이하인 행의 개수: 927, 전체 대비 비율: 0.20%\n",
      "5개 이하인 행의 개수: 1727, 전체 대비 비율: 0.12%\n",
      "5개 이하인 행의 개수: 2136, 전체 대비 비율: 1.41%\n",
      "5개 이하인 행의 개수: 1310, 전체 대비 비율: 0.28%\n",
      "5개 이하인 행의 개수: 1066, 전체 대비 비율: 0.23%\n",
      "5개 이하인 행의 개수: 2043, 전체 대비 비율: 0.11%\n",
      "5개 이하인 행의 개수: 2423, 전체 대비 비율: 1.55%\n",
      "5개 이하인 행의 개수: 1944, 전체 대비 비율: 0.32%\n",
      "5개 이하인 행의 개수: 2364, 전체 대비 비율: 1.27%\n",
      "5개 이하인 행의 개수: 1666, 전체 대비 비율: 0.07%\n",
      "5개 이하인 행의 개수: 3866, 전체 대비 비율: 6.24%\n",
      "5개 이하인 행의 개수: 1275, 전체 대비 비율: 0.17%\n",
      "5개 이하인 행의 개수: 2220, 전체 대비 비율: 1.22%\n",
      "5개 이하인 행의 개수: 1715, 전체 대비 비율: 0.08%\n",
      "5개 이하인 행의 개수: 4462, 전체 대비 비율: 7.37%\n",
      "5개 이하인 행의 개수: 1354, 전체 대비 비율: 0.18%\n"
     ]
    }
   ],
   "source": [
    "# DataFrame 리스트\n",
    "dfs = [\n",
    "    july_train_min_df, july_train_word_df, july_val_min_df, july_val_word_df,\n",
    "    august_train_min_df, august_train_word_df, august_val_min_df, august_val_word_df,\n",
    "    september_train_min_df, september_train_word_df, september_val_min_df, september_val_word_df,\n",
    "    october_train_min_df, october_train_word_df, october_val_min_df, october_val_word_df\n",
    "]\n",
    "\n",
    "# 각 DataFrame에 대해 반복\n",
    "for df in dfs:\n",
    "    # 유저별 음성 파일 개수 계산\n",
    "    count_df = df.groupBy(\"user_id\").agg(count(\"ad_name\").alias(\"audio_count\"))\n",
    "\n",
    "    # 5개 이하인 행 필터링\n",
    "    less_than_five = count_df.filter(col(\"audio_count\") <= 5)\n",
    "\n",
    "    # 필터링된 행의 개수\n",
    "    count_less_than_five = less_than_five.count()\n",
    "\n",
    "    # 전체 행 개수\n",
    "    total_count = df.count()\n",
    "\n",
    "    # 비율 계산\n",
    "    percentage = (count_less_than_five / total_count) * 100\n",
    "\n",
    "    # 결과 출력\n",
    "    print(f\"5개 이하인 행의 개수: {count_less_than_five}, 전체 대비 비율: {percentage:.2f}%\")"
   ]
  },
  {
   "cell_type": "code",
   "execution_count": 13,
   "id": "9b29373b-ff82-44a6-a222-c8533db98e40",
   "metadata": {
    "execution": {
     "iopub.execute_input": "2023-12-14T07:57:15.020062Z",
     "iopub.status.busy": "2023-12-14T07:57:15.020062Z",
     "iopub.status.idle": "2023-12-14T07:57:15.407323Z",
     "shell.execute_reply": "2023-12-14T07:57:15.407315Z",
     "shell.execute_reply.started": "2023-12-14T07:57:15.020062Z"
    }
   },
   "outputs": [],
   "source": [
    "# 각 DataFrame에 대해 반복하며 5개 이하인 음성 파일을 가진 유저들의 행을 삭제\n",
    "for df in dfs:\n",
    "    # 유저별 음성 파일 개수 계산\n",
    "    count_df = df.groupBy(\"user_id\").agg(F.count(\"ad_name\").alias(\"audio_count\"))\n",
    "\n",
    "    # 5개 이하인 유저 ID 필터링\n",
    "    users_less_than_five = count_df.filter(F.col(\"audio_count\") <= 5).select(\"user_id\")\n",
    "\n",
    "    # 해당 유저들의 행을 삭제\n",
    "    df = df.join(users_less_than_five, \"user_id\", \"left_anti\")"
   ]
  },
  {
   "cell_type": "markdown",
   "id": "2b2052f6-860c-4b8a-8579-614efd46592c",
   "metadata": {
    "jp-MarkdownHeadingCollapsed": true
   },
   "source": [
    "## 월별 음성의 개수가 5개 이하인 광고의 퍼센트 파악 -> 삭제"
   ]
  },
  {
   "cell_type": "code",
   "execution_count": 14,
   "id": "1c7f8755-5b9c-4ce6-94ba-de5e5e5f8c45",
   "metadata": {
    "execution": {
     "iopub.execute_input": "2023-12-19T01:16:01.431312Z",
     "iopub.status.busy": "2023-12-19T01:16:01.431312Z",
     "iopub.status.idle": "2023-12-19T01:16:01.439792Z",
     "shell.execute_reply": "2023-12-19T01:16:01.439435Z",
     "shell.execute_reply.started": "2023-12-19T01:16:01.431312Z"
    }
   },
   "outputs": [],
   "source": [
    "# DataFrame 리스트\n",
    "dfs = [\n",
    "    july_train_word_pd_df, july_val_word_pd_df,\n",
    "    august_train_word_pd_df, august_val_word_pd_df,\n",
    "    september_train_word_pd_df, september_val_word_pd_df,\n",
    "    october_train_word_pd_df, october_val_word_pd_df\n",
    "]\n",
    "\n",
    "# # 각 spark DataFrame에 대해 반복\n",
    "# for df in dfs:\n",
    "#     # 광고별 음성 파일 개수 계산\n",
    "#     count_df = df.groupBy(\"ad_name\").agg(count(\"user_id\").alias(\"audio_count\"))\n",
    "\n",
    "#     # 5개 이하인 행 필터링\n",
    "#     less_than_five = count_df.filter(col(\"audio_count\") <= 5)\n",
    "\n",
    "#     # 필터링된 행의 개수\n",
    "#     count_less_than_five = less_than_five.count()\n",
    "\n",
    "#     # 전체 행 개수\n",
    "#     total_count = df.count()\n",
    "\n",
    "#     # 비율 계산\n",
    "#     percentage = (count_less_than_five / total_count) * 100\n",
    "\n",
    "#     # 결과 출력\n",
    "#     print(f\"5개 이하인 행의 개수: {count_less_than_five}, 전체 대비 비율: {percentage:.2f}%\")"
   ]
  },
  {
   "cell_type": "code",
   "execution_count": 13,
   "id": "d6d290b9-5760-436c-8dbe-e933fcc9d12d",
   "metadata": {
    "execution": {
     "iopub.execute_input": "2023-12-19T01:15:47.330677Z",
     "iopub.status.busy": "2023-12-19T01:15:47.329677Z",
     "iopub.status.idle": "2023-12-19T01:16:01.428840Z",
     "shell.execute_reply": "2023-12-19T01:16:01.427840Z",
     "shell.execute_reply.started": "2023-12-19T01:15:47.330677Z"
    }
   },
   "outputs": [
    {
     "data": {
      "text/plain": [
       "accuracy_array              1403970\n",
       "ad_avg_tries                1403970\n",
       "ad_duration                 1403970\n",
       "ad_link                     1403970\n",
       "ad_name                     1403970\n",
       "ad_script                   1403970\n",
       "ad_title                    1403970\n",
       "average_accuracy_by_ad      1403970\n",
       "average_accuracy_by_user    1403970\n",
       "birth_year                  1382615\n",
       "collection                  1403970\n",
       "created_timestamp_array     1403970\n",
       "excepted_age_array          1403970\n",
       "first_created_date          1403970\n",
       "first_timestamp             1403970\n",
       "gender                      1395701\n",
       "is_passed                   1403970\n",
       "job                         1344787\n",
       "language                    1382615\n",
       "level                       1403970\n",
       "local_code                  1395701\n",
       "participant_count           1403970\n",
       "pass_rate_by_ad             1403970\n",
       "pass_rate_by_user           1403970\n",
       "perfect                     1382174\n",
       "stt_text_array              1403970\n",
       "text_length                 1403970\n",
       "try_count                   1403970\n",
       "user_avg_tries              1403970\n",
       "user_id                     1403970\n",
       "voice_id                    1403970\n",
       "dtype: int64"
      ]
     },
     "execution_count": 13,
     "metadata": {},
     "output_type": "execute_result"
    }
   ],
   "source": [
    "july_train_word_pd_df.count()"
   ]
  },
  {
   "cell_type": "code",
   "execution_count": 15,
   "id": "29cb4497-51a5-4fbb-b26c-4e9b612dfd77",
   "metadata": {
    "execution": {
     "iopub.execute_input": "2023-12-19T01:16:49.128449Z",
     "iopub.status.busy": "2023-12-19T01:16:49.128449Z",
     "iopub.status.idle": "2023-12-19T01:19:09.821366Z",
     "shell.execute_reply": "2023-12-19T01:19:09.787501Z",
     "shell.execute_reply.started": "2023-12-19T01:16:49.128449Z"
    }
   },
   "outputs": [],
   "source": [
    "# # spark df 버전\n",
    "# for i in range(len(dfs)):\n",
    "#     # 광고별 음성 파일 개수 계산 \n",
    "#     count_df = dfs[i].groupBy(\"ad_name\").agg(F.count(\"user_id\").alias(\"audio_count\"))\n",
    "\n",
    "#     # 5개 이하인 광고 ID 필터링\n",
    "#     users_less_than_five = count_df.filter(F.col(\"audio_count\") <= 5).select(\"ad_name\")\n",
    "\n",
    "#     # 해당 광고들의 행을 삭제\n",
    "#     dfs[i] = dfs[i].join(users_less_than_five, \"ad_name\", \"left_anti\")\n",
    "\n",
    "\n",
    "# pandas df 버전\n",
    "for i in range(len(dfs)):\n",
    "    # 광고별 음성 파일 개수 계산\n",
    "    count_df = dfs[i].groupby(\"ad_name\").agg(audio_count=('user_id', 'count'))\n",
    "\n",
    "    # 5개 이하인 광고명 필터링\n",
    "    users_less_than_five = count_df[count_df[\"audio_count\"] <= 5].index\n",
    "\n",
    "    # 해당 광고들의 행을 삭제\n",
    "    dfs[i] = dfs[i][~dfs[i][\"ad_name\"].isin(users_less_than_five)]"
   ]
  },
  {
   "cell_type": "code",
   "execution_count": 16,
   "id": "3e56dc1b-6644-47d8-896b-e2a224ac353d",
   "metadata": {
    "execution": {
     "iopub.execute_input": "2023-12-19T01:19:09.866356Z",
     "iopub.status.busy": "2023-12-19T01:19:09.864356Z",
     "iopub.status.idle": "2023-12-19T01:19:29.953770Z",
     "shell.execute_reply": "2023-12-19T01:19:29.953770Z",
     "shell.execute_reply.started": "2023-12-19T01:19:09.866356Z"
    }
   },
   "outputs": [
    {
     "data": {
      "text/plain": [
       "accuracy_array              1403970\n",
       "ad_avg_tries                1403970\n",
       "ad_duration                 1403970\n",
       "ad_link                     1403970\n",
       "ad_name                     1403970\n",
       "ad_script                   1403970\n",
       "ad_title                    1403970\n",
       "average_accuracy_by_ad      1403970\n",
       "average_accuracy_by_user    1403970\n",
       "birth_year                  1382615\n",
       "collection                  1403970\n",
       "created_timestamp_array     1403970\n",
       "excepted_age_array          1403970\n",
       "first_created_date          1403970\n",
       "first_timestamp             1403970\n",
       "gender                      1395701\n",
       "is_passed                   1403970\n",
       "job                         1344787\n",
       "language                    1382615\n",
       "level                       1403970\n",
       "local_code                  1395701\n",
       "participant_count           1403970\n",
       "pass_rate_by_ad             1403970\n",
       "pass_rate_by_user           1403970\n",
       "perfect                     1382174\n",
       "stt_text_array              1403970\n",
       "text_length                 1403970\n",
       "try_count                   1403970\n",
       "user_avg_tries              1403970\n",
       "user_id                     1403970\n",
       "voice_id                    1403970\n",
       "dtype: int64"
      ]
     },
     "execution_count": 16,
     "metadata": {},
     "output_type": "execute_result"
    }
   ],
   "source": [
    "july_train_word_pd_df.count()"
   ]
  },
  {
   "cell_type": "markdown",
   "id": "639e8888-89ff-4ab1-906d-1104c78ab5d7",
   "metadata": {
    "jp-MarkdownHeadingCollapsed": true
   },
   "source": [
    "## 광고별 JSON 파일로 저장"
   ]
  },
  {
   "cell_type": "code",
   "execution_count": 17,
   "id": "5e7f9eeb-f648-43ac-a0dc-123af8ddbeac",
   "metadata": {
    "execution": {
     "iopub.execute_input": "2023-12-19T01:20:45.940489Z",
     "iopub.status.busy": "2023-12-19T01:20:45.939489Z",
     "iopub.status.idle": "2023-12-19T01:21:15.374437Z",
     "shell.execute_reply": "2023-12-19T01:21:15.374437Z",
     "shell.execute_reply.started": "2023-12-19T01:20:45.940489Z"
    }
   },
   "outputs": [],
   "source": [
    "# pandas df 기준\n",
    "\n",
    "# 경로 설정을 위한 매핑\n",
    "path_mapping = {\n",
    "    \n",
    "    'july_train_word_pd_df': r'D:\\DATA_PREPROCESS\\INTEGRATED_DATASETS\\new_WORD_SCRIPT\\JULY\\Training\\AMR\\라벨링데이터',\n",
    "    # # 'july_val_min_pd_df': r'D:\\DATA_PREPROCESS\\INTEGRATED_DATASETS\\MINUTE_SCRIPT\\JULY\\Validation\\AMR\\라벨링데이터',\n",
    "    # 'july_val_word_pd_df': r'D:\\DATA_PREPROCESS\\INTEGRATED_DATASETS\\new_WORD_SCRIPT\\JULY\\Validation\\AMR\\라벨링데이터',\n",
    "    # # 'august_train_min_pd_df': r'D:\\DATA_PREPROCESS\\INTEGRATED_DATASETS\\MINUTE_SCRIPT\\AUGUST\\Training\\AMR\\라벨링데이터',\n",
    "    # 'august_train_word_pd_df': r'D:\\DATA_PREPROCESS\\INTEGRATED_DATASETS\\new_WORD_SCRIPT\\AUGUST\\Training\\AMR\\라벨링데이터',\n",
    "    # # 'august_val_min_pd_df': r'D:\\DATA_PREPROCESS\\INTEGRATED_DATASETS\\MINUTE_SCRIPT\\AUGUST\\Validation\\AMR\\라벨링데이터',\n",
    "    # 'august_val_word_pd_df': r'D:\\DATA_PREPROCESS\\INTEGRATED_DATASETS\\new_WORD_SCRIPT\\AUGUST\\Validation\\AMR\\라벨링데이터',\n",
    "    # # 'september_train_min_pd_df': r'D:\\DATA_PREPROCESS\\INTEGRATED_DATASETS\\MINUTE_SCRIPT\\SEPTEMBER\\Training\\AMR\\라벨링데이터',\n",
    "    # 'september_train_word_pd_df': r'D:\\DATA_PREPROCESS\\INTEGRATED_DATASETS\\new_WORD_SCRIPT\\SEPTEMBER\\Training\\AMR\\라벨링데이터',\n",
    "    # # 'september_val_min_pd_df': r'D:\\DATA_PREPROCESS\\INTEGRATED_DATASETS\\MINUTE_SCRIPT\\SEPTEMBER\\Validation\\AMR\\라벨링데이터',\n",
    "    # 'september_val_word_pd_df': r'D:\\DATA_PREPROCESS\\INTEGRATED_DATASETS\\new_WORD_SCRIPT\\SEPTEMBER\\Validation\\AMR\\라벨링데이터',\n",
    "    # # 'october_train_min_pd_df': r'D:\\DATA_PREPROCESS\\INTEGRATED_DATASETS\\MINUTE_SCRIPT\\OCTOBER\\Training\\AMR\\라벨링데이터',\n",
    "    # 'october_train_word_pd_df': r'D:\\DATA_PREPROCESS\\INTEGRATED_DATASETS\\new_WORD_SCRIPT\\OCTOBER\\Training\\AMR\\라벨링데이터',\n",
    "    # # 'october_val_min_pd_df': r'D:\\DATA_PREPROCESS\\INTEGRATED_DATASETS\\MINUTE_SCRIPT\\OCTOBER\\Validation\\AMR\\라벨링데이터',\n",
    "    # 'october_val_word_pd_df': r'D:\\DATA_PREPROCESS\\INTEGRATED_DATASETS\\new_WORD_SCRIPT\\OCTOBER\\Validation\\AMR\\라벨링데이터'\n",
    "}\n",
    "\n",
    "# DataFrame 이름과 객체를 튜플로 매핑\n",
    "df_tuples = [\n",
    "    # ('july_train_min_pd_df', july_train_min_pd_df),\n",
    "    ('july_train_word_pd_df', july_train_word_pd_df),\n",
    "    # # ('july_val_min_pd_df', july_val_min_pd_df),\n",
    "    # ('july_val_word_pd_df', july_val_word_pd_df),\n",
    "    # # ('august_train_min_pd_df', august_train_min_pd_df),\n",
    "    # ('august_train_word_pd_df', august_train_word_pd_df),\n",
    "    # # ('august_val_min_pd_df', august_val_min_pd_df),\n",
    "    # ('august_val_word_pd_df', august_val_word_pd_df),\n",
    "    # # ('september_train_min_pd_df', september_train_min_pd_df),\n",
    "    # ('september_train_word_pd_df', september_train_word_pd_df),\n",
    "    # # ('september_val_min_pd_df', september_val_min_pd_df),\n",
    "    # ('september_val_word_pd_df', september_val_word_pd_df),\n",
    "    # # ('october_train_min_pd_df', october_train_min_pd_df),\n",
    "    # ('october_train_word_pd_df', october_train_word_pd_df),\n",
    "    # # ('october_val_min_pd_df', october_val_min_pd_df),\n",
    "    # ('october_val_word_pd_df', october_val_word_pd_df)\n",
    "]\n",
    "\n",
    "# 각 DataFrame에 대해 반복하며 유저별로 JSON 파일로 저장\n",
    "for df_name, df in df_tuples:\n",
    "    # 해당 DataFrame의 경로 가져오기\n",
    "    base_path = path_mapping[df_name]\n",
    "\n",
    "    # 광고별로 그룹화\n",
    "    grouped = df.groupby('ad_name')\n",
    "\n",
    "    # 각 광고에 대해 반복\n",
    "    for ad_name, group in grouped:\n",
    "        # 저장할 파일 경로 설정\n",
    "        file_path = os.path.join(base_path, f'{ad_name}.json')\n",
    "\n",
    "        # 데이터를 JSON 형태로 변환하여 파일에 저장\n",
    "        group.to_json(file_path, orient='records', force_ascii=False)"
   ]
  },
  {
   "cell_type": "code",
   "execution_count": 18,
   "id": "05dc6a64-91fd-467a-8cf0-c326c9f47c02",
   "metadata": {
    "execution": {
     "iopub.execute_input": "2023-12-19T01:27:02.464329Z",
     "iopub.status.busy": "2023-12-19T01:27:02.464329Z",
     "iopub.status.idle": "2023-12-19T01:27:02.511253Z",
     "shell.execute_reply": "2023-12-19T01:27:02.511253Z",
     "shell.execute_reply.started": "2023-12-19T01:27:02.464329Z"
    },
    "scrolled": true
   },
   "outputs": [
    {
     "name": "stdout",
     "output_type": "stream",
     "text": [
      "원천데이터 디렉토리에만 존재하는 항목:\n",
      "플랭크 세계 기록\n",
      "행복해지는 방법\n",
      "청년, 신혼부부 매입 임대 주택 입주 모집\n",
      "옷의 주인이 준비한 직업\n",
      "지역축제 먹거리 가격 사전 공개 정책\n",
      "당신의 핸드메이드 취향, 핸드아티코리아에서 찾자!\n",
      "여름철 불청객 살모넬라 식중독\n",
      "성격과 기질의 차이\n",
      "책상 위의 비극\n",
      "스웨그에이지, 외쳐 조선!\n",
      "커피에 설탕 대신 이것을 추가하자\n",
      "버스도 예약하고 타세요!\n",
      "보윙 챌린지 스크립트 공모전!!\n",
      "그가 돌아왔다! 미션 임파서블\n",
      "탐정의 마지막 여행지\n",
      "건강즙, 이런 사람에겐 독이 되기도 합니다\n",
      "경기도미술관 이건희컬렉션 '사계'\n",
      "광고 참여하고 리뷰 달면 포인트가 빵야빵야\n",
      "자가용 소유자 90%는 하루 2시간도 이용 안 한다\n",
      "모기 물렸을 때 대처법\n",
      "서울 자전거 따릉이 마일리지 쌓는 꿀팁!\n",
      "3D 프린터로 만든 생선은 무슨 맛일까\n",
      "수도권 릴레이 오픈 기념 식자재 역대급 특가\n",
      "금연 최면 치료 받은 썰\n",
      "치즈 덮밥 털면 유빙 덮밥\n",
      "장마철 냄새 걱정 없는 빨래 관리법\n",
      "저작권 걱정없이 자유롭게 글꼴 쓰세요\n",
      "불법촬영 없는 학교 만들기\n",
      "올여름 얼마나 더울까\n",
      "김정주 기관사의 방송\n",
      "걷기의 무시할 수 없는 효과\n",
      "서울에서 즐기는 북캉스 4곳\n",
      "장수를 위해 필요한 근육\n",
      "이럴 땐 무슨 나이 쓰나요\n",
      "보윙을 소개합니다\n",
      "제주 바다에 몸을 맡기다. 결국, 결\n",
      "우리아이 황금응가를 위한 깐깐한 유산균 IPICKY\n",
      "어지럼증 클리닉\n",
      "마음에 묻은 얼룩을 지워드립니다\n",
      "반려견과 물놀이 시 주의사항\n",
      "거울 속 모습\n",
      "반대의 매력, 엘리멘탈\n",
      "가족돌봄휴가 활용하자\n",
      "1.4.4 패치 노트 정리\n",
      "입시에 필요한 모든 대학 정보를 한 곳에!\n",
      "신나는 주말체육학교\n",
      "셰프로 성장하는 즐거움을 모두 담은 요리게임\n",
      "스티커 라벨 잘 떼는 법\n",
      "서울아이발달지원센터 무료 검사\n",
      "죽기 전 뇌의 활동\n",
      "보다 깨끗하게 사용하는 법\n",
      "한강공원 수영장 개장\n",
      "자궁경부암 예방주사 무료접종\n",
      "나만의 카페를 운영해보세요\n",
      "귀염뽀짝 힐링게임\n",
      "홀로 사는 어르신과 장애인을 위해\n",
      "사랑하는 당신에게\n",
      "도수가 높으면 살이 안찔까\n",
      "보윙 12시 유튜브 라이브\n",
      "안심전세 앱 2.0 버전 출시!\n",
      "우리 아이 교정 언제 해야 할까요\n",
      "여섯 단어 소설\n",
      "누워서 2500만원 버는 실험\n",
      "첫 방울은 버려라\n",
      "아플 때 욕하면 통증이 완화된다\n",
      "서울에서 매달 10일은 텀블러데이\n",
      "한 손에 펼쳐볼 수 있는 '대한민국 정원여행' 지도\n",
      "아스파탐 정말 위험할까\n",
      "학자금 대출 이자 지원해드립니다!\n",
      "추격 액션 영화, 귀공자\n",
      "독립영화 기획전 ‘인디한 편’\n",
      "서울시, 다자녀 가족 지원 강화\n",
      "모든 사랑은 똑같다! 디어 마이 러브\n",
      "올 여름 최대의 패션의장 '무진장' 라퍼지 ~80%\n",
      "최저가부터 일정까지 한번에 비교! '트립스토어'\n",
      "영화 '마션' 모의 실험\n",
      "당신만을 위한 영양제가이드 유핏. 이벤트로 돌아왔어요\n",
      "엄마가 아빠랑 결혼하게 된 한마디\n",
      "경기도 선정 이야기가 담긴 관광지\n",
      "평소 집안일로만 운동효과 보는 법\n",
      "한국민속촌 조선살인수사\n",
      "내 이름은 전국에 몇 명\n",
      "스토어 별점과 리뷰 부탁드립니다\n",
      "정규직 채용 인건비가 부담된다면\n",
      "암기플러스 알림 서비스를 시작합니다\n",
      "노란색 횡단보도는 뭐지\n",
      "올여름 휴가는 ESG 여행으로\n",
      "유난히 스트레스에 취약한 성격\n",
      "독거노인분들의 인공지능 말벗\n",
      "학생, 교원이라면 전자책이 무제한!\n",
      "니 위, 내 밑으로 다 집합\n",
      "전기 아껴쓰고 요금 돌려받자!\n",
      "암기플러스 오답 찾기 2탄\n",
      "ChatGPT가 들려주는 유머\n",
      "세계에서 두번째로 비싼 책\n",
      "10분 안에 다시 타면 무료!\n"
     ]
    }
   ],
   "source": [
    "# # 경로 설정\n",
    "# source_dir = r'D:\\DATA_PREPROCESS\\INTEGRATED_DATASETS\\new_WORD_SCRIPT\\JULY\\Training\\AMR\\원천데이터'\n",
    "# target_dir = r'D:\\DATA_PREPROCESS\\INTEGRATED_DATASETS\\new_WORD_SCRIPT\\JULY\\Training\\AMR\\라벨링데이터'\n",
    "\n",
    "# # 원천데이터 디렉토리의 폴더 및 파일명 추출\n",
    "# source_files = set(os.listdir(source_dir))\n",
    "\n",
    "# # 라벨링데이터 디렉토리의 파일명 추출 (확장자 제거)\n",
    "# target_files = set(os.path.splitext(file)[0] for file in os.listdir(target_dir))\n",
    "\n",
    "# # 원천데이터에만 존재하는 항목 찾기\n",
    "# only_in_source = source_files - target_files\n",
    "\n",
    "# # 결과 출력\n",
    "# print(\"원천데이터 디렉토리에만 존재하는 항목:\")\n",
    "# for item in only_in_source:\n",
    "#     print(item)"
   ]
  },
  {
   "cell_type": "code",
   "execution_count": null,
   "id": "e87ac599-cee2-44c9-84a8-b7b9cfa7b20f",
   "metadata": {},
   "outputs": [],
   "source": []
  },
  {
   "cell_type": "code",
   "execution_count": null,
   "id": "cd7529aa-df53-449d-8eff-dc222066a803",
   "metadata": {},
   "outputs": [],
   "source": []
  },
  {
   "cell_type": "markdown",
   "id": "e2abcc23-96c2-4c82-8cf9-8ee9f8aa66d7",
   "metadata": {
    "jp-MarkdownHeadingCollapsed": true
   },
   "source": [
    "### 유저별 JSON 파일로 저장"
   ]
  },
  {
   "cell_type": "code",
   "execution_count": 23,
   "id": "fe1ebb46-a7a9-4483-8c43-c155355eb16b",
   "metadata": {
    "execution": {
     "iopub.execute_input": "2023-12-18T07:15:52.133507Z",
     "iopub.status.busy": "2023-12-18T07:15:52.133507Z",
     "iopub.status.idle": "2023-12-18T07:23:49.802343Z",
     "shell.execute_reply": "2023-12-18T07:23:49.793065Z",
     "shell.execute_reply.started": "2023-12-18T07:15:52.133507Z"
    }
   },
   "outputs": [],
   "source": [
    "# 저장을 용이하게 하기 위해 spark df들을 pandas df들로 변환\n",
    "\n",
    "july_train_min_pd_df = july_train_min_df.toPandas()\n",
    "july_train_word_pd_df = july_train_word_df.toPandas()\n",
    "july_val_min_pd_df = july_val_min_df.toPandas()\n",
    "july_val_word_pd_df = july_val_word_df.toPandas()\n",
    "august_train_min_pd_df = august_train_min_df.toPandas()\n",
    "august_train_word_pd_df = august_train_word_df.toPandas()\n",
    "august_val_min_pd_df = august_val_min_df.toPandas()\n",
    "august_val_word_pd_df = august_val_word_df.toPandas()\n",
    "september_train_min_pd_df = september_train_min_df.toPandas()\n",
    "september_train_word_pd_df = september_train_word_df.toPandas()\n",
    "september_val_min_pd_df = september_val_min_df.toPandas()\n",
    "september_val_word_pd_df = september_val_word_df.toPandas()\n",
    "october_train_min_pd_df = october_train_min_df.toPandas()\n",
    "october_train_word_pd_df = october_train_word_df.toPandas()\n",
    "october_val_min_pd_df = october_val_min_df.toPandas()\n",
    "october_val_word_pd_df = october_val_word_df.toPandas()"
   ]
  },
  {
   "cell_type": "code",
   "execution_count": 23,
   "id": "f7b2f92e-2a1d-49c6-b3fa-0ece6a7895e0",
   "metadata": {
    "execution": {
     "iopub.execute_input": "2023-12-14T08:42:24.512904Z",
     "iopub.status.busy": "2023-12-14T08:42:24.511905Z",
     "iopub.status.idle": "2023-12-14T08:47:32.162806Z",
     "shell.execute_reply": "2023-12-14T08:47:32.143811Z",
     "shell.execute_reply.started": "2023-12-14T08:42:24.512904Z"
    }
   },
   "outputs": [],
   "source": [
    "# 경로 설정을 위한 매핑\n",
    "path_mapping = {\n",
    "    'july_train_min_pd_df': r'D:\\DATA_PREPROCESS\\INTEGRATED_DATASETS\\MINUTE_SCRIPT\\JULY\\Training\\AMR\\라벨링데이터',\n",
    "    'july_train_word_pd_df': r'D:\\DATA_PREPROCESS\\INTEGRATED_DATASETS\\WORD_SCRIPT\\JULY\\Training\\AMR\\라벨링데이터',\n",
    "    'july_val_min_pd_df': r'D:\\DATA_PREPROCESS\\INTEGRATED_DATASETS\\MINUTE_SCRIPT\\JULY\\Validation\\AMR\\라벨링데이터',\n",
    "    'july_val_word_pd_df': r'D:\\DATA_PREPROCESS\\INTEGRATED_DATASETS\\WORD_SCRIPT\\JULY\\Validation\\AMR\\라벨링데이터',\n",
    "    'august_train_min_pd_df': r'D:\\DATA_PREPROCESS\\INTEGRATED_DATASETS\\MINUTE_SCRIPT\\AUGUST\\Training\\AMR\\라벨링데이터',\n",
    "    'august_train_word_pd_df': r'D:\\DATA_PREPROCESS\\INTEGRATED_DATASETS\\WORD_SCRIPT\\AUGUST\\Training\\AMR\\라벨링데이터',\n",
    "    'august_val_min_pd_df': r'D:\\DATA_PREPROCESS\\INTEGRATED_DATASETS\\MINUTE_SCRIPT\\AUGUST\\Validation\\AMR\\라벨링데이터',\n",
    "    'august_val_word_pd_df': r'D:\\DATA_PREPROCESS\\INTEGRATED_DATASETS\\WORD_SCRIPT\\AUGUST\\Validation\\AMR\\라벨링데이터',\n",
    "    'september_train_min_pd_df': r'D:\\DATA_PREPROCESS\\INTEGRATED_DATASETS\\MINUTE_SCRIPT\\SEPTEMBER\\Training\\AMR\\라벨링데이터',\n",
    "    'september_train_word_pd_df': r'D:\\DATA_PREPROCESS\\INTEGRATED_DATASETS\\WORD_SCRIPT\\SEPTEMBER\\Training\\AMR\\라벨링데이터',\n",
    "    'september_val_min_pd_df': r'D:\\DATA_PREPROCESS\\INTEGRATED_DATASETS\\MINUTE_SCRIPT\\SEPTEMBER\\Validation\\AMR\\라벨링데이터',\n",
    "    'september_val_word_pd_df': r'D:\\DATA_PREPROCESS\\INTEGRATED_DATASETS\\WORD_SCRIPT\\SEPTEMBER\\Validation\\AMR\\라벨링데이터',\n",
    "    'october_train_min_pd_df': r'D:\\DATA_PREPROCESS\\INTEGRATED_DATASETS\\MINUTE_SCRIPT\\OCTOBER\\Training\\AMR\\라벨링데이터',\n",
    "    'october_train_word_pd_df': r'D:\\DATA_PREPROCESS\\INTEGRATED_DATASETS\\WORD_SCRIPT\\OCTOBER\\Training\\AMR\\라벨링데이터',\n",
    "    'october_val_min_pd_df': r'D:\\DATA_PREPROCESS\\INTEGRATED_DATASETS\\MINUTE_SCRIPT\\OCTOBER\\Validation\\AMR\\라벨링데이터',\n",
    "    'october_val_word_pd_df': r'D:\\DATA_PREPROCESS\\INTEGRATED_DATASETS\\WORD_SCRIPT\\OCTOBER\\Validation\\AMR\\라벨링데이터'\n",
    "}\n",
    "\n",
    "# DataFrame 이름과 객체를 튜플로 매핑\n",
    "df_tuples = [\n",
    "    ('july_train_min_pd_df', july_train_min_pd_df),\n",
    "    ('july_train_word_pd_df', july_train_word_pd_df),\n",
    "    ('july_val_min_pd_df', july_val_min_pd_df),\n",
    "    ('july_val_word_pd_df', july_val_word_pd_df),\n",
    "    ('august_train_min_pd_df', august_train_min_pd_df),\n",
    "    ('august_train_word_pd_df', august_train_word_pd_df),\n",
    "    ('august_val_min_pd_df', august_val_min_pd_df),\n",
    "    ('august_val_word_pd_df', august_val_word_pd_df),\n",
    "    ('september_train_min_pd_df', september_train_min_pd_df),\n",
    "    ('september_train_word_pd_df', september_train_word_pd_df),\n",
    "    ('september_val_min_pd_df', september_val_min_pd_df),\n",
    "    ('september_val_word_pd_df', september_val_word_pd_df),\n",
    "    ('october_train_min_pd_df', october_train_min_pd_df),\n",
    "    ('october_train_word_pd_df', october_train_word_pd_df),\n",
    "    ('october_val_min_pd_df', october_val_min_pd_df),\n",
    "    ('october_val_word_pd_df', october_val_word_pd_df)\n",
    "]\n",
    "\n",
    "# 각 DataFrame에 대해 반복하며 유저별로 JSON 파일로 저장\n",
    "for df_name, df in df_tuples:\n",
    "    # 해당 DataFrame의 경로 가져오기\n",
    "    base_path = path_mapping[df_name]\n",
    "\n",
    "    # 유저별로 그룹화\n",
    "    grouped = df.groupby('user_id')\n",
    "\n",
    "    # 각 유저에 대해 반복\n",
    "    for user_id, group in grouped:\n",
    "        # 저장할 파일 경로 설정\n",
    "        file_path = os.path.join(base_path, f'{user_id}.json')\n",
    "\n",
    "        # 데이터를 JSON 형태로 변환하여 파일에 저장\n",
    "        group.to_json(file_path, orient='records', force_ascii=False)"
   ]
  },
  {
   "cell_type": "markdown",
   "id": "85f31d88-6091-46b9-bda1-6623cf676b32",
   "metadata": {
    "execution": {
     "iopub.execute_input": "2023-12-14T23:29:36.220346Z",
     "iopub.status.busy": "2023-12-14T23:29:36.220346Z",
     "iopub.status.idle": "2023-12-14T23:29:37.868185Z",
     "shell.execute_reply": "2023-12-14T23:29:37.868185Z",
     "shell.execute_reply.started": "2023-12-14T23:29:36.220346Z"
    },
    "jp-MarkdownHeadingCollapsed": true
   },
   "source": [
    "## 음성파일 위치 옮기기 231215(유저폴더별)"
   ]
  },
  {
   "cell_type": "code",
   "execution_count": 51,
   "id": "fbc1ea51-01fe-443e-8251-87d10d278e37",
   "metadata": {
    "execution": {
     "iopub.execute_input": "2023-12-15T01:48:32.989639Z",
     "iopub.status.busy": "2023-12-15T01:48:32.988640Z",
     "iopub.status.idle": "2023-12-15T01:48:33.009126Z",
     "shell.execute_reply": "2023-12-15T01:48:33.009126Z",
     "shell.execute_reply.started": "2023-12-15T01:48:32.989639Z"
    }
   },
   "outputs": [],
   "source": [
    "# 기본 파일 경로\n",
    "base_current_path = r'D:\\DATA_PREPROCESS\\FIRESTORE_DATAS\\12-08-etri-제출버전\\android_VOICE_DATA_FROM_7_TO_10'\n",
    "base_new_path = r'D:\\DATA_PREPROCESS\\INTEGRATED_DATASETS'\n",
    "fixed_new_path_part = r'\\AMR\\원천데이터'\n",
    "\n",
    "\n",
    "# DataFrame 이름에서 월과 유형을 추출하여 경로를 결정하는 함수\n",
    "def get_paths(df_name):\n",
    "    # 월과 유형 추출\n",
    "    parts = df_name.split('_')\n",
    "    month = parts[0].upper()\n",
    "\n",
    "    type_part = 'wordscript' if 'word' in df_name else 'minutescript'\n",
    "    section_part = 'validation' if 'val' in df_name else 'training'\n",
    "    after_type_part = 'WORD_SCRIPT' if 'word' in df_name else 'MINUTE_SCRIPT'\n",
    "    after_section_part = 'Validation' if 'val' in df_name else 'Training'\n",
    "\n",
    "    # 현재 파일 경로\n",
    "    current_file_path = os.path.join(base_current_path, month, section_part + '_' + type_part.lower())\n",
    "    # 새 파일 경로\n",
    "    new_file_path = os.path.join(base_new_path, after_type_part, month, after_section_part, fixed_new_path_part.lstrip('\\\\'))\n",
    "\n",
    "\n",
    "    print(f\"current_file_path = {current_file_path}, new_file_path = {new_file_path}\")\n",
    "\n",
    "    return current_file_path, new_file_path\n"
   ]
  },
  {
   "cell_type": "code",
   "execution_count": null,
   "id": "dea433da-69b1-40ad-aaa1-0e95b5d8e1be",
   "metadata": {},
   "outputs": [],
   "source": [
    "# def move_file(current_file, new_file):\n",
    "#     try:\n",
    "#         os.rename(current_file, new_file)\n",
    "#     except FileNotFoundError:\n",
    "#         print(f\"File not found: {current_file}, skipped.\")\n",
    "# def move_files(df, df_name, paths_function):\n",
    "#     current_path, new_base_path = paths_function(df_name)\n",
    "#     for voice_id in df['voice_id']:\n",
    "#         # user_id 폴더 생성\n",
    "#         user_id = df[df['voice_id'] == voice_id]['user_id'].iloc[0]\n",
    "#         new_path = os.path.join(new_base_path, user_id)\n",
    "#         if not os.path.exists(new_path):\n",
    "#             os.makedirs(new_path)\n",
    "\n",
    "#         # 파일 이동\n",
    "#         current_file = os.path.join(current_path, voice_id)\n",
    "#         new_file = os.path.join(new_path, voice_id)\n",
    "#         move_file(current_file, new_file)\n",
    "\n",
    "def move_files_for_user(df, user_id, current_path, new_base_path):\n",
    "    user_df = df[df['user_id'] == user_id]\n",
    "    new_path = os.path.join(new_base_path, user_id)\n",
    "    if not os.path.exists(new_path):\n",
    "        os.makedirs(new_path)\n",
    "\n",
    "    for voice_id in user_df['voice_id']:\n",
    "        current_file = os.path.join(current_path, voice_id)\n",
    "        new_file = os.path.join(new_path, voice_id)\n",
    "        if os.path.exists(current_file):\n",
    "            os.rename(current_file, new_file)\n",
    "\n",
    "def move_files_parallel_by_user(df, df_name, paths_function):\n",
    "    current_path, new_base_path = paths_function(df_name)\n",
    "    user_ids = df['user_id'].unique()\n",
    "    \n",
    "    with ThreadPoolExecutor(max_workers=10) as executor:\n",
    "        for user_id in user_ids:\n",
    "            executor.submit(move_files_for_user, df, user_id, current_path, new_base_path)"
   ]
  },
  {
   "cell_type": "code",
   "execution_count": 52,
   "id": "68fa2ef2-0a7b-4098-bf44-59fef421c4a2",
   "metadata": {
    "execution": {
     "iopub.execute_input": "2023-12-15T01:48:57.334927Z",
     "iopub.status.busy": "2023-12-15T01:48:57.334927Z",
     "iopub.status.idle": "2023-12-15T01:53:07.394711Z",
     "shell.execute_reply": "2023-12-15T01:53:07.394357Z",
     "shell.execute_reply.started": "2023-12-15T01:48:57.334927Z"
    }
   },
   "outputs": [
    {
     "name": "stdout",
     "output_type": "stream",
     "text": [
      "current_file_path = D:\\DATA_PREPROCESS\\FIRESTORE_DATAS\\12-08-etri-제출버전\\android_VOICE_DATA_FROM_7_TO_10\\JULY\\training_minutescript, new_file_path = D:\\DATA_PREPROCESS\\INTEGRATED_DATASETS\\MINUTE_SCRIPT\\JULY\\Training\\AMR\\원천데이터\n"
     ]
    }
   ],
   "source": [
    "move_files_parallel_by_user(july_train_min_pd_df, 'july_train_min_pd_df', get_paths)"
   ]
  },
  {
   "cell_type": "code",
   "execution_count": 54,
   "id": "ef3bd6bf-5fb9-490b-836b-7cd0185ff3d5",
   "metadata": {
    "execution": {
     "iopub.execute_input": "2023-12-15T01:59:11.717440Z",
     "iopub.status.busy": "2023-12-15T01:59:11.717440Z",
     "iopub.status.idle": "2023-12-15T02:10:09.672614Z",
     "shell.execute_reply": "2023-12-15T02:10:09.672614Z",
     "shell.execute_reply.started": "2023-12-15T01:59:11.717440Z"
    }
   },
   "outputs": [
    {
     "name": "stdout",
     "output_type": "stream",
     "text": [
      "current_file_path = D:\\DATA_PREPROCESS\\FIRESTORE_DATAS\\12-08-etri-제출버전\\android_VOICE_DATA_FROM_7_TO_10\\JULY\\training_wordscript, new_file_path = D:\\DATA_PREPROCESS\\INTEGRATED_DATASETS\\WORD_SCRIPT\\JULY\\Training\\AMR\\원천데이터\n",
      "current_file_path = D:\\DATA_PREPROCESS\\FIRESTORE_DATAS\\12-08-etri-제출버전\\android_VOICE_DATA_FROM_7_TO_10\\JULY\\validation_minutescript, new_file_path = D:\\DATA_PREPROCESS\\INTEGRATED_DATASETS\\MINUTE_SCRIPT\\JULY\\Validation\\AMR\\원천데이터\n",
      "current_file_path = D:\\DATA_PREPROCESS\\FIRESTORE_DATAS\\12-08-etri-제출버전\\android_VOICE_DATA_FROM_7_TO_10\\JULY\\validation_wordscript, new_file_path = D:\\DATA_PREPROCESS\\INTEGRATED_DATASETS\\WORD_SCRIPT\\JULY\\Validation\\AMR\\원천데이터\n"
     ]
    }
   ],
   "source": [
    "move_files_parallel_by_user(july_train_word_pd_df, 'july_train_word_pd_df', get_paths)\n",
    "move_files_parallel_by_user(july_val_min_pd_df, 'july_val_min_pd_df', get_paths)\n",
    "move_files_parallel_by_user(july_val_word_pd_df, 'july_val_word_pd_df', get_paths)"
   ]
  },
  {
   "cell_type": "code",
   "execution_count": 55,
   "id": "5ae6a89c-faa3-42ab-a1be-a0b13d51ddd1",
   "metadata": {
    "execution": {
     "iopub.execute_input": "2023-12-15T02:10:09.672614Z",
     "iopub.status.busy": "2023-12-15T02:10:09.672614Z",
     "iopub.status.idle": "2023-12-15T02:31:45.178967Z",
     "shell.execute_reply": "2023-12-15T02:31:45.178967Z",
     "shell.execute_reply.started": "2023-12-15T02:10:09.672614Z"
    }
   },
   "outputs": [
    {
     "name": "stdout",
     "output_type": "stream",
     "text": [
      "current_file_path = D:\\DATA_PREPROCESS\\FIRESTORE_DATAS\\12-08-etri-제출버전\\android_VOICE_DATA_FROM_7_TO_10\\AUGUST\\training_minutescript, new_file_path = D:\\DATA_PREPROCESS\\INTEGRATED_DATASETS\\MINUTE_SCRIPT\\AUGUST\\Training\\AMR\\원천데이터\n",
      "current_file_path = D:\\DATA_PREPROCESS\\FIRESTORE_DATAS\\12-08-etri-제출버전\\android_VOICE_DATA_FROM_7_TO_10\\AUGUST\\training_wordscript, new_file_path = D:\\DATA_PREPROCESS\\INTEGRATED_DATASETS\\WORD_SCRIPT\\AUGUST\\Training\\AMR\\원천데이터\n",
      "current_file_path = D:\\DATA_PREPROCESS\\FIRESTORE_DATAS\\12-08-etri-제출버전\\android_VOICE_DATA_FROM_7_TO_10\\AUGUST\\validation_minutescript, new_file_path = D:\\DATA_PREPROCESS\\INTEGRATED_DATASETS\\MINUTE_SCRIPT\\AUGUST\\Validation\\AMR\\원천데이터\n",
      "current_file_path = D:\\DATA_PREPROCESS\\FIRESTORE_DATAS\\12-08-etri-제출버전\\android_VOICE_DATA_FROM_7_TO_10\\AUGUST\\validation_wordscript, new_file_path = D:\\DATA_PREPROCESS\\INTEGRATED_DATASETS\\WORD_SCRIPT\\AUGUST\\Validation\\AMR\\원천데이터\n"
     ]
    }
   ],
   "source": [
    "move_files_parallel_by_user(august_train_min_pd_df, 'august_train_min_pd_df', get_paths)\n",
    "move_files_parallel_by_user(august_train_word_pd_df, 'august_train_word_pd_df', get_paths)\n",
    "move_files_parallel_by_user(august_val_min_pd_df, 'august_val_min_pd_df', get_paths)\n",
    "move_files_parallel_by_user(august_val_word_pd_df, 'august_val_word_pd_df', get_paths)"
   ]
  },
  {
   "cell_type": "code",
   "execution_count": 56,
   "id": "876b8f95-9385-4946-a521-d7b1ca3a6131",
   "metadata": {
    "execution": {
     "iopub.execute_input": "2023-12-15T02:31:45.178967Z",
     "iopub.status.busy": "2023-12-15T02:31:45.178967Z",
     "iopub.status.idle": "2023-12-15T02:51:05.518843Z",
     "shell.execute_reply": "2023-12-15T02:51:05.518422Z",
     "shell.execute_reply.started": "2023-12-15T02:31:45.178967Z"
    }
   },
   "outputs": [
    {
     "name": "stdout",
     "output_type": "stream",
     "text": [
      "current_file_path = D:\\DATA_PREPROCESS\\FIRESTORE_DATAS\\12-08-etri-제출버전\\android_VOICE_DATA_FROM_7_TO_10\\SEPTEMBER\\training_minutescript, new_file_path = D:\\DATA_PREPROCESS\\INTEGRATED_DATASETS\\MINUTE_SCRIPT\\SEPTEMBER\\Training\\AMR\\원천데이터\n",
      "current_file_path = D:\\DATA_PREPROCESS\\FIRESTORE_DATAS\\12-08-etri-제출버전\\android_VOICE_DATA_FROM_7_TO_10\\SEPTEMBER\\training_wordscript, new_file_path = D:\\DATA_PREPROCESS\\INTEGRATED_DATASETS\\WORD_SCRIPT\\SEPTEMBER\\Training\\AMR\\원천데이터\n",
      "current_file_path = D:\\DATA_PREPROCESS\\FIRESTORE_DATAS\\12-08-etri-제출버전\\android_VOICE_DATA_FROM_7_TO_10\\SEPTEMBER\\validation_minutescript, new_file_path = D:\\DATA_PREPROCESS\\INTEGRATED_DATASETS\\MINUTE_SCRIPT\\SEPTEMBER\\Validation\\AMR\\원천데이터\n",
      "current_file_path = D:\\DATA_PREPROCESS\\FIRESTORE_DATAS\\12-08-etri-제출버전\\android_VOICE_DATA_FROM_7_TO_10\\SEPTEMBER\\validation_wordscript, new_file_path = D:\\DATA_PREPROCESS\\INTEGRATED_DATASETS\\WORD_SCRIPT\\SEPTEMBER\\Validation\\AMR\\원천데이터\n"
     ]
    }
   ],
   "source": [
    "move_files_parallel_by_user(september_train_min_pd_df, 'september_train_min_pd_df', get_paths)\n",
    "move_files_parallel_by_user(september_train_word_pd_df, 'september_train_word_pd_df', get_paths)\n",
    "move_files_parallel_by_user(september_val_min_pd_df, 'september_val_min_pd_df', get_paths)\n",
    "move_files_parallel_by_user(september_val_word_pd_df, 'september_val_word_pd_df', get_paths)"
   ]
  },
  {
   "cell_type": "code",
   "execution_count": 57,
   "id": "b4eef804-db3d-4ca0-904e-540ca5b170c7",
   "metadata": {
    "execution": {
     "iopub.execute_input": "2023-12-15T02:51:05.521090Z",
     "iopub.status.busy": "2023-12-15T02:51:05.521090Z",
     "iopub.status.idle": "2023-12-15T03:10:13.855015Z",
     "shell.execute_reply": "2023-12-15T03:10:13.855015Z",
     "shell.execute_reply.started": "2023-12-15T02:51:05.521090Z"
    }
   },
   "outputs": [
    {
     "name": "stdout",
     "output_type": "stream",
     "text": [
      "current_file_path = D:\\DATA_PREPROCESS\\FIRESTORE_DATAS\\12-08-etri-제출버전\\android_VOICE_DATA_FROM_7_TO_10\\OCTOBER\\training_minutescript, new_file_path = D:\\DATA_PREPROCESS\\INTEGRATED_DATASETS\\MINUTE_SCRIPT\\OCTOBER\\Training\\AMR\\원천데이터\n",
      "current_file_path = D:\\DATA_PREPROCESS\\FIRESTORE_DATAS\\12-08-etri-제출버전\\android_VOICE_DATA_FROM_7_TO_10\\OCTOBER\\training_wordscript, new_file_path = D:\\DATA_PREPROCESS\\INTEGRATED_DATASETS\\WORD_SCRIPT\\OCTOBER\\Training\\AMR\\원천데이터\n",
      "current_file_path = D:\\DATA_PREPROCESS\\FIRESTORE_DATAS\\12-08-etri-제출버전\\android_VOICE_DATA_FROM_7_TO_10\\OCTOBER\\validation_minutescript, new_file_path = D:\\DATA_PREPROCESS\\INTEGRATED_DATASETS\\MINUTE_SCRIPT\\OCTOBER\\Validation\\AMR\\원천데이터\n",
      "current_file_path = D:\\DATA_PREPROCESS\\FIRESTORE_DATAS\\12-08-etri-제출버전\\android_VOICE_DATA_FROM_7_TO_10\\OCTOBER\\validation_wordscript, new_file_path = D:\\DATA_PREPROCESS\\INTEGRATED_DATASETS\\WORD_SCRIPT\\OCTOBER\\Validation\\AMR\\원천데이터\n"
     ]
    }
   ],
   "source": [
    "move_files_parallel_by_user(october_train_min_pd_df, 'october_train_min_pd_df', get_paths)\n",
    "move_files_parallel_by_user(october_train_word_pd_df, 'october_train_word_pd_df', get_paths)\n",
    "move_files_parallel_by_user(october_val_min_pd_df, 'october_val_min_pd_df', get_paths)\n",
    "move_files_parallel_by_user(october_val_word_pd_df, 'october_val_word_pd_df', get_paths)"
   ]
  },
  {
   "cell_type": "code",
   "execution_count": 59,
   "id": "18ee2734-94cc-4f34-8a3a-98cd5b12224a",
   "metadata": {
    "execution": {
     "iopub.execute_input": "2023-12-15T03:42:42.728315Z",
     "iopub.status.busy": "2023-12-15T03:42:42.728315Z",
     "iopub.status.idle": "2023-12-15T03:42:42.756122Z",
     "shell.execute_reply": "2023-12-15T03:42:42.756122Z",
     "shell.execute_reply.started": "2023-12-15T03:42:42.728315Z"
    }
   },
   "outputs": [
    {
     "ename": "NameError",
     "evalue": "name 'executor' is not defined",
     "output_type": "error",
     "traceback": [
      "\u001b[1;31m---------------------------------------------------------------------------\u001b[0m",
      "\u001b[1;31mNameError\u001b[0m                                 Traceback (most recent call last)",
      "Cell \u001b[1;32mIn[59], line 2\u001b[0m\n\u001b[0;32m      1\u001b[0m \u001b[38;5;66;03m# 모든 작업이 완료되면 스레드 풀을 종료\u001b[39;00m\n\u001b[1;32m----> 2\u001b[0m \u001b[43mexecutor\u001b[49m\u001b[38;5;241m.\u001b[39mshutdown(wait\u001b[38;5;241m=\u001b[39m\u001b[38;5;28;01mTrue\u001b[39;00m)\n",
      "\u001b[1;31mNameError\u001b[0m: name 'executor' is not defined"
     ]
    }
   ],
   "source": [
    "# 모든 작업이 완료되면 스레드 풀을 종료\n",
    "executor.shutdown(wait=True)"
   ]
  },
  {
   "cell_type": "markdown",
   "id": "bbe43796-6c55-4b45-b8b9-93963c9ce5f0",
   "metadata": {
    "jp-MarkdownHeadingCollapsed": true
   },
   "source": [
    "## 음성파일 위치 옮기기 231218(광고 폴더별)"
   ]
  },
  {
   "cell_type": "code",
   "execution_count": 27,
   "id": "343fb1e9-14d1-4739-8030-cf9079ebac8a",
   "metadata": {
    "execution": {
     "iopub.execute_input": "2023-12-18T07:26:27.045178Z",
     "iopub.status.busy": "2023-12-18T07:26:27.045178Z",
     "iopub.status.idle": "2023-12-18T07:26:27.059534Z",
     "shell.execute_reply": "2023-12-18T07:26:27.058533Z",
     "shell.execute_reply.started": "2023-12-18T07:26:27.045178Z"
    }
   },
   "outputs": [
    {
     "name": "stdout",
     "output_type": "stream",
     "text": [
      "root\n",
      " |-- accuracy_array: array (nullable = true)\n",
      " |    |-- element: long (containsNull = true)\n",
      " |-- ad_avg_tries: double (nullable = true)\n",
      " |-- ad_duration: string (nullable = true)\n",
      " |-- ad_link: string (nullable = true)\n",
      " |-- ad_name: string (nullable = true)\n",
      " |-- ad_script: string (nullable = true)\n",
      " |-- ad_title: string (nullable = true)\n",
      " |-- average_accuracy_by_ad: double (nullable = true)\n",
      " |-- average_accuracy_by_user: double (nullable = true)\n",
      " |-- birth_year: string (nullable = true)\n",
      " |-- collection: string (nullable = true)\n",
      " |-- created_timestamp_array: array (nullable = true)\n",
      " |    |-- element: string (containsNull = true)\n",
      " |-- excepted_age_array: string (nullable = true)\n",
      " |-- first_created_date: long (nullable = true)\n",
      " |-- first_timestamp: string (nullable = true)\n",
      " |-- gender: string (nullable = true)\n",
      " |-- is_passed: string (nullable = true)\n",
      " |-- job: string (nullable = true)\n",
      " |-- language: string (nullable = true)\n",
      " |-- level: string (nullable = true)\n",
      " |-- local_code: string (nullable = true)\n",
      " |-- participant_count: double (nullable = true)\n",
      " |-- pass_rate_by_ad: double (nullable = true)\n",
      " |-- pass_rate_by_user: double (nullable = true)\n",
      " |-- perfect: double (nullable = true)\n",
      " |-- stt_text_array: array (nullable = true)\n",
      " |    |-- element: string (containsNull = true)\n",
      " |-- text_length: long (nullable = true)\n",
      " |-- try_count: long (nullable = true)\n",
      " |-- user_avg_tries: double (nullable = true)\n",
      " |-- user_id: string (nullable = true)\n",
      " |-- voice_id: string (nullable = true)\n",
      "\n"
     ]
    }
   ],
   "source": [
    "july_train_word_df.printSchema()"
   ]
  },
  {
   "cell_type": "code",
   "execution_count": 24,
   "id": "f1bc1e92-290d-4854-9a56-e5c8633ef375",
   "metadata": {
    "execution": {
     "iopub.execute_input": "2023-12-18T07:23:49.820347Z",
     "iopub.status.busy": "2023-12-18T07:23:49.818346Z",
     "iopub.status.idle": "2023-12-18T07:23:49.886631Z",
     "shell.execute_reply": "2023-12-18T07:23:49.885630Z",
     "shell.execute_reply.started": "2023-12-18T07:23:49.820347Z"
    }
   },
   "outputs": [],
   "source": [
    "# 기본 파일 경로\n",
    "base_current_path = r'D:\\DATA_PREPROCESS\\INTEGRATED_DATASETS\\WORD_SCRIPT'\n",
    "base_new_path = r'D:\\DATA_PREPROCESS\\INTEGRATED_DATASETS\\new_WORD_SCRIPT'\n",
    "fixed_new_path_part = r'\\AMR\\원천데이터'\n",
    "\n",
    "# DataFrame 이름에서 월과 유형을 추출하여 경로를 결정하는 함수\n",
    "def get_paths(df_name):\n",
    "    # 월과 유형 추출\n",
    "    parts = df_name.split('_')\n",
    "    month = parts[0].upper()\n",
    "\n",
    "    after_section_part = 'Validation' if 'val' in df_name else 'Training'\n",
    "\n",
    "    # 현재 파일 경로\n",
    "    current_file_path = os.path.join(base_current_path, month, after_section_part, fixed_new_path_part.lstrip('\\\\'))\n",
    "    # 새 파일 경로\n",
    "    new_file_path = os.path.join(base_new_path, month, after_section_part, fixed_new_path_part.lstrip('\\\\'))\n",
    "\n",
    "    print(f\"current_file_path = {current_file_path}, new_file_path = {new_file_path}\")\n",
    "\n",
    "    return current_file_path, new_file_path"
   ]
  },
  {
   "cell_type": "code",
   "execution_count": 30,
   "id": "fbdac36e-10f2-4e05-ba69-2fb77e0197cb",
   "metadata": {
    "execution": {
     "iopub.execute_input": "2023-12-18T07:39:30.675821Z",
     "iopub.status.busy": "2023-12-18T07:39:30.675821Z",
     "iopub.status.idle": "2023-12-18T07:39:30.690513Z",
     "shell.execute_reply": "2023-12-18T07:39:30.690513Z",
     "shell.execute_reply.started": "2023-12-18T07:39:30.675821Z"
    }
   },
   "outputs": [],
   "source": [
    "# 광고별 음성 파일 이동 함수\n",
    "def move_files_for_ad(df, ad_id, current_path, new_base_path):\n",
    "    # 필터링하여 광고별 DataFrame 생성\n",
    "    ad_df = df.filter(col('ad_name') == ad_id).select('voice_id', 'user_id')\n",
    "    new_path = os.path.join(new_base_path, ad_id)\n",
    "    if not os.path.exists(new_path):\n",
    "        os.makedirs(new_path)\n",
    "\n",
    "    for row in ad_df.collect():\n",
    "        voice_id = row['voice_id']\n",
    "        user_id = row['user_id']\n",
    "        # 원본 파일 경로에 user_id 폴더 포함\n",
    "        current_file = os.path.join(current_path, user_id, voice_id)\n",
    "        new_file = os.path.join(new_path, voice_id)\n",
    "        if os.path.exists(current_file):\n",
    "            os.rename(current_file, new_file)\n",
    "\n",
    "# 광고별 병렬 파일 이동 함수\n",
    "def move_files_parallel_by_ad(df, df_name, paths_function):\n",
    "    current_path, new_base_path = paths_function(df_name)\n",
    "    ad_ids = [row['ad_name'] for row in df.select('ad_name').distinct().collect()]\n",
    "    \n",
    "    with ThreadPoolExecutor(max_workers=8) as executor:\n",
    "        for ad_id in ad_ids:\n",
    "            executor.submit(move_files_for_ad, df, ad_id, current_path, new_base_path)\n"
   ]
  },
  {
   "cell_type": "code",
   "execution_count": 32,
   "id": "2ed29af3-b024-401f-8280-519e26cfc4a2",
   "metadata": {
    "execution": {
     "iopub.execute_input": "2023-12-18T07:40:30.056653Z",
     "iopub.status.busy": "2023-12-18T07:40:30.056653Z",
     "iopub.status.idle": "2023-12-18T07:50:46.785293Z",
     "shell.execute_reply": "2023-12-18T07:50:46.785293Z",
     "shell.execute_reply.started": "2023-12-18T07:40:30.056653Z"
    }
   },
   "outputs": [
    {
     "name": "stdout",
     "output_type": "stream",
     "text": [
      "current_file_path = D:\\DATA_PREPROCESS\\INTEGRATED_DATASETS\\WORD_SCRIPT\\JULY\\Validation\\AMR\\원천데이터, new_file_path = D:\\DATA_PREPROCESS\\INTEGRATED_DATASETS\\new_WORD_SCRIPT\\JULY\\Validation\\AMR\\원천데이터\n"
     ]
    }
   ],
   "source": [
    "move_files_parallel_by_ad(july_val_word_df, 'july_val_word_df', get_paths)"
   ]
  },
  {
   "cell_type": "code",
   "execution_count": 34,
   "id": "5327d132-cf14-49d1-af03-86edc1426ab4",
   "metadata": {
    "execution": {
     "iopub.execute_input": "2023-12-18T07:55:57.658188Z",
     "iopub.status.busy": "2023-12-18T07:55:57.658188Z",
     "iopub.status.idle": "2023-12-18T08:26:22.993716Z",
     "shell.execute_reply": "2023-12-18T08:26:22.993716Z",
     "shell.execute_reply.started": "2023-12-18T07:55:57.658188Z"
    }
   },
   "outputs": [
    {
     "name": "stdout",
     "output_type": "stream",
     "text": [
      "current_file_path = D:\\DATA_PREPROCESS\\INTEGRATED_DATASETS\\WORD_SCRIPT\\JULY\\Training\\AMR\\원천데이터, new_file_path = D:\\DATA_PREPROCESS\\INTEGRATED_DATASETS\\new_WORD_SCRIPT\\JULY\\Training\\AMR\\원천데이터\n"
     ]
    }
   ],
   "source": [
    "move_files_parallel_by_ad(july_train_word_df, 'july_train_word_df', get_paths)"
   ]
  },
  {
   "cell_type": "code",
   "execution_count": 35,
   "id": "a4b4b0cc-79fb-40f4-93ff-6953d38507b5",
   "metadata": {
    "execution": {
     "iopub.execute_input": "2023-12-18T08:26:22.995716Z",
     "iopub.status.busy": "2023-12-18T08:26:22.995716Z",
     "iopub.status.idle": "2023-12-18T09:14:30.727866Z",
     "shell.execute_reply": "2023-12-18T09:14:30.727866Z",
     "shell.execute_reply.started": "2023-12-18T08:26:22.995716Z"
    }
   },
   "outputs": [
    {
     "name": "stdout",
     "output_type": "stream",
     "text": [
      "current_file_path = D:\\DATA_PREPROCESS\\INTEGRATED_DATASETS\\WORD_SCRIPT\\AUGUST\\Training\\AMR\\원천데이터, new_file_path = D:\\DATA_PREPROCESS\\INTEGRATED_DATASETS\\new_WORD_SCRIPT\\AUGUST\\Training\\AMR\\원천데이터\n",
      "current_file_path = D:\\DATA_PREPROCESS\\INTEGRATED_DATASETS\\WORD_SCRIPT\\AUGUST\\Validation\\AMR\\원천데이터, new_file_path = D:\\DATA_PREPROCESS\\INTEGRATED_DATASETS\\new_WORD_SCRIPT\\AUGUST\\Validation\\AMR\\원천데이터\n"
     ]
    }
   ],
   "source": [
    "move_files_parallel_by_ad(august_train_word_df, 'august_train_word_df', get_paths)\n",
    "move_files_parallel_by_ad(august_val_word_df, 'august_val_word_df', get_paths)"
   ]
  },
  {
   "cell_type": "code",
   "execution_count": 36,
   "id": "1b519387-5936-4478-8257-effbca83db9c",
   "metadata": {
    "execution": {
     "iopub.execute_input": "2023-12-18T09:14:30.729867Z",
     "iopub.status.busy": "2023-12-18T09:14:30.728867Z",
     "iopub.status.idle": "2023-12-18T10:02:34.339443Z",
     "shell.execute_reply": "2023-12-18T10:02:34.339443Z",
     "shell.execute_reply.started": "2023-12-18T09:14:30.729867Z"
    }
   },
   "outputs": [
    {
     "name": "stdout",
     "output_type": "stream",
     "text": [
      "current_file_path = D:\\DATA_PREPROCESS\\INTEGRATED_DATASETS\\WORD_SCRIPT\\SEPTEMBER\\Training\\AMR\\원천데이터, new_file_path = D:\\DATA_PREPROCESS\\INTEGRATED_DATASETS\\new_WORD_SCRIPT\\SEPTEMBER\\Training\\AMR\\원천데이터\n",
      "current_file_path = D:\\DATA_PREPROCESS\\INTEGRATED_DATASETS\\WORD_SCRIPT\\SEPTEMBER\\Validation\\AMR\\원천데이터, new_file_path = D:\\DATA_PREPROCESS\\INTEGRATED_DATASETS\\new_WORD_SCRIPT\\SEPTEMBER\\Validation\\AMR\\원천데이터\n"
     ]
    }
   ],
   "source": [
    "move_files_parallel_by_ad(september_train_word_df, 'september_train_word_df', get_paths)\n",
    "move_files_parallel_by_ad(september_val_word_df, 'september_val_word_df', get_paths)"
   ]
  },
  {
   "cell_type": "code",
   "execution_count": 37,
   "id": "7a01943b-91d5-4878-a699-6a3ceceac902",
   "metadata": {
    "execution": {
     "iopub.execute_input": "2023-12-18T10:02:34.341443Z",
     "iopub.status.busy": "2023-12-18T10:02:34.341443Z",
     "iopub.status.idle": "2023-12-18T11:02:22.264097Z",
     "shell.execute_reply": "2023-12-18T11:02:22.264097Z",
     "shell.execute_reply.started": "2023-12-18T10:02:34.341443Z"
    }
   },
   "outputs": [
    {
     "name": "stdout",
     "output_type": "stream",
     "text": [
      "current_file_path = D:\\DATA_PREPROCESS\\INTEGRATED_DATASETS\\WORD_SCRIPT\\OCTOBER\\Training\\AMR\\원천데이터, new_file_path = D:\\DATA_PREPROCESS\\INTEGRATED_DATASETS\\new_WORD_SCRIPT\\OCTOBER\\Training\\AMR\\원천데이터\n",
      "current_file_path = D:\\DATA_PREPROCESS\\INTEGRATED_DATASETS\\WORD_SCRIPT\\OCTOBER\\Validation\\AMR\\원천데이터, new_file_path = D:\\DATA_PREPROCESS\\INTEGRATED_DATASETS\\new_WORD_SCRIPT\\OCTOBER\\Validation\\AMR\\원천데이터\n"
     ]
    }
   ],
   "source": [
    "move_files_parallel_by_ad(october_train_word_df, 'october_train_word_df', get_paths)\n",
    "move_files_parallel_by_ad(october_val_word_df, 'october_val_word_df', get_paths)"
   ]
  },
  {
   "cell_type": "code",
   "execution_count": null,
   "id": "497e67bb-2648-4e21-af1e-8e17dbdf997a",
   "metadata": {},
   "outputs": [],
   "source": []
  },
  {
   "cell_type": "markdown",
   "id": "e3be9a44-8aa3-4780-bc5a-7e80c55f0c2d",
   "metadata": {
    "jp-MarkdownHeadingCollapsed": true
   },
   "source": [
    "# '유저id 폴더'/'광고명 파일' 구조에서 'voice_id 파일'로 바꾸기"
   ]
  },
  {
   "cell_type": "code",
   "execution_count": 7,
   "id": "544ad28d-b6c9-4538-91b1-0539e53ec502",
   "metadata": {
    "execution": {
     "iopub.execute_input": "2023-12-07T02:06:43.350894Z",
     "iopub.status.busy": "2023-12-07T02:06:43.350894Z",
     "iopub.status.idle": "2023-12-07T02:06:43.362917Z",
     "shell.execute_reply": "2023-12-07T02:06:43.362917Z",
     "shell.execute_reply.started": "2023-12-07T02:06:43.350894Z"
    }
   },
   "outputs": [],
   "source": [
    "july_train_min_target_path = f\"D:\\\\DATA_PREPROCESS\\\\FIRESTORE_DATAS\\\\android_VOICE_DATA_FROM_7_TO_10\\\\JULY\\\\training_minutescript\"\n",
    "july_train_word_target_path = f\"D:\\\\DATA_PREPROCESS\\\\FIRESTORE_DATAS\\\\android_VOICE_DATA_FROM_7_TO_10\\\\JULY\\\\training_wordscript\"\n",
    "july_val_min_target_path = f\"D:\\\\DATA_PREPROCESS\\\\FIRESTORE_DATAS\\\\android_VOICE_DATA_FROM_7_TO_10\\\\JULY\\\\validation_minutescript\"\n",
    "july_val_word_target_path = f\"D:\\\\DATA_PREPROCESS\\\\FIRESTORE_DATAS\\\\android_VOICE_DATA_FROM_7_TO_10\\\\JULY\\\\validation_wordscript\"\n",
    "\n",
    "august_train_min_target_path = f\"D:\\\\DATA_PREPROCESS\\\\FIRESTORE_DATAS\\\\android_VOICE_DATA_FROM_7_TO_10\\\\AUGUST\\\\training_minutescript\"\n",
    "august_train_word_target_path = f\"D:\\\\DATA_PREPROCESS\\\\FIRESTORE_DATAS\\\\android_VOICE_DATA_FROM_7_TO_10\\\\AUGUST\\\\training_wordscript\"\n",
    "august_val_min_target_path = f\"D:\\\\DATA_PREPROCESS\\\\FIRESTORE_DATAS\\\\android_VOICE_DATA_FROM_7_TO_10\\\\AUGUST\\\\validation_minutescript\"\n",
    "august_val_word_target_path = f\"D:\\\\DATA_PREPROCESS\\\\FIRESTORE_DATAS\\\\android_VOICE_DATA_FROM_7_TO_10\\\\AUGUST\\\\validation_wordscript\"\n",
    "\n",
    "september_train_min_target_path = f\"D:\\\\DATA_PREPROCESS\\\\FIRESTORE_DATAS\\\\android_VOICE_DATA_FROM_7_TO_10\\\\SEPTEMBER\\\\training_minutescript\"\n",
    "september_train_word_target_path = f\"D:\\\\DATA_PREPROCESS\\\\FIRESTORE_DATAS\\\\android_VOICE_DATA_FROM_7_TO_10\\\\SEPTEMBER\\\\training_wordscript\"\n",
    "september_val_min_target_path = f\"D:\\\\DATA_PREPROCESS\\\\FIRESTORE_DATAS\\\\android_VOICE_DATA_FROM_7_TO_10\\\\SEPTEMBER\\\\validation_minutescript\"\n",
    "september_val_word_target_path = f\"D:\\\\DATA_PREPROCESS\\\\FIRESTORE_DATAS\\\\android_VOICE_DATA_FROM_7_TO_10\\\\SEPTEMBER\\\\validation_wordscript\"\n",
    "\n",
    "october_train_min_target_path = f\"D:\\\\DATA_PREPROCESS\\\\FIRESTORE_DATAS\\\\android_VOICE_DATA_FROM_7_TO_10\\\\OCTOBER\\\\training_minutescript\"\n",
    "october_train_word_target_path = f\"D:\\\\DATA_PREPROCESS\\\\FIRESTORE_DATAS\\\\android_VOICE_DATA_FROM_7_TO_10\\\\OCTOBER\\\\training_wordscript\"\n",
    "october_val_min_target_path = f\"D:\\\\DATA_PREPROCESS\\\\FIRESTORE_DATAS\\\\android_VOICE_DATA_FROM_7_TO_10\\\\OCTOBER\\\\validation_minutescript\"\n",
    "october_val_word_target_path = f\"D:\\\\DATA_PREPROCESS\\\\FIRESTORE_DATAS\\\\android_VOICE_DATA_FROM_7_TO_10\\\\OCTOBER\\\\validation_wordscript\"\n"
   ]
  },
  {
   "cell_type": "code",
   "execution_count": 8,
   "id": "8e8b3a74-bfb2-49b8-8bf0-301f088f7f1f",
   "metadata": {
    "execution": {
     "iopub.execute_input": "2023-12-07T02:06:46.283064Z",
     "iopub.status.busy": "2023-12-07T02:06:46.283064Z",
     "iopub.status.idle": "2023-12-07T02:06:46.297962Z",
     "shell.execute_reply": "2023-12-07T02:06:46.297962Z",
     "shell.execute_reply.started": "2023-12-07T02:06:46.283064Z"
    }
   },
   "outputs": [],
   "source": [
    "def rename_files(df, target_path):\n",
    "    # DataFrame에서 필요한 정보 추출\n",
    "    info = df.select(\"user_id\", \"ad_name\", \"voice_id\").collect()\n",
    "\n",
    "    # 각 레코드에 대한 파일명 변경\n",
    "    for row in info:\n",
    "        old_path = os.path.join(target_path, row.user_id, row.ad_name)\n",
    "        new_path = os.path.join(target_path, row.user_id, row.voice_id)\n",
    "\n",
    "        if os.path.exists(old_path):\n",
    "            os.rename(old_path, new_path)"
   ]
  },
  {
   "cell_type": "code",
   "execution_count": 6,
   "id": "23e913f2-eaf8-44a9-8965-4879c713c0e7",
   "metadata": {
    "execution": {
     "iopub.execute_input": "2023-12-07T01:10:34.081981Z",
     "iopub.status.busy": "2023-12-07T01:10:34.081981Z",
     "iopub.status.idle": "2023-12-07T01:11:55.084545Z",
     "shell.execute_reply": "2023-12-07T01:11:55.084545Z",
     "shell.execute_reply.started": "2023-12-07T01:10:34.081981Z"
    }
   },
   "outputs": [],
   "source": [
    "rename_files(july_train_min_df, july_train_min_target_path)"
   ]
  },
  {
   "cell_type": "code",
   "execution_count": 9,
   "id": "8ed13314-a0e9-4e2e-b9f7-21115f28e20b",
   "metadata": {
    "execution": {
     "iopub.execute_input": "2023-12-07T02:06:49.015950Z",
     "iopub.status.busy": "2023-12-07T02:06:49.014950Z",
     "iopub.status.idle": "2023-12-07T03:00:37.290561Z",
     "shell.execute_reply": "2023-12-07T03:00:37.290561Z",
     "shell.execute_reply.started": "2023-12-07T02:06:49.015950Z"
    }
   },
   "outputs": [],
   "source": [
    "# rename_files(july_train_word_df, july_train_word_target_path)\n",
    "# rename_files(july_val_min_df, july_val_min_target_path)\n",
    "# rename_files(july_val_word_df, july_val_word_target_path)\n",
    "\n",
    "rename_files(august_train_min_df, august_train_min_target_path)\n",
    "rename_files(august_train_word_df, august_train_word_target_path)\n",
    "rename_files(august_val_min_df, august_val_min_target_path)\n",
    "rename_files(august_val_word_df, august_val_word_target_path)\n",
    "\n",
    "rename_files(september_train_min_df, september_train_min_target_path)\n",
    "rename_files(september_train_word_df, september_train_word_target_path)\n",
    "rename_files(september_val_min_df, september_val_min_target_path)\n",
    "rename_files(september_val_word_df, september_val_word_target_path)\n",
    "\n",
    "rename_files(october_train_min_df, october_train_min_target_path)\n",
    "rename_files(october_train_word_df, october_train_word_target_path)\n",
    "rename_files(october_val_min_df, october_val_min_target_path)\n",
    "rename_files(october_val_word_df, october_val_word_target_path)"
   ]
  },
  {
   "cell_type": "markdown",
   "id": "02c460a3-4aae-4291-ac16-4da2ad11091b",
   "metadata": {},
   "source": [
    "## 유저명 폴더 없에고 그 안의 파일들을 상위폴더로 이동"
   ]
  },
  {
   "cell_type": "code",
   "execution_count": 10,
   "id": "938aa275-5249-414e-92cb-a5b4802af86b",
   "metadata": {
    "execution": {
     "iopub.execute_input": "2023-12-07T03:22:06.982759Z",
     "iopub.status.busy": "2023-12-07T03:22:06.981760Z",
     "iopub.status.idle": "2023-12-07T03:22:06.998540Z",
     "shell.execute_reply": "2023-12-07T03:22:06.997541Z",
     "shell.execute_reply.started": "2023-12-07T03:22:06.982759Z"
    }
   },
   "outputs": [],
   "source": [
    "def move_files_and_remove_folder(root_path):\n",
    "    # root_path 내의 모든 폴더를 순회\n",
    "    for user_folder in os.listdir(root_path):\n",
    "        user_folder_path = os.path.join(root_path, user_folder)\n",
    "\n",
    "        # 폴더인지 확인\n",
    "        if os.path.isdir(user_folder_path):\n",
    "            # 해당 폴더 내의 모든 파일에 대해\n",
    "            for file_name in os.listdir(user_folder_path):\n",
    "                file_path = os.path.join(user_folder_path, file_name)\n",
    "                new_path = os.path.join(root_path, file_name)\n",
    "\n",
    "                # 파일 이동\n",
    "                shutil.move(file_path, new_path)\n",
    "\n",
    "            # 빈 폴더 삭제\n",
    "            os.rmdir(user_folder_path)"
   ]
  },
  {
   "cell_type": "code",
   "execution_count": 11,
   "id": "1a180d26-c589-47d8-b21f-e08bf9ad7c9e",
   "metadata": {
    "execution": {
     "iopub.execute_input": "2023-12-07T03:22:34.337663Z",
     "iopub.status.busy": "2023-12-07T03:22:34.337663Z",
     "iopub.status.idle": "2023-12-07T03:23:36.745009Z",
     "shell.execute_reply": "2023-12-07T03:23:36.745009Z",
     "shell.execute_reply.started": "2023-12-07T03:22:34.337663Z"
    }
   },
   "outputs": [],
   "source": [
    "move_files_and_remove_folder(\"D:\\\\DATA_PREPROCESS\\\\FIRESTORE_DATAS\\\\android_VOICE_DATA_FROM_7_TO_10\\\\JULY\\\\training_minutescript\")"
   ]
  },
  {
   "cell_type": "code",
   "execution_count": 13,
   "id": "290e7663-c3a4-4e32-9c32-0ea14e0edc5b",
   "metadata": {
    "execution": {
     "iopub.execute_input": "2023-12-07T06:05:55.258836Z",
     "iopub.status.busy": "2023-12-07T06:05:55.256621Z",
     "iopub.status.idle": "2023-12-07T07:16:26.725923Z",
     "shell.execute_reply": "2023-12-07T07:16:26.725923Z",
     "shell.execute_reply.started": "2023-12-07T06:05:55.258836Z"
    }
   },
   "outputs": [],
   "source": [
    "# 7월 데이터에 대한 작업\n",
    "move_files_and_remove_folder(\"D:\\\\DATA_PREPROCESS\\\\FIRESTORE_DATAS\\\\android_VOICE_DATA_FROM_7_TO_10\\\\JULY\\\\training_wordscript\")\n",
    "move_files_and_remove_folder(\"D:\\\\DATA_PREPROCESS\\\\FIRESTORE_DATAS\\\\android_VOICE_DATA_FROM_7_TO_10\\\\JULY\\\\validation_minutescript\")\n",
    "move_files_and_remove_folder(\"D:\\\\DATA_PREPROCESS\\\\FIRESTORE_DATAS\\\\android_VOICE_DATA_FROM_7_TO_10\\\\JULY\\\\validation_wordscript\")\n",
    "\n",
    "# 8월 데이터에 대한 작업\n",
    "move_files_and_remove_folder(\"D:\\\\DATA_PREPROCESS\\\\FIRESTORE_DATAS\\\\android_VOICE_DATA_FROM_7_TO_10\\\\AUGUST\\\\training_minutescript\")\n",
    "move_files_and_remove_folder(\"D:\\\\DATA_PREPROCESS\\\\FIRESTORE_DATAS\\\\android_VOICE_DATA_FROM_7_TO_10\\\\AUGUST\\\\training_wordscript\")\n",
    "move_files_and_remove_folder(\"D:\\\\DATA_PREPROCESS\\\\FIRESTORE_DATAS\\\\android_VOICE_DATA_FROM_7_TO_10\\\\AUGUST\\\\validation_minutescript\")\n",
    "move_files_and_remove_folder(\"D:\\\\DATA_PREPROCESS\\\\FIRESTORE_DATAS\\\\android_VOICE_DATA_FROM_7_TO_10\\\\AUGUST\\\\validation_wordscript\")\n",
    "\n",
    "# 9월 데이터에 대한 작업\n",
    "move_files_and_remove_folder(\"D:\\\\DATA_PREPROCESS\\\\FIRESTORE_DATAS\\\\android_VOICE_DATA_FROM_7_TO_10\\\\SEPTEMBER\\\\training_minutescript\")\n",
    "move_files_and_remove_folder(\"D:\\\\DATA_PREPROCESS\\\\FIRESTORE_DATAS\\\\android_VOICE_DATA_FROM_7_TO_10\\\\SEPTEMBER\\\\training_wordscript\")\n",
    "move_files_and_remove_folder(\"D:\\\\DATA_PREPROCESS\\\\FIRESTORE_DATAS\\\\android_VOICE_DATA_FROM_7_TO_10\\\\SEPTEMBER\\\\validation_minutescript\")\n",
    "move_files_and_remove_folder(\"D:\\\\DATA_PREPROCESS\\\\FIRESTORE_DATAS\\\\android_VOICE_DATA_FROM_7_TO_10\\\\SEPTEMBER\\\\validation_wordscript\")\n",
    "\n",
    "# 10월 데이터에 대한 작업\n",
    "move_files_and_remove_folder(\"D:\\\\DATA_PREPROCESS\\\\FIRESTORE_DATAS\\\\android_VOICE_DATA_FROM_7_TO_10\\\\OCTOBER\\\\training_minutescript\")\n",
    "move_files_and_remove_folder(\"D:\\\\DATA_PREPROCESS\\\\FIRESTORE_DATAS\\\\android_VOICE_DATA_FROM_7_TO_10\\\\OCTOBER\\\\training_wordscript\")\n",
    "move_files_and_remove_folder(\"D:\\\\DATA_PREPROCESS\\\\FIRESTORE_DATAS\\\\android_VOICE_DATA_FROM_7_TO_10\\\\OCTOBER\\\\validation_minutescript\")\n",
    "move_files_and_remove_folder(\"D:\\\\DATA_PREPROCESS\\\\FIRESTORE_DATAS\\\\android_VOICE_DATA_FROM_7_TO_10\\\\OCTOBER\\\\validation_wordscript\")"
   ]
  },
  {
   "cell_type": "code",
   "execution_count": null,
   "id": "1fc0adf9-8872-4cdc-bc85-1e392a4856a6",
   "metadata": {},
   "outputs": [],
   "source": []
  },
  {
   "cell_type": "markdown",
   "id": "42329974-16ad-4838-822e-493993111f5a",
   "metadata": {},
   "source": [
    "# 각각의 데이터 뽑기"
   ]
  },
  {
   "cell_type": "code",
   "execution_count": 8,
   "id": "f261e267-bb41-4dba-a115-069974fa46b8",
   "metadata": {
    "execution": {
     "iopub.execute_input": "2023-12-06T05:10:05.097902Z",
     "iopub.status.busy": "2023-12-06T05:10:05.097902Z",
     "iopub.status.idle": "2023-12-06T05:10:05.108747Z",
     "shell.execute_reply": "2023-12-06T05:10:05.108747Z",
     "shell.execute_reply.started": "2023-12-06T05:10:05.097902Z"
    }
   },
   "outputs": [],
   "source": [
    "# 후보 2\n",
    "def copy_file(source, target):\n",
    "    try:\n",
    "        shutil.copy(source, target)\n",
    "        return 1  # 성공한 경우\n",
    "    except Exception as e:\n",
    "        return 0  # 실패한 경우\n",
    "\n",
    "def find_and_copy_files(source_path, target_path, df):\n",
    "    # # 결과 저장을 위한 카운터\n",
    "    # results = []\n",
    "\n",
    "    with ThreadPoolExecutor(max_workers=10) as executor:\n",
    "        futures = []\n",
    "\n",
    "        for row in df.collect():\n",
    "            user_id = row['user_id']\n",
    "            ad_name = row['ad_name']\n",
    "            user_folder_path = os.path.join(source_path, user_id)\n",
    "            ad_file_path = os.path.join(user_folder_path, ad_name)\n",
    "            target_dir = os.path.join(target_path, user_id)\n",
    "\n",
    "            if not os.path.exists(target_dir):\n",
    "                os.makedirs(target_dir)\n",
    "\n",
    "            # 병렬 처리를 위한 작업 추가\n",
    "            if os.path.isfile(ad_file_path):\n",
    "                futures.append(executor.submit(copy_file, ad_file_path, target_dir))\n",
    "\n",
    "        for future in futures:\n",
    "            future.result()\n"
   ]
  },
  {
   "cell_type": "code",
   "execution_count": 9,
   "id": "a921a8eb-e4c7-49dc-b9e8-6345aa53a85b",
   "metadata": {
    "execution": {
     "iopub.execute_input": "2023-12-06T05:10:30.562495Z",
     "iopub.status.busy": "2023-12-06T05:10:30.562495Z",
     "iopub.status.idle": "2023-12-06T05:45:46.324574Z",
     "shell.execute_reply": "2023-12-06T05:45:46.323384Z",
     "shell.execute_reply.started": "2023-12-06T05:10:30.562495Z"
    }
   },
   "outputs": [],
   "source": [
    "july_source_path = f\"D:\\\\DATA_PREPROCESS\\\\FIRESTORE_DATAS\\\\android_VOICE_DATA_FROM_7_TO_10\\\\voice_files_from_july\"\n",
    "\n",
    "july_train_min_target_path = f\"D:\\\\DATA_PREPROCESS\\\\FIRESTORE_DATAS\\\\android_VOICE_DATA_FROM_7_TO_10\\\\JULY\\\\training_minutescript\"\n",
    "july_train_word_target_path = f\"D:\\\\DATA_PREPROCESS\\\\FIRESTORE_DATAS\\\\android_VOICE_DATA_FROM_7_TO_10\\\\JULY\\\\training_wordscript\"\n",
    "july_val_min_target_path = f\"D:\\\\DATA_PREPROCESS\\\\FIRESTORE_DATAS\\\\android_VOICE_DATA_FROM_7_TO_10\\\\JULY\\\\validation_minutescript\"\n",
    "july_val_word_target_path = f\"D:\\\\DATA_PREPROCESS\\\\FIRESTORE_DATAS\\\\android_VOICE_DATA_FROM_7_TO_10\\\\JULY\\\\validation_wordscript\"\n",
    "\n",
    "find_and_copy_files(july_source_path, july_train_min_target_path, july_train_min_df)\n",
    "find_and_copy_files(july_source_path, july_train_word_target_path, july_train_word_df)\n",
    "find_and_copy_files(july_source_path, july_val_min_target_path, july_val_min_df)\n",
    "find_and_copy_files(july_source_path, july_val_word_target_path, july_val_word_df)"
   ]
  },
  {
   "cell_type": "code",
   "execution_count": 11,
   "id": "62928e9c-c86b-461d-8a45-6e346172442c",
   "metadata": {
    "execution": {
     "iopub.execute_input": "2023-12-06T06:50:38.147173Z",
     "iopub.status.busy": "2023-12-06T06:50:38.146175Z",
     "iopub.status.idle": "2023-12-06T07:30:48.766025Z",
     "shell.execute_reply": "2023-12-06T07:30:48.766025Z",
     "shell.execute_reply.started": "2023-12-06T06:50:38.147173Z"
    }
   },
   "outputs": [],
   "source": [
    "august_source_path = f\"D:\\\\DATA_PREPROCESS\\\\FIRESTORE_DATAS\\\\android_VOICE_DATA_FROM_7_TO_10\\\\voice_files_from_august\"\n",
    "\n",
    "august_train_min_target_path = f\"D:\\\\DATA_PREPROCESS\\\\FIRESTORE_DATAS\\\\android_VOICE_DATA_FROM_7_TO_10\\\\AUGUST\\\\training_minutescript\"\n",
    "august_train_word_target_path = f\"D:\\\\DATA_PREPROCESS\\\\FIRESTORE_DATAS\\\\android_VOICE_DATA_FROM_7_TO_10\\\\AUGUST\\\\training_wordscript\"\n",
    "august_val_min_target_path = f\"D:\\\\DATA_PREPROCESS\\\\FIRESTORE_DATAS\\\\android_VOICE_DATA_FROM_7_TO_10\\\\AUGUST\\\\validation_minutescript\"\n",
    "august_val_word_target_path = f\"D:\\\\DATA_PREPROCESS\\\\FIRESTORE_DATAS\\\\android_VOICE_DATA_FROM_7_TO_10\\\\AUGUST\\\\validation_wordscript\"\n",
    "\n",
    "find_and_copy_files(august_source_path, august_train_min_target_path, august_train_min_df)\n",
    "find_and_copy_files(august_source_path, august_train_word_target_path, august_train_word_df)\n",
    "find_and_copy_files(august_source_path, august_val_min_target_path, august_val_min_df)\n",
    "find_and_copy_files(august_source_path, august_val_word_target_path, august_val_word_df)"
   ]
  },
  {
   "cell_type": "code",
   "execution_count": 13,
   "id": "f291a627-7d7c-4191-aa7c-791123e86c91",
   "metadata": {
    "execution": {
     "iopub.execute_input": "2023-12-06T08:18:34.761392Z",
     "iopub.status.busy": "2023-12-06T08:18:34.761392Z",
     "iopub.status.idle": "2023-12-06T09:12:49.906978Z",
     "shell.execute_reply": "2023-12-06T09:12:49.906978Z",
     "shell.execute_reply.started": "2023-12-06T08:18:34.761392Z"
    }
   },
   "outputs": [],
   "source": [
    "september_source_path = f\"D:\\\\DATA_PREPROCESS\\\\FIRESTORE_DATAS\\\\android_VOICE_DATA_FROM_7_TO_10\\\\voice_files_from_september\"\n",
    "\n",
    "september_train_min_target_path = f\"D:\\\\DATA_PREPROCESS\\\\FIRESTORE_DATAS\\\\android_VOICE_DATA_FROM_7_TO_10\\\\SEPTEMBER\\\\training_minutescript\"\n",
    "september_train_word_target_path = f\"D:\\\\DATA_PREPROCESS\\\\FIRESTORE_DATAS\\\\android_VOICE_DATA_FROM_7_TO_10\\\\SEPTEMBER\\\\training_wordscript\"\n",
    "september_val_min_target_path = f\"D:\\\\DATA_PREPROCESS\\\\FIRESTORE_DATAS\\\\android_VOICE_DATA_FROM_7_TO_10\\\\SEPTEMBER\\\\validation_minutescript\"\n",
    "september_val_word_target_path = f\"D:\\\\DATA_PREPROCESS\\\\FIRESTORE_DATAS\\\\android_VOICE_DATA_FROM_7_TO_10\\\\SEPTEMBER\\\\validation_wordscript\"\n",
    "\n",
    "find_and_copy_files(september_source_path, september_train_min_target_path, september_train_min_df)\n",
    "find_and_copy_files(september_source_path, september_train_word_target_path, september_train_word_df)\n",
    "find_and_copy_files(september_source_path, september_val_min_target_path, september_val_min_df)\n",
    "find_and_copy_files(september_source_path, september_val_word_target_path, september_val_word_df)"
   ]
  },
  {
   "cell_type": "code",
   "execution_count": 12,
   "id": "0d4d2b58-c0da-4393-a573-b9e10bd06d31",
   "metadata": {
    "execution": {
     "iopub.execute_input": "2023-12-06T07:30:48.771263Z",
     "iopub.status.busy": "2023-12-06T07:30:48.771263Z",
     "iopub.status.idle": "2023-12-06T08:18:34.761392Z",
     "shell.execute_reply": "2023-12-06T08:18:34.761392Z",
     "shell.execute_reply.started": "2023-12-06T07:30:48.771263Z"
    }
   },
   "outputs": [],
   "source": [
    "october_source_path = f\"D:\\\\DATA_PREPROCESS\\\\FIRESTORE_DATAS\\\\android_VOICE_DATA_FROM_7_TO_10\\\\voice_files_from_october\"\n",
    "\n",
    "october_train_min_target_path = f\"D:\\\\DATA_PREPROCESS\\\\FIRESTORE_DATAS\\\\android_VOICE_DATA_FROM_7_TO_10\\\\OCTOBER\\\\training_minutescript\"\n",
    "october_train_word_target_path = f\"D:\\\\DATA_PREPROCESS\\\\FIRESTORE_DATAS\\\\android_VOICE_DATA_FROM_7_TO_10\\\\OCTOBER\\\\training_wordscript\"\n",
    "october_val_min_target_path = f\"D:\\\\DATA_PREPROCESS\\\\FIRESTORE_DATAS\\\\android_VOICE_DATA_FROM_7_TO_10\\\\OCTOBER\\\\validation_minutescript\"\n",
    "october_val_word_target_path = f\"D:\\\\DATA_PREPROCESS\\\\FIRESTORE_DATAS\\\\android_VOICE_DATA_FROM_7_TO_10\\\\OCTOBER\\\\validation_wordscript\"\n",
    "\n",
    "find_and_copy_files(october_source_path, october_train_min_target_path, october_train_min_df)\n",
    "find_and_copy_files(october_source_path, october_train_word_target_path, october_train_word_df)\n",
    "find_and_copy_files(october_source_path, october_val_min_target_path, october_val_min_df)\n",
    "find_and_copy_files(october_source_path, october_val_word_target_path, october_val_word_df)"
   ]
  },
  {
   "cell_type": "markdown",
   "id": "ac4a3ac3-b995-4137-bb49-7bd99fc77a1b",
   "metadata": {},
   "source": [
    "# 뭉테기 라벨링데이터 저장"
   ]
  },
  {
   "cell_type": "code",
   "execution_count": 8,
   "id": "1189adb7-ad54-4cac-b21d-41f114f0e02c",
   "metadata": {
    "execution": {
     "iopub.execute_input": "2023-12-20T01:51:35.884204Z",
     "iopub.status.busy": "2023-12-20T01:51:35.883205Z",
     "iopub.status.idle": "2023-12-20T01:53:51.392146Z",
     "shell.execute_reply": "2023-12-20T01:53:51.392146Z",
     "shell.execute_reply.started": "2023-12-20T01:51:35.884204Z"
    }
   },
   "outputs": [],
   "source": [
    "# 7월 데이터 합치기\n",
    "july_df = pd.concat([july_train_min_pd_df, july_train_word_pd_df, july_val_min_pd_df, july_val_word_pd_df], axis=0)\n",
    "\n",
    "# 8월 데이터 합치기\n",
    "august_df = pd.concat([august_train_min_pd_df, august_train_word_pd_df, august_val_min_pd_df, august_val_word_pd_df], axis=0)\n",
    "\n",
    "# 9월 데이터 합치기\n",
    "september_df = pd.concat([september_train_min_pd_df, september_train_word_pd_df, september_val_min_pd_df, september_val_word_pd_df], axis=0)\n",
    "\n",
    "# 10월 데이터 합치기\n",
    "october_df = pd.concat([october_train_min_pd_df, october_train_word_pd_df, october_val_min_pd_df, october_val_word_pd_df], axis=0)"
   ]
  },
  {
   "cell_type": "code",
   "execution_count": 9,
   "id": "f0bc77f1-377e-45d1-8044-04916646111a",
   "metadata": {
    "execution": {
     "iopub.execute_input": "2023-12-20T01:54:31.668487Z",
     "iopub.status.busy": "2023-12-20T01:54:31.655937Z",
     "iopub.status.idle": "2023-12-20T01:54:54.577117Z",
     "shell.execute_reply": "2023-12-20T01:54:54.577117Z",
     "shell.execute_reply.started": "2023-12-20T01:54:31.668487Z"
    }
   },
   "outputs": [
    {
     "data": {
      "text/plain": [
       "accuracy_array              2479482\n",
       "ad_avg_tries                2479482\n",
       "ad_duration                 2479482\n",
       "ad_link                     2479482\n",
       "ad_name                     2479482\n",
       "ad_script                   2479482\n",
       "ad_title                    2479482\n",
       "average_accuracy_by_ad      2479482\n",
       "average_accuracy_by_user    2479482\n",
       "birth_year                  2439563\n",
       "collection                  2479482\n",
       "created_timestamp_array     2479482\n",
       "excepted_age_array          2479482\n",
       "first_created_date          2479482\n",
       "first_timestamp             2479482\n",
       "gender                      2460606\n",
       "is_passed                   2479482\n",
       "job                         2379139\n",
       "language                    2439563\n",
       "level                       2479482\n",
       "local_code                  2460606\n",
       "participant_count           2471780\n",
       "pass_rate_by_ad             2479482\n",
       "pass_rate_by_user           2479482\n",
       "perfect                     2435323\n",
       "stt_text_array              2479482\n",
       "text_length                 2479482\n",
       "try_count                   2479482\n",
       "user_avg_tries              2479482\n",
       "user_id                     2479482\n",
       "voice_id                    2479482\n",
       "dtype: int64"
      ]
     },
     "execution_count": 9,
     "metadata": {},
     "output_type": "execute_result"
    }
   ],
   "source": [
    "july_df.count()"
   ]
  },
  {
   "cell_type": "code",
   "execution_count": 34,
   "id": "2e144e10-8b0b-4fdd-8355-c31ee620e58f",
   "metadata": {
    "execution": {
     "iopub.execute_input": "2023-12-20T05:58:33.803108Z",
     "iopub.status.busy": "2023-12-20T05:58:33.803108Z",
     "iopub.status.idle": "2023-12-20T05:58:38.366297Z",
     "shell.execute_reply": "2023-12-20T05:58:38.366120Z",
     "shell.execute_reply.started": "2023-12-20T05:58:33.803108Z"
    }
   },
   "outputs": [
    {
     "name": "stdout",
     "output_type": "stream",
     "text": [
      "고유한 user_id의 개수: 8582\n"
     ]
    }
   ],
   "source": [
    "unique_user_count = july_df['user_id'].nunique()\n",
    "print(\"고유한 user_id의 개수:\", unique_user_count)"
   ]
  },
  {
   "cell_type": "code",
   "execution_count": 31,
   "id": "b8af9380-7d5e-49e2-a571-ff7a09480eec",
   "metadata": {
    "execution": {
     "iopub.execute_input": "2023-12-20T05:54:23.316845Z",
     "iopub.status.busy": "2023-12-20T05:54:23.316845Z",
     "iopub.status.idle": "2023-12-20T05:54:42.443725Z",
     "shell.execute_reply": "2023-12-20T05:54:42.443557Z",
     "shell.execute_reply.started": "2023-12-20T05:54:23.316845Z"
    }
   },
   "outputs": [
    {
     "data": {
      "text/plain": [
       "accuracy_array              3046963\n",
       "ad_avg_tries                3046963\n",
       "ad_duration                 3046963\n",
       "ad_link                     3046963\n",
       "ad_name                     3046963\n",
       "ad_script                   3046963\n",
       "ad_title                    3046963\n",
       "average_accuracy_by_ad      3046963\n",
       "average_accuracy_by_user    3046963\n",
       "birth_year                  3013743\n",
       "collection                  3046963\n",
       "created_timestamp_array     3046963\n",
       "excepted_age_array          3046963\n",
       "first_created_date          3046963\n",
       "first_timestamp             3046963\n",
       "gender                      3034218\n",
       "is_passed                   3046963\n",
       "job                         2414312\n",
       "language                    3013743\n",
       "level                       3046963\n",
       "local_code                  3034218\n",
       "participant_count           3046963\n",
       "pass_rate_by_ad             3046963\n",
       "pass_rate_by_user           3046963\n",
       "perfect                     3008724\n",
       "stt_text_array              3046963\n",
       "text_length                 3046963\n",
       "try_count                   3046963\n",
       "user_avg_tries              3046963\n",
       "user_id                     3046963\n",
       "voice_id                    3046963\n",
       "dtype: int64"
      ]
     },
     "execution_count": 31,
     "metadata": {},
     "output_type": "execute_result"
    }
   ],
   "source": [
    "august_df.count()"
   ]
  },
  {
   "cell_type": "code",
   "execution_count": 35,
   "id": "e9b2b763-16af-45e3-bd55-2c219f59f475",
   "metadata": {
    "execution": {
     "iopub.execute_input": "2023-12-20T05:58:54.216989Z",
     "iopub.status.busy": "2023-12-20T05:58:54.216989Z",
     "iopub.status.idle": "2023-12-20T05:58:54.642498Z",
     "shell.execute_reply": "2023-12-20T05:58:54.642422Z",
     "shell.execute_reply.started": "2023-12-20T05:58:54.216989Z"
    }
   },
   "outputs": [
    {
     "name": "stdout",
     "output_type": "stream",
     "text": [
      "고유한 user_id의 개수: 10385\n"
     ]
    }
   ],
   "source": [
    "unique_user_count = august_df['user_id'].nunique()\n",
    "print(\"고유한 user_id의 개수:\", unique_user_count)"
   ]
  },
  {
   "cell_type": "code",
   "execution_count": 32,
   "id": "d48f623f-a7b6-4a4b-a17a-cdcbd74f4610",
   "metadata": {
    "execution": {
     "iopub.execute_input": "2023-12-20T05:54:42.443725Z",
     "iopub.status.busy": "2023-12-20T05:54:42.443725Z",
     "iopub.status.idle": "2023-12-20T05:55:08.632678Z",
     "shell.execute_reply": "2023-12-20T05:55:08.632591Z",
     "shell.execute_reply.started": "2023-12-20T05:54:42.443725Z"
    }
   },
   "outputs": [
    {
     "data": {
      "text/plain": [
       "accuracy_array              3224269\n",
       "ad_avg_tries                3224269\n",
       "ad_duration                 3224269\n",
       "ad_link                     3224269\n",
       "ad_name                     3224269\n",
       "ad_script                   3224269\n",
       "ad_title                    3224269\n",
       "average_accuracy_by_ad      3224269\n",
       "average_accuracy_by_user    3224269\n",
       "birth_year                  3201233\n",
       "collection                  3224269\n",
       "created_timestamp_array     3224269\n",
       "excepted_age_array          3224269\n",
       "first_created_date          3224269\n",
       "first_timestamp             3224269\n",
       "gender                      3221630\n",
       "is_passed                   3224269\n",
       "job                         2007092\n",
       "language                    3201233\n",
       "level                       3224269\n",
       "local_code                  3221630\n",
       "participant_count           3207561\n",
       "pass_rate_by_ad             3224269\n",
       "pass_rate_by_user           3224269\n",
       "perfect                     3199712\n",
       "stt_text_array              3224269\n",
       "text_length                 3224269\n",
       "try_count                   3224269\n",
       "user_avg_tries              3224269\n",
       "user_id                     3224269\n",
       "voice_id                    3224269\n",
       "dtype: int64"
      ]
     },
     "execution_count": 32,
     "metadata": {},
     "output_type": "execute_result"
    }
   ],
   "source": [
    "september_df.count()"
   ]
  },
  {
   "cell_type": "code",
   "execution_count": 36,
   "id": "ad359f0b-3082-4f80-a088-f68c729ea510",
   "metadata": {
    "execution": {
     "iopub.execute_input": "2023-12-20T05:59:18.711201Z",
     "iopub.status.busy": "2023-12-20T05:59:18.711201Z",
     "iopub.status.idle": "2023-12-20T05:59:19.125794Z",
     "shell.execute_reply": "2023-12-20T05:59:19.125794Z",
     "shell.execute_reply.started": "2023-12-20T05:59:18.711201Z"
    }
   },
   "outputs": [
    {
     "name": "stdout",
     "output_type": "stream",
     "text": [
      "고유한 user_id의 개수: 9859\n"
     ]
    }
   ],
   "source": [
    "unique_user_count = september_df['user_id'].nunique()\n",
    "print(\"고유한 user_id의 개수:\", unique_user_count)"
   ]
  },
  {
   "cell_type": "code",
   "execution_count": 33,
   "id": "315724c2-ccbd-4bb6-9458-823899a5818f",
   "metadata": {
    "execution": {
     "iopub.execute_input": "2023-12-20T05:55:08.634678Z",
     "iopub.status.busy": "2023-12-20T05:55:08.633678Z",
     "iopub.status.idle": "2023-12-20T05:55:51.210242Z",
     "shell.execute_reply": "2023-12-20T05:55:51.210242Z",
     "shell.execute_reply.started": "2023-12-20T05:55:08.634678Z"
    }
   },
   "outputs": [
    {
     "data": {
      "text/plain": [
       "accuracy_array              3205254\n",
       "ad_avg_tries                3205254\n",
       "ad_duration                 3205254\n",
       "ad_link                     3205254\n",
       "ad_name                     3205254\n",
       "ad_script                   3205254\n",
       "ad_title                    3205254\n",
       "average_accuracy_by_ad      3205254\n",
       "average_accuracy_by_user    3205254\n",
       "birth_year                  3188101\n",
       "collection                  3205254\n",
       "created_timestamp_array     3205254\n",
       "excepted_age_array          3205254\n",
       "first_created_date          3205254\n",
       "first_timestamp             3205254\n",
       "gender                      3200336\n",
       "is_passed                   3205254\n",
       "job                         1627253\n",
       "language                    3188101\n",
       "level                       3205254\n",
       "local_code                  3200336\n",
       "participant_count           3185224\n",
       "pass_rate_by_ad             3205254\n",
       "pass_rate_by_user           3205254\n",
       "perfect                     3186194\n",
       "stt_text_array              3205254\n",
       "text_length                 3205254\n",
       "try_count                   3205254\n",
       "user_avg_tries              3205254\n",
       "user_id                     3205254\n",
       "voice_id                    3205254\n",
       "dtype: int64"
      ]
     },
     "execution_count": 33,
     "metadata": {},
     "output_type": "execute_result"
    }
   ],
   "source": [
    "october_df.count()"
   ]
  },
  {
   "cell_type": "code",
   "execution_count": 37,
   "id": "63408933-21e7-44a4-9cf5-7629da547279",
   "metadata": {
    "execution": {
     "iopub.execute_input": "2023-12-20T05:59:21.149631Z",
     "iopub.status.busy": "2023-12-20T05:59:21.149631Z",
     "iopub.status.idle": "2023-12-20T05:59:21.553086Z",
     "shell.execute_reply": "2023-12-20T05:59:21.553086Z",
     "shell.execute_reply.started": "2023-12-20T05:59:21.149631Z"
    }
   },
   "outputs": [
    {
     "name": "stdout",
     "output_type": "stream",
     "text": [
      "고유한 user_id의 개수: 11009\n"
     ]
    }
   ],
   "source": [
    "unique_user_count = october_df['user_id'].nunique()\n",
    "print(\"고유한 user_id의 개수:\", unique_user_count)"
   ]
  },
  {
   "cell_type": "code",
   "execution_count": null,
   "id": "b2031d90-f880-4cc5-a4b3-1c99a591c58b",
   "metadata": {},
   "outputs": [],
   "source": []
  },
  {
   "cell_type": "code",
   "execution_count": 10,
   "id": "bf97566a-71b6-4595-a965-cc63e4080d16",
   "metadata": {
    "execution": {
     "iopub.execute_input": "2023-12-20T01:54:56.994083Z",
     "iopub.status.busy": "2023-12-20T01:54:56.994083Z",
     "iopub.status.idle": "2023-12-20T01:54:57.032374Z",
     "shell.execute_reply": "2023-12-20T01:54:57.031374Z",
     "shell.execute_reply.started": "2023-12-20T01:54:56.994083Z"
    }
   },
   "outputs": [],
   "source": [
    "def save_df_to_json(df, base_path, month):\n",
    "    # 파일 경로 설정\n",
    "    folder_path = os.path.join(base_path, month.upper(), \"AMR\", \"라벨링데이터\")\n",
    "\n",
    "    # 폴더가 존재하지 않으면 생성\n",
    "    if not os.path.exists(folder_path):\n",
    "        os.makedirs(folder_path)\n",
    "\n",
    "    # 5000행 단위로 분할\n",
    "    num_splits = math.ceil(len(df) / 5000)\n",
    "    \n",
    "    for i in range(num_splits):\n",
    "        # 분할된 데이터 프레임\n",
    "        split_df = df.iloc[i*5000 : (i+1)*5000]\n",
    "\n",
    "        # JSON 파일로 저장\n",
    "        file_name = f\"{month}_part_{i+1}.json\"\n",
    "        file_path = os.path.join(folder_path, file_name)\n",
    "        split_df.to_json(file_path, orient='records', force_ascii=False, lines=True)\n"
   ]
  },
  {
   "cell_type": "code",
   "execution_count": 11,
   "id": "07193c2d-4d95-4496-b414-f58bdae09775",
   "metadata": {
    "execution": {
     "iopub.execute_input": "2023-12-20T01:32:29.439960Z",
     "iopub.status.busy": "2023-12-20T01:32:29.438961Z",
     "iopub.status.idle": "2023-12-20T01:34:32.658534Z",
     "shell.execute_reply": "2023-12-20T01:34:32.658534Z",
     "shell.execute_reply.started": "2023-12-20T01:32:29.439960Z"
    }
   },
   "outputs": [],
   "source": [
    "save_df_to_json(july_df, 'E:\\\\monthly_ETRI_VOWING_VOICE_DATASET_7_to_10', 'JULY')"
   ]
  },
  {
   "cell_type": "code",
   "execution_count": 11,
   "id": "3c74478a-1cad-4543-9602-2d88a7234b86",
   "metadata": {
    "execution": {
     "iopub.execute_input": "2023-12-20T01:55:01.606009Z",
     "iopub.status.busy": "2023-12-20T01:55:01.606009Z",
     "iopub.status.idle": "2023-12-20T01:56:30.483760Z",
     "shell.execute_reply": "2023-12-20T01:56:30.481183Z",
     "shell.execute_reply.started": "2023-12-20T01:55:01.606009Z"
    }
   },
   "outputs": [],
   "source": [
    "save_df_to_json(august_df, 'E:\\\\monthly_ETRI_VOWING_VOICE_DATASET_7_to_10', 'AUGUST')"
   ]
  },
  {
   "cell_type": "code",
   "execution_count": 12,
   "id": "58197678-351c-4484-89fa-a71e99850266",
   "metadata": {
    "execution": {
     "iopub.execute_input": "2023-12-20T01:57:37.492210Z",
     "iopub.status.busy": "2023-12-20T01:57:37.490836Z",
     "iopub.status.idle": "2023-12-20T01:58:47.230505Z",
     "shell.execute_reply": "2023-12-20T01:58:47.229505Z",
     "shell.execute_reply.started": "2023-12-20T01:57:37.492210Z"
    }
   },
   "outputs": [],
   "source": [
    "save_df_to_json(september_df, 'E:\\\\monthly_ETRI_VOWING_VOICE_DATASET_7_to_10', 'SEPTEMBER')"
   ]
  },
  {
   "cell_type": "code",
   "execution_count": 13,
   "id": "f7ada7fb-0324-4907-a06c-95f30f007237",
   "metadata": {
    "execution": {
     "iopub.execute_input": "2023-12-20T01:58:51.106355Z",
     "iopub.status.busy": "2023-12-20T01:58:51.106355Z",
     "iopub.status.idle": "2023-12-20T02:00:12.029297Z",
     "shell.execute_reply": "2023-12-20T02:00:12.024819Z",
     "shell.execute_reply.started": "2023-12-20T01:58:51.106355Z"
    }
   },
   "outputs": [],
   "source": [
    "save_df_to_json(october_df, 'E:\\\\monthly_ETRI_VOWING_VOICE_DATASET_7_to_10', 'OCTOBER')"
   ]
  },
  {
   "cell_type": "code",
   "execution_count": null,
   "id": "cdec6b0c-4cc0-402e-bd39-baae9eceb712",
   "metadata": {},
   "outputs": [],
   "source": []
  },
  {
   "cell_type": "code",
   "execution_count": null,
   "id": "1b9ec432-49cf-47c8-84cb-435782c43957",
   "metadata": {},
   "outputs": [],
   "source": []
  }
 ],
 "metadata": {
  "kernelspec": {
   "display_name": "Python 3 (ipykernel)",
   "language": "python",
   "name": "python3"
  },
  "language_info": {
   "codemirror_mode": {
    "name": "ipython",
    "version": 3
   },
   "file_extension": ".py",
   "mimetype": "text/x-python",
   "name": "python",
   "nbconvert_exporter": "python",
   "pygments_lexer": "ipython3",
   "version": "3.10.12"
  }
 },
 "nbformat": 4,
 "nbformat_minor": 5
}
