{
 "cells": [
  {
   "cell_type": "markdown",
   "id": "b9b38575",
   "metadata": {},
   "source": [
    "# 'sample_voice_metadata_230918'을 분석하는 코드\n",
    "보윙의 음성데이터에 대해서 알리고 홍보하는 문서를 작성하기 위함"
   ]
  },
  {
   "cell_type": "code",
   "execution_count": 1,
   "id": "139be436",
   "metadata": {
    "ExecuteTime": {
     "end_time": "2023-09-22T00:44:48.831606Z",
     "start_time": "2023-09-22T00:44:48.283519Z"
    }
   },
   "outputs": [],
   "source": [
    "import pandas as pd\n",
    "import numpy as np\n",
    "\n",
    "import pyarrow.parquet as pq\n",
    "\n",
    "from pyspark import SparkContext\n",
    "from pyspark.sql import SparkSession\n",
    "from pyspark.sql import functions as F\n",
    "from pyspark.sql import types as T\n",
    "from pyspark.sql import Window\n",
    "from pyspark.sql.functions import col, isnull, count, when, substring, coalesce, from_json, size, avg, expr, concat_ws\n",
    "from pyspark.sql.types import ArrayType, StringType, StructType, StructField, DoubleType, IntegerType\n",
    "from functools import reduce"
   ]
  },
  {
   "cell_type": "code",
   "execution_count": 2,
   "id": "e70743eb",
   "metadata": {
    "ExecuteTime": {
     "end_time": "2023-09-22T00:44:51.724759Z",
     "start_time": "2023-09-22T00:44:48.834606Z"
    }
   },
   "outputs": [],
   "source": [
    "# 가상 환경의 Python 경로를 지정\n",
    "python_path = \"C:/Users/admin/anaconda3/envs/my_conda_01/python.exe\"\n",
    "\n",
    "# Spark 세션 생성\n",
    "spark = SparkSession.builder \\\n",
    "    .appName(\"voice_metadata integrating operation\") \\\n",
    "    .config(\"spark.driver.memory\", \"5g\") \\\n",
    "    .config(\"spark.executor.memory\", \"5g\") \\\n",
    "    .config(\"spark.driver.maxResultSize\", \"3g\") \\\n",
    "    .config(\"spark.pyspark.python\", python_path) \\\n",
    "    .config(\"spark.local.dir\", \"D:/spark_tmp\") \\\n",
    "    .getOrCreate()\n",
    "\n",
    "# SparkContext 가져오기\n",
    "sc = spark.sparkContext"
   ]
  },
  {
   "cell_type": "code",
   "execution_count": 3,
   "id": "67a74867",
   "metadata": {
    "ExecuteTime": {
     "end_time": "2023-09-22T00:44:52.251878Z",
     "start_time": "2023-09-22T00:44:51.725758Z"
    }
   },
   "outputs": [
    {
     "name": "stdout",
     "output_type": "stream",
     "text": [
      "Spark local directory: D:/spark_tmp\n"
     ]
    }
   ],
   "source": [
    "# Spark 중간 파일이 저장되는 경로 확인\n",
    "current_spark_local_dir = spark.conf.get(\"spark.local.dir\", \"Not Set\")\n",
    "print(\"Spark local directory:\", current_spark_local_dir)"
   ]
  },
  {
   "cell_type": "code",
   "execution_count": 4,
   "id": "1fd426a9",
   "metadata": {
    "ExecuteTime": {
     "end_time": "2023-09-22T00:44:54.119769Z",
     "start_time": "2023-09-22T00:44:52.253879Z"
    }
   },
   "outputs": [],
   "source": [
    "# Parquet 파일의 경로\n",
    "file_path = 'D:\\\\DATA_PREPROCESS\\\\FIRESTORE_DATAS\\\\sample_voice_metadata_230918\\\\public_sample_voice_metadata_230920.parquet'\n",
    "\n",
    "# Parquet 파일을 읽어서 DataFrame에 저장\n",
    "df = pd.read_parquet(file_path, engine='pyarrow')\n",
    "spark_df = spark.read.parquet(file_path)"
   ]
  },
  {
   "cell_type": "code",
   "execution_count": 5,
   "id": "83111d10",
   "metadata": {
    "ExecuteTime": {
     "end_time": "2023-09-22T00:44:54.135124Z",
     "start_time": "2023-09-22T00:44:54.121771Z"
    }
   },
   "outputs": [],
   "source": [
    "# 원본 Parquet 파일에서 데이터 스키마 정보 출력\n",
    "\n",
    "parquet_file = pq.ParquetFile(file_path)\n",
    "schema = parquet_file.schema"
   ]
  },
  {
   "cell_type": "code",
   "execution_count": 13,
   "id": "2befbd03",
   "metadata": {
    "ExecuteTime": {
     "end_time": "2023-09-22T00:50:52.640902Z",
     "start_time": "2023-09-22T00:50:52.631900Z"
    }
   },
   "outputs": [
    {
     "name": "stdout",
     "output_type": "stream",
     "text": [
      "root\n",
      " |-- ad_name: string (nullable = true)\n",
      " |-- attend: string (nullable = true)\n",
      " |-- is_passed: string (nullable = true)\n",
      " |-- ad_script: string (nullable = true)\n",
      " |-- ad_title: string (nullable = true)\n",
      " |-- birth_year: string (nullable = true)\n",
      " |-- local_code: string (nullable = true)\n",
      " |-- is_test: long (nullable = true)\n",
      " |-- gender: string (nullable = true)\n",
      " |-- job: string (nullable = true)\n",
      " |-- language: string (nullable = true)\n",
      " |-- perfect: double (nullable = true)\n",
      " |-- excepted_age_array: string (nullable = true)\n",
      " |-- collection: string (nullable = true)\n",
      " |-- ad_duration: string (nullable = true)\n",
      " |-- level: string (nullable = true)\n",
      " |-- ad_link: string (nullable = true)\n",
      " |-- participant_count: long (nullable = true)\n",
      " |-- accuracy_array: string (nullable = true)\n",
      " |-- stt_text_array: string (nullable = true)\n",
      " |-- created_timestamp_array: string (nullable = true)\n",
      " |-- average_accuracy_by_ad: double (nullable = true)\n",
      " |-- average_accuracy_by_user: double (nullable = true)\n",
      " |-- pass_rate_by_user: double (nullable = true)\n",
      " |-- pass_rate_by_ad: double (nullable = true)\n",
      " |-- text_length: long (nullable = true)\n",
      " |-- try_count: long (nullable = true)\n",
      " |-- user_avg_tries: double (nullable = true)\n",
      " |-- ad_avg_tries: double (nullable = true)\n",
      " |-- public_uid: string (nullable = true)\n",
      " |-- video_id: string (nullable = true)\n",
      "\n"
     ]
    }
   ],
   "source": [
    "spark_df.printSchema()"
   ]
  },
  {
   "cell_type": "code",
   "execution_count": 7,
   "id": "46466d22",
   "metadata": {
    "ExecuteTime": {
     "end_time": "2023-09-22T00:44:55.078338Z",
     "start_time": "2023-09-22T00:44:54.169134Z"
    }
   },
   "outputs": [
    {
     "data": {
      "text/plain": [
       "10000"
      ]
     },
     "execution_count": 7,
     "metadata": {},
     "output_type": "execute_result"
    }
   ],
   "source": [
    "spark_df.count()"
   ]
  },
  {
   "cell_type": "markdown",
   "id": "6587e4cf",
   "metadata": {},
   "source": [
    "# Spark DataFrame의 스키마를 변경"
   ]
  },
  {
   "cell_type": "code",
   "execution_count": 14,
   "id": "734fd733",
   "metadata": {
    "ExecuteTime": {
     "end_time": "2023-09-22T00:51:02.967343Z",
     "start_time": "2023-09-22T00:51:02.950919Z"
    }
   },
   "outputs": [],
   "source": [
    "# # 기존 스키마를 가져옵니다.\n",
    "# old_schema = spark_df.schema\n",
    "\n",
    "# # 새로운 스키마를 만듭니다.\n",
    "# new_fields = []\n",
    "# for field in old_schema.fields:\n",
    "#     if field.name in ['ad_name', 'public_uid', 'accuracy_array', 'video_id']:\n",
    "#         new_field = StructField(field.name, field.dataType, nullable=False)\n",
    "#     else:\n",
    "#         new_field = field\n",
    "#     new_fields.append(new_field)\n",
    "# new_schema = StructType(fields=new_fields)\n",
    "\n",
    "# # 새로운 스키마를 적용합니다.\n",
    "# new_spark_df = spark.createDataFrame(spark_df.rdd.map(lambda row: row), schema=new_schema)\n",
    "\n",
    "# new_spark_df.printSchema()"
   ]
  },
  {
   "cell_type": "code",
   "execution_count": 12,
   "id": "1f0bda5e",
   "metadata": {
    "ExecuteTime": {
     "end_time": "2023-09-22T00:50:25.423585Z",
     "start_time": "2023-09-22T00:50:25.405879Z"
    }
   },
   "outputs": [],
   "source": [
    "# # Parquet 형식으로 저장합니다.\n",
    "# new_spark_df.write.parquet('D:\\\\DATA_PREPROCESS\\\\FIRESTORE_DATAS\\\\sample_voice_metadata_230918\\\\the_new')\n",
    "\n",
    "# new_path = 'D:\\\\DATA_PREPROCESS\\\\FIRESTORE_DATAS\\\\sample_voice_metadata_230918\\\\the_new\\\\part-00000-0ef7dd07-2178-4775-b8a9-534865cb62c4-c000.snappy.parquet'\n",
    "# new_df = spark.read.parquet(new_path)\n",
    "# new_df.printSchema()"
   ]
  },
  {
   "cell_type": "markdown",
   "id": "15a61574",
   "metadata": {},
   "source": [
    "nullable 스키마 적용을 spark df를 통해 하는 건 까다롭고 복잡하거나 반복적이라고 한다  \n",
    "일단 skip"
   ]
  },
  {
   "cell_type": "markdown",
   "id": "9f661b1c",
   "metadata": {},
   "source": [
    "# "
   ]
  }
 ],
 "metadata": {
  "kernelspec": {
   "display_name": "Python 3 (ipykernel)",
   "language": "python",
   "name": "python3"
  },
  "language_info": {
   "codemirror_mode": {
    "name": "ipython",
    "version": 3
   },
   "file_extension": ".py",
   "mimetype": "text/x-python",
   "name": "python",
   "nbconvert_exporter": "python",
   "pygments_lexer": "ipython3",
   "version": "3.10.12"
  },
  "toc": {
   "base_numbering": 1,
   "nav_menu": {},
   "number_sections": true,
   "sideBar": true,
   "skip_h1_title": false,
   "title_cell": "Table of Contents",
   "title_sidebar": "Contents",
   "toc_cell": false,
   "toc_position": {},
   "toc_section_display": true,
   "toc_window_display": false
  },
  "varInspector": {
   "cols": {
    "lenName": 16,
    "lenType": 16,
    "lenVar": 40
   },
   "kernels_config": {
    "python": {
     "delete_cmd_postfix": "",
     "delete_cmd_prefix": "del ",
     "library": "var_list.py",
     "varRefreshCmd": "print(var_dic_list())"
    },
    "r": {
     "delete_cmd_postfix": ") ",
     "delete_cmd_prefix": "rm(",
     "library": "var_list.r",
     "varRefreshCmd": "cat(var_dic_list()) "
    }
   },
   "types_to_exclude": [
    "module",
    "function",
    "builtin_function_or_method",
    "instance",
    "_Feature"
   ],
   "window_display": false
  }
 },
 "nbformat": 4,
 "nbformat_minor": 5
}
