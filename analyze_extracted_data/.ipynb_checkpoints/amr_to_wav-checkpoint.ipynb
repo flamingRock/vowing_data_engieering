{
 "cells": [
  {
   "cell_type": "code",
   "execution_count": 6,
   "id": "0d84a4c1-7983-475f-849f-cd18d5a27950",
   "metadata": {
    "execution": {
     "iopub.execute_input": "2023-12-21T08:32:37.695149Z",
     "iopub.status.busy": "2023-12-21T08:32:37.695149Z",
     "iopub.status.idle": "2023-12-21T08:32:38.393991Z",
     "shell.execute_reply": "2023-12-21T08:32:38.393991Z",
     "shell.execute_reply.started": "2023-12-21T08:32:37.695149Z"
    }
   },
   "outputs": [
    {
     "name": "stdout",
     "output_type": "stream",
     "text": [
      "변환완료\n"
     ]
    }
   ],
   "source": [
    "import os\n",
    "import shutil\n",
    "import subprocess\n",
    "\n",
    "input_folder = \"C:/Users/admin/Desktop/폴더\"\n",
    "output_folder = \"C:/Users/admin/Desktop/폴더\"\n",
    "\n",
    "def process_directory(directory, output_directory):\n",
    "    for file_name in os.listdir(directory):\n",
    "        input_file_path = os.path.join(directory, file_name)\n",
    "        output_file_path = os.path.join(output_directory, file_name)\n",
    "\n",
    "        # 하위 폴더 처리\n",
    "        if os.path.isdir(input_file_path):\n",
    "            os.makedirs(output_file_path, exist_ok=True)\n",
    "            process_directory(input_file_path, output_file_path)\n",
    "        else:\n",
    "            if file_name.lower().endswith('.txt'):\n",
    "                # .txt 파일은 복사합니다.\n",
    "                shutil.copy(input_file_path, output_file_path)\n",
    "            else:\n",
    "                # FFmpeg를 사용하여 AMR 파일을 .wav 형식으로 변환합니다.\n",
    "                output_file_path = os.path.join(output_directory, file_name + \".wav\")\n",
    "                command = f'ffmpeg -i \"{input_file_path}\" \"{output_file_path}\"'\n",
    "                subprocess.call(command, shell=True)\n",
    "\n",
    "# 상대 경로를 절대 경로로 변환합니다.\n",
    "input_folder_abs = os.path.abspath(input_folder)\n",
    "output_folder_abs = os.path.abspath(output_folder)\n",
    "\n",
    "process_directory(input_folder_abs, output_folder_abs)\n",
    "\n",
    "print(\"변환완료\")"
   ]
  },
  {
   "cell_type": "code",
   "execution_count": null,
   "id": "aa251367-b324-4c96-bfe4-32405def4276",
   "metadata": {},
   "outputs": [],
   "source": []
  }
 ],
 "metadata": {
  "kernelspec": {
   "display_name": "Python 3 (ipykernel)",
   "language": "python",
   "name": "python3"
  },
  "language_info": {
   "codemirror_mode": {
    "name": "ipython",
    "version": 3
   },
   "file_extension": ".py",
   "mimetype": "text/x-python",
   "name": "python",
   "nbconvert_exporter": "python",
   "pygments_lexer": "ipython3",
   "version": "3.10.12"
  }
 },
 "nbformat": 4,
 "nbformat_minor": 5
}
