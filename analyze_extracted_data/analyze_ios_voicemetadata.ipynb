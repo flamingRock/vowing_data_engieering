{
 "cells": [
  {
   "cell_type": "code",
   "execution_count": 1,
   "id": "e140d5df-a634-4eb0-b052-1820ec431881",
   "metadata": {
    "execution": {
     "iopub.execute_input": "2023-12-07T03:59:51.637194Z",
     "iopub.status.busy": "2023-12-07T03:59:51.637194Z",
     "iopub.status.idle": "2023-12-07T03:59:52.611506Z",
     "shell.execute_reply": "2023-12-07T03:59:52.611506Z",
     "shell.execute_reply.started": "2023-12-07T03:59:51.637194Z"
    }
   },
   "outputs": [],
   "source": [
    "import os\n",
    "import pandas as pd\n",
    "import numpy as np\n",
    "import matplotlib.pyplot as plt\n",
    "import re # 정규식 사용을 위한 모듈\n",
    "# from scipy.stats import gaussian_kde\n",
    "\n",
    "import pyarrow.parquet as pq\n",
    "\n",
    "from pyspark import SparkContext\n",
    "from pyspark.sql import SparkSession\n",
    "from pyspark.sql import functions as F\n",
    "from pyspark.sql import types as T\n",
    "from pyspark.sql import Window\n",
    "from pyspark.sql.functions import row_number, rand, broadcast, element_at, regexp_extract, udf, col, isnull, count, when, substring, coalesce, from_json, size, avg, expr, concat_ws\n",
    "from pyspark.sql.types import ArrayType, StringType, StructType, StructField, DoubleType, IntegerType, FloatType\n",
    "\n",
    "from functools import reduce\n",
    "from matplotlib.ticker import FuncFormatter\n",
    "from collections import Counter\n",
    "from datetime import datetime"
   ]
  },
  {
   "cell_type": "code",
   "execution_count": 2,
   "id": "651e5969-8684-4eee-9320-43e3de1de5e1",
   "metadata": {
    "execution": {
     "iopub.execute_input": "2023-12-07T03:59:53.831977Z",
     "iopub.status.busy": "2023-12-07T03:59:53.831977Z",
     "iopub.status.idle": "2023-12-07T03:59:57.398274Z",
     "shell.execute_reply": "2023-12-07T03:59:57.398274Z",
     "shell.execute_reply.started": "2023-12-07T03:59:53.831977Z"
    }
   },
   "outputs": [
    {
     "name": "stdout",
     "output_type": "stream",
     "text": [
      "Spark local directory: D:/spark_tmp\n"
     ]
    }
   ],
   "source": [
    "# 가상 환경의 Python 경로를 지정\n",
    "python_path = \"C:/Users/admin/anaconda3/envs/my_conda_01/python.exe\"\n",
    "\n",
    "# Spark 세션 생성\n",
    "spark = SparkSession.builder \\\n",
    "    .appName(\"analyze ios voicemetadata operation\") \\\n",
    "    .config(\"spark.driver.memory\", \"9g\") \\\n",
    "    .config(\"spark.executor.memory\", \"9g\") \\\n",
    "    .config(\"spark.driver.maxResultSize\", \"5g\") \\\n",
    "    .config(\"spark.pyspark.python\", python_path) \\\n",
    "    .config(\"spark.local.dir\", \"D:/spark_tmp\") \\\n",
    "    .getOrCreate()\n",
    "\n",
    "# SparkContext 가져오기\n",
    "sc = spark.sparkContext\n",
    "\n",
    "# Spark 중간 파일이 저장되는 경로 확인\n",
    "current_spark_local_dir = spark.conf.get(\"spark.local.dir\", \"Not Set\")\n",
    "print(\"Spark local directory:\", current_spark_local_dir)"
   ]
  },
  {
   "cell_type": "markdown",
   "id": "949a85f0-3cc8-45bb-ba5a-77a6877aae29",
   "metadata": {},
   "source": [
    "# 대상 파일"
   ]
  },
  {
   "cell_type": "markdown",
   "id": "8b749fe8-2472-44ec-84f2-3bc3ed1d3521",
   "metadata": {},
   "source": [
    "## 231127 ios 통합 라벨링 데이터"
   ]
  },
  {
   "cell_type": "code",
   "execution_count": 3,
   "id": "be65ae0f-fcf6-41d7-9b0e-ed6afc50282f",
   "metadata": {
    "execution": {
     "iopub.execute_input": "2023-12-07T03:59:59.048203Z",
     "iopub.status.busy": "2023-12-07T03:59:59.048203Z",
     "iopub.status.idle": "2023-12-07T04:00:03.497551Z",
     "shell.execute_reply": "2023-12-07T04:00:03.497551Z",
     "shell.execute_reply.started": "2023-12-07T03:59:59.048203Z"
    }
   },
   "outputs": [],
   "source": [
    "ios_point_path = \"D:\\\\DATA_PREPROCESS\\\\iOS_DATAS\\\\ios_VOICE_DATA_FROM_7_TO_10\\\\labelling_data_from_7_to_10\\\\labelling_point.json\\\\*.json\"\n",
    "ios_memor_path = \"D:\\\\DATA_PREPROCESS\\\\iOS_DATAS\\\\ios_VOICE_DATA_FROM_7_TO_10\\\\labelling_data_from_7_to_10\\\\labelling_memor.json\\\\*.json\"\n",
    "\n",
    "ios_point_df = spark.read.json(ios_point_path)\n",
    "ios_memor_df = spark.read.json(ios_memor_path)"
   ]
  },
  {
   "cell_type": "code",
   "execution_count": 5,
   "id": "1737c060-50b5-4254-ad0b-ea5ee258467a",
   "metadata": {
    "execution": {
     "iopub.execute_input": "2023-12-07T04:00:22.174304Z",
     "iopub.status.busy": "2023-12-07T04:00:22.174304Z",
     "iopub.status.idle": "2023-12-07T04:00:23.354719Z",
     "shell.execute_reply": "2023-12-07T04:00:23.354719Z",
     "shell.execute_reply.started": "2023-12-07T04:00:22.174304Z"
    }
   },
   "outputs": [
    {
     "name": "stdout",
     "output_type": "stream",
     "text": [
      "113714\n",
      "907406\n"
     ]
    }
   ],
   "source": [
    "print(ios_point_df.count())\n",
    "print(ios_memor_df.count())"
   ]
  },
  {
   "cell_type": "code",
   "execution_count": 6,
   "id": "c89c0377-2ecd-4de3-9f00-ecaa7effbd60",
   "metadata": {
    "execution": {
     "iopub.execute_input": "2023-12-07T04:51:10.762915Z",
     "iopub.status.busy": "2023-12-07T04:51:10.762915Z",
     "iopub.status.idle": "2023-12-07T04:51:11.387449Z",
     "shell.execute_reply": "2023-12-07T04:51:11.387449Z",
     "shell.execute_reply.started": "2023-12-07T04:51:10.762915Z"
    }
   },
   "outputs": [
    {
     "name": "stdout",
     "output_type": "stream",
     "text": [
      "1021120\n"
     ]
    }
   ],
   "source": [
    "print(ios_point_df.count() + ios_memor_df.count())"
   ]
  },
  {
   "cell_type": "markdown",
   "id": "655e03cb-7296-4fd0-a441-10bef732718d",
   "metadata": {},
   "source": [
    "## iOS_암기플러스_231115.csv & iOS_DATAS\\\\iOS_포인트벌기_231115.csv"
   ]
  },
  {
   "cell_type": "code",
   "execution_count": 8,
   "id": "55e85a13-2c8c-4072-ad6c-7310ee77df71",
   "metadata": {
    "execution": {
     "iopub.execute_input": "2023-11-15T06:39:46.774618Z",
     "iopub.status.busy": "2023-11-15T06:39:46.774618Z",
     "iopub.status.idle": "2023-11-15T06:39:47.051283Z",
     "shell.execute_reply": "2023-11-15T06:39:47.050382Z",
     "shell.execute_reply.started": "2023-11-15T06:39:46.774618Z"
    }
   },
   "outputs": [],
   "source": [
    "# csv 파일의 경로\n",
    "memor_file_path = 'D:\\\\DATA_PREPROCESS\\\\iOS_DATAS\\\\iOS_암기플러스_231115.csv'  # 광고와 사용자정보가 join된 데이터\n",
    "point_file_path = 'D:\\\\DATA_PREPROCESS\\\\iOS_DATAS\\\\iOS_포인트벌기_231115.csv'  # 광고와 사용자정보가 join된 데이터\n",
    "\n",
    "# csv 파일을 읽어서 DataFrame에 저장\n",
    "memor_df = spark.read.csv(memor_file_path, header=True)\n",
    "point_df = spark.read.csv(point_file_path, header=True)"
   ]
  },
  {
   "cell_type": "markdown",
   "id": "c520744b-e570-4448-8524-d0ae309540c0",
   "metadata": {
    "execution": {
     "iopub.execute_input": "2023-12-07T01:54:07.118308Z",
     "iopub.status.busy": "2023-12-07T01:54:07.118308Z",
     "iopub.status.idle": "2023-12-07T01:54:07.128703Z",
     "shell.execute_reply": "2023-12-07T01:54:07.127767Z",
     "shell.execute_reply.started": "2023-12-07T01:54:07.118308Z"
    },
    "jp-MarkdownHeadingCollapsed": true
   },
   "source": [
    "# 유저, 광고별 5개씩 추출, 변형, 저장"
   ]
  },
  {
   "cell_type": "code",
   "execution_count": 9,
   "id": "652c7bb6-1871-427b-81eb-e1638076b7bf",
   "metadata": {
    "execution": {
     "iopub.execute_input": "2023-11-15T06:39:51.416775Z",
     "iopub.status.busy": "2023-11-15T06:39:51.416775Z",
     "iopub.status.idle": "2023-11-15T06:39:51.429746Z",
     "shell.execute_reply": "2023-11-15T06:39:51.429565Z",
     "shell.execute_reply.started": "2023-11-15T06:39:51.416775Z"
    },
    "scrolled": true
   },
   "outputs": [
    {
     "name": "stdout",
     "output_type": "stream",
     "text": [
      "root\n",
      " |-- _id0: string (nullable = true)\n",
      " |-- ad_id: string (nullable = true)\n",
      " |-- user_id: string (nullable = true)\n",
      " |-- audio_id: string (nullable = true)\n",
      " |-- recorded_text: string (nullable = true)\n",
      " |-- accuracy: string (nullable = true)\n",
      " |-- is_passed: string (nullable = true)\n",
      " |-- participation_type7: string (nullable = true)\n",
      " |-- participated_at: string (nullable = true)\n",
      " |-- _id9: string (nullable = true)\n",
      " |-- email: string (nullable = true)\n",
      " |-- password: string (nullable = true)\n",
      " |-- password_salt: string (nullable = true)\n",
      " |-- phone: string (nullable = true)\n",
      " |-- nickname: string (nullable = true)\n",
      " |-- account_name: string (nullable = true)\n",
      " |-- recommender_id: string (nullable = true)\n",
      " |-- birth: string (nullable = true)\n",
      " |-- gender: string (nullable = true)\n",
      " |-- type: string (nullable = true)\n",
      " |-- sign_in_method: string (nullable = true)\n",
      " |-- service_agreement_id: string (nullable = true)\n",
      " |-- privacy_agreement_id: string (nullable = true)\n",
      " |-- location_agreement_id: string (nullable = true)\n",
      " |-- commercial_notification_agreement_id: string (nullable = true)\n",
      " |-- status_flags25: string (nullable = true)\n",
      " |-- signed_up_at: string (nullable = true)\n",
      " |-- dormant_at: string (nullable = true)\n",
      " |-- withdrawn_at: string (nullable = true)\n",
      " |-- withdraw_cause_id: string (nullable = true)\n",
      " |-- _id30: string (nullable = true)\n",
      " |-- title: string (nullable = true)\n",
      " |-- description: string (nullable = true)\n",
      " |-- script: string (nullable = true)\n",
      " |-- external_url: string (nullable = true)\n",
      " |-- grading_message: string (nullable = true)\n",
      " |-- amount: string (nullable = true)\n",
      " |-- point: string (nullable = true)\n",
      " |-- point_additional_high_accuracy: string (nullable = true)\n",
      " |-- product_id: string (nullable = true)\n",
      " |-- participation_type40: string (nullable = true)\n",
      " |-- reward_type: string (nullable = true)\n",
      " |-- header_image_count: string (nullable = true)\n",
      " |-- description_image_count: string (nullable = true)\n",
      " |-- difficulty: string (nullable = true)\n",
      " |-- minimum_accuracy: string (nullable = true)\n",
      " |-- status_flags46: string (nullable = true)\n",
      " |-- created_at: string (nullable = true)\n",
      " |-- start_at: string (nullable = true)\n",
      " |-- end_at: string (nullable = true)\n",
      " |-- exposed_at: string (nullable = true)\n",
      " |-- announced_at: string (nullable = true)\n",
      "\n"
     ]
    }
   ],
   "source": [
    "point_df.printSchema()"
   ]
  },
  {
   "cell_type": "code",
   "execution_count": 11,
   "id": "18f4c18d-78e2-4088-800e-a46e6ca5a2cc",
   "metadata": {
    "execution": {
     "iopub.execute_input": "2023-11-15T06:41:05.185401Z",
     "iopub.status.busy": "2023-11-15T06:41:05.184404Z",
     "iopub.status.idle": "2023-11-15T06:41:05.198404Z",
     "shell.execute_reply": "2023-11-15T06:41:05.198404Z",
     "shell.execute_reply.started": "2023-11-15T06:41:05.185401Z"
    },
    "scrolled": true
   },
   "outputs": [
    {
     "name": "stdout",
     "output_type": "stream",
     "text": [
      "root\n",
      " |-- _id0: string (nullable = true)\n",
      " |-- m10n_id: string (nullable = true)\n",
      " |-- user_id: string (nullable = true)\n",
      " |-- audio_id: string (nullable = true)\n",
      " |-- recorded_text: string (nullable = true)\n",
      " |-- accuracy: string (nullable = true)\n",
      " |-- is_passed: string (nullable = true)\n",
      " |-- participated_at: string (nullable = true)\n",
      " |-- _id8: string (nullable = true)\n",
      " |-- email: string (nullable = true)\n",
      " |-- password: string (nullable = true)\n",
      " |-- password_salt: string (nullable = true)\n",
      " |-- phone: string (nullable = true)\n",
      " |-- nickname: string (nullable = true)\n",
      " |-- account_name: string (nullable = true)\n",
      " |-- recommender_id: string (nullable = true)\n",
      " |-- birth: string (nullable = true)\n",
      " |-- gender: string (nullable = true)\n",
      " |-- type: string (nullable = true)\n",
      " |-- sign_in_method: string (nullable = true)\n",
      " |-- service_agreement_id: string (nullable = true)\n",
      " |-- privacy_agreement_id: string (nullable = true)\n",
      " |-- location_agreement_id: string (nullable = true)\n",
      " |-- commercial_notification_agreement_id: string (nullable = true)\n",
      " |-- status_flags24: string (nullable = true)\n",
      " |-- signed_up_at: string (nullable = true)\n",
      " |-- dormant_at: string (nullable = true)\n",
      " |-- withdrawn_at: string (nullable = true)\n",
      " |-- withdraw_cause_id: string (nullable = true)\n",
      " |-- _id29: string (nullable = true)\n",
      " |-- title: string (nullable = true)\n",
      " |-- description: string (nullable = true)\n",
      " |-- script: string (nullable = true)\n",
      " |-- detail_url: string (nullable = true)\n",
      " |-- external_url: string (nullable = true)\n",
      " |-- grading_message: string (nullable = true)\n",
      " |-- amount: string (nullable = true)\n",
      " |-- point: string (nullable = true)\n",
      " |-- point_additional_high_accuracy: string (nullable = true)\n",
      " |-- header_image_count: string (nullable = true)\n",
      " |-- description_image_count: string (nullable = true)\n",
      " |-- difficulty: string (nullable = true)\n",
      " |-- minimum_accuracy: string (nullable = true)\n",
      " |-- status_flags43: string (nullable = true)\n",
      " |-- created_at: string (nullable = true)\n",
      " |-- start_at: string (nullable = true)\n",
      " |-- end_at: string (nullable = true)\n",
      " |-- exposed_at: string (nullable = true)\n",
      "\n"
     ]
    }
   ],
   "source": [
    "memor_df.printSchema()"
   ]
  },
  {
   "cell_type": "code",
   "execution_count": 13,
   "id": "03e5b670-2dfa-4c6a-832d-613909b84987",
   "metadata": {
    "execution": {
     "iopub.execute_input": "2023-11-15T06:49:51.561668Z",
     "iopub.status.busy": "2023-11-15T06:49:51.561668Z",
     "iopub.status.idle": "2023-11-15T06:49:53.639286Z",
     "shell.execute_reply": "2023-11-15T06:49:53.638286Z",
     "shell.execute_reply.started": "2023-11-15T06:49:51.561668Z"
    }
   },
   "outputs": [
    {
     "name": "stdout",
     "output_type": "stream",
     "text": [
      "point의 audio_id의 null 개수:792920, memor의 audio_id의 null 개수:0\n"
     ]
    }
   ],
   "source": [
    "null_count_point = point_df.filter(col(\"audio_id\").isNull()).count()\n",
    "null_count_memor = memor_df.filter(col(\"audio_id\").isNull()).count()\n",
    "print(f\"point의 audio_id의 null 개수:{null_count_point}, memor의 audio_id의 null 개수:{null_count_memor}\")"
   ]
  },
  {
   "cell_type": "code",
   "execution_count": 19,
   "id": "31c62795-1e0a-4a51-a673-68673ede1e8b",
   "metadata": {
    "execution": {
     "iopub.execute_input": "2023-11-15T07:51:16.868656Z",
     "iopub.status.busy": "2023-11-15T07:51:16.867655Z",
     "iopub.status.idle": "2023-11-15T07:51:16.904982Z",
     "shell.execute_reply": "2023-11-15T07:51:16.904982Z",
     "shell.execute_reply.started": "2023-11-15T07:51:16.868656Z"
    }
   },
   "outputs": [],
   "source": [
    "selected_point_df = point_df.select(\n",
    "    \"_id0\", \"ad_id\", \"user_id\", \"recorded_text\", \"accuracy\", \"is_passed\", \n",
    "    \"participation_type7\", \"participated_at\", \"birth\", \"gender\", \"type\", \n",
    "    \"title\", \"description\", \"script\", \"difficulty\", \"minimum_accuracy\", \n",
    "    \"created_at\", \"start_at\", \"end_at\", \"exposed_at\"\n",
    ")\n",
    "selected_memor_df = memor_df.select(\n",
    "    \"_id0\", \"m10n_id\", \"user_id\", \"recorded_text\", \"accuracy\", \"is_passed\", \n",
    "    \"participated_at\", \"birth\", \"gender\", \"type\", \n",
    "    \"title\", \"description\", \"script\", \"difficulty\", \"minimum_accuracy\", \n",
    "    \"created_at\", \"start_at\", \"end_at\", \"exposed_at\"\n",
    ")"
   ]
  },
  {
   "cell_type": "code",
   "execution_count": 21,
   "id": "a22a2da1-f8c5-49e4-bf38-ef8b0b994419",
   "metadata": {
    "execution": {
     "iopub.execute_input": "2023-11-15T07:57:44.865269Z",
     "iopub.status.busy": "2023-11-15T07:57:44.865269Z",
     "iopub.status.idle": "2023-11-15T07:57:44.880528Z",
     "shell.execute_reply": "2023-11-15T07:57:44.880528Z",
     "shell.execute_reply.started": "2023-11-15T07:57:44.865269Z"
    }
   },
   "outputs": [
    {
     "name": "stdout",
     "output_type": "stream",
     "text": [
      "root\n",
      " |-- _id0: string (nullable = true)\n",
      " |-- ad_id: string (nullable = true)\n",
      " |-- user_id: string (nullable = true)\n",
      " |-- recorded_text: string (nullable = true)\n",
      " |-- accuracy: string (nullable = true)\n",
      " |-- is_passed: string (nullable = true)\n",
      " |-- participation_type7: string (nullable = true)\n",
      " |-- participated_at: string (nullable = true)\n",
      " |-- birth: string (nullable = true)\n",
      " |-- gender: string (nullable = true)\n",
      " |-- type: string (nullable = true)\n",
      " |-- title: string (nullable = true)\n",
      " |-- description: string (nullable = true)\n",
      " |-- script: string (nullable = true)\n",
      " |-- difficulty: string (nullable = true)\n",
      " |-- minimum_accuracy: string (nullable = true)\n",
      " |-- created_at: string (nullable = true)\n",
      " |-- start_at: string (nullable = true)\n",
      " |-- end_at: string (nullable = true)\n",
      " |-- exposed_at: string (nullable = true)\n",
      "\n"
     ]
    }
   ],
   "source": [
    "selected_point_df.printSchema()"
   ]
  },
  {
   "cell_type": "code",
   "execution_count": 59,
   "id": "2ef808d6-245a-4e32-bbd9-0e6984fa73ba",
   "metadata": {
    "execution": {
     "iopub.execute_input": "2023-11-16T00:13:04.587998Z",
     "iopub.status.busy": "2023-11-16T00:13:04.587998Z",
     "iopub.status.idle": "2023-11-16T00:13:04.683257Z",
     "shell.execute_reply": "2023-11-16T00:13:04.683257Z",
     "shell.execute_reply.started": "2023-11-16T00:13:04.587998Z"
    }
   },
   "outputs": [],
   "source": [
    "# 광고 2개를 랜덤하게 선택\n",
    "point_ads = selected_point_df.select(\"ad_id\").distinct().sample(False, 0.1).limit(2)\n",
    "memor_ads = selected_memor_df.select(\"m10n_id\").distinct().sample(False, 0.1).limit(2)\n",
    "\n",
    "# 윈도우 정의: 각 광고 ID별로\n",
    "windowSpec = Window.partitionBy(\"ad_id\").orderBy(rand())\n",
    "\n",
    "# 각 광고별로 유저 5명을 랜덤하게 선택 (point_df)\n",
    "point_5users_df = selected_point_df.join(point_ads, \"ad_id\") \\\n",
    "                                   .withColumn(\"row_number\", row_number().over(windowSpec)) \\\n",
    "                                   .filter(col(\"row_number\") <= 5) \\\n",
    "                                   .drop(\"row_number\")\n",
    "\n",
    "# 윈도우 정의: 각 광고 ID별로\n",
    "windowSpec = Window.partitionBy(\"m10n_id\").orderBy(rand())\n",
    "\n",
    "# 각 광고별로 유저 5명을 랜덤하게 선택 (memor_df)\n",
    "memor_5users_df = selected_memor_df.join(memor_ads, \"m10n_id\") \\\n",
    "                                   .withColumn(\"row_number\", row_number().over(windowSpec)) \\\n",
    "                                   .filter(col(\"row_number\") <= 5) \\\n",
    "                                   .drop(\"row_number\")"
   ]
  },
  {
   "cell_type": "code",
   "execution_count": 68,
   "id": "675da549-6c3b-474b-9c41-746c847272d3",
   "metadata": {
    "execution": {
     "iopub.execute_input": "2023-11-16T00:26:58.444453Z",
     "iopub.status.busy": "2023-11-16T00:26:58.444453Z",
     "iopub.status.idle": "2023-11-16T00:27:01.121006Z",
     "shell.execute_reply": "2023-11-16T00:27:01.121006Z",
     "shell.execute_reply.started": "2023-11-16T00:26:58.444453Z"
    }
   },
   "outputs": [
    {
     "name": "stdout",
     "output_type": "stream",
     "text": [
      "root\n",
      " |-- ad_id: string (nullable = true)\n",
      " |-- _id0: string (nullable = true)\n",
      " |-- user_id: string (nullable = true)\n",
      " |-- recorded_text: string (nullable = true)\n",
      " |-- accuracy: string (nullable = true)\n",
      " |-- is_passed: string (nullable = true)\n",
      " |-- participation_type7: string (nullable = true)\n",
      " |-- participated_at: string (nullable = true)\n",
      " |-- birth: string (nullable = true)\n",
      " |-- gender: string (nullable = true)\n",
      " |-- type: string (nullable = true)\n",
      " |-- title: string (nullable = true)\n",
      " |-- description: string (nullable = true)\n",
      " |-- script: string (nullable = true)\n",
      " |-- difficulty: string (nullable = true)\n",
      " |-- minimum_accuracy: string (nullable = true)\n",
      " |-- created_at: string (nullable = true)\n",
      " |-- start_at: string (nullable = true)\n",
      " |-- end_at: string (nullable = true)\n",
      " |-- exposed_at: string (nullable = true)\n",
      "\n",
      "+-----+-------------------+-------------------+----------------------------------+--------+---------+-------------------+--------------------+----------+------+----+--------------------------------+-----------+---------------------------------+----------+----------------+--------------------+--------------------+--------------------+--------------------+\n",
      "|ad_id|               _id0|            user_id|                     recorded_text|accuracy|is_passed|participation_type7|     participated_at|     birth|gender|type|                           title|description|                           script|difficulty|minimum_accuracy|          created_at|            start_at|              end_at|          exposed_at|\n",
      "+-----+-------------------+-------------------+----------------------------------+--------+---------+-------------------+--------------------+----------+------+----+--------------------------------+-----------+---------------------------------+----------+----------------+--------------------+--------------------+--------------------+--------------------+\n",
      "|  132|2022121217221455600|2022120520164697200| 품속 천원짜리 한장의 계절 겨울...|      95|        1|                  0|2022-12-12 17:22:...|1981-01-29|     1|   2| [라떼는 천원에~] 붕어빵과 잉...|          1|  품 속 천 원짜리 한 장의 계절...|         2|              85|2022-12-09 15:36:...|2022-12-12 00:00:...|2022-12-25 23:59:...|2022-12-12 00:00:...|\n",
      "|  132|2022122301575307000|2022122120150036900| 품속 천원짜리 한장의 계절 겨울...|      88|        1|                  0|2022-12-23 01:57:...|1995-01-16|     1|   2| [라떼는 천원에~] 붕어빵과 잉...|          1|  품 속 천 원짜리 한 장의 계절...|         2|              85|2022-12-09 15:36:...|2022-12-12 00:00:...|2022-12-25 23:59:...|2022-12-12 00:00:...|\n",
      "|  132|2022121501592347400|2022121321440577100| 풍속 천원짜리 한장의 계절 겨울...|      83|        0|                  0|2022-12-15 01:59:...|1900-01-01|     1|   2| [라떼는 천원에~] 붕어빵과 잉...|          1|  품 속 천 원짜리 한 장의 계절...|         2|              85|2022-12-09 15:36:...|2022-12-12 00:00:...|2022-12-25 23:59:...|2022-12-12 00:00:...|\n",
      "|  132|2022121707345169800|2022121503442786900| 품속 천원짜리 한장의 계절 겨울...|      91|        1|                  0|2022-12-17 07:34:...|1992-09-03|     1|   2| [라떼는 천원에~] 붕어빵과 잉...|          1|  품 속 천 원짜리 한 장의 계절...|         2|              85|2022-12-09 15:36:...|2022-12-12 00:00:...|2022-12-25 23:59:...|2022-12-12 00:00:...|\n",
      "|  132|2022121210571368800|2022120614090136900| 품속 천원짜리 한장의 계절 겨울...|      90|        1|                  0|2022-12-12 10:57:...|1994-08-09|     1|   2| [라떼는 천원에~] 붕어빵과 잉...|          1|  품 속 천 원짜리 한 장의 계절...|         2|              85|2022-12-09 15:36:...|2022-12-12 00:00:...|2022-12-25 23:59:...|2022-12-12 00:00:...|\n",
      "|  205|2023020420421826900|2023020415023616900|자녀를 어린이집 유치원을 보내지...|      91|        1|                  2|2023-02-04 20:42:...|2000-11-03|     1|   2|[양육수당] 집에서 아이들을 돌...|          1|자녀를 어린이집, 유치원에 보내...|         1|              80|2023-01-04 18:04:...|2023-01-05 00:00:...|2023-02-04 23:59:...|2023-01-05 00:00:...|\n",
      "|  205|2023010510213239800|2022121714175116900|자녀를 어린이집 유치원에 보내지...|      93|        1|                  0|2023-01-05 10:21:...|1989-02-15|     1|   2|[양육수당] 집에서 아이들을 돌...|          1|자녀를 어린이집, 유치원에 보내...|         1|              80|2023-01-04 18:04:...|2023-01-05 00:00:...|2023-02-04 23:59:...|2023-01-05 00:00:...|\n",
      "|  205|2023020116320507100|2023013003525816900|자녀를 어린이집에 유치원에 보내...|      91|        1|                  2|2023-02-01 16:32:...|1989-03-15|     1|   2|[양육수당] 집에서 아이들을 돌...|          1|자녀를 어린이집, 유치원에 보내...|         1|              80|2023-01-04 18:04:...|2023-01-05 00:00:...|2023-02-04 23:59:...|2023-01-05 00:00:...|\n",
      "|  205|2023012200132025800|2023012011590642300|자녀를 어린이집 유치원에 보내지...|      95|        1|                  2|2023-01-22 00:13:...|1900-01-01|     1|   2|[양육수당] 집에서 아이들을 돌...|          1|자녀를 어린이집, 유치원에 보내...|         1|              80|2023-01-04 18:04:...|2023-01-05 00:00:...|2023-02-04 23:59:...|2023-01-05 00:00:...|\n",
      "|  205|2023020420052817200|2023011811510336900| 찬열의 어린이 집 유치원에 보내...|      94|        1|                  2|2023-02-04 20:05:...|1994-07-16|     1|   2|[양육수당] 집에서 아이들을 돌...|          1|자녀를 어린이집, 유치원에 보내...|         1|              80|2023-01-04 18:04:...|2023-01-05 00:00:...|2023-02-04 23:59:...|2023-01-05 00:00:...|\n",
      "+-----+-------------------+-------------------+----------------------------------+--------+---------+-------------------+--------------------+----------+------+----+--------------------------------+-----------+---------------------------------+----------+----------------+--------------------+--------------------+--------------------+--------------------+\n",
      "\n"
     ]
    }
   ],
   "source": [
    "# # 마지막 컬럼의 이름을 가져옴\n",
    "# last_column_name = point_5users_df.columns[-1]\n",
    "\n",
    "# # 마지막 컬럼을 삭제\n",
    "# point_5users_df = point_5users_df.drop(last_column_name)\n",
    "\n",
    "# 결과 확인\n",
    "point_5users_df.printSchema()\n",
    "point_5users_df.show()"
   ]
  },
  {
   "cell_type": "code",
   "execution_count": 69,
   "id": "632ac525-6937-4e78-91f5-93a078322bf1",
   "metadata": {
    "execution": {
     "iopub.execute_input": "2023-11-16T00:27:50.429630Z",
     "iopub.status.busy": "2023-11-16T00:27:50.423144Z",
     "iopub.status.idle": "2023-11-16T00:27:54.235018Z",
     "shell.execute_reply": "2023-11-16T00:27:54.234018Z",
     "shell.execute_reply.started": "2023-11-16T00:27:50.429630Z"
    }
   },
   "outputs": [
    {
     "name": "stdout",
     "output_type": "stream",
     "text": [
      "root\n",
      " |-- m10n_id: string (nullable = true)\n",
      " |-- _id0: string (nullable = true)\n",
      " |-- user_id: string (nullable = true)\n",
      " |-- recorded_text: string (nullable = true)\n",
      " |-- accuracy: string (nullable = true)\n",
      " |-- is_passed: string (nullable = true)\n",
      " |-- participated_at: string (nullable = true)\n",
      " |-- birth: string (nullable = true)\n",
      " |-- gender: string (nullable = true)\n",
      " |-- type: string (nullable = true)\n",
      " |-- title: string (nullable = true)\n",
      " |-- description: string (nullable = true)\n",
      " |-- script: string (nullable = true)\n",
      " |-- difficulty: string (nullable = true)\n",
      " |-- minimum_accuracy: string (nullable = true)\n",
      " |-- created_at: string (nullable = true)\n",
      " |-- start_at: string (nullable = true)\n",
      " |-- end_at: string (nullable = true)\n",
      " |-- exposed_at: string (nullable = true)\n",
      "\n",
      "+-------+-------------------+-------------------+---------------------+--------+---------+--------------------+----------+------+----+-----------------------------------+-----------+--------------------+----------+----------------+--------------------+--------------------+--------------------+--------------------+\n",
      "|m10n_id|               _id0|            user_id|        recorded_text|accuracy|is_passed|     participated_at|     birth|gender|type|                              title|description|              script|difficulty|minimum_accuracy|          created_at|            start_at|              end_at|          exposed_at|\n",
      "+-------+-------------------+-------------------+---------------------+--------+---------+--------------------+----------+------+----+-----------------------------------+-----------+--------------------+----------+----------------+--------------------+--------------------+--------------------+--------------------+\n",
      "|   1090|2023072919432464400|2023012718581377700|프로바이오틱스 유산균|     100|        1|2023-07-29 19:43:...|2011-12-05|     1|   2|아이피키 마이베베 프로바이오틱스...|      14484|프로바이오틱스유산균|         0|              80|2023-07-29 01:46:...|2023-07-29 14:00:...|2023-07-29 23:50:...|2023-07-29 14:00:...|\n",
      "|   1090|2023072914351408500|2023011110393516900|프로바이오틱스 유산균|     100|        1|2023-07-29 14:35:...|1984-03-02|     1|   2|아이피키 마이베베 프로바이오틱스...|      14484|프로바이오틱스유산균|         0|              80|2023-07-29 01:46:...|2023-07-29 14:00:...|2023-07-29 23:50:...|2023-07-29 14:00:...|\n",
      "|   1090|2023072917131611200|2023021415161117500|프로바이오틱스 유산균|     100|        1|2023-07-29 17:13:...|1997-03-28|     1|   2|아이피키 마이베베 프로바이오틱스...|      14484|프로바이오틱스유산균|         0|              80|2023-07-29 01:46:...|2023-07-29 14:00:...|2023-07-29 23:50:...|2023-07-29 14:00:...|\n",
      "|   1090|2023072919383818600|2023071902110736900|프로바이오틱스 유산균|     100|        1|2023-07-29 19:38:...|2004-01-29|     1|   2|아이피키 마이베베 프로바이오틱스...|      14484|프로바이오틱스유산균|         0|              80|2023-07-29 01:46:...|2023-07-29 14:00:...|2023-07-29 23:50:...|2023-07-29 14:00:...|\n",
      "|   1090|2023072914382508500|2023062011270939300|프로바이오틱스 유산균|     100|        1|2023-07-29 14:38:...|1973-05-12|     1|   2|아이피키 마이베베 프로바이오틱스...|      14484|프로바이오틱스유산균|         0|              80|2023-07-29 01:46:...|2023-07-29 14:00:...|2023-07-29 23:50:...|2023-07-29 14:00:...|\n",
      "|   1394|2023073123094573800|2023022514353826900|          대용량 액상|     100|        1|2023-07-31 23:09:...|1979-04-16|     0|   2|  전자담배 액상 사이트 전담액상 ...|      14852|          대용량액상|         0|              80|2023-07-31 18:54:...|2023-07-31 21:00:...|2023-07-31 23:55:...|2023-07-31 21:00:...|\n",
      "|   1394|2023073123542905100|2023062011270939300|          대용량 액상|     100|        1|2023-07-31 23:54:...|1973-05-12|     1|   2|  전자담배 액상 사이트 전담액상 ...|      14852|          대용량액상|         0|              80|2023-07-31 18:54:...|2023-07-31 21:00:...|2023-07-31 23:55:...|2023-07-31 21:00:...|\n",
      "|   1394|2023073123154296200|2023050213274738400|          대용량 액상|     100|        1|2023-07-31 23:15:...|1989-12-24|     1|   2|  전자담배 액상 사이트 전담액상 ...|      14852|          대용량액상|         0|              80|2023-07-31 18:54:...|2023-07-31 21:00:...|2023-07-31 23:55:...|2023-07-31 21:00:...|\n",
      "|   1394|2023073121021699200|2023051101211358400|          대용량 액상|     100|        1|2023-07-31 21:02:...|1998-07-17|     1|   2|  전자담배 액상 사이트 전담액상 ...|      14852|          대용량액상|         0|              80|2023-07-31 18:54:...|2023-07-31 21:00:...|2023-07-31 23:55:...|2023-07-31 21:00:...|\n",
      "|   1394|2023073121372200800|2023011720173165100|          대용량 액상|     100|        1|2023-07-31 21:37:...|1988-12-19|     0|   2|  전자담배 액상 사이트 전담액상 ...|      14852|          대용량액상|         0|              80|2023-07-31 18:54:...|2023-07-31 21:00:...|2023-07-31 23:55:...|2023-07-31 21:00:...|\n",
      "+-------+-------------------+-------------------+---------------------+--------+---------+--------------------+----------+------+----+-----------------------------------+-----------+--------------------+----------+----------------+--------------------+--------------------+--------------------+--------------------+\n",
      "\n"
     ]
    }
   ],
   "source": [
    "# # 마지막 컬럼의 이름을 가져옴\n",
    "# memor_last_column_name = memor_5users_df.columns[-1]\n",
    "\n",
    "# # 마지막 컬럼을 삭제\n",
    "# memor_5users_df = memor_5users_df.drop(memor_last_column_name)\n",
    "\n",
    "# 결과 확인\n",
    "memor_5users_df.printSchema()\n",
    "memor_5users_df.show()"
   ]
  },
  {
   "cell_type": "code",
   "execution_count": 93,
   "id": "abc1628f-3704-47f6-aa0e-9514aeb577d3",
   "metadata": {
    "execution": {
     "iopub.execute_input": "2023-11-16T00:42:01.421030Z",
     "iopub.status.busy": "2023-11-16T00:42:01.420030Z",
     "iopub.status.idle": "2023-11-16T00:42:01.458993Z",
     "shell.execute_reply": "2023-11-16T00:42:01.457902Z",
     "shell.execute_reply.started": "2023-11-16T00:42:01.421030Z"
    }
   },
   "outputs": [],
   "source": [
    "# 사용자 2명을 랜덤하게 선택\n",
    "selected_users = selected_point_df.select(\"user_id\").distinct().sample(False, 0.1).limit(2)\n",
    "\n",
    "# 윈도우 정의: 각 사용자별로\n",
    "windowSpec = Window.partitionBy(\"user_id\").orderBy(rand())\n",
    "\n",
    "# 각 사용자별로 광고 5개를 랜덤하게 선택 (created_at 컬럼의 값이 null이 아닌 경우)\n",
    "user_ads_df = selected_point_df.join(selected_users, \"user_id\") \\\n",
    "                               .filter(col(\"created_at\").isNotNull()) \\\n",
    "                               .withColumn(\"row_number\", row_number().over(windowSpec)) \\\n",
    "                               .filter(col(\"row_number\") <= 5) \\\n",
    "                               .drop(\"row_number\")"
   ]
  },
  {
   "cell_type": "code",
   "execution_count": 94,
   "id": "9d0fafaa-e167-4b6a-ae89-00753cb7727c",
   "metadata": {
    "execution": {
     "iopub.execute_input": "2023-11-16T00:42:02.264886Z",
     "iopub.status.busy": "2023-11-16T00:42:02.264886Z",
     "iopub.status.idle": "2023-11-16T00:42:05.202581Z",
     "shell.execute_reply": "2023-11-16T00:42:05.202581Z",
     "shell.execute_reply.started": "2023-11-16T00:42:02.264886Z"
    }
   },
   "outputs": [
    {
     "name": "stdout",
     "output_type": "stream",
     "text": [
      "root\n",
      " |-- user_id: string (nullable = true)\n",
      " |-- _id0: string (nullable = true)\n",
      " |-- ad_id: string (nullable = true)\n",
      " |-- recorded_text: string (nullable = true)\n",
      " |-- accuracy: string (nullable = true)\n",
      " |-- is_passed: string (nullable = true)\n",
      " |-- participation_type7: string (nullable = true)\n",
      " |-- participated_at: string (nullable = true)\n",
      " |-- birth: string (nullable = true)\n",
      " |-- gender: string (nullable = true)\n",
      " |-- type: string (nullable = true)\n",
      " |-- title: string (nullable = true)\n",
      " |-- description: string (nullable = true)\n",
      " |-- script: string (nullable = true)\n",
      " |-- difficulty: string (nullable = true)\n",
      " |-- minimum_accuracy: string (nullable = true)\n",
      " |-- created_at: string (nullable = true)\n",
      " |-- start_at: string (nullable = true)\n",
      " |-- end_at: string (nullable = true)\n",
      " |-- exposed_at: string (nullable = true)\n",
      "\n"
     ]
    },
    {
     "data": {
      "text/plain": [
       "10"
      ]
     },
     "execution_count": 94,
     "metadata": {},
     "output_type": "execute_result"
    }
   ],
   "source": [
    "user_ads_df.printSchema()\n",
    "user_ads_df.count()"
   ]
  },
  {
   "cell_type": "code",
   "execution_count": 95,
   "id": "a43c5674-a5d6-4eab-8e44-5da38461125b",
   "metadata": {
    "execution": {
     "iopub.execute_input": "2023-11-16T00:42:06.164524Z",
     "iopub.status.busy": "2023-11-16T00:42:06.153113Z",
     "iopub.status.idle": "2023-11-16T00:42:09.358248Z",
     "shell.execute_reply": "2023-11-16T00:42:09.358248Z",
     "shell.execute_reply.started": "2023-11-16T00:42:06.164524Z"
    }
   },
   "outputs": [
    {
     "name": "stdout",
     "output_type": "stream",
     "text": [
      "+-------------------+-------------------+-----+----------------------------------+--------+---------+-------------------+--------------------+----------+------+----+--------------------------------+--------------------+-----------------------------------+----------+----------------+--------------------+--------------------+--------------------+--------------------+\n",
      "|            user_id|               _id0|ad_id|                     recorded_text|accuracy|is_passed|participation_type7|     participated_at|     birth|gender|type|                           title|         description|                             script|difficulty|minimum_accuracy|          created_at|            start_at|              end_at|          exposed_at|\n",
      "+-------------------+-------------------+-----+----------------------------------+--------+---------+-------------------+--------------------+----------+------+----+--------------------------------+--------------------+-----------------------------------+----------+----------------+--------------------+--------------------+--------------------+--------------------+\n",
      "|2022120212090047700|2023010317534154200|  198|                  인터넷 수도 요금|       4|        0|                  0|2023-01-03 17:53:...|1997-03-16|     0|   2| [자취생활] 이사 준비, 비법을...|                   1|    인터넷, 수도 요금 등 관리비 ...|         2|              80|2023-01-02 18:07:...|2023-01-03 00:00:...|2023-02-02 23:59:...|2023-01-03 00:00:...|\n",
      "|2022120212090047700|2023021416293538600|  244|농림축산 식품부는 반려동물 진료...|      86|        1|                  2|2023-02-14 16:29:...|1997-03-16|     0|   2|   [반려동물] 진료비 게시 의무화|https://www.youtu...|농림축산식품부는 반려동물 진료비...|         1|              80|2023-01-17 15:44:...|2023-01-18 00:00:...|2023-02-17 23:59:...|2023-01-18 00:00:...|\n",
      "|2022120212090047700|2023010317475746500|  200|    2023년부터 바뀌는 것들 저자...|      85|        1|                  0|2023-01-03 17:47:...|1997-03-16|     0|   2|    [2023] 새해에 바뀌는 것들...|                   1|      2023년부터 바뀌는 것들! 최...|         1|              80|2023-01-02 18:18:...|2023-01-03 00:00:...|2023-02-02 23:59:...|2023-01-03 00:00:...|\n",
      "|2022120212090047700|2023013016374827000|  189| 정부는 현재 고령자 복지주택 사...|      91|        1|                  2|2023-01-30 16:37:...|1997-03-16|     0|   2| [고령자 복지주택] 홈, 스위트 홈|                   1|   정부는 현재 ‘고령자 복지주택’...|         2|              70|2022-12-29 10:23:...|2022-12-31 00:00:...|2023-01-30 23:59:...|2022-12-31 00:00:...|\n",
      "|2022120212090047700|2023010317504596300|  199|대학생들의 주거 부담을 덜어주는...|      21|        0|                  0|2023-01-03 17:50:...|1997-03-16|     0|   2|[행복 기숙사] 대학생 주거지원...|                   1|  대학생들의 주거 부담을 확 덜어...|         1|              80|2023-01-02 18:15:...|2023-01-03 00:00:...|2023-02-02 23:59:...|2023-01-03 00:00:...|\n",
      "|2022122613152506900|2023012822460047100|  272| 근로자에게 휴가를 듣기만 해도 ...|      91|        1|                  2|2023-01-28 22:46:...|1968-05-06|     1|   2|  [오늘의 맞춤정책] 휴가비 20...|                   1|   근로자에게 ‘휴가’란 듣기만 해...|         2|              80|2023-01-27 17:13:...|2023-01-28 00:00:...|2023-02-27 23:59:...|2023-01-28 00:00:...|\n",
      "|2022122613152506900|2022122817180485000|  182| 회사 다니면서 유튜버 해도 될까...|      83|        1|                  0|2022-12-28 17:18:...|1968-05-06|     1|   2| [N잡러시대] 부업으로 유튜버 ...|                   1|  회사 다니면서 유튜브 해도 될까...|         2|              75|2022-12-27 17:39:...|2022-12-28 00:00:...|2023-01-27 23:59:...|2022-12-28 00:00:...|\n",
      "|2022122613152506900|2023020909351071600|  306|   알파벳 a가 붙은 광고 버스 경...|      86|        1|                  2|2023-02-09 09:35:...|1968-05-06|     1|   2| [알쓸신잡] 버스 번호 앞에 붙...|                   1|    알파벳 a가 붙은 건 공항버스....|         2|              80|2023-02-08 17:34:...|2023-02-08 00:00:...|2023-03-08 23:59:...|2023-02-08 00:00:...|\n",
      "|2022122613152506900|2023010923353819000|  204|  억지 못하고 남은 쌈채소 혹시 ...|      83|        1|                  0|2023-01-09 23:35:...|1968-05-06|     1|   2|  [쌈 채소] 씻어서 보관해도 될까|                   1|    먹지 못하고 남은 쌈 채소, 혹...|         1|              80|2023-01-04 18:02:...|2023-01-05 00:00:...|2023-02-04 23:59:...|2023-01-05 00:00:...|\n",
      "|2022122613152506900|2022122817192715700|  146| 경기도는 다자녀 가정 우대 혜택...|      93|        1|                  0|2022-12-28 17:19:...|1968-05-06|     1|   2|  [아이플러스카드] For 두자녀...|                   1|경기도는 다자녀가정에 우대혜택을...|         2|              80|2022-12-15 10:55:...|2022-12-16 00:00:...|2022-12-29 23:59:...|2022-12-16 00:00:...|\n",
      "+-------------------+-------------------+-----+----------------------------------+--------+---------+-------------------+--------------------+----------+------+----+--------------------------------+--------------------+-----------------------------------+----------+----------------+--------------------+--------------------+--------------------+--------------------+\n",
      "\n"
     ]
    }
   ],
   "source": [
    "user_ads_df.show()"
   ]
  },
  {
   "cell_type": "code",
   "execution_count": 96,
   "id": "9358983a-072b-4c3f-87df-82a37f04b121",
   "metadata": {
    "execution": {
     "iopub.execute_input": "2023-11-16T00:42:49.786709Z",
     "iopub.status.busy": "2023-11-16T00:42:49.786709Z",
     "iopub.status.idle": "2023-11-16T00:42:52.997435Z",
     "shell.execute_reply": "2023-11-16T00:42:52.997435Z",
     "shell.execute_reply.started": "2023-11-16T00:42:49.786709Z"
    }
   },
   "outputs": [],
   "source": [
    "# # Spark DataFrame을 CSV로 저장\n",
    "# point_5users_df.write.csv(\"D:/temp_point_5users_df.csv\", header=True)\n",
    "# memor_5users_df.write.csv(\"D:/temp_memor_5users_df.csv\", header=True)\n",
    "# user_ads_df.write.csv(\"D:/temp_user_ads_df.csv\", header=True)\n",
    "\n",
    "# Spark DataFrame을 Pandas DataFrame으로 변환\n",
    "# point_5users_pd_df = point_5users_df.toPandas()\n",
    "# memor_5users_pd_df = memor_5users_df.toPandas()\n",
    "user_ads_pd_df = user_ads_df.toPandas()\n",
    "\n",
    "# Pandas DataFrame을 Excel 파일로 저장\n",
    "# point_5users_pd_df.to_excel(\"D:/temp_point_5users_df.xlsx\", index=False)\n",
    "# memor_5users_pd_df.to_excel(\"D:/temp_memor_5users_df.xlsx\", index=False)\n",
    "user_ads_pd_df.to_excel(\"D:/temp_user_ads_df.xlsx\", index=False)"
   ]
  },
  {
   "cell_type": "markdown",
   "id": "9d427177-a006-4770-88ae-c29daa2e142e",
   "metadata": {},
   "source": [
    "# ios 라벨링 데이터 구조 파악"
   ]
  },
  {
   "cell_type": "code",
   "execution_count": 5,
   "id": "69a8280f-9e82-47fe-99d5-57c171c3e2f7",
   "metadata": {
    "execution": {
     "iopub.execute_input": "2023-12-07T01:57:34.914725Z",
     "iopub.status.busy": "2023-12-07T01:57:34.914725Z",
     "iopub.status.idle": "2023-12-07T01:57:34.953096Z",
     "shell.execute_reply": "2023-12-07T01:57:34.952701Z",
     "shell.execute_reply.started": "2023-12-07T01:57:34.914725Z"
    }
   },
   "outputs": [
    {
     "name": "stdout",
     "output_type": "stream",
     "text": [
      "두 DataFrame의 스키마가 동일한가? True\n"
     ]
    }
   ],
   "source": [
    "# 두 DataFrame의 스키마를 비교\n",
    "schemas_equal = ios_point_df.schema == ios_memor_df.schema\n",
    "\n",
    "# 결과 출력\n",
    "print(f\"두 DataFrame의 스키마가 동일한가? {schemas_equal}\")"
   ]
  },
  {
   "cell_type": "code",
   "execution_count": 6,
   "id": "9cbf6870-94ca-4a10-9721-37c0f2845bc4",
   "metadata": {
    "execution": {
     "iopub.execute_input": "2023-12-07T01:57:53.710248Z",
     "iopub.status.busy": "2023-12-07T01:57:53.710248Z",
     "iopub.status.idle": "2023-12-07T01:57:53.725829Z",
     "shell.execute_reply": "2023-12-07T01:57:53.725608Z",
     "shell.execute_reply.started": "2023-12-07T01:57:53.710248Z"
    }
   },
   "outputs": [
    {
     "name": "stdout",
     "output_type": "stream",
     "text": [
      "root\n",
      " |-- accuracy: long (nullable = true)\n",
      " |-- ads_id: long (nullable = true)\n",
      " |-- audio_id: long (nullable = true)\n",
      " |-- birth: string (nullable = true)\n",
      " |-- category: long (nullable = true)\n",
      " |-- description: string (nullable = true)\n",
      " |-- difficulty: long (nullable = true)\n",
      " |-- end_at: string (nullable = true)\n",
      " |-- gender: long (nullable = true)\n",
      " |-- is_passed: long (nullable = true)\n",
      " |-- minimum_accuracy: long (nullable = true)\n",
      " |-- participated_at: string (nullable = true)\n",
      " |-- participation_id: string (nullable = true)\n",
      " |-- recorded_text: string (nullable = true)\n",
      " |-- script: string (nullable = true)\n",
      " |-- signed_up_at: string (nullable = true)\n",
      " |-- start_at: string (nullable = true)\n",
      " |-- title: string (nullable = true)\n",
      " |-- type: long (nullable = true)\n",
      " |-- user_id: long (nullable = true)\n",
      " |-- withdrawn_at: string (nullable = true)\n",
      "\n"
     ]
    }
   ],
   "source": [
    "ios_point_df.printSchema()"
   ]
  },
  {
   "cell_type": "code",
   "execution_count": 8,
   "id": "2dfce4db-dda6-4ad6-aa33-76d37285b80e",
   "metadata": {
    "execution": {
     "iopub.execute_input": "2023-12-08T03:13:14.802472Z",
     "iopub.status.busy": "2023-12-08T03:13:14.802472Z",
     "iopub.status.idle": "2023-12-08T03:13:14.986151Z",
     "shell.execute_reply": "2023-12-08T03:13:14.986151Z",
     "shell.execute_reply.started": "2023-12-08T03:13:14.802472Z"
    }
   },
   "outputs": [
    {
     "name": "stdout",
     "output_type": "stream",
     "text": [
      "+--------+------+--------+----------+--------+-----------+----------+--------------------+------+---------+----------------+--------------------+-------------------+-------------+--------+--------------------+--------------------+----------------------------------+----+-------------------+------------+\n",
      "|accuracy|ads_id|audio_id|     birth|category|description|difficulty|              end_at|gender|is_passed|minimum_accuracy|     participated_at|   participation_id|recorded_text|  script|        signed_up_at|            start_at|                             title|type|            user_id|withdrawn_at|\n",
      "+--------+------+--------+----------+--------+-----------+----------+--------------------+------+---------+----------------+--------------------+-------------------+-------------+--------+--------------------+--------------------+----------------------------------+----+-------------------+------------+\n",
      "|     100|     0|       1|1900-01-01|       1|          1|         0|2023-07-17T12:00:...|     0|      141|              80|2023-07-17T15:20:...|2023071715205108500|     업데이트|업데이트|2022-11-21T11:06:...|2023-07-17T00:00:...|          보윙 암기플러스 튜토리얼|   2|2022112111065965200|            |\n",
      "|     100|     0|       1|2003-06-09|       1|          1|         0|2023-07-17T12:00:...|     1|      141|              80|2023-07-17T21:04:...|2023071721042041100|     업데이트|업데이트|2023-02-01T21:31:...|2023-07-17T00:00:...|          보윙 암기플러스 튜토리얼|   2|2023020121313796900|            |\n",
      "|     100|     0|       1|1900-01-01|       1|          1|         0|2023-07-17T12:00:...|     0|      141|              80|2023-07-18T15:25:...|2023071815251037300|     업데이트|업데이트|2023-04-21T14:48:...|2023-07-17T00:00:...|          보윙 암기플러스 튜토리얼|   2|2023042114480273800|            |\n",
      "|     100|     0|       1|1984-03-02|       1|      11912|         0|2023-07-18T23:59:...|     1|      156|              80|2023-07-18T00:12:...|2023071800125144400|      싱글 패|  싱글패|2023-01-11T10:39:...|2023-07-18T00:00:...|홀인원패 싱글패 이글패 골프트로...|   2|2023011110393516900|            |\n",
      "|     100|     0|       1|2003-06-09|       1|      11912|         0|2023-07-18T23:59:...|     1|      156|              80|2023-07-18T01:20:...|2023071801203228800|      싱글 패|  싱글패|2023-02-01T21:31:...|2023-07-18T00:00:...|홀인원패 싱글패 이글패 골프트로...|   2|2023020121313796900|            |\n",
      "|     100|     0|       1|2003-01-12|       1|      11912|         0|2023-07-18T23:59:...|     1|      156|              80|2023-07-18T01:51:...|2023071801514207400|      싱글 패|  싱글패|2023-06-29T20:00:...|2023-07-18T00:00:...|홀인원패 싱글패 이글패 골프트로...|   2|2023062920003697000|            |\n",
      "|     100|     0|       1|2005-01-16|       1|      11912|         0|2023-07-18T23:59:...|     1|      156|              80|2023-07-18T06:50:...|2023071806501376500|      싱글 패|  싱글패|2023-04-30T15:03:...|2023-07-18T00:00:...|홀인원패 싱글패 이글패 골프트로...|   2|2023043015035510700|            |\n",
      "|     100|     0|       1|1972-07-10|       1|      11912|         0|2023-07-18T23:59:...|     1|      156|              80|2023-07-18T08:03:...|2023071808030463000|      싱글 패|  싱글패|2023-06-18T09:32:...|2023-07-18T00:00:...|홀인원패 싱글패 이글패 골프트로...|   2|2023061809324249700|            |\n",
      "|     100|     0|       1|1973-05-12|       1|      11912|         0|2023-07-18T23:59:...|     1|      156|              80|2023-07-18T09:10:...|2023071809102211300|      싱글 패|  싱글패|2023-06-20T11:27:...|2023-07-18T00:00:...|홀인원패 싱글패 이글패 골프트로...|   2|2023062011270939300|            |\n",
      "|     100|     0|       1|1997-09-20|       1|      11912|         0|2023-07-18T23:59:...|     0|      156|              80|2023-07-18T09:31:...|2023071809313197100|      싱글 패|  싱글패|2023-04-26T17:30:...|2023-07-18T00:00:...|홀인원패 싱글패 이글패 골프트로...|   2|2023042617303716900|            |\n",
      "|     100|     0|       1|1962-10-03|       1|      11912|         0|2023-07-18T23:59:...|     1|      156|              80|2023-07-18T10:07:...|2023071810070437100|      싱글 패|  싱글패|2022-12-12T21:32:...|2023-07-18T00:00:...|홀인원패 싱글패 이글패 골프트로...|   2|2022121221324779300|            |\n",
      "|     100|     0|       1|1999-08-28|       1|      11912|         0|2023-07-18T23:59:...|     1|      156|              80|2023-07-18T10:49:...|2023071810492817600|      싱글 패|  싱글패|2023-06-23T11:47:...|2023-07-18T00:00:...|홀인원패 싱글패 이글패 골프트로...|   2|2023062311470662300|            |\n",
      "|     100|     0|       1|1992-09-02|       1|      11912|         0|2023-07-18T23:59:...|     1|      156|              80|2023-07-18T11:14:...|2023071811144464100|      싱글 패|  싱글패|2023-06-02T19:07:...|2023-07-18T00:00:...|홀인원패 싱글패 이글패 골프트로...|   2|2023060219074016900|            |\n",
      "|     100|     0|       1|1983-05-04|       1|      11912|         0|2023-07-18T23:59:...|     1|      156|              80|2023-07-18T11:21:...|2023071811213437200|      싱글 패|  싱글패|2023-07-04T22:03:...|2023-07-18T00:00:...|홀인원패 싱글패 이글패 골프트로...|   2|2023070422035614000|            |\n",
      "|     100|     0|       1|2002-07-22|       1|      11912|         0|2023-07-18T23:59:...|     1|      156|              80|2023-07-18T13:08:...|2023071813081437400|      싱글 패|  싱글패|2023-06-20T15:21:...|2023-07-18T00:00:...|홀인원패 싱글패 이글패 골프트로...|   2|2023062015213228400|            |\n",
      "|     100|     0|       1|1984-04-03|       1|      11912|         0|2023-07-18T23:59:...|     1|      156|              80|2023-07-18T13:22:...|2023071813221466400|      싱글 패|  싱글패|2023-06-21T21:20:...|2023-07-18T00:00:...|홀인원패 싱글패 이글패 골프트로...|   2|2023062121200178200|            |\n",
      "|     100|     0|       1|1993-12-02|       1|      11912|         0|2023-07-18T23:59:...|     1|      156|              80|2023-07-18T13:34:...|2023071813341878000|      싱글 패|  싱글패|2022-12-21T20:47:...|2023-07-18T00:00:...|홀인원패 싱글패 이글패 골프트로...|   2|2022122120474963100|            |\n",
      "|     100|     0|       1|1989-02-08|       1|      11912|         0|2023-07-18T23:59:...|     1|      156|              80|2023-07-18T13:37:...|2023071813370963500|      싱글 패|  싱글패|2023-05-11T10:26:...|2023-07-18T00:00:...|홀인원패 싱글패 이글패 골프트로...|   2|2023051110264438900|            |\n",
      "|     100|     0|       1|1997-02-19|       1|      11912|         0|2023-07-18T23:59:...|     1|      156|              80|2023-07-18T14:40:...|2023071814403358400|      싱글 패|  싱글패|2023-07-08T10:56:...|2023-07-18T00:00:...|홀인원패 싱글패 이글패 골프트로...|   2|2023070810561763300|            |\n",
      "|     100|     0|       1|1900-01-01|       1|      11912|         0|2023-07-18T23:59:...|     0|      156|              80|2023-07-18T15:17:...|2023071815170547500|      싱글 패|  싱글패|2023-04-21T14:48:...|2023-07-18T00:00:...|홀인원패 싱글패 이글패 골프트로...|   2|2023042114480273800|            |\n",
      "+--------+------+--------+----------+--------+-----------+----------+--------------------+------+---------+----------------+--------------------+-------------------+-------------+--------+--------------------+--------------------+----------------------------------+----+-------------------+------------+\n",
      "only showing top 20 rows\n",
      "\n"
     ]
    }
   ],
   "source": [
    "ios_memor_df.show()"
   ]
  },
  {
   "cell_type": "code",
   "execution_count": null,
   "id": "ec96cb06-8536-45aa-83d8-f150269a3442",
   "metadata": {},
   "outputs": [],
   "source": []
  }
 ],
 "metadata": {
  "kernelspec": {
   "display_name": "Python 3 (ipykernel)",
   "language": "python",
   "name": "python3"
  },
  "language_info": {
   "codemirror_mode": {
    "name": "ipython",
    "version": 3
   },
   "file_extension": ".py",
   "mimetype": "text/x-python",
   "name": "python",
   "nbconvert_exporter": "python",
   "pygments_lexer": "ipython3",
   "version": "3.10.12"
  },
  "widgets": {
   "application/vnd.jupyter.widget-state+json": {
    "state": {},
    "version_major": 2,
    "version_minor": 0
   }
  }
 },
 "nbformat": 4,
 "nbformat_minor": 5
}
