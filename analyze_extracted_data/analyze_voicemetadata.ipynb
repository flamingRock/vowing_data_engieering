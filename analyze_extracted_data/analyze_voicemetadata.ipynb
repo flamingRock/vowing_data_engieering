{
 "cells": [
  {
   "cell_type": "code",
   "execution_count": 1,
   "id": "54d1bea0",
   "metadata": {
    "ExecuteTime": {
     "end_time": "2023-10-18T02:42:21.967764Z",
     "start_time": "2023-10-18T02:42:21.935046Z"
    },
    "execution": {
     "iopub.execute_input": "2023-11-08T03:47:39.725192Z",
     "iopub.status.busy": "2023-11-08T03:47:39.724192Z",
     "iopub.status.idle": "2023-11-08T03:47:40.679561Z",
     "shell.execute_reply": "2023-11-08T03:47:40.678560Z",
     "shell.execute_reply.started": "2023-11-08T03:47:39.725192Z"
    },
    "tags": []
   },
   "outputs": [],
   "source": [
    "import os\n",
    "import pandas as pd\n",
    "import numpy as np\n",
    "import matplotlib.pyplot as plt\n",
    "import re # 정규식 사용을 위한 모듈\n",
    "# from scipy.stats import gaussian_kde\n",
    "\n",
    "import pyarrow.parquet as pq\n",
    "\n",
    "from pyspark import SparkContext\n",
    "from pyspark.sql import SparkSession\n",
    "from pyspark.sql import functions as F\n",
    "from pyspark.sql import types as T\n",
    "from pyspark.sql import Window\n",
    "from pyspark.sql.functions import broadcast, element_at, regexp_extract, udf, col, isnull, count, when, substring, coalesce, from_json, size, avg, expr, concat_ws\n",
    "from pyspark.sql.types import ArrayType, StringType, StructType, StructField, DoubleType, IntegerType, FloatType\n",
    "\n",
    "from functools import reduce\n",
    "from matplotlib.ticker import FuncFormatter\n",
    "from collections import Counter\n",
    "from datetime import datetime"
   ]
  },
  {
   "cell_type": "code",
   "execution_count": 2,
   "id": "1c3853b4",
   "metadata": {
    "ExecuteTime": {
     "end_time": "2023-10-18T01:32:14.559686Z",
     "start_time": "2023-10-18T01:32:05.552042Z"
    },
    "execution": {
     "iopub.execute_input": "2023-11-08T03:47:42.432061Z",
     "iopub.status.busy": "2023-11-08T03:47:42.432061Z",
     "iopub.status.idle": "2023-11-08T03:47:50.172934Z",
     "shell.execute_reply": "2023-11-08T03:47:50.172934Z",
     "shell.execute_reply.started": "2023-11-08T03:47:42.432061Z"
    },
    "tags": []
   },
   "outputs": [
    {
     "name": "stdout",
     "output_type": "stream",
     "text": [
      "Spark local directory: D:/spark_tmp\n"
     ]
    }
   ],
   "source": [
    "# 가상 환경의 Python 경로를 지정\n",
    "python_path = \"C:/Users/admin/anaconda3/envs/my_conda_01/python.exe\"\n",
    "\n",
    "# Spark 세션 생성\n",
    "spark = SparkSession.builder \\\n",
    "    .appName(\"voice_metadata integrating operation\") \\\n",
    "    .config(\"spark.driver.memory\", \"9g\") \\\n",
    "    .config(\"spark.executor.memory\", \"9g\") \\\n",
    "    .config(\"spark.driver.maxResultSize\", \"5g\") \\\n",
    "    .config(\"spark.pyspark.python\", python_path) \\\n",
    "    .config(\"spark.local.dir\", \"D:/spark_tmp\") \\\n",
    "    .getOrCreate()\n",
    "\n",
    "# SparkContext 가져오기\n",
    "sc = spark.sparkContext\n",
    "\n",
    "# Spark 중간 파일이 저장되는 경로 확인\n",
    "current_spark_local_dir = spark.conf.get(\"spark.local.dir\", \"Not Set\")\n",
    "print(\"Spark local directory:\", current_spark_local_dir)"
   ]
  },
  {
   "cell_type": "code",
   "execution_count": 3,
   "id": "1dd622a3",
   "metadata": {
    "ExecuteTime": {
     "end_time": "2023-10-18T01:32:19.926405Z",
     "start_time": "2023-10-18T01:32:17.343939Z"
    },
    "execution": {
     "iopub.execute_input": "2023-11-08T03:47:50.890931Z",
     "iopub.status.busy": "2023-11-08T03:47:50.890931Z",
     "iopub.status.idle": "2023-11-08T03:47:53.590762Z",
     "shell.execute_reply": "2023-11-08T03:47:53.590494Z",
     "shell.execute_reply.started": "2023-11-08T03:47:50.890931Z"
    },
    "tags": []
   },
   "outputs": [],
   "source": [
    "# Parquet 파일의 경로\n",
    "file_path = 'D:\\\\DATA_PREPROCESS\\\\FIRESTORE_DATAS\\\\voice_metadata_parquet_231030_특성엔지니어링_수정후\\\\*.parquet'\n",
    "\n",
    "# Parquet 파일을 읽어서 DataFrame에 저장\n",
    "spark_df = spark.read.parquet(file_path)\n",
    "# df = pd.read_parquet(file_path, engine='pyarrow')"
   ]
  },
  {
   "cell_type": "code",
   "execution_count": 4,
   "id": "53dcaf4a",
   "metadata": {
    "ExecuteTime": {
     "end_time": "2023-10-18T01:32:23.526892Z",
     "start_time": "2023-10-18T01:32:23.498886Z"
    },
    "execution": {
     "iopub.execute_input": "2023-11-08T03:47:54.469664Z",
     "iopub.status.busy": "2023-11-08T03:47:54.469664Z",
     "iopub.status.idle": "2023-11-08T03:47:54.489314Z",
     "shell.execute_reply": "2023-11-08T03:47:54.489314Z",
     "shell.execute_reply.started": "2023-11-08T03:47:54.469664Z"
    },
    "tags": []
   },
   "outputs": [
    {
     "name": "stdout",
     "output_type": "stream",
     "text": [
      "root\n",
      " |-- ad_name: string (nullable = true)\n",
      " |-- user_id: string (nullable = true)\n",
      " |-- stt_text_array: array (nullable = true)\n",
      " |    |-- element: string (containsNull = true)\n",
      " |-- attend: double (nullable = true)\n",
      " |-- is_passed: string (nullable = true)\n",
      " |-- imageUrl: string (nullable = true)\n",
      " |-- ad_script: string (nullable = true)\n",
      " |-- accuracy_array: array (nullable = true)\n",
      " |    |-- element: integer (containsNull = true)\n",
      " |-- created_timestamp_array: array (nullable = true)\n",
      " |    |-- element: string (containsNull = true)\n",
      " |-- ad_title: string (nullable = true)\n",
      " |-- birth_year: string (nullable = true)\n",
      " |-- local_code: string (nullable = true)\n",
      " |-- is_test: integer (nullable = true)\n",
      " |-- gender: string (nullable = true)\n",
      " |-- job: string (nullable = true)\n",
      " |-- language: string (nullable = true)\n",
      " |-- perfect: double (nullable = true)\n",
      " |-- excepted_age_array: string (nullable = true)\n",
      " |-- collection: string (nullable = true)\n",
      " |-- ad_duration: string (nullable = true)\n",
      " |-- ad_duration_end: string (nullable = true)\n",
      " |-- desc_images_array: string (nullable = true)\n",
      " |-- images_array: string (nullable = true)\n",
      " |-- thumbnail_image: string (nullable = true)\n",
      " |-- level: string (nullable = true)\n",
      " |-- ad_link: string (nullable = true)\n",
      " |-- participant_count: integer (nullable = true)\n",
      " |-- videoUrl: string (nullable = true)\n",
      " |-- average_accuracy_by_ad: double (nullable = true)\n",
      " |-- average_accuracy_by_user: double (nullable = true)\n",
      " |-- pass_rate_by_user: double (nullable = true)\n",
      " |-- pass_rate_by_ad: double (nullable = true)\n",
      " |-- try_count: integer (nullable = true)\n",
      " |-- user_avg_tries: double (nullable = true)\n",
      " |-- ad_avg_tries: double (nullable = true)\n",
      " |-- text_length: integer (nullable = true)\n",
      "\n"
     ]
    }
   ],
   "source": [
    "spark_df.printSchema()"
   ]
  },
  {
   "cell_type": "code",
   "execution_count": 5,
   "id": "eee9b0c8",
   "metadata": {
    "ExecuteTime": {
     "end_time": "2023-10-18T01:32:30.990862Z",
     "start_time": "2023-10-18T01:32:29.528832Z"
    },
    "execution": {
     "iopub.execute_input": "2023-11-08T03:47:58.205730Z",
     "iopub.status.busy": "2023-11-08T03:47:58.205730Z",
     "iopub.status.idle": "2023-11-08T03:47:59.957759Z",
     "shell.execute_reply": "2023-11-08T03:47:59.956759Z",
     "shell.execute_reply.started": "2023-11-08T03:47:58.205730Z"
    },
    "tags": []
   },
   "outputs": [
    {
     "data": {
      "text/plain": [
       "14045909"
      ]
     },
     "execution_count": 5,
     "metadata": {},
     "output_type": "execute_result"
    }
   ],
   "source": [
    "spark_df.count()"
   ]
  },
  {
   "cell_type": "markdown",
   "id": "b5e77b55-cbcf-4c55-a84c-8f04fe727f2a",
   "metadata": {},
   "source": [
    "# birth_year 컬럼 체크"
   ]
  },
  {
   "cell_type": "code",
   "execution_count": 14,
   "id": "32cc0f9a-baae-411f-8fff-3b7142e04ce4",
   "metadata": {
    "execution": {
     "iopub.execute_input": "2023-11-08T06:05:41.959521Z",
     "iopub.status.busy": "2023-11-08T06:05:41.959521Z",
     "iopub.status.idle": "2023-11-08T06:05:45.152674Z",
     "shell.execute_reply": "2023-11-08T06:05:45.151674Z",
     "shell.execute_reply.started": "2023-11-08T06:05:41.959521Z"
    }
   },
   "outputs": [
    {
     "name": "stdout",
     "output_type": "stream",
     "text": [
      "+----------+------+\n",
      "|birth_year|count |\n",
      "+----------+------+\n",
      "|68        |129675|\n",
      "|null      |126714|\n",
      "|65        |117439|\n",
      "|69        |116363|\n",
      "|80        |115733|\n",
      "|70        |108976|\n",
      "|82        |106277|\n",
      "|79        |101115|\n",
      "|74        |98599 |\n",
      "|72        |98471 |\n",
      "|73        |95409 |\n",
      "|67        |93700 |\n",
      "|78        |80460 |\n",
      "|71        |79592 |\n",
      "|76        |79250 |\n",
      "|85        |78992 |\n",
      "|66        |76698 |\n",
      "|60        |75593 |\n",
      "|83        |73821 |\n",
      "|62        |66955 |\n",
      "+----------+------+\n",
      "only showing top 20 rows\n",
      "\n"
     ]
    }
   ],
   "source": [
    "# 'birth_year' 컬럼의 고유한 값과 그 빈도수를 계산\n",
    "birth_year_counts = spark_df.groupBy(\"birth_year\").count()\n",
    "\n",
    "# 결과를 'count' 컬럼에 따라 내림차순으로 정렬\n",
    "birth_year_counts_ordered = birth_year_counts.orderBy(F.desc(\"count\"))\n",
    "\n",
    "# DataFrame의 전체 행 수를 얻습니다.\n",
    "total_rows = birth_year_counts_ordered.count()\n",
    "\n",
    "# 결과를 출력\n",
    "birth_year_counts_ordered.show(total_rows, truncate=False)"
   ]
  },
  {
   "cell_type": "markdown",
   "id": "0734664f-5464-4725-a07b-c9df5ecac8fd",
   "metadata": {},
   "source": [
    "# text_length 컬럼 체크\n",
    "## text_length 확인"
   ]
  },
  {
   "cell_type": "code",
   "execution_count": 7,
   "id": "cc2b4f25-08f3-4220-bb0f-89f80cf6f9b8",
   "metadata": {
    "execution": {
     "iopub.execute_input": "2023-10-30T05:33:07.928383Z",
     "iopub.status.busy": "2023-10-30T05:33:07.927384Z",
     "iopub.status.idle": "2023-10-30T05:33:18.655248Z",
     "shell.execute_reply": "2023-10-30T05:33:18.654247Z",
     "shell.execute_reply.started": "2023-10-30T05:33:07.928383Z"
    },
    "tags": []
   },
   "outputs": [],
   "source": [
    "# text_length가 0인 row를 필터링\n",
    "filtered_df = spark_df.filter(F.col('text_length') == 0)\n",
    "\n",
    "# text_length가 0인 row를 필터링하고, 10개의 row만 수집\n",
    "filtered_df_10 = filtered_df.limit(10).collect()\n",
    "\n",
    "# 수집된 모든 컬럼값을 출력\n",
    "for i, row in enumerate(filtered_df_10):\n",
    "    print(f\"{i+1}. {row}\")"
   ]
  },
  {
   "cell_type": "code",
   "execution_count": 6,
   "id": "e60913b2-7b9c-4b62-87ed-17ee8205e95d",
   "metadata": {
    "execution": {
     "iopub.execute_input": "2023-10-30T05:32:41.475516Z",
     "iopub.status.busy": "2023-10-30T05:32:41.475516Z",
     "iopub.status.idle": "2023-10-30T05:32:49.703737Z",
     "shell.execute_reply": "2023-10-30T05:32:49.702736Z",
     "shell.execute_reply.started": "2023-10-30T05:32:41.475516Z"
    },
    "tags": []
   },
   "outputs": [
    {
     "name": "stdout",
     "output_type": "stream",
     "text": [
      "+-----------+--------------+-----------+\n",
      "|  ad_script|cleaned_script|text_length|\n",
      "+-----------+--------------+-----------+\n",
      "|대용량액상 |   대용량액상 |          6|\n",
      "|    티맵, .|       티맵, .|          5|\n",
      "|    탄탄한a|       탄탄한a|          4|\n",
      "|      abcd |         abcd |          5|\n",
      "|   HSAET DQ|      HSAET DQ|          8|\n",
      "|       4947|          4947|          4|\n",
      "+-----------+--------------+-----------+\n",
      "\n"
     ]
    }
   ],
   "source": [
    "# # 테스트 데이터 생성\n",
    "# text_data = [(\"대용량액상 \",), (\"티맵, .\",), (\"탄탄한a\",), (\"abcd \",), (\"HSAET DQ\",), (\"4947\",)]\n",
    "# ad_script_column = [\"ad_script\"]\n",
    "\n",
    "# # 데이터프레임 생성\n",
    "# test_df = spark.createDataFrame(text_data, ad_script_column)\n",
    "\n",
    "# # 특수문자 제거 및 길이 계산\n",
    "# test_df = test_df.withColumn(\"cleaned_script\", F.regexp_replace(F.col(\"ad_script\"), \"[^\\\\s\\\\n.,\\uAC00-\\uD7A3a-zA-Z0-9]\", \"\"))\n",
    "# test_df = test_df.withColumn(\"text_length\", F.length(F.col(\"cleaned_script\")))\n",
    "\n",
    "# # 결과 출력\n",
    "# test_df.show()"
   ]
  },
  {
   "cell_type": "markdown",
   "id": "2e1eceea-94aa-44b7-9a67-5565b727fbfb",
   "metadata": {},
   "source": [
    "## text_length 교정"
   ]
  },
  {
   "cell_type": "code",
   "execution_count": 5,
   "id": "15282746-640e-462b-a823-2ae97a8be3f5",
   "metadata": {
    "execution": {
     "iopub.execute_input": "2023-10-30T05:46:17.432562Z",
     "iopub.status.busy": "2023-10-30T05:46:17.432562Z",
     "iopub.status.idle": "2023-10-30T05:46:17.685620Z",
     "shell.execute_reply": "2023-10-30T05:46:17.684620Z",
     "shell.execute_reply.started": "2023-10-30T05:46:17.432562Z"
    },
    "tags": []
   },
   "outputs": [],
   "source": [
    "spark_df = spark_df.drop('text_length')\n",
    "\n",
    "# 'ad_name'과 'ad_script'를 그룹화하고, 각 그룹의 개수를 카운트\n",
    "grouped_ad_texts = spark_df.groupBy('ad_name', 'ad_script').count()\n",
    "\n",
    "# 'ad_name' 별로 가장 빈번한 'ad_script'를 선택\n",
    "windowSpec = Window.partitionBy('ad_name').orderBy(F.desc('count'))\n",
    "most_frequent_ad_texts = grouped_ad_texts.withColumn(\"rank\", F.rank().over(windowSpec)).filter(\"rank = 1\").drop('count', 'rank')\n",
    "\n",
    "# 특수문자 제거 및 길이 계산\n",
    "most_frequent_ad_texts = most_frequent_ad_texts.withColumn(\"cleaned_script\", F.regexp_replace(F.col(\"ad_script\"), \"[^\\\\s\\\\n.,\\uAC00-\\uD7A3a-zA-Z0-9]\", \"\"))\n",
    "most_frequent_ad_texts = most_frequent_ad_texts.withColumn(\"text_length\", F.length(F.col(\"cleaned_script\")))\n",
    "\n",
    "# 원래 데이터프레임에 조인\n",
    "# most_frequent_ad_texts가 상대적으로 작다고 했으므로 브로드캐스팅을 사용\n",
    "spark_df = spark_df.join(broadcast(most_frequent_ad_texts.select('ad_name', 'text_length')), ['ad_name'], 'left')"
   ]
  },
  {
   "cell_type": "markdown",
   "id": "3e597205-1e41-4642-92b0-9527ad165ff9",
   "metadata": {},
   "source": [
    "# accuracy 관련 컬럼 체크  \n",
    "## average_accuracy_by_user 컬럼 체크"
   ]
  },
  {
   "cell_type": "code",
   "execution_count": 8,
   "id": "f2262b84-92a8-44b5-82cd-a5ca33580b1a",
   "metadata": {
    "execution": {
     "iopub.execute_input": "2023-10-30T05:39:07.843066Z",
     "iopub.status.busy": "2023-10-30T05:39:07.843066Z",
     "iopub.status.idle": "2023-10-30T05:39:18.182977Z",
     "shell.execute_reply": "2023-10-30T05:39:18.181977Z",
     "shell.execute_reply.started": "2023-10-30T05:39:07.843066Z"
    },
    "tags": []
   },
   "outputs": [
    {
     "name": "stdout",
     "output_type": "stream",
     "text": [
      "The average of the first values in accuracy_array is 83.3108759553204\n"
     ]
    }
   ],
   "source": [
    "# user_id가 'Z77mAlLcRRbxQcW82ldEnAlOVUE2'인 행만 필터링\n",
    "filtered_df = spark_df.filter(F.col(\"user_id\") == 'Z77mAlLcRRbxQcW82ldEnAlOVUE2')\n",
    "\n",
    "# accuracy_array 컬럼만 선택하고 수집\n",
    "accuracy_array_values = filtered_df.select(\"accuracy_array\").collect()\n",
    "\n",
    "# 첫 번째 값들을 담을 리스트 초기화\n",
    "first_values = []\n",
    "\n",
    "# 수집된 값을 순회하면서 첫 번째 값들을 리스트에 추가\n",
    "for row in accuracy_array_values:\n",
    "    array_value = row[\"accuracy_array\"]\n",
    "    if array_value:\n",
    "        first_values.append(array_value[0])\n",
    "\n",
    "# 평균을 계산\n",
    "if first_values:\n",
    "    average_value = reduce(lambda x, y: x + y, first_values) / len(first_values)\n",
    "    print(f\"The average of the first values in accuracy_array is {average_value}\")\n",
    "else:\n",
    "    print(\"No data available for the calculation.\")"
   ]
  },
  {
   "cell_type": "markdown",
   "id": "1350230a",
   "metadata": {},
   "source": [
    "# 수집된 음성데이터들의 광고 종료일의 처음과 끝"
   ]
  },
  {
   "cell_type": "markdown",
   "id": "0c0585c8",
   "metadata": {},
   "source": [
    "1단계: created_timestamp_array에서 첫 번째 날짜 정보를 정규 표현식으로 추출  \n",
    "    (예: \"['23.06.06 오후 07시...]\" -> \"23.06.06\")    \n",
    "2단계: 날짜 형식으로 변환 (예: '23.06.06' -> '2023-06-06')  \n",
    "3단계: 날짜를 기준으로 DataFrame 정렬  \n",
    "4단계: 첫 번째와 마지막 행의 날짜 출력    "
   ]
  },
  {
   "cell_type": "code",
   "execution_count": null,
   "id": "edc795b5",
   "metadata": {
    "ExecuteTime": {
     "end_time": "2023-10-18T01:45:52.920281Z",
     "start_time": "2023-10-18T01:45:49.744262Z"
    },
    "execution": {
     "iopub.status.busy": "2023-10-30T02:37:32.195399Z",
     "iopub.status.idle": "2023-10-30T02:37:32.195399Z",
     "shell.execute_reply": "2023-10-30T02:37:32.195399Z",
     "shell.execute_reply.started": "2023-10-30T02:37:32.195399Z"
    },
    "tags": []
   },
   "outputs": [],
   "source": [
    "# 'created_timestamp_array'에서 첫 번째 요소를 가져옵니다.\n",
    "spark_df = spark_df.withColumn('first_timestamp', element_at(spark_df['created_timestamp_array'], 1))\n",
    "\n",
    "# 첫 번째 요소에서 날짜를 추출합니다.\n",
    "spark_df = spark_df.withColumn(\n",
    "    'first_created_date', \n",
    "    regexp_extract(col('first_timestamp'), r\"(\\d{2}\\.\\d{2}\\.\\d{2})\", 1)\n",
    ")\n",
    "\n",
    "# 날짜 형식으로 변환합니다 (예: '23.06.06' -> '2023-06-06').\n",
    "spark_df = spark_df.withColumn(\n",
    "    'first_created_date', \n",
    "    F.expr(\"concat('20', substring(first_created_date, 1, 2), '-', substring(first_created_date, 4, 2), '-', substring(first_created_date, 7, 2))\")\n",
    ")\n",
    "\n",
    "# 날짜를 기준으로 DataFrame 정렬합니다.\n",
    "spark_df = spark_df.sort('first_created_date')\n",
    "\n",
    "# 첫 번째와 마지막 행의 날짜를 출력합니다.\n",
    "earliest_date = spark_df.select('first_created_date').limit(1).collect()[0][0]\n",
    "latest_date = spark_df.select('first_created_date').orderBy(F.desc('first_created_date')).limit(1).collect()[0][0]\n",
    "\n",
    "print(f\"가장 먼저 생성된 음성파일의 날짜: {earliest_date}\")\n",
    "print(f\"가장 나중에 생성된 음성파일의 날짜: {latest_date}\")"
   ]
  },
  {
   "cell_type": "markdown",
   "id": "87bf1cde",
   "metadata": {},
   "source": [
    "# 월별로 Point와 Memorization의 평균을 계산 -> 막대 그래프 "
   ]
  },
  {
   "cell_type": "code",
   "execution_count": null,
   "id": "04551276",
   "metadata": {
    "ExecuteTime": {
     "end_time": "2023-09-27T05:43:01.851263Z",
     "start_time": "2023-09-27T05:43:01.837259Z"
    },
    "execution": {
     "iopub.status.busy": "2023-10-30T02:37:32.196399Z",
     "iopub.status.idle": "2023-10-30T02:37:32.197399Z",
     "shell.execute_reply": "2023-10-30T02:37:32.196399Z",
     "shell.execute_reply.started": "2023-10-30T02:37:32.196399Z"
    }
   },
   "outputs": [],
   "source": [
    "# plt.rc('font', family='NanumBarunGothic')  # 한글 폰트 설정, 예: 'NanumBarunGothic', 'Malgun Gothic' 등"
   ]
  },
  {
   "cell_type": "code",
   "execution_count": null,
   "id": "58547bf4",
   "metadata": {
    "ExecuteTime": {
     "end_time": "2023-10-18T01:46:01.128480Z",
     "start_time": "2023-10-18T01:45:57.982205Z"
    },
    "execution": {
     "iopub.status.busy": "2023-10-30T02:37:32.197399Z",
     "iopub.status.idle": "2023-10-30T02:37:32.198398Z",
     "shell.execute_reply": "2023-10-30T02:37:32.198398Z",
     "shell.execute_reply.started": "2023-10-30T02:37:32.198398Z"
    },
    "scrolled": true,
    "tags": []
   },
   "outputs": [],
   "source": [
    "# 월 정보를 추출\n",
    "spark_df = spark_df.withColumn(\"month\", F.date_format(\"first_created_date\", \"yyyy-MM\"))\n",
    "\n",
    "# 월별로 Point와 Memorization의 카운트 계산\n",
    "grouped_data = spark_df.filter(F.col(\"collection\").isin([\"Point\", \"Memorization\"])).groupBy(\"month\", \"collection\").count().sort(\"month\", \"collection\")\n",
    "\n",
    "# Spark DataFrame을 Pandas DataFrame으로 변환\n",
    "pdf = grouped_data.toPandas()\n",
    "\n",
    "# 월 정보에서 연도 부분을 축소 (예: '2023-04' -> '23-04')\n",
    "pdf['short_month'] = pdf['month'].str[2:]\n",
    "\n",
    "# Point와 Memorization에 대한 별도의 데이터 프레임 추출\n",
    "point_df = pdf[pdf['collection'] == 'Point'].sort_values(by='month')\n",
    "memorization_df = pdf[pdf['collection'] == 'Memorization'].sort_values(by='month')\n",
    "\n",
    "# 막대 그래프 그리기\n",
    "plt.figure(figsize=(12, 6))\n",
    "\n",
    "# y축 레이블을 정수로 표시하고 세 자리마다 쉼표 추가\n",
    "formatter = FuncFormatter(lambda x, _: '{:,.0f}'.format(x))\n",
    "plt.gca().yaxis.set_major_formatter(formatter)\n",
    "\n",
    "# x축 라벨을 명시적으로 지정\n",
    "xticks = sorted(set(point_df['short_month'].tolist() + memorization_df['short_month'].tolist()))\n",
    "x = np.arange(len(xticks))\n",
    "\n",
    "# 막대 너비 지정\n",
    "width = 0.4\n",
    "\n",
    "# 각 데이터 프레임에 대해 막대 그래프 그리기\n",
    "plt.bar(x - width/2, point_df.set_index('short_month').reindex(xticks)['count'].fillna(0), width, label='Point')\n",
    "plt.bar(x + width/2, memorization_df.set_index('short_month').reindex(xticks)['count'].fillna(0), width, label='Memorization')\n",
    "\n",
    "plt.xticks(ticks=x, labels=xticks, rotation=45)\n",
    "\n",
    "plt.xlabel('Month')\n",
    "plt.ylabel('count')\n",
    "plt.title('Monthly Count of Point and Memorization')\n",
    "plt.legend()\n",
    "plt.show()\n",
    "\n",
    "# # 'dummy' 값들을 제외하고 카운트\n",
    "# dummy_count = spark_df.filter(~F.col(\"collection\").isin([\"Point\", \"Memorization\"])).count()\n",
    "# print(f\"Number of 'dummy' values in 'collection': {dummy_count}\")"
   ]
  },
  {
   "cell_type": "markdown",
   "id": "6bbb7048",
   "metadata": {},
   "source": [
    "## 8월 일별 데이터 추가량 출력"
   ]
  },
  {
   "cell_type": "code",
   "execution_count": null,
   "id": "7a77e43a",
   "metadata": {
    "ExecuteTime": {
     "end_time": "2023-10-18T01:46:11.714882Z",
     "start_time": "2023-10-18T01:46:08.636197Z"
    },
    "execution": {
     "iopub.status.busy": "2023-10-30T02:37:32.199398Z",
     "iopub.status.idle": "2023-10-30T02:37:32.199398Z",
     "shell.execute_reply": "2023-10-30T02:37:32.199398Z",
     "shell.execute_reply.started": "2023-10-30T02:37:32.199398Z"
    }
   },
   "outputs": [],
   "source": [
    "# 8월 데이터만 필터링\n",
    "aug_data = spark_df.filter((F.col(\"month\") == \"2023-08\") & (F.col(\"collection\").isin([\"Point\", \"Memorization\"])))\n",
    "\n",
    "# 8월에 하루 평균 몇 개씩 추가되었는지 계산\n",
    "aug_daily_avg = aug_data.groupBy(\"collection\").agg((F.count(\"collection\") / F.countDistinct(F.date_format(\"first_created_date\", \"yyyy-MM-dd\"))).alias(\"daily_avg\"))\n",
    "\n",
    "# 결과를 Pandas DataFrame으로 변환\n",
    "aug_daily_avg_pdf = aug_daily_avg.toPandas()\n",
    "\n",
    "# 결과 출력\n",
    "print(aug_daily_avg_pdf)"
   ]
  },
  {
   "cell_type": "markdown",
   "id": "4d20540d",
   "metadata": {},
   "source": [
    "# Point와 Memorization에 해당하는 행의 개수를 출력"
   ]
  },
  {
   "cell_type": "code",
   "execution_count": null,
   "id": "fde1bcd9",
   "metadata": {
    "ExecuteTime": {
     "end_time": "2023-09-27T05:10:24.633661Z",
     "start_time": "2023-09-27T05:10:24.144652Z"
    },
    "execution": {
     "iopub.status.busy": "2023-10-30T02:37:32.200398Z",
     "iopub.status.idle": "2023-10-30T02:37:32.200398Z",
     "shell.execute_reply": "2023-10-30T02:37:32.200398Z",
     "shell.execute_reply.started": "2023-10-30T02:37:32.200398Z"
    },
    "tags": []
   },
   "outputs": [],
   "source": [
    "point_count = spark_df.filter(F.col(\"collection\") == \"Point\").count()\n",
    "memorization_count = spark_df.filter(F.col(\"collection\") == \"Memorization\").count()\n",
    "\n",
    "print(f\"Number of rows for 'Point': {point_count}\")\n",
    "print(f\"Number of rows for 'Memorization': {memorization_count}\")"
   ]
  },
  {
   "cell_type": "markdown",
   "id": "4b770caa",
   "metadata": {},
   "source": [
    "음성데이터 1만개의 평균치를 통한 전체 음성파일 크기 예상 수치\n",
    "\n",
    "음성파일 raw data 크기(amr로 수집한 형태)\n",
    "Point 용량 예측치: 1878464 * 150 KB = 281769600 KB = 약 281.8 GB(SI 표기법 기준)\n",
    "Memorization 용량 예측치: 4876147 * 15 KB = 73142205 KB = 약 73.1 GB(SI 표기법 기준)(IEC가 아닌)\n",
    "\n",
    "음성파일 wav data 크기\n",
    "Point 용량 예측치: 268.7 GB * 10 = 2687 GB = 약 2 TB 287 GB\n",
    "Memorization 용량 예측치: 73.1 GB * 10 = 약 731 GB"
   ]
  },
  {
   "cell_type": "markdown",
   "id": "b1f62378",
   "metadata": {},
   "source": [
    "# Point와 Memorization 정확도 분포"
   ]
  },
  {
   "cell_type": "code",
   "execution_count": 11,
   "id": "81213e6f",
   "metadata": {
    "ExecuteTime": {
     "end_time": "2023-10-18T02:37:30.981362Z",
     "start_time": "2023-10-18T02:36:56.770547Z"
    },
    "execution": {
     "iopub.execute_input": "2023-10-30T06:12:19.943702Z",
     "iopub.status.busy": "2023-10-30T06:12:19.942701Z",
     "iopub.status.idle": "2023-10-30T06:12:36.367074Z",
     "shell.execute_reply": "2023-10-30T06:12:36.366074Z",
     "shell.execute_reply.started": "2023-10-30T06:12:19.943702Z"
    },
    "tags": []
   },
   "outputs": [
    {
     "data": {
      "image/png": "[encoded data removed]",
      "text/plain": [
       "<Figure size 640x480 with 1 Axes>"
      ]
     },
     "metadata": {},
     "output_type": "display_data"
    }
   ],
   "source": [
    "# 'Point' 데이터만 필터링\n",
    "filtered_df = spark_df.filter((F.col('collection') == 'Point'))\n",
    "\n",
    "# 'accuracy_array'를 개별 행으로 분리 (이미 array 타입이므로 UDF 변환 생략)\n",
    "exploded_df = filtered_df.withColumn('single_accuracy', F.explode('accuracy_array'))\n",
    "\n",
    "# # 정확도 값이 80과 100 사이인 데이터만 필터링\n",
    "# final_df = exploded_df.filter((F.col('single_accuracy') >= 80) & (F.col('single_accuracy') <= 100))\n",
    "\n",
    "# 그래프를 그리기 위해 Pandas DataFrame으로 변환\n",
    "final_pdf = exploded_df.select('single_accuracy').toPandas()\n",
    "\n",
    "# 히스토그램 그리기\n",
    "plt.hist(final_pdf['single_accuracy'], bins=20)\n",
    "plt.title('Accuracy distribution of Point')\n",
    "plt.xlabel('Accuracy')\n",
    "plt.ylabel('Frequency')\n",
    "plt.show()"
   ]
  },
  {
   "cell_type": "code",
   "execution_count": 12,
   "id": "18b73069",
   "metadata": {
    "ExecuteTime": {
     "end_time": "2023-10-18T02:52:43.225755Z",
     "start_time": "2023-10-18T02:52:05.499619Z"
    },
    "execution": {
     "iopub.execute_input": "2023-10-30T06:14:32.986130Z",
     "iopub.status.busy": "2023-10-30T06:14:32.986130Z",
     "iopub.status.idle": "2023-10-30T06:15:09.772355Z",
     "shell.execute_reply": "2023-10-30T06:15:09.772355Z",
     "shell.execute_reply.started": "2023-10-30T06:14:32.986130Z"
    },
    "tags": []
   },
   "outputs": [
    {
     "data": {
      "image/png": "[encoded data removed]",
      "text/plain": [
       "<Figure size 640x480 with 1 Axes>"
      ]
     },
     "metadata": {},
     "output_type": "display_data"
    }
   ],
   "source": [
    "# 'Memorization' 데이터만 필터링\n",
    "filtered_df_mem = spark_df.filter((F.col('collection') == 'Memorization'))\n",
    "\n",
    "# 'accuracy_array'를 개별 행으로 분리\n",
    "exploded_df_mem = filtered_df_mem.withColumn('single_accuracy', F.explode('accuracy_array'))\n",
    "\n",
    "# 그래프를 그리기 위해 Pandas DataFrame으로 변환\n",
    "final_pdf_mem = exploded_df_mem.select('single_accuracy').toPandas()\n",
    "\n",
    "# 히스토그램 그리기\n",
    "plt.hist(final_pdf_mem['single_accuracy'], bins=20)\n",
    "plt.yticks([1e6, 2e6, 3e6, 4e6, 5e6])\n",
    "plt.title('Accuracy distribution of Memorization')\n",
    "plt.xlabel('Accuracy')\n",
    "plt.ylabel('Frequency')\n",
    "plt.show()"
   ]
  },
  {
   "cell_type": "markdown",
   "id": "06430300",
   "metadata": {},
   "source": [
    "# 스크립트 길이 분포도"
   ]
  },
  {
   "cell_type": "code",
   "execution_count": 8,
   "id": "4aedc453",
   "metadata": {
    "ExecuteTime": {
     "end_time": "2023-10-18T03:11:38.591386Z",
     "start_time": "2023-10-18T03:11:15.902461Z"
    },
    "execution": {
     "iopub.execute_input": "2023-10-30T05:52:37.912343Z",
     "iopub.status.busy": "2023-10-30T05:52:37.912343Z",
     "iopub.status.idle": "2023-10-30T05:53:25.615321Z",
     "shell.execute_reply": "2023-10-30T05:53:25.614320Z",
     "shell.execute_reply.started": "2023-10-30T05:52:37.912343Z"
    },
    "tags": []
   },
   "outputs": [
    {
     "data": {
      "image/png": "[encoded data removed]",
      "text/plain": [
       "<Figure size 640x480 with 2 Axes>"
      ]
     },
     "metadata": {},
     "output_type": "display_data"
    }
   ],
   "source": [
    "# 'Point'와 'Memorization' 데이터 필터링\n",
    "filtered_df_point = spark_df.filter(F.col('collection') == 'Point')\n",
    "filtered_df_mem = spark_df.filter(F.col('collection') == 'Memorization')\n",
    "\n",
    "# 데이터를 Pandas DataFrame으로 변환\n",
    "pdf_point = filtered_df_point.select('text_length').toPandas()\n",
    "pdf_mem = filtered_df_mem.select('text_length').toPandas()\n",
    "\n",
    "plt.subplot(1, 2, 1)\n",
    "plt.hist(pdf_point['text_length'].dropna(), bins=20, color='blue', alpha=0.7, label='Point')\n",
    "plt.title('Text Length Distribution of Points')\n",
    "plt.xlabel('text_length')\n",
    "plt.ylabel('frequency')\n",
    "\n",
    "plt.subplot(1, 2, 2)\n",
    "plt.hist(pdf_mem['text_length'].dropna(), bins=20, color='green', alpha=0.7, label='Memorization')\n",
    "plt.title('Text Length Distribution of Memorization')\n",
    "plt.xlabel('text_length')\n",
    "plt.ylabel('frequency')\n",
    "plt.xlim(0, 20)  # x축 최대값을 20으로 설정\n",
    "\n",
    "plt.subplots_adjust(wspace=0.8)\n",
    "plt.show()"
   ]
  },
  {
   "cell_type": "markdown",
   "id": "2c62fae9",
   "metadata": {},
   "source": [
    "# 성별 원형 차트"
   ]
  },
  {
   "cell_type": "code",
   "execution_count": 22,
   "id": "19808a08",
   "metadata": {
    "ExecuteTime": {
     "end_time": "2023-10-18T03:18:54.308191Z",
     "start_time": "2023-10-18T03:18:54.008192Z"
    },
    "execution": {
     "iopub.execute_input": "2023-10-30T06:30:34.289652Z",
     "iopub.status.busy": "2023-10-30T06:30:34.289652Z",
     "iopub.status.idle": "2023-10-30T06:30:34.306655Z",
     "shell.execute_reply": "2023-10-30T06:30:34.305655Z",
     "shell.execute_reply.started": "2023-10-30T06:30:34.289652Z"
    },
    "tags": []
   },
   "outputs": [],
   "source": [
    "# # 'M'과 'W'만 포함하는 gender 데이터를 필터링\n",
    "# filtered_gender_data = spark_df.filter(F.col('gender').isin(['M', 'W'])).groupBy('gender').count().toPandas()\n",
    "\n",
    "# # 원형 차트 그리기\n",
    "# plt.figure(figsize=(6, 6))\n",
    "# plt.pie(filtered_gender_data['count'], labels=filtered_gender_data['gender'], autopct='%1.1f%%', startangle=90)\n",
    "# plt.title('Gender Ratio')\n",
    "# plt.show()"
   ]
  },
  {
   "cell_type": "markdown",
   "id": "40490cf7-2a63-4a13-b59c-11c7e60f4277",
   "metadata": {
    "execution": {
     "iopub.execute_input": "2023-11-06T06:34:43.289256Z",
     "iopub.status.busy": "2023-11-06T06:34:43.289256Z",
     "iopub.status.idle": "2023-11-06T06:34:43.296552Z",
     "shell.execute_reply": "2023-11-06T06:34:43.296552Z",
     "shell.execute_reply.started": "2023-11-06T06:34:43.289256Z"
    }
   },
   "source": [
    "# 9월 이용량 분석 - CSR 이용요금 확인"
   ]
  },
  {
   "cell_type": "code",
   "execution_count": 6,
   "id": "fd240b3d-1d61-4820-8bfa-fd1bb70e4735",
   "metadata": {
    "execution": {
     "iopub.execute_input": "2023-11-08T03:48:20.377798Z",
     "iopub.status.busy": "2023-11-08T03:48:20.376800Z",
     "iopub.status.idle": "2023-11-08T03:48:31.122665Z",
     "shell.execute_reply": "2023-11-08T03:48:31.122665Z",
     "shell.execute_reply.started": "2023-11-08T03:48:20.377798Z"
    }
   },
   "outputs": [],
   "source": [
    "# 'created_timestamp_array'의 모든 요소에서 날짜 부분을 추출하여 새로운 컬럼에 저장\n",
    "spark_df = spark_df.withColumn(\n",
    "    \"extracted_dates\", \n",
    "    F.expr(\"transform(created_timestamp_array, x -> regexp_extract(x, '(\\\\\\\\d{2}\\\\\\\\.\\\\\\\\d{2}\\\\\\\\.\\\\\\\\d{2})', 0))\")\n",
    ")\n",
    "\n",
    "# 날짜 형식을 변환하여 새로운 컬럼에 저장\n",
    "spark_df = spark_df.withColumn(\n",
    "    \"formatted_dates\", \n",
    "    expr(\"transform(extracted_dates, x -> concat('20', substring(x, 1, 2), '-', substring(x, 4, 2), '-', substring(x, 7, 2)))\")\n",
    ")\n",
    "\n",
    "# 날짜 범위에 따라 필터링\n",
    "spark_df = spark_df.withColumn(\n",
    "    \"is_in_range\",\n",
    "    expr(\"array_contains(formatted_dates, '2023-09-01') OR (formatted_dates[0] >= '2023-09-01' AND formatted_dates[0] <= '2023-09-30')\")\n",
    ")\n",
    "\n",
    "# 'collection' 값이 'Memorization' 또는 'Point' 인 행을 필터링하고 개수를 세어 집계\n",
    "memorization_count = spark_df.filter((col(\"collection\") == \"Memorization\") & col(\"is_in_range\")).count()\n",
    "point_count = spark_df.filter((col(\"collection\") == \"Point\") & col(\"is_in_range\")).count()\n",
    "\n",
    "# 'collection' 값이 'Memorization' 또는 'Point'가 아닌 행을 필터링하고 개수를 세어 저장\n",
    "ignored_count = spark_df.filter(~col(\"collection\").isin([\"Memorization\", \"Point\"]) & col(\"is_in_range\")).count()\n"
   ]
  },
  {
   "cell_type": "code",
   "execution_count": 7,
   "id": "30b18162-1310-4225-a4f9-a0149e42cae3",
   "metadata": {
    "execution": {
     "iopub.execute_input": "2023-11-08T03:48:32.497708Z",
     "iopub.status.busy": "2023-11-08T03:48:32.497708Z",
     "iopub.status.idle": "2023-11-08T03:48:32.509930Z",
     "shell.execute_reply": "2023-11-08T03:48:32.509283Z",
     "shell.execute_reply.started": "2023-11-08T03:48:32.497708Z"
    }
   },
   "outputs": [
    {
     "name": "stdout",
     "output_type": "stream",
     "text": [
      "9월 달 'Memorization' 컬렉션의 수: 2976621\n",
      "9월 달 'Point' 컬렉션의 수: 224834\n",
      "9월 달 무시된 행의 수: 0\n"
     ]
    }
   ],
   "source": [
    "# 'Memorization' 컬렉션의 수를 출력\n",
    "print(f\"9월 달 'Memorization' 컬렉션의 수: {memorization_count}\")\n",
    "\n",
    "# 'Point' 컬렉션의 수를 출력\n",
    "print(f\"9월 달 'Point' 컬렉션의 수: {point_count}\")\n",
    "\n",
    "# 무시된 행의 수를 출력\n",
    "print(f\"9월 달 무시된 행의 수: {ignored_count}\")\n"
   ]
  },
  {
   "cell_type": "code",
   "execution_count": 8,
   "id": "1241f3bb-f8ea-42b3-bd67-32df9ce3673c",
   "metadata": {
    "execution": {
     "iopub.execute_input": "2023-11-06T07:54:53.493899Z",
     "iopub.status.busy": "2023-11-06T07:54:53.493899Z",
     "iopub.status.idle": "2023-11-06T07:54:53.509224Z",
     "shell.execute_reply": "2023-11-06T07:54:53.509224Z",
     "shell.execute_reply.started": "2023-11-06T07:54:53.493899Z"
    }
   },
   "outputs": [],
   "source": [
    "# # 날짜 형식을 변환하여 새로운 컬럼에 저장하고, 날짜 범위에 맞는 데이터만 필터링합니다.\n",
    "# spark_df = spark_df.withColumn(\n",
    "#     \"formatted_date\", \n",
    "#     F.expr(\"concat('20', substring(extracted_dates[0], 1, 2), '-', substring(extracted_dates[0], 4, 2), '-', substring(extracted_dates[0], 7, 2))\")\n",
    "# ).filter(F.col(\"formatted_date\") >= '2023-09-01').filter(F.col(\"formatted_date\") <= '2023-09-30')\n",
    "\n",
    "# # 날짜별로 'Memorization'과 'Point'의 개수를 계산합니다.\n",
    "# daily_collection_count = spark_df.groupBy(\"formatted_date\").pivot(\"collection\", [\"Memorization\", \"Point\"]).count()\n",
    "\n",
    "# # 날짜별로 'recorded'와 'unrecorded'의 개수를 계산합니다.\n",
    "# spark_df = spark_df.withColumn(\"is_recorded\", F.expr(\"element_at(created_timestamp_array, -1) = 'recorded'\"))\n",
    "# daily_record_status_count = spark_df.groupBy(\"formatted_date\").pivot(\"is_recorded\").count()\n",
    "\n",
    "# # 두 집계 결과를 조인합니다.\n",
    "# daily_stats = daily_collection_count.join(daily_record_status_count, \"formatted_date\")"
   ]
  },
  {
   "cell_type": "code",
   "execution_count": 8,
   "id": "a14756c1-e75e-4999-9dd5-8a5ab396fe79",
   "metadata": {
    "execution": {
     "iopub.execute_input": "2023-11-08T03:48:41.438459Z",
     "iopub.status.busy": "2023-11-08T03:48:41.437459Z",
     "iopub.status.idle": "2023-11-08T03:48:44.551780Z",
     "shell.execute_reply": "2023-11-08T03:48:44.550781Z",
     "shell.execute_reply.started": "2023-11-08T03:48:41.438459Z"
    }
   },
   "outputs": [],
   "source": [
    "# 날짜 형식을 변환하고, 2023년 9월 1일부터 9월 30일까지의 데이터만 필터링합니다.\n",
    "spark_df = spark_df.withColumn(\n",
    "    \"formatted_date\", \n",
    "    F.expr(\"concat('20', substring(extracted_dates[0], 1, 2), '-', substring(extracted_dates[0], 4, 2), '-', substring(extracted_dates[0], 7, 2))\")\n",
    ").filter(\n",
    "    (F.col(\"formatted_date\") >= '2023-09-01') & (F.col(\"formatted_date\") <= '2023-09-30')\n",
    ")\n",
    "\n",
    "# 날짜별로 'Memorization'과 'Point'의 개수를 계산합니다.\n",
    "daily_collection_count = spark_df.groupBy(\"formatted_date\").pivot(\"collection\", [\"Memorization\", \"Point\"]).count()\n",
    "\n",
    "# 'accuracy_array'를 기반으로 'recorded', 'unrecorded', 'failed'를 계산하는 코드\n",
    "spark_df = spark_df.withColumn(\"total_tries\", F.size(F.col(\"accuracy_array\")))\n",
    "\n",
    "# 배열의 길이를 사용하여 마지막 요소에 접근합니다.\n",
    "spark_df = spark_df.withColumn(\"array_length\", F.size(F.col(\"accuracy_array\")))\n",
    "spark_df = spark_df.withColumn(\"last_accuracy\", expr(\"accuracy_array[array_length - 1]\"))\n",
    "\n",
    "spark_df = spark_df.withColumn(\"recorded\", F.when(F.col(\"accuracy_array\")[-1] >= 80, 1).otherwise(0))\n",
    "spark_df = spark_df.withColumn(\"unrecorded\", F.size(F.expr(\"filter(accuracy_array, x -> x >= 80)\")) - F.col(\"recorded\"))\n",
    "spark_df = spark_df.withColumn(\"failed\", F.size(F.expr(\"filter(accuracy_array, x -> x < 80)\")))\n",
    "\n",
    "# 날짜별로 'recorded', 'unrecorded', 'failed'의 개수를 계산합니다.\n",
    "daily_record_status_count = spark_df.groupBy(\"formatted_date\").agg(\n",
    "    F.sum(\"recorded\").alias(\"recorded\"),\n",
    "    F.sum(\"unrecorded\").alias(\"unrecorded\"),\n",
    "    F.sum(\"failed\").alias(\"failed\")\n",
    ")\n",
    "\n",
    "# 'total_tries'를 각 'collection' 값에 대해 계산합니다.\n",
    "daily_collection_tries = spark_df.groupBy(\"formatted_date\", \"collection\").agg(\n",
    "    F.sum(\"total_tries\").alias(\"total_tries\")\n",
    ").groupBy(\"formatted_date\").pivot(\"collection\").sum(\"total_tries\")\n",
    "\n",
    "# 컬럼 이름을 변경하여 중복을 피합니다.\n",
    "daily_collection_tries = daily_collection_tries.withColumnRenamed(\"Memorization\", \"Memorization_total_tries\") \\\n",
    "                                               .withColumnRenamed(\"Point\", \"Point_total_tries\")\n",
    "\n",
    "# 총합을 구하는 코드는 아래와 같습니다.\n",
    "total_tries_summary = daily_collection_tries.groupBy().sum()\n",
    "\n",
    "# 집계 결과를 조인합니다.\n",
    "daily_stats = daily_collection_count.join(daily_record_status_count, \"formatted_date\", \"left_outer\")\n",
    "daily_stats = daily_stats.join(daily_collection_tries, \"formatted_date\", \"left_outer\")\n"
   ]
  },
  {
   "cell_type": "code",
   "execution_count": 9,
   "id": "b6521b66-eda0-450f-bdd5-1a917d5fe504",
   "metadata": {
    "execution": {
     "iopub.execute_input": "2023-11-08T03:53:08.342364Z",
     "iopub.status.busy": "2023-11-08T03:53:08.341364Z",
     "iopub.status.idle": "2023-11-08T03:53:08.382373Z",
     "shell.execute_reply": "2023-11-08T03:53:08.381373Z",
     "shell.execute_reply.started": "2023-11-08T03:53:08.342364Z"
    }
   },
   "outputs": [],
   "source": [
    "daily_stats = daily_stats.withColumn(\n",
    "    \"Memorization_failed\", \n",
    "    F.col(\"Memorization_total_tries\") - F.col(\"Memorization\")\n",
    ").withColumn(\n",
    "    \"Point_failed\", \n",
    "    F.col(\"Point_total_tries\") - F.col(\"Point\")\n",
    ")"
   ]
  },
  {
   "cell_type": "code",
   "execution_count": 10,
   "id": "9c7c6076-8c08-4118-bae4-42ba9ba6f661",
   "metadata": {
    "execution": {
     "iopub.execute_input": "2023-11-08T03:53:11.558630Z",
     "iopub.status.busy": "2023-11-08T03:53:11.558630Z",
     "iopub.status.idle": "2023-11-08T03:53:27.138913Z",
     "shell.execute_reply": "2023-11-08T03:53:27.137913Z",
     "shell.execute_reply.started": "2023-11-08T03:53:11.558630Z"
    }
   },
   "outputs": [
    {
     "name": "stdout",
     "output_type": "stream",
     "text": [
      "+--------------+------------+-----+--------+----------+------+------------------------+-----------------+-------------------+------------+\n",
      "|formatted_date|Memorization|Point|recorded|unrecorded|failed|Memorization_total_tries|Point_total_tries|Memorization_failed|Point_failed|\n",
      "+--------------+------------+-----+--------+----------+------+------------------------+-----------------+-------------------+------------+\n",
      "|2023-09-01    |79378       |9120 |0       |87200     |26974 |97048                   |17126            |17670              |8006        |\n",
      "|2023-09-02    |88585       |6706 |0       |94321     |18413 |102533                  |10201            |13948              |3495        |\n",
      "|2023-09-03    |83437       |6346 |0       |89012     |16390 |96945                   |8457             |13508              |2111        |\n",
      "|2023-09-04    |76194       |8266 |0       |82986     |22673 |89024                   |16635            |12830              |8369        |\n",
      "|2023-09-05    |93376       |8552 |0       |100932    |18707 |107815                  |11824            |14439              |3272        |\n",
      "|2023-09-06    |86623       |7887 |0       |93101     |35255 |101694                  |26662            |15071              |18775       |\n",
      "|2023-09-07    |87611       |7423 |0       |93900     |23136 |103908                  |13128            |16297              |5705        |\n",
      "|2023-09-08    |85811       |7323 |0       |92263     |19329 |98297                   |13295            |12486              |5972        |\n",
      "|2023-09-09    |96072       |5226 |0       |100350    |23883 |115803                  |8430             |19731              |3204        |\n",
      "|2023-09-10    |107808      |4369 |0       |111530    |17979 |123600                  |5909             |15792              |1540        |\n",
      "|2023-09-11    |104330      |6768 |0       |110265    |21045 |120203                  |11107            |15873              |4339        |\n",
      "|2023-09-12    |103107      |8008 |0       |110215    |20490 |119255                  |11450            |16148              |3442        |\n",
      "|2023-09-13    |113755      |7019 |0       |119691    |24907 |130534                  |14064            |16779              |7045        |\n",
      "|2023-09-14    |111686      |6506 |0       |117160    |22025 |128518                  |10667            |16832              |4161        |\n",
      "|2023-09-15    |81582       |9565 |0       |90181     |18096 |93305                   |14972            |11723              |5407        |\n",
      "|2023-09-16    |93572       |6272 |0       |98694     |19997 |108886                  |9805             |15314              |3533        |\n",
      "|2023-09-17    |91799       |5362 |0       |96154     |19428 |108002                  |7580             |16203              |2218        |\n",
      "|2023-09-18    |80590       |7115 |0       |86555     |17575 |92138                   |11992            |11548              |4877        |\n",
      "|2023-09-19    |85062       |9210 |0       |93250     |16353 |97840                   |11763            |12778              |2553        |\n",
      "|2023-09-20    |96277       |8229 |0       |103150    |61241 |110752                  |53639            |14475              |45410       |\n",
      "|2023-09-21    |108123      |9066 |0       |116136    |31086 |124757                  |22465            |16634              |13399       |\n",
      "|2023-09-22    |112015      |7594 |0       |118329    |30581 |133403                  |15507            |21388              |7913        |\n",
      "|2023-09-23    |112232      |5437 |0       |116795    |22123 |128973                  |9945             |16741              |4508        |\n",
      "|2023-09-24    |107985      |4916 |0       |112113    |19940 |124296                  |7757             |16311              |2841        |\n",
      "|2023-09-25    |108659      |6891 |0       |113474    |35781 |126202                  |23053            |17543              |16162       |\n",
      "|2023-09-26    |127041      |7254 |0       |132180    |30662 |146757                  |16085            |19716              |8831        |\n",
      "|2023-09-27    |132151      |7893 |0       |138105    |30214 |156213                  |12106            |24062              |4213        |\n",
      "|2023-09-28    |119021      |13683|0       |131286    |25217 |140073                  |16430            |21052              |2747        |\n",
      "|2023-09-29    |111289      |9190 |0       |119481    |24125 |131945                  |11661            |20656              |2471        |\n",
      "|2023-09-30    |91450       |7058 |0       |97697     |17784 |105390                  |10091            |13940              |3033        |\n",
      "+--------------+------------+-----+--------+----------+------+------------------------+-----------------+-------------------+------------+\n",
      "\n"
     ]
    }
   ],
   "source": [
    "# 결과를 오름차순으로 정렬하고, 모든 행을 출력합니다.\n",
    "daily_stats.orderBy(\"formatted_date\").show(n=daily_stats.count(), truncate=False)"
   ]
  },
  {
   "cell_type": "code",
   "execution_count": 11,
   "id": "f6d1e415-b997-4b0f-aca4-c3a5a12875ad",
   "metadata": {
    "execution": {
     "iopub.execute_input": "2023-11-08T03:58:26.864085Z",
     "iopub.status.busy": "2023-11-08T03:58:26.864085Z",
     "iopub.status.idle": "2023-11-08T03:58:38.730837Z",
     "shell.execute_reply": "2023-11-08T03:58:38.730837Z",
     "shell.execute_reply.started": "2023-11-08T03:58:26.864085Z"
    }
   },
   "outputs": [
    {
     "name": "stdout",
     "output_type": "stream",
     "text": [
      "   formatted_date  Memorization  Point  recorded  unrecorded  failed  \\\n",
      "0      2023-09-01         79378   9120         0       87200   26974   \n",
      "1      2023-09-02         88585   6706         0       94321   18413   \n",
      "2      2023-09-03         83437   6346         0       89012   16390   \n",
      "3      2023-09-04         76194   8266         0       82986   22673   \n",
      "4      2023-09-05         93376   8552         0      100932   18707   \n",
      "5      2023-09-06         86623   7887         0       93101   35255   \n",
      "6      2023-09-07         87611   7423         0       93900   23136   \n",
      "7      2023-09-08         85811   7323         0       92263   19329   \n",
      "8      2023-09-09         96072   5226         0      100350   23883   \n",
      "9      2023-09-10        107808   4369         0      111530   17979   \n",
      "10     2023-09-11        104330   6768         0      110265   21045   \n",
      "11     2023-09-12        103107   8008         0      110215   20490   \n",
      "12     2023-09-13        113755   7019         0      119691   24907   \n",
      "13     2023-09-14        111686   6506         0      117160   22025   \n",
      "14     2023-09-15         81582   9565         0       90181   18096   \n",
      "15     2023-09-16         93572   6272         0       98694   19997   \n",
      "16     2023-09-17         91799   5362         0       96154   19428   \n",
      "17     2023-09-18         80590   7115         0       86555   17575   \n",
      "18     2023-09-19         85062   9210         0       93250   16353   \n",
      "19     2023-09-20         96277   8229         0      103150   61241   \n",
      "20     2023-09-21        108123   9066         0      116136   31086   \n",
      "21     2023-09-22        112015   7594         0      118329   30581   \n",
      "22     2023-09-23        112232   5437         0      116795   22123   \n",
      "23     2023-09-24        107985   4916         0      112113   19940   \n",
      "24     2023-09-25        108659   6891         0      113474   35781   \n",
      "25     2023-09-26        127041   7254         0      132180   30662   \n",
      "26     2023-09-27        132151   7893         0      138105   30214   \n",
      "27     2023-09-28        119021  13683         0      131286   25217   \n",
      "28     2023-09-29        111289   9190         0      119481   24125   \n",
      "29     2023-09-30         91450   7058         0       97697   17784   \n",
      "\n",
      "    Memorization_total_tries  Point_total_tries  Memorization_failed  \\\n",
      "0                      97048              17126                17670   \n",
      "1                     102533              10201                13948   \n",
      "2                      96945               8457                13508   \n",
      "3                      89024              16635                12830   \n",
      "4                     107815              11824                14439   \n",
      "5                     101694              26662                15071   \n",
      "6                     103908              13128                16297   \n",
      "7                      98297              13295                12486   \n",
      "8                     115803               8430                19731   \n",
      "9                     123600               5909                15792   \n",
      "10                    120203              11107                15873   \n",
      "11                    119255              11450                16148   \n",
      "12                    130534              14064                16779   \n",
      "13                    128518              10667                16832   \n",
      "14                     93305              14972                11723   \n",
      "15                    108886               9805                15314   \n",
      "16                    108002               7580                16203   \n",
      "17                     92138              11992                11548   \n",
      "18                     97840              11763                12778   \n",
      "19                    110752              53639                14475   \n",
      "20                    124757              22465                16634   \n",
      "21                    133403              15507                21388   \n",
      "22                    128973               9945                16741   \n",
      "23                    124296               7757                16311   \n",
      "24                    126202              23053                17543   \n",
      "25                    146757              16085                19716   \n",
      "26                    156213              12106                24062   \n",
      "27                    140073              16430                21052   \n",
      "28                    131945              11661                20656   \n",
      "29                    105390              10091                13940   \n",
      "\n",
      "    Point_failed  \n",
      "0           8006  \n",
      "1           3495  \n",
      "2           2111  \n",
      "3           8369  \n",
      "4           3272  \n",
      "5          18775  \n",
      "6           5705  \n",
      "7           5972  \n",
      "8           3204  \n",
      "9           1540  \n",
      "10          4339  \n",
      "11          3442  \n",
      "12          7045  \n",
      "13          4161  \n",
      "14          5407  \n",
      "15          3533  \n",
      "16          2218  \n",
      "17          4877  \n",
      "18          2553  \n",
      "19         45410  \n",
      "20         13399  \n",
      "21          7913  \n",
      "22          4508  \n",
      "23          2841  \n",
      "24         16162  \n",
      "25          8831  \n",
      "26          4213  \n",
      "27          2747  \n",
      "28          2471  \n",
      "29          3033  \n"
     ]
    }
   ],
   "source": [
    "# Spark DataFrame을 Pandas DataFrame으로 변환\n",
    "pandas_df = daily_stats.orderBy(\"formatted_date\").toPandas()\n",
    "\n",
    "# Pandas DataFrame을 HTML로 변환하고 Jupyter Notebook에 표시\n",
    "display(pandas_df)"
   ]
  },
  {
   "cell_type": "code",
   "execution_count": 12,
   "id": "5923f251-640b-4b3d-9f3e-ffd9560e8549",
   "metadata": {
    "execution": {
     "iopub.execute_input": "2023-11-08T03:59:55.622509Z",
     "iopub.status.busy": "2023-11-08T03:59:55.622509Z",
     "iopub.status.idle": "2023-11-08T03:59:55.637042Z",
     "shell.execute_reply": "2023-11-08T03:59:55.637042Z",
     "shell.execute_reply.started": "2023-11-08T03:59:55.622509Z"
    }
   },
   "outputs": [
    {
     "data": {
      "text/html": [
       "<div>\n",
       "<style scoped>\n",
       "    .dataframe tbody tr th:only-of-type {\n",
       "        vertical-align: middle;\n",
       "    }\n",
       "\n",
       "    .dataframe tbody tr th {\n",
       "        vertical-align: top;\n",
       "    }\n",
       "\n",
       "    .dataframe thead th {\n",
       "        text-align: right;\n",
       "    }\n",
       "</style>\n",
       "<table border=\"1\" class=\"dataframe\">\n",
       "  <thead>\n",
       "    <tr style=\"text-align: right;\">\n",
       "      <th></th>\n",
       "      <th>formatted_date</th>\n",
       "      <th>Memorization</th>\n",
       "      <th>Point</th>\n",
       "      <th>recorded</th>\n",
       "      <th>unrecorded</th>\n",
       "      <th>failed</th>\n",
       "      <th>Memorization_total_tries</th>\n",
       "      <th>Point_total_tries</th>\n",
       "      <th>Memorization_failed</th>\n",
       "      <th>Point_failed</th>\n",
       "    </tr>\n",
       "  </thead>\n",
       "  <tbody>\n",
       "    <tr>\n",
       "      <th>0</th>\n",
       "      <td>2023-09-01</td>\n",
       "      <td>79378</td>\n",
       "      <td>9120</td>\n",
       "      <td>0</td>\n",
       "      <td>87200</td>\n",
       "      <td>26974</td>\n",
       "      <td>97048</td>\n",
       "      <td>17126</td>\n",
       "      <td>17670</td>\n",
       "      <td>8006</td>\n",
       "    </tr>\n",
       "    <tr>\n",
       "      <th>1</th>\n",
       "      <td>2023-09-02</td>\n",
       "      <td>88585</td>\n",
       "      <td>6706</td>\n",
       "      <td>0</td>\n",
       "      <td>94321</td>\n",
       "      <td>18413</td>\n",
       "      <td>102533</td>\n",
       "      <td>10201</td>\n",
       "      <td>13948</td>\n",
       "      <td>3495</td>\n",
       "    </tr>\n",
       "    <tr>\n",
       "      <th>2</th>\n",
       "      <td>2023-09-03</td>\n",
       "      <td>83437</td>\n",
       "      <td>6346</td>\n",
       "      <td>0</td>\n",
       "      <td>89012</td>\n",
       "      <td>16390</td>\n",
       "      <td>96945</td>\n",
       "      <td>8457</td>\n",
       "      <td>13508</td>\n",
       "      <td>2111</td>\n",
       "    </tr>\n",
       "    <tr>\n",
       "      <th>3</th>\n",
       "      <td>2023-09-04</td>\n",
       "      <td>76194</td>\n",
       "      <td>8266</td>\n",
       "      <td>0</td>\n",
       "      <td>82986</td>\n",
       "      <td>22673</td>\n",
       "      <td>89024</td>\n",
       "      <td>16635</td>\n",
       "      <td>12830</td>\n",
       "      <td>8369</td>\n",
       "    </tr>\n",
       "    <tr>\n",
       "      <th>4</th>\n",
       "      <td>2023-09-05</td>\n",
       "      <td>93376</td>\n",
       "      <td>8552</td>\n",
       "      <td>0</td>\n",
       "      <td>100932</td>\n",
       "      <td>18707</td>\n",
       "      <td>107815</td>\n",
       "      <td>11824</td>\n",
       "      <td>14439</td>\n",
       "      <td>3272</td>\n",
       "    </tr>\n",
       "    <tr>\n",
       "      <th>5</th>\n",
       "      <td>2023-09-06</td>\n",
       "      <td>86623</td>\n",
       "      <td>7887</td>\n",
       "      <td>0</td>\n",
       "      <td>93101</td>\n",
       "      <td>35255</td>\n",
       "      <td>101694</td>\n",
       "      <td>26662</td>\n",
       "      <td>15071</td>\n",
       "      <td>18775</td>\n",
       "    </tr>\n",
       "    <tr>\n",
       "      <th>6</th>\n",
       "      <td>2023-09-07</td>\n",
       "      <td>87611</td>\n",
       "      <td>7423</td>\n",
       "      <td>0</td>\n",
       "      <td>93900</td>\n",
       "      <td>23136</td>\n",
       "      <td>103908</td>\n",
       "      <td>13128</td>\n",
       "      <td>16297</td>\n",
       "      <td>5705</td>\n",
       "    </tr>\n",
       "    <tr>\n",
       "      <th>7</th>\n",
       "      <td>2023-09-08</td>\n",
       "      <td>85811</td>\n",
       "      <td>7323</td>\n",
       "      <td>0</td>\n",
       "      <td>92263</td>\n",
       "      <td>19329</td>\n",
       "      <td>98297</td>\n",
       "      <td>13295</td>\n",
       "      <td>12486</td>\n",
       "      <td>5972</td>\n",
       "    </tr>\n",
       "    <tr>\n",
       "      <th>8</th>\n",
       "      <td>2023-09-09</td>\n",
       "      <td>96072</td>\n",
       "      <td>5226</td>\n",
       "      <td>0</td>\n",
       "      <td>100350</td>\n",
       "      <td>23883</td>\n",
       "      <td>115803</td>\n",
       "      <td>8430</td>\n",
       "      <td>19731</td>\n",
       "      <td>3204</td>\n",
       "    </tr>\n",
       "    <tr>\n",
       "      <th>9</th>\n",
       "      <td>2023-09-10</td>\n",
       "      <td>107808</td>\n",
       "      <td>4369</td>\n",
       "      <td>0</td>\n",
       "      <td>111530</td>\n",
       "      <td>17979</td>\n",
       "      <td>123600</td>\n",
       "      <td>5909</td>\n",
       "      <td>15792</td>\n",
       "      <td>1540</td>\n",
       "    </tr>\n",
       "    <tr>\n",
       "      <th>10</th>\n",
       "      <td>2023-09-11</td>\n",
       "      <td>104330</td>\n",
       "      <td>6768</td>\n",
       "      <td>0</td>\n",
       "      <td>110265</td>\n",
       "      <td>21045</td>\n",
       "      <td>120203</td>\n",
       "      <td>11107</td>\n",
       "      <td>15873</td>\n",
       "      <td>4339</td>\n",
       "    </tr>\n",
       "    <tr>\n",
       "      <th>11</th>\n",
       "      <td>2023-09-12</td>\n",
       "      <td>103107</td>\n",
       "      <td>8008</td>\n",
       "      <td>0</td>\n",
       "      <td>110215</td>\n",
       "      <td>20490</td>\n",
       "      <td>119255</td>\n",
       "      <td>11450</td>\n",
       "      <td>16148</td>\n",
       "      <td>3442</td>\n",
       "    </tr>\n",
       "    <tr>\n",
       "      <th>12</th>\n",
       "      <td>2023-09-13</td>\n",
       "      <td>113755</td>\n",
       "      <td>7019</td>\n",
       "      <td>0</td>\n",
       "      <td>119691</td>\n",
       "      <td>24907</td>\n",
       "      <td>130534</td>\n",
       "      <td>14064</td>\n",
       "      <td>16779</td>\n",
       "      <td>7045</td>\n",
       "    </tr>\n",
       "    <tr>\n",
       "      <th>13</th>\n",
       "      <td>2023-09-14</td>\n",
       "      <td>111686</td>\n",
       "      <td>6506</td>\n",
       "      <td>0</td>\n",
       "      <td>117160</td>\n",
       "      <td>22025</td>\n",
       "      <td>128518</td>\n",
       "      <td>10667</td>\n",
       "      <td>16832</td>\n",
       "      <td>4161</td>\n",
       "    </tr>\n",
       "    <tr>\n",
       "      <th>14</th>\n",
       "      <td>2023-09-15</td>\n",
       "      <td>81582</td>\n",
       "      <td>9565</td>\n",
       "      <td>0</td>\n",
       "      <td>90181</td>\n",
       "      <td>18096</td>\n",
       "      <td>93305</td>\n",
       "      <td>14972</td>\n",
       "      <td>11723</td>\n",
       "      <td>5407</td>\n",
       "    </tr>\n",
       "    <tr>\n",
       "      <th>15</th>\n",
       "      <td>2023-09-16</td>\n",
       "      <td>93572</td>\n",
       "      <td>6272</td>\n",
       "      <td>0</td>\n",
       "      <td>98694</td>\n",
       "      <td>19997</td>\n",
       "      <td>108886</td>\n",
       "      <td>9805</td>\n",
       "      <td>15314</td>\n",
       "      <td>3533</td>\n",
       "    </tr>\n",
       "    <tr>\n",
       "      <th>16</th>\n",
       "      <td>2023-09-17</td>\n",
       "      <td>91799</td>\n",
       "      <td>5362</td>\n",
       "      <td>0</td>\n",
       "      <td>96154</td>\n",
       "      <td>19428</td>\n",
       "      <td>108002</td>\n",
       "      <td>7580</td>\n",
       "      <td>16203</td>\n",
       "      <td>2218</td>\n",
       "    </tr>\n",
       "    <tr>\n",
       "      <th>17</th>\n",
       "      <td>2023-09-18</td>\n",
       "      <td>80590</td>\n",
       "      <td>7115</td>\n",
       "      <td>0</td>\n",
       "      <td>86555</td>\n",
       "      <td>17575</td>\n",
       "      <td>92138</td>\n",
       "      <td>11992</td>\n",
       "      <td>11548</td>\n",
       "      <td>4877</td>\n",
       "    </tr>\n",
       "    <tr>\n",
       "      <th>18</th>\n",
       "      <td>2023-09-19</td>\n",
       "      <td>85062</td>\n",
       "      <td>9210</td>\n",
       "      <td>0</td>\n",
       "      <td>93250</td>\n",
       "      <td>16353</td>\n",
       "      <td>97840</td>\n",
       "      <td>11763</td>\n",
       "      <td>12778</td>\n",
       "      <td>2553</td>\n",
       "    </tr>\n",
       "    <tr>\n",
       "      <th>19</th>\n",
       "      <td>2023-09-20</td>\n",
       "      <td>96277</td>\n",
       "      <td>8229</td>\n",
       "      <td>0</td>\n",
       "      <td>103150</td>\n",
       "      <td>61241</td>\n",
       "      <td>110752</td>\n",
       "      <td>53639</td>\n",
       "      <td>14475</td>\n",
       "      <td>45410</td>\n",
       "    </tr>\n",
       "    <tr>\n",
       "      <th>20</th>\n",
       "      <td>2023-09-21</td>\n",
       "      <td>108123</td>\n",
       "      <td>9066</td>\n",
       "      <td>0</td>\n",
       "      <td>116136</td>\n",
       "      <td>31086</td>\n",
       "      <td>124757</td>\n",
       "      <td>22465</td>\n",
       "      <td>16634</td>\n",
       "      <td>13399</td>\n",
       "    </tr>\n",
       "    <tr>\n",
       "      <th>21</th>\n",
       "      <td>2023-09-22</td>\n",
       "      <td>112015</td>\n",
       "      <td>7594</td>\n",
       "      <td>0</td>\n",
       "      <td>118329</td>\n",
       "      <td>30581</td>\n",
       "      <td>133403</td>\n",
       "      <td>15507</td>\n",
       "      <td>21388</td>\n",
       "      <td>7913</td>\n",
       "    </tr>\n",
       "    <tr>\n",
       "      <th>22</th>\n",
       "      <td>2023-09-23</td>\n",
       "      <td>112232</td>\n",
       "      <td>5437</td>\n",
       "      <td>0</td>\n",
       "      <td>116795</td>\n",
       "      <td>22123</td>\n",
       "      <td>128973</td>\n",
       "      <td>9945</td>\n",
       "      <td>16741</td>\n",
       "      <td>4508</td>\n",
       "    </tr>\n",
       "    <tr>\n",
       "      <th>23</th>\n",
       "      <td>2023-09-24</td>\n",
       "      <td>107985</td>\n",
       "      <td>4916</td>\n",
       "      <td>0</td>\n",
       "      <td>112113</td>\n",
       "      <td>19940</td>\n",
       "      <td>124296</td>\n",
       "      <td>7757</td>\n",
       "      <td>16311</td>\n",
       "      <td>2841</td>\n",
       "    </tr>\n",
       "    <tr>\n",
       "      <th>24</th>\n",
       "      <td>2023-09-25</td>\n",
       "      <td>108659</td>\n",
       "      <td>6891</td>\n",
       "      <td>0</td>\n",
       "      <td>113474</td>\n",
       "      <td>35781</td>\n",
       "      <td>126202</td>\n",
       "      <td>23053</td>\n",
       "      <td>17543</td>\n",
       "      <td>16162</td>\n",
       "    </tr>\n",
       "    <tr>\n",
       "      <th>25</th>\n",
       "      <td>2023-09-26</td>\n",
       "      <td>127041</td>\n",
       "      <td>7254</td>\n",
       "      <td>0</td>\n",
       "      <td>132180</td>\n",
       "      <td>30662</td>\n",
       "      <td>146757</td>\n",
       "      <td>16085</td>\n",
       "      <td>19716</td>\n",
       "      <td>8831</td>\n",
       "    </tr>\n",
       "    <tr>\n",
       "      <th>26</th>\n",
       "      <td>2023-09-27</td>\n",
       "      <td>132151</td>\n",
       "      <td>7893</td>\n",
       "      <td>0</td>\n",
       "      <td>138105</td>\n",
       "      <td>30214</td>\n",
       "      <td>156213</td>\n",
       "      <td>12106</td>\n",
       "      <td>24062</td>\n",
       "      <td>4213</td>\n",
       "    </tr>\n",
       "    <tr>\n",
       "      <th>27</th>\n",
       "      <td>2023-09-28</td>\n",
       "      <td>119021</td>\n",
       "      <td>13683</td>\n",
       "      <td>0</td>\n",
       "      <td>131286</td>\n",
       "      <td>25217</td>\n",
       "      <td>140073</td>\n",
       "      <td>16430</td>\n",
       "      <td>21052</td>\n",
       "      <td>2747</td>\n",
       "    </tr>\n",
       "    <tr>\n",
       "      <th>28</th>\n",
       "      <td>2023-09-29</td>\n",
       "      <td>111289</td>\n",
       "      <td>9190</td>\n",
       "      <td>0</td>\n",
       "      <td>119481</td>\n",
       "      <td>24125</td>\n",
       "      <td>131945</td>\n",
       "      <td>11661</td>\n",
       "      <td>20656</td>\n",
       "      <td>2471</td>\n",
       "    </tr>\n",
       "    <tr>\n",
       "      <th>29</th>\n",
       "      <td>2023-09-30</td>\n",
       "      <td>91450</td>\n",
       "      <td>7058</td>\n",
       "      <td>0</td>\n",
       "      <td>97697</td>\n",
       "      <td>17784</td>\n",
       "      <td>105390</td>\n",
       "      <td>10091</td>\n",
       "      <td>13940</td>\n",
       "      <td>3033</td>\n",
       "    </tr>\n",
       "  </tbody>\n",
       "</table>\n",
       "</div>"
      ],
      "text/plain": [
       "   formatted_date  Memorization  Point  recorded  unrecorded  failed  \\\n",
       "0      2023-09-01         79378   9120         0       87200   26974   \n",
       "1      2023-09-02         88585   6706         0       94321   18413   \n",
       "2      2023-09-03         83437   6346         0       89012   16390   \n",
       "3      2023-09-04         76194   8266         0       82986   22673   \n",
       "4      2023-09-05         93376   8552         0      100932   18707   \n",
       "5      2023-09-06         86623   7887         0       93101   35255   \n",
       "6      2023-09-07         87611   7423         0       93900   23136   \n",
       "7      2023-09-08         85811   7323         0       92263   19329   \n",
       "8      2023-09-09         96072   5226         0      100350   23883   \n",
       "9      2023-09-10        107808   4369         0      111530   17979   \n",
       "10     2023-09-11        104330   6768         0      110265   21045   \n",
       "11     2023-09-12        103107   8008         0      110215   20490   \n",
       "12     2023-09-13        113755   7019         0      119691   24907   \n",
       "13     2023-09-14        111686   6506         0      117160   22025   \n",
       "14     2023-09-15         81582   9565         0       90181   18096   \n",
       "15     2023-09-16         93572   6272         0       98694   19997   \n",
       "16     2023-09-17         91799   5362         0       96154   19428   \n",
       "17     2023-09-18         80590   7115         0       86555   17575   \n",
       "18     2023-09-19         85062   9210         0       93250   16353   \n",
       "19     2023-09-20         96277   8229         0      103150   61241   \n",
       "20     2023-09-21        108123   9066         0      116136   31086   \n",
       "21     2023-09-22        112015   7594         0      118329   30581   \n",
       "22     2023-09-23        112232   5437         0      116795   22123   \n",
       "23     2023-09-24        107985   4916         0      112113   19940   \n",
       "24     2023-09-25        108659   6891         0      113474   35781   \n",
       "25     2023-09-26        127041   7254         0      132180   30662   \n",
       "26     2023-09-27        132151   7893         0      138105   30214   \n",
       "27     2023-09-28        119021  13683         0      131286   25217   \n",
       "28     2023-09-29        111289   9190         0      119481   24125   \n",
       "29     2023-09-30         91450   7058         0       97697   17784   \n",
       "\n",
       "    Memorization_total_tries  Point_total_tries  Memorization_failed  \\\n",
       "0                      97048              17126                17670   \n",
       "1                     102533              10201                13948   \n",
       "2                      96945               8457                13508   \n",
       "3                      89024              16635                12830   \n",
       "4                     107815              11824                14439   \n",
       "5                     101694              26662                15071   \n",
       "6                     103908              13128                16297   \n",
       "7                      98297              13295                12486   \n",
       "8                     115803               8430                19731   \n",
       "9                     123600               5909                15792   \n",
       "10                    120203              11107                15873   \n",
       "11                    119255              11450                16148   \n",
       "12                    130534              14064                16779   \n",
       "13                    128518              10667                16832   \n",
       "14                     93305              14972                11723   \n",
       "15                    108886               9805                15314   \n",
       "16                    108002               7580                16203   \n",
       "17                     92138              11992                11548   \n",
       "18                     97840              11763                12778   \n",
       "19                    110752              53639                14475   \n",
       "20                    124757              22465                16634   \n",
       "21                    133403              15507                21388   \n",
       "22                    128973               9945                16741   \n",
       "23                    124296               7757                16311   \n",
       "24                    126202              23053                17543   \n",
       "25                    146757              16085                19716   \n",
       "26                    156213              12106                24062   \n",
       "27                    140073              16430                21052   \n",
       "28                    131945              11661                20656   \n",
       "29                    105390              10091                13940   \n",
       "\n",
       "    Point_failed  \n",
       "0           8006  \n",
       "1           3495  \n",
       "2           2111  \n",
       "3           8369  \n",
       "4           3272  \n",
       "5          18775  \n",
       "6           5705  \n",
       "7           5972  \n",
       "8           3204  \n",
       "9           1540  \n",
       "10          4339  \n",
       "11          3442  \n",
       "12          7045  \n",
       "13          4161  \n",
       "14          5407  \n",
       "15          3533  \n",
       "16          2218  \n",
       "17          4877  \n",
       "18          2553  \n",
       "19         45410  \n",
       "20         13399  \n",
       "21          7913  \n",
       "22          4508  \n",
       "23          2841  \n",
       "24         16162  \n",
       "25          8831  \n",
       "26          4213  \n",
       "27          2747  \n",
       "28          2471  \n",
       "29          3033  "
      ]
     },
     "metadata": {},
     "output_type": "display_data"
    }
   ],
   "source": [
    "# Pandas DataFrame을 HTML로 변환하고 Jupyter Notebook에 표시\n",
    "display(pandas_df)"
   ]
  },
  {
   "cell_type": "code",
   "execution_count": 18,
   "id": "092a6815-7322-456f-8d15-937d46cf26e1",
   "metadata": {
    "execution": {
     "iopub.execute_input": "2023-11-06T08:07:19.183142Z",
     "iopub.status.busy": "2023-11-06T08:07:19.182142Z",
     "iopub.status.idle": "2023-11-06T08:07:19.264629Z",
     "shell.execute_reply": "2023-11-06T08:07:19.264629Z",
     "shell.execute_reply.started": "2023-11-06T08:07:19.183142Z"
    }
   },
   "outputs": [
    {
     "name": "stdout",
     "output_type": "stream",
     "text": [
      "+-------------+\n",
      "|last_accuracy|\n",
      "+-------------+\n",
      "|         null|\n",
      "|         null|\n",
      "|         null|\n",
      "|         null|\n",
      "|         null|\n",
      "|         null|\n",
      "|         null|\n",
      "|         null|\n",
      "|         null|\n",
      "|         null|\n",
      "|         null|\n",
      "|         null|\n",
      "|         null|\n",
      "|         null|\n",
      "|         null|\n",
      "|         null|\n",
      "|         null|\n",
      "|         null|\n",
      "|         null|\n",
      "|         null|\n",
      "+-------------+\n",
      "only showing top 20 rows\n",
      "\n"
     ]
    }
   ],
   "source": [
    "# 'accuracy_array'의 마지막 값이 80 이상인지 확인하는 코드\n",
    "check_recorded_df = spark_df.withColumn(\"last_accuracy\", F.col(\"accuracy_array\")[-1])\n",
    "check_recorded_df.select(\"last_accuracy\").show()"
   ]
  },
  {
   "cell_type": "markdown",
   "id": "4e33c3df-393d-4114-ad09-360edd001aa6",
   "metadata": {},
   "source": [
    "# 로컬에 저장"
   ]
  },
  {
   "cell_type": "code",
   "execution_count": 15,
   "id": "8f28c316-ade2-465c-b6e1-2ebb42a0ca4a",
   "metadata": {
    "execution": {
     "iopub.execute_input": "2023-10-30T06:16:53.389472Z",
     "iopub.status.busy": "2023-10-30T06:16:53.389472Z",
     "iopub.status.idle": "2023-10-30T06:16:53.408476Z",
     "shell.execute_reply": "2023-10-30T06:16:53.407475Z",
     "shell.execute_reply.started": "2023-10-30T06:16:53.389472Z"
    },
    "tags": []
   },
   "outputs": [
    {
     "name": "stdout",
     "output_type": "stream",
     "text": [
      "C:\\Hadoop\\hadoop-3.3.6\n"
     ]
    }
   ],
   "source": [
    "print(os.environ[\"HADOOP_HOME\"])"
   ]
  },
  {
   "cell_type": "code",
   "execution_count": 18,
   "id": "1101732f-ef8b-4cb2-98bd-b0a200cb3ce6",
   "metadata": {
    "execution": {
     "iopub.execute_input": "2023-10-30T06:18:03.521345Z",
     "iopub.status.busy": "2023-10-30T06:18:03.521345Z",
     "iopub.status.idle": "2023-10-30T06:18:03.533348Z",
     "shell.execute_reply": "2023-10-30T06:18:03.533348Z",
     "shell.execute_reply.started": "2023-10-30T06:18:03.521345Z"
    },
    "tags": []
   },
   "outputs": [],
   "source": [
    "# 오늘의 날짜를 얻어 'yymmdd' 포맷으로 변환\n",
    "today = datetime.today()\n",
    "formatted_date = today.strftime('%y%m%d')\n",
    "\n",
    "# 저장할 경로 설정\n",
    "file_path = f\"D:/DATA_PREPROCESS/FIRESTORE_DATAS/voice_metadata_parquet_{formatted_date}\""
   ]
  },
  {
   "cell_type": "code",
   "execution_count": 19,
   "id": "208f9b46-74be-4d2a-8e57-c1153a2e262d",
   "metadata": {
    "execution": {
     "iopub.execute_input": "2023-10-30T06:19:16.771187Z",
     "iopub.status.busy": "2023-10-30T06:19:16.770185Z",
     "iopub.status.idle": "2023-10-30T06:20:45.377383Z",
     "shell.execute_reply": "2023-10-30T06:20:45.377383Z",
     "shell.execute_reply.started": "2023-10-30T06:19:16.771187Z"
    },
    "tags": []
   },
   "outputs": [],
   "source": [
    "spark_df.repartition(300).write.parquet(file_path, mode='overwrite')"
   ]
  }
 ],
 "metadata": {
  "kernelspec": {
   "display_name": "Python 3 (ipykernel)",
   "language": "python",
   "name": "python3"
  },
  "language_info": {
   "codemirror_mode": {
    "name": "ipython",
    "version": 3
   },
   "file_extension": ".py",
   "mimetype": "text/x-python",
   "name": "python",
   "nbconvert_exporter": "python",
   "pygments_lexer": "ipython3",
   "version": "3.10.12"
  },
  "toc": {
   "base_numbering": 1,
   "nav_menu": {},
   "number_sections": true,
   "sideBar": true,
   "skip_h1_title": false,
   "title_cell": "Table of Contents",
   "title_sidebar": "Contents",
   "toc_cell": false,
   "toc_position": {},
   "toc_section_display": true,
   "toc_window_display": false
  },
  "varInspector": {
   "cols": {
    "lenName": 16,
    "lenType": 16,
    "lenVar": 40
   },
   "kernels_config": {
    "python": {
     "delete_cmd_postfix": "",
     "delete_cmd_prefix": "del ",
     "library": "var_list.py",
     "varRefreshCmd": "print(var_dic_list())"
    },
    "r": {
     "delete_cmd_postfix": ") ",
     "delete_cmd_prefix": "rm(",
     "library": "var_list.r",
     "varRefreshCmd": "cat(var_dic_list()) "
    }
   },
   "types_to_exclude": [
    "module",
    "function",
    "builtin_function_or_method",
    "instance",
    "_Feature"
   ],
   "window_display": false
  }
 },
 "nbformat": 4,
 "nbformat_minor": 5
}
