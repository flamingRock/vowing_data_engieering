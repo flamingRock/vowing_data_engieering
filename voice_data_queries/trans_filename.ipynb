{
 "cells": [
  {
   "cell_type": "code",
   "execution_count": null,
   "metadata": {},
   "outputs": [
    {
     "ename": "",
     "evalue": "",
     "output_type": "error",
     "traceback": [
      "\u001b[1;31mFailed to start the Kernel. \n",
      "\u001b[1;31mFailed to start the Kernel 'db_env (Python 3.10.12)'. \n",
      "\u001b[1;31mView Jupyter <a href='command:jupyter.viewOutput'>log</a> for further details. listen EFAULT: bad address in system call argument 0.0.0.0:9000"
     ]
    }
   ],
   "source": [
    "import os\n",
    "import re\n",
    "\n",
    "dir_path = 'E:/0707/voicedata/230517/d_95/firebase/'\n",
    "\n",
    "# file_names = os.listdir(dir_path)\n",
    "# print(file_names)"
   ]
  },
  {
   "cell_type": "code",
   "execution_count": 13,
   "metadata": {},
   "outputs": [
    {
     "ename": "FileNotFoundError",
     "evalue": "[WinError 3] 지정된 경로를 찾을 수 없습니다: 'E:/0707/voicedata/230517/d_95/firebase/'",
     "output_type": "error",
     "traceback": [
      "\u001b[1;31m---------------------------------------------------------------------------\u001b[0m",
      "\u001b[1;31mFileNotFoundError\u001b[0m                         Traceback (most recent call last)",
      "Cell \u001b[1;32mIn[13], line 12\u001b[0m\n\u001b[0;32m      6\u001b[0m             os\u001b[39m.\u001b[39mrename(os\u001b[39m.\u001b[39mpath\u001b[39m.\u001b[39mjoin(directory, filename), os\u001b[39m.\u001b[39mpath\u001b[39m.\u001b[39mjoin(directory, new_filename))\n\u001b[0;32m      8\u001b[0m \u001b[39m# # dir_path 위치의 파일명들에게 실행\u001b[39;00m\n\u001b[0;32m      9\u001b[0m \u001b[39m# process_files(dir_path)\u001b[39;00m\n\u001b[0;32m     10\u001b[0m \n\u001b[0;32m     11\u001b[0m \u001b[39m# dir 안의 모든 폴더와 파일들에 주어진 파일명을 바꾸는 작업\u001b[39;00m\n\u001b[1;32m---> 12\u001b[0m \u001b[39mfor\u001b[39;00m folder_name \u001b[39min\u001b[39;00m os\u001b[39m.\u001b[39;49mlistdir(dir_path):\n\u001b[0;32m     13\u001b[0m     subfolder_path \u001b[39m=\u001b[39m os\u001b[39m.\u001b[39mpath\u001b[39m.\u001b[39mjoin(dir_path, folder_name)\n\u001b[0;32m     14\u001b[0m     \u001b[39mif\u001b[39;00m os\u001b[39m.\u001b[39mpath\u001b[39m.\u001b[39misdir(subfolder_path):\n",
      "\u001b[1;31mFileNotFoundError\u001b[0m: [WinError 3] 지정된 경로를 찾을 수 없습니다: 'E:/0707/voicedata/230517/d_95/firebase/'"
     ]
    }
   ],
   "source": [
    "# 매개변수 dir 안의 파일들에 파일명을 바꾸는 함수\n",
    "def process_files(directory):\n",
    "    for filename in os.listdir(directory):\n",
    "        if re.search(r'_.gstmp$', filename):\n",
    "            new_filename = re.sub(r'_.gstmp$', '', filename)\n",
    "            os.rename(os.path.join(directory, filename), os.path.join(directory, new_filename))\n",
    "\n",
    "# # dir_path 위치의 파일명들에게 실행\n",
    "# process_files(dir_path)\n",
    "\n",
    "# dir 안의 모든 폴더와 파일들에 주어진 파일명을 바꾸는 작업\n",
    "for folder_name in os.listdir(dir_path):\n",
    "    subfolder_path = os.path.join(dir_path, folder_name)\n",
    "    if os.path.isdir(subfolder_path):\n",
    "        process_files(subfolder_path)"
   ]
  },
  {
   "cell_type": "code",
   "execution_count": 11,
   "metadata": {},
   "outputs": [],
   "source": [
    "# dir_path안의 파일들에만 파일명을 바꿀 때\n",
    "for filename in os.listdir(dir_path):\n",
    "    src = os.path.join(dir_path, filename)\n",
    "    # 정규 표현식 앞에는 r을 붙여주어 메타문자가 아닌 기호들을 인식시킬 때 가독성을 높여주어야 한다\n",
    "    # new_name = re.sub(r'\\.노랑$', '', filename)   # '$'는 문장의 끝에\n",
    "    new_name = re.sub(r'^바다를 지켜라!_', '', filename)\n",
    "    os.rename(os.path.join(dir_path, filename), os.path.join(dir_path, new_name))"
   ]
  }
 ],
 "metadata": {
  "kernelspec": {
   "display_name": "db_env",
   "language": "python",
   "name": "python3"
  },
  "language_info": {
   "codemirror_mode": {
    "name": "ipython",
    "version": 3
   },
   "file_extension": ".py",
   "mimetype": "text/x-python",
   "name": "python",
   "nbconvert_exporter": "python",
   "pygments_lexer": "ipython3",
   "version": "3.10.12 | packaged by Anaconda, Inc. | (main, Jul  5 2023, 19:09:20) [MSC v.1916 64 bit (AMD64)]"
  },
  "orig_nbformat": 4,
  "vscode": {
   "interpreter": {
    "hash": "f4ee4af189cbc7a81c9aed8d61dc319b090d1808f84cf61c521abf683cef690a"
   }
  }
 },
 "nbformat": 4,
 "nbformat_minor": 2
}
