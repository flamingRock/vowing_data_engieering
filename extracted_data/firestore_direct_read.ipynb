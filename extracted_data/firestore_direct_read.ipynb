{
 "cells": [
  {
   "cell_type": "code",
   "execution_count": 1,
   "id": "2f956e3b",
   "metadata": {},
   "outputs": [],
   "source": [
    "import os\n",
    "# import gspread_pandas\n",
    "# import gspread\n",
    "# import gspread_dataframe as gd\n",
    "from google.api_core.retry import Retry\n",
    "import firebase_admin\n",
    "from firebase_admin import credentials\n",
    "from firebase_admin import firestore\n",
    "from oauth2client.service_account import ServiceAccountCredentials\n",
    "# from google.auth.transport.requests import AuthorizedSession\n",
    "import pandas as pd"
   ]
  },
  {
   "cell_type": "code",
   "execution_count": 2,
   "id": "7b2dd4ce",
   "metadata": {},
   "outputs": [
    {
     "name": "stdout",
     "output_type": "stream",
     "text": [
      "firebase_admin 권한 확인 완료.\n"
     ]
    }
   ],
   "source": [
    "cred_path = \"C:/Users/admin/Desktop/voice_data_queries/samboss-reward-firebase-adminsdk-9j6t2-097005da23.json\" \n",
    "os.environ[\"GOOGLE_APPLICATION_CREDENTIALS\"] = cred_path    # os.environ은 환경 변수를 다루는 데 사용되는 Python의 내장 객체 \n",
    "\n",
    "# Firebase initialize\n",
    "try:\n",
    "    firebase_admin.get_app()\n",
    "except ValueError:\n",
    "    cred = credentials.Certificate(cred_path)\n",
    "    firebase_admin.initialize_app(cred)\n",
    "    print(\"firebase_admin 권한 확인 완료.\")"
   ]
  },
  {
   "cell_type": "code",
   "execution_count": 22,
   "id": "25adbd1c",
   "metadata": {},
   "outputs": [
    {
     "name": "stdout",
     "output_type": "stream",
     "text": [
      "total_doc_count: 33783, with_attend_count: 26041, without_attend_count: 7742\n"
     ]
    }
   ],
   "source": [
    "db = firestore.Client()\n",
    "\n",
    "users_ref = db.collection(\"Users\").order_by(\"__name__\")\n",
    "\n",
    "# # Users의 모든 documents들을 가져옴\n",
    "# users_docs = users_ref.stream()\n",
    "\n",
    "# doc 수 카운트\n",
    "total_doc_count = 0\n",
    "with_attend_count = 0\n",
    "without_attend_count = 0\n",
    "\n",
    "# Get the first batch of documents\n",
    "batch_size = 1000\n",
    "users_docs = users_ref.limit(batch_size).stream()\n",
    "\n",
    "while True:\n",
    "    doc_count_in_batch = 0\n",
    "    last_doc_snapshot = None\n",
    "    for doc in users_docs:\n",
    "        doc_count_in_batch += 1\n",
    "        last_doc_snapshot = doc\n",
    "        \n",
    "        total_doc_count += 1\n",
    "        data = doc.to_dict()\n",
    "        subcollections = list(doc.reference.collections())\n",
    "        has_attend_collection = any(coll.id == \"Attend\" for coll in subcollections)\n",
    "        \n",
    "        if has_attend_collection:\n",
    "            with_attend_count += 1\n",
    "        else:\n",
    "            without_attend_count += 1\n",
    "\n",
    "    if doc_count_in_batch < batch_size:\n",
    "        # If the number of documents in the batch is less than the batch size, it means we've reached the end\n",
    "        break\n",
    "    \n",
    "    # Get the next batch of documents starting after the last document in the current batch\n",
    "    users_docs = users_ref.start_after(last_doc_snapshot).limit(batch_size).stream()\n",
    "\n",
    "print(f\"total_doc_count: {total_doc_count}, with_attend_count: {with_attend_count}, without_attend_count: {without_attend_count}\")"
   ]
  },
  {
   "cell_type": "code",
   "execution_count": 7,
   "id": "737d916a",
   "metadata": {},
   "outputs": [
    {
     "name": "stdout",
     "output_type": "stream",
     "text": [
      "There are 0 documents in the 'Users' ollection.\n",
      "There are 0 documents with an 'Attend' collection in the 'Users' collection.\n",
      "There are 0 documents without an 'Attend' collection in the 'Users' collection.\n"
     ]
    }
   ],
   "source": []
  },
  {
   "cell_type": "code",
   "execution_count": null,
   "id": "a45c1b3e",
   "metadata": {},
   "outputs": [],
   "source": []
  }
 ],
 "metadata": {
  "kernelspec": {
   "display_name": "Python 3 (ipykernel)",
   "language": "python",
   "name": "python3"
  },
  "language_info": {
   "codemirror_mode": {
    "name": "ipython",
    "version": 3
   },
   "file_extension": ".py",
   "mimetype": "text/x-python",
   "name": "python",
   "nbconvert_exporter": "python",
   "pygments_lexer": "ipython3",
   "version": "3.10.12"
  }
 },
 "nbformat": 4,
 "nbformat_minor": 5
}
