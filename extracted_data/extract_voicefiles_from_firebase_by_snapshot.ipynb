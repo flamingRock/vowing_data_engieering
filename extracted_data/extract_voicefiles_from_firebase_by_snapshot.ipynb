{
 "cells": [
  {
   "cell_type": "code",
   "execution_count": 1,
   "id": "d8d6c416",
   "metadata": {
    "ExecuteTime": {
     "end_time": "2023-09-19T07:14:15.379823Z",
     "start_time": "2023-09-19T07:14:14.672614Z"
    }
   },
   "outputs": [],
   "source": [
    "import os\n",
    "from google.api_core.retry import Retry\n",
    "import firebase_admin\n",
    "from firebase_admin import credentials\n",
    "from firebase_admin import firestore, storage\n",
    "from oauth2client.service_account import ServiceAccountCredentials\n",
    "# import pandas as pd\n",
    "import cProfile\n",
    "# import dask.dataframe as dd\n",
    "from pyspark.sql import SparkSession\n",
    "from pyspark.sql.types import StringType, StructField, StructType\n",
    "\n",
    "import shutil  # 파일 복사를 위한 라이브러리\n",
    "import glob    # 파일들을 패턴 매칭으로 검색할 때 사용하는 라이브러리"
   ]
  },
  {
   "cell_type": "code",
   "execution_count": 2,
   "id": "f366c2fe",
   "metadata": {
    "ExecuteTime": {
     "end_time": "2023-09-19T07:14:17.672837Z",
     "start_time": "2023-09-19T07:14:17.631828Z"
    }
   },
   "outputs": [
    {
     "name": "stdout",
     "output_type": "stream",
     "text": [
      "firebase_admin 권한 확인 성공.\n"
     ]
    }
   ],
   "source": [
    "# Firebase 초기화\n",
    "try:\n",
    "    cred = credentials.Certificate('C:/Users/admin/Desktop/voice_data_queries/samboss-reward-firebase-adminsdk-9j6t2-4f53253105.json')\n",
    "    firebase_admin.initialize_app(cred)\n",
    "    bucket = storage.bucket(\"samboss-reward.appspot.com\")\n",
    "    db = firestore.client()\n",
    "    print(\"firebase_admin 권한 확인 성공.\")\n",
    "except Exception as e:\n",
    "    print(\"firebase_admin 권한 확인 실패.\")\n",
    "    print(f\"Exception type: {type(e)}\")\n",
    "    print(f\"Exception message: {str(e)}\")"
   ]
  },
  {
   "cell_type": "code",
   "execution_count": 3,
   "id": "1c77b08f",
   "metadata": {
    "ExecuteTime": {
     "end_time": "2023-09-19T07:14:33.873048Z",
     "start_time": "2023-09-19T07:14:30.770626Z"
    }
   },
   "outputs": [],
   "source": [
    "# 가상 환경의 Python 경로를 지정\n",
    "python_path = \"C:/Users/admin/anaconda3/envs/my_conda_01/python.exe\"\n",
    "\n",
    "# Spark 세션 생성\n",
    "spark = SparkSession.builder \\\n",
    "    .appName(\"voice_metadata integrating operation\") \\\n",
    "    .config(\"spark.driver.memory\", \"14g\") \\\n",
    "    .config(\"spark.executor.memory\", \"14g\")  \\\n",
    "    .config(\"spark.driver.maxResultSize\", \"4g\") \\\n",
    "    .config(\"spark.pyspark.python\", python_path) \\\n",
    "    .config(\"spark.local.dir\", \"D:/spark_tmp\") \\\n",
    "    .getOrCreate()\n",
    "\n",
    "# SparkContext 가져오기\n",
    "sc = spark.sparkContext"
   ]
  },
  {
   "cell_type": "markdown",
   "id": "67ca620b",
   "metadata": {},
   "source": [
    " Firebase bucket의 모든 파일과 폴더 정보를 포함할 spark DF"
   ]
  },
  {
   "cell_type": "code",
   "execution_count": null,
   "id": "5a03a133",
   "metadata": {
    "ExecuteTime": {
     "start_time": "2023-09-19T05:53:30.233Z"
    }
   },
   "outputs": [],
   "source": [
    "schema = StructType([\n",
    "    StructField(\"full_path\", StringType(), True),\n",
    "    StructField(\"directory\", StringType(), True),\n",
    "    StructField(\"file_name\", StringType(), True)\n",
    "])\n",
    "\n",
    "firebase_metadata_sdf = spark.createDataFrame([], schema)\n",
    "\n",
    "# Firebase 버킷 내의 모든 blob을 가져옴\n",
    "blobs = bucket.list_blobs()\n",
    "\n",
    "data = []\n",
    "# Spark DataFrame에 blob 메타데이터 채우기\n",
    "for blob in blobs:\n",
    "    full_path = blob.name\n",
    "    directory = '/'.join(full_path.split('/')[:-1])\n",
    "    file_name = full_path.split('/')[-1]\n",
    "    \n",
    "    data.append((full_path, directory, file_name))\n",
    "\n",
    "# Spark DataFrame 업데이트\n",
    "firebase_metadata_sdf = spark.createDataFrame(data, [\"full_path\", \"directory\", \"file_name\"])\n",
    "\n",
    "# 나중에 사용하기 위해 Spark DataFrame을 parquet 파일로 저장 (또는 다른 포맷도 가능)\n",
    "firebase_metadata_sdf.write.parquet(\"firebase_metadata.parquet\")\n",
    "\n",
    "# 데이터 확인\n",
    "firebase_metadata_sdf.show()"
   ]
  },
  {
   "cell_type": "code",
   "execution_count": null,
   "id": "2292d945",
   "metadata": {},
   "outputs": [],
   "source": [
    "# DataFrame에서 검색 수행\n",
    "def search_in_df(df, user_id, ad_name):\n",
    "    # 'user_id'와 'ad_name'에 해당하는 row를 필터링\n",
    "    filtered_df = df[\n",
    "        (df['user_id'] == user_id) & \n",
    "        (df['blob_name'].str.endswith(ad_name)) & \n",
    "        (~df['blob_name'].str.endswith('.txt'))\n",
    "    ]\n",
    "    \n",
    "    return filtered_df"
   ]
  },
  {
   "cell_type": "code",
   "execution_count": null,
   "id": "4c319001",
   "metadata": {},
   "outputs": [],
   "source": []
  }
 ],
 "metadata": {
  "kernelspec": {
   "display_name": "Python 3 (ipykernel)",
   "language": "python",
   "name": "python3"
  },
  "language_info": {
   "codemirror_mode": {
    "name": "ipython",
    "version": 3
   },
   "file_extension": ".py",
   "mimetype": "text/x-python",
   "name": "python",
   "nbconvert_exporter": "python",
   "pygments_lexer": "ipython3",
   "version": "3.10.12"
  },
  "toc": {
   "base_numbering": 1,
   "nav_menu": {},
   "number_sections": true,
   "sideBar": true,
   "skip_h1_title": false,
   "title_cell": "Table of Contents",
   "title_sidebar": "Contents",
   "toc_cell": false,
   "toc_position": {},
   "toc_section_display": true,
   "toc_window_display": false
  },
  "varInspector": {
   "cols": {
    "lenName": 16,
    "lenType": 16,
    "lenVar": 40
   },
   "kernels_config": {
    "python": {
     "delete_cmd_postfix": "",
     "delete_cmd_prefix": "del ",
     "library": "var_list.py",
     "varRefreshCmd": "print(var_dic_list())"
    },
    "r": {
     "delete_cmd_postfix": ") ",
     "delete_cmd_prefix": "rm(",
     "library": "var_list.r",
     "varRefreshCmd": "cat(var_dic_list()) "
    }
   },
   "types_to_exclude": [
    "module",
    "function",
    "builtin_function_or_method",
    "instance",
    "_Feature"
   ],
   "window_display": false
  }
 },
 "nbformat": 4,
 "nbformat_minor": 5
}
