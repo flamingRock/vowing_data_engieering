{
 "cells": [
  {
   "cell_type": "code",
   "execution_count": 1,
   "id": "918d164b-40af-4f0a-b904-f68ee1f9f623",
   "metadata": {
    "editable": true,
    "execution": {
     "iopub.execute_input": "2023-12-04T03:02:12.884283Z",
     "iopub.status.busy": "2023-12-04T03:02:12.881282Z",
     "iopub.status.idle": "2023-12-04T03:02:13.930650Z",
     "shell.execute_reply": "2023-12-04T03:02:13.930224Z",
     "shell.execute_reply.started": "2023-12-04T03:02:12.884283Z"
    },
    "slideshow": {
     "slide_type": ""
    },
    "tags": []
   },
   "outputs": [],
   "source": [
    "import os\n",
    "import pandas as pd\n",
    "import re  # Python 정규 표현식 모듈 추가(Regular Expression)\n",
    "\n",
    "from datetime import datetime\n",
    "import subprocess\n",
    "\n",
    "import shutil  # 파일 복사를 위한 라이브러리\n",
    "import glob    # 파일들을 패턴 매칭으로 검색할 때 사용하는 라이브러리\n",
    "\n",
    "from google.cloud import storage\n",
    "\n",
    "from concurrent.futures import ThreadPoolExecutor\n",
    "from threading import Lock"
   ]
  },
  {
   "cell_type": "code",
   "execution_count": 2,
   "id": "60c1717d-72d5-48fa-af71-6201ee30b08c",
   "metadata": {
    "editable": true,
    "execution": {
     "iopub.execute_input": "2023-11-30T05:19:26.250703Z",
     "iopub.status.busy": "2023-11-30T05:19:26.250703Z",
     "iopub.status.idle": "2023-11-30T05:19:26.278605Z",
     "shell.execute_reply": "2023-11-30T05:19:26.278605Z",
     "shell.execute_reply.started": "2023-11-30T05:19:26.250703Z"
    },
    "slideshow": {
     "slide_type": ""
    },
    "tags": []
   },
   "outputs": [],
   "source": [
    "# # 광고명이나 유저명 검색할 때도 windows에서 금지된 특수문자를 제거한 뒤 검색하게 해야 함\n",
    "# def sanitize_filename(name):\n",
    "#     \"\"\"특수 문자를 제거하는 함수\"\"\"\n",
    "#     return re.sub(r'[\\\\/*?:\"<>|]', '', name)  # Windows에서 금지된 문자 제거\n",
    "\n",
    "# def download_blob(blob, parent_folder, local_download_path):\n",
    "#     \"\"\"개별 blob을 다운로드하는 함수\"\"\"\n",
    "#     try:\n",
    "#         if blob.name.endswith('.txt'):\n",
    "#             return None  # 텍스트 파일은 제외\n",
    "\n",
    "#         creation_time = blob.time_created.replace(tzinfo=None)\n",
    "#         if start_date <= creation_time <= end_date:\n",
    "#             path, filename = os.path.split(blob.name[len(parent_folder):])\n",
    "#             safe_filename = sanitize_filename(filename)\n",
    "#             local_file_path = os.path.join(local_download_path, path, safe_filename)\n",
    "#             os.makedirs(os.path.dirname(local_file_path), exist_ok=True)\n",
    "#             blob.download_to_filename(local_file_path)\n",
    "#             return blob.name\n",
    "#     except Exception as e:\n",
    "#         return f\"Error with {blob.name}: {str(e)}\"\n",
    "\n",
    "# def download_files_from_gcs(bucket_name, parent_folder, start_date, end_date, local_download_path, max_workers=20):\n",
    "#     \"\"\"GCS에서 파일을 다운로드하는 함수\"\"\"\n",
    "#     client = storage.Client()\n",
    "#     bucket = client.get_bucket(bucket_name)\n",
    "#     blobs = list(bucket.list_blobs(prefix=parent_folder))\n",
    "\n",
    "#     with ThreadPoolExecutor(max_workers=max_workers) as executor:\n",
    "#         # 각 blob에 대한 작업을 스케줄링하고 결과를 수집\n",
    "#         results = list(executor.map(lambda b: download_blob(b, parent_folder, local_download_path), blobs))\n",
    "\n",
    "#     # 결과 처리\n",
    "#     downloaded, errors = 0, 0\n",
    "#     for result in results:\n",
    "#         if result is None:\n",
    "#             continue\n",
    "#         if \"Error\" in result:\n",
    "#             errors += 1\n",
    "#         else:\n",
    "#             downloaded += 1\n",
    "\n",
    "#     print(f\"Total downloaded: {downloaded}, Errors: {errors}\")"
   ]
  },
  {
   "cell_type": "code",
   "execution_count": null,
   "id": "98feda46-0f01-4b21-97d5-08bde9cb5a8a",
   "metadata": {},
   "outputs": [],
   "source": [
    "# def download_files_from_gcs_with_gsutil(bucket_name, parent_folder, start_date, end_date, local_download_path):\n",
    "#     \"\"\"GCS에서 파일을 gsutil을 사용하여 다운로드하는 함수\"\"\"\n",
    "#     # 날짜 범위를 문자열로 변환\n",
    "#     start_date_str = start_date.strftime(\"%Y-%m-%d\")\n",
    "#     end_date_str = end_date.strftime(\"%Y-%m-%d\")\n",
    "\n",
    "#     # gsutil 명령 실행\n",
    "#     gsutil_command = f\"gsutil -m cp -r 'gs://{bucket_name}/{parent_folder}*' '{local_download_path}'\"\n",
    "#     subprocess.run(gsutil_command, shell=True, check=True)"
   ]
  },
  {
   "cell_type": "code",
   "execution_count": null,
   "id": "cb3d9f17-1fe3-49ea-9952-276fd5f6f16a",
   "metadata": {},
   "outputs": [],
   "source": [
    "# # 날짜 필터링을 해서 지정된 날짜 범위에 속하는 파일만을 필터링  \n",
    "# # gsutil을 사용해 데이터를 가져오는 함수들\n",
    "\n",
    "# def list_files_in_bucket(bucket_name, prefix):\n",
    "#     '''List all files in a GCS bucket with their metadata.'''\n",
    "#     command = f'gsutil ls -L \"gs://{bucket_name}/{prefix}**\"'\n",
    "#     result = subprocess.run(command, shell=True, capture_output=True, text=True)\n",
    "#     if result.returncode != 0:\n",
    "#         raise Exception(f'Error listing files: {result.stderr}')\n",
    "#     return result.stdout\n",
    "\n",
    "# def filter_files_by_date(file_list, start_date, end_date):\n",
    "#     '''Filter files based on the creation date.'''\n",
    "#     filtered_files = []\n",
    "#     current_file = None\n",
    "#     for line in file_list.split('\\\\n'):\n",
    "#         if 'Creation time:' in line and current_file:\n",
    "#             creation_time_str = line.split(': ')[1].strip()\n",
    "#             creation_time = datetime.strptime(creation_time_str, '%Y-%m-%dT%H:%M:%S.%fZ')\n",
    "#             if start_date <= creation_time <= end_date:\n",
    "#                 filtered_files.append(current_file)\n",
    "#         elif line.startswith('gs://'):\n",
    "#             current_file = line.split()[0]\n",
    "#     return filtered_files\n",
    "\n",
    "# def download_files(file_paths, local_download_path):\n",
    "#     '''Download a list of files to the local path.'''\n",
    "#     for file_path in file_paths:\n",
    "#         local_file_path = local_download_path + '/' + file_path.split('/')[-1]\n",
    "#         command = f'gsutil -m cp -r \"{file_path}\" \"{local_file_path}\"'\n",
    "#         subprocess.run(command, shell=True, check=True)"
   ]
  },
  {
   "cell_type": "code",
   "execution_count": 2,
   "id": "89022c67-29fe-4dd1-b100-fe3c04ea5a8f",
   "metadata": {
    "execution": {
     "iopub.execute_input": "2023-12-04T03:02:37.642560Z",
     "iopub.status.busy": "2023-12-04T03:02:37.642560Z",
     "iopub.status.idle": "2023-12-04T03:02:37.658187Z",
     "shell.execute_reply": "2023-12-04T03:02:37.658187Z",
     "shell.execute_reply.started": "2023-12-04T03:02:37.642560Z"
    }
   },
   "outputs": [],
   "source": [
    "# 전체 디렉토리를 한 번에 복사하는 방식 using gsutil <- 날짜 필터링 없이 gsutil을 사용하여 GCS에서 파일을 최대한 빠르게 다운로드\n",
    "\n",
    "def download_entire_directory(bucket_name, parent_folder, local_download_path):\n",
    "    command = f'gsutil -m cp -r \"gs://{bucket_name}/{parent_folder}*\" \"{local_download_path}\"'\n",
    "    subprocess.run(command, shell=True, check=True)"
   ]
  },
  {
   "cell_type": "code",
   "execution_count": 4,
   "id": "eaceb697-bd91-4ea7-a3fb-804deb3c3479",
   "metadata": {
    "execution": {
     "iopub.execute_input": "2023-12-04T03:04:05.670405Z",
     "iopub.status.busy": "2023-12-04T03:04:05.670405Z",
     "iopub.status.idle": "2023-12-04T03:04:07.439022Z",
     "shell.execute_reply": "2023-12-04T03:04:07.439022Z",
     "shell.execute_reply.started": "2023-12-04T03:04:05.670405Z"
    }
   },
   "outputs": [
    {
     "ename": "CalledProcessError",
     "evalue": "Command 'gsutil -m cp -r \"gs://vowing-voicedata-archive/UserRecode/*\" \"D:/DATA_PREPROCESS/FIRESTORE_DATAS/voice_files_from_gcs_231204\"' returned non-zero exit status 1.",
     "output_type": "error",
     "traceback": [
      "\u001b[1;31m---------------------------------------------------------------------------\u001b[0m",
      "\u001b[1;31mCalledProcessError\u001b[0m                        Traceback (most recent call last)",
      "Cell \u001b[1;32mIn[4], line 29\u001b[0m\n\u001b[0;32m      6\u001b[0m local_download_path \u001b[38;5;241m=\u001b[39m \u001b[38;5;124m\"\u001b[39m\u001b[38;5;124mD:/DATA_PREPROCESS/FIRESTORE_DATAS/voice_files_from_gcs_231204\u001b[39m\u001b[38;5;124m\"\u001b[39m  \u001b[38;5;66;03m# 다운로드할 로컬 경로 설정\u001b[39;00m\n\u001b[0;32m      8\u001b[0m \u001b[38;5;66;03m# # 파일 다운로드 함수 호출\u001b[39;00m\n\u001b[0;32m      9\u001b[0m \u001b[38;5;66;03m# download_files_from_gcs(bucket_name, parent_folder, start_date, end_date, local_download_path)\u001b[39;00m\n\u001b[0;32m     10\u001b[0m \n\u001b[1;32m   (...)\u001b[0m\n\u001b[0;32m     27\u001b[0m \n\u001b[0;32m     28\u001b[0m \u001b[38;5;66;03m# 전체 디렉토리 다운로드\u001b[39;00m\n\u001b[1;32m---> 29\u001b[0m \u001b[43mdownload_entire_directory\u001b[49m\u001b[43m(\u001b[49m\u001b[43mbucket_name\u001b[49m\u001b[43m,\u001b[49m\u001b[43m \u001b[49m\u001b[43mparent_folder\u001b[49m\u001b[43m,\u001b[49m\u001b[43m \u001b[49m\u001b[43mlocal_download_path\u001b[49m\u001b[43m)\u001b[49m\n",
      "Cell \u001b[1;32mIn[2], line 5\u001b[0m, in \u001b[0;36mdownload_entire_directory\u001b[1;34m(bucket_name, parent_folder, local_download_path)\u001b[0m\n\u001b[0;32m      3\u001b[0m \u001b[38;5;28;01mdef\u001b[39;00m \u001b[38;5;21mdownload_entire_directory\u001b[39m(bucket_name, parent_folder, local_download_path):\n\u001b[0;32m      4\u001b[0m     command \u001b[38;5;241m=\u001b[39m \u001b[38;5;124mf\u001b[39m\u001b[38;5;124m'\u001b[39m\u001b[38;5;124mgsutil -m cp -r \u001b[39m\u001b[38;5;124m\"\u001b[39m\u001b[38;5;124mgs://\u001b[39m\u001b[38;5;132;01m{\u001b[39;00mbucket_name\u001b[38;5;132;01m}\u001b[39;00m\u001b[38;5;124m/\u001b[39m\u001b[38;5;132;01m{\u001b[39;00mparent_folder\u001b[38;5;132;01m}\u001b[39;00m\u001b[38;5;124m*\u001b[39m\u001b[38;5;124m\"\u001b[39m\u001b[38;5;124m \u001b[39m\u001b[38;5;124m\"\u001b[39m\u001b[38;5;132;01m{\u001b[39;00mlocal_download_path\u001b[38;5;132;01m}\u001b[39;00m\u001b[38;5;124m\"\u001b[39m\u001b[38;5;124m'\u001b[39m\n\u001b[1;32m----> 5\u001b[0m     \u001b[43msubprocess\u001b[49m\u001b[38;5;241;43m.\u001b[39;49m\u001b[43mrun\u001b[49m\u001b[43m(\u001b[49m\u001b[43mcommand\u001b[49m\u001b[43m,\u001b[49m\u001b[43m \u001b[49m\u001b[43mshell\u001b[49m\u001b[38;5;241;43m=\u001b[39;49m\u001b[38;5;28;43;01mTrue\u001b[39;49;00m\u001b[43m,\u001b[49m\u001b[43m \u001b[49m\u001b[43mcheck\u001b[49m\u001b[38;5;241;43m=\u001b[39;49m\u001b[38;5;28;43;01mTrue\u001b[39;49;00m\u001b[43m)\u001b[49m\n",
      "File \u001b[1;32m~\\anaconda3\\envs\\my_conda_01\\lib\\subprocess.py:526\u001b[0m, in \u001b[0;36mrun\u001b[1;34m(input, capture_output, timeout, check, *popenargs, **kwargs)\u001b[0m\n\u001b[0;32m    524\u001b[0m     retcode \u001b[38;5;241m=\u001b[39m process\u001b[38;5;241m.\u001b[39mpoll()\n\u001b[0;32m    525\u001b[0m     \u001b[38;5;28;01mif\u001b[39;00m check \u001b[38;5;129;01mand\u001b[39;00m retcode:\n\u001b[1;32m--> 526\u001b[0m         \u001b[38;5;28;01mraise\u001b[39;00m CalledProcessError(retcode, process\u001b[38;5;241m.\u001b[39margs,\n\u001b[0;32m    527\u001b[0m                                  output\u001b[38;5;241m=\u001b[39mstdout, stderr\u001b[38;5;241m=\u001b[39mstderr)\n\u001b[0;32m    528\u001b[0m \u001b[38;5;28;01mreturn\u001b[39;00m CompletedProcess(process\u001b[38;5;241m.\u001b[39margs, retcode, stdout, stderr)\n",
      "\u001b[1;31mCalledProcessError\u001b[0m: Command 'gsutil -m cp -r \"gs://vowing-voicedata-archive/UserRecode/*\" \"D:/DATA_PREPROCESS/FIRESTORE_DATAS/voice_files_from_gcs_231204\"' returned non-zero exit status 1."
     ]
    }
   ],
   "source": [
    "# 설정\n",
    "bucket_name = \"vowing-voicedata-archive\"\n",
    "parent_folder = \"UserRecode/\"\n",
    "start_date = datetime(2023, 7, 1)\n",
    "end_date = datetime(2023, 10, 31)\n",
    "local_download_path = \"D:/DATA_PREPROCESS/FIRESTORE_DATAS/voice_files_from_gcs_231204\"  # 다운로드할 로컬 경로 설정\n",
    "\n",
    "# # 파일 다운로드 함수 호출\n",
    "# download_files_from_gcs(bucket_name, parent_folder, start_date, end_date, local_download_path)\n",
    "\n",
    "\n",
    "#------------------------------------------------------------------------------------------------------------------#\n",
    "\n",
    "# # gsutil을 사용하여 파일 다운로드 함수 호출\n",
    "# download_files_from_gcs_with_gsutil(bucket_name, parent_folder, start_date, end_date, local_download_path)\n",
    "\n",
    "#------------------------------------------------------------------------------------------------------------------#\n",
    "\n",
    "# # List and filter files\n",
    "# file_list = list_files_in_bucket(bucket_name, parent_folder)\n",
    "# filtered_files = filter_files_by_date(file_list, start_date, end_date)\n",
    "\n",
    "# # Download files\n",
    "# download_files(filtered_files, local_download_path)\n",
    "\n",
    "#------------------------------------------------------------------------------------------------------------------#\n",
    "\n",
    "# 전체 디렉토리 다운로드\n",
    "download_entire_directory(bucket_name, parent_folder, local_download_path)"
   ]
  },
  {
   "cell_type": "code",
   "execution_count": null,
   "id": "8f7f3758-f72c-4192-86a9-72bac38621df",
   "metadata": {},
   "outputs": [],
   "source": [
    "def is_file_downloaded(local_file_path):\n",
    "    \"\"\"파일이 이미 다운로드되었는지 확인하는 함수\"\"\"\n",
    "    return os.path.exists(local_file_path)"
   ]
  }
 ],
 "metadata": {
  "kernelspec": {
   "display_name": "Python 3 (ipykernel)",
   "language": "python",
   "name": "python3"
  },
  "language_info": {
   "codemirror_mode": {
    "name": "ipython",
    "version": 3
   },
   "file_extension": ".py",
   "mimetype": "text/x-python",
   "name": "python",
   "nbconvert_exporter": "python",
   "pygments_lexer": "ipython3",
   "version": "3.10.12"
  },
  "toc": {
   "base_numbering": 1
  }
 },
 "nbformat": 4,
 "nbformat_minor": 5
}
