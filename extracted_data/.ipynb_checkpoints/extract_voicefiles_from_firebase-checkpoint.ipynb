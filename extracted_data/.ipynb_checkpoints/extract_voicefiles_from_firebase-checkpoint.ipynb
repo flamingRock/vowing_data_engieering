{
 "cells": [
  {
   "cell_type": "code",
   "execution_count": 1,
   "id": "fb1891aa",
   "metadata": {
    "ExecuteTime": {
     "end_time": "2023-09-21T01:12:57.565375Z",
     "start_time": "2023-09-21T01:12:55.988522Z"
    },
    "editable": true,
    "slideshow": {
     "slide_type": ""
    },
    "tags": []
   },
   "outputs": [],
   "source": [
    "import os\n",
    "from google.api_core.retry import Retry\n",
    "import firebase_admin\n",
    "from firebase_admin import credentials\n",
    "from firebase_admin import firestore, storage\n",
    "from oauth2client.service_account import ServiceAccountCredentials\n",
    "import pandas as pd\n",
    "import cProfile\n",
    "import dask.dataframe as dd\n",
    "import dask.array as da\n",
    "import hashlib\n",
    "# from pyspark.sql import SparkSession\n",
    "\n",
    "import shutil  # 파일 복사를 위한 라이브러리\n",
    "import glob    # 파일들을 패턴 매칭으로 검색할 때 사용하는 라이브러리"
   ]
  },
  {
   "cell_type": "code",
   "execution_count": 2,
   "id": "58fa44a2",
   "metadata": {
    "ExecuteTime": {
     "end_time": "2023-09-21T01:12:57.581020Z",
     "start_time": "2023-09-21T01:12:57.567013Z"
    }
   },
   "outputs": [],
   "source": [
    "# spark.stop()"
   ]
  },
  {
   "cell_type": "code",
   "execution_count": 3,
   "id": "9100a562",
   "metadata": {
    "ExecuteTime": {
     "end_time": "2023-09-21T01:12:57.629032Z",
     "start_time": "2023-09-21T01:12:57.583022Z"
    }
   },
   "outputs": [
    {
     "name": "stdout",
     "output_type": "stream",
     "text": [
      "firebase_admin 권한 확인 성공.\n"
     ]
    }
   ],
   "source": [
    "# Firebase 초기화\n",
    "try:\n",
    "    cred = credentials.Certificate('C:/Users/admin/Desktop/voice_data_queries/samboss-reward-firebase-adminsdk-9j6t2-4f53253105.json')\n",
    "    firebase_admin.initialize_app(cred)\n",
    "    bucket = storage.bucket(\"samboss-reward.appspot.com\")\n",
    "    db = firestore.client()\n",
    "    print(\"firebase_admin 권한 확인 성공.\")\n",
    "except Exception as e:\n",
    "    print(\"firebase_admin 권한 확인 실패.\")\n",
    "    print(f\"Exception type: {type(e)}\")\n",
    "    print(f\"Exception message: {str(e)}\")"
   ]
  },
  {
   "cell_type": "code",
   "execution_count": 4,
   "id": "8c8f4314",
   "metadata": {
    "ExecuteTime": {
     "end_time": "2023-09-21T01:12:57.644197Z",
     "start_time": "2023-09-21T01:12:57.631032Z"
    }
   },
   "outputs": [],
   "source": [
    "# # 가상 환경의 Python 경로를 지정\n",
    "# python_path = \"C:/Users/admin/anaconda3/envs/my_conda_01/python.exe\"\n",
    "\n",
    "# # Spark 세션 생성\n",
    "# spark = SparkSession.builder \\\n",
    "#     .appName(\"voice_metadata integrating operation\") \\\n",
    "#     .config(\"spark.driver.memory\", \"10g\") \\\n",
    "#     .config(\"spark.executor.memory\", \"10g\")  \\\n",
    "#     .config(\"spark.driver.maxResultSize\", \"4g\") \\\n",
    "#     .config(\"spark.pyspark.python\", python_path) \\\n",
    "#     .config(\"spark.local.dir\", \"D:/spark_tmp\") \\\n",
    "#     .getOrCreate()\n",
    "\n",
    "# # SparkContext 가져오기\n",
    "# sc = spark.sparkContext"
   ]
  },
  {
   "cell_type": "markdown",
   "id": "6e93d443",
   "metadata": {},
   "source": [
    "# 해당 Firebase bucket의 구조 출력"
   ]
  },
  {
   "cell_type": "code",
   "execution_count": 5,
   "id": "a035f345",
   "metadata": {
    "ExecuteTime": {
     "end_time": "2023-09-21T01:13:04.271457Z",
     "start_time": "2023-09-21T01:12:57.646199Z"
    }
   },
   "outputs": [
    {
     "name": "stdout",
     "output_type": "stream",
     "text": [
      "Folder: 001OgxnNYgN2w7S7h39SI7h35G13_F00Ch\n",
      "  - UserRecode/001OgxnNYgN2w7S7h39SI7h35G13_F00Ch/녹음 할 때 꿀팁!\n",
      "  - UserRecode/001OgxnNYgN2w7S7h39SI7h35G13_F00Ch/녹음 할 때 꿀팁!.txt\n",
      "  - UserRecode/001OgxnNYgN2w7S7h39SI7h35G13_F00Ch/보윙을 소개합니다\n",
      "  - UserRecode/001OgxnNYgN2w7S7h39SI7h35G13_F00Ch/보윙을 소개합니다.txt\n",
      "Folder: 003MZepVQAdiNf4F850AIOjEcay1_F98Se\n",
      "  - UserRecode/003MZepVQAdiNf4F850AIOjEcay1_F98Se/10분 안에 다시 타면 무료!\n",
      "  - UserRecode/003MZepVQAdiNf4F850AIOjEcay1_F98Se/10분 안에 다시 타면 무료!.txt\n",
      "  - UserRecode/003MZepVQAdiNf4F850AIOjEcay1_F98Se/경기도미술관 이건희컬렉션 '사계'\n",
      "  - UserRecode/003MZepVQAdiNf4F850AIOjEcay1_F98Se/경기도미술관 이건희컬렉션 '사계'.txt\n",
      "  - UserRecode/003MZepVQAdiNf4F850AIOjEcay1_F98Se/우리아이 황금응가를 위한 깐깐한 유산균 IPICKY\n",
      "Folder: 003prDgR8vXLxEQ2urCvaUMrNCt2_F79Se\n",
      "  - UserRecode/003prDgR8vXLxEQ2urCvaUMrNCt2_F79Se/500만원 아끼는 프랑스여행 꿀팁\n",
      "  - UserRecode/003prDgR8vXLxEQ2urCvaUMrNCt2_F79Se/500만원 아끼는 프랑스여행 꿀팁.txt\n",
      "  - UserRecode/003prDgR8vXLxEQ2urCvaUMrNCt2_F79Se/9호선 출근시간 때 4회 증회로 혼잡 개선!\n",
      "  - UserRecode/003prDgR8vXLxEQ2urCvaUMrNCt2_F79Se/9호선 출근시간 때 4회 증회로 혼잡 개선!.txt\n",
      "  - UserRecode/003prDgR8vXLxEQ2urCvaUMrNCt2_F79Se/간호사한테 칭찬 받았다\n",
      "Folder: 00AqDjYcRpeNqI8nb74U0AnkdEg1_M03Gy\n",
      "  - UserRecode/00AqDjYcRpeNqI8nb74U0AnkdEg1_M03Gy/귀염뽀짝 힐링게임\n",
      "  - UserRecode/00AqDjYcRpeNqI8nb74U0AnkdEg1_M03Gy/귀염뽀짝 힐링게임.txt\n",
      "  - UserRecode/00AqDjYcRpeNqI8nb74U0AnkdEg1_M03Gy/빈칸 글씨 맞추기 00002\n",
      "  - UserRecode/00AqDjYcRpeNqI8nb74U0AnkdEg1_M03Gy/빈칸 글씨 맞추기 00002.txt\n",
      "Folder: 00fntnOCsqhJdmwJNrV4HwgbKut2_M85Se\n",
      "  - UserRecode/00fntnOCsqhJdmwJNrV4HwgbKut2_M85Se/10분 안에 다시 타면 무료!\n",
      "  - UserRecode/00fntnOCsqhJdmwJNrV4HwgbKut2_M85Se/10분 안에 다시 타면 무료!.txt\n",
      "  - UserRecode/00fntnOCsqhJdmwJNrV4HwgbKut2_M85Se/2023년 찾아가고 싶은 여름 섬 5곳\n",
      "  - UserRecode/00fntnOCsqhJdmwJNrV4HwgbKut2_M85Se/2023년 찾아가고 싶은 여름 섬 5곳.txt\n",
      "  - UserRecode/00fntnOCsqhJdmwJNrV4HwgbKut2_M85Se/500만원 아끼는 프랑스여행 꿀팁\n",
      "Folder: 00qZ9QbP0UTF703cVVjOkdZ4a132_F70Se\n",
      "  - UserRecode/00qZ9QbP0UTF703cVVjOkdZ4a132_F70Se/식재료 원산지 위반한 업체 확인하기\n",
      "  - UserRecode/00qZ9QbP0UTF703cVVjOkdZ4a132_F70Se/식재료 원산지 위반한 업체 확인하기.txt\n",
      "  - UserRecode/00qZ9QbP0UTF703cVVjOkdZ4a132_F70Se/아이들은 똥 이야기를 왜 그렇게 좋아할까\n",
      "  - UserRecode/00qZ9QbP0UTF703cVVjOkdZ4a132_F70Se/아이들은 똥 이야기를 왜 그렇게 좋아할까.txt\n",
      "  - UserRecode/00qZ9QbP0UTF703cVVjOkdZ4a132_F70Se/암기플러스로 기억력 향상 ♡ 23552\n",
      "Folder: 01Ufc9kYRiQwDWKzj7JpwsO97WD3_F08Se\n",
      "  - UserRecode/01Ufc9kYRiQwDWKzj7JpwsO97WD3_F08Se/김까치- 톰토미와 함께 공룡 이름 외워보자\n",
      "  - UserRecode/01Ufc9kYRiQwDWKzj7JpwsO97WD3_F08Se/김까치- 톰토미와 함께 공룡 이름 외워보자.txt\n",
      "  - UserRecode/01Ufc9kYRiQwDWKzj7JpwsO97WD3_F08Se/동물박사의 우유\n",
      "  - UserRecode/01Ufc9kYRiQwDWKzj7JpwsO97WD3_F08Se/동물박사의 우유.txt\n",
      "  - UserRecode/01Ufc9kYRiQwDWKzj7JpwsO97WD3_F08Se/보윙을 소개합니다\n",
      "Folder: 01YMZJPSJAWojkigVF0EKIlHdup2_M81Gy\n",
      "  - UserRecode/01YMZJPSJAWojkigVF0EKIlHdup2_M81Gy/1+1 에어쿠션 투명 젤리 범퍼 갤럭시S22 울트라 케이스 12317\n",
      "  - UserRecode/01YMZJPSJAWojkigVF0EKIlHdup2_M81Gy/1+1 에어쿠션 투명 젤리 범퍼 갤럭시S22 울트라 케이스 12317.txt\n",
      "  - UserRecode/01YMZJPSJAWojkigVF0EKIlHdup2_M81Gy/1+1 에어쿠션 투명 젤리 범퍼 갤럭시S23 울트라 케이스 12055\n",
      "  - UserRecode/01YMZJPSJAWojkigVF0EKIlHdup2_M81Gy/1+1 에어쿠션 투명 젤리 범퍼 갤럭시S23 울트라 케이스 12055.txt\n",
      "  - UserRecode/01YMZJPSJAWojkigVF0EKIlHdup2_M81Gy/1+1 에어쿠션 투명 젤리 범퍼 갤럭시S23 울트라 케이스 12316\n",
      "Folder: 01cDPpeZIVbg5p3I9bMJw7FIcyp1_F73Se\n",
      "  - UserRecode/01cDPpeZIVbg5p3I9bMJw7FIcyp1_F73Se/1.4.4 패치 노트 정리\n",
      "  - UserRecode/01cDPpeZIVbg5p3I9bMJw7FIcyp1_F73Se/1.4.4 패치 노트 정리.txt\n",
      "  - UserRecode/01cDPpeZIVbg5p3I9bMJw7FIcyp1_F73Se/걷기의 무시할 수 없는 효과\n",
      "  - UserRecode/01cDPpeZIVbg5p3I9bMJw7FIcyp1_F73Se/걷기의 무시할 수 없는 효과.txt\n",
      "  - UserRecode/01cDPpeZIVbg5p3I9bMJw7FIcyp1_F73Se/경기도 선정 이야기가 담긴 관광지\n",
      "Folder: 027shivGrJY69QXDQI7WiNEpttM2_F08Ch\n",
      "  - UserRecode/027shivGrJY69QXDQI7WiNEpttM2_F08Ch/광고 참여하고 리뷰 달면 포인트가 빵야빵야\n",
      "  - UserRecode/027shivGrJY69QXDQI7WiNEpttM2_F08Ch/광고 참여하고 리뷰 달면 포인트가 빵야빵야.txt\n",
      "  - UserRecode/027shivGrJY69QXDQI7WiNEpttM2_F08Ch/내 이름은 전국에 몇 명\n",
      "  - UserRecode/027shivGrJY69QXDQI7WiNEpttM2_F08Ch/내 이름은 전국에 몇 명.txt\n",
      "  - UserRecode/027shivGrJY69QXDQI7WiNEpttM2_F08Ch/보윙 챌린지 스크립트 공모전!!\n"
     ]
    }
   ],
   "source": [
    "# UserRecode 폴더 내의 모든 객체(폴더 및 파일)를 가져옵니다.\n",
    "blobs = bucket.list_blobs(prefix=\"UserRecode/\")\n",
    "\n",
    "# 폴더 이름을 저장할 리스트를 초기화합니다.\n",
    "folder_names = []\n",
    "\n",
    "# blobs를 반복하면서 폴더 이름을 추출합니다.\n",
    "for blob in blobs:\n",
    "    parts = blob.name.split('/')\n",
    "    # \"UserRecode/폴더명/\" 형태로 되어 있기 때문에 parts의 길이가 3이어야 하며,\n",
    "    # 폴더 이름은 parts의 두 번째 요소입니다.\n",
    "    if len(parts) == 3 and parts[1] not in folder_names:\n",
    "        folder_names.append(parts[1])\n",
    "    \n",
    "    # 10개의 폴더를 찾았다면 반복문을 종료합니다.\n",
    "    if len(folder_names) == 10:\n",
    "        break\n",
    "\n",
    "# 각 폴더 내의 파일을 최대 5개씩 출력합니다.\n",
    "for folder_name in folder_names:\n",
    "    print(f\"Folder: {folder_name}\")\n",
    "    \n",
    "    blobs_in_folder = bucket.list_blobs(prefix=f\"UserRecode/{folder_name}/\")\n",
    "    \n",
    "    file_count = 0\n",
    "    for blob in blobs_in_folder:\n",
    "        print(f\"  - {blob.name}\")\n",
    "        file_count += 1\n",
    "        if file_count >= 5:\n",
    "            break        "
   ]
  },
  {
   "cell_type": "markdown",
   "id": "f1ffd2fb",
   "metadata": {},
   "source": [
    "# CSV | Parquet 파일로 저장소 검색, 저장\n",
    "## 간단한 락을 위한 파일 생성과 삭제 함수"
   ]
  },
  {
   "cell_type": "code",
   "execution_count": 6,
   "id": "8c2d2b15",
   "metadata": {
    "ExecuteTime": {
     "end_time": "2023-09-21T01:13:04.286461Z",
     "start_time": "2023-09-21T01:13:04.273458Z"
    }
   },
   "outputs": [],
   "source": [
    "# 간단한 락을 위한 파일 생성\n",
    "def acquire_lock(lock_file):\n",
    "    if os.path.exists(lock_file):\n",
    "        print(\"Lock file exists. Another process is running.\")\n",
    "        return False\n",
    "    open(lock_file, 'w').close()\n",
    "    return True\n",
    "\n",
    "# 락 파일 삭제\n",
    "def release_lock(lock_file):\n",
    "    if os.path.exists(lock_file):\n",
    "        os.remove(lock_file)\n",
    "\n",
    "lock_file = 'file_process.lock'"
   ]
  },
  {
   "cell_type": "markdown",
   "id": "52c34558",
   "metadata": {},
   "source": [
    "## 샘플 보이스 메타 데이터 관련"
   ]
  },
  {
   "cell_type": "markdown",
   "id": "71417129",
   "metadata": {},
   "source": [
    "### CSV 파일로부터"
   ]
  },
  {
   "cell_type": "code",
   "execution_count": 7,
   "id": "33d70f96",
   "metadata": {
    "ExecuteTime": {
     "end_time": "2023-09-21T01:13:04.302455Z",
     "start_time": "2023-09-21T01:13:04.288461Z"
    }
   },
   "outputs": [],
   "source": [
    "# # 샘플 보이스 메타 데이터 CSV 파일 경로 및 시트 이름\n",
    "# csv_sample_files = glob.glob('D:\\\\DATA_PREPROCESS\\\\FIRESTORE_DATAS\\\\sample_voice_metadata_230908\\\\*.csv')\n",
    "\n",
    "# save_path_of_sample = 'D:\\\\DATA_PREPROCESS\\\\FIRESTORE_DATAS\\\\sample_voice_metadata_230908\\\\VOICE_FILES'\n",
    "# if not os.path.exists(save_path_of_sample):\n",
    "#     os.makedirs(save_path_of_sample)\n",
    "\n",
    "# # Dask DataFrame으로 변환\n",
    "# ddf_list = [dd.read_csv(file) for file in csv_files]\n",
    "# ddf_sample = dd.concat(ddf_list, axis=0, interleave_partitions=True)\n",
    "\n",
    "# # # 테스트용\n",
    "# # ddf_sample = ddf_sample.loc[5000:5004]"
   ]
  },
  {
   "cell_type": "code",
   "execution_count": 8,
   "id": "809783be",
   "metadata": {
    "ExecuteTime": {
     "end_time": "2023-09-21T01:13:04.318232Z",
     "start_time": "2023-09-21T01:13:04.304457Z"
    }
   },
   "outputs": [],
   "source": [
    "# specific_file_path = 'D:\\\\DATA_PREPROCESS\\\\FIRESTORE_DATAS\\\\sample_voice_metadata_230908\\\\part-00000-5cb9159a-c646-4237-9.csv'\n",
    "\n",
    "# save_path_of_sample = 'D:\\\\DATA_PREPROCESS\\\\FIRESTORE_DATAS\\\\sample_voice_metadata_230908\\\\VOICE_FILES'\n",
    "# if not os.path.exists(save_path_of_sample):\n",
    "#     os.makedirs(save_path_of_sample)\n",
    "\n",
    "# # 특정 CSV 파일만 Dask DataFrame으로 변환\n",
    "# ddf_specific = dd.read_csv(specific_file_path)"
   ]
  },
  {
   "cell_type": "markdown",
   "id": "98ec7511",
   "metadata": {},
   "source": [
    "### Paquet 파일로부터"
   ]
  },
  {
   "cell_type": "code",
   "execution_count": 9,
   "id": "3258368f",
   "metadata": {
    "ExecuteTime": {
     "end_time": "2023-09-21T01:13:04.380455Z",
     "start_time": "2023-09-21T01:13:04.321234Z"
    }
   },
   "outputs": [],
   "source": [
    "# 샘플 보이스 메타 데이터 Parquet 파일 경로\n",
    "parquet_sample_files = glob.glob('D:\\\\DATA_PREPROCESS\\\\FIRESTORE_DATAS\\\\sample_voice_metadata_230918\\\\*.parquet')\n",
    "\n",
    "save_path_of_sample = 'D:\\\\DATA_PREPROCESS\\\\FIRESTORE_DATAS\\\\sample_voice_metadata_230918\\\\VOICE_FILES'\n",
    "if not os.path.exists(save_path_of_sample):\n",
    "    os.makedirs(save_path_of_sample)\n",
    "\n",
    "# Dask DataFrame으로 변환\n",
    "ddf_list = [dd.read_parquet(file) for file in parquet_sample_files]\n",
    "ddf_sample = dd.concat(ddf_list, axis=0, interleave_partitions=True)\n",
    "\n",
    "# # 테스트용\n",
    "# ddf_sample = ddf_sample.loc[:10]"
   ]
  },
  {
   "cell_type": "code",
   "execution_count": 10,
   "id": "e49eabde",
   "metadata": {
    "ExecuteTime": {
     "end_time": "2023-09-21T01:13:04.396230Z",
     "start_time": "2023-09-21T01:13:04.382456Z"
    }
   },
   "outputs": [],
   "source": [
    "# print(type(ddf_sample))\n",
    "# ddf_sample_count = ddf_sample.shape[0].compute()\n",
    "# print(ddf_sample_count)"
   ]
  },
  {
   "cell_type": "markdown",
   "id": "66681fcd",
   "metadata": {},
   "source": [
    "### Firebase 검색, 저장하는 함수"
   ]
  },
  {
   "cell_type": "code",
   "execution_count": 11,
   "id": "85324299",
   "metadata": {
    "ExecuteTime": {
     "end_time": "2023-09-21T01:13:04.412234Z",
     "start_time": "2023-09-21T01:13:04.398230Z"
    }
   },
   "outputs": [],
   "source": [
    "def search_and_save_from_firebase(user_id, ad_name):\n",
    "    # 최적화: 이미 user_id를 알기 때문에 해당 user_id를 prefix로 사용\n",
    "    potential_prefix = f\"UserRecode/{user_id[:28]}\"\n",
    "    blobs = bucket.list_blobs(prefix=potential_prefix)\n",
    "    print(blobs)\n",
    "    \n",
    "    for blob in blobs:\n",
    "        parts = blob.name.split('/')\n",
    "            \n",
    "        if len(parts) > 1 and user_id == parts[1][:28]:\n",
    "            # 해당 폴더 내의 파일들을 검사\n",
    "            blobs_in_directory = bucket.list_blobs(prefix=f\"UserRecode/{parts[1]}/\")\n",
    "            if not blobs_in_directory:\n",
    "                print(f\"{user_id} 폴더에 파일이 없어요\")\n",
    "            for inner_blob in blobs_in_directory:\n",
    "                blob_basename = os.path.basename(inner_blob.name)  # 파일의 기본 이름만 추출\n",
    "                if blob_basename.endswith(ad_name) and not blob_basename.endswith('.txt'):\n",
    "                    save_name = f\"{user_id}_{ad_name}\"\n",
    "                    count = 1\n",
    "                    while os.path.exists(f\"{save_path_of_sample}/{save_name}\"):\n",
    "                        print(f\"Duplicated: user_id={user_id}, ad_name={ad_name}\")\n",
    "                        save_name = f\"{user_id}_{ad_name} ({count})\"\n",
    "                        count += 1\n",
    "                    inner_blob.download_to_filename(f\"{save_path_of_sample}/{save_name}\")\n",
    "                    print(f\"Firebase에서 매칭 됨! user_id: {user_id}, ad_name:{ad_name}\")\n",
    "            break\n",
    "    else:\n",
    "        print(f\"Firebase에서 매칭 안됨! user_id: {user_id}\")\n",
    "        print(f\"SSD에서 검색, user_id: {user_id}, ad_name: {ad_name}\")\n"
   ]
  },
  {
   "cell_type": "code",
   "execution_count": 12,
   "id": "0ad38015",
   "metadata": {
    "ExecuteTime": {
     "end_time": "2023-09-21T01:13:04.428237Z",
     "start_time": "2023-09-21T01:13:04.414235Z"
    }
   },
   "outputs": [],
   "source": [
    "# # 캐시 정의\n",
    "# local_file_cache = set()\n",
    "# success_cache = set()\n",
    "# directory_cache = set()\n",
    "# firebase_blob_cache = {}"
   ]
  },
  {
   "cell_type": "code",
   "execution_count": 13,
   "id": "c2e43300",
   "metadata": {
    "ExecuteTime": {
     "end_time": "2023-09-21T01:13:04.444241Z",
     "start_time": "2023-09-21T01:13:04.430238Z"
    }
   },
   "outputs": [],
   "source": [
    "# def search_and_save_from_firebase(user_id, ad_name):\n",
    "#     save_name = f\"{user_id}_{ad_name}\"\n",
    "    \n",
    "#     # Early return if found in success_cache or local_file_cache\n",
    "#     if save_name in local_file_cache or (user_id, ad_name) in success_cache:\n",
    "#         print(f\"Already cached: user_id={user_id}, ad_name={ad_name}\")\n",
    "#         return True\n",
    "    \n",
    "#     potential_prefix = f\"UserRecode/{user_id[:28]}\"\n",
    "    \n",
    "#     # 로깅 추가: 캐시 조회 전\n",
    "#     print(f\"Checking firebase_blob_cache for prefix: {potential_prefix}\")\n",
    "    \n",
    "#     blobs = firebase_blob_cache.get(potential_prefix)\n",
    "    \n",
    "#     # 로깅 추가: 캐시 조회 결과\n",
    "#     if blobs is None:\n",
    "#         print(f\"No blobs found in cache for prefix: {potential_prefix}\")\n",
    "#         blobs = list(bucket.list_blobs(prefix=potential_prefix))\n",
    "#         firebase_blob_cache[potential_prefix] = blobs  # Update cache\n",
    "#     else:\n",
    "#         print(f\"Found blobs in cache for prefix: {potential_prefix}\")\n",
    "    \n",
    "#     # 로깅 추가: 캐시 업데이트 후\n",
    "#     print(f\"Updated firebase_blob_cache for prefix: {potential_prefix}\")\n",
    "    \n",
    "#     for blob in blobs:\n",
    "#         parts = blob.name.split('/')\n",
    "#         if len(parts) <= 1 or user_id != parts[1][:28]:\n",
    "#             continue\n",
    "        \n",
    "#         blobs_in_directory = list(bucket.list_blobs(prefix=f\"UserRecode/{parts[1]}/\"))\n",
    "#         if not blobs_in_directory:\n",
    "#             continue\n",
    "        \n",
    "#         for inner_blob in blobs_in_directory:\n",
    "#             blob_basename = os.path.basename(inner_blob.name)\n",
    "            \n",
    "#             if blob_basename.endswith(ad_name) and not blob_basename.endswith('.txt'):\n",
    "#                 inner_blob.download_to_filename(f\"{save_path_of_sample}/{save_name}\")\n",
    "                \n",
    "#                 # Update caches\n",
    "#                 local_file_cache.add(save_name)\n",
    "#                 success_cache.add((user_id, ad_name))\n",
    "                \n",
    "#                 print(f\"Matched in Firebase! user_id: {user_id}, ad_name: {ad_name}\")\n",
    "#                 return True\n",
    "\n",
    "#     print(f\"Not matched in Firebase! user_id: {user_id}\")\n",
    "#     return False"
   ]
  },
  {
   "cell_type": "markdown",
   "id": "78224e79",
   "metadata": {},
   "source": [
    "### SSD 검색, 저장하는 함수"
   ]
  },
  {
   "cell_type": "code",
   "execution_count": 14,
   "id": "6280769b",
   "metadata": {
    "ExecuteTime": {
     "end_time": "2023-09-21T01:13:04.460244Z",
     "start_time": "2023-09-21T01:13:04.446242Z"
    }
   },
   "outputs": [],
   "source": [
    "# 로컬 SSD에서 데이터 검색 및 저장하는 함수\n",
    "def search_and_save_from_local(user_id, ad_name):\n",
    "    root_path = \"E:\\\\0707\\\\voicedata\\\\230517\\\\d_80\\\\gcs\\\\\"\n",
    "\n",
    "    subdirs = [d for d in os.listdir(root_path) if os.path.isdir(os.path.join(root_path, d))]\n",
    "\n",
    "    # ad_name을 사용하여 디렉터리를 필터링\n",
    "    filtered_dirs = [d for d in subdirs if ad_name.lower() in d.lower()]\n",
    "    \n",
    "    for folder in filtered_dirs:\n",
    "        folder_path = os.path.join(root_path, folder)\n",
    "        \n",
    "        # 디렉터리 내의 모든 파일을 나열\n",
    "        all_files = [f for f in os.listdir(folder_path) if os.path.isfile(os.path.join(folder_path, f))]\n",
    "        \n",
    "        # user_id를 사용하여 파일을 필터링(파일 이름에서 생성시간을 제외한 앞부분 28자).\n",
    "        filtered_files = [f for f in all_files if f[14:14+28] == user_id[:28]]\n",
    "        \n",
    "        for file in filtered_files:\n",
    "            file_path = os.path.join(folder_path, file)\n",
    "            \n",
    "            # 저장 작업을 수행\n",
    "            save_name = f\"{user_id}_{ad_name}\"\n",
    "            count = 1\n",
    "            while os.path.exists(os.path.join(save_path_of_sample, save_name)):\n",
    "                save_name = f\"{user_id}_{ad_name}({count})\"\n",
    "                count += 1\n",
    "            \n",
    "            destination_file_path = os.path.join(save_path_of_sample, save_name)\n",
    "            shutil.copy(file_path, destination_file_path)  # 파일 복사\n",
    "            \n",
    "            print(f\"SSD에서 매칭 됨! user_id: {user_id}, ad_name:{ad_name}\")\n",
    "            "
   ]
  },
  {
   "cell_type": "code",
   "execution_count": 15,
   "id": "f06d8fea",
   "metadata": {
    "ExecuteTime": {
     "end_time": "2023-09-21T01:13:04.475606Z",
     "start_time": "2023-09-21T01:13:04.462245Z"
    }
   },
   "outputs": [],
   "source": [
    "# # 로컬 SSD에서 데이터 검색 및 저장하는 함수\n",
    "# def search_and_save_from_local(user_id, ad_name):\n",
    "#     root_path = \"E:\\\\0707\\\\voicedata\\\\230517\\\\d_80\\\\gcs\\\\\"\n",
    "#     subdirs = [d for d in os.listdir(root_path) if os.path.isdir(os.path.join(root_path, d))]\n",
    "#     filtered_dirs = [d for d in subdirs if ad_name.lower() in d.lower()]\n",
    "    \n",
    "#     for folder in filtered_dirs:\n",
    "#         folder_path = os.path.join(root_path, folder)\n",
    "#         all_files = [f for f in os.listdir(folder_path) if os.path.isfile(os.path.join(folder_path, f))]\n",
    "        \n",
    "#         # user_id를 사용하여 파일을 필터링(파일 이름에서 생성시간을 제외한 앞부분 28자).\n",
    "#         filtered_files = [f for f in all_files if f[14:14+28] == user_id[:28]]\n",
    "        \n",
    "#         for file in filtered_files:\n",
    "#             file_path = os.path.join(folder_path, file)\n",
    "            \n",
    "#             # 저장 작업을 수행\n",
    "#             save_name = f\"{user_id}_{ad_name}\"\n",
    "#             count = 1\n",
    "#             while os.path.exists(os.path.join(save_path_of_sample, save_name)):\n",
    "#                 save_name = f\"{user_id}_{ad_name}({count})\"\n",
    "#                 count += 1\n",
    "            \n",
    "# #             # 파일 락을 얻기 전에 파일이 이미 존재하는지 다시 확인\n",
    "# #             if not os.path.exists(os.path.join(save_path_of_sample, save_name)):\n",
    "# #                 acquired, lock_file = acquire_lock(lock_file_path)  # lock_file_path에서 lock_file로 매개변수 수정\n",
    "# #                 if acquired:\n",
    "# #                     try:\n",
    "# #                         destination_file_path = os.path.join(save_path_of_sample, save_name)\n",
    "# #                         shutil.copy(file_path, destination_file_path)  # 파일 복사\n",
    "# #                         print(f\"SSD에서 매칭 됨! user_id: {user_id}, ad_name: {ad_name}\")\n",
    "# #                     finally:\n",
    "# #                         release_lock(lock_file)\n",
    "            \n",
    "#             destination_file_path = os.path.join(save_path_of_sample, save_name)\n",
    "#             shutil.copy(file_path, destination_file_path)  # 파일 복사\n",
    "#             print(f\"SSD에서 매칭 됨! user_id: {user_id}, ad_name: {ad_name}\")\n",
    "            "
   ]
  },
  {
   "cell_type": "code",
   "execution_count": 16,
   "id": "9d19bf72",
   "metadata": {
    "ExecuteTime": {
     "end_time": "2023-09-21T01:13:04.490612Z",
     "start_time": "2023-09-21T01:13:04.477608Z"
    }
   },
   "outputs": [],
   "source": [
    "# def search_and_save_from_local(user_id, ad_name):\n",
    "#     root_path = \"E:\\\\0707\\\\voicedata\\\\230517\\\\d_80\\\\gcs\\\\\"\n",
    "    \n",
    "#     # 디렉토리 캐시 확인\n",
    "#     subdirs = [d for d in os.listdir(root_path) if os.path.isdir(os.path.join(root_path, d)) and d not in directory_cache]\n",
    "    \n",
    "#     filtered_dirs = [d for d in subdirs if ad_name.lower() in d.lower()]\n",
    "    \n",
    "#     for folder in filtered_dirs:\n",
    "#         folder_path = os.path.join(root_path, folder)\n",
    "#         all_files = [f for f in os.listdir(folder_path) if os.path.isfile(os.path.join(folder_path, f))]\n",
    "        \n",
    "#         # user_id를 사용하여 파일을 필터링\n",
    "#         filtered_files = [f for f in all_files if f[14:14+28] == user_id[:28]]\n",
    "        \n",
    "#         for file in filtered_files:\n",
    "#             file_path = os.path.join(folder_path, file)\n",
    "#             save_name = f\"{user_id}_{ad_name}\"\n",
    "            \n",
    "#             # 로컬 파일 캐시를 활용하여 중복 확인\n",
    "#             if save_name in local_file_cache:\n",
    "#                 print(f\"Duplicated: user_id={user_id}, ad_name={ad_name}\")\n",
    "#                 continue\n",
    "            \n",
    "#             # 파일 복사 최적화\n",
    "#             destination_file_path = os.path.join(save_path_of_sample, save_name)\n",
    "#             os.system(f'cp \"{file_path}\" \"{destination_file_path}\"')  # shutil.copy 대신 os.system 사용\n",
    "            \n",
    "#             # 캐시 업데이트\n",
    "#             local_file_cache.add(save_name)\n",
    "#             success_cache.add((user_id, ad_name))\n",
    "#             directory_cache.add(folder)\n",
    "            \n",
    "#             print(f\"SSD에서 매칭 됨! user_id: {user_id}, ad_name: {ad_name}\")\n",
    "#             return True\n",
    "#     return False"
   ]
  },
  {
   "cell_type": "markdown",
   "id": "b3629c74",
   "metadata": {},
   "source": [
    "### 두 데이터 소스(Firebase, 로컬 SSD)에서 검색 및 저장"
   ]
  },
  {
   "cell_type": "code",
   "execution_count": 17,
   "id": "41f8d445",
   "metadata": {
    "ExecuteTime": {
     "end_time": "2023-09-21T01:13:04.506618Z",
     "start_time": "2023-09-21T01:13:04.492613Z"
    }
   },
   "outputs": [],
   "source": [
    "def process_row(user_id, ad_name):\n",
    "    found_in_firebase = search_and_save_from_firebase(user_id, ad_name)\n",
    "    \n",
    "    if not found_in_firebase:\n",
    "        search_and_save_from_local(user_id, ad_name)"
   ]
  },
  {
   "cell_type": "code",
   "execution_count": 18,
   "id": "2dd16024",
   "metadata": {
    "ExecuteTime": {
     "end_time": "2023-09-21T01:13:04.522230Z",
     "start_time": "2023-09-21T01:13:04.508619Z"
    }
   },
   "outputs": [],
   "source": [
    "# def process_row(user_id, ad_name):\n",
    "#     cProfile.run('search_and_save_from_firebase(\"{}\", \"{}\")'.format(user_id, ad_name))\n",
    "#     found_in_firebase = search_and_save_from_firebase(user_id, ad_name)\n",
    "    \n",
    "#     if not found_in_firebase:\n",
    "#         cProfile.run('search_and_save_from_local(\"{}\", \"{}\")'.format(user_id, ad_name))\n",
    "#         search_and_save_from_local(user_id, ad_name)"
   ]
  },
  {
   "cell_type": "code",
   "execution_count": 19,
   "id": "08dbb2c7",
   "metadata": {
    "ExecuteTime": {
     "end_time": "2023-09-21T01:13:04.538114Z",
     "start_time": "2023-09-21T01:13:04.524231Z"
    }
   },
   "outputs": [],
   "source": [
    "# # Dask를 사용하여 병렬 처리 수행\n",
    "# ddf_sample.map_partitions(\n",
    "#     lambda df: df.apply(\n",
    "#         lambda row: process_row(row['user_id'], row['ad_name']), axis=1)\n",
    "# ).compute(scheduler='threads')"
   ]
  },
  {
   "cell_type": "markdown",
   "id": "1e0cb288",
   "metadata": {},
   "source": [
    "executed in 1h 18m 54s, finished 13:50:58 2023-09-13  <- DASK로 샘플 5천개 병렬 처리 코드 수행 시간  \n",
    "executed in 6h 15m 32s, finished 00:21:32 2023-09-20  <- DASK로 샘플 1만개 병렬 처리 코드 수행 시간 "
   ]
  },
  {
   "cell_type": "markdown",
   "id": "c4c95f47",
   "metadata": {
    "ExecuteTime": {
     "end_time": "2023-09-13T01:55:39.392900Z",
     "start_time": "2023-09-13T01:55:39.374895Z"
    }
   },
   "source": [
    "## 보이스 메타 데이터 관련(230908)"
   ]
  },
  {
   "cell_type": "code",
   "execution_count": 20,
   "id": "e0c92732",
   "metadata": {
    "ExecuteTime": {
     "end_time": "2023-09-21T01:13:04.553249Z",
     "start_time": "2023-09-21T01:13:04.540115Z"
    }
   },
   "outputs": [],
   "source": [
    "# # 샘플 보이스 메타 데이터 CSV 파일 경로 및 시트 이름\n",
    "# voicemetadata_csv_path = 'D:\\\\DATA_PREPROCESS\\\\FIRESTORE_DATAS\\\\sample_voice_metadata_230908'\n",
    "\n",
    "# save_path = 'D:\\\\DATA_PREPROCESS\\\\FIRESTORE_DATAS\\\\voice_metadata_230908\\\\VOICE_FILES'\n",
    "# if not os.path.exists(save_path):\n",
    "#     os.makedirs(save_path)\n",
    "# csv_files = glob.glob(os.path.join(voicemetadata_csv_path, \"*.csv\"))\n",
    "\n",
    "# # 각 CSV 파일을 읽어서 하나의 Dask DataFrame으로 합치기\n",
    "# ddf_list = [dd.read_csv(file) for file in csv_files]\n",
    "# ddf = dd.concat(ddf_list, axis=0, interleave_partitions=True)\n",
    "\n",
    "# ddf = dd.from_pandas(ddf, npartitions=10) # npartitions는 사용 가능한 CPU 코어 수에 따라 조절\n",
    "\n",
    "# # 테스트용\n",
    "# ddf = ddf.loc[1000000:1000004]"
   ]
  },
  {
   "cell_type": "code",
   "execution_count": 21,
   "id": "d089fe43",
   "metadata": {
    "ExecuteTime": {
     "end_time": "2023-09-21T01:13:04.568549Z",
     "start_time": "2023-09-21T01:13:04.555250Z"
    }
   },
   "outputs": [],
   "source": [
    "# # Dask를 사용하여 병렬 처리 수행\n",
    "# ddf.map_partitions(\n",
    "#     lambda df: df.apply(\n",
    "#         lambda row: process_row(row['user_id'], row['ad_name']), axis=1)\n",
    "# ).compute(scheduler='threads')"
   ]
  },
  {
   "cell_type": "markdown",
   "id": "8ec0592c",
   "metadata": {},
   "source": [
    "# 테스트"
   ]
  },
  {
   "cell_type": "markdown",
   "id": "95009ab6",
   "metadata": {},
   "source": [
    "## 샘플 보이스메타데이터 관련"
   ]
  },
  {
   "cell_type": "code",
   "execution_count": 22,
   "id": "82d1482a",
   "metadata": {
    "ExecuteTime": {
     "end_time": "2023-09-21T01:13:04.583895Z",
     "start_time": "2023-09-21T01:13:04.570551Z"
    }
   },
   "outputs": [],
   "source": [
    "# # Firebase Storage의 UserRecode 폴더 내의 폴더들을 리스트로 가져옵니다.\n",
    "# folders = bucket.list_blobs(prefix=\"UserRecode/\")\n",
    "\n",
    "# folder_names = []\n",
    "# for folder in folders:\n",
    "#     folder_path_parts = folder.name.split('/')\n",
    "#     if len(folder_path_parts) == 3 and folder_path_parts[1] not in folder_names: # UserRecode/안의 폴더들만 확인\n",
    "#         folder_names.append(folder_path_parts[1])\n",
    "\n",
    "# # 최대 20개의 폴더명을 가져옵니다.\n",
    "# folder_names = folder_names[:20]\n",
    "\n",
    "# # 각 폴더 내의 파일을 최대 10개씩 출력합니다.\n",
    "# for folder_name in folder_names:\n",
    "#     print(f\"Folder: {folder_name}\")\n",
    "#     blobs_in_folder = bucket.list_blobs(prefix=f\"UserRecode/{folder_name}/\")\n",
    "    \n",
    "#     file_count = 0\n",
    "#     for blob in blobs_in_folder:\n",
    "#         print(f\"  - {blob.name}\")\n",
    "#         file_count += 1\n",
    "#         if file_count >= 10:\n",
    "#             break\n"
   ]
  },
  {
   "cell_type": "markdown",
   "id": "d3e58374",
   "metadata": {},
   "source": [
    "## 다운받은 샘플 보이스파일들 확인 작업"
   ]
  },
  {
   "cell_type": "markdown",
   "id": "e40bcfbf",
   "metadata": {},
   "source": [
    "### 다운받은 샘플 보이스파일들 정합성 작업"
   ]
  },
  {
   "cell_type": "code",
   "execution_count": 23,
   "id": "0a2ad321",
   "metadata": {
    "ExecuteTime": {
     "end_time": "2023-09-21T01:13:04.599898Z",
     "start_time": "2023-09-21T01:13:04.585895Z"
    }
   },
   "outputs": [
    {
     "name": "stdout",
     "output_type": "stream",
     "text": [
      "10000\n"
     ]
    }
   ],
   "source": [
    "# 다운 받은 로컬 파일명들 배열로 가져오기\n",
    "list_of_files = os.listdir(save_path_of_sample)\n",
    "print(len(list_of_files))"
   ]
  },
  {
   "cell_type": "code",
   "execution_count": 24,
   "id": "790f444d",
   "metadata": {
    "ExecuteTime": {
     "end_time": "2023-09-21T01:13:05.218745Z",
     "start_time": "2023-09-21T01:13:04.600900Z"
    }
   },
   "outputs": [
    {
     "name": "stdout",
     "output_type": "stream",
     "text": [
      "Only in Local: set()\n",
      "Number of files Only in Local: 0\n",
      "Only in DDF_Sample: set()\n"
     ]
    }
   ],
   "source": [
    "generated_file_names = ddf_sample['user_id'].str[:28] + '_' + ddf_sample['ad_name']\n",
    "\n",
    "# # 중복되는 이름 찾기\n",
    "# duplicated_names = set(list_of_files).intersection(set(generated_file_names))\n",
    "\n",
    "# 불일치하는 이름 찾기 (로컬에만 있는 파일)\n",
    "only_in_local = set(list_of_files) - set(generated_file_names)\n",
    "\n",
    "# 불일치하는 이름 찾기 (ddf_sample에만 있는 파일)\n",
    "only_in_ddf_sample = set(generated_file_names) - set(list_of_files)\n",
    "\n",
    "# 결과 출력\n",
    "# print(f\"Duplicated Names: {duplicated_names}\")\n",
    "print(f\"Only in Local: {only_in_local}\")\n",
    "print(f\"Number of files Only in Local: {len(only_in_local)}\")\n",
    "print(f\"Only in DDF_Sample: {only_in_ddf_sample}\")"
   ]
  },
  {
   "cell_type": "code",
   "execution_count": 25,
   "id": "96f9ef56",
   "metadata": {
    "ExecuteTime": {
     "end_time": "2023-09-21T01:13:05.234753Z",
     "start_time": "2023-09-21T01:13:05.219746Z"
    }
   },
   "outputs": [],
   "source": [
    "for file_name in only_in_local:\n",
    "    file_path = os.path.join(save_path_of_sample, file_name)\n",
    "    if os.path.exists(file_path):\n",
    "        os.remove(file_path)\n",
    "        print(f\"Deleted: {file_name}\")\n",
    "    else:\n",
    "        print(f\"File not found: {file_name}\")"
   ]
  },
  {
   "cell_type": "markdown",
   "id": "954ede70",
   "metadata": {},
   "source": [
    "### 샘플 메타데이터의 text_length의 정합성 작업"
   ]
  },
  {
   "cell_type": "code",
   "execution_count": 26,
   "id": "70a6a5be",
   "metadata": {
    "ExecuteTime": {
     "end_time": "2023-09-21T01:13:05.330664Z",
     "start_time": "2023-09-21T01:13:05.236753Z"
    }
   },
   "outputs": [
    {
     "name": "stdout",
     "output_type": "stream",
     "text": [
      "             ad_script  text_length\n",
      "0          카페의자, 디자인의자           11\n",
      "1         애견영양제, 강아지용품           12\n",
      "2        강아지관절, 강아지슬개골           13\n",
      "3     강아지관절영양제, 강아지영양제           16\n",
      "4             저분자피쉬콜라겐            8\n",
      "5              부작용, 치료            7\n",
      "6        이너뷰티, 저분자 콜라겐           13\n",
      "7        차량디퓨저, 자동차디퓨저           13\n",
      "8              검사, 방사선            7\n",
      "9       못난이사과, 껍질째먹는사과           14\n",
      "10      여성유산균, 100억유산균           14\n",
      "11   강아지유산균, 강아지기관지영양제           17\n",
      "12                 캠핑팩            3\n",
      "13       물빠짐받침대, 녹걱정없는           13\n",
      "14         등받이의자, 허리의자           11\n",
      "15        미니청소기, 소형청소기           12\n",
      "16       이너뷰티, 저분자 콜라겐           13\n",
      "17                모기패치            4\n",
      "18       물빠짐받침대, 녹걱정없는           13\n",
      "19  강아지눈영양제, 강아지눈물자국제거           18\n"
     ]
    }
   ],
   "source": [
    "#'text_length' column을 'ad_script' column의 길이의 값으로\n",
    "ddf_sample = ddf_sample.assign(text_length=ddf_sample['ad_script'].str.len())\n",
    "\n",
    "print(ddf_sample[['ad_script', 'text_length']].head(20))"
   ]
  },
  {
   "cell_type": "code",
   "execution_count": 27,
   "id": "0db15d9b",
   "metadata": {
    "ExecuteTime": {
     "end_time": "2023-09-21T01:13:05.441195Z",
     "start_time": "2023-09-21T01:13:05.338666Z"
    }
   },
   "outputs": [],
   "source": [
    "# user_id와 ad_name만 뽑은 DataFrame 생성\n",
    "ddf_extracted = ddf_sample[['user_id', 'ad_name']].compute()\n",
    "\n",
    "# voice_id 컬럼 추가 (auto increment)\n",
    "ddf_extracted['voice_id'] = ['vid_' + str(i).zfill(8) for i in range(1, len(ddf_extracted) + 1)]\n",
    "\n",
    "# hash 함수로 public_uid 생성. 여기서는 SHA-256을 사용\n",
    "ddf_extracted['public_uid'] = ddf_extracted['user_id'].apply(lambda x: hashlib.sha256(x.encode()).hexdigest()[:10])\n",
    "\n",
    "# Dask DataFrame으로 변환\n",
    "ddf_extracted = dd.from_pandas(ddf_extracted, npartitions=1)"
   ]
  },
  {
   "cell_type": "code",
   "execution_count": 28,
   "id": "cb8ef5bf",
   "metadata": {
    "ExecuteTime": {
     "end_time": "2023-09-21T01:13:05.456671Z",
     "start_time": "2023-09-21T01:13:05.442197Z"
    }
   },
   "outputs": [
    {
     "name": "stdout",
     "output_type": "stream",
     "text": [
      "<class 'dask.dataframe.core.DataFrame'>\n"
     ]
    }
   ],
   "source": [
    "print(type(ddf_extracted))"
   ]
  },
  {
   "cell_type": "code",
   "execution_count": 29,
   "id": "ee39c995",
   "metadata": {
    "ExecuteTime": {
     "end_time": "2023-09-21T01:13:05.472306Z",
     "start_time": "2023-09-21T01:13:05.458671Z"
    }
   },
   "outputs": [],
   "source": [
    "# # 인덱스 리셋\n",
    "# ddf_extracted = ddf_extracted.reset_index(drop=True)\n",
    "\n",
    "# # public_uid와 user_id가 1:1 대응인지 확인\n",
    "# public_uid_check = ddf_extracted.groupby('public_uid')['user_id'].nunique().compute()\n",
    "# multiple_user_ids_for_public_uid = public_uid_check[public_uid_check > 1]\n",
    "\n",
    "# # voice_id와 (user_id + ad_name)이 1:1 대응인지 확인\n",
    "# voice_id_check = ddf_extracted.groupby('voice_id').apply(\n",
    "#     lambda x: x['user_id'] + x['ad_name'], \n",
    "#     meta=('user_id + ad_name', 'object')  # meta 정보를 명시\n",
    "# ).nunique().compute()\n",
    "# multiple_user_ad_names_for_voice_id = voice_id_check[voice_id_check > 1]"
   ]
  },
  {
   "cell_type": "code",
   "execution_count": 30,
   "id": "a06444cf",
   "metadata": {
    "ExecuteTime": {
     "end_time": "2023-09-21T01:13:05.488313Z",
     "start_time": "2023-09-21T01:13:05.474311Z"
    }
   },
   "outputs": [],
   "source": [
    "# # 결과 출력\n",
    "# print(\"Multiple user IDs for a single public_uid:\", multiple_user_ids_for_public_uid)\n",
    "# print(\"Multiple user+ad_name combinations for a single voice_id:\", multiple_user_ad_names_for_voice_id)"
   ]
  },
  {
   "cell_type": "code",
   "execution_count": 31,
   "id": "3b56690d",
   "metadata": {
    "ExecuteTime": {
     "end_time": "2023-09-21T01:13:05.503883Z",
     "start_time": "2023-09-21T01:13:05.490314Z"
    }
   },
   "outputs": [],
   "source": [
    "# problematic_voice_id = voice_id_check[voice_id_check > 1][0]\n",
    "\n",
    "# problematic_rows = ddf_extracted[ddf_extracted['voice_id'] == problematic_voice_id].compute()\n",
    "\n",
    "# print(\"Rows with problematic voice_id:\")\n",
    "# print(problematic_rows)"
   ]
  },
  {
   "cell_type": "code",
   "execution_count": 32,
   "id": "af5f1e7f",
   "metadata": {
    "ExecuteTime": {
     "end_time": "2023-09-21T01:13:05.519216Z",
     "start_time": "2023-09-21T01:13:05.505883Z"
    }
   },
   "outputs": [],
   "source": [
    "# # print(ddf_extracted.head(100))\n",
    "# # len(ddf_extracted)\n",
    "# # ddf_extracted에 있는 각 컬럼에 대해 unique한 값의 개수를 계산합니다.\n",
    "# unique_counts_ddf_extracted = ddf_extracted.nunique().compute()\n",
    "# unique_counts_ddf_extracted"
   ]
  },
  {
   "cell_type": "code",
   "execution_count": 33,
   "id": "099096e8",
   "metadata": {
    "ExecuteTime": {
     "end_time": "2023-09-21T01:13:05.535220Z",
     "start_time": "2023-09-21T01:13:05.523216Z"
    }
   },
   "outputs": [],
   "source": [
    "# # Dask DataFrame에서 컬럼 목록을 가져오는 코드\n",
    "# print(public_ddf_sample.columns)"
   ]
  },
  {
   "cell_type": "code",
   "execution_count": 34,
   "id": "7ac34294",
   "metadata": {
    "ExecuteTime": {
     "end_time": "2023-09-21T01:13:05.550670Z",
     "start_time": "2023-09-21T01:13:05.537220Z"
    }
   },
   "outputs": [],
   "source": [
    "# public_ddf_sample_count = public_ddf_sample.shape[0].compute()\n",
    "# print(public_ddf_sample_count)"
   ]
  },
  {
   "cell_type": "code",
   "execution_count": 35,
   "id": "d357ea08",
   "metadata": {
    "ExecuteTime": {
     "end_time": "2023-09-21T01:13:05.566669Z",
     "start_time": "2023-09-21T01:13:05.552669Z"
    }
   },
   "outputs": [],
   "source": [
    "# # 불필요한 컬럼 삭제\n",
    "# ddf_sample = ddf_sample.drop(['voice_id', 'public_uid'], axis=1)"
   ]
  },
  {
   "cell_type": "code",
   "execution_count": 36,
   "id": "b60133e5",
   "metadata": {
    "ExecuteTime": {
     "end_time": "2023-09-21T01:13:05.598680Z",
     "start_time": "2023-09-21T01:13:05.568669Z"
    }
   },
   "outputs": [],
   "source": [
    "# 불필요한 컬럼 삭제\n",
    "ddf_sample_dropped = ddf_sample.drop(['imageUrl', 'desc_images_array', 'images_array', 'thumbnail_image', 'videoUrl', 'ad_duration_end'], axis=1)\n",
    "\n",
    "# # user_id를 기준으로 public_uid만 조인\n",
    "# public_ddf_sample = ddf_sample_dropped.merge(ddf_extracted[['user_id', 'public_uid']], on='user_id', how='left')\n",
    "# ddf_sample = ddf_sample.merge(ddf_extracted[['user_id', 'public_uid']], on='user_id', how='left')\n",
    "\n",
    "# # user_id와 ad_name을 기준으로 voice_id 조인\n",
    "# public_ddf_sample = public_ddf_sample.merge(ddf_extracted[['user_id', 'ad_name', 'voice_id']], on=['user_id', 'ad_name'], how='left')\n",
    "# ddf_sample = ddf_sample.merge(ddf_extracted[['user_id', 'ad_name', 'voice_id']], on=['user_id', 'ad_name'], how='left')\n",
    "\n",
    "# user_id와 ad_name을 기준으로 ddf_extracted의 필요한 컬럼들만 left join\n",
    "public_ddf_sample = ddf_sample_dropped.merge(\n",
    "    ddf_extracted[['user_id', 'ad_name', 'public_uid', 'voice_id']],\n",
    "    on=['user_id', 'ad_name'],\n",
    "    how='left'\n",
    ")"
   ]
  },
  {
   "cell_type": "code",
   "execution_count": 37,
   "id": "ef1354a1",
   "metadata": {
    "ExecuteTime": {
     "end_time": "2023-09-21T01:13:12.038672Z",
     "start_time": "2023-09-21T01:13:05.600680Z"
    }
   },
   "outputs": [],
   "source": [
    "public_ddf_sample_path = 'D:\\\\DATA_PREPROCESS\\\\FIRESTORE_DATAS\\\\sample_voice_metadata_230918\\\\SAMPLES\\\\for_search_sample_230920.xlsx'\n",
    "# ddf_extracted_path = 'D:\\\\DATA_PREPROCESS\\\\FIRESTORE_DATAS\\\\sample_voice_metadata_230918\\\\public_to_private'\n",
    "\n",
    "# excel 형식으로 저장\n",
    "public_pdf_sample = public_ddf_sample.compute()\n",
    "public_pdf_sample.to_excel(public_ddf_sample_path, index=False, engine='openpyxl')\n",
    "# ddf_extracted.to_excel(ddf_extracted_path, engine='pyarrow')"
   ]
  },
  {
   "cell_type": "code",
   "execution_count": 38,
   "id": "8d2ba650",
   "metadata": {
    "ExecuteTime": {
     "end_time": "2023-09-21T01:13:12.054464Z",
     "start_time": "2023-09-21T01:13:12.040418Z"
    }
   },
   "outputs": [],
   "source": [
    "# # public_uid가 user_id와 1:1 대응인지 확인\n",
    "# public_uid_check = ddf_sample.groupby('user_id')['public_uid'].nunique().compute()\n",
    "# multiple_public_uids_for_user = public_uid_check[public_uid_check > 1]\n",
    "\n",
    "# # voice_id가 user_id + ad_name과 1:1 대응인지 확인\n",
    "# voice_id_check = ddf_sample.groupby(['user_id', 'ad_name'])['voice_id'].nunique().compute()\n",
    "# multiple_voice_ids_for_user_ad = voice_id_check[voice_id_check > 1]\n",
    "\n",
    "# print(multiple_public_uids_for_user)\n",
    "# print(multiple_voice_ids_for_user_ad)"
   ]
  },
  {
   "cell_type": "code",
   "execution_count": 39,
   "id": "0203de73",
   "metadata": {
    "ExecuteTime": {
     "end_time": "2023-09-21T01:13:12.070417Z",
     "start_time": "2023-09-21T01:13:12.056464Z"
    }
   },
   "outputs": [],
   "source": [
    "# # ddf_extracted에서 voice_id와 user_id, ad_name의 조합이 unique한지 확인:\n",
    "# extracted_voice_id_group = ddf_extracted.groupby('voice_id').agg({'user_id': 'count', 'ad_name': 'count'}).compute()\n",
    "# extracted_duplicated_voice_ids = extracted_voice_id_group[(extracted_voice_id_group['user_id'] > 1) | (extracted_voice_id_group['ad_name'] > 1)]\n",
    "\n",
    "# # ddf_sample_dropped에서 user_id와 ad_name의 조합이 unique한지 확인:\n",
    "# sample_dropped_group = ddf_sample_dropped.groupby(['user_id', 'ad_name']).size().compute().reset_index(name='counts')\n",
    "# sample_dropped_duplicated = sample_dropped_group[sample_dropped_group['counts'] > 1]"
   ]
  },
  {
   "cell_type": "code",
   "execution_count": 40,
   "id": "15d78809",
   "metadata": {
    "ExecuteTime": {
     "end_time": "2023-09-21T01:13:12.086421Z",
     "start_time": "2023-09-21T01:13:12.072417Z"
    }
   },
   "outputs": [],
   "source": [
    "# print(extracted_duplicated_voice_ids)\n",
    "# print(sample_dropped_duplicated)"
   ]
  },
  {
   "cell_type": "code",
   "execution_count": 41,
   "id": "3349b67e",
   "metadata": {
    "ExecuteTime": {
     "end_time": "2023-09-21T01:13:12.101421Z",
     "start_time": "2023-09-21T01:13:12.088422Z"
    }
   },
   "outputs": [],
   "source": [
    "# # Dask DataFrame인 ddf_sample에서 user_id와 ad_name의 조합이 고유한지 확인\n",
    "# unique_user_ad_group = ddf_sample.groupby(['user_id', 'ad_name']).size().compute().reset_index(name='counts')\n",
    "\n",
    "# # counts가 1보다 큰 경우를 찾아서 출력 (이 경우는 고유하지 않은 것)\n",
    "# duplicated_user_ad = unique_user_ad_group[unique_user_ad_group['counts'] > 1]\n",
    "\n",
    "# print(duplicated_user_ad)"
   ]
  },
  {
   "cell_type": "code",
   "execution_count": null,
   "id": "7d84d6c1",
   "metadata": {},
   "outputs": [],
   "source": []
  }
 ],
 "metadata": {
  "kernelspec": {
   "display_name": "Python 3 (ipykernel)",
   "language": "python",
   "name": "python3"
  },
  "language_info": {
   "codemirror_mode": {
    "name": "ipython",
    "version": 3
   },
   "file_extension": ".py",
   "mimetype": "text/x-python",
   "name": "python",
   "nbconvert_exporter": "python",
   "pygments_lexer": "ipython3",
   "version": "3.10.12"
  },
  "toc": {
   "base_numbering": 1,
   "nav_menu": {},
   "number_sections": true,
   "sideBar": true,
   "skip_h1_title": false,
   "title_cell": "Table of Contents",
   "title_sidebar": "Contents",
   "toc_cell": false,
   "toc_position": {
    "height": "calc(100% - 180px)",
    "left": "10px",
    "top": "150px",
    "width": "384px"
   },
   "toc_section_display": true,
   "toc_window_display": true
  },
  "varInspector": {
   "cols": {
    "lenName": 16,
    "lenType": 16,
    "lenVar": 40
   },
   "kernels_config": {
    "python": {
     "delete_cmd_postfix": "",
     "delete_cmd_prefix": "del ",
     "library": "var_list.py",
     "varRefreshCmd": "print(var_dic_list())"
    },
    "r": {
     "delete_cmd_postfix": ") ",
     "delete_cmd_prefix": "rm(",
     "library": "var_list.r",
     "varRefreshCmd": "cat(var_dic_list()) "
    }
   },
   "types_to_exclude": [
    "module",
    "function",
    "builtin_function_or_method",
    "instance",
    "_Feature"
   ],
   "window_display": false
  }
 },
 "nbformat": 4,
 "nbformat_minor": 5
}
