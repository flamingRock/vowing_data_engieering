{
 "cells": [
  {
   "cell_type": "code",
   "execution_count": 1,
   "id": "11d78b8b-b84f-4bb1-a8cf-0ccbb3841fdc",
   "metadata": {
    "execution": {
     "iopub.execute_input": "2023-12-21T06:28:17.895501Z",
     "iopub.status.busy": "2023-12-21T06:28:17.887805Z",
     "iopub.status.idle": "2023-12-21T06:28:20.703279Z",
     "shell.execute_reply": "2023-12-21T06:28:20.702279Z",
     "shell.execute_reply.started": "2023-12-21T06:28:17.895501Z"
    }
   },
   "outputs": [],
   "source": [
    "import os\n",
    "import pandas as pd\n",
    "import numpy as np\n",
    "import matplotlib.pyplot as plt\n",
    "import re # 정규식 사용을 위한 모듈\n",
    "# from scipy.stats import gaussian_kde\n",
    "\n",
    "import pyarrow.parquet as pq\n",
    "\n",
    "from pyspark import SparkContext\n",
    "from pyspark.sql import SparkSession\n",
    "from pyspark.sql import functions as F\n",
    "from pyspark.sql import types as T\n",
    "from pyspark.sql import Window\n",
    "from pyspark.sql.functions import to_timestamp, collect_list, to_date, month, year, broadcast, element_at, regexp_extract, udf, col, isnull, count, when, substring, coalesce, from_json, size, avg, expr, concat_ws\n",
    "from pyspark.sql.types import BooleanType, TimestampType, ArrayType, StringType, StructType, StructField, DoubleType, IntegerType, FloatType\n",
    "\n",
    "from functools import reduce\n",
    "from matplotlib.ticker import FuncFormatter\n",
    "from collections import Counter\n",
    "from datetime import datetime\n",
    "\n",
    "import shutil\n",
    "\n",
    "from concurrent.futures import ThreadPoolExecutor, as_completed\n",
    "\n",
    "from sklearn.model_selection import train_test_split\n",
    "\n",
    "import math\n",
    "\n",
    "import json"
   ]
  },
  {
   "cell_type": "code",
   "execution_count": 2,
   "id": "2369f25a-8100-44a5-9fe6-6c7813f13aed",
   "metadata": {
    "execution": {
     "iopub.execute_input": "2023-12-21T06:28:24.127084Z",
     "iopub.status.busy": "2023-12-21T06:28:24.126084Z",
     "iopub.status.idle": "2023-12-21T06:28:28.483129Z",
     "shell.execute_reply": "2023-12-21T06:28:28.483129Z",
     "shell.execute_reply.started": "2023-12-21T06:28:24.127084Z"
    }
   },
   "outputs": [
    {
     "name": "stdout",
     "output_type": "stream",
     "text": [
      "Spark local directory: D:/spark_tmp\n"
     ]
    }
   ],
   "source": [
    "# 가상 환경의 Python 경로를 지정\n",
    "python_path = \"C:/Users/admin/anaconda3/envs/my_conda_01/python.exe\"\n",
    "\n",
    "# Spark 세션 생성\n",
    "spark = SparkSession.builder \\\n",
    "    .appName(\"voice files classification operation\") \\\n",
    "    .config(\"spark.driver.memory\", \"9g\") \\\n",
    "    .config(\"spark.executor.memory\", \"9g\") \\\n",
    "    .config(\"spark.driver.maxResultSize\", \"5g\") \\\n",
    "    .config(\"spark.pyspark.python\", python_path) \\\n",
    "    .config(\"spark.local.dir\", \"D:/spark_tmp\") \\\n",
    "    .getOrCreate()\n",
    "\n",
    "# SparkContext 가져오기\n",
    "sc = spark.sparkContext\n",
    "\n",
    "# Spark 중간 파일이 저장되는 경로 확인\n",
    "current_spark_local_dir = spark.conf.get(\"spark.local.dir\", \"Not Set\")\n",
    "print(\"Spark local directory:\", current_spark_local_dir)"
   ]
  },
  {
   "cell_type": "markdown",
   "id": "e5a8e36b-f0b0-469c-8274-45f59bb5532e",
   "metadata": {},
   "source": [
    "# 불러오기"
   ]
  },
  {
   "cell_type": "code",
   "execution_count": 3,
   "id": "30978161-dd35-4773-a4f4-bcce169d183b",
   "metadata": {
    "execution": {
     "iopub.execute_input": "2023-12-14T06:33:40.594697Z",
     "iopub.status.busy": "2023-12-14T06:33:40.594697Z",
     "iopub.status.idle": "2023-12-14T06:33:44.839365Z",
     "shell.execute_reply": "2023-12-14T06:33:44.838898Z",
     "shell.execute_reply.started": "2023-12-14T06:33:40.594697Z"
    }
   },
   "outputs": [],
   "source": [
    "labelling_point_file_path = \"D:\\\\DATA_PREPROCESS\\\\iOS_DATAS\\\\ios_VOICE_DATA_FROM_7_TO_10\\\\labelling_data_from_7_to_10\\\\labelling_point.json\\\\*.json\"\n",
    "labelling_memor_file_path = \"D:\\\\DATA_PREPROCESS\\\\iOS_DATAS\\\\ios_VOICE_DATA_FROM_7_TO_10\\\\labelling_data_from_7_to_10\\\\labelling_memor.json\\\\*.json\"\n",
    "\n",
    "point_df = spark.read.json(labelling_point_file_path)\n",
    "memor_df = spark.read.json(labelling_memor_file_path)"
   ]
  },
  {
   "cell_type": "code",
   "execution_count": 9,
   "id": "c50ec388-b783-44ef-9880-923b45e9124e",
   "metadata": {
    "execution": {
     "iopub.execute_input": "2023-12-08T05:05:06.213516Z",
     "iopub.status.busy": "2023-12-08T05:05:06.213516Z",
     "iopub.status.idle": "2023-12-08T05:05:06.775460Z",
     "shell.execute_reply": "2023-12-08T05:05:06.774459Z",
     "shell.execute_reply.started": "2023-12-08T05:05:06.213516Z"
    }
   },
   "outputs": [],
   "source": [
    "test_file_path = \"D:/DATA_PREPROCESS/iOS_DATAS/ios_VOICE_DATA_FROM_7_TO_10/labelling_data_from_7_to_10/JULY/july_training_minutescript_labeling/*.json\"\n",
    "\n",
    "test_df = spark.read.json(test_file_path)"
   ]
  },
  {
   "cell_type": "code",
   "execution_count": 11,
   "id": "7f675001-a460-4307-92c4-e31d73f129d1",
   "metadata": {
    "execution": {
     "iopub.execute_input": "2023-12-08T05:07:19.319342Z",
     "iopub.status.busy": "2023-12-08T05:07:19.318342Z",
     "iopub.status.idle": "2023-12-08T05:07:19.387968Z",
     "shell.execute_reply": "2023-12-08T05:07:19.387968Z",
     "shell.execute_reply.started": "2023-12-08T05:07:19.318342Z"
    },
    "scrolled": true
   },
   "outputs": [
    {
     "name": "stdout",
     "output_type": "stream",
     "text": [
      "+--------+------+--------+----------+--------+-----------+----------+-----------------------------+------+---------+----------------+-----------------------------+-------------------+----------------------------------------------------------------------------------------------------------------------------------------------------------------------------------------------------------------------------------------------------------------------------------------------------------------------------------------------------------------------------------------------------------------------------+-----------------------------------------------------------------------------------------------------------------------------------------------------------------------------------------------------------------------------------------------------------------------------------------------------------------------------------------------------------------------------------------------------------------------------------+-----------------------------+-----------------------------+---------------------------------------------------+----+-------------------+------------+\n",
      "|accuracy|ads_id|audio_id|birth     |category|description|difficulty|end_at                       |gender|is_passed|minimum_accuracy|participated_at              |participation_id   |recorded_text                                                                                                                                                                                                                                                                                                                                                                                                               |script                                                                                                                                                                                                                                                                                                                                                                                                                             |signed_up_at                 |start_at                     |title                                              |type|user_id            |withdrawn_at|\n",
      "+--------+------+--------+----------+--------+-----------+----------+-----------------------------+------+---------+----------------+-----------------------------+-------------------+----------------------------------------------------------------------------------------------------------------------------------------------------------------------------------------------------------------------------------------------------------------------------------------------------------------------------------------------------------------------------------------------------------------------------+-----------------------------------------------------------------------------------------------------------------------------------------------------------------------------------------------------------------------------------------------------------------------------------------------------------------------------------------------------------------------------------------------------------------------------------+-----------------------------+-----------------------------+---------------------------------------------------+----+-------------------+------------+\n",
      "|98      |591   |0       |1989-01-31|0       |1          |0         |2023-07-18T23:59:00.000+09:00|1     |1        |80              |2023-07-18T18:21:01.272+09:00|2023071818210119800|죽음의 문턱에서 살아 돌아온 사람은 특이한 경험담을 털어 놓곤 한다 미시간 대학 연구진은 혼수상태에 빠져 의학적으로 손 쓸 방법이 없는 환자 인공호흡기를 제거하자 심박수가 늘어나며 의식과 관련된것으로 알려진 감마 파 활동이 급증한것을 포착했다 사례가 저거 확고한 주장을 펼치는 데 신중 하지만 이번 연구로 죽음을 맞는 인간의 비밀스러운 의식을 이해하는 새로운 틀을 제공 했다고 한다                                       |죽음의 문턱에서 살아 돌아온 사람은 특이한 경험담을 털어놓곤 한다.\\n미시간대학 연구진은 혼수상태에 빠져 의학적으로 손쓸 방법이 없는 환자의 인공호흡기를 제거하자 심박수가 늘어나며, 의식과 관련된 것으로 알려진 감마파 활동이 급증한 것을 포착했다.\\n사례가 적어 확고한 주장을 펼치는데 신중하지만 이번 연구로 죽음을 맞는 인간의 비밀스러운 의식을 이해하는 새로운 틀을 제공했다고 한다.                                           |2023-06-28T22:55:06.773+09:00|2023-06-20T17:30:00.000+09:00|[인체의 신비] 죽기 전 뇌의 활동                    |2   |2023062822550676900|            |\n",
      "|90      |637   |0       |1968-05-06|0       |1          |0         |2023-08-14T23:59:00.000+09:00|1     |1        |80              |2023-07-28T09:09:24.996+09:00|2023072809092499600|안녕하세요 고2입니다 드디어 아이폰에도 암기 플러스가 상륙했습니다 한끼 플러스는 간단한 퀴즈 형식의 콘텐츠입니다 광고 페이지로 접속해 정해진 순서에 해시태그를 배운 뒤 장담을 정답을 녹음 하면 되는 방식입니다 한 단어만 녹음 하면 돼 네 아주 간단하죠 자세한 설명이 있는 튜토리얼을 참고하고 암기 플러스로 많은 포인트 벌어 가세요                                                                                          |안녕하세요 보윙입니다. 드디어 아이폰에도 암기플러스가 상륙했습니다!\\n암기플러스는 간단한 암기 퀴즈 형식의 콘텐츠입니다.\\n광고 페이지로 접속해 정해진 순서의 해시태그를 외운 뒤, 정답을 녹음하면 되는 방식입니다.\\n한 단어만 녹음하면 되니 아주 간단하죠?\\n자세한 설명이 있는 튜토리얼을 참고하고 암기플러스로 많은 포인트 벌어가세요!                                                                                              |2022-12-26T13:15:25.071+09:00|2023-07-17T12:00:00.000+09:00|[보윙 업데이트] 1.2.0 패치 노트 정리               |2   |2022122613152506900|            |\n",
      "|98      |614   |0       |1983-09-29|0       |1          |0         |2023-08-01T23:59:00.000+09:00|1     |1        |80              |2023-07-04T20:40:13.973+09:00|2023070420401397200|ai 붐의 가장 큰 피해자는 지식 노동자라고 클로 벌 컨설턴트 기업인 멕켄지가 밝혔다 ai는 생산성을 가속화하고 더 큰 번영의 시대를 열 것이지만 지식 노동자를 비롯한 일부 사람들에게는 심각한 혼란을 초래할 것이라고 했다 이 연구는 약 850개 직업에 걸쳐 사용 사례를 조사한 결과다 이번 발전은 산업화 초기의 육체노동의 자동화와 달리 사무 직업에 훨씬 많은 영향을 미칠 것이라고 한다                                             |AI 붐의 가장 큰 피해자는 지식노동자라고 글로벌 컨설턴트 기업인 매켄지가 밝혔다.\\nAI는 생산성을 가속화하고 더 큰 번영의 시대를 열 것이지만, 지식 노동자를 비롯한 일부 사람들에게는 심각한 혼란을 초래할 것이라고 했다.\\n이 연구는 약 850개 직업에 걸쳐 사용 사례를 조사한 결과다.\\n이번 발전은 산업화 초기의 육체노동의 자동화와 달리 사무 직업에 훨씬 많은 영향을 미칠 것이라고 한다.                                              |2023-06-30T14:44:23.797+09:00|2023-07-04T17:30:00.000+09:00|[미래직업] AI 붐의 가장 큰 피해자는?               |2   |2023063014442379400|            |\n",
      "|82      |616   |0       |2007-04-26|0       |1          |0         |2023-08-02T23:59:00.000+09:00|1     |1        |80              |2023-07-05T18:31:34.480+09:00|2023070518313447900|2년 전쯤에 나는 탐정이 그당시 방에 들어온적이 있었다 탐정의 방한은 온통 거위들만 있었기때문에 오른손엔 책을 들고 있던 단 걸수밖에는 걸 속에서 왼손에 책을 들고 긴장된 얼굴로 나를 다시 바라보고 있는 무서운 경험을 했었다 그 거울은 바르게 비치는 거울이라는 이름의 전신거울 연대 탐정은 내가 본 그 거울 속 모습에 귀신이 아니라고 한다 그러면 무엇일까                                                                     |2년쯤 전에 나는 탐정의 그 당시 방에 들어간 적 있었다. \\n탐정의 방 안에는 온통 거울들만 있었기 때문에 오른손에 책을 들고 있던 거울 밖의 나는 거울 속에서 왼손에 책을 들고 긴장된 얼굴로 다시 나를 바라보고 있는 무서운 경험을 했었다. \\n그 거울은 ‘바르게 비치는 거울’이라는 이름의 전신거울이었는데, 탐정은 내가 본 그 거울 속 모습이 귀신이 아니라고 한다! \\n그러면 무엇일까?                                                     |2023-07-01T13:31:13.212+09:00|2023-07-05T17:30:00.000+09:00|[추리퀴즈] 거울 속 모습                            |2   |2023070113311321100|            |\n",
      "|82      |636   |0       |1994-11-05|0       |1          |0         |2023-08-14T23:59:00.000+09:00|1     |1        |80              |2023-07-18T19:05:13.379+09:00|2023071819051337600|위스키 열풍이 다이어터에게 영향을 미치고 있다 알코올 도수가 높은 술은 살이 찌지 않는다라는 근거없는 속설에만 있기 때문이다 알코올의 열량은 에코시티 레 소파침대 40도가 넘는 위스키 소주나 맥주보다 열량이 높을수밖에 없다 또한 우리 몸은 영양소보다 알콜을 먼저 푸 면으로 도수가 높은 술을 마시면 비리 섭취한 에너지는 지방 허벅지 복부 등으로 축적된 다                                                                    |위스키 열풍이 다이어터에게 영향을 미치고 있다.\\n'알코올 도수가 높은 술은 살이 찌지 않는다'라는 근거 없는 속설에 기반했기 때문이다.\\n알코올의 열량은 알코올 도수에 비례해서 높아지므로 40도가 넘는 위스키는 소주나 맥주보다 열량이 높을 수 밖에 없다.\\n또한 우리 몸은 영양소보다 알코올을 먼저 분해하므로 도수가 높은 술을 마시면 미리 섭취한 에너지는 지방으로 변해 허벅지, 복부 등으로 축적된다.                                  |2023-04-11T13:31:58.711+09:00|2023-07-17T17:30:00.000+09:00|[음주 상식] 도수가 높으면 살이 안찔까              |2   |2023041113315870800|            |\n",
      "|98      |650   |0       |1990-09-11|0       |11111      |1         |2023-08-04T23:59:00.000+09:00|1     |1        |80              |2023-07-26T17:14:36.613+09:00|2023072617143661200|안녕하세요 최근 있었던 챌린지 콘텐츠를 재미있게 즐기셨나요 여러분들의 적극적인 참여를 보며 챌린지 콘텐츠를 더 많이 진행 해야겠다는 생각이 들었습니다 다양하고 재미있는 챌린지를 만들기 위해 여러분의 힘을 빌려 보려고 하는데요 이름하여 챌린지 스크립트 공모전입니다 알고 있는 밈 어려운 발음 등 총 동원해서 챌린지 스크립트를 만들어 주세요 1등에게 5만 포인트를 드리겠습니다 자세한 공지는 링크를 통해 접속해 주세요      |안녕하세요! 최근 있었던 챌린지 콘텐츠들 재미있게 즐기셨나요?\\n여러분의 적극적인 참여를 보며 챌린지 콘텐츠를 더 많이 진행해야겠다는 생각이 들었습니다.\\n다양하고 재미있는 챌린지를 만들기 위해 여러분의 힘을 빌려보려고 하는데요.\\n이름하여 '챌린지 스크립트 공모전'입니다!\\n알고 있는 밈, 어려운 발음 등 총동원해서 챌린지 스크립트를 만들어주세요.\\n1등에게 5만 포인트를 드리겠습니다! 자세한 공지는 링크를 통해 접속해 주세요~!  |2023-07-14T00:52:04.977+09:00|2023-07-26T12:00:00.000+09:00|[보윙 이벤트] 보윙 챌린지 스크립트 공모전!!        |2   |2023071400520496900|            |\n",
      "|97      |644   |0       |1998-04-17|0       |1          |0         |2023-08-18T23:59:00.000+09:00|0     |1        |80              |2023-07-23T01:15:13.376+09:00|2023072301151337500|건강하게 장수 하기 위해서는 엉덩이 근육을 키우는 게 중요하다 엉덩이는 우리 몸을 바로 세우는 중이다 엉덩이 근육이 약해지면 자세가 구부 정해 지고 몸이 균형이 무너지면서 쉽게 넘어진다 엉덩이 근육을 위해서는 특히 브릿지 동작이 효과적이다 똑바로 누워 무릎을 세우고 엉덩이를 들어 올리는 작업이다 이외에도 계단을 오르 거나 걸을때 엉덩이에 힘을 주고 걷는것이 도움이 된다 또한 오래 앉아 있는 습관은 피하는것이 좋다       |건강하게 장수하기 위해서는 엉덩이 근육을 키우는 게 중요하다.\\n엉덩이는 우리 몸을 바로 세우는 축이다.\\n엉덩이 근육이 약해지면 자세가 구부정해지고 몸의 균형이 무너지면서 쉽게 넘어진다.\\n엉덩이 근육을 위해서는 특히 '브릿지 동작'이 효과적이다.\\n똑바로 누워 무릎을 세우고 엉덩이를 들어 올리는 동작이다.\\n이외에도 계단을 오르거나 걸을 때 엉덩이에 힘을 주고 걷는 것이 도움이 된다.\\n또한 오래 앉아 있는 습관은 피하는 것이 좋다.|2023-07-18T23:11:26.880+09:00|2023-07-21T17:30:00.000+09:00|[건강] 장수를 위해 필요한 근육                     |2   |2023071823112687900|            |\n",
      "|88      |607   |0       |2004-01-29|0       |1          |0         |2023-07-27T23:59:00.000+09:00|1     |1        |80              |2023-07-27T13:40:06.679+09:00|2023072713400667800|오늘 여름 휴가 제주도로 가시나요 그렇다면 제주도 시내의 작은 사진전을 소개 드리겠습니다 바다와 결을 이루 었 던 말로 형용할 수 없이 감기 차 올랐던 유유히 흘러가는 자유는 법 뻣던 순간을 기록한 전시회 결국 결이 카페 롤링 브루잉에서 진행됩니다 무더운 7월 한달간 진행되는 전시에서 바다에 몸을 아끼고 결로 이루어진 아름다운 속을 이용하시기 바랍니다                                                                      |올여름 휴가 제주도로 가시나요?\\n그렇다면 제주도 시내의 작은 사진전을 소개해 드리겠습니다.\\n바다와 결을 이루었던, 말로 형용할 수 없이 감격이 차올랐던, 유유히 흘러가는 자유를 맛보았던 순간을 기록한 전시회 '결국, 결'이 카페 롤링브루잉에서 진행됩니다.\\n무더운 7월 한 달간 진행되는 전시에서 바다에 몸을 맡기고 결로 이뤄진 아름다움 속을 유영하시길 바랍니다.                                                                    |2023-07-19T02:11:07.374+09:00|2023-06-29T17:30:00.000+09:00|[사진전] 제주 바다에 몸을 맡기다. 결국, 결         |2   |2023071902110736900|            |\n",
      "|97      |606   |0       |1979-05-12|0       |1          |0         |2023-07-26T23:59:00.000+09:00|0     |1        |80              |2023-07-06T11:10:35.845+09:00|2023070611103584300|신나는 주말 체육 학교는 전국 초중고 학생 및 같은 연령대 청소년의 스포츠 레저활동과 체력 강화 및 여가생활의 기회를 무료로 제공하는 방과후 스포츠 프로그램입니다 홈페이지에서 내가 사는 지역에 무슨 프로그램이 있는지 확인할 수 있다 다꾸 스노클링 케이팝 댄스 등 아이들이 좋아할 만한 프로그램으로 구성되어 있다 다만 선착순으로 진행되는 만큼 원하는 교육이 있다면 빨리 신청해야 한다                                       |신나는 주말체육학교는 전국 초중고 학생 및 같은 연령대 청소년의 스포츠, 레저 활동과 체력 강화 및 여가생활의 기회를 무료로 제공하는 방과 후 스포츠 프로그램이다.\\n홈페이지에서 내가 사는 지역에 무슨 프로그램이 있는지 확인할 수 있다.\\n탁구, 스노클링, 케이팝 댄스 등 아이들이 좋아할 만한 프로그램으로 구성되어 있다.\\n다만 선착순으로 진행되는 만큼 원하는 교육이 있다면 빨리 신청해야 한다.                                      |2023-04-06T00:42:53.564+09:00|2023-06-28T17:30:00.000+09:00|[정부지원사업] 신나는 주말체육학교                 |2   |2023040600425356400|            |\n",
      "|94      |644   |0       |1993-07-07|0       |1          |0         |2023-08-18T23:59:00.000+09:00|1     |1        |80              |2023-07-25T01:34:42.178+09:00|2023072501344217500|건강하게 장수 하기 위해서는 엉덩이 근육을 키우는 게 중요하다 엉덩이는 우리 몸을 바로 세우는중에 나온 엉덩이 근육이 약해지면 자세가 구부 정해 지고 몸의 균형이 무너지면서 쉽게 넘어진다 엉덩이 근육을 위해서는 특히 브릿지 동작이 효과적이다 똑바로 누워 물어보세요가 엉덩이를 들어올리는 동작이다 이외에도 계단을 오르 거나 걸을때 엉덩이에 힘을 주고 받는것이 도움이 된다 또한 오래 앉아 있는 습관은 피하는것이 좋다       |건강하게 장수하기 위해서는 엉덩이 근육을 키우는 게 중요하다.\\n엉덩이는 우리 몸을 바로 세우는 축이다.\\n엉덩이 근육이 약해지면 자세가 구부정해지고 몸의 균형이 무너지면서 쉽게 넘어진다.\\n엉덩이 근육을 위해서는 특히 '브릿지 동작'이 효과적이다.\\n똑바로 누워 무릎을 세우고 엉덩이를 들어 올리는 동작이다.\\n이외에도 계단을 오르거나 걸을 때 엉덩이에 힘을 주고 걷는 것이 도움이 된다.\\n또한 오래 앉아 있는 습관은 피하는 것이 좋다.|2023-02-13T13:20:36.477+09:00|2023-07-21T17:30:00.000+09:00|[건강] 장수를 위해 필요한 근육                     |2   |2023021313203647600|            |\n",
      "|89      |611   |0       |1993-07-07|0       |1          |0         |2023-07-31T23:59:00.000+09:00|1     |1        |80              |2023-07-03T19:39:01.187+09:00|2023070319390107600|국제나은 병원은 지난 6월 7일 다양한 원인균을 가진 어지럼증의 치료 한계를 극복하고 자 신규 전문 의료인의 인력과 다양한 검사장비를 구축한 어지럼증 클리닉은 계속된다 어지럼증 클리닉은 진료과 중심의 진료 해서 증상 중심에서 도로 통한 확대 운영함으로써 어지럼증 환자들이 겪어 온 플 론과 불안함을 획기적으로 줄일 수 있는 주요 프로세스로 어지럼증 환자들을 진료 할 예정이라고 한다                                         |국제나은병원은 지난 6월 7일 다양한 원인군을 가진 어지럼증의 치료 한계를 극복하고자 신규 전문의료진의 인력과 다양한 검사장비를 구축한 어지럼증 클리닉을 개소하였다.\\n어지럼증 클리닉은 진료과 중심의 진료에서 증상 중심의 센터로 통합 확대 운영함으로써 어지럼증 환자들이 겪어온 혼란과 불편함을 획기적으로 줄일 수 있는 진료 프로세스로 어지럼증 환자들을 진료할 예정이라고 한다.                                                  |2023-02-13T13:20:36.477+09:00|2023-07-03T17:30:00.000+09:00|[경기뉴스] 어지럼증 클리닉                         |2   |2023021313203647600|            |\n",
      "|93      |610   |0       |2002-02-14|0       |1          |0         |2023-07-28T23:59:00.000+09:00|1     |1        |80              |2023-07-04T23:41:27.173+09:00|2023070423412717200|빨래는 해야 하고 냄새는 두려운 여름 장마철 빨래 끝 꿀팁을 알려 드릴게요 첫번째 세탁기청소 한달에 한번 주기적으로 청소를 추천해 드려요 두번째 식초 한스푼 헹굼 단계 식초 한스푼이 냄새와 세균을 잡아줘요 세번째 과탄산 소다 30분 담가 둔 디 블리 맘 표 백 효과에도 아주좋아요 네번째 간격 두고 빨래널기 통풍이 잘 되어서 잘 마르게 도와줘요 그럼 계속 하고 뽀송한 여름 보내세요                                              |빨래는 해야 하고 냄새는 두려운 여름 장마철 빨래 꿀팁을 알려드릴게요~\\n첫 번째, 세탁기 청소! 한 달에 한 번 주기적으로 청소를 추천해 드려요.\\n두 번째, 식초 한 스푼! 헹굼 단계에서 식초 한 스푼이 냄새와 세균을 잡아줘요.\\n세 번째, 과탄산소다! 30분 담가둔 뒤 돌리면 표백 효과에도 아주 좋아요.\\n네 번째, 간격 두고 빨래 널기! 통풍이 되어 잘 마르게 도와줘요!\\n그럼 쾌적하고 뽀송한 여름 보내세요!                                 |2023-05-16T10:00:27.480+09:00|2023-06-30T17:30:00.000+09:00|[여름나기] 장마철 냄새 걱정 없는 빨래 관리법       |2   |2023051610002746900|            |\n",
      "|97      |619   |0       |1996-03-19|0       |1          |0         |2023-08-04T23:59:00.000+09:00|1     |1        |80              |2023-07-19T22:02:14.474+09:00|2023071922021447300|수도권 식당 사장님들 주목 간편한 식자재 플랫폼 온 일당이 수지 분당 강동 양 남양주 등 수도권 지역에 줄줄이 오픈 수도권 오픈을 기념해 식당 필수 식자재 초특가 행사 중                                                                                                                                                                                                                                                         |수도권 식당 사장님들 주목!\\n간편한 식자재 플랫폼 온일장이 수지, 분당, 강동, 남양주 등 수도권 지역에 줄줄이 오픈!\\n수도권 오픈을 기념해, 식당 필수 식자재 초특가 행사 중!                                                                                                                                                                                                                                                           |2023-07-16T23:59:24.883+09:00|2023-07-07T17:30:00.000+09:00|[온일장] 수도권 릴레이 오픈 기념 식자재 역대급 특가|2   |2023071623592488200|            |\n",
      "|88      |633   |0       |1981-01-29|0       |1          |3         |2023-08-11T23:59:00.000+09:00|1     |1        |80              |2023-07-19T19:56:02.435+09:00|2023071919560243400|팩에 민 케이크 유 오케이 하이 마이 네임 이즈 카 레이나 앤 아이 마이 네임 이즈 휴 im 쇠라 im 내놔 im 전지현이 제휴 아인 보잉 헬로 마이 네임 이즈 씹인싸 마이 네임 이즈 또라이 아임 마이 스틱 아임 되니 im 이세돌 후 치즈 덮밥 털면 유빙 덮밥 하면 치질 왔다 생수에 비계 비듬속에 케찹                                                                                                                                        |팩의 민 케이크\\n유 오케이\\n하이 마이 네임 이즈 카 레이나\\n앤 아이 마이 네임 이즈 휴\\n아임 쇠라 아임 내놔\\n아임 전지현\\n이제 휴 아임 보윙\\n헬로 마이 네임 이즈 씹인싸\\n마이 네임이즈 또라이\\n아임 마이스틱 아임 되니\\n아임 이세돌\\n호우 치즈 덮밥\\n털면 유빙 덮밥\\n하면 치질 왔다 생수에 비계\\n비듬 속에 케찹                                                                                                                       |2023-06-01T21:33:43.471+09:00|2023-07-14T17:30:00.000+09:00|[아임보윙] 치즈 덮밥 털면 유빙 덮밥                |2   |2023060121334347000|            |\n",
      "|96      |582   |0       |2008-09-30|0       |1          |0         |2023-07-13T23:59:00.000+09:00|1     |1        |80              |2023-07-03T16:04:13.681+09:00|2023070316041367700|공중화장실은 첫번째 칸에 사람이 가장 적게 몰려 비교적 깨끗하다는 조사 결과가 있다 변기 사용 전에 냄새나 벌레 흔적등을 살펴봐야 한다 휴지는 빛이 된 휴지를 사용하는것보다는 미리 챙기는것이 좋다 수도꼭지는 화장실에서 가장 더러운 부분 중 하나라서 타월로 만드는 게 좋다 마지막으로 변기 뚜껑을 닫고 물을 내려야 한다 물이 내려갈때 미세 입자들은 공중 6미터까지 날아 가기 때문이다                                         |공중화장실은 첫번째 칸에 사람이 가장 적게 몰려 비교적 깨끗하다는 조사 결과가 있다.\\n변기 사용 전에 냄새나 벌레, 흔적 등을 살펴봐야 한다.\\n휴지는 비치된 휴지를 사용하는 것보다는 미리 챙기는 것이 좋다.\\n수도꼭지는 화장실에서 가장 더러운 부분 중 하나라서 타월로 만지는 게 좋다.\\n마지막으로 변기 뚜껑을 닫고 물을 내려야 한다.\\n물이 내려갈 때 미세 입자들은 공중 6m까지 날아가기 때문이다.                                     |2023-07-01T01:28:28.790+09:00|2023-06-15T17:30:00.000+09:00|[공중화장실] 보다 깨끗하게 사용하는 법             |2   |2023070101282878500|            |\n",
      "|97      |624   |0       |2004-04-25|0       |1          |0         |2023-08-08T23:59:00.000+09:00|1     |1        |80              |2023-07-21T23:25:40.563+09:00|2023072123254056200|멀리 떠나지 않아도 도심 속에서 더위를 피할 방법은 바로 한강 공원 수영장을 이용하는 것입니다 지난 6월 12 13일 개장한 한강공원 수영장은 8월 20일까지 이용할 수 있으며 어린이 3천원 성인은 5천원이라는 저렴한 요금으로 이용할 수 있습니다 이용할 수 있는 수영장은 광나루 수영장 뚝섬 수영장 잠원 수영장 여의도 수영장 양화 물 수영 놀이 장난 지 물놀이장으로 총 6곳으로 올여름을 근처 수영장에서 시원하게 보내는것은 어떠신가요|멀리 떠나지 않아도 도심 속에서 더위를 피할 방법은 바로 한강공원 수영장을 이용하는 것입니다.\\n지난 6월 23일 개장한 한강공원 수영장은 8월 20일까지 이용할 수 있으며 어린이 3천 원 성인은 5천 원이라는 저렴한 요금으로 이용할 수 있습니다.\\n이용할 수 있는 수영장은 광나루수영장, 뚝섬수영장, 잠원수영장, 여의도수영장, 양화물놀이장, 난지물놀이장으로 총 6곳으로 올여름을 근처 수영장에서 시원하게 보내는 것은 어떠신가요?           |2023-04-29T01:53:51.671+09:00|2023-07-11T17:30:00.000+09:00|[사회뉴스] 한강공원 수영장 개장                    |2   |2023042901535166900|            |\n",
      "|96      |657   |0       |2003-08-06|0       |1          |1         |2023-08-25T23:59:00.000+09:00|1     |1        |80              |2023-07-31T17:42:39.084+09:00|2023073117423903800|신용점수 관리 서비스 나이스 지키미에서 전국민 이름 데이터를 기반으로 이름을 분석해 드리는 이름 어떤 서비스를 시작합니다 성별 지역 연도별로 얼마나 많은 사람들이 같은 이름을 가지고 있는지 알수 있고 인기 이름 순위도 확인 할 수 있습니다 세상에 손흥민 씨는 몇 명이나 있을까요 나랑 이름이 같은 사람은 어디에 가장 많이 살고 있을까요 지금 나이스 지키미 회원가입 프 네일은 분석 결과 바로 확인해 보세요                    |신용점수 관리 서비스 '나이스지키미'에서 전국민 이름 데이터를 기반으로 이름을 분석해드리는 '이름어때' 서비스를 시작합니다.\\n성별, 지역, 연도별로 얼마나 많은 사람들이 같은 이름을 가지고 있는지 알 수 있고, 인기 이름 순위도 확인할 수 있습니다.\\n세상에 손흥민씨는 몇 명이나 있을까요?\\n나랑 이름이 같은 사람은 어디에 가장 많이 살고 있을까요?\\n지금 나이스지키미 회원가입 후 내 이름 분석 결과 바로 확인해보세요!                |2023-07-31T13:35:41.833+09:00|2023-07-28T12:30:00.000+09:00|[나이스지키미] 내 이름은 전국에 몇 명              |2   |2023073113354183200|            |\n",
      "|90      |633   |0       |1986-07-02|0       |1          |3         |2023-08-11T23:59:00.000+09:00|0     |1        |80              |2023-07-26T18:12:23.081+09:00|2023072618122307900|백의 민 케이크 유 오케이 하이 마이 네임 이즈 카 레이나 앤 아이 마이 네임 이즈 휴 아임 쉐프 라인 내놔 아임 전지현이 제휴 아임 폴링 헬로 마이 네임 이즈 10인 싸 마이 네임 이즈 또라이 아임 마이 스틱 아임 미미 아임 이세돌 호우 치즈 덮밥 털면 유빙 덮밥 하면 치질 왔다 생수에 비계 비듬속에 케찹                                                                                                                             |팩의 민 케이크\\n유 오케이\\n하이 마이 네임 이즈 카 레이나\\n앤 아이 마이 네임 이즈 휴\\n아임 쇠라 아임 내놔\\n아임 전지현\\n이제 휴 아임 보윙\\n헬로 마이 네임 이즈 씹인싸\\n마이 네임이즈 또라이\\n아임 마이스틱 아임 되니\\n아임 이세돌\\n호우 치즈 덮밥\\n털면 유빙 덮밥\\n하면 치질 왔다 생수에 비계\\n비듬 속에 케찹                                                                                                                       |2023-07-26T17:52:49.003+09:00|2023-07-14T17:30:00.000+09:00|[아임보윙] 치즈 덮밥 털면 유빙 덮밥                |2   |2023072617524900100|            |\n",
      "|99      |609   |0       |1991-02-21|0       |1          |0         |2023-07-28T23:59:00.000+09:00|1     |1        |80              |2023-07-09T15:44:53.466+09:00|2023070915445346400|노란색 횡단보도가 올 하반기 내 전면 도입된다 운전자가 횡단보도 색깔로 어린이 보호구역을 명확하게 인식해 어린이 교통사고를 예방하기 위함이다 이러한 제도 개선보다 중요한것은 운전자와 보행자의 실천과 이행이다 구역의 모든것을 노란색으로 덮어도 법을 지키지 않으면 사고는 언제 어디서든 일어난다                                                                                                                            |노란색 횡단보도가 올 하반기 내 전면 도입된다.\\n운전자가 횡단보도 색깔로 어린이보호구역을 명확하게 인식해 어린이 교통사고를 예방하기 위함이다.\\n이러한 제도 개선보다 중요한 것은 운전자와 보행자의 실천과 이행이다.\\n구역의 모든 곳을 노란색으로 덮어도 법을 지키지 않으면 사고는 언제 어디서든 일어난다.                                                                                                                           |2023-07-03T00:21:36.170+09:00|2023-06-30T17:30:00.000+09:00|[스쿨존] 노란색 횡단보도는 뭐지                    |2   |2023070300213616900|            |\n",
      "|97      |587   |0       |1998-04-23|0       |1          |1         |2023-07-14T23:59:00.000+09:00|1     |1        |80              |2023-07-07T20:21:58.935+09:00|2023070720215893400|안녕하세요 보잉 대표 동길입니다 보잉 즐겁게 사용하고 계신가요 여러분에게 더 가까이 가고 빠르게 소통하기 위해 밤12시에 유튜브 라이브를 진행할 예정입니다 보잉에 대해 무엇이든 궁금한것이 있으면 편하게 오셔서 물어보세요 저도 제 업무 보며 안방처럼 방송할 예정입니다 날이 상당히 더워지네요 평안한 하루가 됐으면 좋겠습니다                                                                                                 |안녕하세요 보윙 대표 오동길입니다! 보윙 즐겁게 사용하고 계신가요?\\n여러분에게 더 가까이 가고 빠르게 소통하기 위해 밤 12시에 유튜브 라이브를 진행할 예정입니다.\\n보윙에 대해 무엇이든 궁금한 것이 있으면 편하게 오셔서 물어보세요.\\n저도 제 업무 보며 안방처럼 방송할 예정입니다.\\n날이 상당히 더워지네요.\\n평안한 하루가 됐으면 좋겠습니다.                                                                                        |2023-07-07T12:12:15.941+09:00|2023-06-16T17:30:00.000+09:00|[보윙TV] 보윙 12시 유튜브 라이브                   |2   |2023070712121593700|            |\n",
      "+--------+------+--------+----------+--------+-----------+----------+-----------------------------+------+---------+----------------+-----------------------------+-------------------+----------------------------------------------------------------------------------------------------------------------------------------------------------------------------------------------------------------------------------------------------------------------------------------------------------------------------------------------------------------------------------------------------------------------------+-----------------------------------------------------------------------------------------------------------------------------------------------------------------------------------------------------------------------------------------------------------------------------------------------------------------------------------------------------------------------------------------------------------------------------------+-----------------------------+-----------------------------+---------------------------------------------------+----+-------------------+------------+\n",
      "only showing top 20 rows\n",
      "\n"
     ]
    }
   ],
   "source": [
    "test_df.show(truncate=False)"
   ]
  },
  {
   "cell_type": "markdown",
   "id": "0af58de2-ed3f-4a18-aa0d-a006e2418d14",
   "metadata": {},
   "source": [
    "## 유저별로 조각난 json 모아서 불러오기"
   ]
  },
  {
   "cell_type": "code",
   "execution_count": 3,
   "id": "9ad2ea4a-103a-4902-9998-8068e93ee152",
   "metadata": {
    "execution": {
     "iopub.execute_input": "2023-12-21T06:28:28.675454Z",
     "iopub.status.busy": "2023-12-21T06:28:28.675454Z",
     "iopub.status.idle": "2023-12-21T06:28:39.882036Z",
     "shell.execute_reply": "2023-12-21T06:28:39.881785Z",
     "shell.execute_reply.started": "2023-12-21T06:28:28.675454Z"
    }
   },
   "outputs": [],
   "source": [
    "train_point_july_path = \"D:\\\\DATA_PREPROCESS\\\\INTEGRATED_DATASETS\\\\MINUTE_SCRIPT\\\\JULY\\\\Training\\\\AAC\\\\라벨링데이터\\\\*.json\"\n",
    "train_memor_july_path = \"D:\\\\DATA_PREPROCESS\\\\INTEGRATED_DATASETS\\\\WORD_SCRIPT\\\\JULY\\\\Training\\\\AAC\\\\라벨링데이터\\\\*.json\"\n",
    "val_point_july_path = \"D:\\\\DATA_PREPROCESS\\\\INTEGRATED_DATASETS\\\\MINUTE_SCRIPT\\\\JULY\\\\Validation\\\\AAC\\\\라벨링데이터\\\\*.json\"\n",
    "val_memor_july_path = \"D:\\\\DATA_PREPROCESS\\\\INTEGRATED_DATASETS\\\\WORD_SCRIPT\\\\JULY\\\\Validation\\\\AAC\\\\라벨링데이터\\\\*.json\"\n",
    "\n",
    "train_point_july_df = spark.read.json(train_point_july_path)\n",
    "train_memor_july_df = spark.read.json(train_memor_july_path)\n",
    "val_point_july_df = spark.read.json(val_point_july_path)\n",
    "val_memor_july_df = spark.read.json(val_memor_july_path)"
   ]
  },
  {
   "cell_type": "code",
   "execution_count": 4,
   "id": "3cc75392-b13e-45cc-9f74-ef2bff9a5ca4",
   "metadata": {
    "execution": {
     "iopub.execute_input": "2023-12-21T06:28:39.883204Z",
     "iopub.status.busy": "2023-12-21T06:28:39.883204Z",
     "iopub.status.idle": "2023-12-21T06:28:51.561605Z",
     "shell.execute_reply": "2023-12-21T06:28:51.561605Z",
     "shell.execute_reply.started": "2023-12-21T06:28:39.883204Z"
    }
   },
   "outputs": [],
   "source": [
    "train_point_august_path = \"D:\\\\DATA_PREPROCESS\\\\INTEGRATED_DATASETS\\\\MINUTE_SCRIPT\\\\AUGUST\\\\Training\\\\AAC\\\\라벨링데이터\\\\*.json\"\n",
    "train_memor_august_path = \"D:\\\\DATA_PREPROCESS\\\\INTEGRATED_DATASETS\\\\WORD_SCRIPT\\\\AUGUST\\\\Training\\\\AAC\\\\라벨링데이터\\\\*.json\"\n",
    "val_point_august_path = \"D:\\\\DATA_PREPROCESS\\\\INTEGRATED_DATASETS\\\\MINUTE_SCRIPT\\\\AUGUST\\\\Validation\\\\AAC\\\\라벨링데이터\\\\*.json\"\n",
    "val_memor_august_path = \"D:\\\\DATA_PREPROCESS\\\\INTEGRATED_DATASETS\\\\WORD_SCRIPT\\\\AUGUST\\\\Validation\\\\AAC\\\\라벨링데이터\\\\*.json\"\n",
    "\n",
    "train_point_august_df = spark.read.json(train_point_august_path)\n",
    "train_memor_august_df = spark.read.json(train_memor_august_path)\n",
    "val_point_august_df = spark.read.json(val_point_august_path)\n",
    "val_memor_august_df = spark.read.json(val_memor_august_path)"
   ]
  },
  {
   "cell_type": "code",
   "execution_count": 5,
   "id": "123e731e-bbc3-4d86-a878-98d831cc625c",
   "metadata": {
    "execution": {
     "iopub.execute_input": "2023-12-21T06:28:51.562583Z",
     "iopub.status.busy": "2023-12-21T06:28:51.562583Z",
     "iopub.status.idle": "2023-12-21T06:29:01.241807Z",
     "shell.execute_reply": "2023-12-21T06:29:01.241572Z",
     "shell.execute_reply.started": "2023-12-21T06:28:51.562583Z"
    }
   },
   "outputs": [],
   "source": [
    "train_point_september_path = \"D:\\\\DATA_PREPROCESS\\\\INTEGRATED_DATASETS\\\\MINUTE_SCRIPT\\\\SEPTEMBER\\\\Training\\\\AAC\\\\라벨링데이터\\\\*.json\"\n",
    "train_memor_september_path = \"D:\\\\DATA_PREPROCESS\\\\INTEGRATED_DATASETS\\\\WORD_SCRIPT\\\\SEPTEMBER\\\\Training\\\\AAC\\\\라벨링데이터\\\\*.json\"\n",
    "val_point_september_path = \"D:\\\\DATA_PREPROCESS\\\\INTEGRATED_DATASETS\\\\MINUTE_SCRIPT\\\\SEPTEMBER\\\\Validation\\\\AAC\\\\라벨링데이터\\\\*.json\"\n",
    "val_memor_september_path = \"D:\\\\DATA_PREPROCESS\\\\INTEGRATED_DATASETS\\\\WORD_SCRIPT\\\\SEPTEMBER\\\\Validation\\\\AAC\\\\라벨링데이터\\\\*.json\"\n",
    "\n",
    "train_point_september_df = spark.read.json(train_point_september_path)\n",
    "train_memor_september_df = spark.read.json(train_memor_september_path)\n",
    "val_point_september_df = spark.read.json(val_point_september_path)\n",
    "val_memor_september_df = spark.read.json(val_memor_september_path)"
   ]
  },
  {
   "cell_type": "code",
   "execution_count": 6,
   "id": "1d8c6db5-5d83-4047-8527-44e977969306",
   "metadata": {
    "execution": {
     "iopub.execute_input": "2023-12-21T06:29:01.243806Z",
     "iopub.status.busy": "2023-12-21T06:29:01.243806Z",
     "iopub.status.idle": "2023-12-21T06:29:11.273599Z",
     "shell.execute_reply": "2023-12-21T06:29:11.273446Z",
     "shell.execute_reply.started": "2023-12-21T06:29:01.243806Z"
    }
   },
   "outputs": [],
   "source": [
    "train_point_october_path = \"D:\\\\DATA_PREPROCESS\\\\INTEGRATED_DATASETS\\\\MINUTE_SCRIPT\\\\OCTOBER\\\\Training\\\\AAC\\\\라벨링데이터\\\\*.json\"\n",
    "train_memor_october_path = \"D:\\\\DATA_PREPROCESS\\\\INTEGRATED_DATASETS\\\\WORD_SCRIPT\\\\OCTOBER\\\\Training\\\\AAC\\\\라벨링데이터\\\\*.json\"\n",
    "val_point_october_path = \"D:\\\\DATA_PREPROCESS\\\\INTEGRATED_DATASETS\\\\MINUTE_SCRIPT\\\\OCTOBER\\\\Validation\\\\AAC\\\\라벨링데이터\\\\*.json\"\n",
    "val_memor_october_path = \"D:\\\\DATA_PREPROCESS\\\\INTEGRATED_DATASETS\\\\WORD_SCRIPT\\\\OCTOBER\\\\Validation\\\\AAC\\\\라벨링데이터\\\\*.json\"\n",
    "\n",
    "train_point_october_df = spark.read.json(train_point_october_path)\n",
    "train_memor_october_df = spark.read.json(train_memor_october_path)\n",
    "val_point_october_df = spark.read.json(val_point_october_path)\n",
    "val_memor_october_df = spark.read.json(val_memor_october_path)"
   ]
  },
  {
   "cell_type": "code",
   "execution_count": 7,
   "id": "31f197bd-b8a6-4b7d-a26a-9ef6b2f6f840",
   "metadata": {
    "execution": {
     "iopub.execute_input": "2023-12-21T06:29:11.273599Z",
     "iopub.status.busy": "2023-12-21T06:29:11.273599Z",
     "iopub.status.idle": "2023-12-21T06:29:26.389131Z",
     "shell.execute_reply": "2023-12-21T06:29:26.389131Z",
     "shell.execute_reply.started": "2023-12-21T06:29:11.273599Z"
    }
   },
   "outputs": [],
   "source": [
    "# pandas df들을 spark df들로 바꿈\n",
    "\n",
    "train_point_july_df = train_point_july_df.toPandas()\n",
    "train_memor_july_df = train_memor_july_df.toPandas()\n",
    "val_point_july_df = val_point_july_df.toPandas()\n",
    "val_memor_july_df = val_memor_july_df.toPandas()\n",
    "\n",
    "train_point_august_df = train_point_august_df.toPandas()\n",
    "train_memor_august_df = train_memor_august_df.toPandas()\n",
    "val_point_august_df = val_point_august_df.toPandas()\n",
    "val_memor_august_df = val_memor_august_df.toPandas()\n",
    "\n",
    "train_point_september_df = train_point_september_df.toPandas()\n",
    "train_memor_september_df = train_memor_september_df.toPandas()\n",
    "val_point_september_df = val_point_september_df.toPandas()\n",
    "val_memor_september_df = val_memor_september_df.toPandas()\n",
    "\n",
    "train_point_october_df = train_point_october_df.toPandas()\n",
    "train_memor_october_df = train_memor_october_df.toPandas()\n",
    "val_point_october_df = val_point_october_df.toPandas()\n",
    "val_memor_october_df = val_memor_october_df.toPandas()"
   ]
  },
  {
   "cell_type": "markdown",
   "id": "38b5d766-a17d-4a11-b286-6087fb4fbcb1",
   "metadata": {},
   "source": [
    "# 문서 작업용"
   ]
  },
  {
   "cell_type": "code",
   "execution_count": 8,
   "id": "96bb9618-59c3-4534-81dd-e3d6242ecc64",
   "metadata": {
    "execution": {
     "iopub.execute_input": "2023-12-21T06:29:26.390453Z",
     "iopub.status.busy": "2023-12-21T06:29:26.390453Z",
     "iopub.status.idle": "2023-12-21T06:29:26.535295Z",
     "shell.execute_reply": "2023-12-21T06:29:26.534712Z",
     "shell.execute_reply.started": "2023-12-21T06:29:26.390453Z"
    }
   },
   "outputs": [],
   "source": [
    "memor_df = pd.concat([train_memor_july_df, val_memor_july_df, train_memor_august_df, val_memor_august_df, train_memor_september_df, val_memor_september_df, train_memor_october_df, val_memor_october_df], axis=0)"
   ]
  },
  {
   "cell_type": "code",
   "execution_count": 9,
   "id": "ce406bed-dea6-498f-abac-661cb5c92891",
   "metadata": {
    "execution": {
     "iopub.execute_input": "2023-12-21T06:29:26.536297Z",
     "iopub.status.busy": "2023-12-21T06:29:26.535295Z",
     "iopub.status.idle": "2023-12-21T06:29:26.561468Z",
     "shell.execute_reply": "2023-12-21T06:29:26.561404Z",
     "shell.execute_reply.started": "2023-12-21T06:29:26.536297Z"
    }
   },
   "outputs": [],
   "source": [
    "point_df = pd.concat([train_point_july_df, val_point_july_df, train_point_august_df, val_point_august_df, train_point_september_df, val_point_september_df, train_point_october_df, val_point_october_df], axis=0)"
   ]
  },
  {
   "cell_type": "code",
   "execution_count": 10,
   "id": "a5f5a69c-dba1-4c87-aece-61a31c578884",
   "metadata": {
    "execution": {
     "iopub.execute_input": "2023-12-21T06:29:52.583172Z",
     "iopub.status.busy": "2023-12-21T06:29:52.583172Z",
     "iopub.status.idle": "2023-12-21T06:29:54.836554Z",
     "shell.execute_reply": "2023-12-21T06:29:54.836554Z",
     "shell.execute_reply.started": "2023-12-21T06:29:52.583172Z"
    }
   },
   "outputs": [
    {
     "name": "stderr",
     "output_type": "stream",
     "text": [
      "C:\\Users\\admin\\AppData\\Local\\Temp\\ipykernel_12224\\1735838324.py:10: SettingWithCopyWarning: \n",
      "A value is trying to be set on a copy of a slice from a DataFrame.\n",
      "Try using .loc[row_indexer,col_indexer] = value instead\n",
      "\n",
      "See the caveats in the documentation: https://pandas.pydata.org/pandas-docs/stable/user_guide/indexing.html#returning-a-view-versus-a-copy\n",
      "  unique_memor_df['start_at_formatted'] = pd.to_datetime(unique_memor_df['start_at']).dt.strftime('%y.%m.%d')\n",
      "C:\\Users\\admin\\AppData\\Local\\Temp\\ipykernel_12224\\1735838324.py:11: SettingWithCopyWarning: \n",
      "A value is trying to be set on a copy of a slice from a DataFrame.\n",
      "Try using .loc[row_indexer,col_indexer] = value instead\n",
      "\n",
      "See the caveats in the documentation: https://pandas.pydata.org/pandas-docs/stable/user_guide/indexing.html#returning-a-view-versus-a-copy\n",
      "  unique_memor_df['end_at_formatted'] = pd.to_datetime(unique_memor_df['end_at']).dt.strftime('%y.%m.%d')\n",
      "C:\\Users\\admin\\AppData\\Local\\Temp\\ipykernel_12224\\1735838324.py:12: SettingWithCopyWarning: \n",
      "A value is trying to be set on a copy of a slice from a DataFrame.\n",
      "Try using .loc[row_indexer,col_indexer] = value instead\n",
      "\n",
      "See the caveats in the documentation: https://pandas.pydata.org/pandas-docs/stable/user_guide/indexing.html#returning-a-view-versus-a-copy\n",
      "  unique_memor_df['duration'] = unique_memor_df['start_at_formatted'] + ' - ' + unique_memor_df['end_at_formatted']\n"
     ]
    },
    {
     "name": "stdout",
     "output_type": "stream",
     "text": [
      "파일이 C:/Users/admin/Desktop/Vowing 앱 관련/VOWING_DATA_Info/aac_음성전사데이터_단어말하기_7월부터10월.xlsx에 저장되었습니다.\n"
     ]
    }
   ],
   "source": [
    "# 원본 데이터프레임에서 title 별 행의 개수를 계산\n",
    "title_counts = memor_df['title'].value_counts()\n",
    "# 원본 데이터프레임에 'num' 컬럼으로 title 별 행의 개수 추가\n",
    "memor_df['num'] = memor_df['title'].map(title_counts)\n",
    "\n",
    "# 'title' 컬럼을 기준으로 중복 제거\n",
    "unique_memor_df = memor_df.drop_duplicates(subset=['title'])\n",
    "\n",
    "# 날짜 포매팅\n",
    "unique_memor_df['start_at_formatted'] = pd.to_datetime(unique_memor_df['start_at']).dt.strftime('%y.%m.%d')\n",
    "unique_memor_df['end_at_formatted'] = pd.to_datetime(unique_memor_df['end_at']).dt.strftime('%y.%m.%d')\n",
    "unique_memor_df['duration'] = unique_memor_df['start_at_formatted'] + ' - ' + unique_memor_df['end_at_formatted']\n",
    "\n",
    "# 선택된 컬럼만 포함하는 최종 데이터프레임 생성 (이미 'num' 컬럼이 추가된 상태)\n",
    "selected_columns = ['title', 'duration', 'script', 'num']\n",
    "unique_memor_df = unique_memor_df[selected_columns]\n",
    "\n",
    "# 파일 저장 경로 설정\n",
    "save_path = 'C:/Users/admin/Desktop/Vowing 앱 관련/VOWING_DATA_Info/aac_음성전사데이터_단어말하기_7월부터10월.xlsx'\n",
    "\n",
    "# 엑셀 파일로 저장\n",
    "unique_memor_df.to_excel(save_path, index=False)\n",
    "\n",
    "# 저장 완료 메시지 출력\n",
    "print(f\"파일이 {save_path}에 저장되었습니다.\")"
   ]
  },
  {
   "cell_type": "code",
   "execution_count": 14,
   "id": "33d6cf16-ec29-42e7-82cd-57bec88fb05a",
   "metadata": {
    "execution": {
     "iopub.execute_input": "2023-12-21T06:39:40.739359Z",
     "iopub.status.busy": "2023-12-21T06:39:40.739359Z",
     "iopub.status.idle": "2023-12-21T06:39:40.846783Z",
     "shell.execute_reply": "2023-12-21T06:39:40.846783Z",
     "shell.execute_reply.started": "2023-12-21T06:39:40.739359Z"
    }
   },
   "outputs": [
    {
     "name": "stdout",
     "output_type": "stream",
     "text": [
      "파일이 C:/Users/admin/Desktop/Vowing 앱 관련/VOWING_DATA_Info/aac_음성전사데이터_1분말하기_7월부터10월.xlsx에 저장되었습니다.\n"
     ]
    },
    {
     "name": "stderr",
     "output_type": "stream",
     "text": [
      "C:\\Users\\admin\\AppData\\Local\\Temp\\ipykernel_12224\\2320413967.py:10: SettingWithCopyWarning: \n",
      "A value is trying to be set on a copy of a slice from a DataFrame.\n",
      "Try using .loc[row_indexer,col_indexer] = value instead\n",
      "\n",
      "See the caveats in the documentation: https://pandas.pydata.org/pandas-docs/stable/user_guide/indexing.html#returning-a-view-versus-a-copy\n",
      "  unique_point_df['start_at_formatted'] = pd.to_datetime(unique_point_df['start_at']).dt.strftime('%y.%m.%d')\n",
      "C:\\Users\\admin\\AppData\\Local\\Temp\\ipykernel_12224\\2320413967.py:11: SettingWithCopyWarning: \n",
      "A value is trying to be set on a copy of a slice from a DataFrame.\n",
      "Try using .loc[row_indexer,col_indexer] = value instead\n",
      "\n",
      "See the caveats in the documentation: https://pandas.pydata.org/pandas-docs/stable/user_guide/indexing.html#returning-a-view-versus-a-copy\n",
      "  unique_point_df['end_at_formatted'] = pd.to_datetime(unique_point_df['end_at']).dt.strftime('%y.%m.%d')\n",
      "C:\\Users\\admin\\AppData\\Local\\Temp\\ipykernel_12224\\2320413967.py:12: SettingWithCopyWarning: \n",
      "A value is trying to be set on a copy of a slice from a DataFrame.\n",
      "Try using .loc[row_indexer,col_indexer] = value instead\n",
      "\n",
      "See the caveats in the documentation: https://pandas.pydata.org/pandas-docs/stable/user_guide/indexing.html#returning-a-view-versus-a-copy\n",
      "  unique_point_df['duration'] = unique_point_df['start_at_formatted'] + ' - ' + unique_point_df['end_at_formatted']\n"
     ]
    }
   ],
   "source": [
    "# 원본 데이터프레임에서 title 별 행의 개수를 계산\n",
    "title_counts = point_df['title'].value_counts()\n",
    "# 원본 데이터프레임에 'num' 컬럼으로 title 별 행의 개수 추가\n",
    "point_df['num'] = point_df['title'].map(title_counts)\n",
    "\n",
    "# 'title' 컬럼을 기준으로 중복 제거\n",
    "unique_point_df = point_df.drop_duplicates(subset=['title'])\n",
    "\n",
    "# 날짜 포매팅\n",
    "unique_point_df['start_at_formatted'] = pd.to_datetime(unique_point_df['start_at']).dt.strftime('%y.%m.%d')\n",
    "unique_point_df['end_at_formatted'] = pd.to_datetime(unique_point_df['end_at']).dt.strftime('%y.%m.%d')\n",
    "unique_point_df['duration'] = unique_point_df['start_at_formatted'] + ' - ' + unique_point_df['end_at_formatted']\n",
    "\n",
    "# 선택된 컬럼만 포함하는 최종 데이터프레임 생성 (이미 'num' 컬럼이 추가된 상태)\n",
    "selected_columns = ['title', 'duration', 'script', 'num']\n",
    "unique_point_df = unique_point_df[selected_columns]\n",
    "\n",
    "# 파일 저장 경로 설정\n",
    "save_path = 'C:/Users/admin/Desktop/Vowing 앱 관련/VOWING_DATA_Info/aac_음성전사데이터_1분말하기_7월부터10월.xlsx'\n",
    "\n",
    "# 엑셀 파일로 저장\n",
    "unique_point_df.to_excel(save_path, index=False)\n",
    "\n",
    "# 저장 완료 메시지 출력\n",
    "print(f\"파일이 {save_path}에 저장되었습니다.\")"
   ]
  },
  {
   "cell_type": "code",
   "execution_count": null,
   "id": "8c500308-b4d6-4873-a98b-153bf55796aa",
   "metadata": {},
   "outputs": [],
   "source": []
  },
  {
   "cell_type": "markdown",
   "id": "a3afdf5f-2b8a-49c9-b843-559d7d6fff3b",
   "metadata": {
    "jp-MarkdownHeadingCollapsed": true
   },
   "source": [
    "## 각각의 df들에 대한"
   ]
  },
  {
   "cell_type": "code",
   "execution_count": 8,
   "id": "eebc8254-4082-474c-bcd8-c97c114ebb96",
   "metadata": {
    "execution": {
     "iopub.execute_input": "2023-12-20T07:12:55.512030Z",
     "iopub.status.busy": "2023-12-20T07:12:55.512030Z",
     "iopub.status.idle": "2023-12-20T07:12:55.548029Z",
     "shell.execute_reply": "2023-12-20T07:12:55.547934Z",
     "shell.execute_reply.started": "2023-12-20T07:12:55.512030Z"
    }
   },
   "outputs": [
    {
     "name": "stdout",
     "output_type": "stream",
     "text": [
      "<class 'pandas.core.frame.DataFrame'>\n",
      "RangeIndex: 19451 entries, 0 to 19450\n",
      "Data columns (total 21 columns):\n",
      " #   Column            Non-Null Count  Dtype \n",
      "---  ------            --------------  ----- \n",
      " 0   accuracy          19451 non-null  int64 \n",
      " 1   ads_id            19451 non-null  int64 \n",
      " 2   audio_id          19451 non-null  int64 \n",
      " 3   birth             19451 non-null  object\n",
      " 4   category          19451 non-null  int64 \n",
      " 5   description       19451 non-null  object\n",
      " 6   difficulty        19451 non-null  int64 \n",
      " 7   end_at            19451 non-null  object\n",
      " 8   gender            19451 non-null  int64 \n",
      " 9   is_passed         19451 non-null  int64 \n",
      " 10  minimum_accuracy  19451 non-null  int64 \n",
      " 11  participated_at   19451 non-null  int64 \n",
      " 12  participation_id  19451 non-null  object\n",
      " 13  recorded_text     19451 non-null  object\n",
      " 14  script            19451 non-null  object\n",
      " 15  signed_up_at      19451 non-null  object\n",
      " 16  start_at          19451 non-null  object\n",
      " 17  title             19451 non-null  object\n",
      " 18  type              19451 non-null  int64 \n",
      " 19  user_id           19451 non-null  int64 \n",
      " 20  withdrawn_at      19451 non-null  object\n",
      "dtypes: int64(11), object(10)\n",
      "memory usage: 3.1+ MB\n"
     ]
    }
   ],
   "source": [
    "train_point_july_df.info()"
   ]
  },
  {
   "cell_type": "code",
   "execution_count": 37,
   "id": "504a5462-f966-4626-9795-ad58393d934e",
   "metadata": {
    "execution": {
     "iopub.execute_input": "2023-12-20T22:32:13.957817Z",
     "iopub.status.busy": "2023-12-20T22:32:13.957817Z",
     "iopub.status.idle": "2023-12-20T22:32:13.973445Z",
     "shell.execute_reply": "2023-12-20T22:32:13.973445Z",
     "shell.execute_reply.started": "2023-12-20T22:32:13.957817Z"
    }
   },
   "outputs": [
    {
     "name": "stdout",
     "output_type": "stream",
     "text": [
      "고유한 user_id의 개수: 753\n"
     ]
    }
   ],
   "source": [
    "unique_user_count = train_point_july_df['user_id'].nunique()\n",
    "print(\"고유한 user_id의 개수:\", unique_user_count)"
   ]
  },
  {
   "cell_type": "code",
   "execution_count": 46,
   "id": "80924258-f15c-40fc-964d-7953fc7ab820",
   "metadata": {
    "execution": {
     "iopub.execute_input": "2023-12-21T00:17:23.446532Z",
     "iopub.status.busy": "2023-12-21T00:17:23.446532Z",
     "iopub.status.idle": "2023-12-21T00:17:23.521492Z",
     "shell.execute_reply": "2023-12-21T00:17:23.521492Z",
     "shell.execute_reply.started": "2023-12-21T00:17:23.446532Z"
    }
   },
   "outputs": [
    {
     "name": "stdout",
     "output_type": "stream",
     "text": [
      "File saved at C:\\Users\\admin\\Desktop\\Vowing 앱 관련\\VOWING_DATA_Info\\train_point_july_stt_sample.xlsx\n"
     ]
    }
   ],
   "source": [
    "# 'script' 컬럼에서 중복을 제거하고 랜덤하게 10개의 스크립트를 선택\n",
    "unique_scripts = train_point_july_df['script'].drop_duplicates().sample(10)\n",
    "\n",
    "# 선택된 스크립트에 해당하는 모든 데이터를 필터링\n",
    "filtered_df = train_point_july_df[train_point_july_df['script'].isin(unique_scripts)]\n",
    "\n",
    "# 각 스크립트별로 'recorded_text' 컬럼의 유니크한 값 중 최대 3개를 추출\n",
    "def get_unique_recorded_texts(group):\n",
    "    return group.drop_duplicates(subset='recorded_text').head(3)\n",
    "\n",
    "# apply를 사용하여 각 그룹에서 유니크한 'recorded_text'를 가져오고, 다른 필요한 컬럼들도 함께 가져옴\n",
    "sampled_df = filtered_df.groupby('script', group_keys=False).apply(get_unique_recorded_texts)\n",
    "\n",
    "# Excel 파일로 저장\n",
    "save_path = 'C:\\\\Users\\\\admin\\\\Desktop\\\\Vowing 앱 관련\\\\VOWING_DATA_Info\\\\train_point_july_stt_sample.xlsx'\n",
    "sampled_df.to_excel(save_path, index=False)\n",
    "\n",
    "print(f\"File saved at {save_path}\")"
   ]
  },
  {
   "cell_type": "code",
   "execution_count": 9,
   "id": "a4b6f75b-b663-421f-a549-ae0f2189bff2",
   "metadata": {
    "execution": {
     "iopub.execute_input": "2023-12-20T07:12:55.549028Z",
     "iopub.status.busy": "2023-12-20T07:12:55.549028Z",
     "iopub.status.idle": "2023-12-20T07:12:55.587464Z",
     "shell.execute_reply": "2023-12-20T07:12:55.587464Z",
     "shell.execute_reply.started": "2023-12-20T07:12:55.549028Z"
    }
   },
   "outputs": [
    {
     "name": "stdout",
     "output_type": "stream",
     "text": [
      "<class 'pandas.core.frame.DataFrame'>\n",
      "RangeIndex: 27382 entries, 0 to 27381\n",
      "Data columns (total 21 columns):\n",
      " #   Column            Non-Null Count  Dtype \n",
      "---  ------            --------------  ----- \n",
      " 0   accuracy          27382 non-null  int64 \n",
      " 1   ads_id            27382 non-null  int64 \n",
      " 2   audio_id          27382 non-null  int64 \n",
      " 3   birth             27382 non-null  object\n",
      " 4   category          27382 non-null  int64 \n",
      " 5   description       27382 non-null  object\n",
      " 6   difficulty        27382 non-null  int64 \n",
      " 7   end_at            27382 non-null  object\n",
      " 8   gender            27382 non-null  int64 \n",
      " 9   is_passed         27382 non-null  int64 \n",
      " 10  minimum_accuracy  27382 non-null  int64 \n",
      " 11  participated_at   27382 non-null  int64 \n",
      " 12  participation_id  27382 non-null  object\n",
      " 13  recorded_text     27382 non-null  object\n",
      " 14  script            27382 non-null  object\n",
      " 15  signed_up_at      27382 non-null  object\n",
      " 16  start_at          27382 non-null  object\n",
      " 17  title             27382 non-null  object\n",
      " 18  type              27382 non-null  int64 \n",
      " 19  user_id           27382 non-null  int64 \n",
      " 20  withdrawn_at      27382 non-null  object\n",
      "dtypes: int64(11), object(10)\n",
      "memory usage: 4.4+ MB\n"
     ]
    }
   ],
   "source": [
    "train_memor_july_df.info()"
   ]
  },
  {
   "cell_type": "code",
   "execution_count": 40,
   "id": "d286b95a-5676-48b9-afa2-213cccfb5371",
   "metadata": {
    "execution": {
     "iopub.execute_input": "2023-12-20T22:33:40.170625Z",
     "iopub.status.busy": "2023-12-20T22:33:40.170625Z",
     "iopub.status.idle": "2023-12-20T22:33:40.198803Z",
     "shell.execute_reply": "2023-12-20T22:33:40.198727Z",
     "shell.execute_reply.started": "2023-12-20T22:33:40.170625Z"
    }
   },
   "outputs": [
    {
     "name": "stdout",
     "output_type": "stream",
     "text": [
      "고유한 ads_id의 개수: 617\n"
     ]
    }
   ],
   "source": [
    "unique_ads = train_memor_july_df['title'].nunique()\n",
    "print(\"고유한 ads_id의 개수:\", unique_ads)"
   ]
  },
  {
   "cell_type": "code",
   "execution_count": 10,
   "id": "d8f06384-9a9d-44d0-90b8-c49e51a86d73",
   "metadata": {
    "execution": {
     "iopub.execute_input": "2023-12-20T07:12:55.587464Z",
     "iopub.status.busy": "2023-12-20T07:12:55.587464Z",
     "iopub.status.idle": "2023-12-20T07:12:55.615287Z",
     "shell.execute_reply": "2023-12-20T07:12:55.614289Z",
     "shell.execute_reply.started": "2023-12-20T07:12:55.587464Z"
    }
   },
   "outputs": [
    {
     "name": "stdout",
     "output_type": "stream",
     "text": [
      "<class 'pandas.core.frame.DataFrame'>\n",
      "RangeIndex: 5687 entries, 0 to 5686\n",
      "Data columns (total 21 columns):\n",
      " #   Column            Non-Null Count  Dtype \n",
      "---  ------            --------------  ----- \n",
      " 0   accuracy          5687 non-null   int64 \n",
      " 1   ads_id            5687 non-null   int64 \n",
      " 2   audio_id          5687 non-null   int64 \n",
      " 3   birth             5687 non-null   object\n",
      " 4   category          5687 non-null   int64 \n",
      " 5   description       5687 non-null   object\n",
      " 6   difficulty        5687 non-null   int64 \n",
      " 7   end_at            5687 non-null   object\n",
      " 8   gender            5687 non-null   int64 \n",
      " 9   is_passed         5687 non-null   int64 \n",
      " 10  minimum_accuracy  5687 non-null   int64 \n",
      " 11  participated_at   5687 non-null   int64 \n",
      " 12  participation_id  5687 non-null   object\n",
      " 13  recorded_text     5687 non-null   object\n",
      " 14  script            5687 non-null   object\n",
      " 15  signed_up_at      5687 non-null   object\n",
      " 16  start_at          5687 non-null   object\n",
      " 17  title             5687 non-null   object\n",
      " 18  type              5687 non-null   int64 \n",
      " 19  user_id           5687 non-null   int64 \n",
      " 20  withdrawn_at      5687 non-null   object\n",
      "dtypes: int64(11), object(10)\n",
      "memory usage: 933.1+ KB\n"
     ]
    }
   ],
   "source": [
    "val_point_july_df.info()"
   ]
  },
  {
   "cell_type": "code",
   "execution_count": 11,
   "id": "6b3a528e-d0bb-4b04-91e7-113766213d3b",
   "metadata": {
    "execution": {
     "iopub.execute_input": "2023-12-20T07:12:55.616287Z",
     "iopub.status.busy": "2023-12-20T07:12:55.615287Z",
     "iopub.status.idle": "2023-12-20T07:12:55.640756Z",
     "shell.execute_reply": "2023-12-20T07:12:55.640756Z",
     "shell.execute_reply.started": "2023-12-20T07:12:55.616287Z"
    }
   },
   "outputs": [
    {
     "name": "stdout",
     "output_type": "stream",
     "text": [
      "<class 'pandas.core.frame.DataFrame'>\n",
      "RangeIndex: 9014 entries, 0 to 9013\n",
      "Data columns (total 21 columns):\n",
      " #   Column            Non-Null Count  Dtype \n",
      "---  ------            --------------  ----- \n",
      " 0   accuracy          9014 non-null   int64 \n",
      " 1   ads_id            9014 non-null   int64 \n",
      " 2   audio_id          9014 non-null   int64 \n",
      " 3   birth             9014 non-null   object\n",
      " 4   category          9014 non-null   int64 \n",
      " 5   description       9014 non-null   object\n",
      " 6   difficulty        9014 non-null   int64 \n",
      " 7   end_at            9014 non-null   object\n",
      " 8   gender            9014 non-null   int64 \n",
      " 9   is_passed         9014 non-null   int64 \n",
      " 10  minimum_accuracy  9014 non-null   int64 \n",
      " 11  participated_at   9014 non-null   int64 \n",
      " 12  participation_id  9014 non-null   object\n",
      " 13  recorded_text     9014 non-null   object\n",
      " 14  script            9014 non-null   object\n",
      " 15  signed_up_at      9014 non-null   object\n",
      " 16  start_at          9014 non-null   object\n",
      " 17  title             9014 non-null   object\n",
      " 18  type              9014 non-null   int64 \n",
      " 19  user_id           9014 non-null   int64 \n",
      " 20  withdrawn_at      9014 non-null   object\n",
      "dtypes: int64(11), object(10)\n",
      "memory usage: 1.4+ MB\n"
     ]
    }
   ],
   "source": [
    "val_memor_july_df.info()"
   ]
  },
  {
   "cell_type": "code",
   "execution_count": null,
   "id": "f420d8be-cc83-41fd-817d-7efb05d69ef1",
   "metadata": {},
   "outputs": [],
   "source": []
  },
  {
   "cell_type": "code",
   "execution_count": 12,
   "id": "a03b5456-5c48-444d-91fa-ecee1c12ec85",
   "metadata": {
    "execution": {
     "iopub.execute_input": "2023-12-20T07:12:55.643756Z",
     "iopub.status.busy": "2023-12-20T07:12:55.642756Z",
     "iopub.status.idle": "2023-12-20T07:12:55.696282Z",
     "shell.execute_reply": "2023-12-20T07:12:55.695282Z",
     "shell.execute_reply.started": "2023-12-20T07:12:55.643756Z"
    }
   },
   "outputs": [
    {
     "name": "stdout",
     "output_type": "stream",
     "text": [
      "<class 'pandas.core.frame.DataFrame'>\n",
      "RangeIndex: 24578 entries, 0 to 24577\n",
      "Data columns (total 21 columns):\n",
      " #   Column            Non-Null Count  Dtype \n",
      "---  ------            --------------  ----- \n",
      " 0   accuracy          24578 non-null  int64 \n",
      " 1   ads_id            24578 non-null  int64 \n",
      " 2   audio_id          24578 non-null  int64 \n",
      " 3   birth             24578 non-null  object\n",
      " 4   category          24578 non-null  int64 \n",
      " 5   description       24578 non-null  object\n",
      " 6   difficulty        24578 non-null  int64 \n",
      " 7   end_at            24578 non-null  object\n",
      " 8   gender            24578 non-null  int64 \n",
      " 9   is_passed         24578 non-null  int64 \n",
      " 10  minimum_accuracy  24578 non-null  int64 \n",
      " 11  participated_at   24578 non-null  int64 \n",
      " 12  participation_id  24578 non-null  object\n",
      " 13  recorded_text     24578 non-null  object\n",
      " 14  script            24578 non-null  object\n",
      " 15  signed_up_at      24578 non-null  object\n",
      " 16  start_at          24578 non-null  object\n",
      " 17  title             24578 non-null  object\n",
      " 18  type              24578 non-null  int64 \n",
      " 19  user_id           24578 non-null  int64 \n",
      " 20  withdrawn_at      24578 non-null  object\n",
      "dtypes: int64(11), object(10)\n",
      "memory usage: 3.9+ MB\n"
     ]
    }
   ],
   "source": [
    "train_point_august_df.info()"
   ]
  },
  {
   "cell_type": "code",
   "execution_count": 29,
   "id": "57626eba-46d4-4e0d-81fe-6e1f773d85e0",
   "metadata": {
    "execution": {
     "iopub.execute_input": "2023-12-20T22:27:52.166519Z",
     "iopub.status.busy": "2023-12-20T22:27:52.166519Z",
     "iopub.status.idle": "2023-12-20T22:27:52.177795Z",
     "shell.execute_reply": "2023-12-20T22:27:52.177795Z",
     "shell.execute_reply.started": "2023-12-20T22:27:52.166519Z"
    }
   },
   "outputs": [
    {
     "name": "stdout",
     "output_type": "stream",
     "text": [
      "고유한 user_id의 개수: 977\n"
     ]
    }
   ],
   "source": [
    "unique_user_count = train_point_august_df['user_id'].nunique()\n",
    "print(\"고유한 user_id의 개수:\", unique_user_count)"
   ]
  },
  {
   "cell_type": "code",
   "execution_count": 13,
   "id": "e27944f4-fa46-42b5-8ea4-e2d4ef6367c9",
   "metadata": {
    "execution": {
     "iopub.execute_input": "2023-12-20T07:12:55.697283Z",
     "iopub.status.busy": "2023-12-20T07:12:55.697283Z",
     "iopub.status.idle": "2023-12-20T07:12:55.831857Z",
     "shell.execute_reply": "2023-12-20T07:12:55.831857Z",
     "shell.execute_reply.started": "2023-12-20T07:12:55.697283Z"
    }
   },
   "outputs": [
    {
     "name": "stdout",
     "output_type": "stream",
     "text": [
      "<class 'pandas.core.frame.DataFrame'>\n",
      "RangeIndex: 114531 entries, 0 to 114530\n",
      "Data columns (total 21 columns):\n",
      " #   Column            Non-Null Count   Dtype \n",
      "---  ------            --------------   ----- \n",
      " 0   accuracy          114531 non-null  int64 \n",
      " 1   ads_id            114531 non-null  int64 \n",
      " 2   audio_id          114531 non-null  int64 \n",
      " 3   birth             114531 non-null  object\n",
      " 4   category          114531 non-null  int64 \n",
      " 5   description       114531 non-null  object\n",
      " 6   difficulty        114531 non-null  int64 \n",
      " 7   end_at            114531 non-null  object\n",
      " 8   gender            114531 non-null  int64 \n",
      " 9   is_passed         114531 non-null  int64 \n",
      " 10  minimum_accuracy  114531 non-null  int64 \n",
      " 11  participated_at   114531 non-null  int64 \n",
      " 12  participation_id  114531 non-null  object\n",
      " 13  recorded_text     114531 non-null  object\n",
      " 14  script            114531 non-null  object\n",
      " 15  signed_up_at      114531 non-null  object\n",
      " 16  start_at          114531 non-null  object\n",
      " 17  title             114531 non-null  object\n",
      " 18  type              114531 non-null  int64 \n",
      " 19  user_id           114531 non-null  int64 \n",
      " 20  withdrawn_at      114531 non-null  object\n",
      "dtypes: int64(11), object(10)\n",
      "memory usage: 18.3+ MB\n"
     ]
    }
   ],
   "source": [
    "train_memor_august_df.info()"
   ]
  },
  {
   "cell_type": "code",
   "execution_count": 41,
   "id": "46c44073-cd89-483f-a167-74d1bd290e55",
   "metadata": {
    "execution": {
     "iopub.execute_input": "2023-12-20T22:34:38.871504Z",
     "iopub.status.busy": "2023-12-20T22:34:38.871504Z",
     "iopub.status.idle": "2023-12-20T22:34:38.908632Z",
     "shell.execute_reply": "2023-12-20T22:34:38.908632Z",
     "shell.execute_reply.started": "2023-12-20T22:34:38.871504Z"
    }
   },
   "outputs": [
    {
     "name": "stdout",
     "output_type": "stream",
     "text": [
      "고유한 ads_id의 개수: 1799\n"
     ]
    }
   ],
   "source": [
    "unique_ads = train_memor_august_df['title'].nunique()\n",
    "print(\"고유한 ads_id의 개수:\", unique_ads)"
   ]
  },
  {
   "cell_type": "code",
   "execution_count": 14,
   "id": "415a1895-ef48-40c1-8c99-f45ee76fc361",
   "metadata": {
    "execution": {
     "iopub.execute_input": "2023-12-20T07:12:55.831857Z",
     "iopub.status.busy": "2023-12-20T07:12:55.831857Z",
     "iopub.status.idle": "2023-12-20T07:12:55.854181Z",
     "shell.execute_reply": "2023-12-20T07:12:55.854181Z",
     "shell.execute_reply.started": "2023-12-20T07:12:55.831857Z"
    }
   },
   "outputs": [
    {
     "name": "stdout",
     "output_type": "stream",
     "text": [
      "<class 'pandas.core.frame.DataFrame'>\n",
      "RangeIndex: 7089 entries, 0 to 7088\n",
      "Data columns (total 21 columns):\n",
      " #   Column            Non-Null Count  Dtype \n",
      "---  ------            --------------  ----- \n",
      " 0   accuracy          7089 non-null   int64 \n",
      " 1   ads_id            7089 non-null   int64 \n",
      " 2   audio_id          7089 non-null   int64 \n",
      " 3   birth             7089 non-null   object\n",
      " 4   category          7089 non-null   int64 \n",
      " 5   description       7089 non-null   object\n",
      " 6   difficulty        7089 non-null   int64 \n",
      " 7   end_at            7089 non-null   object\n",
      " 8   gender            7089 non-null   int64 \n",
      " 9   is_passed         7089 non-null   int64 \n",
      " 10  minimum_accuracy  7089 non-null   int64 \n",
      " 11  participated_at   7089 non-null   int64 \n",
      " 12  participation_id  7089 non-null   object\n",
      " 13  recorded_text     7089 non-null   object\n",
      " 14  script            7089 non-null   object\n",
      " 15  signed_up_at      7089 non-null   object\n",
      " 16  start_at          7089 non-null   object\n",
      " 17  title             7089 non-null   object\n",
      " 18  type              7089 non-null   int64 \n",
      " 19  user_id           7089 non-null   int64 \n",
      " 20  withdrawn_at      7089 non-null   object\n",
      "dtypes: int64(11), object(10)\n",
      "memory usage: 1.1+ MB\n"
     ]
    }
   ],
   "source": [
    "val_point_august_df.info()"
   ]
  },
  {
   "cell_type": "code",
   "execution_count": 15,
   "id": "97505e6c-9058-4152-b151-5d3709d19692",
   "metadata": {
    "execution": {
     "iopub.execute_input": "2023-12-20T07:12:55.854181Z",
     "iopub.status.busy": "2023-12-20T07:12:55.854181Z",
     "iopub.status.idle": "2023-12-20T07:12:55.907489Z",
     "shell.execute_reply": "2023-12-20T07:12:55.907489Z",
     "shell.execute_reply.started": "2023-12-20T07:12:55.854181Z"
    }
   },
   "outputs": [
    {
     "name": "stdout",
     "output_type": "stream",
     "text": [
      "<class 'pandas.core.frame.DataFrame'>\n",
      "RangeIndex: 37980 entries, 0 to 37979\n",
      "Data columns (total 21 columns):\n",
      " #   Column            Non-Null Count  Dtype \n",
      "---  ------            --------------  ----- \n",
      " 0   accuracy          37980 non-null  int64 \n",
      " 1   ads_id            37980 non-null  int64 \n",
      " 2   audio_id          37980 non-null  int64 \n",
      " 3   birth             37980 non-null  object\n",
      " 4   category          37980 non-null  int64 \n",
      " 5   description       37980 non-null  object\n",
      " 6   difficulty        37980 non-null  int64 \n",
      " 7   end_at            37980 non-null  object\n",
      " 8   gender            37980 non-null  int64 \n",
      " 9   is_passed         37980 non-null  int64 \n",
      " 10  minimum_accuracy  37980 non-null  int64 \n",
      " 11  participated_at   37980 non-null  int64 \n",
      " 12  participation_id  37980 non-null  object\n",
      " 13  recorded_text     37980 non-null  object\n",
      " 14  script            37980 non-null  object\n",
      " 15  signed_up_at      37980 non-null  object\n",
      " 16  start_at          37980 non-null  object\n",
      " 17  title             37980 non-null  object\n",
      " 18  type              37980 non-null  int64 \n",
      " 19  user_id           37980 non-null  int64 \n",
      " 20  withdrawn_at      37980 non-null  object\n",
      "dtypes: int64(11), object(10)\n",
      "memory usage: 6.1+ MB\n"
     ]
    }
   ],
   "source": [
    "val_memor_august_df.info()"
   ]
  },
  {
   "cell_type": "code",
   "execution_count": null,
   "id": "ae6ed126-a4ad-4aea-8fd2-05704b0b3bc4",
   "metadata": {},
   "outputs": [],
   "source": []
  },
  {
   "cell_type": "code",
   "execution_count": 16,
   "id": "07461002-f2be-44ef-86ed-1aca5234c2c9",
   "metadata": {
    "execution": {
     "iopub.execute_input": "2023-12-20T07:12:55.909488Z",
     "iopub.status.busy": "2023-12-20T07:12:55.908488Z",
     "iopub.status.idle": "2023-12-20T07:12:55.950975Z",
     "shell.execute_reply": "2023-12-20T07:12:55.950975Z",
     "shell.execute_reply.started": "2023-12-20T07:12:55.909488Z"
    }
   },
   "outputs": [
    {
     "name": "stdout",
     "output_type": "stream",
     "text": [
      "<class 'pandas.core.frame.DataFrame'>\n",
      "RangeIndex: 17922 entries, 0 to 17921\n",
      "Data columns (total 21 columns):\n",
      " #   Column            Non-Null Count  Dtype \n",
      "---  ------            --------------  ----- \n",
      " 0   accuracy          17922 non-null  int64 \n",
      " 1   ads_id            17922 non-null  int64 \n",
      " 2   audio_id          17922 non-null  int64 \n",
      " 3   birth             17922 non-null  object\n",
      " 4   category          17922 non-null  int64 \n",
      " 5   description       17922 non-null  object\n",
      " 6   difficulty        17922 non-null  int64 \n",
      " 7   end_at            17922 non-null  object\n",
      " 8   gender            17922 non-null  int64 \n",
      " 9   is_passed         17922 non-null  int64 \n",
      " 10  minimum_accuracy  17922 non-null  int64 \n",
      " 11  participated_at   17922 non-null  int64 \n",
      " 12  participation_id  17922 non-null  object\n",
      " 13  recorded_text     17922 non-null  object\n",
      " 14  script            17922 non-null  object\n",
      " 15  signed_up_at      17922 non-null  object\n",
      " 16  start_at          17922 non-null  object\n",
      " 17  title             17922 non-null  object\n",
      " 18  type              17922 non-null  int64 \n",
      " 19  user_id           17922 non-null  int64 \n",
      " 20  withdrawn_at      17922 non-null  object\n",
      "dtypes: int64(11), object(10)\n",
      "memory usage: 2.9+ MB\n"
     ]
    }
   ],
   "source": [
    "train_point_september_df.info()"
   ]
  },
  {
   "cell_type": "code",
   "execution_count": 27,
   "id": "9c47957e-2968-41f3-bd70-93cd4278ab59",
   "metadata": {
    "execution": {
     "iopub.execute_input": "2023-12-20T22:27:44.828780Z",
     "iopub.status.busy": "2023-12-20T22:27:44.828780Z",
     "iopub.status.idle": "2023-12-20T22:27:44.842690Z",
     "shell.execute_reply": "2023-12-20T22:27:44.842690Z",
     "shell.execute_reply.started": "2023-12-20T22:27:44.828780Z"
    }
   },
   "outputs": [
    {
     "name": "stdout",
     "output_type": "stream",
     "text": [
      "고유한 user_id의 개수: 845\n"
     ]
    }
   ],
   "source": [
    "unique_user_count = train_point_september_df['user_id'].nunique()\n",
    "print(\"고유한 user_id의 개수:\", unique_user_count)"
   ]
  },
  {
   "cell_type": "code",
   "execution_count": 17,
   "id": "c8ba069b-172e-45ab-802c-d2547dd890d5",
   "metadata": {
    "execution": {
     "iopub.execute_input": "2023-12-20T07:12:55.952975Z",
     "iopub.status.busy": "2023-12-20T07:12:55.951975Z",
     "iopub.status.idle": "2023-12-20T07:12:56.205138Z",
     "shell.execute_reply": "2023-12-20T07:12:56.205138Z",
     "shell.execute_reply.started": "2023-12-20T07:12:55.952975Z"
    }
   },
   "outputs": [
    {
     "name": "stdout",
     "output_type": "stream",
     "text": [
      "<class 'pandas.core.frame.DataFrame'>\n",
      "RangeIndex: 292226 entries, 0 to 292225\n",
      "Data columns (total 21 columns):\n",
      " #   Column            Non-Null Count   Dtype \n",
      "---  ------            --------------   ----- \n",
      " 0   accuracy          292226 non-null  int64 \n",
      " 1   ads_id            292226 non-null  int64 \n",
      " 2   audio_id          292226 non-null  int64 \n",
      " 3   birth             292226 non-null  object\n",
      " 4   category          292226 non-null  int64 \n",
      " 5   description       292226 non-null  object\n",
      " 6   difficulty        292226 non-null  int64 \n",
      " 7   end_at            292226 non-null  object\n",
      " 8   gender            292226 non-null  int64 \n",
      " 9   is_passed         292226 non-null  int64 \n",
      " 10  minimum_accuracy  292226 non-null  int64 \n",
      " 11  participated_at   292226 non-null  int64 \n",
      " 12  participation_id  292226 non-null  object\n",
      " 13  recorded_text     292226 non-null  object\n",
      " 14  script            292226 non-null  object\n",
      " 15  signed_up_at      292226 non-null  object\n",
      " 16  start_at          292226 non-null  object\n",
      " 17  title             292226 non-null  object\n",
      " 18  type              292226 non-null  int64 \n",
      " 19  user_id           292226 non-null  int64 \n",
      " 20  withdrawn_at      292226 non-null  object\n",
      "dtypes: int64(11), object(10)\n",
      "memory usage: 46.8+ MB\n"
     ]
    }
   ],
   "source": [
    "train_memor_september_df.info()"
   ]
  },
  {
   "cell_type": "code",
   "execution_count": 42,
   "id": "a54b4bdb-cf11-48a4-9d7b-63e1e41330cd",
   "metadata": {
    "execution": {
     "iopub.execute_input": "2023-12-20T22:35:03.923118Z",
     "iopub.status.busy": "2023-12-20T22:35:03.923118Z",
     "iopub.status.idle": "2023-12-20T22:35:03.993477Z",
     "shell.execute_reply": "2023-12-20T22:35:03.993477Z",
     "shell.execute_reply.started": "2023-12-20T22:35:03.923118Z"
    }
   },
   "outputs": [
    {
     "name": "stdout",
     "output_type": "stream",
     "text": [
      "고유한 ads_id의 개수: 4523\n"
     ]
    }
   ],
   "source": [
    "unique_ads = train_memor_september_df['title'].nunique()\n",
    "print(\"고유한 ads_id의 개수:\", unique_ads)"
   ]
  },
  {
   "cell_type": "code",
   "execution_count": 18,
   "id": "c9336ca7-c389-4d31-8f25-875c78f8477c",
   "metadata": {
    "execution": {
     "iopub.execute_input": "2023-12-20T07:12:56.205138Z",
     "iopub.status.busy": "2023-12-20T07:12:56.205138Z",
     "iopub.status.idle": "2023-12-20T07:12:56.220764Z",
     "shell.execute_reply": "2023-12-20T07:12:56.220764Z",
     "shell.execute_reply.started": "2023-12-20T07:12:56.205138Z"
    }
   },
   "outputs": [
    {
     "name": "stdout",
     "output_type": "stream",
     "text": [
      "<class 'pandas.core.frame.DataFrame'>\n",
      "RangeIndex: 4856 entries, 0 to 4855\n",
      "Data columns (total 21 columns):\n",
      " #   Column            Non-Null Count  Dtype \n",
      "---  ------            --------------  ----- \n",
      " 0   accuracy          4856 non-null   int64 \n",
      " 1   ads_id            4856 non-null   int64 \n",
      " 2   audio_id          4856 non-null   int64 \n",
      " 3   birth             4856 non-null   object\n",
      " 4   category          4856 non-null   int64 \n",
      " 5   description       4856 non-null   object\n",
      " 6   difficulty        4856 non-null   int64 \n",
      " 7   end_at            4856 non-null   object\n",
      " 8   gender            4856 non-null   int64 \n",
      " 9   is_passed         4856 non-null   int64 \n",
      " 10  minimum_accuracy  4856 non-null   int64 \n",
      " 11  participated_at   4856 non-null   int64 \n",
      " 12  participation_id  4856 non-null   object\n",
      " 13  recorded_text     4856 non-null   object\n",
      " 14  script            4856 non-null   object\n",
      " 15  signed_up_at      4856 non-null   object\n",
      " 16  start_at          4856 non-null   object\n",
      " 17  title             4856 non-null   object\n",
      " 18  type              4856 non-null   int64 \n",
      " 19  user_id           4856 non-null   int64 \n",
      " 20  withdrawn_at      4856 non-null   object\n",
      "dtypes: int64(11), object(10)\n",
      "memory usage: 796.8+ KB\n"
     ]
    }
   ],
   "source": [
    "val_point_september_df.info()"
   ]
  },
  {
   "cell_type": "code",
   "execution_count": 19,
   "id": "828dd6cc-f8c2-4959-bb7e-5c2c284b714f",
   "metadata": {
    "execution": {
     "iopub.execute_input": "2023-12-20T07:12:56.220764Z",
     "iopub.status.busy": "2023-12-20T07:12:56.220764Z",
     "iopub.status.idle": "2023-12-20T07:12:56.325168Z",
     "shell.execute_reply": "2023-12-20T07:12:56.325168Z",
     "shell.execute_reply.started": "2023-12-20T07:12:56.220764Z"
    }
   },
   "outputs": [
    {
     "name": "stdout",
     "output_type": "stream",
     "text": [
      "<class 'pandas.core.frame.DataFrame'>\n",
      "RangeIndex: 97216 entries, 0 to 97215\n",
      "Data columns (total 21 columns):\n",
      " #   Column            Non-Null Count  Dtype \n",
      "---  ------            --------------  ----- \n",
      " 0   accuracy          97216 non-null  int64 \n",
      " 1   ads_id            97216 non-null  int64 \n",
      " 2   audio_id          97216 non-null  int64 \n",
      " 3   birth             97216 non-null  object\n",
      " 4   category          97216 non-null  int64 \n",
      " 5   description       97216 non-null  object\n",
      " 6   difficulty        97216 non-null  int64 \n",
      " 7   end_at            97216 non-null  object\n",
      " 8   gender            97216 non-null  int64 \n",
      " 9   is_passed         97216 non-null  int64 \n",
      " 10  minimum_accuracy  97216 non-null  int64 \n",
      " 11  participated_at   97216 non-null  int64 \n",
      " 12  participation_id  97216 non-null  object\n",
      " 13  recorded_text     97216 non-null  object\n",
      " 14  script            97216 non-null  object\n",
      " 15  signed_up_at      97216 non-null  object\n",
      " 16  start_at          97216 non-null  object\n",
      " 17  title             97216 non-null  object\n",
      " 18  type              97216 non-null  int64 \n",
      " 19  user_id           97216 non-null  int64 \n",
      " 20  withdrawn_at      97216 non-null  object\n",
      "dtypes: int64(11), object(10)\n",
      "memory usage: 15.6+ MB\n"
     ]
    }
   ],
   "source": [
    "val_memor_september_df.info()"
   ]
  },
  {
   "cell_type": "code",
   "execution_count": null,
   "id": "df6934df-fa94-497e-9a52-df114b615cee",
   "metadata": {},
   "outputs": [],
   "source": []
  },
  {
   "cell_type": "code",
   "execution_count": 20,
   "id": "08632da0-cf07-45e2-a650-2206e28066a2",
   "metadata": {
    "execution": {
     "iopub.execute_input": "2023-12-20T07:12:56.325168Z",
     "iopub.status.busy": "2023-12-20T07:12:56.325168Z",
     "iopub.status.idle": "2023-12-20T07:12:56.360762Z",
     "shell.execute_reply": "2023-12-20T07:12:56.360707Z",
     "shell.execute_reply.started": "2023-12-20T07:12:56.325168Z"
    }
   },
   "outputs": [
    {
     "name": "stdout",
     "output_type": "stream",
     "text": [
      "<class 'pandas.core.frame.DataFrame'>\n",
      "RangeIndex: 16959 entries, 0 to 16958\n",
      "Data columns (total 21 columns):\n",
      " #   Column            Non-Null Count  Dtype  \n",
      "---  ------            --------------  -----  \n",
      " 0   accuracy          16959 non-null  int64  \n",
      " 1   ads_id            16959 non-null  int64  \n",
      " 2   audio_id          16959 non-null  int64  \n",
      " 3   birth             16959 non-null  object \n",
      " 4   category          16959 non-null  int64  \n",
      " 5   description       16959 non-null  object \n",
      " 6   difficulty        16959 non-null  int64  \n",
      " 7   end_at            16959 non-null  object \n",
      " 8   gender            16959 non-null  float64\n",
      " 9   is_passed         16959 non-null  int64  \n",
      " 10  minimum_accuracy  16959 non-null  int64  \n",
      " 11  participated_at   16959 non-null  int64  \n",
      " 12  participation_id  16959 non-null  object \n",
      " 13  recorded_text     16959 non-null  object \n",
      " 14  script            16959 non-null  object \n",
      " 15  signed_up_at      16959 non-null  object \n",
      " 16  start_at          16959 non-null  object \n",
      " 17  title             16959 non-null  object \n",
      " 18  type              16959 non-null  float64\n",
      " 19  user_id           16959 non-null  int64  \n",
      " 20  withdrawn_at      16959 non-null  object \n",
      "dtypes: float64(2), int64(9), object(10)\n",
      "memory usage: 2.7+ MB\n"
     ]
    }
   ],
   "source": [
    "train_point_october_df.info()"
   ]
  },
  {
   "cell_type": "code",
   "execution_count": 25,
   "id": "dcb78860-6b7e-439c-b16b-5fa687e39156",
   "metadata": {
    "execution": {
     "iopub.execute_input": "2023-12-20T22:27:22.726545Z",
     "iopub.status.busy": "2023-12-20T22:27:22.726545Z",
     "iopub.status.idle": "2023-12-20T22:27:22.734545Z",
     "shell.execute_reply": "2023-12-20T22:27:22.734545Z",
     "shell.execute_reply.started": "2023-12-20T22:27:22.726545Z"
    }
   },
   "outputs": [
    {
     "name": "stdout",
     "output_type": "stream",
     "text": [
      "고유한 user_id의 개수: 883\n"
     ]
    }
   ],
   "source": [
    "unique_user_count = train_point_october_df['user_id'].nunique()\n",
    "print(\"고유한 user_id의 개수:\", unique_user_count)"
   ]
  },
  {
   "cell_type": "code",
   "execution_count": 21,
   "id": "dd635b14-6d1d-4939-8197-81f2b7181718",
   "metadata": {
    "execution": {
     "iopub.execute_input": "2023-12-20T07:12:56.361762Z",
     "iopub.status.busy": "2023-12-20T07:12:56.361762Z",
     "iopub.status.idle": "2023-12-20T07:12:56.574714Z",
     "shell.execute_reply": "2023-12-20T07:12:56.574714Z",
     "shell.execute_reply.started": "2023-12-20T07:12:56.361762Z"
    }
   },
   "outputs": [
    {
     "name": "stdout",
     "output_type": "stream",
     "text": [
      "<class 'pandas.core.frame.DataFrame'>\n",
      "RangeIndex: 245307 entries, 0 to 245306\n",
      "Data columns (total 21 columns):\n",
      " #   Column            Non-Null Count   Dtype  \n",
      "---  ------            --------------   -----  \n",
      " 0   accuracy          245307 non-null  int64  \n",
      " 1   ads_id            245307 non-null  int64  \n",
      " 2   audio_id          245307 non-null  int64  \n",
      " 3   birth             245307 non-null  object \n",
      " 4   category          245307 non-null  int64  \n",
      " 5   description       245307 non-null  object \n",
      " 6   difficulty        245307 non-null  int64  \n",
      " 7   end_at            245307 non-null  object \n",
      " 8   gender            245307 non-null  float64\n",
      " 9   is_passed         245307 non-null  int64  \n",
      " 10  minimum_accuracy  245307 non-null  int64  \n",
      " 11  participated_at   245307 non-null  int64  \n",
      " 12  participation_id  245307 non-null  object \n",
      " 13  recorded_text     245307 non-null  object \n",
      " 14  script            245307 non-null  object \n",
      " 15  signed_up_at      245307 non-null  object \n",
      " 16  start_at          245307 non-null  object \n",
      " 17  title             245307 non-null  object \n",
      " 18  type              245307 non-null  float64\n",
      " 19  user_id           245307 non-null  int64  \n",
      " 20  withdrawn_at      245307 non-null  object \n",
      "dtypes: float64(2), int64(9), object(10)\n",
      "memory usage: 39.3+ MB\n"
     ]
    }
   ],
   "source": [
    "train_memor_october_df.info()"
   ]
  },
  {
   "cell_type": "code",
   "execution_count": 43,
   "id": "49a86c89-fa2a-4bb5-b230-fac8da39013a",
   "metadata": {
    "execution": {
     "iopub.execute_input": "2023-12-20T22:35:36.816769Z",
     "iopub.status.busy": "2023-12-20T22:35:36.816769Z",
     "iopub.status.idle": "2023-12-20T22:35:36.870522Z",
     "shell.execute_reply": "2023-12-20T22:35:36.870522Z",
     "shell.execute_reply.started": "2023-12-20T22:35:36.816769Z"
    }
   },
   "outputs": [
    {
     "name": "stdout",
     "output_type": "stream",
     "text": [
      "고유한 ads_id의 개수: 3858\n"
     ]
    }
   ],
   "source": [
    "unique_ads = train_memor_october_df['title'].nunique()\n",
    "print(\"고유한 ads_id의 개수:\", unique_ads)"
   ]
  },
  {
   "cell_type": "code",
   "execution_count": 22,
   "id": "a50649f0-187d-4117-b5ec-af5476120a58",
   "metadata": {
    "execution": {
     "iopub.execute_input": "2023-12-20T07:12:56.574714Z",
     "iopub.status.busy": "2023-12-20T07:12:56.574714Z",
     "iopub.status.idle": "2023-12-20T07:12:56.590341Z",
     "shell.execute_reply": "2023-12-20T07:12:56.590341Z",
     "shell.execute_reply.started": "2023-12-20T07:12:56.574714Z"
    }
   },
   "outputs": [
    {
     "name": "stdout",
     "output_type": "stream",
     "text": [
      "<class 'pandas.core.frame.DataFrame'>\n",
      "RangeIndex: 4369 entries, 0 to 4368\n",
      "Data columns (total 21 columns):\n",
      " #   Column            Non-Null Count  Dtype  \n",
      "---  ------            --------------  -----  \n",
      " 0   accuracy          4369 non-null   int64  \n",
      " 1   ads_id            4369 non-null   int64  \n",
      " 2   audio_id          4369 non-null   int64  \n",
      " 3   birth             4369 non-null   object \n",
      " 4   category          4369 non-null   int64  \n",
      " 5   description       4369 non-null   object \n",
      " 6   difficulty        4369 non-null   int64  \n",
      " 7   end_at            4369 non-null   object \n",
      " 8   gender            4369 non-null   float64\n",
      " 9   is_passed         4369 non-null   int64  \n",
      " 10  minimum_accuracy  4369 non-null   int64  \n",
      " 11  participated_at   4369 non-null   int64  \n",
      " 12  participation_id  4369 non-null   object \n",
      " 13  recorded_text     4369 non-null   object \n",
      " 14  script            4369 non-null   object \n",
      " 15  signed_up_at      4369 non-null   object \n",
      " 16  start_at          4369 non-null   object \n",
      " 17  title             4369 non-null   object \n",
      " 18  type              4369 non-null   float64\n",
      " 19  user_id           4369 non-null   int64  \n",
      " 20  withdrawn_at      4369 non-null   object \n",
      "dtypes: float64(2), int64(9), object(10)\n",
      "memory usage: 716.9+ KB\n"
     ]
    }
   ],
   "source": [
    "val_point_october_df.info()"
   ]
  },
  {
   "cell_type": "code",
   "execution_count": 23,
   "id": "7f01a732-be9f-4779-b78e-898e11e67c3f",
   "metadata": {
    "execution": {
     "iopub.execute_input": "2023-12-20T07:12:56.590341Z",
     "iopub.status.busy": "2023-12-20T07:12:56.590341Z",
     "iopub.status.idle": "2023-12-20T07:12:56.680619Z",
     "shell.execute_reply": "2023-12-20T07:12:56.680619Z",
     "shell.execute_reply.started": "2023-12-20T07:12:56.590341Z"
    }
   },
   "outputs": [
    {
     "name": "stdout",
     "output_type": "stream",
     "text": [
      "<class 'pandas.core.frame.DataFrame'>\n",
      "RangeIndex: 81506 entries, 0 to 81505\n",
      "Data columns (total 21 columns):\n",
      " #   Column            Non-Null Count  Dtype  \n",
      "---  ------            --------------  -----  \n",
      " 0   accuracy          81506 non-null  int64  \n",
      " 1   ads_id            81506 non-null  int64  \n",
      " 2   audio_id          81506 non-null  int64  \n",
      " 3   birth             81506 non-null  object \n",
      " 4   category          81506 non-null  int64  \n",
      " 5   description       81506 non-null  object \n",
      " 6   difficulty        81506 non-null  int64  \n",
      " 7   end_at            81506 non-null  object \n",
      " 8   gender            81506 non-null  float64\n",
      " 9   is_passed         81506 non-null  int64  \n",
      " 10  minimum_accuracy  81506 non-null  int64  \n",
      " 11  participated_at   81506 non-null  int64  \n",
      " 12  participation_id  81506 non-null  object \n",
      " 13  recorded_text     81506 non-null  object \n",
      " 14  script            81506 non-null  object \n",
      " 15  signed_up_at      81506 non-null  object \n",
      " 16  start_at          81506 non-null  object \n",
      " 17  title             81506 non-null  object \n",
      " 18  type              81506 non-null  float64\n",
      " 19  user_id           81506 non-null  int64  \n",
      " 20  withdrawn_at      81506 non-null  object \n",
      "dtypes: float64(2), int64(9), object(10)\n",
      "memory usage: 13.1+ MB\n"
     ]
    }
   ],
   "source": [
    "val_memor_october_df.info()"
   ]
  },
  {
   "cell_type": "code",
   "execution_count": null,
   "id": "32ae52b8-7146-4612-b0c5-2bf693db5783",
   "metadata": {},
   "outputs": [],
   "source": []
  },
  {
   "cell_type": "code",
   "execution_count": null,
   "id": "9653d026-f9ec-42e1-a461-0fc2204504ed",
   "metadata": {},
   "outputs": [],
   "source": []
  },
  {
   "cell_type": "markdown",
   "id": "1d06f125-2525-45af-898c-d12ddb955ba4",
   "metadata": {},
   "source": [
    "# 광고별 음성파일 위치 옮기기"
   ]
  },
  {
   "cell_type": "code",
   "execution_count": 42,
   "id": "ada28cac-feb0-45dd-b535-0d93c70df7cd",
   "metadata": {
    "execution": {
     "iopub.execute_input": "2023-12-20T00:55:50.499886Z",
     "iopub.status.busy": "2023-12-20T00:55:50.499886Z",
     "iopub.status.idle": "2023-12-20T00:55:50.586369Z",
     "shell.execute_reply": "2023-12-20T00:55:50.586369Z",
     "shell.execute_reply.started": "2023-12-20T00:55:50.499886Z"
    },
    "scrolled": true
   },
   "outputs": [
    {
     "name": "stdout",
     "output_type": "stream",
     "text": [
      "<class 'pandas.core.frame.DataFrame'>\n",
      "RangeIndex: 27382 entries, 0 to 27381\n",
      "Data columns (total 21 columns):\n",
      " #   Column            Non-Null Count  Dtype \n",
      "---  ------            --------------  ----- \n",
      " 0   accuracy          27382 non-null  int64 \n",
      " 1   ads_id            27382 non-null  int64 \n",
      " 2   audio_id          27382 non-null  int64 \n",
      " 3   birth             27382 non-null  object\n",
      " 4   category          27382 non-null  int64 \n",
      " 5   description       27382 non-null  object\n",
      " 6   difficulty        27382 non-null  int64 \n",
      " 7   end_at            27382 non-null  object\n",
      " 8   gender            27382 non-null  int64 \n",
      " 9   is_passed         27382 non-null  int64 \n",
      " 10  minimum_accuracy  27382 non-null  int64 \n",
      " 11  participated_at   27382 non-null  int64 \n",
      " 12  participation_id  27382 non-null  object\n",
      " 13  recorded_text     27382 non-null  object\n",
      " 14  script            27382 non-null  object\n",
      " 15  signed_up_at      27382 non-null  object\n",
      " 16  start_at          27382 non-null  object\n",
      " 17  title             27382 non-null  object\n",
      " 18  type              27382 non-null  int64 \n",
      " 19  user_id           27382 non-null  int64 \n",
      " 20  withdrawn_at      27382 non-null  object\n",
      "dtypes: int64(11), object(10)\n",
      "memory usage: 4.4+ MB\n"
     ]
    }
   ],
   "source": [
    "train_memor_july_df.info()"
   ]
  },
  {
   "cell_type": "code",
   "execution_count": 28,
   "id": "7b6ff0e9-6199-427f-9c95-789acb568d78",
   "metadata": {
    "execution": {
     "iopub.execute_input": "2023-12-19T02:38:51.762314Z",
     "iopub.status.busy": "2023-12-19T02:38:51.762314Z",
     "iopub.status.idle": "2023-12-19T02:38:51.781579Z",
     "shell.execute_reply": "2023-12-19T02:38:51.781579Z",
     "shell.execute_reply.started": "2023-12-19T02:38:51.762314Z"
    }
   },
   "outputs": [],
   "source": [
    "# 기본 파일 경로\n",
    "base_current_path = r'D:\\DATA_PREPROCESS\\INTEGRATED_DATASETS\\WORD_SCRIPT'\n",
    "base_new_path = r'D:\\DATA_PREPROCESS\\INTEGRATED_DATASETS\\new_WORD_SCRIPT'\n",
    "fixed_new_path_part = r'\\AAC\\원천데이터'\n",
    "\n",
    "# DataFrame 이름에서 월과 유형을 추출하여 경로를 결정하는 함수\n",
    "def get_paths(df_name):\n",
    "    # 월과 유형 추출\n",
    "    parts = df_name.split('_')\n",
    "    month = parts[2].upper()\n",
    "\n",
    "    after_section_part = 'Validation' if 'val' in df_name else 'Training'\n",
    "\n",
    "    # 현재 파일 경로\n",
    "    current_file_path = os.path.join(base_current_path, month, after_section_part, fixed_new_path_part.lstrip('\\\\'))\n",
    "    # 새 파일 경로\n",
    "    new_file_path = os.path.join(base_new_path, month, after_section_part, fixed_new_path_part.lstrip('\\\\'))\n",
    "\n",
    "    print(f\"current_file_path = {current_file_path}, new_file_path = {new_file_path}\")\n",
    "\n",
    "    return current_file_path, new_file_path"
   ]
  },
  {
   "cell_type": "code",
   "execution_count": 31,
   "id": "b09fd742-9b34-4f2a-b6c1-587215bf662b",
   "metadata": {
    "execution": {
     "iopub.execute_input": "2023-12-19T02:55:39.297736Z",
     "iopub.status.busy": "2023-12-19T02:55:39.297736Z",
     "iopub.status.idle": "2023-12-19T02:55:39.313895Z",
     "shell.execute_reply": "2023-12-19T02:55:39.313895Z",
     "shell.execute_reply.started": "2023-12-19T02:55:39.297736Z"
    }
   },
   "outputs": [],
   "source": [
    "# 광고별 음성 파일 이동 함수\n",
    "def move_files_for_ad(df, ad_id, current_path, new_base_path):\n",
    "    # 필터링하여 광고별 DataFrame 생성\n",
    "    ad_df = df.filter(col('title') == ad_id).select('participation_id', 'user_id')\n",
    "    new_path = os.path.join(new_base_path, ad_id)\n",
    "    if not os.path.exists(new_path):\n",
    "        os.makedirs(new_path)\n",
    "\n",
    "    for row in ad_df.collect():\n",
    "        participation_id = row['participation_id']\n",
    "        user_id = str(row['user_id'])\n",
    "        # 원본 파일 경로에 user_id 폴더 포함\n",
    "        current_file = os.path.join(current_path, user_id, participation_id)\n",
    "        new_file = os.path.join(new_path, participation_id)\n",
    "        if os.path.exists(current_file):\n",
    "            os.rename(current_file, new_file)\n",
    "\n",
    "# 광고별 병렬 파일 이동 함수\n",
    "def move_files_parallel_by_ad(df, df_name, paths_function):\n",
    "    current_path, new_base_path = paths_function(df_name)\n",
    "    ad_ids = [row['title'] for row in df.select('title').distinct().collect()]\n",
    "    \n",
    "    with ThreadPoolExecutor(max_workers=8) as executor:\n",
    "        for ad_id in ad_ids:\n",
    "            executor.submit(move_files_for_ad, df, ad_id, current_path, new_base_path)\n"
   ]
  },
  {
   "cell_type": "code",
   "execution_count": 32,
   "id": "5ccf8072-c9b0-442c-a4a0-0102635a975e",
   "metadata": {
    "execution": {
     "iopub.execute_input": "2023-12-19T02:58:29.532401Z",
     "iopub.status.busy": "2023-12-19T02:58:29.531400Z",
     "iopub.status.idle": "2023-12-19T02:59:03.768727Z",
     "shell.execute_reply": "2023-12-19T02:59:03.768727Z",
     "shell.execute_reply.started": "2023-12-19T02:58:29.532401Z"
    },
    "scrolled": true
   },
   "outputs": [
    {
     "name": "stdout",
     "output_type": "stream",
     "text": [
      "current_file_path = D:\\DATA_PREPROCESS\\INTEGRATED_DATASETS\\WORD_SCRIPT\\JULY\\Training\\AAC\\원천데이터, new_file_path = D:\\DATA_PREPROCESS\\INTEGRATED_DATASETS\\new_WORD_SCRIPT\\JULY\\Training\\AAC\\원천데이터\n"
     ]
    }
   ],
   "source": [
    "move_files_parallel_by_ad(train_memor_july_df, 'train_memor_july_df', get_paths)"
   ]
  },
  {
   "cell_type": "code",
   "execution_count": 33,
   "id": "6a37653a-5a5b-4579-8146-a6285a8ae781",
   "metadata": {
    "execution": {
     "iopub.execute_input": "2023-12-19T03:01:16.222965Z",
     "iopub.status.busy": "2023-12-19T03:01:16.222965Z",
     "iopub.status.idle": "2023-12-19T03:01:38.319023Z",
     "shell.execute_reply": "2023-12-19T03:01:38.319023Z",
     "shell.execute_reply.started": "2023-12-19T03:01:16.222965Z"
    }
   },
   "outputs": [
    {
     "name": "stdout",
     "output_type": "stream",
     "text": [
      "current_file_path = D:\\DATA_PREPROCESS\\INTEGRATED_DATASETS\\WORD_SCRIPT\\JULY\\Validation\\AAC\\원천데이터, new_file_path = D:\\DATA_PREPROCESS\\INTEGRATED_DATASETS\\new_WORD_SCRIPT\\JULY\\Validation\\AAC\\원천데이터\n"
     ]
    }
   ],
   "source": [
    "move_files_parallel_by_ad(val_memor_july_df, 'val_memor_july_df', get_paths)"
   ]
  },
  {
   "cell_type": "code",
   "execution_count": 37,
   "id": "296b4b09-c65a-45fd-a408-3adbb38856e7",
   "metadata": {
    "execution": {
     "iopub.execute_input": "2023-12-19T03:51:58.367376Z",
     "iopub.status.busy": "2023-12-19T03:51:58.367376Z",
     "iopub.status.idle": "2023-12-19T03:57:41.203918Z",
     "shell.execute_reply": "2023-12-19T03:57:41.203918Z",
     "shell.execute_reply.started": "2023-12-19T03:51:58.367376Z"
    }
   },
   "outputs": [
    {
     "name": "stdout",
     "output_type": "stream",
     "text": [
      "current_file_path = D:\\DATA_PREPROCESS\\INTEGRATED_DATASETS\\WORD_SCRIPT\\AUGUST\\Training\\AAC\\원천데이터, new_file_path = D:\\DATA_PREPROCESS\\INTEGRATED_DATASETS\\new_WORD_SCRIPT\\AUGUST\\Training\\AAC\\원천데이터\n",
      "current_file_path = D:\\DATA_PREPROCESS\\INTEGRATED_DATASETS\\WORD_SCRIPT\\AUGUST\\Validation\\AAC\\원천데이터, new_file_path = D:\\DATA_PREPROCESS\\INTEGRATED_DATASETS\\new_WORD_SCRIPT\\AUGUST\\Validation\\AAC\\원천데이터\n"
     ]
    }
   ],
   "source": [
    "move_files_parallel_by_ad(train_memor_august_df, 'train_memor_august_df', get_paths)\n",
    "move_files_parallel_by_ad(val_memor_august_df, 'val_memor_august_df', get_paths)"
   ]
  },
  {
   "cell_type": "code",
   "execution_count": 35,
   "id": "894d5ea4-4928-487f-bb29-3c4f85c53b7e",
   "metadata": {
    "execution": {
     "iopub.execute_input": "2023-12-19T03:07:30.933624Z",
     "iopub.status.busy": "2023-12-19T03:07:30.933624Z",
     "iopub.status.idle": "2023-12-19T03:31:35.494665Z",
     "shell.execute_reply": "2023-12-19T03:31:35.494665Z",
     "shell.execute_reply.started": "2023-12-19T03:07:30.933624Z"
    }
   },
   "outputs": [
    {
     "name": "stdout",
     "output_type": "stream",
     "text": [
      "current_file_path = D:\\DATA_PREPROCESS\\INTEGRATED_DATASETS\\WORD_SCRIPT\\SEPTEMBER\\Training\\AAC\\원천데이터, new_file_path = D:\\DATA_PREPROCESS\\INTEGRATED_DATASETS\\new_WORD_SCRIPT\\SEPTEMBER\\Training\\AAC\\원천데이터\n",
      "current_file_path = D:\\DATA_PREPROCESS\\INTEGRATED_DATASETS\\WORD_SCRIPT\\SEPTEMBER\\Validation\\AAC\\원천데이터, new_file_path = D:\\DATA_PREPROCESS\\INTEGRATED_DATASETS\\new_WORD_SCRIPT\\SEPTEMBER\\Validation\\AAC\\원천데이터\n"
     ]
    }
   ],
   "source": [
    "move_files_parallel_by_ad(train_memor_september_df, 'train_memor_september_df', get_paths)\n",
    "move_files_parallel_by_ad(val_memor_september_df, 'val_memor_september_df', get_paths)"
   ]
  },
  {
   "cell_type": "code",
   "execution_count": 36,
   "id": "de54cfd0-fbb7-4fd8-8140-4bce56c17204",
   "metadata": {
    "execution": {
     "iopub.execute_input": "2023-12-19T03:31:35.494665Z",
     "iopub.status.busy": "2023-12-19T03:31:35.494665Z",
     "iopub.status.idle": "2023-12-19T03:50:58.362654Z",
     "shell.execute_reply": "2023-12-19T03:50:58.362654Z",
     "shell.execute_reply.started": "2023-12-19T03:31:35.494665Z"
    }
   },
   "outputs": [
    {
     "name": "stdout",
     "output_type": "stream",
     "text": [
      "current_file_path = D:\\DATA_PREPROCESS\\INTEGRATED_DATASETS\\WORD_SCRIPT\\OCTOBER\\Training\\AAC\\원천데이터, new_file_path = D:\\DATA_PREPROCESS\\INTEGRATED_DATASETS\\new_WORD_SCRIPT\\OCTOBER\\Training\\AAC\\원천데이터\n",
      "current_file_path = D:\\DATA_PREPROCESS\\INTEGRATED_DATASETS\\WORD_SCRIPT\\OCTOBER\\Validation\\AAC\\원천데이터, new_file_path = D:\\DATA_PREPROCESS\\INTEGRATED_DATASETS\\new_WORD_SCRIPT\\OCTOBER\\Validation\\AAC\\원천데이터\n"
     ]
    }
   ],
   "source": [
    "move_files_parallel_by_ad(train_memor_october_df, 'train_memor_october_df', get_paths)\n",
    "move_files_parallel_by_ad(val_memor_october_df, 'val_memor_october_df', get_paths)"
   ]
  },
  {
   "cell_type": "markdown",
   "id": "84b0bc15-5632-41ff-b990-c98c6533ec6b",
   "metadata": {},
   "source": [
    "## 광고별 메타데이터 JSON 저장"
   ]
  },
  {
   "cell_type": "code",
   "execution_count": 40,
   "id": "3bf7a9bc-648c-4a45-9491-704e859916e4",
   "metadata": {
    "execution": {
     "iopub.execute_input": "2023-12-19T05:08:42.330852Z",
     "iopub.status.busy": "2023-12-19T05:08:42.330852Z",
     "iopub.status.idle": "2023-12-19T05:08:58.840310Z",
     "shell.execute_reply": "2023-12-19T05:08:58.840310Z",
     "shell.execute_reply.started": "2023-12-19T05:08:42.330852Z"
    }
   },
   "outputs": [],
   "source": [
    "# pandas df 기준\n",
    "\n",
    "# 경로 설정을 위한 매핑\n",
    "path_mapping = {\n",
    "    \n",
    "    'train_memor_july_df': r'D:\\DATA_PREPROCESS\\INTEGRATED_DATASETS\\new_WORD_SCRIPT\\JULY\\Training\\AAC\\라벨링데이터',\n",
    "    # 'july_val_min_pd_df': r'D:\\DATA_PREPROCESS\\INTEGRATED_DATASETS\\MINUTE_SCRIPT\\JULY\\Validation\\AAC\\라벨링데이터',\n",
    "    'val_memor_july_df': r'D:\\DATA_PREPROCESS\\INTEGRATED_DATASETS\\new_WORD_SCRIPT\\JULY\\Validation\\AAC\\라벨링데이터',\n",
    "    # 'august_train_min_pd_df': r'D:\\DATA_PREPROCESS\\INTEGRATED_DATASETS\\MINUTE_SCRIPT\\AUGUST\\Training\\AAC\\라벨링데이터',\n",
    "    'train_memor_august_df': r'D:\\DATA_PREPROCESS\\INTEGRATED_DATASETS\\new_WORD_SCRIPT\\AUGUST\\Training\\AAC\\라벨링데이터',\n",
    "    # 'august_val_min_pd_df': r'D:\\DATA_PREPROCESS\\INTEGRATED_DATASETS\\MINUTE_SCRIPT\\AUGUST\\Validation\\AAC\\라벨링데이터',\n",
    "    'val_memor_august_df': r'D:\\DATA_PREPROCESS\\INTEGRATED_DATASETS\\new_WORD_SCRIPT\\AUGUST\\Validation\\AAC\\라벨링데이터',\n",
    "    # 'september_train_min_pd_df': r'D:\\DATA_PREPROCESS\\INTEGRATED_DATASETS\\MINUTE_SCRIPT\\SEPTEMBER\\Training\\AAC\\라벨링데이터',\n",
    "    'train_memor_september_df': r'D:\\DATA_PREPROCESS\\INTEGRATED_DATASETS\\new_WORD_SCRIPT\\SEPTEMBER\\Training\\AAC\\라벨링데이터',\n",
    "    # 'september_val_min_pd_df': r'D:\\DATA_PREPROCESS\\INTEGRATED_DATASETS\\MINUTE_SCRIPT\\SEPTEMBER\\Validation\\AAC\\라벨링데이터',\n",
    "    'val_memor_september_df': r'D:\\DATA_PREPROCESS\\INTEGRATED_DATASETS\\new_WORD_SCRIPT\\SEPTEMBER\\Validation\\AAC\\라벨링데이터',\n",
    "    # 'october_train_min_pd_df': r'D:\\DATA_PREPROCESS\\INTEGRATED_DATASETS\\MINUTE_SCRIPT\\OCTOBER\\Training\\AAC\\라벨링데이터',\n",
    "    'train_memor_october_df': r'D:\\DATA_PREPROCESS\\INTEGRATED_DATASETS\\new_WORD_SCRIPT\\OCTOBER\\Training\\AAC\\라벨링데이터',\n",
    "    # 'october_val_min_pd_df': r'D:\\DATA_PREPROCESS\\INTEGRATED_DATASETS\\MINUTE_SCRIPT\\OCTOBER\\Validation\\AAC\\라벨링데이터',\n",
    "    'val_memor_october_df': r'D:\\DATA_PREPROCESS\\INTEGRATED_DATASETS\\new_WORD_SCRIPT\\OCTOBER\\Validation\\AAC\\라벨링데이터'\n",
    "}\n",
    "\n",
    "# DataFrame 이름과 객체를 튜플로 매핑\n",
    "df_tuples = [\n",
    "    # ('july_train_min_pd_df', july_train_min_pd_df),\n",
    "    ('train_memor_july_df', train_memor_july_df),\n",
    "    # ('july_val_min_pd_df', july_val_min_pd_df),\n",
    "    ('val_memor_july_df', val_memor_july_df),\n",
    "    # ('august_train_min_pd_df', august_train_min_pd_df),\n",
    "    ('train_memor_august_df', train_memor_august_df),\n",
    "    # ('august_val_min_pd_df', august_val_min_pd_df),\n",
    "    ('val_memor_august_df', val_memor_august_df),\n",
    "    # ('september_train_min_pd_df', september_train_min_pd_df),\n",
    "    ('train_memor_september_df', train_memor_september_df),\n",
    "    # ('september_val_min_pd_df', september_val_min_pd_df),\n",
    "    ('val_memor_september_df', val_memor_september_df),\n",
    "    # ('october_train_min_pd_df', october_train_min_pd_df),\n",
    "    ('train_memor_october_df', train_memor_october_df),\n",
    "    # ('october_val_min_pd_df', october_val_min_pd_df),\n",
    "    ('val_memor_october_df', val_memor_october_df)\n",
    "]\n",
    "\n",
    "# 각 DataFrame에 대해 반복하며 유저별로 JSON 파일로 저장\n",
    "for df_name, df in df_tuples:\n",
    "    # 해당 DataFrame의 경로 가져오기\n",
    "    base_path = path_mapping[df_name]\n",
    "\n",
    "    # 광고별로 그룹화\n",
    "    grouped = df.groupby('title')\n",
    "\n",
    "    # 각 광고에 대해 반복\n",
    "    for ad_name, group in grouped:\n",
    "        # 저장할 파일 경로 설정\n",
    "        file_path = os.path.join(base_path, f'{ad_name}.json')\n",
    "\n",
    "        # 데이터를 JSON 형태로 변환하여 파일에 저장\n",
    "        group.to_json(file_path, orient='records', force_ascii=False)"
   ]
  },
  {
   "cell_type": "code",
   "execution_count": null,
   "id": "e31523e1-c029-4335-a76d-23e7cfb9b32f",
   "metadata": {},
   "outputs": [],
   "source": []
  },
  {
   "cell_type": "code",
   "execution_count": null,
   "id": "ace5fb6a-44a4-42e6-bdc1-eb0cb0472ab2",
   "metadata": {},
   "outputs": [],
   "source": []
  },
  {
   "cell_type": "markdown",
   "id": "9f4629d8-62cc-41dc-a954-811fb4c8dade",
   "metadata": {
    "jp-MarkdownHeadingCollapsed": true
   },
   "source": [
    "# 불러온 데이터 확인"
   ]
  },
  {
   "cell_type": "code",
   "execution_count": 4,
   "id": "08615884-62ef-4d7f-bc6f-9f252fcaf9a0",
   "metadata": {
    "execution": {
     "iopub.execute_input": "2023-12-07T03:29:54.175823Z",
     "iopub.status.busy": "2023-12-07T03:29:54.175823Z",
     "iopub.status.idle": "2023-12-07T03:29:54.795641Z",
     "shell.execute_reply": "2023-12-07T03:29:54.795641Z",
     "shell.execute_reply.started": "2023-12-07T03:29:54.175823Z"
    }
   },
   "outputs": [
    {
     "name": "stdout",
     "output_type": "stream",
     "text": [
      "root\n",
      " |-- accuracy: long (nullable = true)\n",
      " |-- ads_id: long (nullable = true)\n",
      " |-- audio_id: long (nullable = true)\n",
      " |-- birth: string (nullable = true)\n",
      " |-- category: long (nullable = true)\n",
      " |-- description: string (nullable = true)\n",
      " |-- difficulty: long (nullable = true)\n",
      " |-- end_at: string (nullable = true)\n",
      " |-- gender: long (nullable = true)\n",
      " |-- is_passed: long (nullable = true)\n",
      " |-- minimum_accuracy: long (nullable = true)\n",
      " |-- participated_at: string (nullable = true)\n",
      " |-- participation_id: string (nullable = true)\n",
      " |-- recorded_text: string (nullable = true)\n",
      " |-- script: string (nullable = true)\n",
      " |-- signed_up_at: string (nullable = true)\n",
      " |-- start_at: string (nullable = true)\n",
      " |-- title: string (nullable = true)\n",
      " |-- type: long (nullable = true)\n",
      " |-- user_id: long (nullable = true)\n",
      " |-- withdrawn_at: string (nullable = true)\n",
      "\n"
     ]
    },
    {
     "data": {
      "text/plain": [
       "113714"
      ]
     },
     "execution_count": 4,
     "metadata": {},
     "output_type": "execute_result"
    }
   ],
   "source": [
    "point_df.printSchema()\n",
    "point_df.count()"
   ]
  },
  {
   "cell_type": "code",
   "execution_count": 10,
   "id": "4dbe16e2-9135-4e96-af8d-8c7aa6f491a4",
   "metadata": {
    "execution": {
     "iopub.execute_input": "2023-12-06T07:36:23.204927Z",
     "iopub.status.busy": "2023-12-06T07:36:23.204927Z",
     "iopub.status.idle": "2023-12-06T07:36:23.342830Z",
     "shell.execute_reply": "2023-12-06T07:36:23.341831Z",
     "shell.execute_reply.started": "2023-12-06T07:36:23.204927Z"
    }
   },
   "outputs": [
    {
     "name": "stdout",
     "output_type": "stream",
     "text": [
      "+-----------------------------+\n",
      "|participated_at              |\n",
      "+-----------------------------+\n",
      "|2023-07-01T00:20:09.781+09:00|\n",
      "|2023-07-01T00:37:11.074+09:00|\n",
      "|2023-07-01T02:46:50.785+09:00|\n",
      "|2023-07-01T04:19:43.956+09:00|\n",
      "|2023-07-01T04:22:53.259+09:00|\n",
      "|2023-07-01T05:44:08.982+09:00|\n",
      "|2023-07-01T05:48:20.800+09:00|\n",
      "|2023-07-01T10:42:18.906+09:00|\n",
      "|2023-07-01T10:44:45.943+09:00|\n",
      "|2023-07-01T16:27:26.334+09:00|\n",
      "|2023-07-01T20:21:43.456+09:00|\n",
      "|2023-07-01T22:59:17.667+09:00|\n",
      "|2023-07-01T23:19:07.386+09:00|\n",
      "|2023-07-01T23:22:06.089+09:00|\n",
      "|2023-07-01T23:59:41.286+09:00|\n",
      "|2023-07-02T01:17:27.976+09:00|\n",
      "|2023-07-02T13:26:21.097+09:00|\n",
      "|2023-07-02T13:31:01.787+09:00|\n",
      "|2023-07-02T13:45:22.848+09:00|\n",
      "|2023-07-02T15:18:30.472+09:00|\n",
      "+-----------------------------+\n",
      "only showing top 20 rows\n",
      "\n"
     ]
    }
   ],
   "source": [
    "point_df.select(\"participated_at\").show(truncate=False)"
   ]
  },
  {
   "cell_type": "code",
   "execution_count": 30,
   "id": "eee8be9b-1f8c-4da5-acec-dcb1ce8c2104",
   "metadata": {
    "execution": {
     "iopub.execute_input": "2023-12-06T09:54:25.445011Z",
     "iopub.status.busy": "2023-12-06T09:54:25.445011Z",
     "iopub.status.idle": "2023-12-06T09:54:25.568044Z",
     "shell.execute_reply": "2023-12-06T09:54:25.567046Z",
     "shell.execute_reply.started": "2023-12-06T09:54:25.445011Z"
    },
    "scrolled": true
   },
   "outputs": [
    {
     "name": "stdout",
     "output_type": "stream",
     "text": [
      "+--------+------+--------+----------+--------+-----------+----------+--------------------+------+---------+----------------+--------------------+-------------------+----------------------------------+----------------------------------+--------------------+--------------------+------------------------------+----+-------------------+--------------------+\n",
      "|accuracy|ads_id|audio_id|     birth|category|description|difficulty|              end_at|gender|is_passed|minimum_accuracy|     participated_at|   participation_id|                     recorded_text|                            script|        signed_up_at|            start_at|                         title|type|            user_id|        withdrawn_at|\n",
      "+--------+------+--------+----------+--------+-----------+----------+--------------------+------+---------+----------------+--------------------+-------------------+----------------------------------+----------------------------------+--------------------+--------------------+------------------------------+----+-------------------+--------------------+\n",
      "|      94|   581|       0|1999-03-07|       0|          1|         0|2023-07-12T23:59:...|     1|        1|              80|2023-07-01T00:20:...|2023070100200977800|아이들의 교정은 부정교합의 발현...|아이들의 교정은 부정교합의 발현...|2023-02-16T16:31:...|2023-06-14T17:30:...|[치아 교정] 우리 아이 교정 ...|   2|2023021616312916900|                    |\n",
      "|      88|   581|       0|2000-05-09|       0|          1|         0|2023-07-12T23:59:...|     1|        1|              80|2023-07-01T00:37:...|2023070100371107300|아이들의 교정으로 부정교합의 발...|아이들의 교정은 부정교합의 발현...|2023-01-25T21:46:...|2023-06-14T17:30:...|[치아 교정] 우리 아이 교정 ...|   2|2023012521465950300|                    |\n",
      "|      97|   581|       0|1988-10-02|       0|          1|         0|2023-07-12T23:59:...|     1|        1|              80|2023-07-01T02:46:...|2023070102465078500|아이들의 교정 부정교합의 발현을...|아이들의 교정은 부정교합의 발현...|2023-06-30T15:24:...|2023-06-14T17:30:...|[치아 교정] 우리 아이 교정 ...|   2|2023063015240958800|2023-10-12 14:25:...|\n",
      "|      93|   581|       0|2003-08-25|       0|          1|         0|2023-07-12T23:59:...|     1|        1|              80|2023-07-01T04:19:...|2023070104194395600|아이들의 교정 부정교합의 발현을...|아이들의 교정은 부정교합의 발현...|2023-06-29T12:54:...|2023-06-14T17:30:...|[치아 교정] 우리 아이 교정 ...|   2|2023062912544125600|                    |\n",
      "|      95|   581|       0|2003-01-12|       0|          1|         0|2023-07-12T23:59:...|     1|        1|              80|2023-07-01T04:22:...|2023070104225325900|아이들의 교정 부정교합의 발현을...|아이들의 교정은 부정교합의 발현...|2023-06-29T20:00:...|2023-06-14T17:30:...|[치아 교정] 우리 아이 교정 ...|   2|2023062920003697000|                    |\n",
      "|      94|   581|       0|1993-07-04|       0|          1|         0|2023-07-12T23:59:...|     1|        1|              80|2023-07-01T05:44:...|2023070105440898000|아이들의 교정 부정교합의 발현을...|아이들의 교정은 부정교합의 발현...|2023-01-11T19:34:...|2023-06-14T17:30:...|[치아 교정] 우리 아이 교정 ...|   2|2023011119340681300|                    |\n",
      "|      95|   581|       0|1980-03-18|       0|          1|         0|2023-07-12T23:59:...|     1|        1|              80|2023-07-01T05:48:...|2023070105482079800|아이들의 교정은 부정교합의 발현...|아이들의 교정은 부정교합의 발현...|2023-06-11T06:42:...|2023-06-14T17:30:...|[치아 교정] 우리 아이 교정 ...|   2|2023061106423866400|                    |\n",
      "|      97|   581|       0|1983-09-29|       0|          1|         0|2023-07-12T23:59:...|     1|        1|              80|2023-07-01T10:42:...|2023070110421890600|아이들의 교정은 부정교합의 발현...|아이들의 교정은 부정교합의 발현...|2023-06-30T14:44:...|2023-06-14T17:30:...|[치아 교정] 우리 아이 교정 ...|   2|2023063014442379400|                    |\n",
      "|      96|   581|       0|1985-12-06|       0|          1|         0|2023-07-12T23:59:...|     1|        1|              80|2023-07-01T10:44:...|2023070110444594200|아이들의 교정은 부정교합의 발현...|아이들의 교정은 부정교합의 발현...|2023-06-30T22:19:...|2023-06-14T17:30:...|[치아 교정] 우리 아이 교정 ...|   2|2023063022195378800|                    |\n",
      "|      97|   581|       0|1995-07-27|       0|          1|         0|2023-07-12T23:59:...|     1|        1|              80|2023-07-01T16:27:...|2023070116272633300|아이들 교정은 부정교합의 발현을...|아이들의 교정은 부정교합의 발현...|2023-06-20T19:43:...|2023-06-14T17:30:...|[치아 교정] 우리 아이 교정 ...|   2|2023062019432166900|                    |\n",
      "|      94|   581|       0|1900-01-01|       0|          1|         0|2023-07-12T23:59:...|     1|        1|              80|2023-07-01T20:21:...|2023070120214345500|아이들의 교정은 부정교합의 발현...|아이들의 교정은 부정교합의 발현...|2023-06-29T00:44:...|2023-06-14T17:30:...|[치아 교정] 우리 아이 교정 ...|   2|2023062900440776900|                    |\n",
      "|      97|   581|       0|1987-06-22|       0|          1|         0|2023-07-12T23:59:...|     1|        1|              80|2023-07-01T22:59:...|2023070122591766500|아이들의 교정은 부정교합의 발현...|아이들의 교정은 부정교합의 발현...|2023-06-20T18:07:...|2023-06-14T17:30:...|[치아 교정] 우리 아이 교정 ...|   2|2023062018073587100|                    |\n",
      "|      92|   581|       0|1972-03-25|       0|          1|         0|2023-07-12T23:59:...|     1|        1|              80|2023-07-01T23:19:...|2023070123190738400|아이들의 규정은 부정교합의 발현...|아이들의 교정은 부정교합의 발현...|2023-06-28T16:01:...|2023-06-14T17:30:...|[치아 교정] 우리 아이 교정 ...|   2|2023062816012956900|                    |\n",
      "|      97|   581|       0|2001-10-22|       0|          1|         0|2023-07-12T23:59:...|     1|        1|              80|2023-07-01T23:22:...|2023070123220608600|아이들의 교정은 부정교합의 발현...|아이들의 교정은 부정교합의 발현...|2023-06-25T15:34:...|2023-06-14T17:30:...|[치아 교정] 우리 아이 교정 ...|   2|2023062515343592000|                    |\n",
      "|      92|   581|       0|1980-05-23|       0|          1|         0|2023-07-12T23:59:...|     1|        1|              80|2023-07-01T23:59:...|2023070123594128500| 교장은 부정교합의 발현에 미리 ...|아이들의 교정은 부정교합의 발현...|2023-03-23T07:44:...|2023-06-14T17:30:...|[치아 교정] 우리 아이 교정 ...|   2|2023032307445426400|                    |\n",
      "|      97|   581|       0|1992-08-01|       0|          1|         0|2023-07-12T23:59:...|     1|        1|              80|2023-07-02T01:17:...|2023070201172797400|아이들의 교정은 부정교합의 발현...|아이들의 교정은 부정교합의 발현...|2023-07-01T07:46:...|2023-06-14T17:30:...|[치아 교정] 우리 아이 교정 ...|   2|2023070107463037700|                    |\n",
      "|      97|   581|       0|1990-08-25|       0|          1|         0|2023-07-12T23:59:...|     1|        1|              80|2023-07-02T13:26:...|2023070213262109500|아이들의 교정은 부정교합의 발현...|아이들의 교정은 부정교합의 발현...|2023-05-09T08:11:...|2023-06-14T17:30:...|[치아 교정] 우리 아이 교정 ...|   2|2023050908115708200|                    |\n",
      "|      97|   581|       0|1979-05-12|       0|          1|         0|2023-07-12T23:59:...|     0|        1|              80|2023-07-02T13:31:...|2023070213310178600|아이들의 교정은 부정교합의 발견...|아이들의 교정은 부정교합의 발현...|2023-04-06T00:42:...|2023-06-14T17:30:...|[치아 교정] 우리 아이 교정 ...|   2|2023040600425356400|                    |\n",
      "|      94|   581|       0|1994-01-25|       0|          1|         0|2023-07-12T23:59:...|     1|        1|              80|2023-07-02T13:45:...|2023070213452284600|아이들의 교정은 부정교합의 발현...|아이들의 교정은 부정교합의 발현...|2023-05-04T23:29:...|2023-06-14T17:30:...|[치아 교정] 우리 아이 교정 ...|   2|2023050423294924100|                    |\n",
      "|      96|   581|       0|1988-04-15|       0|          1|         0|2023-07-12T23:59:...|     1|        1|              80|2023-07-02T15:18:...|2023070215183047200|아이들의 교정은 부정교합의 발현...|아이들의 교정은 부정교합의 발현...|2023-07-01T22:30:...|2023-06-14T17:30:...|[치아 교정] 우리 아이 교정 ...|   2|2023070122304724000|                    |\n",
      "+--------+------+--------+----------+--------+-----------+----------+--------------------+------+---------+----------------+--------------------+-------------------+----------------------------------+----------------------------------+--------------------+--------------------+------------------------------+----+-------------------+--------------------+\n",
      "only showing top 20 rows\n",
      "\n"
     ]
    }
   ],
   "source": [
    "point_df.show()"
   ]
  },
  {
   "cell_type": "code",
   "execution_count": 14,
   "id": "692efd22-df99-49db-8d5e-92482a134652",
   "metadata": {
    "execution": {
     "iopub.execute_input": "2023-12-06T07:57:15.836645Z",
     "iopub.status.busy": "2023-12-06T07:57:15.836645Z",
     "iopub.status.idle": "2023-12-06T07:57:16.986774Z",
     "shell.execute_reply": "2023-12-06T07:57:16.986774Z",
     "shell.execute_reply.started": "2023-12-06T07:57:15.836645Z"
    }
   },
   "outputs": [
    {
     "name": "stdout",
     "output_type": "stream",
     "text": [
      "root\n",
      " |-- accuracy: long (nullable = true)\n",
      " |-- ads_id: long (nullable = true)\n",
      " |-- audio_id: long (nullable = true)\n",
      " |-- birth: string (nullable = true)\n",
      " |-- category: long (nullable = true)\n",
      " |-- description: string (nullable = true)\n",
      " |-- difficulty: long (nullable = true)\n",
      " |-- end_at: string (nullable = true)\n",
      " |-- gender: long (nullable = true)\n",
      " |-- is_passed: long (nullable = true)\n",
      " |-- minimum_accuracy: long (nullable = true)\n",
      " |-- participated_at: string (nullable = true)\n",
      " |-- participation_id: string (nullable = true)\n",
      " |-- recorded_text: string (nullable = true)\n",
      " |-- script: string (nullable = true)\n",
      " |-- signed_up_at: string (nullable = true)\n",
      " |-- start_at: string (nullable = true)\n",
      " |-- title: string (nullable = true)\n",
      " |-- type: long (nullable = true)\n",
      " |-- user_id: long (nullable = true)\n",
      " |-- withdrawn_at: string (nullable = true)\n",
      "\n"
     ]
    },
    {
     "data": {
      "text/plain": [
       "907406"
      ]
     },
     "execution_count": 14,
     "metadata": {},
     "output_type": "execute_result"
    }
   ],
   "source": [
    "memor_df.printSchema()\n",
    "memor_df.count()"
   ]
  },
  {
   "cell_type": "markdown",
   "id": "eb3e266e-0e49-4731-91c9-81a64fc5411d",
   "metadata": {},
   "source": [
    "# 월별로 라벨링 데이터 분리\n",
    "  \n",
    "포인트벌기, 암기플러스 별 월별 데이터"
   ]
  },
  {
   "cell_type": "code",
   "execution_count": 4,
   "id": "77ad5854-582e-4042-829a-eebd0c108863",
   "metadata": {
    "execution": {
     "iopub.execute_input": "2023-12-14T06:36:11.913573Z",
     "iopub.status.busy": "2023-12-14T06:36:11.913573Z",
     "iopub.status.idle": "2023-12-14T06:36:11.987587Z",
     "shell.execute_reply": "2023-12-14T06:36:11.987587Z",
     "shell.execute_reply.started": "2023-12-14T06:36:11.913573Z"
    }
   },
   "outputs": [],
   "source": [
    "# participated_at 컬럼을 timestamp 타입으로 변환\n",
    "point_df = point_df.withColumn(\"participated_at\", to_timestamp(\"participated_at\"))\n",
    "memor_df = memor_df.withColumn(\"participated_at\", to_timestamp(\"participated_at\"))"
   ]
  },
  {
   "cell_type": "code",
   "execution_count": 5,
   "id": "4d1663ac-2db8-42e5-806f-6f939c11cabe",
   "metadata": {
    "execution": {
     "iopub.execute_input": "2023-12-14T06:36:13.644566Z",
     "iopub.status.busy": "2023-12-14T06:36:13.643566Z",
     "iopub.status.idle": "2023-12-14T06:36:13.724099Z",
     "shell.execute_reply": "2023-12-14T06:36:13.724099Z",
     "shell.execute_reply.started": "2023-12-14T06:36:13.644566Z"
    }
   },
   "outputs": [],
   "source": [
    "# 함수 정의: 주어진 연도와 월에 해당하는 데이터만 필터링하는 함수\n",
    "def filter_df_by_month(df, year_val, month_val):\n",
    "    return df.filter((year(col(\"participated_at\")) == year_val) & (month(col(\"participated_at\")) == month_val))\n",
    "\n",
    "point_july_df = filter_df_by_month(point_df, 2023, 7)\n",
    "point_august_df = filter_df_by_month(point_df, 2023, 8)\n",
    "point_september_df = filter_df_by_month(point_df, 2023, 9)\n",
    "point_october_df = filter_df_by_month(point_df, 2023, 10)\n",
    "\n",
    "memor_july_df = filter_df_by_month(memor_df, 2023, 7)\n",
    "memor_august_df = filter_df_by_month(memor_df, 2023, 8)\n",
    "memor_september_df = filter_df_by_month(memor_df, 2023, 9)\n",
    "memor_october_df = filter_df_by_month(memor_df, 2023, 10)"
   ]
  },
  {
   "cell_type": "code",
   "execution_count": 6,
   "id": "1b81e257-03ea-464e-a36a-606b9eeb5e25",
   "metadata": {
    "execution": {
     "iopub.execute_input": "2023-12-14T06:36:15.348561Z",
     "iopub.status.busy": "2023-12-14T06:36:15.348561Z",
     "iopub.status.idle": "2023-12-14T06:36:24.115224Z",
     "shell.execute_reply": "2023-12-14T06:36:24.115224Z",
     "shell.execute_reply.started": "2023-12-14T06:36:15.348561Z"
    }
   },
   "outputs": [
    {
     "name": "stdout",
     "output_type": "stream",
     "text": [
      "7월 총: 64551 포인트: 27853 + 7월 암기플: 36698 \n",
      "8월 총: 188471 포인트: 35209 + 7월 암기플: 153262 \n",
      "9월 총: 415980 포인트: 25992 + 7월 암기플: 389988 \n",
      "10월 총: 352118 포인트: 24660 + 7월 암기플: 327458 \n"
     ]
    }
   ],
   "source": [
    "print(f\"7월 총: {point_july_df.count() + memor_july_df.count()} 포인트: {point_july_df.count()} + 7월 암기플: {memor_july_df.count()} \")\n",
    "print(f\"8월 총: {point_august_df.count() + memor_august_df.count()} 포인트: {point_august_df.count()} + 7월 암기플: {memor_august_df.count()} \")\n",
    "print(f\"9월 총: {point_september_df.count() + memor_september_df.count()} 포인트: {point_september_df.count()} + 7월 암기플: {memor_september_df.count()} \")\n",
    "print(f\"10월 총: {point_october_df.count() + memor_october_df.count()} 포인트: {point_october_df.count()} + 7월 암기플: {memor_october_df.count()} \")"
   ]
  },
  {
   "cell_type": "markdown",
   "id": "de68ff02-a296-4ba6-ae8f-d6cc1cafbee2",
   "metadata": {},
   "source": [
    "# Training & Validation sets로 데이터셋 분리\n",
    "\n",
    "포인트벌기, 암기플러스 별 > 월별 > Training, Validation 별"
   ]
  },
  {
   "cell_type": "code",
   "execution_count": 9,
   "id": "8797b53d-eb3c-4349-9f9f-254a5b081c8c",
   "metadata": {
    "execution": {
     "iopub.execute_input": "2023-12-14T06:59:37.464277Z",
     "iopub.status.busy": "2023-12-14T06:59:37.464277Z",
     "iopub.status.idle": "2023-12-14T06:59:37.475857Z",
     "shell.execute_reply": "2023-12-14T06:59:37.475857Z",
     "shell.execute_reply.started": "2023-12-14T06:59:37.464277Z"
    }
   },
   "outputs": [],
   "source": [
    "# PySpark DataFrame을 Pandas DataFrame으로 변환하는 함수\n",
    "def split_dataframe(spark_df, test_size=0.25):\n",
    "    # PySpark DataFrame을 Pandas DataFrame으로 변환\n",
    "    pandas_df = spark_df.toPandas()\n",
    "    \n",
    "    # train_test_split 함수를 사용해 데이터 분할\n",
    "    train_df, val_df = train_test_split(pandas_df, test_size=test_size, random_state=42)\n",
    "    \n",
    "    return train_df, val_df"
   ]
  },
  {
   "cell_type": "code",
   "execution_count": 10,
   "id": "73f918d7-7a10-4c33-b6fb-c9cc813ed5f9",
   "metadata": {
    "execution": {
     "iopub.execute_input": "2023-12-14T06:59:38.642564Z",
     "iopub.status.busy": "2023-12-14T06:59:38.642564Z",
     "iopub.status.idle": "2023-12-14T07:00:28.861053Z",
     "shell.execute_reply": "2023-12-14T07:00:28.861053Z",
     "shell.execute_reply.started": "2023-12-14T06:59:38.642564Z"
    }
   },
   "outputs": [
    {
     "name": "stderr",
     "output_type": "stream",
     "text": [
      "C:\\Users\\admin\\anaconda3\\envs\\my_conda_01\\lib\\site-packages\\pyspark\\sql\\pandas\\conversion.py:251: FutureWarning: Passing unit-less datetime64 dtype to .astype is deprecated and will raise in a future version. Pass 'datetime64[ns]' instead\n",
      "  series = series.astype(t, copy=False)\n",
      "C:\\Users\\admin\\anaconda3\\envs\\my_conda_01\\lib\\site-packages\\pyspark\\sql\\pandas\\conversion.py:251: FutureWarning: Passing unit-less datetime64 dtype to .astype is deprecated and will raise in a future version. Pass 'datetime64[ns]' instead\n",
      "  series = series.astype(t, copy=False)\n",
      "C:\\Users\\admin\\anaconda3\\envs\\my_conda_01\\lib\\site-packages\\pyspark\\sql\\pandas\\conversion.py:251: FutureWarning: Passing unit-less datetime64 dtype to .astype is deprecated and will raise in a future version. Pass 'datetime64[ns]' instead\n",
      "  series = series.astype(t, copy=False)\n",
      "C:\\Users\\admin\\anaconda3\\envs\\my_conda_01\\lib\\site-packages\\pyspark\\sql\\pandas\\conversion.py:251: FutureWarning: Passing unit-less datetime64 dtype to .astype is deprecated and will raise in a future version. Pass 'datetime64[ns]' instead\n",
      "  series = series.astype(t, copy=False)\n",
      "C:\\Users\\admin\\anaconda3\\envs\\my_conda_01\\lib\\site-packages\\pyspark\\sql\\pandas\\conversion.py:251: FutureWarning: Passing unit-less datetime64 dtype to .astype is deprecated and will raise in a future version. Pass 'datetime64[ns]' instead\n",
      "  series = series.astype(t, copy=False)\n",
      "C:\\Users\\admin\\anaconda3\\envs\\my_conda_01\\lib\\site-packages\\pyspark\\sql\\pandas\\conversion.py:251: FutureWarning: Passing unit-less datetime64 dtype to .astype is deprecated and will raise in a future version. Pass 'datetime64[ns]' instead\n",
      "  series = series.astype(t, copy=False)\n",
      "C:\\Users\\admin\\anaconda3\\envs\\my_conda_01\\lib\\site-packages\\pyspark\\sql\\pandas\\conversion.py:251: FutureWarning: Passing unit-less datetime64 dtype to .astype is deprecated and will raise in a future version. Pass 'datetime64[ns]' instead\n",
      "  series = series.astype(t, copy=False)\n",
      "C:\\Users\\admin\\anaconda3\\envs\\my_conda_01\\lib\\site-packages\\pyspark\\sql\\pandas\\conversion.py:251: FutureWarning: Passing unit-less datetime64 dtype to .astype is deprecated and will raise in a future version. Pass 'datetime64[ns]' instead\n",
      "  series = series.astype(t, copy=False)\n"
     ]
    }
   ],
   "source": [
    "train_point_july_df, val_point_july_df = split_dataframe(point_july_df)\n",
    "train_point_august_df, val_point_august_df = split_dataframe(point_august_df)\n",
    "train_point_september_df, val_point_september_df = split_dataframe(point_september_df)\n",
    "train_point_october_df, val_point_october_df = split_dataframe(point_october_df)\n",
    "\n",
    "train_memor_july_df, val_memor_july_df = split_dataframe(memor_july_df)\n",
    "train_memor_august_df, val_memor_august_df = split_dataframe(memor_august_df)\n",
    "train_memor_september_df, val_memor_september_df = split_dataframe(memor_september_df)\n",
    "train_memor_october_df, val_memor_october_df = split_dataframe(memor_october_df)"
   ]
  },
  {
   "cell_type": "markdown",
   "id": "ddbbfd05-6d10-4625-ad03-b713028403a4",
   "metadata": {},
   "source": [
    "## 월별 음성의 개수가 5개 이하인 유저의 퍼센트 파악 -> 삭제"
   ]
  },
  {
   "cell_type": "code",
   "execution_count": 13,
   "id": "b5da94d7-baa8-41a4-bf8b-61ebbe51ee6c",
   "metadata": {
    "execution": {
     "iopub.execute_input": "2023-12-14T07:05:20.219534Z",
     "iopub.status.busy": "2023-12-14T07:05:20.219534Z",
     "iopub.status.idle": "2023-12-14T07:05:20.267573Z",
     "shell.execute_reply": "2023-12-14T07:05:20.267573Z",
     "shell.execute_reply.started": "2023-12-14T07:05:20.219534Z"
    }
   },
   "outputs": [
    {
     "name": "stdout",
     "output_type": "stream",
     "text": [
      "5개 이하인 행의 개수: 555, 전체 대비 비율: 2.66%\n",
      "5개 이하인 행의 개수: 573, 전체 대비 비율: 8.23%\n",
      "5개 이하인 행의 개수: 72, 전체 대비 비율: 0.26%\n",
      "5개 이하인 행의 개수: 68, 전체 대비 비율: 0.74%\n",
      "5개 이하인 행의 개수: 755, 전체 대비 비율: 2.86%\n",
      "5개 이하인 행의 개수: 792, 전체 대비 비율: 9.00%\n",
      "5개 이하인 행의 개수: 209, 전체 대비 비율: 0.18%\n",
      "5개 이하인 행의 개수: 175, 전체 대비 비율: 0.46%\n",
      "5개 이하인 행의 개수: 668, 전체 대비 비율: 3.43%\n",
      "5개 이하인 행의 개수: 727, 전체 대비 비율: 11.19%\n",
      "5개 이하인 행의 개수: 123, 전체 대비 비율: 0.04%\n",
      "5개 이하인 행의 개수: 131, 전체 대비 비율: 0.13%\n",
      "5개 이하인 행의 개수: 621, 전체 대비 비율: 3.36%\n",
      "5개 이하인 행의 개수: 758, 전체 대비 비율: 12.30%\n",
      "5개 이하인 행의 개수: 126, 전체 대비 비율: 0.05%\n",
      "5개 이하인 행의 개수: 159, 전체 대비 비율: 0.19%\n"
     ]
    }
   ],
   "source": [
    "# DataFrame 리스트\n",
    "dfs = [\n",
    "    train_point_july_df, val_point_july_df, train_memor_july_df, val_memor_july_df,\n",
    "    train_point_august_df, val_point_august_df, train_memor_august_df, val_memor_august_df,\n",
    "    train_point_september_df, val_point_september_df, train_memor_september_df, val_memor_september_df,\n",
    "    train_point_october_df, val_point_october_df, train_memor_october_df, val_memor_october_df\n",
    "]\n",
    "\n",
    "# 각 Pandas DataFrame에 대해 반복\n",
    "for df in dfs:\n",
    "    # 유저별 음성 파일 개수 계산\n",
    "    count_df = df.groupby(\"user_id\").size().reset_index(name='audio_count')\n",
    "\n",
    "    # 5개 이하인 행 필터링\n",
    "    less_than_five = count_df[count_df['audio_count'] <= 5]\n",
    "\n",
    "    # 필터링된 행의 개수\n",
    "    count_less_than_five = less_than_five.shape[0]\n",
    "\n",
    "    # 전체 행 개수\n",
    "    total_count = df.shape[0]\n",
    "\n",
    "    # 비율 계산\n",
    "    percentage = (count_less_than_five / total_count) * 100\n",
    "\n",
    "    # 결과 출력\n",
    "    print(f\"5개 이하인 행의 개수: {count_less_than_five}, 전체 대비 비율: {percentage:.2f}%\")"
   ]
  },
  {
   "cell_type": "code",
   "execution_count": 14,
   "id": "893bdcd8-1fb5-4cca-965a-92da29f146cd",
   "metadata": {
    "execution": {
     "iopub.execute_input": "2023-12-14T07:18:31.000960Z",
     "iopub.status.busy": "2023-12-14T07:18:31.000960Z",
     "iopub.status.idle": "2023-12-14T07:18:31.556140Z",
     "shell.execute_reply": "2023-12-14T07:18:31.555834Z",
     "shell.execute_reply.started": "2023-12-14T07:18:31.000960Z"
    }
   },
   "outputs": [],
   "source": [
    "# 각 DataFrame에 대해 반복하며 5개 이하인 음성 파일을 가진 유저들의 행을 삭제\n",
    "for df in dfs:\n",
    "    # 유저별 음성 파일 개수 계산\n",
    "    count_df = df.groupby(\"user_id\").size().reset_index(name='audio_count')\n",
    "\n",
    "    # 5개 이하인 유저 ID 필터링\n",
    "    users_less_than_five = count_df[count_df['audio_count'] <= 5]['user_id']\n",
    "\n",
    "    # 해당 유저들의 행을 삭제\n",
    "    df.drop(df[df['user_id'].isin(users_less_than_five)].index, inplace=True)"
   ]
  },
  {
   "cell_type": "markdown",
   "id": "c8f07a57-5194-4d16-becf-287935d97bdc",
   "metadata": {
    "jp-MarkdownHeadingCollapsed": true
   },
   "source": [
    "## 로컬에 저장"
   ]
  },
  {
   "cell_type": "code",
   "execution_count": 15,
   "id": "7e45caff-994d-464b-a86b-37ddc772a0c2",
   "metadata": {
    "execution": {
     "iopub.execute_input": "2023-12-14T07:18:44.568792Z",
     "iopub.status.busy": "2023-12-14T07:18:44.568792Z",
     "iopub.status.idle": "2023-12-14T07:18:44.574976Z",
     "shell.execute_reply": "2023-12-14T07:18:44.574900Z",
     "shell.execute_reply.started": "2023-12-14T07:18:44.568792Z"
    }
   },
   "outputs": [],
   "source": [
    "def create_directory(path):\n",
    "    if not os.path.exists(path):\n",
    "        os.makedirs(path)\n",
    "\n",
    "def save_df_as_json_chunks(df, base_path, chunk_size):\n",
    "    create_directory(os.path.dirname(base_path))  \n",
    "    \n",
    "    # 청크 개수 계산\n",
    "    num_chunks = math.ceil(len(df) / chunk_size)\n",
    "    \n",
    "    # 각 청크를 별도의 파일로 저장\n",
    "    for i in range(num_chunks):\n",
    "        chunk_df = df[i * chunk_size:(i + 1) * chunk_size]\n",
    "        chunk_path = f\"{base_path}_part{i}.json\"\n",
    "        chunk_df.to_json(chunk_path, orient='records', lines=True)"
   ]
  },
  {
   "cell_type": "code",
   "execution_count": 18,
   "id": "668a257f-4a6a-4867-8d99-e631ca38a6cd",
   "metadata": {
    "execution": {
     "iopub.execute_input": "2023-12-06T09:15:35.882013Z",
     "iopub.status.busy": "2023-12-06T09:15:35.881013Z",
     "iopub.status.idle": "2023-12-06T09:15:37.252987Z",
     "shell.execute_reply": "2023-12-06T09:15:37.252987Z",
     "shell.execute_reply.started": "2023-12-06T09:15:35.882013Z"
    }
   },
   "outputs": [],
   "source": [
    "# 각 DataFrame을 여러 JSON 파일로 분할하여 저장\n",
    "chunk_size = 500000  # 청크 크기를 50만으로 설정\n",
    "\n",
    "save_df_as_json_chunks(train_point_july_df, 'D:/DATA_PREPROCESS/iOS_DATAS/ios_VOICE_DATA_FROM_7_TO_10/labelling_data_from_7_to_10/july_training_minutescript_labeling/df_july_train_point', chunk_size)\n",
    "save_df_as_json_chunks(train_memor_july_df, 'D:/DATA_PREPROCESS/iOS_DATAS/ios_VOICE_DATA_FROM_7_TO_10/labelling_data_from_7_to_10/july_training_wordscript_labeling/df_july_train_memo', chunk_size)\n",
    "save_df_as_json_chunks(val_point_july_df, 'D:/DATA_PREPROCESS/iOS_DATAS/ios_VOICE_DATA_FROM_7_TO_10/labelling_data_from_7_to_10/july_val_minutescript_labeling/df_july_val_point', chunk_size)\n",
    "save_df_as_json_chunks(val_memor_july_df, 'D:/DATA_PREPROCESS/iOS_DATAS/ios_VOICE_DATA_FROM_7_TO_10/labelling_data_from_7_to_10/july_val_wordscript_labeling/df_july_val_memo', chunk_size)\n",
    "\n",
    "save_df_as_json_chunks(train_point_august_df, 'D:/DATA_PREPROCESS/iOS_DATAS/ios_VOICE_DATA_FROM_7_TO_10/labelling_data_from_7_to_10/august_training_minutescript_labeling/df_august_train_point', chunk_size)\n",
    "save_df_as_json_chunks(train_memor_august_df, 'D:/DATA_PREPROCESS/iOS_DATAS/ios_VOICE_DATA_FROM_7_TO_10/labelling_data_from_7_to_10/august_training_wordscript_labeling/df_august_train_memo', chunk_size)\n",
    "save_df_as_json_chunks(val_point_august_df, 'D:/DATA_PREPROCESS/iOS_DATAS/ios_VOICE_DATA_FROM_7_TO_10/labelling_data_from_7_to_10/august_val_minutescript_labeling/df_august_val_point', chunk_size)\n",
    "save_df_as_json_chunks(val_memor_august_df, 'D:/DATA_PREPROCESS/iOS_DATAS/ios_VOICE_DATA_FROM_7_TO_10/labelling_data_from_7_to_10/august_val_wordscript_labeling/df_august_val_memo', chunk_size)\n",
    "\n",
    "save_df_as_json_chunks(train_point_september_df, 'D:/DATA_PREPROCESS/iOS_DATAS/ios_VOICE_DATA_FROM_7_TO_10/labelling_data_from_7_to_10/september_training_minutescript_labeling/df_september_train_point', chunk_size)\n",
    "save_df_as_json_chunks(train_memor_september_df, 'D:/DATA_PREPROCESS/iOS_DATAS/ios_VOICE_DATA_FROM_7_TO_10/labelling_data_from_7_to_10/september_training_wordscript_labeling/df_september_train_memo', chunk_size)\n",
    "save_df_as_json_chunks(val_point_september_df, 'D:/DATA_PREPROCESS/iOS_DATAS/ios_VOICE_DATA_FROM_7_TO_10/labelling_data_from_7_to_10/september_val_minutescript_labeling/df_september_val_point', chunk_size)\n",
    "save_df_as_json_chunks(val_memor_september_df, 'D:/DATA_PREPROCESS/iOS_DATAS/ios_VOICE_DATA_FROM_7_TO_10/labelling_data_from_7_to_10/september_val_wordscript_labeling/df_september_val_memo', chunk_size)\n",
    "\n",
    "save_df_as_json_chunks(train_point_october_df, 'D:/DATA_PREPROCESS/iOS_DATAS/ios_VOICE_DATA_FROM_7_TO_10/labelling_data_from_7_to_10/october_training_minutescript_labeling/df_october_train_point', chunk_size)\n",
    "save_df_as_json_chunks(train_memor_october_df, 'D:/DATA_PREPROCESS/iOS_DATAS/ios_VOICE_DATA_FROM_7_TO_10/labelling_data_from_7_to_10/october_training_wordscript_labeling/df_october_train_memo', chunk_size)\n",
    "save_df_as_json_chunks(val_point_october_df, 'D:/DATA_PREPROCESS/iOS_DATAS/ios_VOICE_DATA_FROM_7_TO_10/labelling_data_from_7_to_10/october_val_minutescript_labeling/df_october_val_point', chunk_size)\n",
    "save_df_as_json_chunks(val_memor_october_df, 'D:/DATA_PREPROCESS/iOS_DATAS/ios_VOICE_DATA_FROM_7_TO_10/labelling_data_from_7_to_10/october_val_wordscript_labeling/df_october_val_memo', chunk_size)\n"
   ]
  },
  {
   "cell_type": "markdown",
   "id": "75f73666-c080-4fd6-be27-252e502c0f81",
   "metadata": {
    "execution": {
     "iopub.execute_input": "2023-12-14T07:42:29.114944Z",
     "iopub.status.busy": "2023-12-14T07:42:29.114944Z",
     "iopub.status.idle": "2023-12-14T07:42:29.130375Z",
     "shell.execute_reply": "2023-12-14T07:42:29.130375Z",
     "shell.execute_reply.started": "2023-12-14T07:42:29.114944Z"
    }
   },
   "source": [
    "### 유저 별 로컬에 저장"
   ]
  },
  {
   "cell_type": "code",
   "execution_count": 18,
   "id": "7944087f-b5b0-437e-a05c-e3cac0dc0d96",
   "metadata": {
    "execution": {
     "iopub.execute_input": "2023-12-14T07:50:07.635932Z",
     "iopub.status.busy": "2023-12-14T07:50:07.635932Z",
     "iopub.status.idle": "2023-12-14T07:50:17.690563Z",
     "shell.execute_reply": "2023-12-14T07:50:17.690563Z",
     "shell.execute_reply.started": "2023-12-14T07:50:07.635932Z"
    }
   },
   "outputs": [],
   "source": [
    "# 경로 설정을 위한 매핑\n",
    "path_mapping = {\n",
    "    # 7월 데이터\n",
    "    'train_point_july_df': r'D:\\DATA_PREPROCESS\\INTEGRATED_DATASETS\\MINUTE_SCRIPT\\JULY\\Training\\AAC\\라벨링데이터',\n",
    "    'val_point_july_df': r'D:\\DATA_PREPROCESS\\INTEGRATED_DATASETS\\MINUTE_SCRIPT\\JULY\\Validation\\AAC\\라벨링데이터',\n",
    "    'train_memor_july_df': r'D:\\DATA_PREPROCESS\\INTEGRATED_DATASETS\\WORD_SCRIPT\\JULY\\Training\\AAC\\라벨링데이터',\n",
    "    'val_memor_july_df': r'D:\\DATA_PREPROCESS\\INTEGRATED_DATASETS\\WORD_SCRIPT\\JULY\\Validation\\AAC\\라벨링데이터',\n",
    "    # 8월 데이터\n",
    "    'train_point_august_df': r'D:\\DATA_PREPROCESS\\INTEGRATED_DATASETS\\MINUTE_SCRIPT\\AUGUST\\Training\\AAC\\라벨링데이터',\n",
    "    'val_point_august_df': r'D:\\DATA_PREPROCESS\\INTEGRATED_DATASETS\\MINUTE_SCRIPT\\AUGUST\\Validation\\AAC\\라벨링데이터',\n",
    "    'train_memor_august_df': r'D:\\DATA_PREPROCESS\\INTEGRATED_DATASETS\\WORD_SCRIPT\\AUGUST\\Training\\AAC\\라벨링데이터',\n",
    "    'val_memor_august_df': r'D:\\DATA_PREPROCESS\\INTEGRATED_DATASETS\\WORD_SCRIPT\\AUGUST\\Validation\\AAC\\라벨링데이터',\n",
    "    # 9월 데이터\n",
    "    'train_point_september_df': r'D:\\DATA_PREPROCESS\\INTEGRATED_DATASETS\\MINUTE_SCRIPT\\SEPTEMBER\\Training\\AAC\\라벨링데이터',\n",
    "    'val_point_september_df': r'D:\\DATA_PREPROCESS\\INTEGRATED_DATASETS\\MINUTE_SCRIPT\\SEPTEMBER\\Validation\\AAC\\라벨링데이터',\n",
    "    'train_memor_september_df': r'D:\\DATA_PREPROCESS\\INTEGRATED_DATASETS\\WORD_SCRIPT\\SEPTEMBER\\Training\\AAC\\라벨링데이터',\n",
    "    'val_memor_september_df': r'D:\\DATA_PREPROCESS\\INTEGRATED_DATASETS\\WORD_SCRIPT\\SEPTEMBER\\Validation\\AAC\\라벨링데이터',\n",
    "    # 10월 데이터\n",
    "    'train_point_october_df': r'D:\\DATA_PREPROCESS\\INTEGRATED_DATASETS\\MINUTE_SCRIPT\\OCTOBER\\Training\\AAC\\라벨링데이터',\n",
    "    'val_point_october_df': r'D:\\DATA_PREPROCESS\\INTEGRATED_DATASETS\\MINUTE_SCRIPT\\OCTOBER\\Validation\\AAC\\라벨링데이터',\n",
    "    'train_memor_october_df': r'D:\\DATA_PREPROCESS\\INTEGRATED_DATASETS\\WORD_SCRIPT\\OCTOBER\\Training\\AAC\\라벨링데이터',\n",
    "    'val_memor_october_df': r'D:\\DATA_PREPROCESS\\INTEGRATED_DATASETS\\WORD_SCRIPT\\OCTOBER\\Validation\\AAC\\라벨링데이터'\n",
    "}\n",
    "\n",
    "# DataFrame 이름과 객체를 튜플로 매핑\n",
    "df_tuples = [\n",
    "    ('train_point_july_df', train_point_july_df), \n",
    "    ('val_point_july_df', val_point_july_df),\n",
    "    ('train_memor_july_df', train_memor_july_df), \n",
    "    ('val_memor_july_df', val_memor_july_df),\n",
    "    ('train_point_august_df', train_point_august_df),\n",
    "    ('val_point_august_df', val_point_august_df),\n",
    "    ('train_memor_august_df', train_memor_august_df),\n",
    "    ('val_memor_august_df', val_memor_august_df),\n",
    "    ('train_point_september_df', train_point_september_df),\n",
    "    ('val_point_september_df', val_point_september_df),\n",
    "    ('train_memor_september_df', train_memor_september_df),\n",
    "    ('val_memor_september_df', val_memor_september_df),\n",
    "    ('train_point_october_df', train_point_october_df),\n",
    "    ('val_point_october_df', val_point_october_df),\n",
    "    ('train_memor_october_df', train_memor_october_df),\n",
    "    ('val_memor_october_df', val_memor_october_df)\n",
    "]\n",
    "\n",
    "# 각 DataFrame에 대해 반복하며 유저별로 JSON 파일로 저장\n",
    "for df_name, df in df_tuples:\n",
    "    # 해당 DataFrame의 경로 가져오기\n",
    "    base_path = path_mapping[df_name]\n",
    "\n",
    "    # 유저별로 그룹화\n",
    "    grouped = df.groupby('user_id')\n",
    "\n",
    "    # 각 유저에 대해 반복\n",
    "    for user_id, group in grouped:\n",
    "        # 저장할 파일 경로 설정\n",
    "        file_path = os.path.join(base_path, f'{user_id}.json')\n",
    "\n",
    "        # 데이터를 JSON 형태로 변환하여 파일에 저장\n",
    "        group.to_json(file_path, orient='records', force_ascii=False)"
   ]
  },
  {
   "cell_type": "markdown",
   "id": "b14f3806-8408-40d0-9cb8-8a7475ceacab",
   "metadata": {},
   "source": [
    "# 음성파일 위치 옮기기 231215(유저폴더별)"
   ]
  },
  {
   "cell_type": "code",
   "execution_count": 17,
   "id": "de2fded9-e13a-428a-a53a-4d3330ac9c65",
   "metadata": {
    "execution": {
     "iopub.execute_input": "2023-12-15T08:41:38.459664Z",
     "iopub.status.busy": "2023-12-15T08:41:38.459664Z",
     "iopub.status.idle": "2023-12-15T08:41:38.477963Z",
     "shell.execute_reply": "2023-12-15T08:41:38.477197Z",
     "shell.execute_reply.started": "2023-12-15T08:41:38.459664Z"
    }
   },
   "outputs": [
    {
     "data": {
      "text/plain": [
       "0        2023073120144239400\n",
       "1        2023071808572965800\n",
       "2        2023072113255427400\n",
       "3        2023071907030767500\n",
       "4        2023072907212905300\n",
       "                ...         \n",
       "27377    2023073112580651100\n",
       "27378    2023073112532940700\n",
       "27379    2023073112572585600\n",
       "27380    2023073112542483300\n",
       "27381    2023073112584255700\n",
       "Name: participation_id, Length: 27382, dtype: object"
      ]
     },
     "execution_count": 17,
     "metadata": {},
     "output_type": "execute_result"
    }
   ],
   "source": [
    "train_memor_july_df['participation_id']"
   ]
  },
  {
   "cell_type": "code",
   "execution_count": 46,
   "id": "031a9740-c81f-4b6c-b2fd-6c42688dec3a",
   "metadata": {
    "execution": {
     "iopub.execute_input": "2023-12-15T09:04:39.719638Z",
     "iopub.status.busy": "2023-12-15T09:04:39.719638Z",
     "iopub.status.idle": "2023-12-15T09:04:39.750286Z",
     "shell.execute_reply": "2023-12-15T09:04:39.750286Z",
     "shell.execute_reply.started": "2023-12-15T09:04:39.719638Z"
    }
   },
   "outputs": [],
   "source": [
    "# 병렬처리 로직을 사용한 셀!\n",
    "########################################################################################################\n",
    "\n",
    "# 기본 파일 경로\n",
    "base_current_path = r'D:\\DATA_PREPROCESS\\iOS_DATAS\\ios_VOICE_DATA_FROM_7_TO_10\\voice_file_from_7_to_10'\n",
    "base_new_path = r'D:\\DATA_PREPROCESS\\INTEGRATED_DATASETS'\n",
    "fixed_new_path_part = r'AAC\\원천데이터'\n",
    "\n",
    "# DataFrame 이름에서 월과 유형을 추출하여 경로를 결정하는 함수\n",
    "def get_paths(df_name):\n",
    "    # 월과 유형 추출\n",
    "    parts = df_name.split('_')\n",
    "    month = parts[2].upper()\n",
    "\n",
    "    type_part = 'wordscript' if 'memor' in df_name else 'minutescript'\n",
    "    section_part = 'validation' if 'val' in df_name else 'training'\n",
    "    after_type_part = 'WORD_SCRIPT' if 'memor' in df_name else 'MINUTE_SCRIPT'\n",
    "    after_section_part = 'Validation' if 'val' in df_name else 'Training'\n",
    "\n",
    "    # 현재 파일 경로\n",
    "    current_file_path = os.path.join(base_current_path, month, fixed_new_path_part.lstrip('\\\\'), section_part.capitalize(), section_part + '_' + type_part)\n",
    "    # 새 파일 경로\n",
    "    new_file_path = os.path.join(base_new_path, after_type_part, month, after_section_part, fixed_new_path_part.lstrip('\\\\'))\n",
    "\n",
    "\n",
    "    print(f\"current_file_path = {current_file_path}, new_file_path = {new_file_path}\")\n",
    "\n",
    "    return current_file_path, new_file_path\n",
    "\n",
    "\n",
    "# def move_files_for_user(df, user_id, current_path, new_base_path):\n",
    "#     user_id = str(user_id)\n",
    "#     df['user_id'] = df['user_id'].astype(str)\n",
    "    \n",
    "#     user_df = df[df['user_id'] == user_id]\n",
    "\n",
    "#     new_path = os.path.join(new_base_path, user_id)\n",
    "#     if not os.path.exists(new_path):\n",
    "#         os.makedirs(new_path)\n",
    "\n",
    "#     for voice_id in user_df['participation_id']:\n",
    "#         current_file = os.path.join(current_path, voice_id + '.wav')\n",
    "\n",
    "#         # 파일이 기본 경로에 없으면 대체 경로에서 찾음\n",
    "#         if not os.path.exists(current_file):\n",
    "#             current_file = os.path.join(alternate_path, voice_id + '.wav')\n",
    "#         new_file = os.path.join(new_path, voice_id)\n",
    "#         if os.path.exists(current_file):\n",
    "#             os.rename(current_file, new_file)\n",
    "def move_files_for_user(df, user_id, current_path, new_base_path, alternate_path):\n",
    "    user_id = str(user_id)\n",
    "    df['user_id'] = df['user_id'].astype(str)\n",
    "    \n",
    "    user_df = df[df['user_id'] == user_id]\n",
    "    \n",
    "    new_path = os.path.join(new_base_path, user_id)\n",
    "    if not os.path.exists(new_path):\n",
    "        os.makedirs(new_path)\n",
    "\n",
    "    for voice_id in user_df['participation_id']:\n",
    "        current_file = os.path.join(current_path, voice_id + '.wav')\n",
    "        \n",
    "        if not os.path.exists(current_file):\n",
    "            current_file = os.path.join(alternate_path, voice_id + '.wav')\n",
    "        \n",
    "        new_file = os.path.join(new_path, voice_id)\n",
    "        if os.path.exists(current_file):\n",
    "            os.rename(current_file, new_file)\n",
    "\n",
    "\n",
    "\n",
    "def move_files_parallel_by_user(df, df_name, paths_function):\n",
    "    current_path, new_base_path = paths_function(df_name)\n",
    "\n",
    "    # 대체 경로 설정\n",
    "    if 'Training' in current_path:\n",
    "        alternate_path = current_path.replace('Training', 'Validation')\n",
    "    else:\n",
    "        alternate_path = current_path.replace('Validation', 'Training')\n",
    "    \n",
    "    user_ids = df['user_id'].unique()\n",
    "    \n",
    "    with ThreadPoolExecutor(max_workers=10) as executor:\n",
    "        for user_id in user_ids:\n",
    "            executor.submit(move_files_for_user, df, user_id, current_path, new_base_path)\n",
    "# def move_files_parallel_by_user(df, df_name, paths_function):\n",
    "#     current_path, new_base_path = paths_function(df_name)\n",
    "\n",
    "#     # 대체 경로 설정\n",
    "#     if 'Training' in current_path:\n",
    "#         alternate_path = current_path.replace('Training', 'Validation')\n",
    "#     else:\n",
    "#         alternate_path = current_path.replace('Validation', 'Training')\n",
    "\n",
    "#     user_ids = df['user_id'].unique()\n",
    "\n",
    "#     print(f\"Total unique user_ids: {len(user_ids)}\")\n",
    "\n",
    "#     if len(user_ids) == 0:\n",
    "#         print(\"No user_ids found in DataFrame.\")\n",
    "#         return\n",
    "\n",
    "#     futures = []\n",
    "#     with ThreadPoolExecutor(max_workers=10) as executor:\n",
    "#         for user_id in user_ids:\n",
    "#             future = executor.submit(move_files_for_user, df, user_id, current_path, new_base_path, alternate_path)\n",
    "#             futures.append(future)\n",
    "\n",
    "#     # 결과 확인\n",
    "#     for future in as_completed(futures):\n",
    "#         try:\n",
    "#             future.result()\n",
    "#         except Exception as e:\n",
    "#             print(f\"Error in thread execution: {e}\")"
   ]
  },
  {
   "cell_type": "code",
   "execution_count": 49,
   "id": "bd47b3fe-b292-4687-b76a-8dae6e05918d",
   "metadata": {
    "execution": {
     "iopub.execute_input": "2023-12-15T09:10:35.114235Z",
     "iopub.status.busy": "2023-12-15T09:10:35.114235Z",
     "iopub.status.idle": "2023-12-15T09:10:35.130580Z",
     "shell.execute_reply": "2023-12-15T09:10:35.130580Z",
     "shell.execute_reply.started": "2023-12-15T09:10:35.114235Z"
    }
   },
   "outputs": [],
   "source": [
    "# 순차적으로 파일 이동 작업을 수행하는 셀\n",
    "#################################################################################################\n",
    "# 기본 파일 경로\n",
    "base_current_path = r'D:\\DATA_PREPROCESS\\iOS_DATAS\\ios_VOICE_DATA_FROM_7_TO_10\\voice_file_from_7_to_10'\n",
    "base_new_path = r'D:\\DATA_PREPROCESS\\INTEGRATED_DATASETS'\n",
    "fixed_new_path_part = r'AAC\\원천데이터'\n",
    "\n",
    "# DataFrame 이름에서 월과 유형을 추출하여 경로를 결정하는 함수\n",
    "def get_paths(df_name):\n",
    "    # 월과 유형 추출\n",
    "    parts = df_name.split('_')\n",
    "    month = parts[2].upper()\n",
    "\n",
    "    type_part = 'wordscript' if 'memor' in df_name else 'minutescript'\n",
    "    section_part = 'validation' if 'val' in df_name else 'training'\n",
    "    after_type_part = 'WORD_SCRIPT' if 'memor' in df_name else 'MINUTE_SCRIPT'\n",
    "    after_section_part = 'Validation' if 'val' in df_name else 'Training'\n",
    "\n",
    "    # 현재 파일 경로\n",
    "    current_file_path = os.path.join(base_current_path, month, fixed_new_path_part.lstrip('\\\\'), section_part.capitalize(), section_part + '_' + type_part)\n",
    "    # 새 파일 경로\n",
    "    new_file_path = os.path.join(base_new_path, after_type_part, month, after_section_part, fixed_new_path_part.lstrip('\\\\'))\n",
    "\n",
    "\n",
    "    print(f\"current_file_path = {current_file_path}, new_file_path = {new_file_path}\")\n",
    "\n",
    "    return current_file_path, new_file_path\n",
    "\n",
    "def move_files_for_user(df, user_id, current_path, new_base_path, alternate_path):\n",
    "    user_id = str(user_id)\n",
    "    df['user_id'] = df['user_id'].astype(str)\n",
    "    \n",
    "    user_df = df[df['user_id'] == user_id]\n",
    "    \n",
    "    new_path = os.path.join(new_base_path, user_id)\n",
    "    if not os.path.exists(new_path):\n",
    "        os.makedirs(new_path)\n",
    "\n",
    "    for voice_id in user_df['participation_id']:\n",
    "        current_file = os.path.join(current_path, voice_id + '.wav')\n",
    "        \n",
    "        if not os.path.exists(current_file):\n",
    "            current_file = os.path.join(alternate_path, voice_id + '.wav')\n",
    "        \n",
    "        new_file = os.path.join(new_path, voice_id)\n",
    "        if os.path.exists(current_file):\n",
    "            os.rename(current_file, new_file)\n",
    "\n",
    "def move_files_parallel_by_user(df, df_name, paths_function):\n",
    "    current_path, new_base_path = paths_function(df_name)\n",
    "\n",
    "    # 대체 경로 설정\n",
    "    if 'Training' in current_path:\n",
    "        alternate_path = current_path.replace('Training', 'Validation')\n",
    "    else:\n",
    "        alternate_path = current_path.replace('Validation', 'Training')\n",
    "    \n",
    "    user_ids = df['user_id'].unique()\n",
    "\n",
    "    # 각 user_id에 대해 순차적으로 move_files_for_user 함수 호출\n",
    "    for user_id in user_ids:\n",
    "        move_files_for_user(df, user_id, current_path, new_base_path, alternate_path)"
   ]
  },
  {
   "cell_type": "code",
   "execution_count": 28,
   "id": "d93a5a21-2200-4517-b820-8d28a713e601",
   "metadata": {
    "execution": {
     "iopub.execute_input": "2023-12-15T08:50:42.615542Z",
     "iopub.status.busy": "2023-12-15T08:50:42.614543Z",
     "iopub.status.idle": "2023-12-15T08:50:46.776220Z",
     "shell.execute_reply": "2023-12-15T08:50:46.776220Z",
     "shell.execute_reply.started": "2023-12-15T08:50:42.615542Z"
    },
    "scrolled": true
   },
   "outputs": [
    {
     "name": "stdout",
     "output_type": "stream",
     "text": [
      "current_file_path = D:\\DATA_PREPROCESS\\iOS_DATAS\\ios_VOICE_DATA_FROM_7_TO_10\\voice_file_from_7_to_10\\JULY\\AAC\\원천데이터\\Training\\training_minutescript, new_file_path = D:\\DATA_PREPROCESS\\INTEGRATED_DATASETS\\MINUTE_SCRIPT\\JULY\\Training\\AAC\\원천데이터\n"
     ]
    }
   ],
   "source": [
    "move_files_parallel_by_user(train_point_july_df, 'train_point_july_df', get_paths)"
   ]
  },
  {
   "cell_type": "code",
   "execution_count": 50,
   "id": "a4639075-7a58-4449-8d05-f0ee2b5f2798",
   "metadata": {
    "execution": {
     "iopub.execute_input": "2023-12-15T09:10:43.901767Z",
     "iopub.status.busy": "2023-12-15T09:10:43.900767Z",
     "iopub.status.idle": "2023-12-15T09:10:53.633601Z",
     "shell.execute_reply": "2023-12-15T09:10:53.633601Z",
     "shell.execute_reply.started": "2023-12-15T09:10:43.901767Z"
    },
    "scrolled": true
   },
   "outputs": [
    {
     "name": "stdout",
     "output_type": "stream",
     "text": [
      "current_file_path = D:\\DATA_PREPROCESS\\iOS_DATAS\\ios_VOICE_DATA_FROM_7_TO_10\\voice_file_from_7_to_10\\JULY\\AAC\\원천데이터\\Training\\training_wordscript, new_file_path = D:\\DATA_PREPROCESS\\INTEGRATED_DATASETS\\WORD_SCRIPT\\JULY\\Training\\AAC\\원천데이터\n"
     ]
    }
   ],
   "source": [
    "move_files_parallel_by_user(train_memor_july_df, 'train_memor_july_df', get_paths)"
   ]
  },
  {
   "cell_type": "code",
   "execution_count": 51,
   "id": "2a4215fb-f7fa-42e3-a35a-e2bbc3c0378d",
   "metadata": {
    "execution": {
     "iopub.execute_input": "2023-12-15T09:15:53.950176Z",
     "iopub.status.busy": "2023-12-15T09:15:53.950176Z",
     "iopub.status.idle": "2023-12-15T09:26:30.659492Z",
     "shell.execute_reply": "2023-12-15T09:26:30.658492Z",
     "shell.execute_reply.started": "2023-12-15T09:15:53.950176Z"
    }
   },
   "outputs": [
    {
     "name": "stdout",
     "output_type": "stream",
     "text": [
      "current_file_path = D:\\DATA_PREPROCESS\\iOS_DATAS\\ios_VOICE_DATA_FROM_7_TO_10\\voice_file_from_7_to_10\\JULY\\AAC\\원천데이터\\Training\\training_wordscript, new_file_path = D:\\DATA_PREPROCESS\\INTEGRATED_DATASETS\\WORD_SCRIPT\\JULY\\Training\\AAC\\원천데이터\n",
      "current_file_path = D:\\DATA_PREPROCESS\\iOS_DATAS\\ios_VOICE_DATA_FROM_7_TO_10\\voice_file_from_7_to_10\\JULY\\AAC\\원천데이터\\Validation\\validation_minutescript, new_file_path = D:\\DATA_PREPROCESS\\INTEGRATED_DATASETS\\MINUTE_SCRIPT\\JULY\\Validation\\AAC\\원천데이터\n",
      "current_file_path = D:\\DATA_PREPROCESS\\iOS_DATAS\\ios_VOICE_DATA_FROM_7_TO_10\\voice_file_from_7_to_10\\JULY\\AAC\\원천데이터\\Validation\\validation_wordscript, new_file_path = D:\\DATA_PREPROCESS\\INTEGRATED_DATASETS\\WORD_SCRIPT\\JULY\\Validation\\AAC\\원천데이터\n",
      "current_file_path = D:\\DATA_PREPROCESS\\iOS_DATAS\\ios_VOICE_DATA_FROM_7_TO_10\\voice_file_from_7_to_10\\AUGUST\\AAC\\원천데이터\\Training\\training_minutescript, new_file_path = D:\\DATA_PREPROCESS\\INTEGRATED_DATASETS\\MINUTE_SCRIPT\\AUGUST\\Training\\AAC\\원천데이터\n",
      "current_file_path = D:\\DATA_PREPROCESS\\iOS_DATAS\\ios_VOICE_DATA_FROM_7_TO_10\\voice_file_from_7_to_10\\AUGUST\\AAC\\원천데이터\\Training\\training_wordscript, new_file_path = D:\\DATA_PREPROCESS\\INTEGRATED_DATASETS\\WORD_SCRIPT\\AUGUST\\Training\\AAC\\원천데이터\n",
      "current_file_path = D:\\DATA_PREPROCESS\\iOS_DATAS\\ios_VOICE_DATA_FROM_7_TO_10\\voice_file_from_7_to_10\\AUGUST\\AAC\\원천데이터\\Validation\\validation_minutescript, new_file_path = D:\\DATA_PREPROCESS\\INTEGRATED_DATASETS\\MINUTE_SCRIPT\\AUGUST\\Validation\\AAC\\원천데이터\n",
      "current_file_path = D:\\DATA_PREPROCESS\\iOS_DATAS\\ios_VOICE_DATA_FROM_7_TO_10\\voice_file_from_7_to_10\\AUGUST\\AAC\\원천데이터\\Validation\\validation_wordscript, new_file_path = D:\\DATA_PREPROCESS\\INTEGRATED_DATASETS\\WORD_SCRIPT\\AUGUST\\Validation\\AAC\\원천데이터\n",
      "current_file_path = D:\\DATA_PREPROCESS\\iOS_DATAS\\ios_VOICE_DATA_FROM_7_TO_10\\voice_file_from_7_to_10\\SEPTEMBER\\AAC\\원천데이터\\Training\\training_minutescript, new_file_path = D:\\DATA_PREPROCESS\\INTEGRATED_DATASETS\\MINUTE_SCRIPT\\SEPTEMBER\\Training\\AAC\\원천데이터\n",
      "current_file_path = D:\\DATA_PREPROCESS\\iOS_DATAS\\ios_VOICE_DATA_FROM_7_TO_10\\voice_file_from_7_to_10\\SEPTEMBER\\AAC\\원천데이터\\Training\\training_wordscript, new_file_path = D:\\DATA_PREPROCESS\\INTEGRATED_DATASETS\\WORD_SCRIPT\\SEPTEMBER\\Training\\AAC\\원천데이터\n",
      "current_file_path = D:\\DATA_PREPROCESS\\iOS_DATAS\\ios_VOICE_DATA_FROM_7_TO_10\\voice_file_from_7_to_10\\SEPTEMBER\\AAC\\원천데이터\\Validation\\validation_minutescript, new_file_path = D:\\DATA_PREPROCESS\\INTEGRATED_DATASETS\\MINUTE_SCRIPT\\SEPTEMBER\\Validation\\AAC\\원천데이터\n",
      "current_file_path = D:\\DATA_PREPROCESS\\iOS_DATAS\\ios_VOICE_DATA_FROM_7_TO_10\\voice_file_from_7_to_10\\SEPTEMBER\\AAC\\원천데이터\\Validation\\validation_wordscript, new_file_path = D:\\DATA_PREPROCESS\\INTEGRATED_DATASETS\\WORD_SCRIPT\\SEPTEMBER\\Validation\\AAC\\원천데이터\n",
      "current_file_path = D:\\DATA_PREPROCESS\\iOS_DATAS\\ios_VOICE_DATA_FROM_7_TO_10\\voice_file_from_7_to_10\\OCTOBER\\AAC\\원천데이터\\Training\\training_minutescript, new_file_path = D:\\DATA_PREPROCESS\\INTEGRATED_DATASETS\\MINUTE_SCRIPT\\OCTOBER\\Training\\AAC\\원천데이터\n",
      "current_file_path = D:\\DATA_PREPROCESS\\iOS_DATAS\\ios_VOICE_DATA_FROM_7_TO_10\\voice_file_from_7_to_10\\OCTOBER\\AAC\\원천데이터\\Training\\training_wordscript, new_file_path = D:\\DATA_PREPROCESS\\INTEGRATED_DATASETS\\WORD_SCRIPT\\OCTOBER\\Training\\AAC\\원천데이터\n",
      "current_file_path = D:\\DATA_PREPROCESS\\iOS_DATAS\\ios_VOICE_DATA_FROM_7_TO_10\\voice_file_from_7_to_10\\OCTOBER\\AAC\\원천데이터\\Validation\\validation_minutescript, new_file_path = D:\\DATA_PREPROCESS\\INTEGRATED_DATASETS\\MINUTE_SCRIPT\\OCTOBER\\Validation\\AAC\\원천데이터\n",
      "current_file_path = D:\\DATA_PREPROCESS\\iOS_DATAS\\ios_VOICE_DATA_FROM_7_TO_10\\voice_file_from_7_to_10\\OCTOBER\\AAC\\원천데이터\\Validation\\validation_wordscript, new_file_path = D:\\DATA_PREPROCESS\\INTEGRATED_DATASETS\\WORD_SCRIPT\\OCTOBER\\Validation\\AAC\\원천데이터\n"
     ]
    }
   ],
   "source": [
    "move_files_parallel_by_user(train_memor_july_df, 'train_memor_july_df', get_paths)\n",
    "move_files_parallel_by_user(val_point_july_df, 'val_point_july_df', get_paths)\n",
    "move_files_parallel_by_user(val_memor_july_df, 'val_memor_july_df', get_paths)\n",
    "\n",
    "move_files_parallel_by_user(train_point_august_df, 'train_point_august_df', get_paths)\n",
    "move_files_parallel_by_user(train_memor_august_df, 'train_memor_august_df', get_paths)\n",
    "move_files_parallel_by_user(val_point_august_df, 'val_point_august_df', get_paths)\n",
    "move_files_parallel_by_user(val_memor_august_df, 'val_memor_august_df', get_paths)\n",
    "\n",
    "move_files_parallel_by_user(train_point_september_df, 'train_point_september_df', get_paths)\n",
    "move_files_parallel_by_user(train_memor_september_df, 'train_memor_september_df', get_paths)\n",
    "move_files_parallel_by_user(val_point_september_df, 'val_point_september_df', get_paths)\n",
    "move_files_parallel_by_user(val_memor_september_df, 'val_memor_september_df', get_paths)\n",
    "\n",
    "move_files_parallel_by_user(train_point_october_df, 'train_point_october_df', get_paths)\n",
    "move_files_parallel_by_user(train_memor_october_df, 'train_memor_october_df', get_paths)\n",
    "move_files_parallel_by_user(val_point_october_df, 'val_point_october_df', get_paths)\n",
    "move_files_parallel_by_user(val_memor_october_df, 'val_memor_october_df', get_paths)"
   ]
  },
  {
   "cell_type": "code",
   "execution_count": 59,
   "id": "b64e1abb-329b-4414-aa8a-051218265a50",
   "metadata": {
    "execution": {
     "iopub.execute_input": "2023-12-15T09:31:01.992446Z",
     "iopub.status.busy": "2023-12-15T09:31:01.992446Z",
     "iopub.status.idle": "2023-12-15T09:31:02.123211Z",
     "shell.execute_reply": "2023-12-15T09:31:02.123211Z",
     "shell.execute_reply.started": "2023-12-15T09:31:01.992446Z"
    }
   },
   "outputs": [
    {
     "data": {
      "text/plain": [
       "accuracy            81506\n",
       "ads_id              81506\n",
       "audio_id            81506\n",
       "birth               81506\n",
       "category            81506\n",
       "description         81506\n",
       "difficulty          81506\n",
       "end_at              81506\n",
       "gender              81506\n",
       "is_passed           81506\n",
       "minimum_accuracy    81506\n",
       "participated_at     81506\n",
       "participation_id    81506\n",
       "recorded_text       81506\n",
       "script              81506\n",
       "signed_up_at        81506\n",
       "start_at            81506\n",
       "title               81506\n",
       "type                81506\n",
       "user_id             81506\n",
       "withdrawn_at        81506\n",
       "dtype: int64"
      ]
     },
     "execution_count": 59,
     "metadata": {},
     "output_type": "execute_result"
    }
   ],
   "source": [
    "val_memor_october_df.count()"
   ]
  },
  {
   "cell_type": "code",
   "execution_count": null,
   "id": "b231c3d6-4f8e-4b14-99c2-3ce4b862a6c2",
   "metadata": {},
   "outputs": [],
   "source": []
  },
  {
   "cell_type": "code",
   "execution_count": null,
   "id": "419fb5f2-3924-4b8d-ae59-61bc926f8656",
   "metadata": {},
   "outputs": [],
   "source": []
  },
  {
   "cell_type": "code",
   "execution_count": null,
   "id": "03157e03-8107-4693-aecc-44f88cf5af77",
   "metadata": {},
   "outputs": [],
   "source": []
  },
  {
   "cell_type": "markdown",
   "id": "9d762d45-29bc-4328-8832-045feb2e461b",
   "metadata": {
    "jp-MarkdownHeadingCollapsed": true
   },
   "source": [
    "# 데이터 뽑아와서 분류"
   ]
  },
  {
   "cell_type": "code",
   "execution_count": 27,
   "id": "97ff1b46-82d5-46c1-8d4b-97bcc24a88c6",
   "metadata": {
    "execution": {
     "iopub.execute_input": "2023-12-06T09:47:06.280525Z",
     "iopub.status.busy": "2023-12-06T09:47:06.280525Z",
     "iopub.status.idle": "2023-12-06T09:48:39.888407Z",
     "shell.execute_reply": "2023-12-06T09:48:39.888407Z",
     "shell.execute_reply.started": "2023-12-06T09:47:06.280525Z"
    }
   },
   "outputs": [],
   "source": [
    "# Pandas DataFrame을 Spark DataFrame으로 변환하는 함수\n",
    "def convert_to_spark_df(pandas_df):\n",
    "    return spark.createDataFrame(pandas_df)\n",
    "\n",
    "# Point DataFrame들 변환\n",
    "train_point_july_df = convert_to_spark_df(train_point_july_df)\n",
    "val_point_july_df = convert_to_spark_df(val_point_july_df)\n",
    "\n",
    "train_point_august_df = convert_to_spark_df(train_point_august_df)\n",
    "val_point_august_df = convert_to_spark_df(val_point_august_df)\n",
    "\n",
    "train_point_september_df = convert_to_spark_df(train_point_september_df)\n",
    "val_point_september_df = convert_to_spark_df(val_point_september_df)\n",
    "\n",
    "train_point_october_df = convert_to_spark_df(train_point_october_df)\n",
    "val_point_october_df = convert_to_spark_df(val_point_october_df)\n",
    "\n",
    "# Memor DataFrame들 변환\n",
    "train_memor_july_df = convert_to_spark_df(train_memor_july_df)\n",
    "val_memor_july_df = convert_to_spark_df(val_memor_july_df)\n",
    "\n",
    "train_memor_august_df = convert_to_spark_df(train_memor_august_df)\n",
    "val_memor_august_df = convert_to_spark_df(val_memor_august_df)\n",
    "\n",
    "train_memor_september_df = convert_to_spark_df(train_memor_september_df)\n",
    "val_memor_september_df = convert_to_spark_df(val_memor_september_df)\n",
    "\n",
    "train_memor_october_df = convert_to_spark_df(train_memor_october_df)\n",
    "val_memor_october_df = convert_to_spark_df(val_memor_october_df)"
   ]
  },
  {
   "cell_type": "code",
   "execution_count": 33,
   "id": "cad0c032-ee74-4497-8f79-c1080c345330",
   "metadata": {
    "execution": {
     "iopub.execute_input": "2023-12-06T10:06:37.650906Z",
     "iopub.status.busy": "2023-12-06T10:06:37.650906Z",
     "iopub.status.idle": "2023-12-06T10:06:37.665605Z",
     "shell.execute_reply": "2023-12-06T10:06:37.665605Z",
     "shell.execute_reply.started": "2023-12-06T10:06:37.650906Z"
    }
   },
   "outputs": [],
   "source": [
    "def copy_file(source, target):\n",
    "    try:\n",
    "        shutil.copy(source, target)\n",
    "        return 1  # 성공한 경우\n",
    "    except Exception as e:\n",
    "        return 0  # 실패한 경우\n",
    "\n",
    "def find_and_copy_files(source_path, target_path, df):\n",
    "    with ThreadPoolExecutor(max_workers=10) as executor:\n",
    "        futures = []\n",
    "\n",
    "        for row in df.collect():\n",
    "            participation_id = row['participation_id']\n",
    "            source_file_path = os.path.join(source_path, f\"{participation_id}.wav\")  \n",
    "\n",
    "            if not os.path.exists(target_path):\n",
    "                os.makedirs(target_path)\n",
    "\n",
    "            # 병렬 처리를 위한 작업 추가\n",
    "            if os.path.isfile(source_file_path):\n",
    "                target_file_path = os.path.join(target_path, f\"{participation_id}.wav\")  # 타겟 파일 경로에도 파일명 추가\n",
    "                futures.append(executor.submit(copy_file, source_file_path, target_file_path))\n",
    "\n",
    "        for future in futures:\n",
    "            future.result()\n"
   ]
  },
  {
   "cell_type": "code",
   "execution_count": 34,
   "id": "a834596e-4203-4efa-8680-c0c3b9bacce8",
   "metadata": {
    "execution": {
     "iopub.execute_input": "2023-12-06T10:06:38.945760Z",
     "iopub.status.busy": "2023-12-06T10:06:38.945760Z",
     "iopub.status.idle": "2023-12-06T10:08:16.955041Z",
     "shell.execute_reply": "2023-12-06T10:08:16.955041Z",
     "shell.execute_reply.started": "2023-12-06T10:06:38.945760Z"
    }
   },
   "outputs": [],
   "source": [
    "point_source_path = \"D:\\\\DATA_PREPROCESS\\\\iOS_DATAS\\\\ios_VOICE_DATA_FROM_7_TO_10\\\\voice_file_from_7_to_10\\\\point_from_7_to_10\"\n",
    "memor_source_path = \"D:\\\\DATA_PREPROCESS\\\\iOS_DATAS\\\\ios_VOICE_DATA_FROM_7_TO_10\\\\voice_file_from_7_to_10\\\\memor_from_7_to_10\"\n",
    "\n",
    "train_point_july_target_path = \"D:\\\\DATA_PREPROCESS\\\\iOS_DATAS\\\\ios_VOICE_DATA_FROM_7_TO_10\\\\voice_file_from_7_to_10\\\\JULY\\\\training_minutescript\"\n",
    "train_memor_july_target_path = \"D:\\\\DATA_PREPROCESS\\\\iOS_DATAS\\\\ios_VOICE_DATA_FROM_7_TO_10\\\\voice_file_from_7_to_10\\\\JULY\\\\training_wordscript\"\n",
    "val_point_july_target_path = \"D:\\\\DATA_PREPROCESS\\\\iOS_DATAS\\\\ios_VOICE_DATA_FROM_7_TO_10\\\\voice_file_from_7_to_10\\\\JULY\\\\validation_minutescript\"\n",
    "val_memor_july_target_path = \"D:\\\\DATA_PREPROCESS\\\\iOS_DATAS\\\\ios_VOICE_DATA_FROM_7_TO_10\\\\voice_file_from_7_to_10\\\\JULY\\\\validation_wordscript\"\n",
    "\n",
    "find_and_copy_files(point_source_path, train_point_july_target_path, train_point_july_df)\n",
    "find_and_copy_files(memor_source_path, train_memor_july_target_path, train_memor_july_df)\n",
    "find_and_copy_files(point_source_path, val_point_july_target_path, val_point_july_df)\n",
    "find_and_copy_files(memor_source_path, val_memor_july_target_path, val_memor_july_df)"
   ]
  },
  {
   "cell_type": "code",
   "execution_count": 35,
   "id": "a19bf633-753e-4504-ad38-86415955749b",
   "metadata": {
    "execution": {
     "iopub.execute_input": "2023-12-06T10:08:16.955041Z",
     "iopub.status.busy": "2023-12-06T10:08:16.955041Z",
     "iopub.status.idle": "2023-12-06T10:14:35.079822Z",
     "shell.execute_reply": "2023-12-06T10:14:35.079505Z",
     "shell.execute_reply.started": "2023-12-06T10:08:16.955041Z"
    }
   },
   "outputs": [],
   "source": [
    "train_point_august_target_path = \"D:\\\\DATA_PREPROCESS\\\\iOS_DATAS\\\\ios_VOICE_DATA_FROM_7_TO_10\\\\voice_file_from_7_to_10\\\\AUGUST\\\\training_minutescript\"\n",
    "train_memor_august_target_path = \"D:\\\\DATA_PREPROCESS\\\\iOS_DATAS\\\\ios_VOICE_DATA_FROM_7_TO_10\\\\voice_file_from_7_to_10\\\\AUGUST\\\\training_wordscript\"\n",
    "val_point_august_target_path = \"D:\\\\DATA_PREPROCESS\\\\iOS_DATAS\\\\ios_VOICE_DATA_FROM_7_TO_10\\\\voice_file_from_7_to_10\\\\AUGUST\\\\validation_minutescript\"\n",
    "val_memor_august_target_path = \"D:\\\\DATA_PREPROCESS\\\\iOS_DATAS\\\\ios_VOICE_DATA_FROM_7_TO_10\\\\voice_file_from_7_to_10\\\\AUGUST\\\\validation_wordscript\"\n",
    "\n",
    "find_and_copy_files(point_source_path, train_point_august_target_path, train_point_august_df)\n",
    "find_and_copy_files(memor_source_path, train_memor_august_target_path, train_memor_august_df)\n",
    "find_and_copy_files(point_source_path, val_point_august_target_path, val_point_august_df)\n",
    "find_and_copy_files(memor_source_path, val_memor_august_target_path, val_memor_august_df)"
   ]
  },
  {
   "cell_type": "code",
   "execution_count": 36,
   "id": "4bf7c9a8-be0c-4ef1-bc7b-89485616d0b4",
   "metadata": {
    "execution": {
     "iopub.execute_input": "2023-12-06T10:14:35.080821Z",
     "iopub.status.busy": "2023-12-06T10:14:35.080821Z",
     "iopub.status.idle": "2023-12-06T10:26:36.678054Z",
     "shell.execute_reply": "2023-12-06T10:26:36.678054Z",
     "shell.execute_reply.started": "2023-12-06T10:14:35.080821Z"
    }
   },
   "outputs": [],
   "source": [
    "train_point_september_target_path = \"D:\\\\DATA_PREPROCESS\\\\iOS_DATAS\\\\ios_VOICE_DATA_FROM_7_TO_10\\\\voice_file_from_7_to_10\\\\SEPTEMBER\\\\training_minutescript\"\n",
    "train_memor_september_target_path = \"D:\\\\DATA_PREPROCESS\\\\iOS_DATAS\\\\ios_VOICE_DATA_FROM_7_TO_10\\\\voice_file_from_7_to_10\\\\SEPTEMBER\\\\training_wordscript\"\n",
    "val_point_september_target_path = \"D:\\\\DATA_PREPROCESS\\\\iOS_DATAS\\\\ios_VOICE_DATA_FROM_7_TO_10\\\\voice_file_from_7_to_10\\\\SEPTEMBER\\\\validation_minutescript\"\n",
    "val_memor_september_target_path = \"D:\\\\DATA_PREPROCESS\\\\iOS_DATAS\\\\ios_VOICE_DATA_FROM_7_TO_10\\\\voice_file_from_7_to_10\\\\SEPTEMBER\\\\validation_wordscript\"\n",
    "\n",
    "find_and_copy_files(point_source_path, train_point_september_target_path, train_point_september_df)\n",
    "find_and_copy_files(memor_source_path, train_memor_september_target_path, train_memor_september_df)\n",
    "find_and_copy_files(point_source_path, val_point_september_target_path, val_point_september_df)\n",
    "find_and_copy_files(memor_source_path, val_memor_september_target_path, val_memor_september_df)"
   ]
  },
  {
   "cell_type": "code",
   "execution_count": 37,
   "id": "6d9914ae-54fb-48c4-a023-bd4fc9e3a84c",
   "metadata": {
    "execution": {
     "iopub.execute_input": "2023-12-06T10:26:36.680503Z",
     "iopub.status.busy": "2023-12-06T10:26:36.678054Z",
     "iopub.status.idle": "2023-12-06T10:36:59.707867Z",
     "shell.execute_reply": "2023-12-06T10:36:59.707867Z",
     "shell.execute_reply.started": "2023-12-06T10:26:36.680503Z"
    }
   },
   "outputs": [],
   "source": [
    "train_point_october_target_path = \"D:\\\\DATA_PREPROCESS\\\\iOS_DATAS\\\\ios_VOICE_DATA_FROM_7_TO_10\\\\voice_file_from_7_to_10\\\\OCTOBER\\\\training_minutescript\"\n",
    "train_memor_october_target_path = \"D:\\\\DATA_PREPROCESS\\\\iOS_DATAS\\\\ios_VOICE_DATA_FROM_7_TO_10\\\\voice_file_from_7_to_10\\\\OCTOBER\\\\training_wordscript\"\n",
    "val_point_october_target_path = \"D:\\\\DATA_PREPROCESS\\\\iOS_DATAS\\\\ios_VOICE_DATA_FROM_7_TO_10\\\\voice_file_from_7_to_10\\\\OCTOBER\\\\validation_minutescript\"\n",
    "val_memor_october_target_path = \"D:\\\\DATA_PREPROCESS\\\\iOS_DATAS\\\\ios_VOICE_DATA_FROM_7_TO_10\\\\voice_file_from_7_to_10\\\\OCTOBER\\\\validation_wordscript\"\n",
    "\n",
    "find_and_copy_files(point_source_path, train_point_october_target_path, train_point_october_df)\n",
    "find_and_copy_files(memor_source_path, train_memor_october_target_path, train_memor_october_df)\n",
    "find_and_copy_files(point_source_path, val_point_october_target_path, val_point_october_df)\n",
    "find_and_copy_files(memor_source_path, val_memor_october_target_path, val_memor_october_df)"
   ]
  },
  {
   "cell_type": "markdown",
   "id": "feb8b80a-7785-421a-9ba9-2f3d1d0cc1b9",
   "metadata": {},
   "source": [
    "# 뭉테기 라벨링데이터 저장"
   ]
  },
  {
   "cell_type": "code",
   "execution_count": 52,
   "id": "65eb6a3f-5846-4a2e-98c2-d2f802748185",
   "metadata": {
    "execution": {
     "iopub.execute_input": "2023-12-21T03:37:28.986335Z",
     "iopub.status.busy": "2023-12-21T03:37:28.986335Z",
     "iopub.status.idle": "2023-12-21T03:37:31.056882Z",
     "shell.execute_reply": "2023-12-21T03:37:31.056265Z",
     "shell.execute_reply.started": "2023-12-21T03:37:28.986335Z"
    }
   },
   "outputs": [],
   "source": [
    "# 7월 데이터 합치기\n",
    "july_df = pd.concat([train_point_july_df, train_memor_july_df, val_point_july_df, val_memor_july_df], axis=0)\n",
    "\n",
    "# 8월 데이터 합치기\n",
    "august_df = pd.concat([train_point_august_df, train_memor_august_df, val_point_august_df, val_memor_august_df], axis=0)\n",
    "\n",
    "# 9월 데이터 합치기\n",
    "september_df = pd.concat([train_point_september_df, train_memor_september_df, val_point_september_df, val_memor_september_df], axis=0)\n",
    "\n",
    "# 10월 데이터 합치기\n",
    "october_df = pd.concat([train_point_october_df, train_memor_october_df, val_point_october_df, val_memor_october_df], axis=0)"
   ]
  },
  {
   "cell_type": "code",
   "execution_count": 45,
   "id": "6190a8d3-ab98-436b-9b72-ee093aa7d025",
   "metadata": {
    "execution": {
     "iopub.execute_input": "2023-12-20T01:07:19.473480Z",
     "iopub.status.busy": "2023-12-20T01:07:19.472479Z",
     "iopub.status.idle": "2023-12-20T01:07:19.483551Z",
     "shell.execute_reply": "2023-12-20T01:07:19.483551Z",
     "shell.execute_reply.started": "2023-12-20T01:07:19.473480Z"
    }
   },
   "outputs": [],
   "source": [
    "def save_df_to_json(df, base_path, month):\n",
    "    # 파일 경로 설정\n",
    "    folder_path = os.path.join(base_path, month.upper(), \"AAC\", \"라벨링데이터\")\n",
    "\n",
    "    # 폴더가 존재하지 않으면 생성\n",
    "    if not os.path.exists(folder_path):\n",
    "        os.makedirs(folder_path)\n",
    "\n",
    "    # 5000행 단위로 분할\n",
    "    num_splits = math.ceil(len(df) / 5000)\n",
    "    \n",
    "    for i in range(num_splits):\n",
    "        # 분할된 데이터 프레임\n",
    "        split_df = df.iloc[i*5000 : (i+1)*5000]\n",
    "\n",
    "        # JSON 파일로 저장\n",
    "        file_name = f\"{month}_part_{i+1}.json\"\n",
    "        file_path = os.path.join(folder_path, file_name)\n",
    "        split_df.to_json(file_path, orient='records', force_ascii=False, lines=True)\n"
   ]
  },
  {
   "cell_type": "code",
   "execution_count": 46,
   "id": "3eefbba3-edf1-4d44-a166-a8a07a6e4ab5",
   "metadata": {
    "execution": {
     "iopub.execute_input": "2023-12-20T01:07:20.333789Z",
     "iopub.status.busy": "2023-12-20T01:07:20.333789Z",
     "iopub.status.idle": "2023-12-20T01:07:22.531729Z",
     "shell.execute_reply": "2023-12-20T01:07:22.531729Z",
     "shell.execute_reply.started": "2023-12-20T01:07:20.333789Z"
    }
   },
   "outputs": [],
   "source": [
    "save_df_to_json(july_df, 'E:\\\\monthly_ETRI_VOWING_VOICE_DATASET_7_to_10', 'JULY')"
   ]
  },
  {
   "cell_type": "code",
   "execution_count": 47,
   "id": "4cd06815-84ff-4efc-be5b-41b668720930",
   "metadata": {
    "execution": {
     "iopub.execute_input": "2023-12-20T01:08:42.457766Z",
     "iopub.status.busy": "2023-12-20T01:08:42.456766Z",
     "iopub.status.idle": "2023-12-20T01:09:04.068051Z",
     "shell.execute_reply": "2023-12-20T01:09:04.068051Z",
     "shell.execute_reply.started": "2023-12-20T01:08:42.457766Z"
    }
   },
   "outputs": [],
   "source": [
    "save_df_to_json(august_df, 'E:\\\\monthly_ETRI_VOWING_VOICE_DATASET_7_to_10', 'AUGUST')\n",
    "save_df_to_json(september_df, 'E:\\\\monthly_ETRI_VOWING_VOICE_DATASET_7_to_10', 'SEPTEMBER')\n",
    "save_df_to_json(october_df, 'E:\\\\monthly_ETRI_VOWING_VOICE_DATASET_7_to_10', 'OCTOBER')"
   ]
  },
  {
   "cell_type": "code",
   "execution_count": 53,
   "id": "25dd81c7-0ffa-4526-808a-8eee84a8fc4f",
   "metadata": {
    "execution": {
     "iopub.execute_input": "2023-12-21T03:37:34.339505Z",
     "iopub.status.busy": "2023-12-21T03:37:34.339505Z",
     "iopub.status.idle": "2023-12-21T03:37:34.428555Z",
     "shell.execute_reply": "2023-12-21T03:37:34.428555Z",
     "shell.execute_reply.started": "2023-12-21T03:37:34.339505Z"
    }
   },
   "outputs": [
    {
     "data": {
      "text/plain": [
       "accuracy            61534\n",
       "ads_id              61534\n",
       "audio_id            61534\n",
       "birth               61534\n",
       "category            61534\n",
       "description         61534\n",
       "difficulty          61534\n",
       "end_at              61534\n",
       "gender              61534\n",
       "is_passed           61534\n",
       "minimum_accuracy    61534\n",
       "participated_at     61534\n",
       "participation_id    61534\n",
       "recorded_text       61534\n",
       "script              61534\n",
       "signed_up_at        61534\n",
       "start_at            61534\n",
       "title               61534\n",
       "type                61534\n",
       "user_id             61534\n",
       "withdrawn_at        61534\n",
       "dtype: int64"
      ]
     },
     "execution_count": 53,
     "metadata": {},
     "output_type": "execute_result"
    }
   ],
   "source": [
    "july_df.count()"
   ]
  },
  {
   "cell_type": "code",
   "execution_count": 54,
   "id": "c37dbe5d-c727-48e2-a84d-246165f9b83c",
   "metadata": {
    "execution": {
     "iopub.execute_input": "2023-12-21T03:37:56.854100Z",
     "iopub.status.busy": "2023-12-21T03:37:56.854100Z",
     "iopub.status.idle": "2023-12-21T03:37:57.041791Z",
     "shell.execute_reply": "2023-12-21T03:37:57.041791Z",
     "shell.execute_reply.started": "2023-12-21T03:37:56.854100Z"
    }
   },
   "outputs": [
    {
     "data": {
      "text/plain": [
       "accuracy            184178\n",
       "ads_id              184178\n",
       "audio_id            184178\n",
       "birth               184178\n",
       "category            184178\n",
       "description         184178\n",
       "difficulty          184178\n",
       "end_at              184178\n",
       "gender              184178\n",
       "is_passed           184178\n",
       "minimum_accuracy    184178\n",
       "participated_at     184178\n",
       "participation_id    184178\n",
       "recorded_text       184178\n",
       "script              184178\n",
       "signed_up_at        184178\n",
       "start_at            184178\n",
       "title               184178\n",
       "type                184178\n",
       "user_id             184178\n",
       "withdrawn_at        184178\n",
       "dtype: int64"
      ]
     },
     "execution_count": 54,
     "metadata": {},
     "output_type": "execute_result"
    }
   ],
   "source": [
    "august_df.count()"
   ]
  },
  {
   "cell_type": "code",
   "execution_count": 55,
   "id": "820fcd8c-4a29-4ae9-a229-c2e87ab79a2c",
   "metadata": {
    "execution": {
     "iopub.execute_input": "2023-12-21T03:37:57.134049Z",
     "iopub.status.busy": "2023-12-21T03:37:57.133049Z",
     "iopub.status.idle": "2023-12-21T03:37:57.491723Z",
     "shell.execute_reply": "2023-12-21T03:37:57.491723Z",
     "shell.execute_reply.started": "2023-12-21T03:37:57.134049Z"
    }
   },
   "outputs": [
    {
     "data": {
      "text/plain": [
       "accuracy            412220\n",
       "ads_id              412220\n",
       "audio_id            412220\n",
       "birth               412220\n",
       "category            412220\n",
       "description         412220\n",
       "difficulty          412220\n",
       "end_at              412220\n",
       "gender              412220\n",
       "is_passed           412220\n",
       "minimum_accuracy    412220\n",
       "participated_at     412220\n",
       "participation_id    412220\n",
       "recorded_text       412220\n",
       "script              412220\n",
       "signed_up_at        412220\n",
       "start_at            412220\n",
       "title               412220\n",
       "type                412220\n",
       "user_id             412220\n",
       "withdrawn_at        412220\n",
       "dtype: int64"
      ]
     },
     "execution_count": 55,
     "metadata": {},
     "output_type": "execute_result"
    }
   ],
   "source": [
    "september_df.count()"
   ]
  },
  {
   "cell_type": "code",
   "execution_count": 56,
   "id": "4bfc21d0-2302-44cf-a63f-2c2af989de2d",
   "metadata": {
    "execution": {
     "iopub.execute_input": "2023-12-21T03:37:57.493091Z",
     "iopub.status.busy": "2023-12-21T03:37:57.493091Z",
     "iopub.status.idle": "2023-12-21T03:37:57.792412Z",
     "shell.execute_reply": "2023-12-21T03:37:57.792412Z",
     "shell.execute_reply.started": "2023-12-21T03:37:57.493091Z"
    }
   },
   "outputs": [
    {
     "data": {
      "text/plain": [
       "accuracy            348141\n",
       "ads_id              348141\n",
       "audio_id            348141\n",
       "birth               348141\n",
       "category            348141\n",
       "description         348141\n",
       "difficulty          348141\n",
       "end_at              348141\n",
       "gender              348141\n",
       "is_passed           348141\n",
       "minimum_accuracy    348141\n",
       "participated_at     348141\n",
       "participation_id    348141\n",
       "recorded_text       348141\n",
       "script              348141\n",
       "signed_up_at        348141\n",
       "start_at            348141\n",
       "title               348141\n",
       "type                348141\n",
       "user_id             348141\n",
       "withdrawn_at        348141\n",
       "dtype: int64"
      ]
     },
     "execution_count": 56,
     "metadata": {},
     "output_type": "execute_result"
    }
   ],
   "source": [
    "october_df.count()"
   ]
  },
  {
   "cell_type": "code",
   "execution_count": null,
   "id": "738a05f5-cbb5-4a7c-91e7-202acc8703bb",
   "metadata": {},
   "outputs": [],
   "source": []
  }
 ],
 "metadata": {
  "kernelspec": {
   "display_name": "Python 3 (ipykernel)",
   "language": "python",
   "name": "python3"
  },
  "language_info": {
   "codemirror_mode": {
    "name": "ipython",
    "version": 3
   },
   "file_extension": ".py",
   "mimetype": "text/x-python",
   "name": "python",
   "nbconvert_exporter": "python",
   "pygments_lexer": "ipython3",
   "version": "3.10.12"
  }
 },
 "nbformat": 4,
 "nbformat_minor": 5
}
