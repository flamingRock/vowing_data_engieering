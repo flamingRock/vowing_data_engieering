{
 "cells": [
  {
   "cell_type": "code",
   "execution_count": 1,
   "id": "85616294",
   "metadata": {
    "ExecuteTime": {
     "end_time": "2023-09-21T01:50:13.977269Z",
     "start_time": "2023-09-21T01:50:13.411339Z"
    }
   },
   "outputs": [],
   "source": [
    "import pandas as pd\n",
    "import os\n",
    "import shutil"
   ]
  },
  {
   "cell_type": "code",
   "execution_count": 2,
   "id": "e785a769",
   "metadata": {
    "ExecuteTime": {
     "end_time": "2023-09-21T01:50:24.288386Z",
     "start_time": "2023-09-21T01:50:18.809861Z"
    }
   },
   "outputs": [],
   "source": [
    "# 파일을 읽어서 Pandas DataFrame으로 변환\n",
    "file_path = 'D:/DATA_PREPROCESS/FIRESTORE_DATAS/sample_voice_metadata_230918/for_search_metadata_230920.xlsx'\n",
    "df = pd.read_excel(file_path, engine='openpyxl')  # 읽을 파일 형식에 맞게 조정"
   ]
  },
  {
   "cell_type": "markdown",
   "id": "2ddab01b",
   "metadata": {},
   "source": [
    "# sample 1만 데이터에서 20개 샘플 추출하는 코드"
   ]
  },
  {
   "cell_type": "code",
   "execution_count": 5,
   "id": "5772dc06",
   "metadata": {
    "ExecuteTime": {
     "end_time": "2023-09-20T09:01:25.005115Z",
     "start_time": "2023-09-20T09:01:24.940752Z"
    }
   },
   "outputs": [],
   "source": [
    "# # 2. 'collection' 컬럼의 값이 'Point'인 데이터만 필터링\n",
    "# filtered_df = df[df['collection'] == 'Point']\n",
    "\n",
    "# # 3. 필터링된 데이터 중 임의의 20개를 선택\n",
    "# sample_df = filtered_df.sample(n=20, random_state=1)\n",
    "\n",
    "# # 4. 새로운 Parquet 파일로 저장\n",
    "# output_path = 'D:\\\\DATA_PREPROCESS\\\\FIRESTORE_DATAS\\\\sample_voice_metadata_230918\\\\sample_voice_metadata_20_files.parquet'\n",
    "# sample_df.to_parquet(output_path, engine='pyarrow')"
   ]
  },
  {
   "cell_type": "code",
   "execution_count": 3,
   "id": "705e1c88",
   "metadata": {
    "ExecuteTime": {
     "end_time": "2023-09-21T01:54:28.139681Z",
     "start_time": "2023-09-21T01:54:28.131680Z"
    }
   },
   "outputs": [],
   "source": [
    "# # 1. sample_df에서 user_id와 ad_name 값을 가져오기\n",
    "# user_ids = sample_df['user_id'].tolist()\n",
    "# ad_names = sample_df['ad_name'].tolist()\n",
    "\n",
    "# print(f\"user_ids: {user_ids}\")\n",
    "# print(f\"ad_names: {ad_names}\")\n",
    "\n",
    "# # 찾은 파일 개수 초기화\n",
    "# found_files_count = 0\n",
    "\n",
    "# # 2. 원본 폴더에서 해당하는 파일 검색\n",
    "# for root, dirs, files in os.walk(source_folder):\n",
    "#     for file in files:\n",
    "#         user_id = file[:28]  # 첫 28글자는 user_id\n",
    "#         ad_name = file.split('_')[-1].rsplit('.', 1)[0]  # '_' 뒤는 ad_name\n",
    "#         print(f\"file's user_id: {user_id}, ad_name: {ad_name}\")\n",
    "        \n",
    "#         # 3. 검색된 파일을 목적지 폴더로 복사\n",
    "#         if user_id in user_ids and ad_name in ad_names:\n",
    "#             src_path = os.path.join(root, file)\n",
    "#             dest_path = os.path.join(destination_folder, file)\n",
    "#             shutil.copy2(src_path, dest_path)\n",
    "#             found_files_count += 1\n",
    "            \n",
    "#             # 10개의 파일을 찾았다면 루프를 종료\n",
    "#             if found_files_count >= 20:\n",
    "#                 break\n",
    "                \n",
    "#     if found_files_count >= 20:\n",
    "#         break"
   ]
  },
  {
   "cell_type": "markdown",
   "id": "4fa93278",
   "metadata": {},
   "source": [
    "# ad_name 5개, user_id 5개를 랜덤하게 뽑아 추출하는 코드"
   ]
  },
  {
   "cell_type": "code",
   "execution_count": 4,
   "id": "b808b716",
   "metadata": {
    "ExecuteTime": {
     "end_time": "2023-09-21T01:55:17.143225Z",
     "start_time": "2023-09-21T01:55:17.125217Z"
    }
   },
   "outputs": [],
   "source": [
    "# 2. ad_name 5개를 랜덤하게 뽑기\n",
    "sample_ad_names = df['ad_name'].drop_duplicates().sample(5, random_state=1)\n",
    "per_ads_df = df[df['ad_name'].isin(sample_ad_names)]\n",
    "\n",
    "# 4. user_id 5개를 랜덤하게 뽑기\n",
    "sample_user_ids = df['user_id'].drop_duplicates().sample(5, random_state=1)\n",
    "per_users_df = df[df['user_id'].isin(sample_user_ids)]"
   ]
  },
  {
   "cell_type": "code",
   "execution_count": 7,
   "id": "2815f07b",
   "metadata": {
    "ExecuteTime": {
     "end_time": "2023-09-21T02:00:54.642994Z",
     "start_time": "2023-09-21T02:00:54.635992Z"
    }
   },
   "outputs": [
    {
     "name": "stdout",
     "output_type": "stream",
     "text": [
      "ad_name                     69\n",
      "user_id                     69\n",
      "attend                      69\n",
      "is_passed                   69\n",
      "ad_script                   69\n",
      "ad_title                    69\n",
      "birth_year                  69\n",
      "local_code                  69\n",
      "is_test                     69\n",
      "gender                      69\n",
      "job                         69\n",
      "language                    69\n",
      "perfect                     69\n",
      "excepted_age_array          69\n",
      "collection                  69\n",
      "ad_duration                 69\n",
      "level                       69\n",
      "ad_link                     69\n",
      "participant_count           69\n",
      "accuracy_array              69\n",
      "stt_text_array              69\n",
      "created_timestamp_array     69\n",
      "average_accuracy_by_ad      69\n",
      "average_accuracy_by_user    69\n",
      "pass_rate_by_user           69\n",
      "pass_rate_by_ad             69\n",
      "text_length                 69\n",
      "try_count                   69\n",
      "user_avg_tries              69\n",
      "ad_avg_tries                69\n",
      "public_uid                  69\n",
      "voice_id                    69\n",
      "dtype: int64\n",
      "ad_name                     25\n",
      "user_id                     25\n",
      "attend                      25\n",
      "is_passed                   25\n",
      "ad_script                   25\n",
      "ad_title                    25\n",
      "birth_year                  25\n",
      "local_code                  25\n",
      "is_test                     25\n",
      "gender                      25\n",
      "job                         25\n",
      "language                    25\n",
      "perfect                     25\n",
      "excepted_age_array          25\n",
      "collection                  25\n",
      "ad_duration                 25\n",
      "level                       25\n",
      "ad_link                     25\n",
      "participant_count           25\n",
      "accuracy_array              25\n",
      "stt_text_array              25\n",
      "created_timestamp_array     25\n",
      "average_accuracy_by_ad      25\n",
      "average_accuracy_by_user    25\n",
      "pass_rate_by_user           25\n",
      "pass_rate_by_ad             25\n",
      "text_length                 25\n",
      "try_count                   25\n",
      "user_avg_tries              25\n",
      "ad_avg_tries                25\n",
      "public_uid                  25\n",
      "voice_id                    25\n",
      "dtype: int64\n"
     ]
    }
   ],
   "source": [
    "print(per_ads_df.count())\n",
    "print(per_users_df.count())"
   ]
  },
  {
   "cell_type": "code",
   "execution_count": 9,
   "id": "39f36376",
   "metadata": {
    "ExecuteTime": {
     "end_time": "2023-09-21T02:21:47.255257Z",
     "start_time": "2023-09-21T02:21:47.250256Z"
    }
   },
   "outputs": [],
   "source": [
    "# 원본 폴더와 목적지 폴더 경로 설정\n",
    "source_folder = 'D:\\\\DATA_PREPROCESS\\\\FIRESTORE_DATAS\\\\sample_voice_metadata_230918\\\\WAV_FILES'\n",
    "destination_folder = 'D:\\\\DATA_PREPROCESS\\\\FIRESTORE_DATAS\\\\sample_voice_metadata_230918\\\\SAMPLES\\\\sample_files'"
   ]
  },
  {
   "cell_type": "code",
   "execution_count": 6,
   "id": "f9486e9b",
   "metadata": {
    "ExecuteTime": {
     "end_time": "2023-09-21T02:00:19.548958Z",
     "start_time": "2023-09-21T02:00:19.355438Z"
    }
   },
   "outputs": [
    {
     "name": "stdout",
     "output_type": "stream",
     "text": [
      "총 찾고 복사한 파일의 개수: 94\n"
     ]
    }
   ],
   "source": [
    "# 찾은 파일 개수 초기화\n",
    "found_files_count = 0\n",
    "\n",
    "# voice_id를 기반으로 파일을 복사하는 함수\n",
    "def copy_files_based_on_voice_id(df, source_folder, destination_folder, sub_folder):\n",
    "    global found_files_count\n",
    "    \n",
    "    # 목적지 폴더 내의 하위 폴더 경로\n",
    "    dest_sub_folder = os.path.join(destination_folder, sub_folder)\n",
    "    # 하위 폴더가 없다면 생성\n",
    "    if not os.path.exists(dest_sub_folder):\n",
    "        os.makedirs(dest_sub_folder)\n",
    "    \n",
    "    # 데이터프레임에서 voice_id 값을 추출\n",
    "    voice_ids = df['voice_id'].tolist()\n",
    "    \n",
    "    # 원본 폴더에서 파일을 검색\n",
    "    for root, dirs, files in os.walk(source_folder):\n",
    "        for file in files:\n",
    "            # 파일명에서 voice_id를 추출 (확장자를 제외한 전체 파일명이라고 가정)\n",
    "            file_voice_id = file.rsplit('.', 1)[0]\n",
    "            \n",
    "            # voice_id가 일치하면 파일을 목적지 하위 폴더로 복사\n",
    "            if file_voice_id in voice_ids:\n",
    "                src_path = os.path.join(root, file)\n",
    "                dest_path = os.path.join(dest_sub_folder, file)\n",
    "                shutil.copy2(src_path, dest_path)\n",
    "                found_files_count += 1\n",
    "\n",
    "# per_ads_df에 대한 하위 폴더 이름 설정 및 파일 복사\n",
    "copy_files_based_on_voice_id(per_ads_df, source_folder, destination_folder, 'per_ads')\n",
    "# per_users_df에 대한 하위 폴더 이름 설정 및 파일 복사\n",
    "copy_files_based_on_voice_id(per_users_df, source_folder, destination_folder, 'per_users')\n",
    "\n",
    "# 찾고 복사한 파일의 총 개수 출력\n",
    "print(f\"총 찾고 복사한 파일의 개수: {found_files_count}\")\n"
   ]
  },
  {
   "cell_type": "code",
   "execution_count": 11,
   "id": "a711f4c0",
   "metadata": {
    "ExecuteTime": {
     "end_time": "2023-09-21T02:24:22.857801Z",
     "start_time": "2023-09-21T02:24:22.755439Z"
    }
   },
   "outputs": [],
   "source": [
    "# user_id 컬럼을 제거하고 per_ads_df를 Excel 파일로 저장\n",
    "per_ads_df.drop(columns=['user_id']).to_excel(os.path.join(destination_folder, 'per_ads.xlsx'), index=False, engine='openpyxl')\n",
    "per_users_df.drop(columns=['user_id']).to_excel(os.path.join(destination_folder, 'per_users.xlsx'), index=False, engine='openpyxl')"
   ]
  },
  {
   "cell_type": "code",
   "execution_count": null,
   "id": "3bb2784b",
   "metadata": {},
   "outputs": [],
   "source": []
  }
 ],
 "metadata": {
  "kernelspec": {
   "display_name": "Python 3 (ipykernel)",
   "language": "python",
   "name": "python3"
  },
  "language_info": {
   "codemirror_mode": {
    "name": "ipython",
    "version": 3
   },
   "file_extension": ".py",
   "mimetype": "text/x-python",
   "name": "python",
   "nbconvert_exporter": "python",
   "pygments_lexer": "ipython3",
   "version": "3.10.12"
  },
  "toc": {
   "base_numbering": 1,
   "nav_menu": {},
   "number_sections": true,
   "sideBar": true,
   "skip_h1_title": false,
   "title_cell": "Table of Contents",
   "title_sidebar": "Contents",
   "toc_cell": false,
   "toc_position": {},
   "toc_section_display": true,
   "toc_window_display": false
  },
  "varInspector": {
   "cols": {
    "lenName": 16,
    "lenType": 16,
    "lenVar": 40
   },
   "kernels_config": {
    "python": {
     "delete_cmd_postfix": "",
     "delete_cmd_prefix": "del ",
     "library": "var_list.py",
     "varRefreshCmd": "print(var_dic_list())"
    },
    "r": {
     "delete_cmd_postfix": ") ",
     "delete_cmd_prefix": "rm(",
     "library": "var_list.r",
     "varRefreshCmd": "cat(var_dic_list()) "
    }
   },
   "types_to_exclude": [
    "module",
    "function",
    "builtin_function_or_method",
    "instance",
    "_Feature"
   ],
   "window_display": false
  }
 },
 "nbformat": 4,
 "nbformat_minor": 5
}
