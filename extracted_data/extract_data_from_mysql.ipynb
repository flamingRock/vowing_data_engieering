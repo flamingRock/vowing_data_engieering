{
 "cells": [
  {
   "cell_type": "code",
   "execution_count": 1,
   "id": "7d9235a6-c3f4-4c70-9249-08f6a40f5539",
   "metadata": {
    "execution": {
     "iopub.execute_input": "2023-11-23T08:02:22.632564Z",
     "iopub.status.busy": "2023-11-23T08:02:22.632564Z",
     "iopub.status.idle": "2023-11-23T08:02:23.226554Z",
     "shell.execute_reply": "2023-11-23T08:02:23.226327Z",
     "shell.execute_reply.started": "2023-11-23T08:02:22.632564Z"
    }
   },
   "outputs": [],
   "source": [
    "import pyspark\n",
    "from pyspark.sql import SparkSession\n",
    "from pyspark.sql.functions import col, concat, lit, regexp_replace, expr, split, from_json\n",
    "from pyspark.sql.types import ArrayType, IntegerType, StringType, StructType, StructField\n",
    "\n",
    "# import mysql.connector\n",
    "from datetime import datetime\n",
    "\n",
    "import pandas as pd\n",
    "import pymysql\n",
    "import pyarrow as pa\n",
    "import pyarrow.parquet as pq"
   ]
  },
  {
   "cell_type": "code",
   "execution_count": 2,
   "id": "af183668-1893-4de0-a6f1-c9a4cf7dd8dc",
   "metadata": {
    "execution": {
     "iopub.execute_input": "2023-11-23T08:02:24.032329Z",
     "iopub.status.busy": "2023-11-23T08:02:24.031328Z",
     "iopub.status.idle": "2023-11-23T08:02:24.040746Z",
     "shell.execute_reply": "2023-11-23T08:02:24.039746Z",
     "shell.execute_reply.started": "2023-11-23T08:02:24.032329Z"
    }
   },
   "outputs": [],
   "source": [
    "# MySQL 데이터베이스에 연결\n",
    "\n",
    "# MySQL JDBC 드라이버 사용을 위한 설정\n",
    "hostname = \"vowing-database-1.cluster-cuyfo2igvloh.ap-northeast-2.rds.amazonaws.com\"      # MySQL 호스트명\n",
    "port = \"3306\"                   # MySQL 포트 (기본값은 3306)\n",
    "database = \"vowing\"       # 데이터베이스 이름\n",
    "username = \"vowing\"             # 사용자 이름\n",
    "password = \"vowing1234!@\"       # 비밀번호\n",
    "\n",
    "jdbc_url = f\"jdbc:mysql://{hostname}:{port}/{database}?autoReconnect=true&connectTimeout=60000\"\n",
    "connection_properties = {\n",
    "  \"user\" : username,\n",
    "  \"password\" : password,\n",
    "  \"driver\" : \"com.mysql.cj.jdbc.Driver\"\n",
    "}"
   ]
  },
  {
   "cell_type": "code",
   "execution_count": 9,
   "id": "faff019d-355a-44ab-8708-893c5f0b719c",
   "metadata": {
    "execution": {
     "iopub.execute_input": "2023-11-23T08:19:15.666145Z",
     "iopub.status.busy": "2023-11-23T08:19:15.656206Z",
     "iopub.status.idle": "2023-11-23T08:19:15.673520Z",
     "shell.execute_reply": "2023-11-23T08:19:15.673467Z",
     "shell.execute_reply.started": "2023-11-23T08:19:15.666145Z"
    }
   },
   "outputs": [
    {
     "name": "stdout",
     "output_type": "stream",
     "text": [
      "Spark local directory: D:/spark_tmp\n"
     ]
    }
   ],
   "source": [
    "# 가상 환경의 Python 경로를 지정\n",
    "python_path = \"C:/Users/admin/anaconda3/envs/my_conda_01/python.exe\"\n",
    "\n",
    "# Spark 세션 생성\n",
    "spark = SparkSession.builder \\\n",
    "    .appName(\"voice_metadata integrating operation\") \\\n",
    "    .config(\"spark.driver.memory\", \"9g\") \\\n",
    "    .config(\"spark.executor.memory\", \"9g\") \\\n",
    "    .config(\"spark.driver.maxResultSize\", \"5g\") \\\n",
    "    .config(\"spark.pyspark.python\", python_path) \\\n",
    "    .config(\"spark.local.dir\", \"D:/spark_tmp\") \\\n",
    "    .config(\"spark.jars\", \"C:/Program Files/mysql-connector-j-8.2.0/mysql-connector-j-8.2.0.jar\") \\\n",
    "    .getOrCreate()\n",
    "\n",
    "# SparkContext 가져오기\n",
    "sc = spark.sparkContext\n",
    "\n",
    "# Spark 중간 파일이 저장되는 경로 확인\n",
    "current_spark_local_dir = spark.conf.get(\"spark.local.dir\", \"Not Set\")\n",
    "print(\"Spark local directory:\", current_spark_local_dir)"
   ]
  },
  {
   "cell_type": "code",
   "execution_count": 4,
   "id": "55363c67-30ff-46fd-92f7-19aa31487a8b",
   "metadata": {
    "execution": {
     "iopub.execute_input": "2023-11-23T08:02:30.096351Z",
     "iopub.status.busy": "2023-11-23T08:02:30.096351Z",
     "iopub.status.idle": "2023-11-23T08:02:30.107323Z",
     "shell.execute_reply": "2023-11-23T08:02:30.106324Z",
     "shell.execute_reply.started": "2023-11-23T08:02:30.096351Z"
    }
   },
   "outputs": [],
   "source": [
    "# # 데이터베이스 연결 설정\n",
    "# conn = pymysql.connect(\n",
    "#     host=\"vowing-database-1.cluster-cuyfo2igvloh.ap-northeast-2.rds.amazonaws.com\",\n",
    "#     user='vowing',\n",
    "#     password='vowing1234!@',\n",
    "#     db='vowing'\n",
    "# )\n",
    "\n",
    "# # 테이블 데이터를 pandas DataFrame으로 로드\n",
    "# def load_table(table_name):\n",
    "#     sql_query = f\"SELECT * FROM {table_name}\"\n",
    "#     df = pd.read_sql_query(sql_query, conn)\n",
    "#     return df\n",
    "\n",
    "# # '포인트 벌기' 관련 테이블 로드 및 로컬에 Parquet 파일로 저장\n",
    "# ad_df = load_table(\"ad\")\n",
    "# ad_table = pa.Table.from_pandas(ad_df)\n",
    "# pq.write_table(ad_table, 'D:/ad.parquet')\n",
    "\n",
    "# ad_participation_df = load_table(\"ad_participation\")\n",
    "# ad_participation_table = pa.Table.from_pandas(ad_participation_df)\n",
    "# pq.write_table(ad_participation_table, 'D:/ad_participation.parquet')\n",
    "\n",
    "# # '암기플러스' 관련 테이블 로드 및 로컬에 Parquet 파일로 저장\n",
    "# m10n_df = load_table(\"m10n\")\n",
    "# m10n_table = pa.Table.from_pandas(m10n_df)\n",
    "# pq.write_table(m10n_table, 'D:/m10n.parquet')\n",
    "\n",
    "# m10n_participation_df = load_table(\"m10n_participation\")\n",
    "# m10n_participation_table = pa.Table.from_pandas(m10n_participation_df)\n",
    "# pq.write_table(m10n_participation_table, 'D:/m10n_participation.parquet')\n",
    "\n",
    "# # 데이터베이스 연결 종료\n",
    "# conn.close()"
   ]
  },
  {
   "cell_type": "code",
   "execution_count": 1,
   "id": "a20f2fab-67e6-4225-9668-2b9f64d83b3c",
   "metadata": {
    "execution": {
     "iopub.execute_input": "2023-12-28T05:14:54.656440Z",
     "iopub.status.busy": "2023-12-28T05:14:54.655440Z",
     "iopub.status.idle": "2023-12-28T05:14:54.664228Z",
     "shell.execute_reply": "2023-12-28T05:14:54.664153Z",
     "shell.execute_reply.started": "2023-12-28T05:14:54.656440Z"
    }
   },
   "outputs": [],
   "source": [
    "# '포인트 벌기' 관련 테이블들을 로드\n",
    "table_name = \"ad\"\n",
    "ad_df = spark.read.jdbc(url=jdbc_url, table=table_name, properties=connection_properties)\n",
    "table_name = \"ad_participation\"\n",
    "ad_participation_df = spark.read.jdbc(url=jdbc_url, table=table_name, properties=connection_properties)\n",
    "\n",
    "# '암기플러스' 관련 테이블들을 로드\n",
    "table_name = \"m10n\"\n",
    "m10n_df = spark.read.jdbc(url=jdbc_url, table=table_name, properties=connection_properties)\n",
    "table_name = \"m10n_participation\"\n",
    "m10n_participation_df = spark.read.jdbc(url=jdbc_url, table=table_name, properties=connection_properties)"
   ]
  },
  {
   "cell_type": "code",
   "execution_count": null,
   "id": "636eb1fe-7620-4424-8e39-759136e3271a",
   "metadata": {},
   "outputs": [],
   "source": []
  }
 ],
 "metadata": {
  "kernelspec": {
   "display_name": "Python 3 (ipykernel)",
   "language": "python",
   "name": "python3"
  },
  "language_info": {
   "codemirror_mode": {
    "name": "ipython",
    "version": 3
   },
   "file_extension": ".py",
   "mimetype": "text/x-python",
   "name": "python",
   "nbconvert_exporter": "python",
   "pygments_lexer": "ipython3",
   "version": "3.10.12"
  }
 },
 "nbformat": 4,
 "nbformat_minor": 5
}
